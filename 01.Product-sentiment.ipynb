{
 "cells": [
  {
   "cell_type": "markdown",
   "metadata": {},
   "source": [
    "#Predicting sentiment from product reviews\n",
    "\n",
    "#Fire up GraphLab Create"
   ]
  },
  {
   "cell_type": "code",
   "execution_count": 1,
   "metadata": {
    "collapsed": false
   },
   "outputs": [
    {
     "name": "stderr",
     "output_type": "stream",
     "text": [
      "A newer version of GraphLab Create (v1.7.1) is available! Your current version is v1.6.1.\n",
      "\n",
      "You can use pip to upgrade the graphlab-create package. For more information see https://dato.com/products/create/upgrade.\n"
     ]
    }
   ],
   "source": [
    "import graphlab"
   ]
  },
  {
   "cell_type": "code",
   "execution_count": 2,
   "metadata": {
    "collapsed": true
   },
   "outputs": [],
   "source": [
    "graphlab.canvas.set_target('ipynb')"
   ]
  },
  {
   "cell_type": "markdown",
   "metadata": {},
   "source": [
    "#### Read some product review data\n",
    "\n",
    "Loading reviews for a set of baby products. "
   ]
  },
  {
   "cell_type": "code",
   "execution_count": 3,
   "metadata": {
    "collapsed": false
   },
   "outputs": [
    {
     "name": "stderr",
     "output_type": "stream",
     "text": [
      "[INFO] This non-commercial license of GraphLab Create is assigned to dsigd001@fiu.edu and will expire on October 30, 2016. For commercial licensing options, visit https://dato.com/buy/.\n",
      "\n",
      "[INFO] Start server at: ipc:///tmp/graphlab_server-20222 - Server binary: /Users/dibakarsigdel/.graphlab/anaconda/lib/python2.7/site-packages/graphlab/unity_server - Server log: /tmp/graphlab_server_1448040192.log\n",
      "[INFO] GraphLab Server Version: 1.6.1\n"
     ]
    }
   ],
   "source": [
    "products = graphlab.SFrame('amazon_baby.gl/')"
   ]
  },
  {
   "cell_type": "markdown",
   "metadata": {},
   "source": [
    "#### Let's explore this data together\n",
    "\n",
    "Data includes the product name, the review text and the rating of the review. "
   ]
  },
  {
   "cell_type": "code",
   "execution_count": 4,
   "metadata": {
    "collapsed": false,
    "scrolled": true
   },
   "outputs": [
    {
     "data": {
      "text/html": [
       "<div style=\"max-height:1000px;max-width:1500px;overflow:auto;\"><table frame=\"box\" rules=\"cols\">\n",
       "    <tr>\n",
       "        <th style=\"padding-left: 1em; padding-right: 1em; text-align: center\">name</th>\n",
       "        <th style=\"padding-left: 1em; padding-right: 1em; text-align: center\">review</th>\n",
       "        <th style=\"padding-left: 1em; padding-right: 1em; text-align: center\">rating</th>\n",
       "    </tr>\n",
       "    <tr>\n",
       "        <td style=\"padding-left: 1em; padding-right: 1em; text-align: center; vertical-align: top\">Planetwise Flannel Wipes</td>\n",
       "        <td style=\"padding-left: 1em; padding-right: 1em; text-align: center; vertical-align: top\">These flannel wipes are<br>OK, but in my opinion ...</td>\n",
       "        <td style=\"padding-left: 1em; padding-right: 1em; text-align: center; vertical-align: top\">3.0</td>\n",
       "    </tr>\n",
       "</table>\n",
       "[1 rows x 3 columns]<br/>\n",
       "</div>"
      ],
      "text/plain": [
       "Columns:\n",
       "\tname\tstr\n",
       "\treview\tstr\n",
       "\trating\tfloat\n",
       "\n",
       "Rows: 1\n",
       "\n",
       "Data:\n",
       "+--------------------------+-------------------------------+--------+\n",
       "|           name           |             review            | rating |\n",
       "+--------------------------+-------------------------------+--------+\n",
       "| Planetwise Flannel Wipes | These flannel wipes are OK... |  3.0   |\n",
       "+--------------------------+-------------------------------+--------+\n",
       "[1 rows x 3 columns]"
      ]
     },
     "execution_count": 4,
     "metadata": {},
     "output_type": "execute_result"
    }
   ],
   "source": [
    "products.head(1)"
   ]
  },
  {
   "cell_type": "markdown",
   "metadata": {},
   "source": [
    "#### Build the word count vector for each review"
   ]
  },
  {
   "cell_type": "code",
   "execution_count": 5,
   "metadata": {
    "collapsed": true
   },
   "outputs": [],
   "source": [
    "products['word_count'] = graphlab.text_analytics.count_words(products['review'])"
   ]
  },
  {
   "cell_type": "code",
   "execution_count": 6,
   "metadata": {
    "collapsed": false,
    "scrolled": false
   },
   "outputs": [
    {
     "data": {
      "text/html": [
       "<div style=\"max-height:1000px;max-width:1500px;overflow:auto;\"><table frame=\"box\" rules=\"cols\">\n",
       "    <tr>\n",
       "        <th style=\"padding-left: 1em; padding-right: 1em; text-align: center\">name</th>\n",
       "        <th style=\"padding-left: 1em; padding-right: 1em; text-align: center\">review</th>\n",
       "        <th style=\"padding-left: 1em; padding-right: 1em; text-align: center\">rating</th>\n",
       "        <th style=\"padding-left: 1em; padding-right: 1em; text-align: center\">word_count</th>\n",
       "    </tr>\n",
       "    <tr>\n",
       "        <td style=\"padding-left: 1em; padding-right: 1em; text-align: center; vertical-align: top\">Planetwise Flannel Wipes</td>\n",
       "        <td style=\"padding-left: 1em; padding-right: 1em; text-align: center; vertical-align: top\">These flannel wipes are<br>OK, but in my opinion ...</td>\n",
       "        <td style=\"padding-left: 1em; padding-right: 1em; text-align: center; vertical-align: top\">3.0</td>\n",
       "        <td style=\"padding-left: 1em; padding-right: 1em; text-align: center; vertical-align: top\">{'and': 5, '6': 1,<br>'stink': 1, 'because' ...</td>\n",
       "    </tr>\n",
       "</table>\n",
       "[1 rows x 4 columns]<br/>\n",
       "</div>"
      ],
      "text/plain": [
       "Columns:\n",
       "\tname\tstr\n",
       "\treview\tstr\n",
       "\trating\tfloat\n",
       "\tword_count\tdict\n",
       "\n",
       "Rows: 1\n",
       "\n",
       "Data:\n",
       "+--------------------------+-------------------------------+--------+\n",
       "|           name           |             review            | rating |\n",
       "+--------------------------+-------------------------------+--------+\n",
       "| Planetwise Flannel Wipes | These flannel wipes are OK... |  3.0   |\n",
       "+--------------------------+-------------------------------+--------+\n",
       "+-------------------------------+\n",
       "|           word_count          |\n",
       "+-------------------------------+\n",
       "| {'and': 5, '6': 1, 'stink'... |\n",
       "+-------------------------------+\n",
       "[1 rows x 4 columns]"
      ]
     },
     "execution_count": 6,
     "metadata": {},
     "output_type": "execute_result"
    }
   ],
   "source": [
    "products.head(1)"
   ]
  },
  {
   "cell_type": "markdown",
   "metadata": {},
   "source": [
    "#### Selected Words:"
   ]
  },
  {
   "cell_type": "code",
   "execution_count": 7,
   "metadata": {
    "collapsed": true
   },
   "outputs": [],
   "source": [
    "selected_words = ['awesome', 'great', 'fantastic', 'amazing',\\\n",
    "                  'love', 'horrible', 'bad', 'terrible', \\\n",
    "                  'awful', 'wow', 'hate']"
   ]
  },
  {
   "cell_type": "markdown",
   "metadata": {},
   "source": [
    "#### 'awesome' - Counter:"
   ]
  },
  {
   "cell_type": "code",
   "execution_count": 8,
   "metadata": {
    "collapsed": true
   },
   "outputs": [],
   "source": [
    "def awesome_count(dict):\n",
    "    if 'awesome' in dict:\n",
    "         return dict['awesome']\n",
    "    else :\n",
    "          return 0"
   ]
  },
  {
   "cell_type": "code",
   "execution_count": 9,
   "metadata": {
    "collapsed": false
   },
   "outputs": [],
   "source": [
    "products['awesome'] = products['word_count'].apply(awesome_count)"
   ]
  },
  {
   "cell_type": "code",
   "execution_count": 10,
   "metadata": {
    "collapsed": false
   },
   "outputs": [
    {
     "data": {
      "text/html": [
       "<div style=\"max-height:1000px;max-width:1500px;overflow:auto;\"><table frame=\"box\" rules=\"cols\">\n",
       "    <tr>\n",
       "        <th style=\"padding-left: 1em; padding-right: 1em; text-align: center\">name</th>\n",
       "        <th style=\"padding-left: 1em; padding-right: 1em; text-align: center\">review</th>\n",
       "        <th style=\"padding-left: 1em; padding-right: 1em; text-align: center\">rating</th>\n",
       "        <th style=\"padding-left: 1em; padding-right: 1em; text-align: center\">word_count</th>\n",
       "        <th style=\"padding-left: 1em; padding-right: 1em; text-align: center\">awesome</th>\n",
       "    </tr>\n",
       "    <tr>\n",
       "        <td style=\"padding-left: 1em; padding-right: 1em; text-align: center; vertical-align: top\">Planetwise Flannel Wipes</td>\n",
       "        <td style=\"padding-left: 1em; padding-right: 1em; text-align: center; vertical-align: top\">These flannel wipes are<br>OK, but in my opinion ...</td>\n",
       "        <td style=\"padding-left: 1em; padding-right: 1em; text-align: center; vertical-align: top\">3.0</td>\n",
       "        <td style=\"padding-left: 1em; padding-right: 1em; text-align: center; vertical-align: top\">{'and': 5, '6': 1,<br>'stink': 1, 'because' ...</td>\n",
       "        <td style=\"padding-left: 1em; padding-right: 1em; text-align: center; vertical-align: top\">0</td>\n",
       "    </tr>\n",
       "</table>\n",
       "[1 rows x 5 columns]<br/>\n",
       "</div>"
      ],
      "text/plain": [
       "Columns:\n",
       "\tname\tstr\n",
       "\treview\tstr\n",
       "\trating\tfloat\n",
       "\tword_count\tdict\n",
       "\tawesome\tint\n",
       "\n",
       "Rows: 1\n",
       "\n",
       "Data:\n",
       "+--------------------------+-------------------------------+--------+\n",
       "|           name           |             review            | rating |\n",
       "+--------------------------+-------------------------------+--------+\n",
       "| Planetwise Flannel Wipes | These flannel wipes are OK... |  3.0   |\n",
       "+--------------------------+-------------------------------+--------+\n",
       "+-------------------------------+---------+\n",
       "|           word_count          | awesome |\n",
       "+-------------------------------+---------+\n",
       "| {'and': 5, '6': 1, 'stink'... |    0    |\n",
       "+-------------------------------+---------+\n",
       "[1 rows x 5 columns]"
      ]
     },
     "execution_count": 10,
     "metadata": {},
     "output_type": "execute_result"
    }
   ],
   "source": [
    "products.head(1)"
   ]
  },
  {
   "cell_type": "code",
   "execution_count": 11,
   "metadata": {
    "collapsed": false
   },
   "outputs": [
    {
     "data": {
      "text/plain": [
       "2090"
      ]
     },
     "execution_count": 11,
     "metadata": {},
     "output_type": "execute_result"
    }
   ],
   "source": [
    "sum(products['awesome'])"
   ]
  },
  {
   "cell_type": "code",
   "execution_count": 12,
   "metadata": {
    "collapsed": false
   },
   "outputs": [],
   "source": [
    "DD = {'w_awesome': 2090}"
   ]
  },
  {
   "cell_type": "code",
   "execution_count": 13,
   "metadata": {
    "collapsed": false
   },
   "outputs": [
    {
     "data": {
      "text/plain": [
       "{'w_awesome': 2090}"
      ]
     },
     "execution_count": 13,
     "metadata": {},
     "output_type": "execute_result"
    }
   ],
   "source": [
    "DD"
   ]
  },
  {
   "cell_type": "markdown",
   "metadata": {},
   "source": [
    "####  'great' - Counter:"
   ]
  },
  {
   "cell_type": "code",
   "execution_count": 14,
   "metadata": {
    "collapsed": true
   },
   "outputs": [],
   "source": [
    "def great_count(dict):\n",
    "    if 'great' in dict:\n",
    "         return dict['great']\n",
    "    else :\n",
    "          return 0"
   ]
  },
  {
   "cell_type": "code",
   "execution_count": 15,
   "metadata": {
    "collapsed": false,
    "scrolled": true
   },
   "outputs": [],
   "source": [
    "products['great'] = products['word_count'].apply(great_count)"
   ]
  },
  {
   "cell_type": "code",
   "execution_count": 16,
   "metadata": {
    "collapsed": false
   },
   "outputs": [
    {
     "data": {
      "text/html": [
       "<div style=\"max-height:1000px;max-width:1500px;overflow:auto;\"><table frame=\"box\" rules=\"cols\">\n",
       "    <tr>\n",
       "        <th style=\"padding-left: 1em; padding-right: 1em; text-align: center\">name</th>\n",
       "        <th style=\"padding-left: 1em; padding-right: 1em; text-align: center\">review</th>\n",
       "        <th style=\"padding-left: 1em; padding-right: 1em; text-align: center\">rating</th>\n",
       "        <th style=\"padding-left: 1em; padding-right: 1em; text-align: center\">word_count</th>\n",
       "        <th style=\"padding-left: 1em; padding-right: 1em; text-align: center\">awesome</th>\n",
       "        <th style=\"padding-left: 1em; padding-right: 1em; text-align: center\">great</th>\n",
       "    </tr>\n",
       "    <tr>\n",
       "        <td style=\"padding-left: 1em; padding-right: 1em; text-align: center; vertical-align: top\">Planetwise Flannel Wipes</td>\n",
       "        <td style=\"padding-left: 1em; padding-right: 1em; text-align: center; vertical-align: top\">These flannel wipes are<br>OK, but in my opinion ...</td>\n",
       "        <td style=\"padding-left: 1em; padding-right: 1em; text-align: center; vertical-align: top\">3.0</td>\n",
       "        <td style=\"padding-left: 1em; padding-right: 1em; text-align: center; vertical-align: top\">{'and': 5, '6': 1,<br>'stink': 1, 'because' ...</td>\n",
       "        <td style=\"padding-left: 1em; padding-right: 1em; text-align: center; vertical-align: top\">0</td>\n",
       "        <td style=\"padding-left: 1em; padding-right: 1em; text-align: center; vertical-align: top\">0</td>\n",
       "    </tr>\n",
       "</table>\n",
       "[1 rows x 6 columns]<br/>\n",
       "</div>"
      ],
      "text/plain": [
       "Columns:\n",
       "\tname\tstr\n",
       "\treview\tstr\n",
       "\trating\tfloat\n",
       "\tword_count\tdict\n",
       "\tawesome\tint\n",
       "\tgreat\tint\n",
       "\n",
       "Rows: 1\n",
       "\n",
       "Data:\n",
       "+--------------------------+-------------------------------+--------+\n",
       "|           name           |             review            | rating |\n",
       "+--------------------------+-------------------------------+--------+\n",
       "| Planetwise Flannel Wipes | These flannel wipes are OK... |  3.0   |\n",
       "+--------------------------+-------------------------------+--------+\n",
       "+-------------------------------+---------+-------+\n",
       "|           word_count          | awesome | great |\n",
       "+-------------------------------+---------+-------+\n",
       "| {'and': 5, '6': 1, 'stink'... |    0    |   0   |\n",
       "+-------------------------------+---------+-------+\n",
       "[1 rows x 6 columns]"
      ]
     },
     "execution_count": 16,
     "metadata": {},
     "output_type": "execute_result"
    }
   ],
   "source": [
    "products.head(1)"
   ]
  },
  {
   "cell_type": "code",
   "execution_count": 17,
   "metadata": {
    "collapsed": false
   },
   "outputs": [
    {
     "data": {
      "text/plain": [
       "45206"
      ]
     },
     "execution_count": 17,
     "metadata": {},
     "output_type": "execute_result"
    }
   ],
   "source": [
    "sum(products['great'])"
   ]
  },
  {
   "cell_type": "code",
   "execution_count": 18,
   "metadata": {
    "collapsed": false
   },
   "outputs": [],
   "source": [
    "DD.update({'w_great':45206})"
   ]
  },
  {
   "cell_type": "code",
   "execution_count": 19,
   "metadata": {
    "collapsed": false
   },
   "outputs": [
    {
     "data": {
      "text/plain": [
       "{'w_awesome': 2090, 'w_great': 45206}"
      ]
     },
     "execution_count": 19,
     "metadata": {},
     "output_type": "execute_result"
    }
   ],
   "source": [
    "DD"
   ]
  },
  {
   "cell_type": "markdown",
   "metadata": {
    "collapsed": true
   },
   "source": [
    "#### 'fantastic' - Counter"
   ]
  },
  {
   "cell_type": "code",
   "execution_count": 20,
   "metadata": {
    "collapsed": true
   },
   "outputs": [],
   "source": [
    "def fantastic_count(dict):\n",
    "    if 'fantastic' in dict:\n",
    "         return dict['fantastic']\n",
    "    else :\n",
    "          return 0"
   ]
  },
  {
   "cell_type": "code",
   "execution_count": 21,
   "metadata": {
    "collapsed": true
   },
   "outputs": [],
   "source": [
    "products['fantastic'] = products['word_count'].apply(fantastic_count)"
   ]
  },
  {
   "cell_type": "code",
   "execution_count": 22,
   "metadata": {
    "collapsed": false
   },
   "outputs": [
    {
     "data": {
      "text/html": [
       "<div style=\"max-height:1000px;max-width:1500px;overflow:auto;\"><table frame=\"box\" rules=\"cols\">\n",
       "    <tr>\n",
       "        <th style=\"padding-left: 1em; padding-right: 1em; text-align: center\">name</th>\n",
       "        <th style=\"padding-left: 1em; padding-right: 1em; text-align: center\">review</th>\n",
       "        <th style=\"padding-left: 1em; padding-right: 1em; text-align: center\">rating</th>\n",
       "        <th style=\"padding-left: 1em; padding-right: 1em; text-align: center\">word_count</th>\n",
       "        <th style=\"padding-left: 1em; padding-right: 1em; text-align: center\">awesome</th>\n",
       "        <th style=\"padding-left: 1em; padding-right: 1em; text-align: center\">great</th>\n",
       "        <th style=\"padding-left: 1em; padding-right: 1em; text-align: center\">fantastic</th>\n",
       "    </tr>\n",
       "    <tr>\n",
       "        <td style=\"padding-left: 1em; padding-right: 1em; text-align: center; vertical-align: top\">Planetwise Flannel Wipes</td>\n",
       "        <td style=\"padding-left: 1em; padding-right: 1em; text-align: center; vertical-align: top\">These flannel wipes are<br>OK, but in my opinion ...</td>\n",
       "        <td style=\"padding-left: 1em; padding-right: 1em; text-align: center; vertical-align: top\">3.0</td>\n",
       "        <td style=\"padding-left: 1em; padding-right: 1em; text-align: center; vertical-align: top\">{'and': 5, '6': 1,<br>'stink': 1, 'because' ...</td>\n",
       "        <td style=\"padding-left: 1em; padding-right: 1em; text-align: center; vertical-align: top\">0</td>\n",
       "        <td style=\"padding-left: 1em; padding-right: 1em; text-align: center; vertical-align: top\">0</td>\n",
       "        <td style=\"padding-left: 1em; padding-right: 1em; text-align: center; vertical-align: top\">0</td>\n",
       "    </tr>\n",
       "</table>\n",
       "[1 rows x 7 columns]<br/>\n",
       "</div>"
      ],
      "text/plain": [
       "Columns:\n",
       "\tname\tstr\n",
       "\treview\tstr\n",
       "\trating\tfloat\n",
       "\tword_count\tdict\n",
       "\tawesome\tint\n",
       "\tgreat\tint\n",
       "\tfantastic\tint\n",
       "\n",
       "Rows: 1\n",
       "\n",
       "Data:\n",
       "+--------------------------+-------------------------------+--------+\n",
       "|           name           |             review            | rating |\n",
       "+--------------------------+-------------------------------+--------+\n",
       "| Planetwise Flannel Wipes | These flannel wipes are OK... |  3.0   |\n",
       "+--------------------------+-------------------------------+--------+\n",
       "+-------------------------------+---------+-------+-----------+\n",
       "|           word_count          | awesome | great | fantastic |\n",
       "+-------------------------------+---------+-------+-----------+\n",
       "| {'and': 5, '6': 1, 'stink'... |    0    |   0   |     0     |\n",
       "+-------------------------------+---------+-------+-----------+\n",
       "[1 rows x 7 columns]"
      ]
     },
     "execution_count": 22,
     "metadata": {},
     "output_type": "execute_result"
    }
   ],
   "source": [
    "products.head(1)"
   ]
  },
  {
   "cell_type": "code",
   "execution_count": 23,
   "metadata": {
    "collapsed": false
   },
   "outputs": [
    {
     "data": {
      "text/plain": [
       "932"
      ]
     },
     "execution_count": 23,
     "metadata": {},
     "output_type": "execute_result"
    }
   ],
   "source": [
    "sum(products['fantastic'])"
   ]
  },
  {
   "cell_type": "code",
   "execution_count": 24,
   "metadata": {
    "collapsed": true
   },
   "outputs": [],
   "source": [
    "DD.update({'w_fantastic':932})"
   ]
  },
  {
   "cell_type": "code",
   "execution_count": 25,
   "metadata": {
    "collapsed": false
   },
   "outputs": [
    {
     "data": {
      "text/plain": [
       "{'w_awesome': 2090, 'w_fantastic': 932, 'w_great': 45206}"
      ]
     },
     "execution_count": 25,
     "metadata": {},
     "output_type": "execute_result"
    }
   ],
   "source": [
    "DD"
   ]
  },
  {
   "cell_type": "markdown",
   "metadata": {},
   "source": [
    "#### 'amazing'-Counter"
   ]
  },
  {
   "cell_type": "code",
   "execution_count": 26,
   "metadata": {
    "collapsed": true
   },
   "outputs": [],
   "source": [
    "def amazing_count(dict):\n",
    "    if 'amazing' in dict:\n",
    "         return dict['amazing']\n",
    "    else :\n",
    "          return 0"
   ]
  },
  {
   "cell_type": "code",
   "execution_count": 27,
   "metadata": {
    "collapsed": true
   },
   "outputs": [],
   "source": [
    "products['amazing'] = products['word_count'].apply(amazing_count)"
   ]
  },
  {
   "cell_type": "code",
   "execution_count": 28,
   "metadata": {
    "collapsed": false
   },
   "outputs": [
    {
     "data": {
      "text/html": [
       "<div style=\"max-height:1000px;max-width:1500px;overflow:auto;\"><table frame=\"box\" rules=\"cols\">\n",
       "    <tr>\n",
       "        <th style=\"padding-left: 1em; padding-right: 1em; text-align: center\">name</th>\n",
       "        <th style=\"padding-left: 1em; padding-right: 1em; text-align: center\">review</th>\n",
       "        <th style=\"padding-left: 1em; padding-right: 1em; text-align: center\">rating</th>\n",
       "        <th style=\"padding-left: 1em; padding-right: 1em; text-align: center\">word_count</th>\n",
       "        <th style=\"padding-left: 1em; padding-right: 1em; text-align: center\">awesome</th>\n",
       "        <th style=\"padding-left: 1em; padding-right: 1em; text-align: center\">great</th>\n",
       "        <th style=\"padding-left: 1em; padding-right: 1em; text-align: center\">fantastic</th>\n",
       "    </tr>\n",
       "    <tr>\n",
       "        <td style=\"padding-left: 1em; padding-right: 1em; text-align: center; vertical-align: top\">Planetwise Flannel Wipes</td>\n",
       "        <td style=\"padding-left: 1em; padding-right: 1em; text-align: center; vertical-align: top\">These flannel wipes are<br>OK, but in my opinion ...</td>\n",
       "        <td style=\"padding-left: 1em; padding-right: 1em; text-align: center; vertical-align: top\">3.0</td>\n",
       "        <td style=\"padding-left: 1em; padding-right: 1em; text-align: center; vertical-align: top\">{'and': 5, '6': 1,<br>'stink': 1, 'because' ...</td>\n",
       "        <td style=\"padding-left: 1em; padding-right: 1em; text-align: center; vertical-align: top\">0</td>\n",
       "        <td style=\"padding-left: 1em; padding-right: 1em; text-align: center; vertical-align: top\">0</td>\n",
       "        <td style=\"padding-left: 1em; padding-right: 1em; text-align: center; vertical-align: top\">0</td>\n",
       "    </tr>\n",
       "</table>\n",
       "<table frame=\"box\" rules=\"cols\">\n",
       "    <tr>\n",
       "        <th style=\"padding-left: 1em; padding-right: 1em; text-align: center\">amazing</th>\n",
       "    </tr>\n",
       "    <tr>\n",
       "        <td style=\"padding-left: 1em; padding-right: 1em; text-align: center; vertical-align: top\">0</td>\n",
       "    </tr>\n",
       "</table>\n",
       "[1 rows x 8 columns]<br/>\n",
       "</div>"
      ],
      "text/plain": [
       "Columns:\n",
       "\tname\tstr\n",
       "\treview\tstr\n",
       "\trating\tfloat\n",
       "\tword_count\tdict\n",
       "\tawesome\tint\n",
       "\tgreat\tint\n",
       "\tfantastic\tint\n",
       "\tamazing\tint\n",
       "\n",
       "Rows: 1\n",
       "\n",
       "Data:\n",
       "+--------------------------+-------------------------------+--------+\n",
       "|           name           |             review            | rating |\n",
       "+--------------------------+-------------------------------+--------+\n",
       "| Planetwise Flannel Wipes | These flannel wipes are OK... |  3.0   |\n",
       "+--------------------------+-------------------------------+--------+\n",
       "+-------------------------------+---------+-------+-----------+---------+\n",
       "|           word_count          | awesome | great | fantastic | amazing |\n",
       "+-------------------------------+---------+-------+-----------+---------+\n",
       "| {'and': 5, '6': 1, 'stink'... |    0    |   0   |     0     |    0    |\n",
       "+-------------------------------+---------+-------+-----------+---------+\n",
       "[1 rows x 8 columns]"
      ]
     },
     "execution_count": 28,
     "metadata": {},
     "output_type": "execute_result"
    }
   ],
   "source": [
    "products.head(1)"
   ]
  },
  {
   "cell_type": "code",
   "execution_count": 29,
   "metadata": {
    "collapsed": false
   },
   "outputs": [
    {
     "data": {
      "text/plain": [
       "1363"
      ]
     },
     "execution_count": 29,
     "metadata": {},
     "output_type": "execute_result"
    }
   ],
   "source": [
    "sum(products['amazing'])"
   ]
  },
  {
   "cell_type": "code",
   "execution_count": 30,
   "metadata": {
    "collapsed": false
   },
   "outputs": [],
   "source": [
    "DD.update({'w_amazing':1363})"
   ]
  },
  {
   "cell_type": "code",
   "execution_count": 31,
   "metadata": {
    "collapsed": false
   },
   "outputs": [
    {
     "data": {
      "text/plain": [
       "{'w_amazing': 1363, 'w_awesome': 2090, 'w_fantastic': 932, 'w_great': 45206}"
      ]
     },
     "execution_count": 31,
     "metadata": {},
     "output_type": "execute_result"
    }
   ],
   "source": [
    "DD"
   ]
  },
  {
   "cell_type": "markdown",
   "metadata": {
    "collapsed": true
   },
   "source": [
    "#### 'love' -Counter"
   ]
  },
  {
   "cell_type": "code",
   "execution_count": 32,
   "metadata": {
    "collapsed": true
   },
   "outputs": [],
   "source": [
    "def love_count(dict):\n",
    "    if 'love' in dict:\n",
    "         return dict['love']\n",
    "    else :\n",
    "          return 0"
   ]
  },
  {
   "cell_type": "code",
   "execution_count": 33,
   "metadata": {
    "collapsed": true
   },
   "outputs": [],
   "source": [
    "products['love'] = products['word_count'].apply(love_count)"
   ]
  },
  {
   "cell_type": "code",
   "execution_count": 34,
   "metadata": {
    "collapsed": false
   },
   "outputs": [
    {
     "data": {
      "text/html": [
       "<div style=\"max-height:1000px;max-width:1500px;overflow:auto;\"><table frame=\"box\" rules=\"cols\">\n",
       "    <tr>\n",
       "        <th style=\"padding-left: 1em; padding-right: 1em; text-align: center\">name</th>\n",
       "        <th style=\"padding-left: 1em; padding-right: 1em; text-align: center\">review</th>\n",
       "        <th style=\"padding-left: 1em; padding-right: 1em; text-align: center\">rating</th>\n",
       "        <th style=\"padding-left: 1em; padding-right: 1em; text-align: center\">word_count</th>\n",
       "        <th style=\"padding-left: 1em; padding-right: 1em; text-align: center\">awesome</th>\n",
       "        <th style=\"padding-left: 1em; padding-right: 1em; text-align: center\">great</th>\n",
       "        <th style=\"padding-left: 1em; padding-right: 1em; text-align: center\">fantastic</th>\n",
       "    </tr>\n",
       "    <tr>\n",
       "        <td style=\"padding-left: 1em; padding-right: 1em; text-align: center; vertical-align: top\">Planetwise Flannel Wipes</td>\n",
       "        <td style=\"padding-left: 1em; padding-right: 1em; text-align: center; vertical-align: top\">These flannel wipes are<br>OK, but in my opinion ...</td>\n",
       "        <td style=\"padding-left: 1em; padding-right: 1em; text-align: center; vertical-align: top\">3.0</td>\n",
       "        <td style=\"padding-left: 1em; padding-right: 1em; text-align: center; vertical-align: top\">{'and': 5, '6': 1,<br>'stink': 1, 'because' ...</td>\n",
       "        <td style=\"padding-left: 1em; padding-right: 1em; text-align: center; vertical-align: top\">0</td>\n",
       "        <td style=\"padding-left: 1em; padding-right: 1em; text-align: center; vertical-align: top\">0</td>\n",
       "        <td style=\"padding-left: 1em; padding-right: 1em; text-align: center; vertical-align: top\">0</td>\n",
       "    </tr>\n",
       "</table>\n",
       "<table frame=\"box\" rules=\"cols\">\n",
       "    <tr>\n",
       "        <th style=\"padding-left: 1em; padding-right: 1em; text-align: center\">amazing</th>\n",
       "        <th style=\"padding-left: 1em; padding-right: 1em; text-align: center\">love</th>\n",
       "    </tr>\n",
       "    <tr>\n",
       "        <td style=\"padding-left: 1em; padding-right: 1em; text-align: center; vertical-align: top\">0</td>\n",
       "        <td style=\"padding-left: 1em; padding-right: 1em; text-align: center; vertical-align: top\">0</td>\n",
       "    </tr>\n",
       "</table>\n",
       "[1 rows x 9 columns]<br/>\n",
       "</div>"
      ],
      "text/plain": [
       "Columns:\n",
       "\tname\tstr\n",
       "\treview\tstr\n",
       "\trating\tfloat\n",
       "\tword_count\tdict\n",
       "\tawesome\tint\n",
       "\tgreat\tint\n",
       "\tfantastic\tint\n",
       "\tamazing\tint\n",
       "\tlove\tint\n",
       "\n",
       "Rows: 1\n",
       "\n",
       "Data:\n",
       "+--------------------------+-------------------------------+--------+\n",
       "|           name           |             review            | rating |\n",
       "+--------------------------+-------------------------------+--------+\n",
       "| Planetwise Flannel Wipes | These flannel wipes are OK... |  3.0   |\n",
       "+--------------------------+-------------------------------+--------+\n",
       "+-------------------------------+---------+-------+-----------+---------+------+\n",
       "|           word_count          | awesome | great | fantastic | amazing | love |\n",
       "+-------------------------------+---------+-------+-----------+---------+------+\n",
       "| {'and': 5, '6': 1, 'stink'... |    0    |   0   |     0     |    0    |  0   |\n",
       "+-------------------------------+---------+-------+-----------+---------+------+\n",
       "[1 rows x 9 columns]"
      ]
     },
     "execution_count": 34,
     "metadata": {},
     "output_type": "execute_result"
    }
   ],
   "source": [
    "products.head(1)"
   ]
  },
  {
   "cell_type": "code",
   "execution_count": 35,
   "metadata": {
    "collapsed": false
   },
   "outputs": [
    {
     "data": {
      "text/plain": [
       "42065"
      ]
     },
     "execution_count": 35,
     "metadata": {},
     "output_type": "execute_result"
    }
   ],
   "source": [
    "sum(products['love'])"
   ]
  },
  {
   "cell_type": "code",
   "execution_count": 36,
   "metadata": {
    "collapsed": true
   },
   "outputs": [],
   "source": [
    "DD.update({'w_love':42065})"
   ]
  },
  {
   "cell_type": "code",
   "execution_count": 37,
   "metadata": {
    "collapsed": false
   },
   "outputs": [
    {
     "data": {
      "text/plain": [
       "{'w_amazing': 1363,\n",
       " 'w_awesome': 2090,\n",
       " 'w_fantastic': 932,\n",
       " 'w_great': 45206,\n",
       " 'w_love': 42065}"
      ]
     },
     "execution_count": 37,
     "metadata": {},
     "output_type": "execute_result"
    }
   ],
   "source": [
    "DD"
   ]
  },
  {
   "cell_type": "markdown",
   "metadata": {
    "collapsed": true
   },
   "source": [
    "#### 'horrible' - Counter"
   ]
  },
  {
   "cell_type": "code",
   "execution_count": 38,
   "metadata": {
    "collapsed": true
   },
   "outputs": [],
   "source": [
    "def horrible_count(dict):\n",
    "    if 'horrible' in dict:\n",
    "         return dict['horrible']\n",
    "    else :\n",
    "          return 0"
   ]
  },
  {
   "cell_type": "code",
   "execution_count": 39,
   "metadata": {
    "collapsed": true
   },
   "outputs": [],
   "source": [
    "products['horrible'] = products['word_count'].apply(horrible_count)"
   ]
  },
  {
   "cell_type": "code",
   "execution_count": 40,
   "metadata": {
    "collapsed": false
   },
   "outputs": [
    {
     "data": {
      "text/html": [
       "<div style=\"max-height:1000px;max-width:1500px;overflow:auto;\"><table frame=\"box\" rules=\"cols\">\n",
       "    <tr>\n",
       "        <th style=\"padding-left: 1em; padding-right: 1em; text-align: center\">name</th>\n",
       "        <th style=\"padding-left: 1em; padding-right: 1em; text-align: center\">review</th>\n",
       "        <th style=\"padding-left: 1em; padding-right: 1em; text-align: center\">rating</th>\n",
       "        <th style=\"padding-left: 1em; padding-right: 1em; text-align: center\">word_count</th>\n",
       "        <th style=\"padding-left: 1em; padding-right: 1em; text-align: center\">awesome</th>\n",
       "        <th style=\"padding-left: 1em; padding-right: 1em; text-align: center\">great</th>\n",
       "        <th style=\"padding-left: 1em; padding-right: 1em; text-align: center\">fantastic</th>\n",
       "    </tr>\n",
       "    <tr>\n",
       "        <td style=\"padding-left: 1em; padding-right: 1em; text-align: center; vertical-align: top\">Planetwise Flannel Wipes</td>\n",
       "        <td style=\"padding-left: 1em; padding-right: 1em; text-align: center; vertical-align: top\">These flannel wipes are<br>OK, but in my opinion ...</td>\n",
       "        <td style=\"padding-left: 1em; padding-right: 1em; text-align: center; vertical-align: top\">3.0</td>\n",
       "        <td style=\"padding-left: 1em; padding-right: 1em; text-align: center; vertical-align: top\">{'and': 5, '6': 1,<br>'stink': 1, 'because' ...</td>\n",
       "        <td style=\"padding-left: 1em; padding-right: 1em; text-align: center; vertical-align: top\">0</td>\n",
       "        <td style=\"padding-left: 1em; padding-right: 1em; text-align: center; vertical-align: top\">0</td>\n",
       "        <td style=\"padding-left: 1em; padding-right: 1em; text-align: center; vertical-align: top\">0</td>\n",
       "    </tr>\n",
       "</table>\n",
       "<table frame=\"box\" rules=\"cols\">\n",
       "    <tr>\n",
       "        <th style=\"padding-left: 1em; padding-right: 1em; text-align: center\">amazing</th>\n",
       "        <th style=\"padding-left: 1em; padding-right: 1em; text-align: center\">love</th>\n",
       "        <th style=\"padding-left: 1em; padding-right: 1em; text-align: center\">horrible</th>\n",
       "    </tr>\n",
       "    <tr>\n",
       "        <td style=\"padding-left: 1em; padding-right: 1em; text-align: center; vertical-align: top\">0</td>\n",
       "        <td style=\"padding-left: 1em; padding-right: 1em; text-align: center; vertical-align: top\">0</td>\n",
       "        <td style=\"padding-left: 1em; padding-right: 1em; text-align: center; vertical-align: top\">0</td>\n",
       "    </tr>\n",
       "</table>\n",
       "[1 rows x 10 columns]<br/>\n",
       "</div>"
      ],
      "text/plain": [
       "Columns:\n",
       "\tname\tstr\n",
       "\treview\tstr\n",
       "\trating\tfloat\n",
       "\tword_count\tdict\n",
       "\tawesome\tint\n",
       "\tgreat\tint\n",
       "\tfantastic\tint\n",
       "\tamazing\tint\n",
       "\tlove\tint\n",
       "\thorrible\tint\n",
       "\n",
       "Rows: 1\n",
       "\n",
       "Data:\n",
       "+--------------------------+-------------------------------+--------+\n",
       "|           name           |             review            | rating |\n",
       "+--------------------------+-------------------------------+--------+\n",
       "| Planetwise Flannel Wipes | These flannel wipes are OK... |  3.0   |\n",
       "+--------------------------+-------------------------------+--------+\n",
       "+-------------------------------+---------+-------+-----------+---------+------+\n",
       "|           word_count          | awesome | great | fantastic | amazing | love |\n",
       "+-------------------------------+---------+-------+-----------+---------+------+\n",
       "| {'and': 5, '6': 1, 'stink'... |    0    |   0   |     0     |    0    |  0   |\n",
       "+-------------------------------+---------+-------+-----------+---------+------+\n",
       "+----------+\n",
       "| horrible |\n",
       "+----------+\n",
       "|    0     |\n",
       "+----------+\n",
       "[1 rows x 10 columns]"
      ]
     },
     "execution_count": 40,
     "metadata": {},
     "output_type": "execute_result"
    }
   ],
   "source": [
    "products.head(1)"
   ]
  },
  {
   "cell_type": "code",
   "execution_count": 41,
   "metadata": {
    "collapsed": false
   },
   "outputs": [
    {
     "data": {
      "text/plain": [
       "734"
      ]
     },
     "execution_count": 41,
     "metadata": {},
     "output_type": "execute_result"
    }
   ],
   "source": [
    "sum(products['horrible'])"
   ]
  },
  {
   "cell_type": "code",
   "execution_count": 42,
   "metadata": {
    "collapsed": true
   },
   "outputs": [],
   "source": [
    "DD.update({'w_horrible': 734})"
   ]
  },
  {
   "cell_type": "code",
   "execution_count": 43,
   "metadata": {
    "collapsed": false
   },
   "outputs": [
    {
     "data": {
      "text/plain": [
       "{'w_amazing': 1363,\n",
       " 'w_awesome': 2090,\n",
       " 'w_fantastic': 932,\n",
       " 'w_great': 45206,\n",
       " 'w_horrible': 734,\n",
       " 'w_love': 42065}"
      ]
     },
     "execution_count": 43,
     "metadata": {},
     "output_type": "execute_result"
    }
   ],
   "source": [
    "DD"
   ]
  },
  {
   "cell_type": "markdown",
   "metadata": {
    "collapsed": true
   },
   "source": [
    "#### 'bad' - Counter"
   ]
  },
  {
   "cell_type": "code",
   "execution_count": 44,
   "metadata": {
    "collapsed": true
   },
   "outputs": [],
   "source": [
    "def bad_count(dict):\n",
    "    if 'bad' in dict:\n",
    "         return dict['bad']\n",
    "    else :\n",
    "          return 0"
   ]
  },
  {
   "cell_type": "code",
   "execution_count": 45,
   "metadata": {
    "collapsed": true
   },
   "outputs": [],
   "source": [
    "products['bad'] = products['word_count'].apply(bad_count)"
   ]
  },
  {
   "cell_type": "code",
   "execution_count": 46,
   "metadata": {
    "collapsed": false
   },
   "outputs": [
    {
     "data": {
      "text/html": [
       "<div style=\"max-height:1000px;max-width:1500px;overflow:auto;\"><table frame=\"box\" rules=\"cols\">\n",
       "    <tr>\n",
       "        <th style=\"padding-left: 1em; padding-right: 1em; text-align: center\">name</th>\n",
       "        <th style=\"padding-left: 1em; padding-right: 1em; text-align: center\">review</th>\n",
       "        <th style=\"padding-left: 1em; padding-right: 1em; text-align: center\">rating</th>\n",
       "        <th style=\"padding-left: 1em; padding-right: 1em; text-align: center\">word_count</th>\n",
       "        <th style=\"padding-left: 1em; padding-right: 1em; text-align: center\">awesome</th>\n",
       "        <th style=\"padding-left: 1em; padding-right: 1em; text-align: center\">great</th>\n",
       "        <th style=\"padding-left: 1em; padding-right: 1em; text-align: center\">fantastic</th>\n",
       "    </tr>\n",
       "    <tr>\n",
       "        <td style=\"padding-left: 1em; padding-right: 1em; text-align: center; vertical-align: top\">Planetwise Flannel Wipes</td>\n",
       "        <td style=\"padding-left: 1em; padding-right: 1em; text-align: center; vertical-align: top\">These flannel wipes are<br>OK, but in my opinion ...</td>\n",
       "        <td style=\"padding-left: 1em; padding-right: 1em; text-align: center; vertical-align: top\">3.0</td>\n",
       "        <td style=\"padding-left: 1em; padding-right: 1em; text-align: center; vertical-align: top\">{'and': 5, '6': 1,<br>'stink': 1, 'because' ...</td>\n",
       "        <td style=\"padding-left: 1em; padding-right: 1em; text-align: center; vertical-align: top\">0</td>\n",
       "        <td style=\"padding-left: 1em; padding-right: 1em; text-align: center; vertical-align: top\">0</td>\n",
       "        <td style=\"padding-left: 1em; padding-right: 1em; text-align: center; vertical-align: top\">0</td>\n",
       "    </tr>\n",
       "</table>\n",
       "<table frame=\"box\" rules=\"cols\">\n",
       "    <tr>\n",
       "        <th style=\"padding-left: 1em; padding-right: 1em; text-align: center\">amazing</th>\n",
       "        <th style=\"padding-left: 1em; padding-right: 1em; text-align: center\">love</th>\n",
       "        <th style=\"padding-left: 1em; padding-right: 1em; text-align: center\">horrible</th>\n",
       "        <th style=\"padding-left: 1em; padding-right: 1em; text-align: center\">bad</th>\n",
       "    </tr>\n",
       "    <tr>\n",
       "        <td style=\"padding-left: 1em; padding-right: 1em; text-align: center; vertical-align: top\">0</td>\n",
       "        <td style=\"padding-left: 1em; padding-right: 1em; text-align: center; vertical-align: top\">0</td>\n",
       "        <td style=\"padding-left: 1em; padding-right: 1em; text-align: center; vertical-align: top\">0</td>\n",
       "        <td style=\"padding-left: 1em; padding-right: 1em; text-align: center; vertical-align: top\">0</td>\n",
       "    </tr>\n",
       "</table>\n",
       "[1 rows x 11 columns]<br/>\n",
       "</div>"
      ],
      "text/plain": [
       "Columns:\n",
       "\tname\tstr\n",
       "\treview\tstr\n",
       "\trating\tfloat\n",
       "\tword_count\tdict\n",
       "\tawesome\tint\n",
       "\tgreat\tint\n",
       "\tfantastic\tint\n",
       "\tamazing\tint\n",
       "\tlove\tint\n",
       "\thorrible\tint\n",
       "\tbad\tint\n",
       "\n",
       "Rows: 1\n",
       "\n",
       "Data:\n",
       "+--------------------------+-------------------------------+--------+\n",
       "|           name           |             review            | rating |\n",
       "+--------------------------+-------------------------------+--------+\n",
       "| Planetwise Flannel Wipes | These flannel wipes are OK... |  3.0   |\n",
       "+--------------------------+-------------------------------+--------+\n",
       "+-------------------------------+---------+-------+-----------+---------+------+\n",
       "|           word_count          | awesome | great | fantastic | amazing | love |\n",
       "+-------------------------------+---------+-------+-----------+---------+------+\n",
       "| {'and': 5, '6': 1, 'stink'... |    0    |   0   |     0     |    0    |  0   |\n",
       "+-------------------------------+---------+-------+-----------+---------+------+\n",
       "+----------+-----+\n",
       "| horrible | bad |\n",
       "+----------+-----+\n",
       "|    0     |  0  |\n",
       "+----------+-----+\n",
       "[1 rows x 11 columns]"
      ]
     },
     "execution_count": 46,
     "metadata": {},
     "output_type": "execute_result"
    }
   ],
   "source": [
    "products.head(1)"
   ]
  },
  {
   "cell_type": "code",
   "execution_count": 47,
   "metadata": {
    "collapsed": false
   },
   "outputs": [
    {
     "data": {
      "text/plain": [
       "3724"
      ]
     },
     "execution_count": 47,
     "metadata": {},
     "output_type": "execute_result"
    }
   ],
   "source": [
    "sum(products['bad'])"
   ]
  },
  {
   "cell_type": "code",
   "execution_count": 48,
   "metadata": {
    "collapsed": true
   },
   "outputs": [],
   "source": [
    "DD.update({'w_bad':3724})"
   ]
  },
  {
   "cell_type": "code",
   "execution_count": 49,
   "metadata": {
    "collapsed": false
   },
   "outputs": [
    {
     "data": {
      "text/plain": [
       "{'w_amazing': 1363,\n",
       " 'w_awesome': 2090,\n",
       " 'w_bad': 3724,\n",
       " 'w_fantastic': 932,\n",
       " 'w_great': 45206,\n",
       " 'w_horrible': 734,\n",
       " 'w_love': 42065}"
      ]
     },
     "execution_count": 49,
     "metadata": {},
     "output_type": "execute_result"
    }
   ],
   "source": [
    "DD"
   ]
  },
  {
   "cell_type": "markdown",
   "metadata": {
    "collapsed": true
   },
   "source": [
    "#### 'terrible' - Counter"
   ]
  },
  {
   "cell_type": "code",
   "execution_count": 50,
   "metadata": {
    "collapsed": true
   },
   "outputs": [],
   "source": [
    "def terrible_count(dict):\n",
    "    if 'terrible' in dict:\n",
    "         return dict['terrible']\n",
    "    else :\n",
    "          return 0"
   ]
  },
  {
   "cell_type": "code",
   "execution_count": 51,
   "metadata": {
    "collapsed": true
   },
   "outputs": [],
   "source": [
    "products['terrible'] = products['word_count'].apply(terrible_count)"
   ]
  },
  {
   "cell_type": "code",
   "execution_count": 52,
   "metadata": {
    "collapsed": false
   },
   "outputs": [
    {
     "data": {
      "text/html": [
       "<div style=\"max-height:1000px;max-width:1500px;overflow:auto;\"><table frame=\"box\" rules=\"cols\">\n",
       "    <tr>\n",
       "        <th style=\"padding-left: 1em; padding-right: 1em; text-align: center\">name</th>\n",
       "        <th style=\"padding-left: 1em; padding-right: 1em; text-align: center\">review</th>\n",
       "        <th style=\"padding-left: 1em; padding-right: 1em; text-align: center\">rating</th>\n",
       "        <th style=\"padding-left: 1em; padding-right: 1em; text-align: center\">word_count</th>\n",
       "        <th style=\"padding-left: 1em; padding-right: 1em; text-align: center\">awesome</th>\n",
       "        <th style=\"padding-left: 1em; padding-right: 1em; text-align: center\">great</th>\n",
       "        <th style=\"padding-left: 1em; padding-right: 1em; text-align: center\">fantastic</th>\n",
       "    </tr>\n",
       "    <tr>\n",
       "        <td style=\"padding-left: 1em; padding-right: 1em; text-align: center; vertical-align: top\">Planetwise Flannel Wipes</td>\n",
       "        <td style=\"padding-left: 1em; padding-right: 1em; text-align: center; vertical-align: top\">These flannel wipes are<br>OK, but in my opinion ...</td>\n",
       "        <td style=\"padding-left: 1em; padding-right: 1em; text-align: center; vertical-align: top\">3.0</td>\n",
       "        <td style=\"padding-left: 1em; padding-right: 1em; text-align: center; vertical-align: top\">{'and': 5, '6': 1,<br>'stink': 1, 'because' ...</td>\n",
       "        <td style=\"padding-left: 1em; padding-right: 1em; text-align: center; vertical-align: top\">0</td>\n",
       "        <td style=\"padding-left: 1em; padding-right: 1em; text-align: center; vertical-align: top\">0</td>\n",
       "        <td style=\"padding-left: 1em; padding-right: 1em; text-align: center; vertical-align: top\">0</td>\n",
       "    </tr>\n",
       "</table>\n",
       "<table frame=\"box\" rules=\"cols\">\n",
       "    <tr>\n",
       "        <th style=\"padding-left: 1em; padding-right: 1em; text-align: center\">amazing</th>\n",
       "        <th style=\"padding-left: 1em; padding-right: 1em; text-align: center\">love</th>\n",
       "        <th style=\"padding-left: 1em; padding-right: 1em; text-align: center\">horrible</th>\n",
       "        <th style=\"padding-left: 1em; padding-right: 1em; text-align: center\">bad</th>\n",
       "        <th style=\"padding-left: 1em; padding-right: 1em; text-align: center\">terrible</th>\n",
       "    </tr>\n",
       "    <tr>\n",
       "        <td style=\"padding-left: 1em; padding-right: 1em; text-align: center; vertical-align: top\">0</td>\n",
       "        <td style=\"padding-left: 1em; padding-right: 1em; text-align: center; vertical-align: top\">0</td>\n",
       "        <td style=\"padding-left: 1em; padding-right: 1em; text-align: center; vertical-align: top\">0</td>\n",
       "        <td style=\"padding-left: 1em; padding-right: 1em; text-align: center; vertical-align: top\">0</td>\n",
       "        <td style=\"padding-left: 1em; padding-right: 1em; text-align: center; vertical-align: top\">0</td>\n",
       "    </tr>\n",
       "</table>\n",
       "[1 rows x 12 columns]<br/>\n",
       "</div>"
      ],
      "text/plain": [
       "Columns:\n",
       "\tname\tstr\n",
       "\treview\tstr\n",
       "\trating\tfloat\n",
       "\tword_count\tdict\n",
       "\tawesome\tint\n",
       "\tgreat\tint\n",
       "\tfantastic\tint\n",
       "\tamazing\tint\n",
       "\tlove\tint\n",
       "\thorrible\tint\n",
       "\tbad\tint\n",
       "\tterrible\tint\n",
       "\n",
       "Rows: 1\n",
       "\n",
       "Data:\n",
       "+--------------------------+-------------------------------+--------+\n",
       "|           name           |             review            | rating |\n",
       "+--------------------------+-------------------------------+--------+\n",
       "| Planetwise Flannel Wipes | These flannel wipes are OK... |  3.0   |\n",
       "+--------------------------+-------------------------------+--------+\n",
       "+-------------------------------+---------+-------+-----------+---------+------+\n",
       "|           word_count          | awesome | great | fantastic | amazing | love |\n",
       "+-------------------------------+---------+-------+-----------+---------+------+\n",
       "| {'and': 5, '6': 1, 'stink'... |    0    |   0   |     0     |    0    |  0   |\n",
       "+-------------------------------+---------+-------+-----------+---------+------+\n",
       "+----------+-----+----------+\n",
       "| horrible | bad | terrible |\n",
       "+----------+-----+----------+\n",
       "|    0     |  0  |    0     |\n",
       "+----------+-----+----------+\n",
       "[1 rows x 12 columns]"
      ]
     },
     "execution_count": 52,
     "metadata": {},
     "output_type": "execute_result"
    }
   ],
   "source": [
    "products.head(1)"
   ]
  },
  {
   "cell_type": "code",
   "execution_count": 53,
   "metadata": {
    "collapsed": false
   },
   "outputs": [
    {
     "data": {
      "text/plain": [
       "748"
      ]
     },
     "execution_count": 53,
     "metadata": {},
     "output_type": "execute_result"
    }
   ],
   "source": [
    "sum(products['terrible'])"
   ]
  },
  {
   "cell_type": "code",
   "execution_count": 54,
   "metadata": {
    "collapsed": true
   },
   "outputs": [],
   "source": [
    "DD.update({'w_terrible':748})"
   ]
  },
  {
   "cell_type": "code",
   "execution_count": 55,
   "metadata": {
    "collapsed": false
   },
   "outputs": [
    {
     "data": {
      "text/plain": [
       "{'w_amazing': 1363,\n",
       " 'w_awesome': 2090,\n",
       " 'w_bad': 3724,\n",
       " 'w_fantastic': 932,\n",
       " 'w_great': 45206,\n",
       " 'w_horrible': 734,\n",
       " 'w_love': 42065,\n",
       " 'w_terrible': 748}"
      ]
     },
     "execution_count": 55,
     "metadata": {},
     "output_type": "execute_result"
    }
   ],
   "source": [
    "DD"
   ]
  },
  {
   "cell_type": "markdown",
   "metadata": {
    "collapsed": true
   },
   "source": [
    "#### 'awful' - Counter"
   ]
  },
  {
   "cell_type": "code",
   "execution_count": 56,
   "metadata": {
    "collapsed": true
   },
   "outputs": [],
   "source": [
    "def awful_count(dict):\n",
    "    if 'awful' in dict:\n",
    "         return dict['awful']\n",
    "    else :\n",
    "          return 0"
   ]
  },
  {
   "cell_type": "code",
   "execution_count": 57,
   "metadata": {
    "collapsed": true
   },
   "outputs": [],
   "source": [
    "products['awful'] = products['word_count'].apply(awful_count)"
   ]
  },
  {
   "cell_type": "code",
   "execution_count": 58,
   "metadata": {
    "collapsed": false
   },
   "outputs": [
    {
     "data": {
      "text/html": [
       "<div style=\"max-height:1000px;max-width:1500px;overflow:auto;\"><table frame=\"box\" rules=\"cols\">\n",
       "    <tr>\n",
       "        <th style=\"padding-left: 1em; padding-right: 1em; text-align: center\">name</th>\n",
       "        <th style=\"padding-left: 1em; padding-right: 1em; text-align: center\">review</th>\n",
       "        <th style=\"padding-left: 1em; padding-right: 1em; text-align: center\">rating</th>\n",
       "        <th style=\"padding-left: 1em; padding-right: 1em; text-align: center\">word_count</th>\n",
       "        <th style=\"padding-left: 1em; padding-right: 1em; text-align: center\">awesome</th>\n",
       "        <th style=\"padding-left: 1em; padding-right: 1em; text-align: center\">great</th>\n",
       "        <th style=\"padding-left: 1em; padding-right: 1em; text-align: center\">fantastic</th>\n",
       "    </tr>\n",
       "    <tr>\n",
       "        <td style=\"padding-left: 1em; padding-right: 1em; text-align: center; vertical-align: top\">Planetwise Flannel Wipes</td>\n",
       "        <td style=\"padding-left: 1em; padding-right: 1em; text-align: center; vertical-align: top\">These flannel wipes are<br>OK, but in my opinion ...</td>\n",
       "        <td style=\"padding-left: 1em; padding-right: 1em; text-align: center; vertical-align: top\">3.0</td>\n",
       "        <td style=\"padding-left: 1em; padding-right: 1em; text-align: center; vertical-align: top\">{'and': 5, '6': 1,<br>'stink': 1, 'because' ...</td>\n",
       "        <td style=\"padding-left: 1em; padding-right: 1em; text-align: center; vertical-align: top\">0</td>\n",
       "        <td style=\"padding-left: 1em; padding-right: 1em; text-align: center; vertical-align: top\">0</td>\n",
       "        <td style=\"padding-left: 1em; padding-right: 1em; text-align: center; vertical-align: top\">0</td>\n",
       "    </tr>\n",
       "</table>\n",
       "<table frame=\"box\" rules=\"cols\">\n",
       "    <tr>\n",
       "        <th style=\"padding-left: 1em; padding-right: 1em; text-align: center\">amazing</th>\n",
       "        <th style=\"padding-left: 1em; padding-right: 1em; text-align: center\">love</th>\n",
       "        <th style=\"padding-left: 1em; padding-right: 1em; text-align: center\">horrible</th>\n",
       "        <th style=\"padding-left: 1em; padding-right: 1em; text-align: center\">bad</th>\n",
       "        <th style=\"padding-left: 1em; padding-right: 1em; text-align: center\">terrible</th>\n",
       "        <th style=\"padding-left: 1em; padding-right: 1em; text-align: center\">awful</th>\n",
       "    </tr>\n",
       "    <tr>\n",
       "        <td style=\"padding-left: 1em; padding-right: 1em; text-align: center; vertical-align: top\">0</td>\n",
       "        <td style=\"padding-left: 1em; padding-right: 1em; text-align: center; vertical-align: top\">0</td>\n",
       "        <td style=\"padding-left: 1em; padding-right: 1em; text-align: center; vertical-align: top\">0</td>\n",
       "        <td style=\"padding-left: 1em; padding-right: 1em; text-align: center; vertical-align: top\">0</td>\n",
       "        <td style=\"padding-left: 1em; padding-right: 1em; text-align: center; vertical-align: top\">0</td>\n",
       "        <td style=\"padding-left: 1em; padding-right: 1em; text-align: center; vertical-align: top\">0</td>\n",
       "    </tr>\n",
       "</table>\n",
       "[1 rows x 13 columns]<br/>\n",
       "</div>"
      ],
      "text/plain": [
       "Columns:\n",
       "\tname\tstr\n",
       "\treview\tstr\n",
       "\trating\tfloat\n",
       "\tword_count\tdict\n",
       "\tawesome\tint\n",
       "\tgreat\tint\n",
       "\tfantastic\tint\n",
       "\tamazing\tint\n",
       "\tlove\tint\n",
       "\thorrible\tint\n",
       "\tbad\tint\n",
       "\tterrible\tint\n",
       "\tawful\tint\n",
       "\n",
       "Rows: 1\n",
       "\n",
       "Data:\n",
       "+--------------------------+-------------------------------+--------+\n",
       "|           name           |             review            | rating |\n",
       "+--------------------------+-------------------------------+--------+\n",
       "| Planetwise Flannel Wipes | These flannel wipes are OK... |  3.0   |\n",
       "+--------------------------+-------------------------------+--------+\n",
       "+-------------------------------+---------+-------+-----------+---------+------+\n",
       "|           word_count          | awesome | great | fantastic | amazing | love |\n",
       "+-------------------------------+---------+-------+-----------+---------+------+\n",
       "| {'and': 5, '6': 1, 'stink'... |    0    |   0   |     0     |    0    |  0   |\n",
       "+-------------------------------+---------+-------+-----------+---------+------+\n",
       "+----------+-----+----------+-------+\n",
       "| horrible | bad | terrible | awful |\n",
       "+----------+-----+----------+-------+\n",
       "|    0     |  0  |    0     |   0   |\n",
       "+----------+-----+----------+-------+\n",
       "[1 rows x 13 columns]"
      ]
     },
     "execution_count": 58,
     "metadata": {},
     "output_type": "execute_result"
    }
   ],
   "source": [
    "products.head(1)"
   ]
  },
  {
   "cell_type": "code",
   "execution_count": 59,
   "metadata": {
    "collapsed": false
   },
   "outputs": [],
   "source": [
    "sm = sum(products['awful'])"
   ]
  },
  {
   "cell_type": "code",
   "execution_count": 60,
   "metadata": {
    "collapsed": false
   },
   "outputs": [],
   "source": [
    "DD.update({'w_awful': sm})"
   ]
  },
  {
   "cell_type": "code",
   "execution_count": 61,
   "metadata": {
    "collapsed": false
   },
   "outputs": [
    {
     "data": {
      "text/plain": [
       "{'w_amazing': 1363,\n",
       " 'w_awesome': 2090,\n",
       " 'w_awful': 383,\n",
       " 'w_bad': 3724,\n",
       " 'w_fantastic': 932,\n",
       " 'w_great': 45206,\n",
       " 'w_horrible': 734,\n",
       " 'w_love': 42065,\n",
       " 'w_terrible': 748}"
      ]
     },
     "execution_count": 61,
     "metadata": {},
     "output_type": "execute_result"
    }
   ],
   "source": [
    "DD"
   ]
  },
  {
   "cell_type": "markdown",
   "metadata": {},
   "source": [
    "#### 'hate' - Counter"
   ]
  },
  {
   "cell_type": "code",
   "execution_count": 62,
   "metadata": {
    "collapsed": true
   },
   "outputs": [],
   "source": [
    "def hate_count(dict):\n",
    "    if 'hate' in dict:\n",
    "         return dict['hate']\n",
    "    else :\n",
    "          return 0"
   ]
  },
  {
   "cell_type": "code",
   "execution_count": 63,
   "metadata": {
    "collapsed": true
   },
   "outputs": [],
   "source": [
    "products['hate'] = products['word_count'].apply(hate_count)"
   ]
  },
  {
   "cell_type": "code",
   "execution_count": 64,
   "metadata": {
    "collapsed": false
   },
   "outputs": [
    {
     "data": {
      "text/html": [
       "<div style=\"max-height:1000px;max-width:1500px;overflow:auto;\"><table frame=\"box\" rules=\"cols\">\n",
       "    <tr>\n",
       "        <th style=\"padding-left: 1em; padding-right: 1em; text-align: center\">name</th>\n",
       "        <th style=\"padding-left: 1em; padding-right: 1em; text-align: center\">review</th>\n",
       "        <th style=\"padding-left: 1em; padding-right: 1em; text-align: center\">rating</th>\n",
       "        <th style=\"padding-left: 1em; padding-right: 1em; text-align: center\">word_count</th>\n",
       "        <th style=\"padding-left: 1em; padding-right: 1em; text-align: center\">awesome</th>\n",
       "        <th style=\"padding-left: 1em; padding-right: 1em; text-align: center\">great</th>\n",
       "        <th style=\"padding-left: 1em; padding-right: 1em; text-align: center\">fantastic</th>\n",
       "    </tr>\n",
       "    <tr>\n",
       "        <td style=\"padding-left: 1em; padding-right: 1em; text-align: center; vertical-align: top\">Planetwise Flannel Wipes</td>\n",
       "        <td style=\"padding-left: 1em; padding-right: 1em; text-align: center; vertical-align: top\">These flannel wipes are<br>OK, but in my opinion ...</td>\n",
       "        <td style=\"padding-left: 1em; padding-right: 1em; text-align: center; vertical-align: top\">3.0</td>\n",
       "        <td style=\"padding-left: 1em; padding-right: 1em; text-align: center; vertical-align: top\">{'and': 5, '6': 1,<br>'stink': 1, 'because' ...</td>\n",
       "        <td style=\"padding-left: 1em; padding-right: 1em; text-align: center; vertical-align: top\">0</td>\n",
       "        <td style=\"padding-left: 1em; padding-right: 1em; text-align: center; vertical-align: top\">0</td>\n",
       "        <td style=\"padding-left: 1em; padding-right: 1em; text-align: center; vertical-align: top\">0</td>\n",
       "    </tr>\n",
       "</table>\n",
       "<table frame=\"box\" rules=\"cols\">\n",
       "    <tr>\n",
       "        <th style=\"padding-left: 1em; padding-right: 1em; text-align: center\">amazing</th>\n",
       "        <th style=\"padding-left: 1em; padding-right: 1em; text-align: center\">love</th>\n",
       "        <th style=\"padding-left: 1em; padding-right: 1em; text-align: center\">horrible</th>\n",
       "        <th style=\"padding-left: 1em; padding-right: 1em; text-align: center\">bad</th>\n",
       "        <th style=\"padding-left: 1em; padding-right: 1em; text-align: center\">terrible</th>\n",
       "        <th style=\"padding-left: 1em; padding-right: 1em; text-align: center\">awful</th>\n",
       "        <th style=\"padding-left: 1em; padding-right: 1em; text-align: center\">hate</th>\n",
       "    </tr>\n",
       "    <tr>\n",
       "        <td style=\"padding-left: 1em; padding-right: 1em; text-align: center; vertical-align: top\">0</td>\n",
       "        <td style=\"padding-left: 1em; padding-right: 1em; text-align: center; vertical-align: top\">0</td>\n",
       "        <td style=\"padding-left: 1em; padding-right: 1em; text-align: center; vertical-align: top\">0</td>\n",
       "        <td style=\"padding-left: 1em; padding-right: 1em; text-align: center; vertical-align: top\">0</td>\n",
       "        <td style=\"padding-left: 1em; padding-right: 1em; text-align: center; vertical-align: top\">0</td>\n",
       "        <td style=\"padding-left: 1em; padding-right: 1em; text-align: center; vertical-align: top\">0</td>\n",
       "        <td style=\"padding-left: 1em; padding-right: 1em; text-align: center; vertical-align: top\">0</td>\n",
       "    </tr>\n",
       "</table>\n",
       "[1 rows x 14 columns]<br/>\n",
       "</div>"
      ],
      "text/plain": [
       "Columns:\n",
       "\tname\tstr\n",
       "\treview\tstr\n",
       "\trating\tfloat\n",
       "\tword_count\tdict\n",
       "\tawesome\tint\n",
       "\tgreat\tint\n",
       "\tfantastic\tint\n",
       "\tamazing\tint\n",
       "\tlove\tint\n",
       "\thorrible\tint\n",
       "\tbad\tint\n",
       "\tterrible\tint\n",
       "\tawful\tint\n",
       "\thate\tint\n",
       "\n",
       "Rows: 1\n",
       "\n",
       "Data:\n",
       "+--------------------------+-------------------------------+--------+\n",
       "|           name           |             review            | rating |\n",
       "+--------------------------+-------------------------------+--------+\n",
       "| Planetwise Flannel Wipes | These flannel wipes are OK... |  3.0   |\n",
       "+--------------------------+-------------------------------+--------+\n",
       "+-------------------------------+---------+-------+-----------+---------+------+\n",
       "|           word_count          | awesome | great | fantastic | amazing | love |\n",
       "+-------------------------------+---------+-------+-----------+---------+------+\n",
       "| {'and': 5, '6': 1, 'stink'... |    0    |   0   |     0     |    0    |  0   |\n",
       "+-------------------------------+---------+-------+-----------+---------+------+\n",
       "+----------+-----+----------+-------+------+\n",
       "| horrible | bad | terrible | awful | hate |\n",
       "+----------+-----+----------+-------+------+\n",
       "|    0     |  0  |    0     |   0   |  0   |\n",
       "+----------+-----+----------+-------+------+\n",
       "[1 rows x 14 columns]"
      ]
     },
     "execution_count": 64,
     "metadata": {},
     "output_type": "execute_result"
    }
   ],
   "source": [
    "products.head(1)"
   ]
  },
  {
   "cell_type": "code",
   "execution_count": 65,
   "metadata": {
    "collapsed": false
   },
   "outputs": [],
   "source": [
    "sm = sum(products['hate'])"
   ]
  },
  {
   "cell_type": "code",
   "execution_count": 66,
   "metadata": {
    "collapsed": true
   },
   "outputs": [],
   "source": [
    "DD.update({'w_hate':sm})"
   ]
  },
  {
   "cell_type": "code",
   "execution_count": 67,
   "metadata": {
    "collapsed": false
   },
   "outputs": [
    {
     "data": {
      "text/plain": [
       "{'w_amazing': 1363,\n",
       " 'w_awesome': 2090,\n",
       " 'w_awful': 383,\n",
       " 'w_bad': 3724,\n",
       " 'w_fantastic': 932,\n",
       " 'w_great': 45206,\n",
       " 'w_hate': 1220,\n",
       " 'w_horrible': 734,\n",
       " 'w_love': 42065,\n",
       " 'w_terrible': 748}"
      ]
     },
     "execution_count": 67,
     "metadata": {},
     "output_type": "execute_result"
    }
   ],
   "source": [
    "DD"
   ]
  },
  {
   "cell_type": "markdown",
   "metadata": {},
   "source": [
    "#### 'wow' - Counter"
   ]
  },
  {
   "cell_type": "code",
   "execution_count": 68,
   "metadata": {
    "collapsed": true
   },
   "outputs": [],
   "source": [
    "def wow_count(dict):\n",
    "    if 'wow' in dict:\n",
    "         return dict['wow']\n",
    "    else :\n",
    "          return 0"
   ]
  },
  {
   "cell_type": "code",
   "execution_count": 69,
   "metadata": {
    "collapsed": true
   },
   "outputs": [],
   "source": [
    "products['wow'] = products['word_count'].apply(wow_count)"
   ]
  },
  {
   "cell_type": "code",
   "execution_count": 70,
   "metadata": {
    "collapsed": false
   },
   "outputs": [
    {
     "data": {
      "text/html": [
       "<div style=\"max-height:1000px;max-width:1500px;overflow:auto;\"><table frame=\"box\" rules=\"cols\">\n",
       "    <tr>\n",
       "        <th style=\"padding-left: 1em; padding-right: 1em; text-align: center\">name</th>\n",
       "        <th style=\"padding-left: 1em; padding-right: 1em; text-align: center\">review</th>\n",
       "        <th style=\"padding-left: 1em; padding-right: 1em; text-align: center\">rating</th>\n",
       "        <th style=\"padding-left: 1em; padding-right: 1em; text-align: center\">word_count</th>\n",
       "        <th style=\"padding-left: 1em; padding-right: 1em; text-align: center\">awesome</th>\n",
       "        <th style=\"padding-left: 1em; padding-right: 1em; text-align: center\">great</th>\n",
       "        <th style=\"padding-left: 1em; padding-right: 1em; text-align: center\">fantastic</th>\n",
       "    </tr>\n",
       "    <tr>\n",
       "        <td style=\"padding-left: 1em; padding-right: 1em; text-align: center; vertical-align: top\">Planetwise Flannel Wipes</td>\n",
       "        <td style=\"padding-left: 1em; padding-right: 1em; text-align: center; vertical-align: top\">These flannel wipes are<br>OK, but in my opinion ...</td>\n",
       "        <td style=\"padding-left: 1em; padding-right: 1em; text-align: center; vertical-align: top\">3.0</td>\n",
       "        <td style=\"padding-left: 1em; padding-right: 1em; text-align: center; vertical-align: top\">{'and': 5, '6': 1,<br>'stink': 1, 'because' ...</td>\n",
       "        <td style=\"padding-left: 1em; padding-right: 1em; text-align: center; vertical-align: top\">0</td>\n",
       "        <td style=\"padding-left: 1em; padding-right: 1em; text-align: center; vertical-align: top\">0</td>\n",
       "        <td style=\"padding-left: 1em; padding-right: 1em; text-align: center; vertical-align: top\">0</td>\n",
       "    </tr>\n",
       "</table>\n",
       "<table frame=\"box\" rules=\"cols\">\n",
       "    <tr>\n",
       "        <th style=\"padding-left: 1em; padding-right: 1em; text-align: center\">amazing</th>\n",
       "        <th style=\"padding-left: 1em; padding-right: 1em; text-align: center\">love</th>\n",
       "        <th style=\"padding-left: 1em; padding-right: 1em; text-align: center\">horrible</th>\n",
       "        <th style=\"padding-left: 1em; padding-right: 1em; text-align: center\">bad</th>\n",
       "        <th style=\"padding-left: 1em; padding-right: 1em; text-align: center\">terrible</th>\n",
       "        <th style=\"padding-left: 1em; padding-right: 1em; text-align: center\">awful</th>\n",
       "        <th style=\"padding-left: 1em; padding-right: 1em; text-align: center\">hate</th>\n",
       "        <th style=\"padding-left: 1em; padding-right: 1em; text-align: center\">wow</th>\n",
       "    </tr>\n",
       "    <tr>\n",
       "        <td style=\"padding-left: 1em; padding-right: 1em; text-align: center; vertical-align: top\">0</td>\n",
       "        <td style=\"padding-left: 1em; padding-right: 1em; text-align: center; vertical-align: top\">0</td>\n",
       "        <td style=\"padding-left: 1em; padding-right: 1em; text-align: center; vertical-align: top\">0</td>\n",
       "        <td style=\"padding-left: 1em; padding-right: 1em; text-align: center; vertical-align: top\">0</td>\n",
       "        <td style=\"padding-left: 1em; padding-right: 1em; text-align: center; vertical-align: top\">0</td>\n",
       "        <td style=\"padding-left: 1em; padding-right: 1em; text-align: center; vertical-align: top\">0</td>\n",
       "        <td style=\"padding-left: 1em; padding-right: 1em; text-align: center; vertical-align: top\">0</td>\n",
       "        <td style=\"padding-left: 1em; padding-right: 1em; text-align: center; vertical-align: top\">0</td>\n",
       "    </tr>\n",
       "</table>\n",
       "[1 rows x 15 columns]<br/>\n",
       "</div>"
      ],
      "text/plain": [
       "Columns:\n",
       "\tname\tstr\n",
       "\treview\tstr\n",
       "\trating\tfloat\n",
       "\tword_count\tdict\n",
       "\tawesome\tint\n",
       "\tgreat\tint\n",
       "\tfantastic\tint\n",
       "\tamazing\tint\n",
       "\tlove\tint\n",
       "\thorrible\tint\n",
       "\tbad\tint\n",
       "\tterrible\tint\n",
       "\tawful\tint\n",
       "\thate\tint\n",
       "\twow\tint\n",
       "\n",
       "Rows: 1\n",
       "\n",
       "Data:\n",
       "+--------------------------+-------------------------------+--------+\n",
       "|           name           |             review            | rating |\n",
       "+--------------------------+-------------------------------+--------+\n",
       "| Planetwise Flannel Wipes | These flannel wipes are OK... |  3.0   |\n",
       "+--------------------------+-------------------------------+--------+\n",
       "+-------------------------------+---------+-------+-----------+---------+------+\n",
       "|           word_count          | awesome | great | fantastic | amazing | love |\n",
       "+-------------------------------+---------+-------+-----------+---------+------+\n",
       "| {'and': 5, '6': 1, 'stink'... |    0    |   0   |     0     |    0    |  0   |\n",
       "+-------------------------------+---------+-------+-----------+---------+------+\n",
       "+----------+-----+----------+-------+------+-----+\n",
       "| horrible | bad | terrible | awful | hate | wow |\n",
       "+----------+-----+----------+-------+------+-----+\n",
       "|    0     |  0  |    0     |   0   |  0   |  0  |\n",
       "+----------+-----+----------+-------+------+-----+\n",
       "[1 rows x 15 columns]"
      ]
     },
     "execution_count": 70,
     "metadata": {},
     "output_type": "execute_result"
    }
   ],
   "source": [
    "products.head(1)"
   ]
  },
  {
   "cell_type": "code",
   "execution_count": 71,
   "metadata": {
    "collapsed": true
   },
   "outputs": [],
   "source": [
    "sm = sum(products['wow'])"
   ]
  },
  {
   "cell_type": "code",
   "execution_count": 72,
   "metadata": {
    "collapsed": true
   },
   "outputs": [],
   "source": [
    "DD.update({'w_wow':sm})"
   ]
  },
  {
   "cell_type": "code",
   "execution_count": 73,
   "metadata": {
    "collapsed": false
   },
   "outputs": [
    {
     "data": {
      "text/plain": [
       "{'w_amazing': 1363,\n",
       " 'w_awesome': 2090,\n",
       " 'w_awful': 383,\n",
       " 'w_bad': 3724,\n",
       " 'w_fantastic': 932,\n",
       " 'w_great': 45206,\n",
       " 'w_hate': 1220,\n",
       " 'w_horrible': 734,\n",
       " 'w_love': 42065,\n",
       " 'w_terrible': 748,\n",
       " 'w_wow': 144}"
      ]
     },
     "execution_count": 73,
     "metadata": {},
     "output_type": "execute_result"
    }
   ],
   "source": [
    "DD"
   ]
  },
  {
   "cell_type": "markdown",
   "metadata": {},
   "source": [
    "#### Q-1 : Out of the 11 words in selected_words, which one is most used in the reviews in the dataset?"
   ]
  },
  {
   "cell_type": "code",
   "execution_count": 74,
   "metadata": {
    "collapsed": false
   },
   "outputs": [
    {
     "data": {
      "text/plain": [
       "'w_great'"
      ]
     },
     "execution_count": 74,
     "metadata": {},
     "output_type": "execute_result"
    }
   ],
   "source": [
    "import operator\n",
    "max(DD.iteritems(), key=operator.itemgetter(1))[0]"
   ]
  },
  {
   "cell_type": "markdown",
   "metadata": {},
   "source": [
    "#### Q-2 : Out of the 11 words in selected_words, which one is least used in the reviews in the dataset? "
   ]
  },
  {
   "cell_type": "code",
   "execution_count": 75,
   "metadata": {
    "collapsed": false
   },
   "outputs": [
    {
     "data": {
      "text/plain": [
       "'w_wow'"
      ]
     },
     "execution_count": 75,
     "metadata": {},
     "output_type": "execute_result"
    }
   ],
   "source": [
    "import operator\n",
    "min(DD.iteritems(), key=operator.itemgetter(1))[0]"
   ]
  },
  {
   "cell_type": "markdown",
   "metadata": {},
   "source": [
    "### Positive  Sentiment"
   ]
  },
  {
   "cell_type": "code",
   "execution_count": 103,
   "metadata": {
    "collapsed": true
   },
   "outputs": [],
   "source": [
    "#ignore all 3* reviews\n",
    "P_products = products[products['rating'] != 3]"
   ]
  },
  {
   "cell_type": "code",
   "execution_count": 104,
   "metadata": {
    "collapsed": true
   },
   "outputs": [],
   "source": [
    "#positive sentiment = 4* or 5* reviews\n",
    "P_products['sentiment'] = P_products['rating'] >=4"
   ]
  },
  {
   "cell_type": "code",
   "execution_count": 105,
   "metadata": {
    "collapsed": false
   },
   "outputs": [
    {
     "data": {
      "text/html": [
       "<div style=\"max-height:1000px;max-width:1500px;overflow:auto;\"><table frame=\"box\" rules=\"cols\">\n",
       "    <tr>\n",
       "        <th style=\"padding-left: 1em; padding-right: 1em; text-align: center\">name</th>\n",
       "        <th style=\"padding-left: 1em; padding-right: 1em; text-align: center\">review</th>\n",
       "        <th style=\"padding-left: 1em; padding-right: 1em; text-align: center\">rating</th>\n",
       "        <th style=\"padding-left: 1em; padding-right: 1em; text-align: center\">word_count</th>\n",
       "        <th style=\"padding-left: 1em; padding-right: 1em; text-align: center\">awesome</th>\n",
       "        <th style=\"padding-left: 1em; padding-right: 1em; text-align: center\">great</th>\n",
       "        <th style=\"padding-left: 1em; padding-right: 1em; text-align: center\">fantastic</th>\n",
       "    </tr>\n",
       "    <tr>\n",
       "        <td style=\"padding-left: 1em; padding-right: 1em; text-align: center; vertical-align: top\">Planetwise Wipe Pouch</td>\n",
       "        <td style=\"padding-left: 1em; padding-right: 1em; text-align: center; vertical-align: top\">it came early and was not<br>disappointed. i love ...</td>\n",
       "        <td style=\"padding-left: 1em; padding-right: 1em; text-align: center; vertical-align: top\">5.0</td>\n",
       "        <td style=\"padding-left: 1em; padding-right: 1em; text-align: center; vertical-align: top\">{'and': 3, 'love': 1,<br>'it': 2, 'highly': 1, ...</td>\n",
       "        <td style=\"padding-left: 1em; padding-right: 1em; text-align: center; vertical-align: top\">0</td>\n",
       "        <td style=\"padding-left: 1em; padding-right: 1em; text-align: center; vertical-align: top\">0</td>\n",
       "        <td style=\"padding-left: 1em; padding-right: 1em; text-align: center; vertical-align: top\">0</td>\n",
       "    </tr>\n",
       "    <tr>\n",
       "        <td style=\"padding-left: 1em; padding-right: 1em; text-align: center; vertical-align: top\">Annas Dream Full Quilt<br>with 2 Shams ...</td>\n",
       "        <td style=\"padding-left: 1em; padding-right: 1em; text-align: center; vertical-align: top\">Very soft and comfortable<br>and warmer than it ...</td>\n",
       "        <td style=\"padding-left: 1em; padding-right: 1em; text-align: center; vertical-align: top\">5.0</td>\n",
       "        <td style=\"padding-left: 1em; padding-right: 1em; text-align: center; vertical-align: top\">{'and': 2, 'quilt': 1,<br>'it': 1, 'comfortable': ...</td>\n",
       "        <td style=\"padding-left: 1em; padding-right: 1em; text-align: center; vertical-align: top\">0</td>\n",
       "        <td style=\"padding-left: 1em; padding-right: 1em; text-align: center; vertical-align: top\">0</td>\n",
       "        <td style=\"padding-left: 1em; padding-right: 1em; text-align: center; vertical-align: top\">0</td>\n",
       "    </tr>\n",
       "    <tr>\n",
       "        <td style=\"padding-left: 1em; padding-right: 1em; text-align: center; vertical-align: top\">Stop Pacifier Sucking<br>without tears with ...</td>\n",
       "        <td style=\"padding-left: 1em; padding-right: 1em; text-align: center; vertical-align: top\">This is a product well<br>worth the purchase.  I ...</td>\n",
       "        <td style=\"padding-left: 1em; padding-right: 1em; text-align: center; vertical-align: top\">5.0</td>\n",
       "        <td style=\"padding-left: 1em; padding-right: 1em; text-align: center; vertical-align: top\">{'ingenious': 1, 'and':<br>3, 'love': 2, ...</td>\n",
       "        <td style=\"padding-left: 1em; padding-right: 1em; text-align: center; vertical-align: top\">0</td>\n",
       "        <td style=\"padding-left: 1em; padding-right: 1em; text-align: center; vertical-align: top\">0</td>\n",
       "        <td style=\"padding-left: 1em; padding-right: 1em; text-align: center; vertical-align: top\">0</td>\n",
       "    </tr>\n",
       "    <tr>\n",
       "        <td style=\"padding-left: 1em; padding-right: 1em; text-align: center; vertical-align: top\">Stop Pacifier Sucking<br>without tears with ...</td>\n",
       "        <td style=\"padding-left: 1em; padding-right: 1em; text-align: center; vertical-align: top\">All of my kids have cried<br>non-stop when I tried to ...</td>\n",
       "        <td style=\"padding-left: 1em; padding-right: 1em; text-align: center; vertical-align: top\">5.0</td>\n",
       "        <td style=\"padding-left: 1em; padding-right: 1em; text-align: center; vertical-align: top\">{'and': 2, 'parents!!':<br>1, 'all': 2, 'puppet.': ...</td>\n",
       "        <td style=\"padding-left: 1em; padding-right: 1em; text-align: center; vertical-align: top\">0</td>\n",
       "        <td style=\"padding-left: 1em; padding-right: 1em; text-align: center; vertical-align: top\">1</td>\n",
       "        <td style=\"padding-left: 1em; padding-right: 1em; text-align: center; vertical-align: top\">0</td>\n",
       "    </tr>\n",
       "    <tr>\n",
       "        <td style=\"padding-left: 1em; padding-right: 1em; text-align: center; vertical-align: top\">Stop Pacifier Sucking<br>without tears with ...</td>\n",
       "        <td style=\"padding-left: 1em; padding-right: 1em; text-align: center; vertical-align: top\">When the Binky Fairy came<br>to our house, we didn't ...</td>\n",
       "        <td style=\"padding-left: 1em; padding-right: 1em; text-align: center; vertical-align: top\">5.0</td>\n",
       "        <td style=\"padding-left: 1em; padding-right: 1em; text-align: center; vertical-align: top\">{'and': 2, 'this': 2,<br>'her': 1, 'help': 2, ...</td>\n",
       "        <td style=\"padding-left: 1em; padding-right: 1em; text-align: center; vertical-align: top\">0</td>\n",
       "        <td style=\"padding-left: 1em; padding-right: 1em; text-align: center; vertical-align: top\">1</td>\n",
       "        <td style=\"padding-left: 1em; padding-right: 1em; text-align: center; vertical-align: top\">0</td>\n",
       "    </tr>\n",
       "</table>\n",
       "<table frame=\"box\" rules=\"cols\">\n",
       "    <tr>\n",
       "        <th style=\"padding-left: 1em; padding-right: 1em; text-align: center\">amazing</th>\n",
       "        <th style=\"padding-left: 1em; padding-right: 1em; text-align: center\">love</th>\n",
       "        <th style=\"padding-left: 1em; padding-right: 1em; text-align: center\">horrible</th>\n",
       "        <th style=\"padding-left: 1em; padding-right: 1em; text-align: center\">bad</th>\n",
       "        <th style=\"padding-left: 1em; padding-right: 1em; text-align: center\">terrible</th>\n",
       "        <th style=\"padding-left: 1em; padding-right: 1em; text-align: center\">awful</th>\n",
       "        <th style=\"padding-left: 1em; padding-right: 1em; text-align: center\">hate</th>\n",
       "        <th style=\"padding-left: 1em; padding-right: 1em; text-align: center\">wow</th>\n",
       "        <th style=\"padding-left: 1em; padding-right: 1em; text-align: center\">sentiment</th>\n",
       "    </tr>\n",
       "    <tr>\n",
       "        <td style=\"padding-left: 1em; padding-right: 1em; text-align: center; vertical-align: top\">0</td>\n",
       "        <td style=\"padding-left: 1em; padding-right: 1em; text-align: center; vertical-align: top\">1</td>\n",
       "        <td style=\"padding-left: 1em; padding-right: 1em; text-align: center; vertical-align: top\">0</td>\n",
       "        <td style=\"padding-left: 1em; padding-right: 1em; text-align: center; vertical-align: top\">0</td>\n",
       "        <td style=\"padding-left: 1em; padding-right: 1em; text-align: center; vertical-align: top\">0</td>\n",
       "        <td style=\"padding-left: 1em; padding-right: 1em; text-align: center; vertical-align: top\">0</td>\n",
       "        <td style=\"padding-left: 1em; padding-right: 1em; text-align: center; vertical-align: top\">0</td>\n",
       "        <td style=\"padding-left: 1em; padding-right: 1em; text-align: center; vertical-align: top\">0</td>\n",
       "        <td style=\"padding-left: 1em; padding-right: 1em; text-align: center; vertical-align: top\">1</td>\n",
       "    </tr>\n",
       "    <tr>\n",
       "        <td style=\"padding-left: 1em; padding-right: 1em; text-align: center; vertical-align: top\">0</td>\n",
       "        <td style=\"padding-left: 1em; padding-right: 1em; text-align: center; vertical-align: top\">0</td>\n",
       "        <td style=\"padding-left: 1em; padding-right: 1em; text-align: center; vertical-align: top\">0</td>\n",
       "        <td style=\"padding-left: 1em; padding-right: 1em; text-align: center; vertical-align: top\">0</td>\n",
       "        <td style=\"padding-left: 1em; padding-right: 1em; text-align: center; vertical-align: top\">0</td>\n",
       "        <td style=\"padding-left: 1em; padding-right: 1em; text-align: center; vertical-align: top\">0</td>\n",
       "        <td style=\"padding-left: 1em; padding-right: 1em; text-align: center; vertical-align: top\">0</td>\n",
       "        <td style=\"padding-left: 1em; padding-right: 1em; text-align: center; vertical-align: top\">0</td>\n",
       "        <td style=\"padding-left: 1em; padding-right: 1em; text-align: center; vertical-align: top\">1</td>\n",
       "    </tr>\n",
       "    <tr>\n",
       "        <td style=\"padding-left: 1em; padding-right: 1em; text-align: center; vertical-align: top\">0</td>\n",
       "        <td style=\"padding-left: 1em; padding-right: 1em; text-align: center; vertical-align: top\">2</td>\n",
       "        <td style=\"padding-left: 1em; padding-right: 1em; text-align: center; vertical-align: top\">0</td>\n",
       "        <td style=\"padding-left: 1em; padding-right: 1em; text-align: center; vertical-align: top\">0</td>\n",
       "        <td style=\"padding-left: 1em; padding-right: 1em; text-align: center; vertical-align: top\">0</td>\n",
       "        <td style=\"padding-left: 1em; padding-right: 1em; text-align: center; vertical-align: top\">0</td>\n",
       "        <td style=\"padding-left: 1em; padding-right: 1em; text-align: center; vertical-align: top\">0</td>\n",
       "        <td style=\"padding-left: 1em; padding-right: 1em; text-align: center; vertical-align: top\">0</td>\n",
       "        <td style=\"padding-left: 1em; padding-right: 1em; text-align: center; vertical-align: top\">1</td>\n",
       "    </tr>\n",
       "    <tr>\n",
       "        <td style=\"padding-left: 1em; padding-right: 1em; text-align: center; vertical-align: top\">0</td>\n",
       "        <td style=\"padding-left: 1em; padding-right: 1em; text-align: center; vertical-align: top\">0</td>\n",
       "        <td style=\"padding-left: 1em; padding-right: 1em; text-align: center; vertical-align: top\">0</td>\n",
       "        <td style=\"padding-left: 1em; padding-right: 1em; text-align: center; vertical-align: top\">0</td>\n",
       "        <td style=\"padding-left: 1em; padding-right: 1em; text-align: center; vertical-align: top\">0</td>\n",
       "        <td style=\"padding-left: 1em; padding-right: 1em; text-align: center; vertical-align: top\">0</td>\n",
       "        <td style=\"padding-left: 1em; padding-right: 1em; text-align: center; vertical-align: top\">0</td>\n",
       "        <td style=\"padding-left: 1em; padding-right: 1em; text-align: center; vertical-align: top\">0</td>\n",
       "        <td style=\"padding-left: 1em; padding-right: 1em; text-align: center; vertical-align: top\">1</td>\n",
       "    </tr>\n",
       "    <tr>\n",
       "        <td style=\"padding-left: 1em; padding-right: 1em; text-align: center; vertical-align: top\">0</td>\n",
       "        <td style=\"padding-left: 1em; padding-right: 1em; text-align: center; vertical-align: top\">0</td>\n",
       "        <td style=\"padding-left: 1em; padding-right: 1em; text-align: center; vertical-align: top\">0</td>\n",
       "        <td style=\"padding-left: 1em; padding-right: 1em; text-align: center; vertical-align: top\">0</td>\n",
       "        <td style=\"padding-left: 1em; padding-right: 1em; text-align: center; vertical-align: top\">0</td>\n",
       "        <td style=\"padding-left: 1em; padding-right: 1em; text-align: center; vertical-align: top\">0</td>\n",
       "        <td style=\"padding-left: 1em; padding-right: 1em; text-align: center; vertical-align: top\">0</td>\n",
       "        <td style=\"padding-left: 1em; padding-right: 1em; text-align: center; vertical-align: top\">0</td>\n",
       "        <td style=\"padding-left: 1em; padding-right: 1em; text-align: center; vertical-align: top\">1</td>\n",
       "    </tr>\n",
       "</table>\n",
       "[5 rows x 16 columns]<br/>\n",
       "</div>"
      ],
      "text/plain": [
       "Columns:\n",
       "\tname\tstr\n",
       "\treview\tstr\n",
       "\trating\tfloat\n",
       "\tword_count\tdict\n",
       "\tawesome\tint\n",
       "\tgreat\tint\n",
       "\tfantastic\tint\n",
       "\tamazing\tint\n",
       "\tlove\tint\n",
       "\thorrible\tint\n",
       "\tbad\tint\n",
       "\tterrible\tint\n",
       "\tawful\tint\n",
       "\thate\tint\n",
       "\twow\tint\n",
       "\tsentiment\tint\n",
       "\n",
       "Rows: 5\n",
       "\n",
       "Data:\n",
       "+-------------------------------+-------------------------------+--------+\n",
       "|              name             |             review            | rating |\n",
       "+-------------------------------+-------------------------------+--------+\n",
       "|     Planetwise Wipe Pouch     | it came early and was not ... |  5.0   |\n",
       "| Annas Dream Full Quilt wit... | Very soft and comfortable ... |  5.0   |\n",
       "| Stop Pacifier Sucking with... | This is a product well wor... |  5.0   |\n",
       "| Stop Pacifier Sucking with... | All of my kids have cried ... |  5.0   |\n",
       "| Stop Pacifier Sucking with... | When the Binky Fairy came ... |  5.0   |\n",
       "+-------------------------------+-------------------------------+--------+\n",
       "+-------------------------------+---------+-------+-----------+---------+------+\n",
       "|           word_count          | awesome | great | fantastic | amazing | love |\n",
       "+-------------------------------+---------+-------+-----------+---------+------+\n",
       "| {'and': 3, 'love': 1, 'it'... |    0    |   0   |     0     |    0    |  1   |\n",
       "| {'and': 2, 'quilt': 1, 'it... |    0    |   0   |     0     |    0    |  0   |\n",
       "| {'ingenious': 1, 'and': 3,... |    0    |   0   |     0     |    0    |  2   |\n",
       "| {'and': 2, 'parents!!': 1,... |    0    |   1   |     0     |    0    |  0   |\n",
       "| {'and': 2, 'this': 2, 'her... |    0    |   1   |     0     |    0    |  0   |\n",
       "+-------------------------------+---------+-------+-----------+---------+------+\n",
       "+----------+-----+----------+-------+------+-----+-----------+\n",
       "| horrible | bad | terrible | awful | hate | wow | sentiment |\n",
       "+----------+-----+----------+-------+------+-----+-----------+\n",
       "|    0     |  0  |    0     |   0   |  0   |  0  |     1     |\n",
       "|    0     |  0  |    0     |   0   |  0   |  0  |     1     |\n",
       "|    0     |  0  |    0     |   0   |  0   |  0  |     1     |\n",
       "|    0     |  0  |    0     |   0   |  0   |  0  |     1     |\n",
       "|    0     |  0  |    0     |   0   |  0   |  0  |     1     |\n",
       "+----------+-----+----------+-------+------+-----+-----------+\n",
       "[5 rows x 16 columns]"
      ]
     },
     "execution_count": 105,
     "metadata": {},
     "output_type": "execute_result"
    }
   ],
   "source": [
    "P_products.head(5)"
   ]
  },
  {
   "cell_type": "code",
   "execution_count": 115,
   "metadata": {
    "collapsed": false
   },
   "outputs": [],
   "source": [
    "#ignore all 3* reviews\n",
    "P_products = P_products[P_products['sentiment'] == 1]"
   ]
  },
  {
   "cell_type": "code",
   "execution_count": 116,
   "metadata": {
    "collapsed": true
   },
   "outputs": [],
   "source": [
    "myWords = ['awesome', 'great', 'fantastic', 'amazing',\\\n",
    "                  'love', 'horrible', 'bad', 'terrible', \\\n",
    "                  'awful', 'wow', 'hate']"
   ]
  },
  {
   "cell_type": "code",
   "execution_count": 117,
   "metadata": {
    "collapsed": false
   },
   "outputs": [],
   "source": [
    "DP= {}\n",
    "for k in range(11):\n",
    "    sm = sum(P_products[myWords[k]])\n",
    "    DP.update({'w_' + myWords[k] : sm})"
   ]
  },
  {
   "cell_type": "code",
   "execution_count": 118,
   "metadata": {
    "collapsed": false
   },
   "outputs": [
    {
     "data": {
      "text/plain": [
       "{'w_amazing': 1221,\n",
       " 'w_awesome': 1897,\n",
       " 'w_awful': 155,\n",
       " 'w_bad': 2079,\n",
       " 'w_fantastic': 817,\n",
       " 'w_great': 39566,\n",
       " 'w_hate': 600,\n",
       " 'w_horrible': 246,\n",
       " 'w_love': 38705,\n",
       " 'w_terrible': 255,\n",
       " 'w_wow': 110}"
      ]
     },
     "execution_count": 118,
     "metadata": {},
     "output_type": "execute_result"
    }
   ],
   "source": [
    "DP"
   ]
  },
  {
   "cell_type": "markdown",
   "metadata": {},
   "source": [
    "#### Q3 - Out of the 11 words in selected_words, which one got the most positive weight in the selected_words_model? "
   ]
  },
  {
   "cell_type": "code",
   "execution_count": 119,
   "metadata": {
    "collapsed": false
   },
   "outputs": [
    {
     "data": {
      "text/plain": [
       "'w_great'"
      ]
     },
     "execution_count": 119,
     "metadata": {},
     "output_type": "execute_result"
    }
   ],
   "source": [
    "import operator\n",
    "max(DP.iteritems(), key=operator.itemgetter(1))[0]"
   ]
  },
  {
   "cell_type": "markdown",
   "metadata": {},
   "source": [
    "A:love"
   ]
  },
  {
   "cell_type": "markdown",
   "metadata": {},
   "source": [
    "### Negative Sentiment"
   ]
  },
  {
   "cell_type": "code",
   "execution_count": 110,
   "metadata": {
    "collapsed": true
   },
   "outputs": [],
   "source": [
    "#ignore all 3* reviews\n",
    "N_products = products[products['rating'] != 3]"
   ]
  },
  {
   "cell_type": "code",
   "execution_count": 112,
   "metadata": {
    "collapsed": true
   },
   "outputs": [],
   "source": [
    "#Negative sentiment = 1* or 2* reviews\n",
    "N_products['sentiment'] = N_products['rating'] < 3"
   ]
  },
  {
   "cell_type": "code",
   "execution_count": 113,
   "metadata": {
    "collapsed": false
   },
   "outputs": [
    {
     "data": {
      "text/html": [
       "<div style=\"max-height:1000px;max-width:1500px;overflow:auto;\"><table frame=\"box\" rules=\"cols\">\n",
       "    <tr>\n",
       "        <th style=\"padding-left: 1em; padding-right: 1em; text-align: center\">name</th>\n",
       "        <th style=\"padding-left: 1em; padding-right: 1em; text-align: center\">review</th>\n",
       "        <th style=\"padding-left: 1em; padding-right: 1em; text-align: center\">rating</th>\n",
       "        <th style=\"padding-left: 1em; padding-right: 1em; text-align: center\">word_count</th>\n",
       "        <th style=\"padding-left: 1em; padding-right: 1em; text-align: center\">awesome</th>\n",
       "        <th style=\"padding-left: 1em; padding-right: 1em; text-align: center\">great</th>\n",
       "        <th style=\"padding-left: 1em; padding-right: 1em; text-align: center\">fantastic</th>\n",
       "    </tr>\n",
       "    <tr>\n",
       "        <td style=\"padding-left: 1em; padding-right: 1em; text-align: center; vertical-align: top\">Planetwise Wipe Pouch</td>\n",
       "        <td style=\"padding-left: 1em; padding-right: 1em; text-align: center; vertical-align: top\">it came early and was not<br>disappointed. i love ...</td>\n",
       "        <td style=\"padding-left: 1em; padding-right: 1em; text-align: center; vertical-align: top\">5.0</td>\n",
       "        <td style=\"padding-left: 1em; padding-right: 1em; text-align: center; vertical-align: top\">{'and': 3, 'love': 1,<br>'it': 2, 'highly': 1, ...</td>\n",
       "        <td style=\"padding-left: 1em; padding-right: 1em; text-align: center; vertical-align: top\">0</td>\n",
       "        <td style=\"padding-left: 1em; padding-right: 1em; text-align: center; vertical-align: top\">0</td>\n",
       "        <td style=\"padding-left: 1em; padding-right: 1em; text-align: center; vertical-align: top\">0</td>\n",
       "    </tr>\n",
       "    <tr>\n",
       "        <td style=\"padding-left: 1em; padding-right: 1em; text-align: center; vertical-align: top\">Annas Dream Full Quilt<br>with 2 Shams ...</td>\n",
       "        <td style=\"padding-left: 1em; padding-right: 1em; text-align: center; vertical-align: top\">Very soft and comfortable<br>and warmer than it ...</td>\n",
       "        <td style=\"padding-left: 1em; padding-right: 1em; text-align: center; vertical-align: top\">5.0</td>\n",
       "        <td style=\"padding-left: 1em; padding-right: 1em; text-align: center; vertical-align: top\">{'and': 2, 'quilt': 1,<br>'it': 1, 'comfortable': ...</td>\n",
       "        <td style=\"padding-left: 1em; padding-right: 1em; text-align: center; vertical-align: top\">0</td>\n",
       "        <td style=\"padding-left: 1em; padding-right: 1em; text-align: center; vertical-align: top\">0</td>\n",
       "        <td style=\"padding-left: 1em; padding-right: 1em; text-align: center; vertical-align: top\">0</td>\n",
       "    </tr>\n",
       "    <tr>\n",
       "        <td style=\"padding-left: 1em; padding-right: 1em; text-align: center; vertical-align: top\">Stop Pacifier Sucking<br>without tears with ...</td>\n",
       "        <td style=\"padding-left: 1em; padding-right: 1em; text-align: center; vertical-align: top\">This is a product well<br>worth the purchase.  I ...</td>\n",
       "        <td style=\"padding-left: 1em; padding-right: 1em; text-align: center; vertical-align: top\">5.0</td>\n",
       "        <td style=\"padding-left: 1em; padding-right: 1em; text-align: center; vertical-align: top\">{'ingenious': 1, 'and':<br>3, 'love': 2, ...</td>\n",
       "        <td style=\"padding-left: 1em; padding-right: 1em; text-align: center; vertical-align: top\">0</td>\n",
       "        <td style=\"padding-left: 1em; padding-right: 1em; text-align: center; vertical-align: top\">0</td>\n",
       "        <td style=\"padding-left: 1em; padding-right: 1em; text-align: center; vertical-align: top\">0</td>\n",
       "    </tr>\n",
       "    <tr>\n",
       "        <td style=\"padding-left: 1em; padding-right: 1em; text-align: center; vertical-align: top\">Stop Pacifier Sucking<br>without tears with ...</td>\n",
       "        <td style=\"padding-left: 1em; padding-right: 1em; text-align: center; vertical-align: top\">All of my kids have cried<br>non-stop when I tried to ...</td>\n",
       "        <td style=\"padding-left: 1em; padding-right: 1em; text-align: center; vertical-align: top\">5.0</td>\n",
       "        <td style=\"padding-left: 1em; padding-right: 1em; text-align: center; vertical-align: top\">{'and': 2, 'parents!!':<br>1, 'all': 2, 'puppet.': ...</td>\n",
       "        <td style=\"padding-left: 1em; padding-right: 1em; text-align: center; vertical-align: top\">0</td>\n",
       "        <td style=\"padding-left: 1em; padding-right: 1em; text-align: center; vertical-align: top\">1</td>\n",
       "        <td style=\"padding-left: 1em; padding-right: 1em; text-align: center; vertical-align: top\">0</td>\n",
       "    </tr>\n",
       "    <tr>\n",
       "        <td style=\"padding-left: 1em; padding-right: 1em; text-align: center; vertical-align: top\">Stop Pacifier Sucking<br>without tears with ...</td>\n",
       "        <td style=\"padding-left: 1em; padding-right: 1em; text-align: center; vertical-align: top\">When the Binky Fairy came<br>to our house, we didn't ...</td>\n",
       "        <td style=\"padding-left: 1em; padding-right: 1em; text-align: center; vertical-align: top\">5.0</td>\n",
       "        <td style=\"padding-left: 1em; padding-right: 1em; text-align: center; vertical-align: top\">{'and': 2, 'this': 2,<br>'her': 1, 'help': 2, ...</td>\n",
       "        <td style=\"padding-left: 1em; padding-right: 1em; text-align: center; vertical-align: top\">0</td>\n",
       "        <td style=\"padding-left: 1em; padding-right: 1em; text-align: center; vertical-align: top\">1</td>\n",
       "        <td style=\"padding-left: 1em; padding-right: 1em; text-align: center; vertical-align: top\">0</td>\n",
       "    </tr>\n",
       "</table>\n",
       "<table frame=\"box\" rules=\"cols\">\n",
       "    <tr>\n",
       "        <th style=\"padding-left: 1em; padding-right: 1em; text-align: center\">amazing</th>\n",
       "        <th style=\"padding-left: 1em; padding-right: 1em; text-align: center\">love</th>\n",
       "        <th style=\"padding-left: 1em; padding-right: 1em; text-align: center\">horrible</th>\n",
       "        <th style=\"padding-left: 1em; padding-right: 1em; text-align: center\">bad</th>\n",
       "        <th style=\"padding-left: 1em; padding-right: 1em; text-align: center\">terrible</th>\n",
       "        <th style=\"padding-left: 1em; padding-right: 1em; text-align: center\">awful</th>\n",
       "        <th style=\"padding-left: 1em; padding-right: 1em; text-align: center\">hate</th>\n",
       "        <th style=\"padding-left: 1em; padding-right: 1em; text-align: center\">wow</th>\n",
       "        <th style=\"padding-left: 1em; padding-right: 1em; text-align: center\">sentiment</th>\n",
       "    </tr>\n",
       "    <tr>\n",
       "        <td style=\"padding-left: 1em; padding-right: 1em; text-align: center; vertical-align: top\">0</td>\n",
       "        <td style=\"padding-left: 1em; padding-right: 1em; text-align: center; vertical-align: top\">1</td>\n",
       "        <td style=\"padding-left: 1em; padding-right: 1em; text-align: center; vertical-align: top\">0</td>\n",
       "        <td style=\"padding-left: 1em; padding-right: 1em; text-align: center; vertical-align: top\">0</td>\n",
       "        <td style=\"padding-left: 1em; padding-right: 1em; text-align: center; vertical-align: top\">0</td>\n",
       "        <td style=\"padding-left: 1em; padding-right: 1em; text-align: center; vertical-align: top\">0</td>\n",
       "        <td style=\"padding-left: 1em; padding-right: 1em; text-align: center; vertical-align: top\">0</td>\n",
       "        <td style=\"padding-left: 1em; padding-right: 1em; text-align: center; vertical-align: top\">0</td>\n",
       "        <td style=\"padding-left: 1em; padding-right: 1em; text-align: center; vertical-align: top\">0</td>\n",
       "    </tr>\n",
       "    <tr>\n",
       "        <td style=\"padding-left: 1em; padding-right: 1em; text-align: center; vertical-align: top\">0</td>\n",
       "        <td style=\"padding-left: 1em; padding-right: 1em; text-align: center; vertical-align: top\">0</td>\n",
       "        <td style=\"padding-left: 1em; padding-right: 1em; text-align: center; vertical-align: top\">0</td>\n",
       "        <td style=\"padding-left: 1em; padding-right: 1em; text-align: center; vertical-align: top\">0</td>\n",
       "        <td style=\"padding-left: 1em; padding-right: 1em; text-align: center; vertical-align: top\">0</td>\n",
       "        <td style=\"padding-left: 1em; padding-right: 1em; text-align: center; vertical-align: top\">0</td>\n",
       "        <td style=\"padding-left: 1em; padding-right: 1em; text-align: center; vertical-align: top\">0</td>\n",
       "        <td style=\"padding-left: 1em; padding-right: 1em; text-align: center; vertical-align: top\">0</td>\n",
       "        <td style=\"padding-left: 1em; padding-right: 1em; text-align: center; vertical-align: top\">0</td>\n",
       "    </tr>\n",
       "    <tr>\n",
       "        <td style=\"padding-left: 1em; padding-right: 1em; text-align: center; vertical-align: top\">0</td>\n",
       "        <td style=\"padding-left: 1em; padding-right: 1em; text-align: center; vertical-align: top\">2</td>\n",
       "        <td style=\"padding-left: 1em; padding-right: 1em; text-align: center; vertical-align: top\">0</td>\n",
       "        <td style=\"padding-left: 1em; padding-right: 1em; text-align: center; vertical-align: top\">0</td>\n",
       "        <td style=\"padding-left: 1em; padding-right: 1em; text-align: center; vertical-align: top\">0</td>\n",
       "        <td style=\"padding-left: 1em; padding-right: 1em; text-align: center; vertical-align: top\">0</td>\n",
       "        <td style=\"padding-left: 1em; padding-right: 1em; text-align: center; vertical-align: top\">0</td>\n",
       "        <td style=\"padding-left: 1em; padding-right: 1em; text-align: center; vertical-align: top\">0</td>\n",
       "        <td style=\"padding-left: 1em; padding-right: 1em; text-align: center; vertical-align: top\">0</td>\n",
       "    </tr>\n",
       "    <tr>\n",
       "        <td style=\"padding-left: 1em; padding-right: 1em; text-align: center; vertical-align: top\">0</td>\n",
       "        <td style=\"padding-left: 1em; padding-right: 1em; text-align: center; vertical-align: top\">0</td>\n",
       "        <td style=\"padding-left: 1em; padding-right: 1em; text-align: center; vertical-align: top\">0</td>\n",
       "        <td style=\"padding-left: 1em; padding-right: 1em; text-align: center; vertical-align: top\">0</td>\n",
       "        <td style=\"padding-left: 1em; padding-right: 1em; text-align: center; vertical-align: top\">0</td>\n",
       "        <td style=\"padding-left: 1em; padding-right: 1em; text-align: center; vertical-align: top\">0</td>\n",
       "        <td style=\"padding-left: 1em; padding-right: 1em; text-align: center; vertical-align: top\">0</td>\n",
       "        <td style=\"padding-left: 1em; padding-right: 1em; text-align: center; vertical-align: top\">0</td>\n",
       "        <td style=\"padding-left: 1em; padding-right: 1em; text-align: center; vertical-align: top\">0</td>\n",
       "    </tr>\n",
       "    <tr>\n",
       "        <td style=\"padding-left: 1em; padding-right: 1em; text-align: center; vertical-align: top\">0</td>\n",
       "        <td style=\"padding-left: 1em; padding-right: 1em; text-align: center; vertical-align: top\">0</td>\n",
       "        <td style=\"padding-left: 1em; padding-right: 1em; text-align: center; vertical-align: top\">0</td>\n",
       "        <td style=\"padding-left: 1em; padding-right: 1em; text-align: center; vertical-align: top\">0</td>\n",
       "        <td style=\"padding-left: 1em; padding-right: 1em; text-align: center; vertical-align: top\">0</td>\n",
       "        <td style=\"padding-left: 1em; padding-right: 1em; text-align: center; vertical-align: top\">0</td>\n",
       "        <td style=\"padding-left: 1em; padding-right: 1em; text-align: center; vertical-align: top\">0</td>\n",
       "        <td style=\"padding-left: 1em; padding-right: 1em; text-align: center; vertical-align: top\">0</td>\n",
       "        <td style=\"padding-left: 1em; padding-right: 1em; text-align: center; vertical-align: top\">0</td>\n",
       "    </tr>\n",
       "</table>\n",
       "[5 rows x 16 columns]<br/>\n",
       "</div>"
      ],
      "text/plain": [
       "Columns:\n",
       "\tname\tstr\n",
       "\treview\tstr\n",
       "\trating\tfloat\n",
       "\tword_count\tdict\n",
       "\tawesome\tint\n",
       "\tgreat\tint\n",
       "\tfantastic\tint\n",
       "\tamazing\tint\n",
       "\tlove\tint\n",
       "\thorrible\tint\n",
       "\tbad\tint\n",
       "\tterrible\tint\n",
       "\tawful\tint\n",
       "\thate\tint\n",
       "\twow\tint\n",
       "\tsentiment\tint\n",
       "\n",
       "Rows: 5\n",
       "\n",
       "Data:\n",
       "+-------------------------------+-------------------------------+--------+\n",
       "|              name             |             review            | rating |\n",
       "+-------------------------------+-------------------------------+--------+\n",
       "|     Planetwise Wipe Pouch     | it came early and was not ... |  5.0   |\n",
       "| Annas Dream Full Quilt wit... | Very soft and comfortable ... |  5.0   |\n",
       "| Stop Pacifier Sucking with... | This is a product well wor... |  5.0   |\n",
       "| Stop Pacifier Sucking with... | All of my kids have cried ... |  5.0   |\n",
       "| Stop Pacifier Sucking with... | When the Binky Fairy came ... |  5.0   |\n",
       "+-------------------------------+-------------------------------+--------+\n",
       "+-------------------------------+---------+-------+-----------+---------+------+\n",
       "|           word_count          | awesome | great | fantastic | amazing | love |\n",
       "+-------------------------------+---------+-------+-----------+---------+------+\n",
       "| {'and': 3, 'love': 1, 'it'... |    0    |   0   |     0     |    0    |  1   |\n",
       "| {'and': 2, 'quilt': 1, 'it... |    0    |   0   |     0     |    0    |  0   |\n",
       "| {'ingenious': 1, 'and': 3,... |    0    |   0   |     0     |    0    |  2   |\n",
       "| {'and': 2, 'parents!!': 1,... |    0    |   1   |     0     |    0    |  0   |\n",
       "| {'and': 2, 'this': 2, 'her... |    0    |   1   |     0     |    0    |  0   |\n",
       "+-------------------------------+---------+-------+-----------+---------+------+\n",
       "+----------+-----+----------+-------+------+-----+-----------+\n",
       "| horrible | bad | terrible | awful | hate | wow | sentiment |\n",
       "+----------+-----+----------+-------+------+-----+-----------+\n",
       "|    0     |  0  |    0     |   0   |  0   |  0  |     0     |\n",
       "|    0     |  0  |    0     |   0   |  0   |  0  |     0     |\n",
       "|    0     |  0  |    0     |   0   |  0   |  0  |     0     |\n",
       "|    0     |  0  |    0     |   0   |  0   |  0  |     0     |\n",
       "|    0     |  0  |    0     |   0   |  0   |  0  |     0     |\n",
       "+----------+-----+----------+-------+------+-----+-----------+\n",
       "[5 rows x 16 columns]"
      ]
     },
     "execution_count": 113,
     "metadata": {},
     "output_type": "execute_result"
    }
   ],
   "source": [
    "N_products.head(5)"
   ]
  },
  {
   "cell_type": "code",
   "execution_count": 121,
   "metadata": {
    "collapsed": true
   },
   "outputs": [],
   "source": [
    "#ignore all 3* reviews\n",
    "N_products = N_products[N_products['sentiment'] == 1]"
   ]
  },
  {
   "cell_type": "code",
   "execution_count": 122,
   "metadata": {
    "collapsed": true
   },
   "outputs": [],
   "source": [
    "DN= {}\n",
    "for k in range(11):\n",
    "    sm = sum(N_products[myWords[k]])\n",
    "    DN.update({'w_' + myWords[k] : sm})"
   ]
  },
  {
   "cell_type": "code",
   "execution_count": 123,
   "metadata": {
    "collapsed": false
   },
   "outputs": [
    {
     "data": {
      "text/plain": [
       "{'w_amazing': 84,\n",
       " 'w_awesome': 105,\n",
       " 'w_awful': 190,\n",
       " 'w_bad': 1118,\n",
       " 'w_fantastic': 56,\n",
       " 'w_great': 2854,\n",
       " 'w_hate': 457,\n",
       " 'w_horrible': 413,\n",
       " 'w_love': 1572,\n",
       " 'w_terrible': 418,\n",
       " 'w_wow': 21}"
      ]
     },
     "execution_count": 123,
     "metadata": {},
     "output_type": "execute_result"
    }
   ],
   "source": [
    "DN"
   ]
  },
  {
   "cell_type": "markdown",
   "metadata": {},
   "source": [
    "#### Q 4 : Out of the 11 words in selected_words, which one got the most negative weight in the selected_words_model?"
   ]
  },
  {
   "cell_type": "code",
   "execution_count": 125,
   "metadata": {
    "collapsed": false
   },
   "outputs": [
    {
     "data": {
      "text/plain": [
       "'w_great'"
      ]
     },
     "execution_count": 125,
     "metadata": {},
     "output_type": "execute_result"
    }
   ],
   "source": [
    "import operator\n",
    "max(DN.iteritems(), key=operator.itemgetter(1))[0]"
   ]
  },
  {
   "cell_type": "markdown",
   "metadata": {},
   "source": [
    "(x):Hate,Bad\n",
    "(x) awful"
   ]
  },
  {
   "cell_type": "markdown",
   "metadata": {
    "collapsed": true
   },
   "source": [
    "### Classification"
   ]
  },
  {
   "cell_type": "code",
   "execution_count": 130,
   "metadata": {
    "collapsed": true
   },
   "outputs": [],
   "source": [
    "#ignore all 3* reviews\n",
    "products = products[products['rating'] != 3]"
   ]
  },
  {
   "cell_type": "code",
   "execution_count": 131,
   "metadata": {
    "collapsed": true
   },
   "outputs": [],
   "source": [
    "#positive sentiment = 4* or 5* reviews\n",
    "products['sentiment'] = products['rating'] >=4"
   ]
  },
  {
   "cell_type": "code",
   "execution_count": 132,
   "metadata": {
    "collapsed": true
   },
   "outputs": [],
   "source": [
    "train_data,test_data = products.random_split(.8, seed=0)"
   ]
  },
  {
   "cell_type": "code",
   "execution_count": 133,
   "metadata": {
    "collapsed": false
   },
   "outputs": [
    {
     "name": "stdout",
     "output_type": "stream",
     "text": [
      "PROGRESS: Logistic regression:\n",
      "PROGRESS: --------------------------------------------------------\n",
      "PROGRESS: Number of examples          : 133448\n",
      "PROGRESS: Number of classes           : 2\n",
      "PROGRESS: Number of feature columns   : 11\n",
      "PROGRESS: Number of unpacked features : 11\n",
      "PROGRESS: Number of coefficients    : 12\n",
      "PROGRESS: Starting Newton Method\n",
      "PROGRESS: --------------------------------------------------------\n",
      "PROGRESS: +-----------+----------+--------------+-------------------+---------------------+\n",
      "PROGRESS: | Iteration | Passes   | Elapsed Time | Training-accuracy | Validation-accuracy |\n",
      "PROGRESS: +-----------+----------+--------------+-------------------+---------------------+\n",
      "PROGRESS: | 1         | 2        | 1.126250     | 0.844299          | 0.842842            |\n",
      "PROGRESS: | 2         | 3        | 1.200645     | 0.844186          | 0.842842            |\n",
      "PROGRESS: | 3         | 4        | 1.276136     | 0.844276          | 0.843142            |\n",
      "PROGRESS: | 4         | 5        | 1.352478     | 0.844269          | 0.843142            |\n",
      "PROGRESS: | 5         | 6        | 1.434591     | 0.844269          | 0.843142            |\n",
      "PROGRESS: | 6         | 7        | 1.509458     | 0.844269          | 0.843142            |\n",
      "PROGRESS: +-----------+----------+--------------+-------------------+---------------------+\n"
     ]
    }
   ],
   "source": [
    "sentiment_model = graphlab.logistic_classifier.create(train_data,\n",
    "                                                     target='sentiment',\n",
    "                                                     features=selected_words,\n",
    "                                                     validation_set=test_data)"
   ]
  },
  {
   "cell_type": "code",
   "execution_count": 134,
   "metadata": {
    "collapsed": false
   },
   "outputs": [
    {
     "data": {
      "text/plain": [
       "{'roc_curve': Columns:\n",
       " \tthreshold\tfloat\n",
       " \tfpr\tfloat\n",
       " \ttpr\tfloat\n",
       " \tp\tint\n",
       " \tn\tint\n",
       " \n",
       " Rows: 1001\n",
       " \n",
       " Data:\n",
       " +------------------+-------------------+-----+-------+------+\n",
       " |    threshold     |        fpr        | tpr |   p   |  n   |\n",
       " +------------------+-------------------+-----+-------+------+\n",
       " |       0.0        | 0.000187546886722 | 0.0 | 27864 | 5332 |\n",
       " | 0.0010000000475  |   0.999812453113  | 1.0 | 27864 | 5332 |\n",
       " | 0.00200000009499 |   0.999624906227  | 1.0 | 27864 | 5332 |\n",
       " | 0.00300000002608 |   0.999624906227  | 1.0 | 27864 | 5332 |\n",
       " | 0.00400000018999 |   0.99943735934   | 1.0 | 27864 | 5332 |\n",
       " | 0.00499999988824 |   0.99943735934   | 1.0 | 27864 | 5332 |\n",
       " | 0.00600000005215 |   0.999249812453  | 1.0 | 27864 | 5332 |\n",
       " | 0.00700000021607 |   0.999249812453  | 1.0 | 27864 | 5332 |\n",
       " | 0.00800000037998 |   0.999249812453  | 1.0 | 27864 | 5332 |\n",
       " | 0.00899999961257 |   0.999249812453  | 1.0 | 27864 | 5332 |\n",
       " +------------------+-------------------+-----+-------+------+\n",
       " [1001 rows x 5 columns]\n",
       " Note: Only the head of the SFrame is printed.\n",
       " You can use print_rows(num_rows=m, num_columns=n) to print more rows and columns.}"
      ]
     },
     "execution_count": 134,
     "metadata": {},
     "output_type": "execute_result"
    }
   ],
   "source": [
    "sentiment_model.evaluate(test_data, metric='roc_curve')"
   ]
  },
  {
   "cell_type": "code",
   "execution_count": 135,
   "metadata": {
    "collapsed": false
   },
   "outputs": [
    {
     "data": {
      "application/javascript": [
       "$(\"head\").append($(\"<link/>\").attr({\n",
       "  rel:  \"stylesheet\",\n",
       "  type: \"text/css\",\n",
       "  href: \"//cdnjs.cloudflare.com/ajax/libs/font-awesome/4.1.0/css/font-awesome.min.css\"\n",
       "}));\n",
       "$(\"head\").append($(\"<link/>\").attr({\n",
       "  rel:  \"stylesheet\",\n",
       "  type: \"text/css\",\n",
       "  href: \"//dato.com/files/canvas/1.6.1/css/canvas.css\"\n",
       "}));\n",
       "\n",
       "            (function(){\n",
       "\n",
       "                var e = null;\n",
       "                if (typeof element == 'undefined') {\n",
       "                    var scripts = document.getElementsByTagName('script');\n",
       "                    var thisScriptTag = scripts[scripts.length-1];\n",
       "                    var parentDiv = thisScriptTag.parentNode;\n",
       "                    e = document.createElement('div');\n",
       "                    parentDiv.appendChild(e);\n",
       "                } else {\n",
       "                    e = element[0];\n",
       "                }\n",
       "\n",
       "                if (typeof requirejs !== 'undefined') {\n",
       "                    // disable load timeout; ipython_app.js is large and can take a while to load.\n",
       "                    requirejs.config({waitSeconds: 0});\n",
       "                }\n",
       "\n",
       "                require(['//dato.com/files/canvas/1.6.1/js/ipython_app.js'], function(IPythonApp){\n",
       "                    var app = new IPythonApp();\n",
       "                    app.attachView('model','Evaluation', {\"comparison\": null, \"selected_variable\": {\"comparison\": null, \"name\": [\"sentiment_model\"], \"view_file\": \"model\", \"view_component\": \"Evaluation\", \"view_params\": {\"model_type\": \"regression\", \"view\": \"Evaluation\"}, \"view_components\": [\"Summary\", \"Evaluation\", \"Comparison\"], \"model_type\": \"regression\", \"attributes\": {\"section_titles\": [\"Schema\", \"Hyperparameters\", \"Training Summary\", \"Settings\", \"Highest Positive Coefficients\", \"Lowest Negative Coefficients\"], \"sections\": [[[\"Number of coefficients\", 12], [\"Number of examples\", 133448], [\"Number of classes\", 2], [\"Number of feature columns\", 11], [\"Number of unpacked features\", 11]], [[\"L1 penalty\", 0.0], [\"L2 penalty\", 0.01]], [[\"Solver\", \"auto\"], [\"Solver iterations\", 6], [\"Solver status\", \"SUCCESS: Optimal solution found.\"], [\"Training time (sec)\", 1.5281]], [[\"Log-likelihood\", 54057.6401]], [[\"love\", 1.3999], [\"(intercept)\", 1.3673], [\"awesome\", 1.058], [\"amazing\", 0.8928], [\"fantastic\", 0.8913]], [[\"terrible\", -2.0905], [\"horrible\", -1.9965], [\"awful\", -1.7647], [\"hate\", -1.4092], [\"bad\", -0.9858]]]}, \"evaluations\": [[\"test_data\", {\"roc_curve\": [{\"threshold\": 0.0, \"p\": 27864, \"fpr\": 0.00018754688672168043, \"tpr\": 0.0, \"n\": 5332}, {\"threshold\": 0.0010000000474974513, \"p\": 27864, \"fpr\": 0.9998124531132783, \"tpr\": 1.0, \"n\": 5332}, {\"threshold\": 0.0020000000949949026, \"p\": 27864, \"fpr\": 0.9996249062265566, \"tpr\": 1.0, \"n\": 5332}, {\"threshold\": 0.003000000026077032, \"p\": 27864, \"fpr\": 0.9996249062265566, \"tpr\": 1.0, \"n\": 5332}, {\"threshold\": 0.004000000189989805, \"p\": 27864, \"fpr\": 0.9994373593398349, \"tpr\": 1.0, \"n\": 5332}, {\"threshold\": 0.004999999888241291, \"p\": 27864, \"fpr\": 0.9994373593398349, \"tpr\": 1.0, \"n\": 5332}, {\"threshold\": 0.006000000052154064, \"p\": 27864, \"fpr\": 0.9992498124531133, \"tpr\": 1.0, \"n\": 5332}, {\"threshold\": 0.007000000216066837, \"p\": 27864, \"fpr\": 0.9992498124531133, \"tpr\": 1.0, \"n\": 5332}, {\"threshold\": 0.00800000037997961, \"p\": 27864, \"fpr\": 0.9992498124531133, \"tpr\": 1.0, \"n\": 5332}, {\"threshold\": 0.008999999612569809, \"p\": 27864, \"fpr\": 0.9992498124531133, \"tpr\": 1.0, \"n\": 5332}, {\"threshold\": 0.009999999776482582, \"p\": 27864, \"fpr\": 0.9990622655663915, \"tpr\": 1.0, \"n\": 5332}, {\"threshold\": 0.010999999940395355, \"p\": 27864, \"fpr\": 0.9990622655663915, \"tpr\": 1.0, \"n\": 5332}, {\"threshold\": 0.012000000104308128, \"p\": 27864, \"fpr\": 0.9990622655663915, \"tpr\": 1.0, \"n\": 5332}, {\"threshold\": 0.013000000268220901, \"p\": 27864, \"fpr\": 0.9990622655663915, \"tpr\": 1.0, \"n\": 5332}, {\"threshold\": 0.014000000432133675, \"p\": 27864, \"fpr\": 0.9990622655663915, \"tpr\": 1.0, \"n\": 5332}, {\"threshold\": 0.014999999664723873, \"p\": 27864, \"fpr\": 0.9990622655663915, \"tpr\": 1.0, \"n\": 5332}, {\"threshold\": 0.01600000075995922, \"p\": 27864, \"fpr\": 0.9990622655663915, \"tpr\": 1.0, \"n\": 5332}, {\"threshold\": 0.017000000923871994, \"p\": 27864, \"fpr\": 0.9990622655663915, \"tpr\": 1.0, \"n\": 5332}, {\"threshold\": 0.017999999225139618, \"p\": 27864, \"fpr\": 0.9990622655663915, \"tpr\": 1.0, \"n\": 5332}, {\"threshold\": 0.01899999938905239, \"p\": 27864, \"fpr\": 0.9990622655663915, \"tpr\": 1.0, \"n\": 5332}, {\"threshold\": 0.019999999552965164, \"p\": 27864, \"fpr\": 0.9988747186796699, \"tpr\": 1.0, \"n\": 5332}, {\"threshold\": 0.020999999716877937, \"p\": 27864, \"fpr\": 0.9988747186796699, \"tpr\": 1.0, \"n\": 5332}, {\"threshold\": 0.02199999988079071, \"p\": 27864, \"fpr\": 0.9988747186796699, \"tpr\": 1.0, \"n\": 5332}, {\"threshold\": 0.023000000044703484, \"p\": 27864, \"fpr\": 0.9988747186796699, \"tpr\": 1.0, \"n\": 5332}, {\"threshold\": 0.024000000208616257, \"p\": 27864, \"fpr\": 0.9988747186796699, \"tpr\": 1.0, \"n\": 5332}, {\"threshold\": 0.02500000037252903, \"p\": 27864, \"fpr\": 0.9988747186796699, \"tpr\": 1.0, \"n\": 5332}, {\"threshold\": 0.026000000536441803, \"p\": 27864, \"fpr\": 0.9988747186796699, \"tpr\": 1.0, \"n\": 5332}, {\"threshold\": 0.027000000700354576, \"p\": 27864, \"fpr\": 0.9988747186796699, \"tpr\": 1.0, \"n\": 5332}, {\"threshold\": 0.02800000086426735, \"p\": 27864, \"fpr\": 0.9988747186796699, \"tpr\": 1.0, \"n\": 5332}, {\"threshold\": 0.028999999165534973, \"p\": 27864, \"fpr\": 0.9988747186796699, \"tpr\": 1.0, \"n\": 5332}, {\"threshold\": 0.029999999329447746, \"p\": 27864, \"fpr\": 0.9988747186796699, \"tpr\": 1.0, \"n\": 5332}, {\"threshold\": 0.03099999949336052, \"p\": 27864, \"fpr\": 0.9986871717929482, \"tpr\": 1.0, \"n\": 5332}, {\"threshold\": 0.03200000151991844, \"p\": 27864, \"fpr\": 0.9986871717929482, \"tpr\": 1.0, \"n\": 5332}, {\"threshold\": 0.032999999821186066, \"p\": 27864, \"fpr\": 0.9986871717929482, \"tpr\": 1.0, \"n\": 5332}, {\"threshold\": 0.03400000184774399, \"p\": 27864, \"fpr\": 0.9986871717929482, \"tpr\": 1.0, \"n\": 5332}, {\"threshold\": 0.03500000014901161, \"p\": 27864, \"fpr\": 0.9986871717929482, \"tpr\": 1.0, \"n\": 5332}, {\"threshold\": 0.035999998450279236, \"p\": 27864, \"fpr\": 0.9986871717929482, \"tpr\": 1.0, \"n\": 5332}, {\"threshold\": 0.03700000047683716, \"p\": 27864, \"fpr\": 0.9986871717929482, \"tpr\": 1.0, \"n\": 5332}, {\"threshold\": 0.03799999877810478, \"p\": 27864, \"fpr\": 0.9986871717929482, \"tpr\": 1.0, \"n\": 5332}, {\"threshold\": 0.039000000804662704, \"p\": 27864, \"fpr\": 0.9986871717929482, \"tpr\": 1.0, \"n\": 5332}, {\"threshold\": 0.03999999910593033, \"p\": 27864, \"fpr\": 0.9986871717929482, \"tpr\": 1.0, \"n\": 5332}, {\"threshold\": 0.04100000113248825, \"p\": 27864, \"fpr\": 0.9986871717929482, \"tpr\": 1.0, \"n\": 5332}, {\"threshold\": 0.041999999433755875, \"p\": 27864, \"fpr\": 0.9986871717929482, \"tpr\": 1.0, \"n\": 5332}, {\"threshold\": 0.0430000014603138, \"p\": 27864, \"fpr\": 0.9986871717929482, \"tpr\": 1.0, \"n\": 5332}, {\"threshold\": 0.04399999976158142, \"p\": 27864, \"fpr\": 0.9986871717929482, \"tpr\": 1.0, \"n\": 5332}, {\"threshold\": 0.04500000178813934, \"p\": 27864, \"fpr\": 0.9986871717929482, \"tpr\": 1.0, \"n\": 5332}, {\"threshold\": 0.04600000008940697, \"p\": 27864, \"fpr\": 0.9986871717929482, \"tpr\": 1.0, \"n\": 5332}, {\"threshold\": 0.04699999839067459, \"p\": 27864, \"fpr\": 0.9986871717929482, \"tpr\": 1.0, \"n\": 5332}, {\"threshold\": 0.04800000041723251, \"p\": 27864, \"fpr\": 0.9986871717929482, \"tpr\": 1.0, \"n\": 5332}, {\"threshold\": 0.04899999871850014, \"p\": 27864, \"fpr\": 0.9986871717929482, \"tpr\": 1.0, \"n\": 5332}, {\"threshold\": 0.05000000074505806, \"p\": 27864, \"fpr\": 0.9986871717929482, \"tpr\": 1.0, \"n\": 5332}, {\"threshold\": 0.050999999046325684, \"p\": 27864, \"fpr\": 0.9986871717929482, \"tpr\": 1.0, \"n\": 5332}, {\"threshold\": 0.052000001072883606, \"p\": 27864, \"fpr\": 0.9986871717929482, \"tpr\": 1.0, \"n\": 5332}, {\"threshold\": 0.05299999937415123, \"p\": 27864, \"fpr\": 0.9986871717929482, \"tpr\": 1.0, \"n\": 5332}, {\"threshold\": 0.05400000140070915, \"p\": 27864, \"fpr\": 0.9986871717929482, \"tpr\": 1.0, \"n\": 5332}, {\"threshold\": 0.054999999701976776, \"p\": 27864, \"fpr\": 0.9986871717929482, \"tpr\": 1.0, \"n\": 5332}, {\"threshold\": 0.0560000017285347, \"p\": 27864, \"fpr\": 0.9986871717929482, \"tpr\": 1.0, \"n\": 5332}, {\"threshold\": 0.05700000002980232, \"p\": 27864, \"fpr\": 0.9984996249062266, \"tpr\": 0.9999282227964399, \"n\": 5332}, {\"threshold\": 0.057999998331069946, \"p\": 27864, \"fpr\": 0.9984996249062266, \"tpr\": 0.9999282227964399, \"n\": 5332}, {\"threshold\": 0.05900000035762787, \"p\": 27864, \"fpr\": 0.9984996249062266, \"tpr\": 0.9999282227964399, \"n\": 5332}, {\"threshold\": 0.05999999865889549, \"p\": 27864, \"fpr\": 0.9984996249062266, \"tpr\": 0.9999282227964399, \"n\": 5332}, {\"threshold\": 0.061000000685453415, \"p\": 27864, \"fpr\": 0.9984996249062266, \"tpr\": 0.9999282227964399, \"n\": 5332}, {\"threshold\": 0.06199999898672104, \"p\": 27864, \"fpr\": 0.9979369842460615, \"tpr\": 0.9998923341946597, \"n\": 5332}, {\"threshold\": 0.06300000101327896, \"p\": 27864, \"fpr\": 0.9979369842460615, \"tpr\": 0.9998923341946597, \"n\": 5332}, {\"threshold\": 0.06400000303983688, \"p\": 27864, \"fpr\": 0.9977494373593399, \"tpr\": 0.9998923341946597, \"n\": 5332}, {\"threshold\": 0.06499999761581421, \"p\": 27864, \"fpr\": 0.9977494373593399, \"tpr\": 0.9998923341946597, \"n\": 5332}, {\"threshold\": 0.06599999964237213, \"p\": 27864, \"fpr\": 0.9977494373593399, \"tpr\": 0.9998923341946597, \"n\": 5332}, {\"threshold\": 0.06700000166893005, \"p\": 27864, \"fpr\": 0.9977494373593399, \"tpr\": 0.9998923341946597, \"n\": 5332}, {\"threshold\": 0.06800000369548798, \"p\": 27864, \"fpr\": 0.9973743435858965, \"tpr\": 0.9998564455928797, \"n\": 5332}, {\"threshold\": 0.0689999982714653, \"p\": 27864, \"fpr\": 0.9973743435858965, \"tpr\": 0.9998564455928797, \"n\": 5332}, {\"threshold\": 0.07000000029802322, \"p\": 27864, \"fpr\": 0.9973743435858965, \"tpr\": 0.9998564455928797, \"n\": 5332}, {\"threshold\": 0.07100000232458115, \"p\": 27864, \"fpr\": 0.9973743435858965, \"tpr\": 0.9998564455928797, \"n\": 5332}, {\"threshold\": 0.07199999690055847, \"p\": 27864, \"fpr\": 0.9973743435858965, \"tpr\": 0.9998564455928797, \"n\": 5332}, {\"threshold\": 0.0729999989271164, \"p\": 27864, \"fpr\": 0.9973743435858965, \"tpr\": 0.9998564455928797, \"n\": 5332}, {\"threshold\": 0.07400000095367432, \"p\": 27864, \"fpr\": 0.9973743435858965, \"tpr\": 0.9998564455928797, \"n\": 5332}, {\"threshold\": 0.07500000298023224, \"p\": 27864, \"fpr\": 0.9973743435858965, \"tpr\": 0.9998564455928797, \"n\": 5332}, {\"threshold\": 0.07599999755620956, \"p\": 27864, \"fpr\": 0.9973743435858965, \"tpr\": 0.9998564455928797, \"n\": 5332}, {\"threshold\": 0.07699999958276749, \"p\": 27864, \"fpr\": 0.9973743435858965, \"tpr\": 0.9998564455928797, \"n\": 5332}, {\"threshold\": 0.07800000160932541, \"p\": 27864, \"fpr\": 0.9973743435858965, \"tpr\": 0.9998564455928797, \"n\": 5332}, {\"threshold\": 0.07900000363588333, \"p\": 27864, \"fpr\": 0.9973743435858965, \"tpr\": 0.9998564455928797, \"n\": 5332}, {\"threshold\": 0.07999999821186066, \"p\": 27864, \"fpr\": 0.9973743435858965, \"tpr\": 0.9998564455928797, \"n\": 5332}, {\"threshold\": 0.08100000023841858, \"p\": 27864, \"fpr\": 0.9973743435858965, \"tpr\": 0.9998564455928797, \"n\": 5332}, {\"threshold\": 0.0820000022649765, \"p\": 27864, \"fpr\": 0.9973743435858965, \"tpr\": 0.9998564455928797, \"n\": 5332}, {\"threshold\": 0.08299999684095383, \"p\": 27864, \"fpr\": 0.9973743435858965, \"tpr\": 0.9998564455928797, \"n\": 5332}, {\"threshold\": 0.08399999886751175, \"p\": 27864, \"fpr\": 0.9971867966991748, \"tpr\": 0.9997846683893196, \"n\": 5332}, {\"threshold\": 0.08500000089406967, \"p\": 27864, \"fpr\": 0.9971867966991748, \"tpr\": 0.9997846683893196, \"n\": 5332}, {\"threshold\": 0.0860000029206276, \"p\": 27864, \"fpr\": 0.9971867966991748, \"tpr\": 0.9997846683893196, \"n\": 5332}, {\"threshold\": 0.08699999749660492, \"p\": 27864, \"fpr\": 0.9971867966991748, \"tpr\": 0.9997846683893196, \"n\": 5332}, {\"threshold\": 0.08799999952316284, \"p\": 27864, \"fpr\": 0.9971867966991748, \"tpr\": 0.9997846683893196, \"n\": 5332}, {\"threshold\": 0.08900000154972076, \"p\": 27864, \"fpr\": 0.9971867966991748, \"tpr\": 0.9997846683893196, \"n\": 5332}, {\"threshold\": 0.09000000357627869, \"p\": 27864, \"fpr\": 0.9971867966991748, \"tpr\": 0.9997846683893196, \"n\": 5332}, {\"threshold\": 0.09099999815225601, \"p\": 27864, \"fpr\": 0.9971867966991748, \"tpr\": 0.9997846683893196, \"n\": 5332}, {\"threshold\": 0.09200000017881393, \"p\": 27864, \"fpr\": 0.9971867966991748, \"tpr\": 0.9997846683893196, \"n\": 5332}, {\"threshold\": 0.09300000220537186, \"p\": 27864, \"fpr\": 0.9971867966991748, \"tpr\": 0.9997846683893196, \"n\": 5332}, {\"threshold\": 0.09399999678134918, \"p\": 27864, \"fpr\": 0.9971867966991748, \"tpr\": 0.9997846683893196, \"n\": 5332}, {\"threshold\": 0.0949999988079071, \"p\": 27864, \"fpr\": 0.9971867966991748, \"tpr\": 0.9997846683893196, \"n\": 5332}, {\"threshold\": 0.09600000083446503, \"p\": 27864, \"fpr\": 0.9971867966991748, \"tpr\": 0.9997846683893196, \"n\": 5332}, {\"threshold\": 0.09700000286102295, \"p\": 27864, \"fpr\": 0.9971867966991748, \"tpr\": 0.9997846683893196, \"n\": 5332}, {\"threshold\": 0.09799999743700027, \"p\": 27864, \"fpr\": 0.9971867966991748, \"tpr\": 0.9997846683893196, \"n\": 5332}, {\"threshold\": 0.0989999994635582, \"p\": 27864, \"fpr\": 0.9971867966991748, \"tpr\": 0.9997846683893196, \"n\": 5332}, {\"threshold\": 0.10000000149011612, \"p\": 27864, \"fpr\": 0.9971867966991748, \"tpr\": 0.9997846683893196, \"n\": 5332}, {\"threshold\": 0.10100000351667404, \"p\": 27864, \"fpr\": 0.9971867966991748, \"tpr\": 0.9997846683893196, \"n\": 5332}, {\"threshold\": 0.10199999809265137, \"p\": 27864, \"fpr\": 0.9971867966991748, \"tpr\": 0.9997846683893196, \"n\": 5332}, {\"threshold\": 0.10300000011920929, \"p\": 27864, \"fpr\": 0.9971867966991748, \"tpr\": 0.9997846683893196, \"n\": 5332}, {\"threshold\": 0.10400000214576721, \"p\": 27864, \"fpr\": 0.9971867966991748, \"tpr\": 0.9997846683893196, \"n\": 5332}, {\"threshold\": 0.10499999672174454, \"p\": 27864, \"fpr\": 0.9971867966991748, \"tpr\": 0.9997846683893196, \"n\": 5332}, {\"threshold\": 0.10599999874830246, \"p\": 27864, \"fpr\": 0.9971867966991748, \"tpr\": 0.9997846683893196, \"n\": 5332}, {\"threshold\": 0.10700000077486038, \"p\": 27864, \"fpr\": 0.9971867966991748, \"tpr\": 0.9997846683893196, \"n\": 5332}, {\"threshold\": 0.1080000028014183, \"p\": 27864, \"fpr\": 0.9971867966991748, \"tpr\": 0.9997846683893196, \"n\": 5332}, {\"threshold\": 0.10899999737739563, \"p\": 27864, \"fpr\": 0.9971867966991748, \"tpr\": 0.9997846683893196, \"n\": 5332}, {\"threshold\": 0.10999999940395355, \"p\": 27864, \"fpr\": 0.9971867966991748, \"tpr\": 0.9997846683893196, \"n\": 5332}, {\"threshold\": 0.11100000143051147, \"p\": 27864, \"fpr\": 0.9971867966991748, \"tpr\": 0.9997846683893196, \"n\": 5332}, {\"threshold\": 0.1120000034570694, \"p\": 27864, \"fpr\": 0.9971867966991748, \"tpr\": 0.9997846683893196, \"n\": 5332}, {\"threshold\": 0.11299999803304672, \"p\": 27864, \"fpr\": 0.9971867966991748, \"tpr\": 0.9997846683893196, \"n\": 5332}, {\"threshold\": 0.11400000005960464, \"p\": 27864, \"fpr\": 0.9971867966991748, \"tpr\": 0.9997846683893196, \"n\": 5332}, {\"threshold\": 0.11500000208616257, \"p\": 27864, \"fpr\": 0.9971867966991748, \"tpr\": 0.9997846683893196, \"n\": 5332}, {\"threshold\": 0.11599999666213989, \"p\": 27864, \"fpr\": 0.9971867966991748, \"tpr\": 0.9997846683893196, \"n\": 5332}, {\"threshold\": 0.11699999868869781, \"p\": 27864, \"fpr\": 0.9971867966991748, \"tpr\": 0.9997846683893196, \"n\": 5332}, {\"threshold\": 0.11800000071525574, \"p\": 27864, \"fpr\": 0.9971867966991748, \"tpr\": 0.9997846683893196, \"n\": 5332}, {\"threshold\": 0.11900000274181366, \"p\": 27864, \"fpr\": 0.9971867966991748, \"tpr\": 0.9997846683893196, \"n\": 5332}, {\"threshold\": 0.11999999731779099, \"p\": 27864, \"fpr\": 0.9971867966991748, \"tpr\": 0.9997846683893196, \"n\": 5332}, {\"threshold\": 0.12099999934434891, \"p\": 27864, \"fpr\": 0.9971867966991748, \"tpr\": 0.9997846683893196, \"n\": 5332}, {\"threshold\": 0.12200000137090683, \"p\": 27864, \"fpr\": 0.9971867966991748, \"tpr\": 0.9997846683893196, \"n\": 5332}, {\"threshold\": 0.12300000339746475, \"p\": 27864, \"fpr\": 0.9971867966991748, \"tpr\": 0.9997846683893196, \"n\": 5332}, {\"threshold\": 0.12399999797344208, \"p\": 27864, \"fpr\": 0.9971867966991748, \"tpr\": 0.9997846683893196, \"n\": 5332}, {\"threshold\": 0.125, \"p\": 27864, \"fpr\": 0.9971867966991748, \"tpr\": 0.9997846683893196, \"n\": 5332}, {\"threshold\": 0.12600000202655792, \"p\": 27864, \"fpr\": 0.9971867966991748, \"tpr\": 0.9997846683893196, \"n\": 5332}, {\"threshold\": 0.12700000405311584, \"p\": 27864, \"fpr\": 0.9971867966991748, \"tpr\": 0.9997846683893196, \"n\": 5332}, {\"threshold\": 0.12800000607967377, \"p\": 27864, \"fpr\": 0.9971867966991748, \"tpr\": 0.9997846683893196, \"n\": 5332}, {\"threshold\": 0.1289999932050705, \"p\": 27864, \"fpr\": 0.9971867966991748, \"tpr\": 0.9997846683893196, \"n\": 5332}, {\"threshold\": 0.12999999523162842, \"p\": 27864, \"fpr\": 0.9971867966991748, \"tpr\": 0.9997846683893196, \"n\": 5332}, {\"threshold\": 0.13099999725818634, \"p\": 27864, \"fpr\": 0.9971867966991748, \"tpr\": 0.9997846683893196, \"n\": 5332}, {\"threshold\": 0.13199999928474426, \"p\": 27864, \"fpr\": 0.9971867966991748, \"tpr\": 0.9997846683893196, \"n\": 5332}, {\"threshold\": 0.13300000131130219, \"p\": 27864, \"fpr\": 0.9971867966991748, \"tpr\": 0.9997846683893196, \"n\": 5332}, {\"threshold\": 0.1340000033378601, \"p\": 27864, \"fpr\": 0.9971867966991748, \"tpr\": 0.9997846683893196, \"n\": 5332}, {\"threshold\": 0.13500000536441803, \"p\": 27864, \"fpr\": 0.9971867966991748, \"tpr\": 0.9997846683893196, \"n\": 5332}, {\"threshold\": 0.13600000739097595, \"p\": 27864, \"fpr\": 0.9971867966991748, \"tpr\": 0.9997846683893196, \"n\": 5332}, {\"threshold\": 0.13699999451637268, \"p\": 27864, \"fpr\": 0.9971867966991748, \"tpr\": 0.9997846683893196, \"n\": 5332}, {\"threshold\": 0.1379999965429306, \"p\": 27864, \"fpr\": 0.9971867966991748, \"tpr\": 0.9997846683893196, \"n\": 5332}, {\"threshold\": 0.13899999856948853, \"p\": 27864, \"fpr\": 0.9971867966991748, \"tpr\": 0.9997846683893196, \"n\": 5332}, {\"threshold\": 0.14000000059604645, \"p\": 27864, \"fpr\": 0.9971867966991748, \"tpr\": 0.9997846683893196, \"n\": 5332}, {\"threshold\": 0.14100000262260437, \"p\": 27864, \"fpr\": 0.9971867966991748, \"tpr\": 0.9997846683893196, \"n\": 5332}, {\"threshold\": 0.1420000046491623, \"p\": 27864, \"fpr\": 0.9969992498124531, \"tpr\": 0.9997487797875395, \"n\": 5332}, {\"threshold\": 0.14300000667572021, \"p\": 27864, \"fpr\": 0.9969992498124531, \"tpr\": 0.9997487797875395, \"n\": 5332}, {\"threshold\": 0.14399999380111694, \"p\": 27864, \"fpr\": 0.9969992498124531, \"tpr\": 0.9997487797875395, \"n\": 5332}, {\"threshold\": 0.14499999582767487, \"p\": 27864, \"fpr\": 0.9969992498124531, \"tpr\": 0.9997487797875395, \"n\": 5332}, {\"threshold\": 0.1459999978542328, \"p\": 27864, \"fpr\": 0.9969992498124531, \"tpr\": 0.9997487797875395, \"n\": 5332}, {\"threshold\": 0.1469999998807907, \"p\": 27864, \"fpr\": 0.9969992498124531, \"tpr\": 0.9997487797875395, \"n\": 5332}, {\"threshold\": 0.14800000190734863, \"p\": 27864, \"fpr\": 0.9969992498124531, \"tpr\": 0.9997487797875395, \"n\": 5332}, {\"threshold\": 0.14900000393390656, \"p\": 27864, \"fpr\": 0.9969992498124531, \"tpr\": 0.9997487797875395, \"n\": 5332}, {\"threshold\": 0.15000000596046448, \"p\": 27864, \"fpr\": 0.9969992498124531, \"tpr\": 0.9997487797875395, \"n\": 5332}, {\"threshold\": 0.1509999930858612, \"p\": 27864, \"fpr\": 0.9969992498124531, \"tpr\": 0.9997487797875395, \"n\": 5332}, {\"threshold\": 0.15199999511241913, \"p\": 27864, \"fpr\": 0.9969992498124531, \"tpr\": 0.9997487797875395, \"n\": 5332}, {\"threshold\": 0.15299999713897705, \"p\": 27864, \"fpr\": 0.9969992498124531, \"tpr\": 0.9997487797875395, \"n\": 5332}, {\"threshold\": 0.15399999916553497, \"p\": 27864, \"fpr\": 0.996436609152288, \"tpr\": 0.9996411139821992, \"n\": 5332}, {\"threshold\": 0.1550000011920929, \"p\": 27864, \"fpr\": 0.996436609152288, \"tpr\": 0.9996411139821992, \"n\": 5332}, {\"threshold\": 0.15600000321865082, \"p\": 27864, \"fpr\": 0.996436609152288, \"tpr\": 0.9996411139821992, \"n\": 5332}, {\"threshold\": 0.15700000524520874, \"p\": 27864, \"fpr\": 0.996436609152288, \"tpr\": 0.9996411139821992, \"n\": 5332}, {\"threshold\": 0.15800000727176666, \"p\": 27864, \"fpr\": 0.996436609152288, \"tpr\": 0.9996411139821992, \"n\": 5332}, {\"threshold\": 0.1589999943971634, \"p\": 27864, \"fpr\": 0.996436609152288, \"tpr\": 0.9996411139821992, \"n\": 5332}, {\"threshold\": 0.1599999964237213, \"p\": 27864, \"fpr\": 0.996436609152288, \"tpr\": 0.9996411139821992, \"n\": 5332}, {\"threshold\": 0.16099999845027924, \"p\": 27864, \"fpr\": 0.996436609152288, \"tpr\": 0.9996411139821992, \"n\": 5332}, {\"threshold\": 0.16200000047683716, \"p\": 27864, \"fpr\": 0.996436609152288, \"tpr\": 0.9996411139821992, \"n\": 5332}, {\"threshold\": 0.16300000250339508, \"p\": 27864, \"fpr\": 0.996436609152288, \"tpr\": 0.9996411139821992, \"n\": 5332}, {\"threshold\": 0.164000004529953, \"p\": 27864, \"fpr\": 0.996436609152288, \"tpr\": 0.9996411139821992, \"n\": 5332}, {\"threshold\": 0.16500000655651093, \"p\": 27864, \"fpr\": 0.996436609152288, \"tpr\": 0.9996411139821992, \"n\": 5332}, {\"threshold\": 0.16599999368190765, \"p\": 27864, \"fpr\": 0.9958739684921231, \"tpr\": 0.9996052253804192, \"n\": 5332}, {\"threshold\": 0.16699999570846558, \"p\": 27864, \"fpr\": 0.9958739684921231, \"tpr\": 0.9996052253804192, \"n\": 5332}, {\"threshold\": 0.1679999977350235, \"p\": 27864, \"fpr\": 0.9958739684921231, \"tpr\": 0.9996052253804192, \"n\": 5332}, {\"threshold\": 0.16899999976158142, \"p\": 27864, \"fpr\": 0.9958739684921231, \"tpr\": 0.9996052253804192, \"n\": 5332}, {\"threshold\": 0.17000000178813934, \"p\": 27864, \"fpr\": 0.9958739684921231, \"tpr\": 0.9996052253804192, \"n\": 5332}, {\"threshold\": 0.17100000381469727, \"p\": 27864, \"fpr\": 0.9958739684921231, \"tpr\": 0.9996052253804192, \"n\": 5332}, {\"threshold\": 0.1720000058412552, \"p\": 27864, \"fpr\": 0.9958739684921231, \"tpr\": 0.9996052253804192, \"n\": 5332}, {\"threshold\": 0.17299999296665192, \"p\": 27864, \"fpr\": 0.9958739684921231, \"tpr\": 0.9996052253804192, \"n\": 5332}, {\"threshold\": 0.17399999499320984, \"p\": 27864, \"fpr\": 0.9958739684921231, \"tpr\": 0.9996052253804192, \"n\": 5332}, {\"threshold\": 0.17499999701976776, \"p\": 27864, \"fpr\": 0.9958739684921231, \"tpr\": 0.9996052253804192, \"n\": 5332}, {\"threshold\": 0.17599999904632568, \"p\": 27864, \"fpr\": 0.9958739684921231, \"tpr\": 0.9996052253804192, \"n\": 5332}, {\"threshold\": 0.1770000010728836, \"p\": 27864, \"fpr\": 0.9958739684921231, \"tpr\": 0.9996052253804192, \"n\": 5332}, {\"threshold\": 0.17800000309944153, \"p\": 27864, \"fpr\": 0.9958739684921231, \"tpr\": 0.9996052253804192, \"n\": 5332}, {\"threshold\": 0.17900000512599945, \"p\": 27864, \"fpr\": 0.9958739684921231, \"tpr\": 0.9996052253804192, \"n\": 5332}, {\"threshold\": 0.18000000715255737, \"p\": 27864, \"fpr\": 0.9958739684921231, \"tpr\": 0.9996052253804192, \"n\": 5332}, {\"threshold\": 0.1809999942779541, \"p\": 27864, \"fpr\": 0.9958739684921231, \"tpr\": 0.9996052253804192, \"n\": 5332}, {\"threshold\": 0.18199999630451202, \"p\": 27864, \"fpr\": 0.9958739684921231, \"tpr\": 0.9996052253804192, \"n\": 5332}, {\"threshold\": 0.18299999833106995, \"p\": 27864, \"fpr\": 0.9958739684921231, \"tpr\": 0.9996052253804192, \"n\": 5332}, {\"threshold\": 0.18400000035762787, \"p\": 27864, \"fpr\": 0.9958739684921231, \"tpr\": 0.9996052253804192, \"n\": 5332}, {\"threshold\": 0.1850000023841858, \"p\": 27864, \"fpr\": 0.9958739684921231, \"tpr\": 0.9996052253804192, \"n\": 5332}, {\"threshold\": 0.1860000044107437, \"p\": 27864, \"fpr\": 0.9958739684921231, \"tpr\": 0.9996052253804192, \"n\": 5332}, {\"threshold\": 0.18700000643730164, \"p\": 27864, \"fpr\": 0.9958739684921231, \"tpr\": 0.9996052253804192, \"n\": 5332}, {\"threshold\": 0.18799999356269836, \"p\": 27864, \"fpr\": 0.9958739684921231, \"tpr\": 0.9996052253804192, \"n\": 5332}, {\"threshold\": 0.1889999955892563, \"p\": 27864, \"fpr\": 0.9958739684921231, \"tpr\": 0.9996052253804192, \"n\": 5332}, {\"threshold\": 0.1899999976158142, \"p\": 27864, \"fpr\": 0.9949362340585146, \"tpr\": 0.9994616709732989, \"n\": 5332}, {\"threshold\": 0.19099999964237213, \"p\": 27864, \"fpr\": 0.9949362340585146, \"tpr\": 0.9994616709732989, \"n\": 5332}, {\"threshold\": 0.19200000166893005, \"p\": 27864, \"fpr\": 0.9949362340585146, \"tpr\": 0.9994616709732989, \"n\": 5332}, {\"threshold\": 0.19300000369548798, \"p\": 27864, \"fpr\": 0.9949362340585146, \"tpr\": 0.9994616709732989, \"n\": 5332}, {\"threshold\": 0.1940000057220459, \"p\": 27864, \"fpr\": 0.9949362340585146, \"tpr\": 0.9994616709732989, \"n\": 5332}, {\"threshold\": 0.19499999284744263, \"p\": 27864, \"fpr\": 0.9949362340585146, \"tpr\": 0.9994616709732989, \"n\": 5332}, {\"threshold\": 0.19599999487400055, \"p\": 27864, \"fpr\": 0.9949362340585146, \"tpr\": 0.9994257823715188, \"n\": 5332}, {\"threshold\": 0.19699999690055847, \"p\": 27864, \"fpr\": 0.9949362340585146, \"tpr\": 0.9994257823715188, \"n\": 5332}, {\"threshold\": 0.1979999989271164, \"p\": 27864, \"fpr\": 0.9949362340585146, \"tpr\": 0.9994257823715188, \"n\": 5332}, {\"threshold\": 0.19900000095367432, \"p\": 27864, \"fpr\": 0.9949362340585146, \"tpr\": 0.9994257823715188, \"n\": 5332}, {\"threshold\": 0.20000000298023224, \"p\": 27864, \"fpr\": 0.9949362340585146, \"tpr\": 0.9994257823715188, \"n\": 5332}, {\"threshold\": 0.20100000500679016, \"p\": 27864, \"fpr\": 0.9945611402850713, \"tpr\": 0.9993898937697387, \"n\": 5332}, {\"threshold\": 0.20200000703334808, \"p\": 27864, \"fpr\": 0.9945611402850713, \"tpr\": 0.9993898937697387, \"n\": 5332}, {\"threshold\": 0.2029999941587448, \"p\": 27864, \"fpr\": 0.9945611402850713, \"tpr\": 0.9993898937697387, \"n\": 5332}, {\"threshold\": 0.20399999618530273, \"p\": 27864, \"fpr\": 0.9945611402850713, \"tpr\": 0.9993898937697387, \"n\": 5332}, {\"threshold\": 0.20499999821186066, \"p\": 27864, \"fpr\": 0.9945611402850713, \"tpr\": 0.9993898937697387, \"n\": 5332}, {\"threshold\": 0.20600000023841858, \"p\": 27864, \"fpr\": 0.9945611402850713, \"tpr\": 0.9993898937697387, \"n\": 5332}, {\"threshold\": 0.2070000022649765, \"p\": 27864, \"fpr\": 0.9945611402850713, \"tpr\": 0.9993898937697387, \"n\": 5332}, {\"threshold\": 0.20800000429153442, \"p\": 27864, \"fpr\": 0.9945611402850713, \"tpr\": 0.9993898937697387, \"n\": 5332}, {\"threshold\": 0.20900000631809235, \"p\": 27864, \"fpr\": 0.9945611402850713, \"tpr\": 0.9993898937697387, \"n\": 5332}, {\"threshold\": 0.20999999344348907, \"p\": 27864, \"fpr\": 0.9945611402850713, \"tpr\": 0.9993898937697387, \"n\": 5332}, {\"threshold\": 0.210999995470047, \"p\": 27864, \"fpr\": 0.9945611402850713, \"tpr\": 0.9993540051679587, \"n\": 5332}, {\"threshold\": 0.21199999749660492, \"p\": 27864, \"fpr\": 0.9945611402850713, \"tpr\": 0.9993540051679587, \"n\": 5332}, {\"threshold\": 0.21299999952316284, \"p\": 27864, \"fpr\": 0.9945611402850713, \"tpr\": 0.9993540051679587, \"n\": 5332}, {\"threshold\": 0.21400000154972076, \"p\": 27864, \"fpr\": 0.9945611402850713, \"tpr\": 0.9993540051679587, \"n\": 5332}, {\"threshold\": 0.2150000035762787, \"p\": 27864, \"fpr\": 0.9945611402850713, \"tpr\": 0.9993540051679587, \"n\": 5332}, {\"threshold\": 0.2160000056028366, \"p\": 27864, \"fpr\": 0.9945611402850713, \"tpr\": 0.9993540051679587, \"n\": 5332}, {\"threshold\": 0.21699999272823334, \"p\": 27864, \"fpr\": 0.9945611402850713, \"tpr\": 0.9993540051679587, \"n\": 5332}, {\"threshold\": 0.21799999475479126, \"p\": 27864, \"fpr\": 0.9945611402850713, \"tpr\": 0.9993181165661785, \"n\": 5332}, {\"threshold\": 0.21899999678134918, \"p\": 27864, \"fpr\": 0.9945611402850713, \"tpr\": 0.9993181165661785, \"n\": 5332}, {\"threshold\": 0.2199999988079071, \"p\": 27864, \"fpr\": 0.9945611402850713, \"tpr\": 0.9993181165661785, \"n\": 5332}, {\"threshold\": 0.22100000083446503, \"p\": 27864, \"fpr\": 0.9945611402850713, \"tpr\": 0.9993181165661785, \"n\": 5332}, {\"threshold\": 0.22200000286102295, \"p\": 27864, \"fpr\": 0.9945611402850713, \"tpr\": 0.9993181165661785, \"n\": 5332}, {\"threshold\": 0.22300000488758087, \"p\": 27864, \"fpr\": 0.9945611402850713, \"tpr\": 0.9993181165661785, \"n\": 5332}, {\"threshold\": 0.2240000069141388, \"p\": 27864, \"fpr\": 0.9945611402850713, \"tpr\": 0.9993181165661785, \"n\": 5332}, {\"threshold\": 0.22499999403953552, \"p\": 27864, \"fpr\": 0.9945611402850713, \"tpr\": 0.9993181165661785, \"n\": 5332}, {\"threshold\": 0.22599999606609344, \"p\": 27864, \"fpr\": 0.9945611402850713, \"tpr\": 0.9993181165661785, \"n\": 5332}, {\"threshold\": 0.22699999809265137, \"p\": 27864, \"fpr\": 0.9945611402850713, \"tpr\": 0.9993181165661785, \"n\": 5332}, {\"threshold\": 0.2280000001192093, \"p\": 27864, \"fpr\": 0.9945611402850713, \"tpr\": 0.9993181165661785, \"n\": 5332}, {\"threshold\": 0.2290000021457672, \"p\": 27864, \"fpr\": 0.9945611402850713, \"tpr\": 0.9993181165661785, \"n\": 5332}, {\"threshold\": 0.23000000417232513, \"p\": 27864, \"fpr\": 0.9945611402850713, \"tpr\": 0.9993181165661785, \"n\": 5332}, {\"threshold\": 0.23100000619888306, \"p\": 27864, \"fpr\": 0.9945611402850713, \"tpr\": 0.9993181165661785, \"n\": 5332}, {\"threshold\": 0.23199999332427979, \"p\": 27864, \"fpr\": 0.9945611402850713, \"tpr\": 0.9993181165661785, \"n\": 5332}, {\"threshold\": 0.2329999953508377, \"p\": 27864, \"fpr\": 0.9945611402850713, \"tpr\": 0.9993181165661785, \"n\": 5332}, {\"threshold\": 0.23399999737739563, \"p\": 27864, \"fpr\": 0.9945611402850713, \"tpr\": 0.9993181165661785, \"n\": 5332}, {\"threshold\": 0.23499999940395355, \"p\": 27864, \"fpr\": 0.9945611402850713, \"tpr\": 0.9993181165661785, \"n\": 5332}, {\"threshold\": 0.23600000143051147, \"p\": 27864, \"fpr\": 0.9945611402850713, \"tpr\": 0.9993181165661785, \"n\": 5332}, {\"threshold\": 0.2370000034570694, \"p\": 27864, \"fpr\": 0.9945611402850713, \"tpr\": 0.9993181165661785, \"n\": 5332}, {\"threshold\": 0.23800000548362732, \"p\": 27864, \"fpr\": 0.9945611402850713, \"tpr\": 0.9993181165661785, \"n\": 5332}, {\"threshold\": 0.23899999260902405, \"p\": 27864, \"fpr\": 0.9945611402850713, \"tpr\": 0.9993181165661785, \"n\": 5332}, {\"threshold\": 0.23999999463558197, \"p\": 27864, \"fpr\": 0.9945611402850713, \"tpr\": 0.9993181165661785, \"n\": 5332}, {\"threshold\": 0.2409999966621399, \"p\": 27864, \"fpr\": 0.9945611402850713, \"tpr\": 0.9993181165661785, \"n\": 5332}, {\"threshold\": 0.24199999868869781, \"p\": 27864, \"fpr\": 0.9945611402850713, \"tpr\": 0.9993181165661785, \"n\": 5332}, {\"threshold\": 0.24300000071525574, \"p\": 27864, \"fpr\": 0.9945611402850713, \"tpr\": 0.9993181165661785, \"n\": 5332}, {\"threshold\": 0.24400000274181366, \"p\": 27864, \"fpr\": 0.9945611402850713, \"tpr\": 0.9993181165661785, \"n\": 5332}, {\"threshold\": 0.24500000476837158, \"p\": 27864, \"fpr\": 0.9945611402850713, \"tpr\": 0.9993181165661785, \"n\": 5332}, {\"threshold\": 0.2460000067949295, \"p\": 27864, \"fpr\": 0.9945611402850713, \"tpr\": 0.9993181165661785, \"n\": 5332}, {\"threshold\": 0.24699999392032623, \"p\": 27864, \"fpr\": 0.9945611402850713, \"tpr\": 0.9993181165661785, \"n\": 5332}, {\"threshold\": 0.24799999594688416, \"p\": 27864, \"fpr\": 0.9945611402850713, \"tpr\": 0.9993181165661785, \"n\": 5332}, {\"threshold\": 0.24899999797344208, \"p\": 27864, \"fpr\": 0.9945611402850713, \"tpr\": 0.9993181165661785, \"n\": 5332}, {\"threshold\": 0.25, \"p\": 27864, \"fpr\": 0.9945611402850713, \"tpr\": 0.9993181165661785, \"n\": 5332}, {\"threshold\": 0.25099998712539673, \"p\": 27864, \"fpr\": 0.9945611402850713, \"tpr\": 0.9993181165661785, \"n\": 5332}, {\"threshold\": 0.25200000405311584, \"p\": 27864, \"fpr\": 0.9945611402850713, \"tpr\": 0.9993181165661785, \"n\": 5332}, {\"threshold\": 0.2529999911785126, \"p\": 27864, \"fpr\": 0.9945611402850713, \"tpr\": 0.9993181165661785, \"n\": 5332}, {\"threshold\": 0.2540000081062317, \"p\": 27864, \"fpr\": 0.9945611402850713, \"tpr\": 0.9993181165661785, \"n\": 5332}, {\"threshold\": 0.2549999952316284, \"p\": 27864, \"fpr\": 0.9945611402850713, \"tpr\": 0.9993181165661785, \"n\": 5332}, {\"threshold\": 0.25600001215934753, \"p\": 27864, \"fpr\": 0.9945611402850713, \"tpr\": 0.9993181165661785, \"n\": 5332}, {\"threshold\": 0.25699999928474426, \"p\": 27864, \"fpr\": 0.9945611402850713, \"tpr\": 0.9993181165661785, \"n\": 5332}, {\"threshold\": 0.257999986410141, \"p\": 27864, \"fpr\": 0.9945611402850713, \"tpr\": 0.9993181165661785, \"n\": 5332}, {\"threshold\": 0.2590000033378601, \"p\": 27864, \"fpr\": 0.9945611402850713, \"tpr\": 0.9993181165661785, \"n\": 5332}, {\"threshold\": 0.25999999046325684, \"p\": 27864, \"fpr\": 0.9945611402850713, \"tpr\": 0.9993181165661785, \"n\": 5332}, {\"threshold\": 0.26100000739097595, \"p\": 27864, \"fpr\": 0.9945611402850713, \"tpr\": 0.9993181165661785, \"n\": 5332}, {\"threshold\": 0.2619999945163727, \"p\": 27864, \"fpr\": 0.9945611402850713, \"tpr\": 0.9993181165661785, \"n\": 5332}, {\"threshold\": 0.2630000114440918, \"p\": 27864, \"fpr\": 0.9945611402850713, \"tpr\": 0.9993181165661785, \"n\": 5332}, {\"threshold\": 0.2639999985694885, \"p\": 27864, \"fpr\": 0.9938109527381845, \"tpr\": 0.9992822279643985, \"n\": 5332}, {\"threshold\": 0.26499998569488525, \"p\": 27864, \"fpr\": 0.9938109527381845, \"tpr\": 0.9992822279643985, \"n\": 5332}, {\"threshold\": 0.26600000262260437, \"p\": 27864, \"fpr\": 0.9938109527381845, \"tpr\": 0.9992822279643985, \"n\": 5332}, {\"threshold\": 0.2669999897480011, \"p\": 27864, \"fpr\": 0.9938109527381845, \"tpr\": 0.9992822279643985, \"n\": 5332}, {\"threshold\": 0.2680000066757202, \"p\": 27864, \"fpr\": 0.9938109527381845, \"tpr\": 0.9992822279643985, \"n\": 5332}, {\"threshold\": 0.26899999380111694, \"p\": 27864, \"fpr\": 0.9938109527381845, \"tpr\": 0.9992822279643985, \"n\": 5332}, {\"threshold\": 0.27000001072883606, \"p\": 27864, \"fpr\": 0.9938109527381845, \"tpr\": 0.9992822279643985, \"n\": 5332}, {\"threshold\": 0.2709999978542328, \"p\": 27864, \"fpr\": 0.9938109527381845, \"tpr\": 0.9992822279643985, \"n\": 5332}, {\"threshold\": 0.2720000147819519, \"p\": 27864, \"fpr\": 0.9938109527381845, \"tpr\": 0.9992822279643985, \"n\": 5332}, {\"threshold\": 0.27300000190734863, \"p\": 27864, \"fpr\": 0.9938109527381845, \"tpr\": 0.9992822279643985, \"n\": 5332}, {\"threshold\": 0.27399998903274536, \"p\": 27864, \"fpr\": 0.9938109527381845, \"tpr\": 0.9992822279643985, \"n\": 5332}, {\"threshold\": 0.2750000059604645, \"p\": 27864, \"fpr\": 0.9938109527381845, \"tpr\": 0.9992822279643985, \"n\": 5332}, {\"threshold\": 0.2759999930858612, \"p\": 27864, \"fpr\": 0.9938109527381845, \"tpr\": 0.9992822279643985, \"n\": 5332}, {\"threshold\": 0.2770000100135803, \"p\": 27864, \"fpr\": 0.9938109527381845, \"tpr\": 0.9992822279643985, \"n\": 5332}, {\"threshold\": 0.27799999713897705, \"p\": 27864, \"fpr\": 0.9938109527381845, \"tpr\": 0.9992822279643985, \"n\": 5332}, {\"threshold\": 0.27900001406669617, \"p\": 27864, \"fpr\": 0.9938109527381845, \"tpr\": 0.9992822279643985, \"n\": 5332}, {\"threshold\": 0.2800000011920929, \"p\": 27864, \"fpr\": 0.9938109527381845, \"tpr\": 0.9992822279643985, \"n\": 5332}, {\"threshold\": 0.2809999883174896, \"p\": 27864, \"fpr\": 0.9938109527381845, \"tpr\": 0.9992822279643985, \"n\": 5332}, {\"threshold\": 0.28200000524520874, \"p\": 27864, \"fpr\": 0.9938109527381845, \"tpr\": 0.9992822279643985, \"n\": 5332}, {\"threshold\": 0.28299999237060547, \"p\": 27864, \"fpr\": 0.9938109527381845, \"tpr\": 0.9992822279643985, \"n\": 5332}, {\"threshold\": 0.2840000092983246, \"p\": 27864, \"fpr\": 0.9938109527381845, \"tpr\": 0.9992822279643985, \"n\": 5332}, {\"threshold\": 0.2849999964237213, \"p\": 27864, \"fpr\": 0.9938109527381845, \"tpr\": 0.9992822279643985, \"n\": 5332}, {\"threshold\": 0.28600001335144043, \"p\": 27864, \"fpr\": 0.9938109527381845, \"tpr\": 0.9992822279643985, \"n\": 5332}, {\"threshold\": 0.28700000047683716, \"p\": 27864, \"fpr\": 0.9938109527381845, \"tpr\": 0.9992822279643985, \"n\": 5332}, {\"threshold\": 0.2879999876022339, \"p\": 27864, \"fpr\": 0.9938109527381845, \"tpr\": 0.9992822279643985, \"n\": 5332}, {\"threshold\": 0.289000004529953, \"p\": 27864, \"fpr\": 0.9938109527381845, \"tpr\": 0.9992822279643985, \"n\": 5332}, {\"threshold\": 0.28999999165534973, \"p\": 27864, \"fpr\": 0.9938109527381845, \"tpr\": 0.9992822279643985, \"n\": 5332}, {\"threshold\": 0.29100000858306885, \"p\": 27864, \"fpr\": 0.9938109527381845, \"tpr\": 0.9992822279643985, \"n\": 5332}, {\"threshold\": 0.2919999957084656, \"p\": 27864, \"fpr\": 0.9938109527381845, \"tpr\": 0.9992822279643985, \"n\": 5332}, {\"threshold\": 0.2930000126361847, \"p\": 27864, \"fpr\": 0.9938109527381845, \"tpr\": 0.9992822279643985, \"n\": 5332}, {\"threshold\": 0.2939999997615814, \"p\": 27864, \"fpr\": 0.9938109527381845, \"tpr\": 0.9992822279643985, \"n\": 5332}, {\"threshold\": 0.29499998688697815, \"p\": 27864, \"fpr\": 0.9938109527381845, \"tpr\": 0.9992822279643985, \"n\": 5332}, {\"threshold\": 0.29600000381469727, \"p\": 27864, \"fpr\": 0.9938109527381845, \"tpr\": 0.9992822279643985, \"n\": 5332}, {\"threshold\": 0.296999990940094, \"p\": 27864, \"fpr\": 0.9938109527381845, \"tpr\": 0.9992822279643985, \"n\": 5332}, {\"threshold\": 0.2980000078678131, \"p\": 27864, \"fpr\": 0.9938109527381845, \"tpr\": 0.9992822279643985, \"n\": 5332}, {\"threshold\": 0.29899999499320984, \"p\": 27864, \"fpr\": 0.9938109527381845, \"tpr\": 0.9992822279643985, \"n\": 5332}, {\"threshold\": 0.30000001192092896, \"p\": 27864, \"fpr\": 0.9938109527381845, \"tpr\": 0.9992822279643985, \"n\": 5332}, {\"threshold\": 0.3009999990463257, \"p\": 27864, \"fpr\": 0.9938109527381845, \"tpr\": 0.9992822279643985, \"n\": 5332}, {\"threshold\": 0.3019999861717224, \"p\": 27864, \"fpr\": 0.9938109527381845, \"tpr\": 0.9992822279643985, \"n\": 5332}, {\"threshold\": 0.30300000309944153, \"p\": 27864, \"fpr\": 0.9938109527381845, \"tpr\": 0.9992822279643985, \"n\": 5332}, {\"threshold\": 0.30399999022483826, \"p\": 27864, \"fpr\": 0.9938109527381845, \"tpr\": 0.9992822279643985, \"n\": 5332}, {\"threshold\": 0.3050000071525574, \"p\": 27864, \"fpr\": 0.9938109527381845, \"tpr\": 0.9992822279643985, \"n\": 5332}, {\"threshold\": 0.3059999942779541, \"p\": 27864, \"fpr\": 0.9938109527381845, \"tpr\": 0.9992822279643985, \"n\": 5332}, {\"threshold\": 0.3070000112056732, \"p\": 27864, \"fpr\": 0.9938109527381845, \"tpr\": 0.9992822279643985, \"n\": 5332}, {\"threshold\": 0.30799999833106995, \"p\": 27864, \"fpr\": 0.9938109527381845, \"tpr\": 0.9992822279643985, \"n\": 5332}, {\"threshold\": 0.3089999854564667, \"p\": 27864, \"fpr\": 0.9938109527381845, \"tpr\": 0.9992822279643985, \"n\": 5332}, {\"threshold\": 0.3100000023841858, \"p\": 27864, \"fpr\": 0.9938109527381845, \"tpr\": 0.9992822279643985, \"n\": 5332}, {\"threshold\": 0.3109999895095825, \"p\": 27864, \"fpr\": 0.9938109527381845, \"tpr\": 0.9992822279643985, \"n\": 5332}, {\"threshold\": 0.31200000643730164, \"p\": 27864, \"fpr\": 0.9938109527381845, \"tpr\": 0.9992822279643985, \"n\": 5332}, {\"threshold\": 0.31299999356269836, \"p\": 27864, \"fpr\": 0.9938109527381845, \"tpr\": 0.9992822279643985, \"n\": 5332}, {\"threshold\": 0.3140000104904175, \"p\": 27864, \"fpr\": 0.9938109527381845, \"tpr\": 0.9992822279643985, \"n\": 5332}, {\"threshold\": 0.3149999976158142, \"p\": 27864, \"fpr\": 0.9938109527381845, \"tpr\": 0.9992822279643985, \"n\": 5332}, {\"threshold\": 0.3160000145435333, \"p\": 27864, \"fpr\": 0.9938109527381845, \"tpr\": 0.9992822279643985, \"n\": 5332}, {\"threshold\": 0.31700000166893005, \"p\": 27864, \"fpr\": 0.9938109527381845, \"tpr\": 0.9992822279643985, \"n\": 5332}, {\"threshold\": 0.3179999887943268, \"p\": 27864, \"fpr\": 0.9938109527381845, \"tpr\": 0.9992822279643985, \"n\": 5332}, {\"threshold\": 0.3190000057220459, \"p\": 27864, \"fpr\": 0.9938109527381845, \"tpr\": 0.9992822279643985, \"n\": 5332}, {\"threshold\": 0.3199999928474426, \"p\": 27864, \"fpr\": 0.9938109527381845, \"tpr\": 0.9992822279643985, \"n\": 5332}, {\"threshold\": 0.32100000977516174, \"p\": 27864, \"fpr\": 0.9938109527381845, \"tpr\": 0.9992822279643985, \"n\": 5332}, {\"threshold\": 0.32199999690055847, \"p\": 27864, \"fpr\": 0.9938109527381845, \"tpr\": 0.9992822279643985, \"n\": 5332}, {\"threshold\": 0.3230000138282776, \"p\": 27864, \"fpr\": 0.9938109527381845, \"tpr\": 0.9992822279643985, \"n\": 5332}, {\"threshold\": 0.3240000009536743, \"p\": 27864, \"fpr\": 0.9938109527381845, \"tpr\": 0.9992822279643985, \"n\": 5332}, {\"threshold\": 0.32499998807907104, \"p\": 27864, \"fpr\": 0.9938109527381845, \"tpr\": 0.9992822279643985, \"n\": 5332}, {\"threshold\": 0.32600000500679016, \"p\": 27864, \"fpr\": 0.9938109527381845, \"tpr\": 0.9992822279643985, \"n\": 5332}, {\"threshold\": 0.3269999921321869, \"p\": 27864, \"fpr\": 0.9840585146286571, \"tpr\": 0.998097904105656, \"n\": 5332}, {\"threshold\": 0.328000009059906, \"p\": 27864, \"fpr\": 0.9840585146286571, \"tpr\": 0.998097904105656, \"n\": 5332}, {\"threshold\": 0.32899999618530273, \"p\": 27864, \"fpr\": 0.9840585146286571, \"tpr\": 0.998097904105656, \"n\": 5332}, {\"threshold\": 0.33000001311302185, \"p\": 27864, \"fpr\": 0.9840585146286571, \"tpr\": 0.998097904105656, \"n\": 5332}, {\"threshold\": 0.3310000002384186, \"p\": 27864, \"fpr\": 0.9840585146286571, \"tpr\": 0.998097904105656, \"n\": 5332}, {\"threshold\": 0.3319999873638153, \"p\": 27864, \"fpr\": 0.9840585146286571, \"tpr\": 0.998097904105656, \"n\": 5332}, {\"threshold\": 0.3330000042915344, \"p\": 27864, \"fpr\": 0.9840585146286571, \"tpr\": 0.998097904105656, \"n\": 5332}, {\"threshold\": 0.33399999141693115, \"p\": 27864, \"fpr\": 0.9840585146286571, \"tpr\": 0.998097904105656, \"n\": 5332}, {\"threshold\": 0.33500000834465027, \"p\": 27864, \"fpr\": 0.9840585146286571, \"tpr\": 0.998097904105656, \"n\": 5332}, {\"threshold\": 0.335999995470047, \"p\": 27864, \"fpr\": 0.9840585146286571, \"tpr\": 0.998097904105656, \"n\": 5332}, {\"threshold\": 0.3370000123977661, \"p\": 27864, \"fpr\": 0.9840585146286571, \"tpr\": 0.998097904105656, \"n\": 5332}, {\"threshold\": 0.33799999952316284, \"p\": 27864, \"fpr\": 0.9840585146286571, \"tpr\": 0.998097904105656, \"n\": 5332}, {\"threshold\": 0.33899998664855957, \"p\": 27864, \"fpr\": 0.9840585146286571, \"tpr\": 0.998097904105656, \"n\": 5332}, {\"threshold\": 0.3400000035762787, \"p\": 27864, \"fpr\": 0.9840585146286571, \"tpr\": 0.998097904105656, \"n\": 5332}, {\"threshold\": 0.3409999907016754, \"p\": 27864, \"fpr\": 0.9840585146286571, \"tpr\": 0.998097904105656, \"n\": 5332}, {\"threshold\": 0.34200000762939453, \"p\": 27864, \"fpr\": 0.9840585146286571, \"tpr\": 0.998097904105656, \"n\": 5332}, {\"threshold\": 0.34299999475479126, \"p\": 27864, \"fpr\": 0.9840585146286571, \"tpr\": 0.998097904105656, \"n\": 5332}, {\"threshold\": 0.3440000116825104, \"p\": 27864, \"fpr\": 0.9840585146286571, \"tpr\": 0.998097904105656, \"n\": 5332}, {\"threshold\": 0.3449999988079071, \"p\": 27864, \"fpr\": 0.9840585146286571, \"tpr\": 0.998097904105656, \"n\": 5332}, {\"threshold\": 0.34599998593330383, \"p\": 27864, \"fpr\": 0.9840585146286571, \"tpr\": 0.998097904105656, \"n\": 5332}, {\"threshold\": 0.34700000286102295, \"p\": 27864, \"fpr\": 0.9840585146286571, \"tpr\": 0.998097904105656, \"n\": 5332}, {\"threshold\": 0.3479999899864197, \"p\": 27864, \"fpr\": 0.9750562640660165, \"tpr\": 0.9967700258397932, \"n\": 5332}, {\"threshold\": 0.3490000069141388, \"p\": 27864, \"fpr\": 0.9750562640660165, \"tpr\": 0.9967700258397932, \"n\": 5332}, {\"threshold\": 0.3499999940395355, \"p\": 27864, \"fpr\": 0.9750562640660165, \"tpr\": 0.9967700258397932, \"n\": 5332}, {\"threshold\": 0.35100001096725464, \"p\": 27864, \"fpr\": 0.9750562640660165, \"tpr\": 0.9967700258397932, \"n\": 5332}, {\"threshold\": 0.35199999809265137, \"p\": 27864, \"fpr\": 0.9750562640660165, \"tpr\": 0.9967700258397932, \"n\": 5332}, {\"threshold\": 0.3529999852180481, \"p\": 27864, \"fpr\": 0.9750562640660165, \"tpr\": 0.9967700258397932, \"n\": 5332}, {\"threshold\": 0.3540000021457672, \"p\": 27864, \"fpr\": 0.972993248312078, \"tpr\": 0.9964111398219926, \"n\": 5332}, {\"threshold\": 0.35499998927116394, \"p\": 27864, \"fpr\": 0.972993248312078, \"tpr\": 0.9964111398219926, \"n\": 5332}, {\"threshold\": 0.35600000619888306, \"p\": 27864, \"fpr\": 0.972993248312078, \"tpr\": 0.9964111398219926, \"n\": 5332}, {\"threshold\": 0.3569999933242798, \"p\": 27864, \"fpr\": 0.972993248312078, \"tpr\": 0.9964111398219926, \"n\": 5332}, {\"threshold\": 0.3580000102519989, \"p\": 27864, \"fpr\": 0.972993248312078, \"tpr\": 0.9964111398219926, \"n\": 5332}, {\"threshold\": 0.35899999737739563, \"p\": 27864, \"fpr\": 0.972993248312078, \"tpr\": 0.9964111398219926, \"n\": 5332}, {\"threshold\": 0.36000001430511475, \"p\": 27864, \"fpr\": 0.972993248312078, \"tpr\": 0.9964111398219926, \"n\": 5332}, {\"threshold\": 0.3610000014305115, \"p\": 27864, \"fpr\": 0.972993248312078, \"tpr\": 0.9964111398219926, \"n\": 5332}, {\"threshold\": 0.3619999885559082, \"p\": 27864, \"fpr\": 0.9728057014253564, \"tpr\": 0.9964111398219926, \"n\": 5332}, {\"threshold\": 0.3630000054836273, \"p\": 27864, \"fpr\": 0.9728057014253564, \"tpr\": 0.9964111398219926, \"n\": 5332}, {\"threshold\": 0.36399999260902405, \"p\": 27864, \"fpr\": 0.9728057014253564, \"tpr\": 0.9964111398219926, \"n\": 5332}, {\"threshold\": 0.36500000953674316, \"p\": 27864, \"fpr\": 0.9728057014253564, \"tpr\": 0.9964111398219926, \"n\": 5332}, {\"threshold\": 0.3659999966621399, \"p\": 27864, \"fpr\": 0.9728057014253564, \"tpr\": 0.9964111398219926, \"n\": 5332}, {\"threshold\": 0.367000013589859, \"p\": 27864, \"fpr\": 0.9728057014253564, \"tpr\": 0.9964111398219926, \"n\": 5332}, {\"threshold\": 0.36800000071525574, \"p\": 27864, \"fpr\": 0.9728057014253564, \"tpr\": 0.9964111398219926, \"n\": 5332}, {\"threshold\": 0.36899998784065247, \"p\": 27864, \"fpr\": 0.9728057014253564, \"tpr\": 0.9964111398219926, \"n\": 5332}, {\"threshold\": 0.3700000047683716, \"p\": 27864, \"fpr\": 0.9728057014253564, \"tpr\": 0.9964111398219926, \"n\": 5332}, {\"threshold\": 0.3709999918937683, \"p\": 27864, \"fpr\": 0.9728057014253564, \"tpr\": 0.9964111398219926, \"n\": 5332}, {\"threshold\": 0.3720000088214874, \"p\": 27864, \"fpr\": 0.9728057014253564, \"tpr\": 0.9964111398219926, \"n\": 5332}, {\"threshold\": 0.37299999594688416, \"p\": 27864, \"fpr\": 0.9728057014253564, \"tpr\": 0.9964111398219926, \"n\": 5332}, {\"threshold\": 0.37400001287460327, \"p\": 27864, \"fpr\": 0.9728057014253564, \"tpr\": 0.9964111398219926, \"n\": 5332}, {\"threshold\": 0.375, \"p\": 27864, \"fpr\": 0.9728057014253564, \"tpr\": 0.9964111398219926, \"n\": 5332}, {\"threshold\": 0.37599998712539673, \"p\": 27864, \"fpr\": 0.9728057014253564, \"tpr\": 0.9964111398219926, \"n\": 5332}, {\"threshold\": 0.37700000405311584, \"p\": 27864, \"fpr\": 0.9728057014253564, \"tpr\": 0.9964111398219926, \"n\": 5332}, {\"threshold\": 0.3779999911785126, \"p\": 27864, \"fpr\": 0.9728057014253564, \"tpr\": 0.9964111398219926, \"n\": 5332}, {\"threshold\": 0.3790000081062317, \"p\": 27864, \"fpr\": 0.9728057014253564, \"tpr\": 0.9964111398219926, \"n\": 5332}, {\"threshold\": 0.3799999952316284, \"p\": 27864, \"fpr\": 0.9728057014253564, \"tpr\": 0.9964111398219926, \"n\": 5332}, {\"threshold\": 0.38100001215934753, \"p\": 27864, \"fpr\": 0.9728057014253564, \"tpr\": 0.9964111398219926, \"n\": 5332}, {\"threshold\": 0.38199999928474426, \"p\": 27864, \"fpr\": 0.9728057014253564, \"tpr\": 0.9964111398219926, \"n\": 5332}, {\"threshold\": 0.382999986410141, \"p\": 27864, \"fpr\": 0.9728057014253564, \"tpr\": 0.9964111398219926, \"n\": 5332}, {\"threshold\": 0.3840000033378601, \"p\": 27864, \"fpr\": 0.9728057014253564, \"tpr\": 0.9964111398219926, \"n\": 5332}, {\"threshold\": 0.38499999046325684, \"p\": 27864, \"fpr\": 0.9728057014253564, \"tpr\": 0.9964111398219926, \"n\": 5332}, {\"threshold\": 0.38600000739097595, \"p\": 27864, \"fpr\": 0.9728057014253564, \"tpr\": 0.9964111398219926, \"n\": 5332}, {\"threshold\": 0.3869999945163727, \"p\": 27864, \"fpr\": 0.9728057014253564, \"tpr\": 0.9964111398219926, \"n\": 5332}, {\"threshold\": 0.3880000114440918, \"p\": 27864, \"fpr\": 0.9728057014253564, \"tpr\": 0.9964111398219926, \"n\": 5332}, {\"threshold\": 0.3889999985694885, \"p\": 27864, \"fpr\": 0.9728057014253564, \"tpr\": 0.9964111398219926, \"n\": 5332}, {\"threshold\": 0.38999998569488525, \"p\": 27864, \"fpr\": 0.9728057014253564, \"tpr\": 0.9964111398219926, \"n\": 5332}, {\"threshold\": 0.39100000262260437, \"p\": 27864, \"fpr\": 0.9728057014253564, \"tpr\": 0.9964111398219926, \"n\": 5332}, {\"threshold\": 0.3919999897480011, \"p\": 27864, \"fpr\": 0.9728057014253564, \"tpr\": 0.9964111398219926, \"n\": 5332}, {\"threshold\": 0.3930000066757202, \"p\": 27864, \"fpr\": 0.9728057014253564, \"tpr\": 0.9964111398219926, \"n\": 5332}, {\"threshold\": 0.39399999380111694, \"p\": 27864, \"fpr\": 0.9728057014253564, \"tpr\": 0.9964111398219926, \"n\": 5332}, {\"threshold\": 0.39500001072883606, \"p\": 27864, \"fpr\": 0.9728057014253564, \"tpr\": 0.9964111398219926, \"n\": 5332}, {\"threshold\": 0.3959999978542328, \"p\": 27864, \"fpr\": 0.9728057014253564, \"tpr\": 0.9964111398219926, \"n\": 5332}, {\"threshold\": 0.3970000147819519, \"p\": 27864, \"fpr\": 0.9728057014253564, \"tpr\": 0.9964111398219926, \"n\": 5332}, {\"threshold\": 0.39800000190734863, \"p\": 27864, \"fpr\": 0.9728057014253564, \"tpr\": 0.9964111398219926, \"n\": 5332}, {\"threshold\": 0.39899998903274536, \"p\": 27864, \"fpr\": 0.9728057014253564, \"tpr\": 0.9964111398219926, \"n\": 5332}, {\"threshold\": 0.4000000059604645, \"p\": 27864, \"fpr\": 0.9728057014253564, \"tpr\": 0.9964111398219926, \"n\": 5332}, {\"threshold\": 0.4009999930858612, \"p\": 27864, \"fpr\": 0.9728057014253564, \"tpr\": 0.9964111398219926, \"n\": 5332}, {\"threshold\": 0.4020000100135803, \"p\": 27864, \"fpr\": 0.9681170292573144, \"tpr\": 0.9956933677863911, \"n\": 5332}, {\"threshold\": 0.40299999713897705, \"p\": 27864, \"fpr\": 0.9681170292573144, \"tpr\": 0.9956933677863911, \"n\": 5332}, {\"threshold\": 0.40400001406669617, \"p\": 27864, \"fpr\": 0.9681170292573144, \"tpr\": 0.9956933677863911, \"n\": 5332}, {\"threshold\": 0.4050000011920929, \"p\": 27864, \"fpr\": 0.9681170292573144, \"tpr\": 0.9956933677863911, \"n\": 5332}, {\"threshold\": 0.4059999883174896, \"p\": 27864, \"fpr\": 0.9681170292573144, \"tpr\": 0.9956933677863911, \"n\": 5332}, {\"threshold\": 0.40700000524520874, \"p\": 27864, \"fpr\": 0.9681170292573144, \"tpr\": 0.9956933677863911, \"n\": 5332}, {\"threshold\": 0.40799999237060547, \"p\": 27864, \"fpr\": 0.9681170292573144, \"tpr\": 0.9956933677863911, \"n\": 5332}, {\"threshold\": 0.4090000092983246, \"p\": 27864, \"fpr\": 0.9681170292573144, \"tpr\": 0.9956933677863911, \"n\": 5332}, {\"threshold\": 0.4099999964237213, \"p\": 27864, \"fpr\": 0.9681170292573144, \"tpr\": 0.9956933677863911, \"n\": 5332}, {\"threshold\": 0.41100001335144043, \"p\": 27864, \"fpr\": 0.9681170292573144, \"tpr\": 0.9956933677863911, \"n\": 5332}, {\"threshold\": 0.41200000047683716, \"p\": 27864, \"fpr\": 0.9681170292573144, \"tpr\": 0.9956933677863911, \"n\": 5332}, {\"threshold\": 0.4129999876022339, \"p\": 27864, \"fpr\": 0.9681170292573144, \"tpr\": 0.9956933677863911, \"n\": 5332}, {\"threshold\": 0.414000004529953, \"p\": 27864, \"fpr\": 0.9681170292573144, \"tpr\": 0.9956933677863911, \"n\": 5332}, {\"threshold\": 0.41499999165534973, \"p\": 27864, \"fpr\": 0.9681170292573144, \"tpr\": 0.9956933677863911, \"n\": 5332}, {\"threshold\": 0.41600000858306885, \"p\": 27864, \"fpr\": 0.9681170292573144, \"tpr\": 0.9956933677863911, \"n\": 5332}, {\"threshold\": 0.4169999957084656, \"p\": 27864, \"fpr\": 0.9681170292573144, \"tpr\": 0.9956933677863911, \"n\": 5332}, {\"threshold\": 0.4180000126361847, \"p\": 27864, \"fpr\": 0.9681170292573144, \"tpr\": 0.9956933677863911, \"n\": 5332}, {\"threshold\": 0.4189999997615814, \"p\": 27864, \"fpr\": 0.9681170292573144, \"tpr\": 0.9956933677863911, \"n\": 5332}, {\"threshold\": 0.41999998688697815, \"p\": 27864, \"fpr\": 0.9681170292573144, \"tpr\": 0.9956933677863911, \"n\": 5332}, {\"threshold\": 0.42100000381469727, \"p\": 27864, \"fpr\": 0.9681170292573144, \"tpr\": 0.9956933677863911, \"n\": 5332}, {\"threshold\": 0.421999990940094, \"p\": 27864, \"fpr\": 0.9681170292573144, \"tpr\": 0.9956933677863911, \"n\": 5332}, {\"threshold\": 0.4230000078678131, \"p\": 27864, \"fpr\": 0.9681170292573144, \"tpr\": 0.9956933677863911, \"n\": 5332}, {\"threshold\": 0.42399999499320984, \"p\": 27864, \"fpr\": 0.9681170292573144, \"tpr\": 0.9956933677863911, \"n\": 5332}, {\"threshold\": 0.42500001192092896, \"p\": 27864, \"fpr\": 0.9681170292573144, \"tpr\": 0.9956933677863911, \"n\": 5332}, {\"threshold\": 0.4259999990463257, \"p\": 27864, \"fpr\": 0.9681170292573144, \"tpr\": 0.9956933677863911, \"n\": 5332}, {\"threshold\": 0.4269999861717224, \"p\": 27864, \"fpr\": 0.9681170292573144, \"tpr\": 0.9956933677863911, \"n\": 5332}, {\"threshold\": 0.42800000309944153, \"p\": 27864, \"fpr\": 0.9681170292573144, \"tpr\": 0.9956933677863911, \"n\": 5332}, {\"threshold\": 0.42899999022483826, \"p\": 27864, \"fpr\": 0.9681170292573144, \"tpr\": 0.9956933677863911, \"n\": 5332}, {\"threshold\": 0.4300000071525574, \"p\": 27864, \"fpr\": 0.9681170292573144, \"tpr\": 0.9956933677863911, \"n\": 5332}, {\"threshold\": 0.4309999942779541, \"p\": 27864, \"fpr\": 0.9681170292573144, \"tpr\": 0.9956933677863911, \"n\": 5332}, {\"threshold\": 0.4320000112056732, \"p\": 27864, \"fpr\": 0.9681170292573144, \"tpr\": 0.9956933677863911, \"n\": 5332}, {\"threshold\": 0.43299999833106995, \"p\": 27864, \"fpr\": 0.9681170292573144, \"tpr\": 0.9956933677863911, \"n\": 5332}, {\"threshold\": 0.4339999854564667, \"p\": 27864, \"fpr\": 0.9681170292573144, \"tpr\": 0.9956933677863911, \"n\": 5332}, {\"threshold\": 0.4350000023841858, \"p\": 27864, \"fpr\": 0.9681170292573144, \"tpr\": 0.9956933677863911, \"n\": 5332}, {\"threshold\": 0.4359999895095825, \"p\": 27864, \"fpr\": 0.9681170292573144, \"tpr\": 0.9956933677863911, \"n\": 5332}, {\"threshold\": 0.43700000643730164, \"p\": 27864, \"fpr\": 0.9681170292573144, \"tpr\": 0.9956933677863911, \"n\": 5332}, {\"threshold\": 0.43799999356269836, \"p\": 27864, \"fpr\": 0.9681170292573144, \"tpr\": 0.9956933677863911, \"n\": 5332}, {\"threshold\": 0.4390000104904175, \"p\": 27864, \"fpr\": 0.9681170292573144, \"tpr\": 0.9956933677863911, \"n\": 5332}, {\"threshold\": 0.4399999976158142, \"p\": 27864, \"fpr\": 0.9681170292573144, \"tpr\": 0.9956933677863911, \"n\": 5332}, {\"threshold\": 0.4410000145435333, \"p\": 27864, \"fpr\": 0.9681170292573144, \"tpr\": 0.9956933677863911, \"n\": 5332}, {\"threshold\": 0.44200000166893005, \"p\": 27864, \"fpr\": 0.9681170292573144, \"tpr\": 0.9956933677863911, \"n\": 5332}, {\"threshold\": 0.4429999887943268, \"p\": 27864, \"fpr\": 0.9681170292573144, \"tpr\": 0.9956933677863911, \"n\": 5332}, {\"threshold\": 0.4440000057220459, \"p\": 27864, \"fpr\": 0.9681170292573144, \"tpr\": 0.9956933677863911, \"n\": 5332}, {\"threshold\": 0.4449999928474426, \"p\": 27864, \"fpr\": 0.9681170292573144, \"tpr\": 0.9956933677863911, \"n\": 5332}, {\"threshold\": 0.44600000977516174, \"p\": 27864, \"fpr\": 0.9681170292573144, \"tpr\": 0.9956933677863911, \"n\": 5332}, {\"threshold\": 0.44699999690055847, \"p\": 27864, \"fpr\": 0.9681170292573144, \"tpr\": 0.9956933677863911, \"n\": 5332}, {\"threshold\": 0.4480000138282776, \"p\": 27864, \"fpr\": 0.9681170292573144, \"tpr\": 0.9956933677863911, \"n\": 5332}, {\"threshold\": 0.4490000009536743, \"p\": 27864, \"fpr\": 0.9681170292573144, \"tpr\": 0.9956933677863911, \"n\": 5332}, {\"threshold\": 0.44999998807907104, \"p\": 27864, \"fpr\": 0.9681170292573144, \"tpr\": 0.9956933677863911, \"n\": 5332}, {\"threshold\": 0.45100000500679016, \"p\": 27864, \"fpr\": 0.9681170292573144, \"tpr\": 0.9956933677863911, \"n\": 5332}, {\"threshold\": 0.4519999921321869, \"p\": 27864, \"fpr\": 0.9681170292573144, \"tpr\": 0.9956933677863911, \"n\": 5332}, {\"threshold\": 0.453000009059906, \"p\": 27864, \"fpr\": 0.9681170292573144, \"tpr\": 0.9956933677863911, \"n\": 5332}, {\"threshold\": 0.45399999618530273, \"p\": 27864, \"fpr\": 0.9681170292573144, \"tpr\": 0.9956933677863911, \"n\": 5332}, {\"threshold\": 0.45500001311302185, \"p\": 27864, \"fpr\": 0.9681170292573144, \"tpr\": 0.9956933677863911, \"n\": 5332}, {\"threshold\": 0.4560000002384186, \"p\": 27864, \"fpr\": 0.9681170292573144, \"tpr\": 0.9956933677863911, \"n\": 5332}, {\"threshold\": 0.4569999873638153, \"p\": 27864, \"fpr\": 0.9681170292573144, \"tpr\": 0.9956933677863911, \"n\": 5332}, {\"threshold\": 0.4580000042915344, \"p\": 27864, \"fpr\": 0.9681170292573144, \"tpr\": 0.9956933677863911, \"n\": 5332}, {\"threshold\": 0.45899999141693115, \"p\": 27864, \"fpr\": 0.9681170292573144, \"tpr\": 0.9956933677863911, \"n\": 5332}, {\"threshold\": 0.46000000834465027, \"p\": 27864, \"fpr\": 0.9681170292573144, \"tpr\": 0.9956933677863911, \"n\": 5332}, {\"threshold\": 0.460999995470047, \"p\": 27864, \"fpr\": 0.9681170292573144, \"tpr\": 0.9956933677863911, \"n\": 5332}, {\"threshold\": 0.4620000123977661, \"p\": 27864, \"fpr\": 0.9681170292573144, \"tpr\": 0.995657479184611, \"n\": 5332}, {\"threshold\": 0.46299999952316284, \"p\": 27864, \"fpr\": 0.9681170292573144, \"tpr\": 0.995657479184611, \"n\": 5332}, {\"threshold\": 0.46399998664855957, \"p\": 27864, \"fpr\": 0.9681170292573144, \"tpr\": 0.995657479184611, \"n\": 5332}, {\"threshold\": 0.4650000035762787, \"p\": 27864, \"fpr\": 0.9681170292573144, \"tpr\": 0.9956215905828308, \"n\": 5332}, {\"threshold\": 0.4659999907016754, \"p\": 27864, \"fpr\": 0.9681170292573144, \"tpr\": 0.9956215905828308, \"n\": 5332}, {\"threshold\": 0.46700000762939453, \"p\": 27864, \"fpr\": 0.9681170292573144, \"tpr\": 0.9956215905828308, \"n\": 5332}, {\"threshold\": 0.46799999475479126, \"p\": 27864, \"fpr\": 0.9679294823705926, \"tpr\": 0.9955857019810508, \"n\": 5332}, {\"threshold\": 0.4690000116825104, \"p\": 27864, \"fpr\": 0.9679294823705926, \"tpr\": 0.9955857019810508, \"n\": 5332}, {\"threshold\": 0.4699999988079071, \"p\": 27864, \"fpr\": 0.9679294823705926, \"tpr\": 0.9955857019810508, \"n\": 5332}, {\"threshold\": 0.47099998593330383, \"p\": 27864, \"fpr\": 0.9679294823705926, \"tpr\": 0.9955857019810508, \"n\": 5332}, {\"threshold\": 0.47200000286102295, \"p\": 27864, \"fpr\": 0.9679294823705926, \"tpr\": 0.9955857019810508, \"n\": 5332}, {\"threshold\": 0.4729999899864197, \"p\": 27864, \"fpr\": 0.9679294823705926, \"tpr\": 0.9955857019810508, \"n\": 5332}, {\"threshold\": 0.4740000069141388, \"p\": 27864, \"fpr\": 0.9679294823705926, \"tpr\": 0.9955857019810508, \"n\": 5332}, {\"threshold\": 0.4749999940395355, \"p\": 27864, \"fpr\": 0.9679294823705926, \"tpr\": 0.9955857019810508, \"n\": 5332}, {\"threshold\": 0.47600001096725464, \"p\": 27864, \"fpr\": 0.9679294823705926, \"tpr\": 0.9955857019810508, \"n\": 5332}, {\"threshold\": 0.47699999809265137, \"p\": 27864, \"fpr\": 0.9679294823705926, \"tpr\": 0.9955857019810508, \"n\": 5332}, {\"threshold\": 0.4779999852180481, \"p\": 27864, \"fpr\": 0.9679294823705926, \"tpr\": 0.9955857019810508, \"n\": 5332}, {\"threshold\": 0.4790000021457672, \"p\": 27864, \"fpr\": 0.9679294823705926, \"tpr\": 0.9955857019810508, \"n\": 5332}, {\"threshold\": 0.47999998927116394, \"p\": 27864, \"fpr\": 0.9679294823705926, \"tpr\": 0.9955857019810508, \"n\": 5332}, {\"threshold\": 0.48100000619888306, \"p\": 27864, \"fpr\": 0.9679294823705926, \"tpr\": 0.9955857019810508, \"n\": 5332}, {\"threshold\": 0.4819999933242798, \"p\": 27864, \"fpr\": 0.9679294823705926, \"tpr\": 0.9955857019810508, \"n\": 5332}, {\"threshold\": 0.4830000102519989, \"p\": 27864, \"fpr\": 0.9679294823705926, \"tpr\": 0.9955857019810508, \"n\": 5332}, {\"threshold\": 0.48399999737739563, \"p\": 27864, \"fpr\": 0.9679294823705926, \"tpr\": 0.9955857019810508, \"n\": 5332}, {\"threshold\": 0.48500001430511475, \"p\": 27864, \"fpr\": 0.9679294823705926, \"tpr\": 0.9955857019810508, \"n\": 5332}, {\"threshold\": 0.4860000014305115, \"p\": 27864, \"fpr\": 0.9679294823705926, \"tpr\": 0.9955857019810508, \"n\": 5332}, {\"threshold\": 0.4869999885559082, \"p\": 27864, \"fpr\": 0.9679294823705926, \"tpr\": 0.9955857019810508, \"n\": 5332}, {\"threshold\": 0.4880000054836273, \"p\": 27864, \"fpr\": 0.9673668417104276, \"tpr\": 0.9954780361757106, \"n\": 5332}, {\"threshold\": 0.48899999260902405, \"p\": 27864, \"fpr\": 0.9673668417104276, \"tpr\": 0.9954780361757106, \"n\": 5332}, {\"threshold\": 0.49000000953674316, \"p\": 27864, \"fpr\": 0.9563015753938484, \"tpr\": 0.9932170542635659, \"n\": 5332}, {\"threshold\": 0.4909999966621399, \"p\": 27864, \"fpr\": 0.9563015753938484, \"tpr\": 0.9932170542635659, \"n\": 5332}, {\"threshold\": 0.492000013589859, \"p\": 27864, \"fpr\": 0.9563015753938484, \"tpr\": 0.9932170542635659, \"n\": 5332}, {\"threshold\": 0.49300000071525574, \"p\": 27864, \"fpr\": 0.9563015753938484, \"tpr\": 0.9932170542635659, \"n\": 5332}, {\"threshold\": 0.49399998784065247, \"p\": 27864, \"fpr\": 0.9563015753938484, \"tpr\": 0.9932170542635659, \"n\": 5332}, {\"threshold\": 0.4950000047683716, \"p\": 27864, \"fpr\": 0.9563015753938484, \"tpr\": 0.9932170542635659, \"n\": 5332}, {\"threshold\": 0.4959999918937683, \"p\": 27864, \"fpr\": 0.9563015753938484, \"tpr\": 0.9932170542635659, \"n\": 5332}, {\"threshold\": 0.4970000088214874, \"p\": 27864, \"fpr\": 0.9561140285071268, \"tpr\": 0.9931811656617858, \"n\": 5332}, {\"threshold\": 0.49799999594688416, \"p\": 27864, \"fpr\": 0.9561140285071268, \"tpr\": 0.9931811656617858, \"n\": 5332}, {\"threshold\": 0.49900001287460327, \"p\": 27864, \"fpr\": 0.9561140285071268, \"tpr\": 0.9931811656617858, \"n\": 5332}, {\"threshold\": 0.5, \"p\": 27864, \"fpr\": 0.9561140285071268, \"tpr\": 0.9931811656617858, \"n\": 5332}, {\"threshold\": 0.5009999871253967, \"p\": 27864, \"fpr\": 0.9561140285071268, \"tpr\": 0.9931811656617858, \"n\": 5332}, {\"threshold\": 0.5019999742507935, \"p\": 27864, \"fpr\": 0.9561140285071268, \"tpr\": 0.9931811656617858, \"n\": 5332}, {\"threshold\": 0.503000020980835, \"p\": 27864, \"fpr\": 0.9561140285071268, \"tpr\": 0.9931811656617858, \"n\": 5332}, {\"threshold\": 0.5040000081062317, \"p\": 27864, \"fpr\": 0.9561140285071268, \"tpr\": 0.9931811656617858, \"n\": 5332}, {\"threshold\": 0.5049999952316284, \"p\": 27864, \"fpr\": 0.9561140285071268, \"tpr\": 0.9931811656617858, \"n\": 5332}, {\"threshold\": 0.5059999823570251, \"p\": 27864, \"fpr\": 0.9561140285071268, \"tpr\": 0.9931811656617858, \"n\": 5332}, {\"threshold\": 0.5070000290870667, \"p\": 27864, \"fpr\": 0.9561140285071268, \"tpr\": 0.9931811656617858, \"n\": 5332}, {\"threshold\": 0.5080000162124634, \"p\": 27864, \"fpr\": 0.9561140285071268, \"tpr\": 0.9931811656617858, \"n\": 5332}, {\"threshold\": 0.5090000033378601, \"p\": 27864, \"fpr\": 0.9561140285071268, \"tpr\": 0.9931811656617858, \"n\": 5332}, {\"threshold\": 0.5099999904632568, \"p\": 27864, \"fpr\": 0.9561140285071268, \"tpr\": 0.9931811656617858, \"n\": 5332}, {\"threshold\": 0.5109999775886536, \"p\": 27864, \"fpr\": 0.9561140285071268, \"tpr\": 0.9931811656617858, \"n\": 5332}, {\"threshold\": 0.5120000243186951, \"p\": 27864, \"fpr\": 0.9561140285071268, \"tpr\": 0.9931811656617858, \"n\": 5332}, {\"threshold\": 0.5130000114440918, \"p\": 27864, \"fpr\": 0.9561140285071268, \"tpr\": 0.9931811656617858, \"n\": 5332}, {\"threshold\": 0.5139999985694885, \"p\": 27864, \"fpr\": 0.9561140285071268, \"tpr\": 0.9931811656617858, \"n\": 5332}, {\"threshold\": 0.5149999856948853, \"p\": 27864, \"fpr\": 0.9561140285071268, \"tpr\": 0.9931811656617858, \"n\": 5332}, {\"threshold\": 0.515999972820282, \"p\": 27864, \"fpr\": 0.9561140285071268, \"tpr\": 0.9931811656617858, \"n\": 5332}, {\"threshold\": 0.5170000195503235, \"p\": 27864, \"fpr\": 0.9561140285071268, \"tpr\": 0.9931811656617858, \"n\": 5332}, {\"threshold\": 0.5180000066757202, \"p\": 27864, \"fpr\": 0.9561140285071268, \"tpr\": 0.9931811656617858, \"n\": 5332}, {\"threshold\": 0.5189999938011169, \"p\": 27864, \"fpr\": 0.9561140285071268, \"tpr\": 0.9931811656617858, \"n\": 5332}, {\"threshold\": 0.5199999809265137, \"p\": 27864, \"fpr\": 0.9561140285071268, \"tpr\": 0.9931811656617858, \"n\": 5332}, {\"threshold\": 0.5210000276565552, \"p\": 27864, \"fpr\": 0.9561140285071268, \"tpr\": 0.9931811656617858, \"n\": 5332}, {\"threshold\": 0.5220000147819519, \"p\": 27864, \"fpr\": 0.9561140285071268, \"tpr\": 0.9931811656617858, \"n\": 5332}, {\"threshold\": 0.5230000019073486, \"p\": 27864, \"fpr\": 0.9561140285071268, \"tpr\": 0.9931811656617858, \"n\": 5332}, {\"threshold\": 0.5239999890327454, \"p\": 27864, \"fpr\": 0.9561140285071268, \"tpr\": 0.9931811656617858, \"n\": 5332}, {\"threshold\": 0.5249999761581421, \"p\": 27864, \"fpr\": 0.9561140285071268, \"tpr\": 0.9931811656617858, \"n\": 5332}, {\"threshold\": 0.5260000228881836, \"p\": 27864, \"fpr\": 0.9561140285071268, \"tpr\": 0.9931811656617858, \"n\": 5332}, {\"threshold\": 0.5270000100135803, \"p\": 27864, \"fpr\": 0.9561140285071268, \"tpr\": 0.9931811656617858, \"n\": 5332}, {\"threshold\": 0.527999997138977, \"p\": 27864, \"fpr\": 0.9561140285071268, \"tpr\": 0.9931811656617858, \"n\": 5332}, {\"threshold\": 0.5289999842643738, \"p\": 27864, \"fpr\": 0.9561140285071268, \"tpr\": 0.9931811656617858, \"n\": 5332}, {\"threshold\": 0.5299999713897705, \"p\": 27864, \"fpr\": 0.9561140285071268, \"tpr\": 0.9931811656617858, \"n\": 5332}, {\"threshold\": 0.531000018119812, \"p\": 27864, \"fpr\": 0.9561140285071268, \"tpr\": 0.9931811656617858, \"n\": 5332}, {\"threshold\": 0.5320000052452087, \"p\": 27864, \"fpr\": 0.9561140285071268, \"tpr\": 0.9931811656617858, \"n\": 5332}, {\"threshold\": 0.5329999923706055, \"p\": 27864, \"fpr\": 0.9561140285071268, \"tpr\": 0.9931811656617858, \"n\": 5332}, {\"threshold\": 0.5339999794960022, \"p\": 27864, \"fpr\": 0.9561140285071268, \"tpr\": 0.9931811656617858, \"n\": 5332}, {\"threshold\": 0.5350000262260437, \"p\": 27864, \"fpr\": 0.9561140285071268, \"tpr\": 0.9931811656617858, \"n\": 5332}, {\"threshold\": 0.5360000133514404, \"p\": 27864, \"fpr\": 0.9561140285071268, \"tpr\": 0.9931811656617858, \"n\": 5332}, {\"threshold\": 0.5370000004768372, \"p\": 27864, \"fpr\": 0.9561140285071268, \"tpr\": 0.9931811656617858, \"n\": 5332}, {\"threshold\": 0.5379999876022339, \"p\": 27864, \"fpr\": 0.9561140285071268, \"tpr\": 0.9931811656617858, \"n\": 5332}, {\"threshold\": 0.5389999747276306, \"p\": 27864, \"fpr\": 0.9561140285071268, \"tpr\": 0.9931811656617858, \"n\": 5332}, {\"threshold\": 0.5400000214576721, \"p\": 27864, \"fpr\": 0.9561140285071268, \"tpr\": 0.9931811656617858, \"n\": 5332}, {\"threshold\": 0.5410000085830688, \"p\": 27864, \"fpr\": 0.9549887471867967, \"tpr\": 0.9929299454493253, \"n\": 5332}, {\"threshold\": 0.5419999957084656, \"p\": 27864, \"fpr\": 0.9549887471867967, \"tpr\": 0.9929299454493253, \"n\": 5332}, {\"threshold\": 0.5429999828338623, \"p\": 27864, \"fpr\": 0.9549887471867967, \"tpr\": 0.9928940568475452, \"n\": 5332}, {\"threshold\": 0.5440000295639038, \"p\": 27864, \"fpr\": 0.9549887471867967, \"tpr\": 0.9928940568475452, \"n\": 5332}, {\"threshold\": 0.5450000166893005, \"p\": 27864, \"fpr\": 0.9549887471867967, \"tpr\": 0.9928940568475452, \"n\": 5332}, {\"threshold\": 0.5460000038146973, \"p\": 27864, \"fpr\": 0.9549887471867967, \"tpr\": 0.9928940568475452, \"n\": 5332}, {\"threshold\": 0.546999990940094, \"p\": 27864, \"fpr\": 0.9549887471867967, \"tpr\": 0.9928940568475452, \"n\": 5332}, {\"threshold\": 0.5479999780654907, \"p\": 27864, \"fpr\": 0.9549887471867967, \"tpr\": 0.9928940568475452, \"n\": 5332}, {\"threshold\": 0.5490000247955322, \"p\": 27864, \"fpr\": 0.9549887471867967, \"tpr\": 0.9928940568475452, \"n\": 5332}, {\"threshold\": 0.550000011920929, \"p\": 27864, \"fpr\": 0.9549887471867967, \"tpr\": 0.9928940568475452, \"n\": 5332}, {\"threshold\": 0.5509999990463257, \"p\": 27864, \"fpr\": 0.9549887471867967, \"tpr\": 0.9928940568475452, \"n\": 5332}, {\"threshold\": 0.5519999861717224, \"p\": 27864, \"fpr\": 0.9549887471867967, \"tpr\": 0.9928940568475452, \"n\": 5332}, {\"threshold\": 0.5529999732971191, \"p\": 27864, \"fpr\": 0.9549887471867967, \"tpr\": 0.9928940568475452, \"n\": 5332}, {\"threshold\": 0.5540000200271606, \"p\": 27864, \"fpr\": 0.9549887471867967, \"tpr\": 0.9928940568475452, \"n\": 5332}, {\"threshold\": 0.5550000071525574, \"p\": 27864, \"fpr\": 0.9549887471867967, \"tpr\": 0.9928940568475452, \"n\": 5332}, {\"threshold\": 0.5559999942779541, \"p\": 27864, \"fpr\": 0.9549887471867967, \"tpr\": 0.9928940568475452, \"n\": 5332}, {\"threshold\": 0.5569999814033508, \"p\": 27864, \"fpr\": 0.9549887471867967, \"tpr\": 0.9928940568475452, \"n\": 5332}, {\"threshold\": 0.5580000281333923, \"p\": 27864, \"fpr\": 0.9549887471867967, \"tpr\": 0.9928940568475452, \"n\": 5332}, {\"threshold\": 0.5590000152587891, \"p\": 27864, \"fpr\": 0.9549887471867967, \"tpr\": 0.9928940568475452, \"n\": 5332}, {\"threshold\": 0.5600000023841858, \"p\": 27864, \"fpr\": 0.9549887471867967, \"tpr\": 0.9928940568475452, \"n\": 5332}, {\"threshold\": 0.5609999895095825, \"p\": 27864, \"fpr\": 0.9549887471867967, \"tpr\": 0.9928940568475452, \"n\": 5332}, {\"threshold\": 0.5619999766349792, \"p\": 27864, \"fpr\": 0.9549887471867967, \"tpr\": 0.9928940568475452, \"n\": 5332}, {\"threshold\": 0.5630000233650208, \"p\": 27864, \"fpr\": 0.9549887471867967, \"tpr\": 0.9928940568475452, \"n\": 5332}, {\"threshold\": 0.5640000104904175, \"p\": 27864, \"fpr\": 0.9538634658664666, \"tpr\": 0.9927146138386449, \"n\": 5332}, {\"threshold\": 0.5649999976158142, \"p\": 27864, \"fpr\": 0.9538634658664666, \"tpr\": 0.9927146138386449, \"n\": 5332}, {\"threshold\": 0.5659999847412109, \"p\": 27864, \"fpr\": 0.9538634658664666, \"tpr\": 0.9926787252368647, \"n\": 5332}, {\"threshold\": 0.5669999718666077, \"p\": 27864, \"fpr\": 0.9538634658664666, \"tpr\": 0.9926787252368647, \"n\": 5332}, {\"threshold\": 0.5680000185966492, \"p\": 27864, \"fpr\": 0.9538634658664666, \"tpr\": 0.9926787252368647, \"n\": 5332}, {\"threshold\": 0.5690000057220459, \"p\": 27864, \"fpr\": 0.9538634658664666, \"tpr\": 0.9926787252368647, \"n\": 5332}, {\"threshold\": 0.5699999928474426, \"p\": 27864, \"fpr\": 0.9538634658664666, \"tpr\": 0.9925710594315246, \"n\": 5332}, {\"threshold\": 0.5709999799728394, \"p\": 27864, \"fpr\": 0.9538634658664666, \"tpr\": 0.9925710594315246, \"n\": 5332}, {\"threshold\": 0.5720000267028809, \"p\": 27864, \"fpr\": 0.9538634658664666, \"tpr\": 0.9925710594315246, \"n\": 5332}, {\"threshold\": 0.5730000138282776, \"p\": 27864, \"fpr\": 0.9538634658664666, \"tpr\": 0.9925710594315246, \"n\": 5332}, {\"threshold\": 0.5740000009536743, \"p\": 27864, \"fpr\": 0.9538634658664666, \"tpr\": 0.9925710594315246, \"n\": 5332}, {\"threshold\": 0.574999988079071, \"p\": 27864, \"fpr\": 0.9538634658664666, \"tpr\": 0.9925710594315246, \"n\": 5332}, {\"threshold\": 0.5759999752044678, \"p\": 27864, \"fpr\": 0.9538634658664666, \"tpr\": 0.9925710594315246, \"n\": 5332}, {\"threshold\": 0.5770000219345093, \"p\": 27864, \"fpr\": 0.9538634658664666, \"tpr\": 0.9925710594315246, \"n\": 5332}, {\"threshold\": 0.578000009059906, \"p\": 27864, \"fpr\": 0.9538634658664666, \"tpr\": 0.9925710594315246, \"n\": 5332}, {\"threshold\": 0.5789999961853027, \"p\": 27864, \"fpr\": 0.9538634658664666, \"tpr\": 0.9925710594315246, \"n\": 5332}, {\"threshold\": 0.5799999833106995, \"p\": 27864, \"fpr\": 0.9538634658664666, \"tpr\": 0.9925710594315246, \"n\": 5332}, {\"threshold\": 0.5809999704360962, \"p\": 27864, \"fpr\": 0.9538634658664666, \"tpr\": 0.9925710594315246, \"n\": 5332}, {\"threshold\": 0.5820000171661377, \"p\": 27864, \"fpr\": 0.9538634658664666, \"tpr\": 0.9925351708297445, \"n\": 5332}, {\"threshold\": 0.5830000042915344, \"p\": 27864, \"fpr\": 0.9538634658664666, \"tpr\": 0.9925351708297445, \"n\": 5332}, {\"threshold\": 0.5839999914169312, \"p\": 27864, \"fpr\": 0.9538634658664666, \"tpr\": 0.9925351708297445, \"n\": 5332}, {\"threshold\": 0.5849999785423279, \"p\": 27864, \"fpr\": 0.9538634658664666, \"tpr\": 0.9925351708297445, \"n\": 5332}, {\"threshold\": 0.5860000252723694, \"p\": 27864, \"fpr\": 0.9538634658664666, \"tpr\": 0.9925351708297445, \"n\": 5332}, {\"threshold\": 0.5870000123977661, \"p\": 27864, \"fpr\": 0.9538634658664666, \"tpr\": 0.9925351708297445, \"n\": 5332}, {\"threshold\": 0.5879999995231628, \"p\": 27864, \"fpr\": 0.9538634658664666, \"tpr\": 0.9925351708297445, \"n\": 5332}, {\"threshold\": 0.5889999866485596, \"p\": 27864, \"fpr\": 0.9538634658664666, \"tpr\": 0.9925351708297445, \"n\": 5332}, {\"threshold\": 0.5899999737739563, \"p\": 27864, \"fpr\": 0.9538634658664666, \"tpr\": 0.9925351708297445, \"n\": 5332}, {\"threshold\": 0.5910000205039978, \"p\": 27864, \"fpr\": 0.9538634658664666, \"tpr\": 0.9925351708297445, \"n\": 5332}, {\"threshold\": 0.5920000076293945, \"p\": 27864, \"fpr\": 0.9536759189797449, \"tpr\": 0.9924992822279644, \"n\": 5332}, {\"threshold\": 0.5929999947547913, \"p\": 27864, \"fpr\": 0.9536759189797449, \"tpr\": 0.9924992822279644, \"n\": 5332}, {\"threshold\": 0.593999981880188, \"p\": 27864, \"fpr\": 0.9536759189797449, \"tpr\": 0.9924992822279644, \"n\": 5332}, {\"threshold\": 0.5950000286102295, \"p\": 27864, \"fpr\": 0.9298574643660915, \"tpr\": 0.9838860178007465, \"n\": 5332}, {\"threshold\": 0.5960000157356262, \"p\": 27864, \"fpr\": 0.9298574643660915, \"tpr\": 0.9838860178007465, \"n\": 5332}, {\"threshold\": 0.597000002861023, \"p\": 27864, \"fpr\": 0.9298574643660915, \"tpr\": 0.9838860178007465, \"n\": 5332}, {\"threshold\": 0.5979999899864197, \"p\": 27864, \"fpr\": 0.9298574643660915, \"tpr\": 0.9838860178007465, \"n\": 5332}, {\"threshold\": 0.5989999771118164, \"p\": 27864, \"fpr\": 0.9298574643660915, \"tpr\": 0.9838860178007465, \"n\": 5332}, {\"threshold\": 0.6000000238418579, \"p\": 27864, \"fpr\": 0.9298574643660915, \"tpr\": 0.9838860178007465, \"n\": 5332}, {\"threshold\": 0.6010000109672546, \"p\": 27864, \"fpr\": 0.9298574643660915, \"tpr\": 0.9838860178007465, \"n\": 5332}, {\"threshold\": 0.6019999980926514, \"p\": 27864, \"fpr\": 0.9298574643660915, \"tpr\": 0.9838860178007465, \"n\": 5332}, {\"threshold\": 0.6029999852180481, \"p\": 27864, \"fpr\": 0.9298574643660915, \"tpr\": 0.9838860178007465, \"n\": 5332}, {\"threshold\": 0.6039999723434448, \"p\": 27864, \"fpr\": 0.9298574643660915, \"tpr\": 0.9838860178007465, \"n\": 5332}, {\"threshold\": 0.6050000190734863, \"p\": 27864, \"fpr\": 0.9298574643660915, \"tpr\": 0.9838860178007465, \"n\": 5332}, {\"threshold\": 0.6060000061988831, \"p\": 27864, \"fpr\": 0.9298574643660915, \"tpr\": 0.9838860178007465, \"n\": 5332}, {\"threshold\": 0.6069999933242798, \"p\": 27864, \"fpr\": 0.9298574643660915, \"tpr\": 0.9838860178007465, \"n\": 5332}, {\"threshold\": 0.6079999804496765, \"p\": 27864, \"fpr\": 0.9298574643660915, \"tpr\": 0.9838860178007465, \"n\": 5332}, {\"threshold\": 0.609000027179718, \"p\": 27864, \"fpr\": 0.9298574643660915, \"tpr\": 0.9838860178007465, \"n\": 5332}, {\"threshold\": 0.6100000143051147, \"p\": 27864, \"fpr\": 0.9298574643660915, \"tpr\": 0.9838860178007465, \"n\": 5332}, {\"threshold\": 0.6110000014305115, \"p\": 27864, \"fpr\": 0.9298574643660915, \"tpr\": 0.9838860178007465, \"n\": 5332}, {\"threshold\": 0.6119999885559082, \"p\": 27864, \"fpr\": 0.9298574643660915, \"tpr\": 0.9838860178007465, \"n\": 5332}, {\"threshold\": 0.6129999756813049, \"p\": 27864, \"fpr\": 0.9298574643660915, \"tpr\": 0.9838860178007465, \"n\": 5332}, {\"threshold\": 0.6140000224113464, \"p\": 27864, \"fpr\": 0.9298574643660915, \"tpr\": 0.9838860178007465, \"n\": 5332}, {\"threshold\": 0.6150000095367432, \"p\": 27864, \"fpr\": 0.9298574643660915, \"tpr\": 0.9838860178007465, \"n\": 5332}, {\"threshold\": 0.6159999966621399, \"p\": 27864, \"fpr\": 0.9298574643660915, \"tpr\": 0.9838860178007465, \"n\": 5332}, {\"threshold\": 0.6169999837875366, \"p\": 27864, \"fpr\": 0.9298574643660915, \"tpr\": 0.9838860178007465, \"n\": 5332}, {\"threshold\": 0.6179999709129333, \"p\": 27864, \"fpr\": 0.9298574643660915, \"tpr\": 0.9838860178007465, \"n\": 5332}, {\"threshold\": 0.6190000176429749, \"p\": 27864, \"fpr\": 0.9298574643660915, \"tpr\": 0.9838860178007465, \"n\": 5332}, {\"threshold\": 0.6200000047683716, \"p\": 27864, \"fpr\": 0.9298574643660915, \"tpr\": 0.9837783519954063, \"n\": 5332}, {\"threshold\": 0.6209999918937683, \"p\": 27864, \"fpr\": 0.9298574643660915, \"tpr\": 0.9837783519954063, \"n\": 5332}, {\"threshold\": 0.621999979019165, \"p\": 27864, \"fpr\": 0.9298574643660915, \"tpr\": 0.9837065747918461, \"n\": 5332}, {\"threshold\": 0.6230000257492065, \"p\": 27864, \"fpr\": 0.9298574643660915, \"tpr\": 0.9837065747918461, \"n\": 5332}, {\"threshold\": 0.6240000128746033, \"p\": 27864, \"fpr\": 0.9298574643660915, \"tpr\": 0.9837065747918461, \"n\": 5332}, {\"threshold\": 0.625, \"p\": 27864, \"fpr\": 0.9298574643660915, \"tpr\": 0.9837065747918461, \"n\": 5332}, {\"threshold\": 0.6259999871253967, \"p\": 27864, \"fpr\": 0.9298574643660915, \"tpr\": 0.9837065747918461, \"n\": 5332}, {\"threshold\": 0.6269999742507935, \"p\": 27864, \"fpr\": 0.9298574643660915, \"tpr\": 0.9837065747918461, \"n\": 5332}, {\"threshold\": 0.628000020980835, \"p\": 27864, \"fpr\": 0.9298574643660915, \"tpr\": 0.9837065747918461, \"n\": 5332}, {\"threshold\": 0.6290000081062317, \"p\": 27864, \"fpr\": 0.9298574643660915, \"tpr\": 0.9837065747918461, \"n\": 5332}, {\"threshold\": 0.6299999952316284, \"p\": 27864, \"fpr\": 0.9298574643660915, \"tpr\": 0.9837065747918461, \"n\": 5332}, {\"threshold\": 0.6309999823570251, \"p\": 27864, \"fpr\": 0.9298574643660915, \"tpr\": 0.9837065747918461, \"n\": 5332}, {\"threshold\": 0.6320000290870667, \"p\": 27864, \"fpr\": 0.9298574643660915, \"tpr\": 0.9837065747918461, \"n\": 5332}, {\"threshold\": 0.6330000162124634, \"p\": 27864, \"fpr\": 0.9298574643660915, \"tpr\": 0.9837065747918461, \"n\": 5332}, {\"threshold\": 0.6340000033378601, \"p\": 27864, \"fpr\": 0.9298574643660915, \"tpr\": 0.9837065747918461, \"n\": 5332}, {\"threshold\": 0.6349999904632568, \"p\": 27864, \"fpr\": 0.9298574643660915, \"tpr\": 0.9837065747918461, \"n\": 5332}, {\"threshold\": 0.6359999775886536, \"p\": 27864, \"fpr\": 0.9298574643660915, \"tpr\": 0.9837065747918461, \"n\": 5332}, {\"threshold\": 0.6370000243186951, \"p\": 27864, \"fpr\": 0.9298574643660915, \"tpr\": 0.9837065747918461, \"n\": 5332}, {\"threshold\": 0.6380000114440918, \"p\": 27864, \"fpr\": 0.9298574643660915, \"tpr\": 0.9837065747918461, \"n\": 5332}, {\"threshold\": 0.6389999985694885, \"p\": 27864, \"fpr\": 0.9298574643660915, \"tpr\": 0.9837065747918461, \"n\": 5332}, {\"threshold\": 0.6399999856948853, \"p\": 27864, \"fpr\": 0.9298574643660915, \"tpr\": 0.9837065747918461, \"n\": 5332}, {\"threshold\": 0.640999972820282, \"p\": 27864, \"fpr\": 0.9298574643660915, \"tpr\": 0.9837065747918461, \"n\": 5332}, {\"threshold\": 0.6420000195503235, \"p\": 27864, \"fpr\": 0.9298574643660915, \"tpr\": 0.9837065747918461, \"n\": 5332}, {\"threshold\": 0.6430000066757202, \"p\": 27864, \"fpr\": 0.9298574643660915, \"tpr\": 0.9837065747918461, \"n\": 5332}, {\"threshold\": 0.6439999938011169, \"p\": 27864, \"fpr\": 0.9298574643660915, \"tpr\": 0.9837065747918461, \"n\": 5332}, {\"threshold\": 0.6449999809265137, \"p\": 27864, \"fpr\": 0.9298574643660915, \"tpr\": 0.9837065747918461, \"n\": 5332}, {\"threshold\": 0.6460000276565552, \"p\": 27864, \"fpr\": 0.9298574643660915, \"tpr\": 0.9837065747918461, \"n\": 5332}, {\"threshold\": 0.6470000147819519, \"p\": 27864, \"fpr\": 0.9298574643660915, \"tpr\": 0.9837065747918461, \"n\": 5332}, {\"threshold\": 0.6480000019073486, \"p\": 27864, \"fpr\": 0.9298574643660915, \"tpr\": 0.9837065747918461, \"n\": 5332}, {\"threshold\": 0.6489999890327454, \"p\": 27864, \"fpr\": 0.9298574643660915, \"tpr\": 0.9837065747918461, \"n\": 5332}, {\"threshold\": 0.6499999761581421, \"p\": 27864, \"fpr\": 0.9298574643660915, \"tpr\": 0.9837065747918461, \"n\": 5332}, {\"threshold\": 0.6510000228881836, \"p\": 27864, \"fpr\": 0.9298574643660915, \"tpr\": 0.9837065747918461, \"n\": 5332}, {\"threshold\": 0.6520000100135803, \"p\": 27864, \"fpr\": 0.9298574643660915, \"tpr\": 0.9837065747918461, \"n\": 5332}, {\"threshold\": 0.652999997138977, \"p\": 27864, \"fpr\": 0.9298574643660915, \"tpr\": 0.9837065747918461, \"n\": 5332}, {\"threshold\": 0.6539999842643738, \"p\": 27864, \"fpr\": 0.9298574643660915, \"tpr\": 0.9837065747918461, \"n\": 5332}, {\"threshold\": 0.6549999713897705, \"p\": 27864, \"fpr\": 0.9298574643660915, \"tpr\": 0.9837065747918461, \"n\": 5332}, {\"threshold\": 0.656000018119812, \"p\": 27864, \"fpr\": 0.9298574643660915, \"tpr\": 0.9837065747918461, \"n\": 5332}, {\"threshold\": 0.6570000052452087, \"p\": 27864, \"fpr\": 0.9298574643660915, \"tpr\": 0.9837065747918461, \"n\": 5332}, {\"threshold\": 0.6579999923706055, \"p\": 27864, \"fpr\": 0.9298574643660915, \"tpr\": 0.9837065747918461, \"n\": 5332}, {\"threshold\": 0.6589999794960022, \"p\": 27864, \"fpr\": 0.9298574643660915, \"tpr\": 0.9837065747918461, \"n\": 5332}, {\"threshold\": 0.6600000262260437, \"p\": 27864, \"fpr\": 0.9298574643660915, \"tpr\": 0.983670686190066, \"n\": 5332}, {\"threshold\": 0.6610000133514404, \"p\": 27864, \"fpr\": 0.9298574643660915, \"tpr\": 0.983670686190066, \"n\": 5332}, {\"threshold\": 0.6620000004768372, \"p\": 27864, \"fpr\": 0.9298574643660915, \"tpr\": 0.983670686190066, \"n\": 5332}, {\"threshold\": 0.6629999876022339, \"p\": 27864, \"fpr\": 0.9294823705926482, \"tpr\": 0.9833835773758255, \"n\": 5332}, {\"threshold\": 0.6639999747276306, \"p\": 27864, \"fpr\": 0.9294823705926482, \"tpr\": 0.9833835773758255, \"n\": 5332}, {\"threshold\": 0.6650000214576721, \"p\": 27864, \"fpr\": 0.9294823705926482, \"tpr\": 0.9833835773758255, \"n\": 5332}, {\"threshold\": 0.6660000085830688, \"p\": 27864, \"fpr\": 0.9294823705926482, \"tpr\": 0.9833835773758255, \"n\": 5332}, {\"threshold\": 0.6669999957084656, \"p\": 27864, \"fpr\": 0.9294823705926482, \"tpr\": 0.9833835773758255, \"n\": 5332}, {\"threshold\": 0.6679999828338623, \"p\": 27864, \"fpr\": 0.9294823705926482, \"tpr\": 0.9833835773758255, \"n\": 5332}, {\"threshold\": 0.6690000295639038, \"p\": 27864, \"fpr\": 0.9294823705926482, \"tpr\": 0.9833476887740453, \"n\": 5332}, {\"threshold\": 0.6700000166893005, \"p\": 27864, \"fpr\": 0.9294823705926482, \"tpr\": 0.9833476887740453, \"n\": 5332}, {\"threshold\": 0.6710000038146973, \"p\": 27864, \"fpr\": 0.9294823705926482, \"tpr\": 0.9833476887740453, \"n\": 5332}, {\"threshold\": 0.671999990940094, \"p\": 27864, \"fpr\": 0.9294823705926482, \"tpr\": 0.9833118001722653, \"n\": 5332}, {\"threshold\": 0.6729999780654907, \"p\": 27864, \"fpr\": 0.9294823705926482, \"tpr\": 0.9833118001722653, \"n\": 5332}, {\"threshold\": 0.6740000247955322, \"p\": 27864, \"fpr\": 0.9294823705926482, \"tpr\": 0.9833118001722653, \"n\": 5332}, {\"threshold\": 0.675000011920929, \"p\": 27864, \"fpr\": 0.9294823705926482, \"tpr\": 0.9833118001722653, \"n\": 5332}, {\"threshold\": 0.6759999990463257, \"p\": 27864, \"fpr\": 0.9294823705926482, \"tpr\": 0.9833118001722653, \"n\": 5332}, {\"threshold\": 0.6769999861717224, \"p\": 27864, \"fpr\": 0.9294823705926482, \"tpr\": 0.9833118001722653, \"n\": 5332}, {\"threshold\": 0.6779999732971191, \"p\": 27864, \"fpr\": 0.9294823705926482, \"tpr\": 0.9833118001722653, \"n\": 5332}, {\"threshold\": 0.6790000200271606, \"p\": 27864, \"fpr\": 0.9294823705926482, \"tpr\": 0.9833118001722653, \"n\": 5332}, {\"threshold\": 0.6800000071525574, \"p\": 27864, \"fpr\": 0.9294823705926482, \"tpr\": 0.9833118001722653, \"n\": 5332}, {\"threshold\": 0.6809999942779541, \"p\": 27864, \"fpr\": 0.9294823705926482, \"tpr\": 0.9833118001722653, \"n\": 5332}, {\"threshold\": 0.6819999814033508, \"p\": 27864, \"fpr\": 0.9294823705926482, \"tpr\": 0.9833118001722653, \"n\": 5332}, {\"threshold\": 0.6830000281333923, \"p\": 27864, \"fpr\": 0.9294823705926482, \"tpr\": 0.9833118001722653, \"n\": 5332}, {\"threshold\": 0.6840000152587891, \"p\": 27864, \"fpr\": 0.9294823705926482, \"tpr\": 0.9832041343669251, \"n\": 5332}, {\"threshold\": 0.6850000023841858, \"p\": 27864, \"fpr\": 0.9294823705926482, \"tpr\": 0.9832041343669251, \"n\": 5332}, {\"threshold\": 0.6859999895095825, \"p\": 27864, \"fpr\": 0.9294823705926482, \"tpr\": 0.9832041343669251, \"n\": 5332}, {\"threshold\": 0.6869999766349792, \"p\": 27864, \"fpr\": 0.9294823705926482, \"tpr\": 0.9832041343669251, \"n\": 5332}, {\"threshold\": 0.6880000233650208, \"p\": 27864, \"fpr\": 0.9294823705926482, \"tpr\": 0.9832041343669251, \"n\": 5332}, {\"threshold\": 0.6890000104904175, \"p\": 27864, \"fpr\": 0.9294823705926482, \"tpr\": 0.9832041343669251, \"n\": 5332}, {\"threshold\": 0.6899999976158142, \"p\": 27864, \"fpr\": 0.9294823705926482, \"tpr\": 0.9832041343669251, \"n\": 5332}, {\"threshold\": 0.6909999847412109, \"p\": 27864, \"fpr\": 0.9294823705926482, \"tpr\": 0.9832041343669251, \"n\": 5332}, {\"threshold\": 0.6919999718666077, \"p\": 27864, \"fpr\": 0.9294823705926482, \"tpr\": 0.9832041343669251, \"n\": 5332}, {\"threshold\": 0.6930000185966492, \"p\": 27864, \"fpr\": 0.9294823705926482, \"tpr\": 0.9832041343669251, \"n\": 5332}, {\"threshold\": 0.6940000057220459, \"p\": 27864, \"fpr\": 0.9294823705926482, \"tpr\": 0.9832041343669251, \"n\": 5332}, {\"threshold\": 0.6949999928474426, \"p\": 27864, \"fpr\": 0.9294823705926482, \"tpr\": 0.9832041343669251, \"n\": 5332}, {\"threshold\": 0.6959999799728394, \"p\": 27864, \"fpr\": 0.9294823705926482, \"tpr\": 0.9832041343669251, \"n\": 5332}, {\"threshold\": 0.6970000267028809, \"p\": 27864, \"fpr\": 0.9294823705926482, \"tpr\": 0.9832041343669251, \"n\": 5332}, {\"threshold\": 0.6980000138282776, \"p\": 27864, \"fpr\": 0.9294823705926482, \"tpr\": 0.9832041343669251, \"n\": 5332}, {\"threshold\": 0.6990000009536743, \"p\": 27864, \"fpr\": 0.9276069017254314, \"tpr\": 0.982701693942004, \"n\": 5332}, {\"threshold\": 0.699999988079071, \"p\": 27864, \"fpr\": 0.9276069017254314, \"tpr\": 0.982701693942004, \"n\": 5332}, {\"threshold\": 0.7009999752044678, \"p\": 27864, \"fpr\": 0.9276069017254314, \"tpr\": 0.9826299167384439, \"n\": 5332}, {\"threshold\": 0.7020000219345093, \"p\": 27864, \"fpr\": 0.9276069017254314, \"tpr\": 0.9826299167384439, \"n\": 5332}, {\"threshold\": 0.703000009059906, \"p\": 27864, \"fpr\": 0.9276069017254314, \"tpr\": 0.9826299167384439, \"n\": 5332}, {\"threshold\": 0.7039999961853027, \"p\": 27864, \"fpr\": 0.9276069017254314, \"tpr\": 0.9826299167384439, \"n\": 5332}, {\"threshold\": 0.7049999833106995, \"p\": 27864, \"fpr\": 0.9276069017254314, \"tpr\": 0.9826299167384439, \"n\": 5332}, {\"threshold\": 0.7059999704360962, \"p\": 27864, \"fpr\": 0.9276069017254314, \"tpr\": 0.9826299167384439, \"n\": 5332}, {\"threshold\": 0.7070000171661377, \"p\": 27864, \"fpr\": 0.9276069017254314, \"tpr\": 0.9826299167384439, \"n\": 5332}, {\"threshold\": 0.7080000042915344, \"p\": 27864, \"fpr\": 0.9276069017254314, \"tpr\": 0.9826299167384439, \"n\": 5332}, {\"threshold\": 0.7089999914169312, \"p\": 27864, \"fpr\": 0.9276069017254314, \"tpr\": 0.9826299167384439, \"n\": 5332}, {\"threshold\": 0.7099999785423279, \"p\": 27864, \"fpr\": 0.9276069017254314, \"tpr\": 0.9826299167384439, \"n\": 5332}, {\"threshold\": 0.7110000252723694, \"p\": 27864, \"fpr\": 0.9276069017254314, \"tpr\": 0.9826299167384439, \"n\": 5332}, {\"threshold\": 0.7120000123977661, \"p\": 27864, \"fpr\": 0.9276069017254314, \"tpr\": 0.9826299167384439, \"n\": 5332}, {\"threshold\": 0.7129999995231628, \"p\": 27864, \"fpr\": 0.9276069017254314, \"tpr\": 0.9826299167384439, \"n\": 5332}, {\"threshold\": 0.7139999866485596, \"p\": 27864, \"fpr\": 0.9276069017254314, \"tpr\": 0.9826299167384439, \"n\": 5332}, {\"threshold\": 0.7149999737739563, \"p\": 27864, \"fpr\": 0.9276069017254314, \"tpr\": 0.9826299167384439, \"n\": 5332}, {\"threshold\": 0.7160000205039978, \"p\": 27864, \"fpr\": 0.9276069017254314, \"tpr\": 0.9826299167384439, \"n\": 5332}, {\"threshold\": 0.7170000076293945, \"p\": 27864, \"fpr\": 0.9276069017254314, \"tpr\": 0.9826299167384439, \"n\": 5332}, {\"threshold\": 0.7179999947547913, \"p\": 27864, \"fpr\": 0.9276069017254314, \"tpr\": 0.9826299167384439, \"n\": 5332}, {\"threshold\": 0.718999981880188, \"p\": 27864, \"fpr\": 0.9276069017254314, \"tpr\": 0.9826299167384439, \"n\": 5332}, {\"threshold\": 0.7200000286102295, \"p\": 27864, \"fpr\": 0.9276069017254314, \"tpr\": 0.9826299167384439, \"n\": 5332}, {\"threshold\": 0.7210000157356262, \"p\": 27864, \"fpr\": 0.9276069017254314, \"tpr\": 0.9826299167384439, \"n\": 5332}, {\"threshold\": 0.722000002861023, \"p\": 27864, \"fpr\": 0.9276069017254314, \"tpr\": 0.9826299167384439, \"n\": 5332}, {\"threshold\": 0.7229999899864197, \"p\": 27864, \"fpr\": 0.9276069017254314, \"tpr\": 0.9826299167384439, \"n\": 5332}, {\"threshold\": 0.7239999771118164, \"p\": 27864, \"fpr\": 0.9276069017254314, \"tpr\": 0.9826299167384439, \"n\": 5332}, {\"threshold\": 0.7250000238418579, \"p\": 27864, \"fpr\": 0.9276069017254314, \"tpr\": 0.9826299167384439, \"n\": 5332}, {\"threshold\": 0.7260000109672546, \"p\": 27864, \"fpr\": 0.9276069017254314, \"tpr\": 0.9826299167384439, \"n\": 5332}, {\"threshold\": 0.7269999980926514, \"p\": 27864, \"fpr\": 0.9276069017254314, \"tpr\": 0.9826299167384439, \"n\": 5332}, {\"threshold\": 0.7279999852180481, \"p\": 27864, \"fpr\": 0.9276069017254314, \"tpr\": 0.9826299167384439, \"n\": 5332}, {\"threshold\": 0.7289999723434448, \"p\": 27864, \"fpr\": 0.9276069017254314, \"tpr\": 0.9826299167384439, \"n\": 5332}, {\"threshold\": 0.7300000190734863, \"p\": 27864, \"fpr\": 0.9276069017254314, \"tpr\": 0.9826299167384439, \"n\": 5332}, {\"threshold\": 0.7310000061988831, \"p\": 27864, \"fpr\": 0.9276069017254314, \"tpr\": 0.9826299167384439, \"n\": 5332}, {\"threshold\": 0.7319999933242798, \"p\": 27864, \"fpr\": 0.9276069017254314, \"tpr\": 0.9825581395348837, \"n\": 5332}, {\"threshold\": 0.7329999804496765, \"p\": 27864, \"fpr\": 0.9276069017254314, \"tpr\": 0.9825581395348837, \"n\": 5332}, {\"threshold\": 0.734000027179718, \"p\": 27864, \"fpr\": 0.9276069017254314, \"tpr\": 0.9825581395348837, \"n\": 5332}, {\"threshold\": 0.7350000143051147, \"p\": 27864, \"fpr\": 0.9274193548387096, \"tpr\": 0.9825222509331036, \"n\": 5332}, {\"threshold\": 0.7360000014305115, \"p\": 27864, \"fpr\": 0.9274193548387096, \"tpr\": 0.9825222509331036, \"n\": 5332}, {\"threshold\": 0.7369999885559082, \"p\": 27864, \"fpr\": 0.9274193548387096, \"tpr\": 0.9825222509331036, \"n\": 5332}, {\"threshold\": 0.7379999756813049, \"p\": 27864, \"fpr\": 0.9274193548387096, \"tpr\": 0.9825222509331036, \"n\": 5332}, {\"threshold\": 0.7390000224113464, \"p\": 27864, \"fpr\": 0.9274193548387096, \"tpr\": 0.9825222509331036, \"n\": 5332}, {\"threshold\": 0.7400000095367432, \"p\": 27864, \"fpr\": 0.927231807951988, \"tpr\": 0.9824504737295435, \"n\": 5332}, {\"threshold\": 0.7409999966621399, \"p\": 27864, \"fpr\": 0.927231807951988, \"tpr\": 0.9824504737295435, \"n\": 5332}, {\"threshold\": 0.7419999837875366, \"p\": 27864, \"fpr\": 0.927231807951988, \"tpr\": 0.9824504737295435, \"n\": 5332}, {\"threshold\": 0.7429999709129333, \"p\": 27864, \"fpr\": 0.927231807951988, \"tpr\": 0.9824504737295435, \"n\": 5332}, {\"threshold\": 0.7440000176429749, \"p\": 27864, \"fpr\": 0.927231807951988, \"tpr\": 0.9824504737295435, \"n\": 5332}, {\"threshold\": 0.7450000047683716, \"p\": 27864, \"fpr\": 0.927231807951988, \"tpr\": 0.9824504737295435, \"n\": 5332}, {\"threshold\": 0.7459999918937683, \"p\": 27864, \"fpr\": 0.927231807951988, \"tpr\": 0.9824504737295435, \"n\": 5332}, {\"threshold\": 0.746999979019165, \"p\": 27864, \"fpr\": 0.927231807951988, \"tpr\": 0.9824504737295435, \"n\": 5332}, {\"threshold\": 0.7480000257492065, \"p\": 27864, \"fpr\": 0.927231807951988, \"tpr\": 0.9824504737295435, \"n\": 5332}, {\"threshold\": 0.7490000128746033, \"p\": 27864, \"fpr\": 0.927231807951988, \"tpr\": 0.9824504737295435, \"n\": 5332}, {\"threshold\": 0.75, \"p\": 27864, \"fpr\": 0.927231807951988, \"tpr\": 0.9824504737295435, \"n\": 5332}, {\"threshold\": 0.7509999871253967, \"p\": 27864, \"fpr\": 0.927231807951988, \"tpr\": 0.9824504737295435, \"n\": 5332}, {\"threshold\": 0.7519999742507935, \"p\": 27864, \"fpr\": 0.927231807951988, \"tpr\": 0.9824504737295435, \"n\": 5332}, {\"threshold\": 0.753000020980835, \"p\": 27864, \"fpr\": 0.927231807951988, \"tpr\": 0.9824504737295435, \"n\": 5332}, {\"threshold\": 0.7540000081062317, \"p\": 27864, \"fpr\": 0.927231807951988, \"tpr\": 0.9824504737295435, \"n\": 5332}, {\"threshold\": 0.7549999952316284, \"p\": 27864, \"fpr\": 0.927231807951988, \"tpr\": 0.9824504737295435, \"n\": 5332}, {\"threshold\": 0.7559999823570251, \"p\": 27864, \"fpr\": 0.927231807951988, \"tpr\": 0.9824504737295435, \"n\": 5332}, {\"threshold\": 0.7570000290870667, \"p\": 27864, \"fpr\": 0.927231807951988, \"tpr\": 0.9824504737295435, \"n\": 5332}, {\"threshold\": 0.7580000162124634, \"p\": 27864, \"fpr\": 0.927231807951988, \"tpr\": 0.9824504737295435, \"n\": 5332}, {\"threshold\": 0.7590000033378601, \"p\": 27864, \"fpr\": 0.927231807951988, \"tpr\": 0.9824504737295435, \"n\": 5332}, {\"threshold\": 0.7599999904632568, \"p\": 27864, \"fpr\": 0.927231807951988, \"tpr\": 0.9824504737295435, \"n\": 5332}, {\"threshold\": 0.7609999775886536, \"p\": 27864, \"fpr\": 0.927231807951988, \"tpr\": 0.9824504737295435, \"n\": 5332}, {\"threshold\": 0.7620000243186951, \"p\": 27864, \"fpr\": 0.927231807951988, \"tpr\": 0.9823786965259833, \"n\": 5332}, {\"threshold\": 0.7630000114440918, \"p\": 27864, \"fpr\": 0.927231807951988, \"tpr\": 0.9823786965259833, \"n\": 5332}, {\"threshold\": 0.7639999985694885, \"p\": 27864, \"fpr\": 0.927231807951988, \"tpr\": 0.9823786965259833, \"n\": 5332}, {\"threshold\": 0.7649999856948853, \"p\": 27864, \"fpr\": 0.927231807951988, \"tpr\": 0.9823786965259833, \"n\": 5332}, {\"threshold\": 0.765999972820282, \"p\": 27864, \"fpr\": 0.927231807951988, \"tpr\": 0.9823786965259833, \"n\": 5332}, {\"threshold\": 0.7670000195503235, \"p\": 27864, \"fpr\": 0.927231807951988, \"tpr\": 0.9823786965259833, \"n\": 5332}, {\"threshold\": 0.7680000066757202, \"p\": 27864, \"fpr\": 0.927231807951988, \"tpr\": 0.9823786965259833, \"n\": 5332}, {\"threshold\": 0.7689999938011169, \"p\": 27864, \"fpr\": 0.927231807951988, \"tpr\": 0.9823786965259833, \"n\": 5332}, {\"threshold\": 0.7699999809265137, \"p\": 27864, \"fpr\": 0.927231807951988, \"tpr\": 0.9823786965259833, \"n\": 5332}, {\"threshold\": 0.7710000276565552, \"p\": 27864, \"fpr\": 0.927231807951988, \"tpr\": 0.9823786965259833, \"n\": 5332}, {\"threshold\": 0.7720000147819519, \"p\": 27864, \"fpr\": 0.927231807951988, \"tpr\": 0.9823428079242033, \"n\": 5332}, {\"threshold\": 0.7730000019073486, \"p\": 27864, \"fpr\": 0.927231807951988, \"tpr\": 0.9823428079242033, \"n\": 5332}, {\"threshold\": 0.7739999890327454, \"p\": 27864, \"fpr\": 0.927231807951988, \"tpr\": 0.9823428079242033, \"n\": 5332}, {\"threshold\": 0.7749999761581421, \"p\": 27864, \"fpr\": 0.927231807951988, \"tpr\": 0.9823428079242033, \"n\": 5332}, {\"threshold\": 0.7760000228881836, \"p\": 27864, \"fpr\": 0.927231807951988, \"tpr\": 0.9823428079242033, \"n\": 5332}, {\"threshold\": 0.7770000100135803, \"p\": 27864, \"fpr\": 0.927231807951988, \"tpr\": 0.9823428079242033, \"n\": 5332}, {\"threshold\": 0.777999997138977, \"p\": 27864, \"fpr\": 0.927231807951988, \"tpr\": 0.9823428079242033, \"n\": 5332}, {\"threshold\": 0.7789999842643738, \"p\": 27864, \"fpr\": 0.927231807951988, \"tpr\": 0.9823428079242033, \"n\": 5332}, {\"threshold\": 0.7799999713897705, \"p\": 27864, \"fpr\": 0.9238559639909978, \"tpr\": 0.9802971576227391, \"n\": 5332}, {\"threshold\": 0.781000018119812, \"p\": 27864, \"fpr\": 0.9238559639909978, \"tpr\": 0.9802971576227391, \"n\": 5332}, {\"threshold\": 0.7820000052452087, \"p\": 27864, \"fpr\": 0.9238559639909978, \"tpr\": 0.9802253804191788, \"n\": 5332}, {\"threshold\": 0.7829999923706055, \"p\": 27864, \"fpr\": 0.9238559639909978, \"tpr\": 0.9802253804191788, \"n\": 5332}, {\"threshold\": 0.7839999794960022, \"p\": 27864, \"fpr\": 0.9238559639909978, \"tpr\": 0.9802253804191788, \"n\": 5332}, {\"threshold\": 0.7850000262260437, \"p\": 27864, \"fpr\": 0.9238559639909978, \"tpr\": 0.9802253804191788, \"n\": 5332}, {\"threshold\": 0.7860000133514404, \"p\": 27864, \"fpr\": 0.9238559639909978, \"tpr\": 0.9802253804191788, \"n\": 5332}, {\"threshold\": 0.7870000004768372, \"p\": 27864, \"fpr\": 0.9238559639909978, \"tpr\": 0.9802253804191788, \"n\": 5332}, {\"threshold\": 0.7879999876022339, \"p\": 27864, \"fpr\": 0.9238559639909978, \"tpr\": 0.9802253804191788, \"n\": 5332}, {\"threshold\": 0.7889999747276306, \"p\": 27864, \"fpr\": 0.923668417104276, \"tpr\": 0.9800100488084984, \"n\": 5332}, {\"threshold\": 0.7900000214576721, \"p\": 27864, \"fpr\": 0.923668417104276, \"tpr\": 0.9800100488084984, \"n\": 5332}, {\"threshold\": 0.7910000085830688, \"p\": 27864, \"fpr\": 0.923668417104276, \"tpr\": 0.9800100488084984, \"n\": 5332}, {\"threshold\": 0.7919999957084656, \"p\": 27864, \"fpr\": 0.923668417104276, \"tpr\": 0.9800100488084984, \"n\": 5332}, {\"threshold\": 0.7929999828338623, \"p\": 27864, \"fpr\": 0.923668417104276, \"tpr\": 0.9800100488084984, \"n\": 5332}, {\"threshold\": 0.7940000295639038, \"p\": 27864, \"fpr\": 0.923668417104276, \"tpr\": 0.9800100488084984, \"n\": 5332}, {\"threshold\": 0.7950000166893005, \"p\": 27864, \"fpr\": 0.923668417104276, \"tpr\": 0.9800100488084984, \"n\": 5332}, {\"threshold\": 0.7960000038146973, \"p\": 27864, \"fpr\": 0.9227306826706677, \"tpr\": 0.9794358311800172, \"n\": 5332}, {\"threshold\": 0.796999990940094, \"p\": 27864, \"fpr\": 0.13240810202550637, \"tpr\": 0.393733850129199, \"n\": 5332}, {\"threshold\": 0.7979999780654907, \"p\": 27864, \"fpr\": 0.13240810202550637, \"tpr\": 0.393733850129199, \"n\": 5332}, {\"threshold\": 0.7990000247955322, \"p\": 27864, \"fpr\": 0.13240810202550637, \"tpr\": 0.393733850129199, \"n\": 5332}, {\"threshold\": 0.800000011920929, \"p\": 27864, \"fpr\": 0.13240810202550637, \"tpr\": 0.393733850129199, \"n\": 5332}, {\"threshold\": 0.8009999990463257, \"p\": 27864, \"fpr\": 0.13240810202550637, \"tpr\": 0.393733850129199, \"n\": 5332}, {\"threshold\": 0.8019999861717224, \"p\": 27864, \"fpr\": 0.13240810202550637, \"tpr\": 0.393733850129199, \"n\": 5332}, {\"threshold\": 0.8029999732971191, \"p\": 27864, \"fpr\": 0.13240810202550637, \"tpr\": 0.393733850129199, \"n\": 5332}, {\"threshold\": 0.8040000200271606, \"p\": 27864, \"fpr\": 0.13240810202550637, \"tpr\": 0.393733850129199, \"n\": 5332}, {\"threshold\": 0.8050000071525574, \"p\": 27864, \"fpr\": 0.13240810202550637, \"tpr\": 0.393733850129199, \"n\": 5332}, {\"threshold\": 0.8059999942779541, \"p\": 27864, \"fpr\": 0.13240810202550637, \"tpr\": 0.393733850129199, \"n\": 5332}, {\"threshold\": 0.8069999814033508, \"p\": 27864, \"fpr\": 0.13240810202550637, \"tpr\": 0.393733850129199, \"n\": 5332}, {\"threshold\": 0.8080000281333923, \"p\": 27864, \"fpr\": 0.13240810202550637, \"tpr\": 0.393733850129199, \"n\": 5332}, {\"threshold\": 0.8090000152587891, \"p\": 27864, \"fpr\": 0.13203300825206302, \"tpr\": 0.3935544071202986, \"n\": 5332}, {\"threshold\": 0.8100000023841858, \"p\": 27864, \"fpr\": 0.13203300825206302, \"tpr\": 0.3935544071202986, \"n\": 5332}, {\"threshold\": 0.8109999895095825, \"p\": 27864, \"fpr\": 0.13203300825206302, \"tpr\": 0.3935544071202986, \"n\": 5332}, {\"threshold\": 0.8119999766349792, \"p\": 27864, \"fpr\": 0.13203300825206302, \"tpr\": 0.3935544071202986, \"n\": 5332}, {\"threshold\": 0.8130000233650208, \"p\": 27864, \"fpr\": 0.13203300825206302, \"tpr\": 0.3935544071202986, \"n\": 5332}, {\"threshold\": 0.8140000104904175, \"p\": 27864, \"fpr\": 0.13203300825206302, \"tpr\": 0.3935544071202986, \"n\": 5332}, {\"threshold\": 0.8149999976158142, \"p\": 27864, \"fpr\": 0.13203300825206302, \"tpr\": 0.3935544071202986, \"n\": 5332}, {\"threshold\": 0.8159999847412109, \"p\": 27864, \"fpr\": 0.13203300825206302, \"tpr\": 0.3935544071202986, \"n\": 5332}, {\"threshold\": 0.8169999718666077, \"p\": 27864, \"fpr\": 0.13203300825206302, \"tpr\": 0.3935544071202986, \"n\": 5332}, {\"threshold\": 0.8180000185966492, \"p\": 27864, \"fpr\": 0.13203300825206302, \"tpr\": 0.3935544071202986, \"n\": 5332}, {\"threshold\": 0.8190000057220459, \"p\": 27864, \"fpr\": 0.13203300825206302, \"tpr\": 0.3935544071202986, \"n\": 5332}, {\"threshold\": 0.8199999928474426, \"p\": 27864, \"fpr\": 0.13203300825206302, \"tpr\": 0.3935544071202986, \"n\": 5332}, {\"threshold\": 0.8209999799728394, \"p\": 27864, \"fpr\": 0.13203300825206302, \"tpr\": 0.3935544071202986, \"n\": 5332}, {\"threshold\": 0.8220000267028809, \"p\": 27864, \"fpr\": 0.13203300825206302, \"tpr\": 0.3935544071202986, \"n\": 5332}, {\"threshold\": 0.8230000138282776, \"p\": 27864, \"fpr\": 0.13203300825206302, \"tpr\": 0.3935544071202986, \"n\": 5332}, {\"threshold\": 0.8240000009536743, \"p\": 27864, \"fpr\": 0.13203300825206302, \"tpr\": 0.3935544071202986, \"n\": 5332}, {\"threshold\": 0.824999988079071, \"p\": 27864, \"fpr\": 0.13203300825206302, \"tpr\": 0.3935544071202986, \"n\": 5332}, {\"threshold\": 0.8259999752044678, \"p\": 27864, \"fpr\": 0.13203300825206302, \"tpr\": 0.3935544071202986, \"n\": 5332}, {\"threshold\": 0.8270000219345093, \"p\": 27864, \"fpr\": 0.13184546136534134, \"tpr\": 0.3934467413149584, \"n\": 5332}, {\"threshold\": 0.828000009059906, \"p\": 27864, \"fpr\": 0.13184546136534134, \"tpr\": 0.3934467413149584, \"n\": 5332}, {\"threshold\": 0.8289999961853027, \"p\": 27864, \"fpr\": 0.13184546136534134, \"tpr\": 0.3934467413149584, \"n\": 5332}, {\"threshold\": 0.8299999833106995, \"p\": 27864, \"fpr\": 0.13184546136534134, \"tpr\": 0.3934467413149584, \"n\": 5332}, {\"threshold\": 0.8309999704360962, \"p\": 27864, \"fpr\": 0.13184546136534134, \"tpr\": 0.3934467413149584, \"n\": 5332}, {\"threshold\": 0.8320000171661377, \"p\": 27864, \"fpr\": 0.13184546136534134, \"tpr\": 0.3934467413149584, \"n\": 5332}, {\"threshold\": 0.8330000042915344, \"p\": 27864, \"fpr\": 0.13184546136534134, \"tpr\": 0.3934467413149584, \"n\": 5332}, {\"threshold\": 0.8339999914169312, \"p\": 27864, \"fpr\": 0.13184546136534134, \"tpr\": 0.3934467413149584, \"n\": 5332}, {\"threshold\": 0.8349999785423279, \"p\": 27864, \"fpr\": 0.13184546136534134, \"tpr\": 0.3934467413149584, \"n\": 5332}, {\"threshold\": 0.8360000252723694, \"p\": 27864, \"fpr\": 0.13184546136534134, \"tpr\": 0.3934467413149584, \"n\": 5332}, {\"threshold\": 0.8370000123977661, \"p\": 27864, \"fpr\": 0.13184546136534134, \"tpr\": 0.3934467413149584, \"n\": 5332}, {\"threshold\": 0.8379999995231628, \"p\": 27864, \"fpr\": 0.13184546136534134, \"tpr\": 0.3934467413149584, \"n\": 5332}, {\"threshold\": 0.8389999866485596, \"p\": 27864, \"fpr\": 0.13184546136534134, \"tpr\": 0.3934467413149584, \"n\": 5332}, {\"threshold\": 0.8399999737739563, \"p\": 27864, \"fpr\": 0.13165791447861966, \"tpr\": 0.39333907550961816, \"n\": 5332}, {\"threshold\": 0.8410000205039978, \"p\": 27864, \"fpr\": 0.13165791447861966, \"tpr\": 0.39330318690783805, \"n\": 5332}, {\"threshold\": 0.8420000076293945, \"p\": 27864, \"fpr\": 0.13165791447861966, \"tpr\": 0.39330318690783805, \"n\": 5332}, {\"threshold\": 0.8429999947547913, \"p\": 27864, \"fpr\": 0.13147036759189798, \"tpr\": 0.393267298306058, \"n\": 5332}, {\"threshold\": 0.843999981880188, \"p\": 27864, \"fpr\": 0.13147036759189798, \"tpr\": 0.393267298306058, \"n\": 5332}, {\"threshold\": 0.8450000286102295, \"p\": 27864, \"fpr\": 0.13147036759189798, \"tpr\": 0.393267298306058, \"n\": 5332}, {\"threshold\": 0.8460000157356262, \"p\": 27864, \"fpr\": 0.13147036759189798, \"tpr\": 0.393267298306058, \"n\": 5332}, {\"threshold\": 0.847000002861023, \"p\": 27864, \"fpr\": 0.13147036759189798, \"tpr\": 0.393267298306058, \"n\": 5332}, {\"threshold\": 0.8479999899864197, \"p\": 27864, \"fpr\": 0.13147036759189798, \"tpr\": 0.39323140970427795, \"n\": 5332}, {\"threshold\": 0.8489999771118164, \"p\": 27864, \"fpr\": 0.13147036759189798, \"tpr\": 0.39312374389893767, \"n\": 5332}, {\"threshold\": 0.8500000238418579, \"p\": 27864, \"fpr\": 0.13147036759189798, \"tpr\": 0.39312374389893767, \"n\": 5332}, {\"threshold\": 0.8510000109672546, \"p\": 27864, \"fpr\": 0.13147036759189798, \"tpr\": 0.39312374389893767, \"n\": 5332}, {\"threshold\": 0.8519999980926514, \"p\": 27864, \"fpr\": 0.13147036759189798, \"tpr\": 0.39312374389893767, \"n\": 5332}, {\"threshold\": 0.8529999852180481, \"p\": 27864, \"fpr\": 0.13147036759189798, \"tpr\": 0.39312374389893767, \"n\": 5332}, {\"threshold\": 0.8539999723434448, \"p\": 27864, \"fpr\": 0.13147036759189798, \"tpr\": 0.39312374389893767, \"n\": 5332}, {\"threshold\": 0.8550000190734863, \"p\": 27864, \"fpr\": 0.13147036759189798, \"tpr\": 0.39312374389893767, \"n\": 5332}, {\"threshold\": 0.8560000061988831, \"p\": 27864, \"fpr\": 0.12996999249812452, \"tpr\": 0.390862761986793, \"n\": 5332}, {\"threshold\": 0.8569999933242798, \"p\": 27864, \"fpr\": 0.12996999249812452, \"tpr\": 0.390862761986793, \"n\": 5332}, {\"threshold\": 0.8579999804496765, \"p\": 27864, \"fpr\": 0.12996999249812452, \"tpr\": 0.390862761986793, \"n\": 5332}, {\"threshold\": 0.859000027179718, \"p\": 27864, \"fpr\": 0.12996999249812452, \"tpr\": 0.390862761986793, \"n\": 5332}, {\"threshold\": 0.8600000143051147, \"p\": 27864, \"fpr\": 0.12996999249812452, \"tpr\": 0.390862761986793, \"n\": 5332}, {\"threshold\": 0.8610000014305115, \"p\": 27864, \"fpr\": 0.12996999249812452, \"tpr\": 0.390862761986793, \"n\": 5332}, {\"threshold\": 0.8619999885559082, \"p\": 27864, \"fpr\": 0.12996999249812452, \"tpr\": 0.39082687338501293, \"n\": 5332}, {\"threshold\": 0.8629999756813049, \"p\": 27864, \"fpr\": 0.12996999249812452, \"tpr\": 0.39082687338501293, \"n\": 5332}, {\"threshold\": 0.8640000224113464, \"p\": 27864, \"fpr\": 0.12996999249812452, \"tpr\": 0.39082687338501293, \"n\": 5332}, {\"threshold\": 0.8650000095367432, \"p\": 27864, \"fpr\": 0.12996999249812452, \"tpr\": 0.39082687338501293, \"n\": 5332}, {\"threshold\": 0.8659999966621399, \"p\": 27864, \"fpr\": 0.12996999249812452, \"tpr\": 0.39082687338501293, \"n\": 5332}, {\"threshold\": 0.8669999837875366, \"p\": 27864, \"fpr\": 0.12996999249812452, \"tpr\": 0.39082687338501293, \"n\": 5332}, {\"threshold\": 0.8679999709129333, \"p\": 27864, \"fpr\": 0.12996999249812452, \"tpr\": 0.39082687338501293, \"n\": 5332}, {\"threshold\": 0.8690000176429749, \"p\": 27864, \"fpr\": 0.12978244561140284, \"tpr\": 0.3907909847832328, \"n\": 5332}, {\"threshold\": 0.8700000047683716, \"p\": 27864, \"fpr\": 0.12978244561140284, \"tpr\": 0.3907909847832328, \"n\": 5332}, {\"threshold\": 0.8709999918937683, \"p\": 27864, \"fpr\": 0.12978244561140284, \"tpr\": 0.3907909847832328, \"n\": 5332}, {\"threshold\": 0.871999979019165, \"p\": 27864, \"fpr\": 0.12978244561140284, \"tpr\": 0.3907909847832328, \"n\": 5332}, {\"threshold\": 0.8730000257492065, \"p\": 27864, \"fpr\": 0.12978244561140284, \"tpr\": 0.3907909847832328, \"n\": 5332}, {\"threshold\": 0.8740000128746033, \"p\": 27864, \"fpr\": 0.12978244561140284, \"tpr\": 0.3907909847832328, \"n\": 5332}, {\"threshold\": 0.875, \"p\": 27864, \"fpr\": 0.12978244561140284, \"tpr\": 0.3907909847832328, \"n\": 5332}, {\"threshold\": 0.8759999871253967, \"p\": 27864, \"fpr\": 0.12978244561140284, \"tpr\": 0.3907909847832328, \"n\": 5332}, {\"threshold\": 0.8769999742507935, \"p\": 27864, \"fpr\": 0.12978244561140284, \"tpr\": 0.3907909847832328, \"n\": 5332}, {\"threshold\": 0.878000020980835, \"p\": 27864, \"fpr\": 0.12978244561140284, \"tpr\": 0.3907909847832328, \"n\": 5332}, {\"threshold\": 0.8790000081062317, \"p\": 27864, \"fpr\": 0.12978244561140284, \"tpr\": 0.3907909847832328, \"n\": 5332}, {\"threshold\": 0.8799999952316284, \"p\": 27864, \"fpr\": 0.12978244561140284, \"tpr\": 0.3907909847832328, \"n\": 5332}, {\"threshold\": 0.8809999823570251, \"p\": 27864, \"fpr\": 0.12978244561140284, \"tpr\": 0.3907909847832328, \"n\": 5332}, {\"threshold\": 0.8820000290870667, \"p\": 27864, \"fpr\": 0.12978244561140284, \"tpr\": 0.3907909847832328, \"n\": 5332}, {\"threshold\": 0.8830000162124634, \"p\": 27864, \"fpr\": 0.12978244561140284, \"tpr\": 0.3907909847832328, \"n\": 5332}, {\"threshold\": 0.8840000033378601, \"p\": 27864, \"fpr\": 0.12978244561140284, \"tpr\": 0.3907909847832328, \"n\": 5332}, {\"threshold\": 0.8849999904632568, \"p\": 27864, \"fpr\": 0.12978244561140284, \"tpr\": 0.3907909847832328, \"n\": 5332}, {\"threshold\": 0.8859999775886536, \"p\": 27864, \"fpr\": 0.12978244561140284, \"tpr\": 0.3907909847832328, \"n\": 5332}, {\"threshold\": 0.8870000243186951, \"p\": 27864, \"fpr\": 0.12978244561140284, \"tpr\": 0.3907909847832328, \"n\": 5332}, {\"threshold\": 0.8880000114440918, \"p\": 27864, \"fpr\": 0.12978244561140284, \"tpr\": 0.3907909847832328, \"n\": 5332}, {\"threshold\": 0.8889999985694885, \"p\": 27864, \"fpr\": 0.12978244561140284, \"tpr\": 0.3907192075796727, \"n\": 5332}, {\"threshold\": 0.8899999856948853, \"p\": 27864, \"fpr\": 0.12978244561140284, \"tpr\": 0.3907192075796727, \"n\": 5332}, {\"threshold\": 0.890999972820282, \"p\": 27864, \"fpr\": 0.12978244561140284, \"tpr\": 0.3907192075796727, \"n\": 5332}, {\"threshold\": 0.8920000195503235, \"p\": 27864, \"fpr\": 0.12978244561140284, \"tpr\": 0.3907192075796727, \"n\": 5332}, {\"threshold\": 0.8930000066757202, \"p\": 27864, \"fpr\": 0.12978244561140284, \"tpr\": 0.3907192075796727, \"n\": 5332}, {\"threshold\": 0.8939999938011169, \"p\": 27864, \"fpr\": 0.12978244561140284, \"tpr\": 0.3907192075796727, \"n\": 5332}, {\"threshold\": 0.8949999809265137, \"p\": 27864, \"fpr\": 0.12978244561140284, \"tpr\": 0.3907192075796727, \"n\": 5332}, {\"threshold\": 0.8960000276565552, \"p\": 27864, \"fpr\": 0.12959489872468116, \"tpr\": 0.390396210163652, \"n\": 5332}, {\"threshold\": 0.8970000147819519, \"p\": 27864, \"fpr\": 0.12959489872468116, \"tpr\": 0.39036032156187195, \"n\": 5332}, {\"threshold\": 0.8980000019073486, \"p\": 27864, \"fpr\": 0.12940735183795948, \"tpr\": 0.3902167671547517, \"n\": 5332}, {\"threshold\": 0.8989999890327454, \"p\": 27864, \"fpr\": 0.12940735183795948, \"tpr\": 0.3902167671547517, \"n\": 5332}, {\"threshold\": 0.8999999761581421, \"p\": 27864, \"fpr\": 0.1292198049512378, \"tpr\": 0.3901449899511915, \"n\": 5332}, {\"threshold\": 0.9010000228881836, \"p\": 27864, \"fpr\": 0.1292198049512378, \"tpr\": 0.3901091013494114, \"n\": 5332}, {\"threshold\": 0.9020000100135803, \"p\": 27864, \"fpr\": 0.1292198049512378, \"tpr\": 0.3901091013494114, \"n\": 5332}, {\"threshold\": 0.902999997138977, \"p\": 27864, \"fpr\": 0.1292198049512378, \"tpr\": 0.3901091013494114, \"n\": 5332}, {\"threshold\": 0.9039999842643738, \"p\": 27864, \"fpr\": 0.1292198049512378, \"tpr\": 0.3900014355440712, \"n\": 5332}, {\"threshold\": 0.9049999713897705, \"p\": 27864, \"fpr\": 0.055326331582895724, \"tpr\": 0.2518303186907838, \"n\": 5332}, {\"threshold\": 0.906000018119812, \"p\": 27864, \"fpr\": 0.051950487621905475, \"tpr\": 0.24612403100775193, \"n\": 5332}, {\"threshold\": 0.9070000052452087, \"p\": 27864, \"fpr\": 0.051950487621905475, \"tpr\": 0.24612403100775193, \"n\": 5332}, {\"threshold\": 0.9079999923706055, \"p\": 27864, \"fpr\": 0.051950487621905475, \"tpr\": 0.24612403100775193, \"n\": 5332}, {\"threshold\": 0.9089999794960022, \"p\": 27864, \"fpr\": 0.051950487621905475, \"tpr\": 0.24612403100775193, \"n\": 5332}, {\"threshold\": 0.9100000262260437, \"p\": 27864, \"fpr\": 0.051950487621905475, \"tpr\": 0.24612403100775193, \"n\": 5332}, {\"threshold\": 0.9110000133514404, \"p\": 27864, \"fpr\": 0.051950487621905475, \"tpr\": 0.2460522538041918, \"n\": 5332}, {\"threshold\": 0.9120000004768372, \"p\": 27864, \"fpr\": 0.051950487621905475, \"tpr\": 0.2460522538041918, \"n\": 5332}, {\"threshold\": 0.9129999876022339, \"p\": 27864, \"fpr\": 0.051950487621905475, \"tpr\": 0.2460522538041918, \"n\": 5332}, {\"threshold\": 0.9139999747276306, \"p\": 27864, \"fpr\": 0.051950487621905475, \"tpr\": 0.2460522538041918, \"n\": 5332}, {\"threshold\": 0.9150000214576721, \"p\": 27864, \"fpr\": 0.051950487621905475, \"tpr\": 0.2460522538041918, \"n\": 5332}, {\"threshold\": 0.9160000085830688, \"p\": 27864, \"fpr\": 0.051950487621905475, \"tpr\": 0.2460522538041918, \"n\": 5332}, {\"threshold\": 0.9169999957084656, \"p\": 27864, \"fpr\": 0.051950487621905475, \"tpr\": 0.2460522538041918, \"n\": 5332}, {\"threshold\": 0.9179999828338623, \"p\": 27864, \"fpr\": 0.051950487621905475, \"tpr\": 0.2460522538041918, \"n\": 5332}, {\"threshold\": 0.9190000295639038, \"p\": 27864, \"fpr\": 0.050450112528132036, \"tpr\": 0.24074074074074073, \"n\": 5332}, {\"threshold\": 0.9200000166893005, \"p\": 27864, \"fpr\": 0.050450112528132036, \"tpr\": 0.24074074074074073, \"n\": 5332}, {\"threshold\": 0.9210000038146973, \"p\": 27864, \"fpr\": 0.050450112528132036, \"tpr\": 0.24070485213896067, \"n\": 5332}, {\"threshold\": 0.921999990940094, \"p\": 27864, \"fpr\": 0.050450112528132036, \"tpr\": 0.24070485213896067, \"n\": 5332}, {\"threshold\": 0.9229999780654907, \"p\": 27864, \"fpr\": 0.050450112528132036, \"tpr\": 0.24070485213896067, \"n\": 5332}, {\"threshold\": 0.9240000247955322, \"p\": 27864, \"fpr\": 0.050450112528132036, \"tpr\": 0.24070485213896067, \"n\": 5332}, {\"threshold\": 0.925000011920929, \"p\": 27864, \"fpr\": 0.050450112528132036, \"tpr\": 0.24070485213896067, \"n\": 5332}, {\"threshold\": 0.9259999990463257, \"p\": 27864, \"fpr\": 0.050450112528132036, \"tpr\": 0.24070485213896067, \"n\": 5332}, {\"threshold\": 0.9269999861717224, \"p\": 27864, \"fpr\": 0.050450112528132036, \"tpr\": 0.24070485213896067, \"n\": 5332}, {\"threshold\": 0.9279999732971191, \"p\": 27864, \"fpr\": 0.050450112528132036, \"tpr\": 0.24070485213896067, \"n\": 5332}, {\"threshold\": 0.9290000200271606, \"p\": 27864, \"fpr\": 0.050450112528132036, \"tpr\": 0.24070485213896067, \"n\": 5332}, {\"threshold\": 0.9300000071525574, \"p\": 27864, \"fpr\": 0.050450112528132036, \"tpr\": 0.24070485213896067, \"n\": 5332}, {\"threshold\": 0.9309999942779541, \"p\": 27864, \"fpr\": 0.050450112528132036, \"tpr\": 0.24070485213896067, \"n\": 5332}, {\"threshold\": 0.9319999814033508, \"p\": 27864, \"fpr\": 0.05026256564141035, \"tpr\": 0.2406689635371806, \"n\": 5332}, {\"threshold\": 0.9330000281333923, \"p\": 27864, \"fpr\": 0.05026256564141035, \"tpr\": 0.2406689635371806, \"n\": 5332}, {\"threshold\": 0.9340000152587891, \"p\": 27864, \"fpr\": 0.05026256564141035, \"tpr\": 0.2406689635371806, \"n\": 5332}, {\"threshold\": 0.9350000023841858, \"p\": 27864, \"fpr\": 0.049699924981245314, \"tpr\": 0.24027418891759977, \"n\": 5332}, {\"threshold\": 0.9359999895095825, \"p\": 27864, \"fpr\": 0.049699924981245314, \"tpr\": 0.2402024117140396, \"n\": 5332}, {\"threshold\": 0.9369999766349792, \"p\": 27864, \"fpr\": 0.049699924981245314, \"tpr\": 0.2402024117140396, \"n\": 5332}, {\"threshold\": 0.9380000233650208, \"p\": 27864, \"fpr\": 0.049699924981245314, \"tpr\": 0.24002296870513926, \"n\": 5332}, {\"threshold\": 0.9390000104904175, \"p\": 27864, \"fpr\": 0.049699924981245314, \"tpr\": 0.24002296870513926, \"n\": 5332}, {\"threshold\": 0.9399999976158142, \"p\": 27864, \"fpr\": 0.049699924981245314, \"tpr\": 0.24002296870513926, \"n\": 5332}, {\"threshold\": 0.9409999847412109, \"p\": 27864, \"fpr\": 0.017066766691672917, \"tpr\": 0.11017800746482917, \"n\": 5332}, {\"threshold\": 0.9419999718666077, \"p\": 27864, \"fpr\": 0.017066766691672917, \"tpr\": 0.11017800746482917, \"n\": 5332}, {\"threshold\": 0.9430000185966492, \"p\": 27864, \"fpr\": 0.017066766691672917, \"tpr\": 0.11017800746482917, \"n\": 5332}, {\"threshold\": 0.9440000057220459, \"p\": 27864, \"fpr\": 0.017066766691672917, \"tpr\": 0.11017800746482917, \"n\": 5332}, {\"threshold\": 0.9449999928474426, \"p\": 27864, \"fpr\": 0.017066766691672917, \"tpr\": 0.11017800746482917, \"n\": 5332}, {\"threshold\": 0.9459999799728394, \"p\": 27864, \"fpr\": 0.017066766691672917, \"tpr\": 0.11017800746482917, \"n\": 5332}, {\"threshold\": 0.9470000267028809, \"p\": 27864, \"fpr\": 0.017066766691672917, \"tpr\": 0.11017800746482917, \"n\": 5332}, {\"threshold\": 0.9480000138282776, \"p\": 27864, \"fpr\": 0.017066766691672917, \"tpr\": 0.11017800746482917, \"n\": 5332}, {\"threshold\": 0.9490000009536743, \"p\": 27864, \"fpr\": 0.017066766691672917, \"tpr\": 0.11017800746482917, \"n\": 5332}, {\"threshold\": 0.949999988079071, \"p\": 27864, \"fpr\": 0.017066766691672917, \"tpr\": 0.11017800746482917, \"n\": 5332}, {\"threshold\": 0.9509999752044678, \"p\": 27864, \"fpr\": 0.017066766691672917, \"tpr\": 0.11017800746482917, \"n\": 5332}, {\"threshold\": 0.9520000219345093, \"p\": 27864, \"fpr\": 0.017066766691672917, \"tpr\": 0.11017800746482917, \"n\": 5332}, {\"threshold\": 0.953000009059906, \"p\": 27864, \"fpr\": 0.017066766691672917, \"tpr\": 0.11017800746482917, \"n\": 5332}, {\"threshold\": 0.9539999961853027, \"p\": 27864, \"fpr\": 0.017066766691672917, \"tpr\": 0.11017800746482917, \"n\": 5332}, {\"threshold\": 0.9549999833106995, \"p\": 27864, \"fpr\": 0.01687921980495124, \"tpr\": 0.11003445305770887, \"n\": 5332}, {\"threshold\": 0.9559999704360962, \"p\": 27864, \"fpr\": 0.01687921980495124, \"tpr\": 0.11003445305770887, \"n\": 5332}, {\"threshold\": 0.9570000171661377, \"p\": 27864, \"fpr\": 0.01687921980495124, \"tpr\": 0.11003445305770887, \"n\": 5332}, {\"threshold\": 0.9580000042915344, \"p\": 27864, \"fpr\": 0.01687921980495124, \"tpr\": 0.1099985644559288, \"n\": 5332}, {\"threshold\": 0.9589999914169312, \"p\": 27864, \"fpr\": 0.011627906976744186, \"tpr\": 0.08731696813092162, \"n\": 5332}, {\"threshold\": 0.9599999785423279, \"p\": 27864, \"fpr\": 0.011440360090022505, \"tpr\": 0.08717341372380132, \"n\": 5332}, {\"threshold\": 0.9610000252723694, \"p\": 27864, \"fpr\": 0.011440360090022505, \"tpr\": 0.08688630490956073, \"n\": 5332}, {\"threshold\": 0.9620000123977661, \"p\": 27864, \"fpr\": 0.011440360090022505, \"tpr\": 0.08685041630778065, \"n\": 5332}, {\"threshold\": 0.9629999995231628, \"p\": 27864, \"fpr\": 0.011440360090022505, \"tpr\": 0.08685041630778065, \"n\": 5332}, {\"threshold\": 0.9639999866485596, \"p\": 27864, \"fpr\": 0.011440360090022505, \"tpr\": 0.08685041630778065, \"n\": 5332}, {\"threshold\": 0.9649999737739563, \"p\": 27864, \"fpr\": 0.011252813203300824, \"tpr\": 0.08505598621877691, \"n\": 5332}, {\"threshold\": 0.9660000205039978, \"p\": 27864, \"fpr\": 0.011252813203300824, \"tpr\": 0.08491243181165661, \"n\": 5332}, {\"threshold\": 0.9670000076293945, \"p\": 27864, \"fpr\": 0.011252813203300824, \"tpr\": 0.08491243181165661, \"n\": 5332}, {\"threshold\": 0.9679999947547913, \"p\": 27864, \"fpr\": 0.011252813203300824, \"tpr\": 0.08491243181165661, \"n\": 5332}, {\"threshold\": 0.968999981880188, \"p\": 27864, \"fpr\": 0.011252813203300824, \"tpr\": 0.08491243181165661, \"n\": 5332}, {\"threshold\": 0.9700000286102295, \"p\": 27864, \"fpr\": 0.011252813203300824, \"tpr\": 0.08487654320987655, \"n\": 5332}, {\"threshold\": 0.9710000157356262, \"p\": 27864, \"fpr\": 0.011252813203300824, \"tpr\": 0.08476887740453631, \"n\": 5332}, {\"threshold\": 0.972000002861023, \"p\": 27864, \"fpr\": 0.011252813203300824, \"tpr\": 0.08473298880275625, \"n\": 5332}, {\"threshold\": 0.9729999899864197, \"p\": 27864, \"fpr\": 0.011065266316579146, \"tpr\": 0.08458943439563595, \"n\": 5332}, {\"threshold\": 0.9739999771118164, \"p\": 27864, \"fpr\": 0.011065266316579146, \"tpr\": 0.08458943439563595, \"n\": 5332}, {\"threshold\": 0.9750000238418579, \"p\": 27864, \"fpr\": 0.004876219054763691, \"tpr\": 0.05103359173126615, \"n\": 5332}, {\"threshold\": 0.9760000109672546, \"p\": 27864, \"fpr\": 0.004876219054763691, \"tpr\": 0.05103359173126615, \"n\": 5332}, {\"threshold\": 0.9769999980926514, \"p\": 27864, \"fpr\": 0.004876219054763691, \"tpr\": 0.05099770312948607, \"n\": 5332}, {\"threshold\": 0.9779999852180481, \"p\": 27864, \"fpr\": 0.004876219054763691, \"tpr\": 0.05099770312948607, \"n\": 5332}, {\"threshold\": 0.9789999723434448, \"p\": 27864, \"fpr\": 0.00431357839459865, \"tpr\": 0.048916164226241746, \"n\": 5332}, {\"threshold\": 0.9800000190734863, \"p\": 27864, \"fpr\": 0.00431357839459865, \"tpr\": 0.048916164226241746, \"n\": 5332}, {\"threshold\": 0.9810000061988831, \"p\": 27864, \"fpr\": 0.00431357839459865, \"tpr\": 0.048844387022681596, \"n\": 5332}, {\"threshold\": 0.9819999933242798, \"p\": 27864, \"fpr\": 0.00431357839459865, \"tpr\": 0.048844387022681596, \"n\": 5332}, {\"threshold\": 0.9829999804496765, \"p\": 27864, \"fpr\": 0.003938484621155289, \"tpr\": 0.045111972437553834, \"n\": 5332}, {\"threshold\": 0.984000027179718, \"p\": 27864, \"fpr\": 0.003938484621155289, \"tpr\": 0.04507608383577376, \"n\": 5332}, {\"threshold\": 0.9850000143051147, \"p\": 27864, \"fpr\": 0.0018754688672168042, \"tpr\": 0.02648578811369509, \"n\": 5332}, {\"threshold\": 0.9860000014305115, \"p\": 27864, \"fpr\": 0.0016879219804951237, \"tpr\": 0.026126902095894345, \"n\": 5332}, {\"threshold\": 0.9869999885559082, \"p\": 27864, \"fpr\": 0.0016879219804951237, \"tpr\": 0.02609101349411427, \"n\": 5332}, {\"threshold\": 0.9879999756813049, \"p\": 27864, \"fpr\": 0.0016879219804951237, \"tpr\": 0.026055124892334195, \"n\": 5332}, {\"threshold\": 0.9890000224113464, \"p\": 27864, \"fpr\": 0.0016879219804951237, \"tpr\": 0.026055124892334195, \"n\": 5332}, {\"threshold\": 0.9900000095367432, \"p\": 27864, \"fpr\": 0.001312828207051763, \"tpr\": 0.01977461958082113, \"n\": 5332}, {\"threshold\": 0.9909999966621399, \"p\": 27864, \"fpr\": 0.001312828207051763, \"tpr\": 0.019738730979041056, \"n\": 5332}, {\"threshold\": 0.9919999837875366, \"p\": 27864, \"fpr\": 0.001312828207051763, \"tpr\": 0.019343956359460235, \"n\": 5332}, {\"threshold\": 0.9929999709129333, \"p\": 27864, \"fpr\": 0.0009377344336084021, \"tpr\": 0.018662072925638817, \"n\": 5332}, {\"threshold\": 0.9940000176429749, \"p\": 27864, \"fpr\": 0.0005626406601650412, \"tpr\": 0.012238013207005455, \"n\": 5332}, {\"threshold\": 0.9950000047683716, \"p\": 27864, \"fpr\": 0.0005626406601650412, \"tpr\": 0.011843238587424634, \"n\": 5332}, {\"threshold\": 0.9959999918937683, \"p\": 27864, \"fpr\": 0.00037509377344336085, \"tpr\": 0.010766580534022395, \"n\": 5332}, {\"threshold\": 0.996999979019165, \"p\": 27864, \"fpr\": 0.00037509377344336085, \"tpr\": 0.00663939132931381, \"n\": 5332}, {\"threshold\": 0.9980000257492065, \"p\": 27864, \"fpr\": 0.00018754688672168043, \"tpr\": 0.005132070054550675, \"n\": 5332}, {\"threshold\": 0.9990000128746033, \"p\": 27864, \"fpr\": 0.00018754688672168043, \"tpr\": 0.0028351995406258974, \"n\": 5332}, {\"threshold\": 1.0, \"p\": 27864, \"fpr\": 0.0, \"tpr\": 0.0, \"n\": 5332}]}]], \"type\": \"Model\"}, \"ipython\": true, \"view_params\": {\"model_type\": \"regression\", \"view\": \"Evaluation\"}, \"model_type\": \"regression\", \"attributes\": {\"section_titles\": [\"Schema\", \"Hyperparameters\", \"Training Summary\", \"Settings\", \"Highest Positive Coefficients\", \"Lowest Negative Coefficients\"], \"sections\": [[[\"Number of coefficients\", 12], [\"Number of examples\", 133448], [\"Number of classes\", 2], [\"Number of feature columns\", 11], [\"Number of unpacked features\", 11]], [[\"L1 penalty\", 0.0], [\"L2 penalty\", 0.01]], [[\"Solver\", \"auto\"], [\"Solver iterations\", 6], [\"Solver status\", \"SUCCESS: Optimal solution found.\"], [\"Training time (sec)\", 1.5281]], [[\"Log-likelihood\", 54057.6401]], [[\"love\", 1.3999], [\"(intercept)\", 1.3673], [\"awesome\", 1.058], [\"amazing\", 0.8928], [\"fantastic\", 0.8913]], [[\"terrible\", -2.0905], [\"horrible\", -1.9965], [\"awful\", -1.7647], [\"hate\", -1.4092], [\"bad\", -0.9858]]]}, \"evaluations\": [[\"test_data\", {\"roc_curve\": [{\"threshold\": 0.0, \"p\": 27864, \"fpr\": 0.00018754688672168043, \"tpr\": 0.0, \"n\": 5332}, {\"threshold\": 0.0010000000474974513, \"p\": 27864, \"fpr\": 0.9998124531132783, \"tpr\": 1.0, \"n\": 5332}, {\"threshold\": 0.0020000000949949026, \"p\": 27864, \"fpr\": 0.9996249062265566, \"tpr\": 1.0, \"n\": 5332}, {\"threshold\": 0.003000000026077032, \"p\": 27864, \"fpr\": 0.9996249062265566, \"tpr\": 1.0, \"n\": 5332}, {\"threshold\": 0.004000000189989805, \"p\": 27864, \"fpr\": 0.9994373593398349, \"tpr\": 1.0, \"n\": 5332}, {\"threshold\": 0.004999999888241291, \"p\": 27864, \"fpr\": 0.9994373593398349, \"tpr\": 1.0, \"n\": 5332}, {\"threshold\": 0.006000000052154064, \"p\": 27864, \"fpr\": 0.9992498124531133, \"tpr\": 1.0, \"n\": 5332}, {\"threshold\": 0.007000000216066837, \"p\": 27864, \"fpr\": 0.9992498124531133, \"tpr\": 1.0, \"n\": 5332}, {\"threshold\": 0.00800000037997961, \"p\": 27864, \"fpr\": 0.9992498124531133, \"tpr\": 1.0, \"n\": 5332}, {\"threshold\": 0.008999999612569809, \"p\": 27864, \"fpr\": 0.9992498124531133, \"tpr\": 1.0, \"n\": 5332}, {\"threshold\": 0.009999999776482582, \"p\": 27864, \"fpr\": 0.9990622655663915, \"tpr\": 1.0, \"n\": 5332}, {\"threshold\": 0.010999999940395355, \"p\": 27864, \"fpr\": 0.9990622655663915, \"tpr\": 1.0, \"n\": 5332}, {\"threshold\": 0.012000000104308128, \"p\": 27864, \"fpr\": 0.9990622655663915, \"tpr\": 1.0, \"n\": 5332}, {\"threshold\": 0.013000000268220901, \"p\": 27864, \"fpr\": 0.9990622655663915, \"tpr\": 1.0, \"n\": 5332}, {\"threshold\": 0.014000000432133675, \"p\": 27864, \"fpr\": 0.9990622655663915, \"tpr\": 1.0, \"n\": 5332}, {\"threshold\": 0.014999999664723873, \"p\": 27864, \"fpr\": 0.9990622655663915, \"tpr\": 1.0, \"n\": 5332}, {\"threshold\": 0.01600000075995922, \"p\": 27864, \"fpr\": 0.9990622655663915, \"tpr\": 1.0, \"n\": 5332}, {\"threshold\": 0.017000000923871994, \"p\": 27864, \"fpr\": 0.9990622655663915, \"tpr\": 1.0, \"n\": 5332}, {\"threshold\": 0.017999999225139618, \"p\": 27864, \"fpr\": 0.9990622655663915, \"tpr\": 1.0, \"n\": 5332}, {\"threshold\": 0.01899999938905239, \"p\": 27864, \"fpr\": 0.9990622655663915, \"tpr\": 1.0, \"n\": 5332}, {\"threshold\": 0.019999999552965164, \"p\": 27864, \"fpr\": 0.9988747186796699, \"tpr\": 1.0, \"n\": 5332}, {\"threshold\": 0.020999999716877937, \"p\": 27864, \"fpr\": 0.9988747186796699, \"tpr\": 1.0, \"n\": 5332}, {\"threshold\": 0.02199999988079071, \"p\": 27864, \"fpr\": 0.9988747186796699, \"tpr\": 1.0, \"n\": 5332}, {\"threshold\": 0.023000000044703484, \"p\": 27864, \"fpr\": 0.9988747186796699, \"tpr\": 1.0, \"n\": 5332}, {\"threshold\": 0.024000000208616257, \"p\": 27864, \"fpr\": 0.9988747186796699, \"tpr\": 1.0, \"n\": 5332}, {\"threshold\": 0.02500000037252903, \"p\": 27864, \"fpr\": 0.9988747186796699, \"tpr\": 1.0, \"n\": 5332}, {\"threshold\": 0.026000000536441803, \"p\": 27864, \"fpr\": 0.9988747186796699, \"tpr\": 1.0, \"n\": 5332}, {\"threshold\": 0.027000000700354576, \"p\": 27864, \"fpr\": 0.9988747186796699, \"tpr\": 1.0, \"n\": 5332}, {\"threshold\": 0.02800000086426735, \"p\": 27864, \"fpr\": 0.9988747186796699, \"tpr\": 1.0, \"n\": 5332}, {\"threshold\": 0.028999999165534973, \"p\": 27864, \"fpr\": 0.9988747186796699, \"tpr\": 1.0, \"n\": 5332}, {\"threshold\": 0.029999999329447746, \"p\": 27864, \"fpr\": 0.9988747186796699, \"tpr\": 1.0, \"n\": 5332}, {\"threshold\": 0.03099999949336052, \"p\": 27864, \"fpr\": 0.9986871717929482, \"tpr\": 1.0, \"n\": 5332}, {\"threshold\": 0.03200000151991844, \"p\": 27864, \"fpr\": 0.9986871717929482, \"tpr\": 1.0, \"n\": 5332}, {\"threshold\": 0.032999999821186066, \"p\": 27864, \"fpr\": 0.9986871717929482, \"tpr\": 1.0, \"n\": 5332}, {\"threshold\": 0.03400000184774399, \"p\": 27864, \"fpr\": 0.9986871717929482, \"tpr\": 1.0, \"n\": 5332}, {\"threshold\": 0.03500000014901161, \"p\": 27864, \"fpr\": 0.9986871717929482, \"tpr\": 1.0, \"n\": 5332}, {\"threshold\": 0.035999998450279236, \"p\": 27864, \"fpr\": 0.9986871717929482, \"tpr\": 1.0, \"n\": 5332}, {\"threshold\": 0.03700000047683716, \"p\": 27864, \"fpr\": 0.9986871717929482, \"tpr\": 1.0, \"n\": 5332}, {\"threshold\": 0.03799999877810478, \"p\": 27864, \"fpr\": 0.9986871717929482, \"tpr\": 1.0, \"n\": 5332}, {\"threshold\": 0.039000000804662704, \"p\": 27864, \"fpr\": 0.9986871717929482, \"tpr\": 1.0, \"n\": 5332}, {\"threshold\": 0.03999999910593033, \"p\": 27864, \"fpr\": 0.9986871717929482, \"tpr\": 1.0, \"n\": 5332}, {\"threshold\": 0.04100000113248825, \"p\": 27864, \"fpr\": 0.9986871717929482, \"tpr\": 1.0, \"n\": 5332}, {\"threshold\": 0.041999999433755875, \"p\": 27864, \"fpr\": 0.9986871717929482, \"tpr\": 1.0, \"n\": 5332}, {\"threshold\": 0.0430000014603138, \"p\": 27864, \"fpr\": 0.9986871717929482, \"tpr\": 1.0, \"n\": 5332}, {\"threshold\": 0.04399999976158142, \"p\": 27864, \"fpr\": 0.9986871717929482, \"tpr\": 1.0, \"n\": 5332}, {\"threshold\": 0.04500000178813934, \"p\": 27864, \"fpr\": 0.9986871717929482, \"tpr\": 1.0, \"n\": 5332}, {\"threshold\": 0.04600000008940697, \"p\": 27864, \"fpr\": 0.9986871717929482, \"tpr\": 1.0, \"n\": 5332}, {\"threshold\": 0.04699999839067459, \"p\": 27864, \"fpr\": 0.9986871717929482, \"tpr\": 1.0, \"n\": 5332}, {\"threshold\": 0.04800000041723251, \"p\": 27864, \"fpr\": 0.9986871717929482, \"tpr\": 1.0, \"n\": 5332}, {\"threshold\": 0.04899999871850014, \"p\": 27864, \"fpr\": 0.9986871717929482, \"tpr\": 1.0, \"n\": 5332}, {\"threshold\": 0.05000000074505806, \"p\": 27864, \"fpr\": 0.9986871717929482, \"tpr\": 1.0, \"n\": 5332}, {\"threshold\": 0.050999999046325684, \"p\": 27864, \"fpr\": 0.9986871717929482, \"tpr\": 1.0, \"n\": 5332}, {\"threshold\": 0.052000001072883606, \"p\": 27864, \"fpr\": 0.9986871717929482, \"tpr\": 1.0, \"n\": 5332}, {\"threshold\": 0.05299999937415123, \"p\": 27864, \"fpr\": 0.9986871717929482, \"tpr\": 1.0, \"n\": 5332}, {\"threshold\": 0.05400000140070915, \"p\": 27864, \"fpr\": 0.9986871717929482, \"tpr\": 1.0, \"n\": 5332}, {\"threshold\": 0.054999999701976776, \"p\": 27864, \"fpr\": 0.9986871717929482, \"tpr\": 1.0, \"n\": 5332}, {\"threshold\": 0.0560000017285347, \"p\": 27864, \"fpr\": 0.9986871717929482, \"tpr\": 1.0, \"n\": 5332}, {\"threshold\": 0.05700000002980232, \"p\": 27864, \"fpr\": 0.9984996249062266, \"tpr\": 0.9999282227964399, \"n\": 5332}, {\"threshold\": 0.057999998331069946, \"p\": 27864, \"fpr\": 0.9984996249062266, \"tpr\": 0.9999282227964399, \"n\": 5332}, {\"threshold\": 0.05900000035762787, \"p\": 27864, \"fpr\": 0.9984996249062266, \"tpr\": 0.9999282227964399, \"n\": 5332}, {\"threshold\": 0.05999999865889549, \"p\": 27864, \"fpr\": 0.9984996249062266, \"tpr\": 0.9999282227964399, \"n\": 5332}, {\"threshold\": 0.061000000685453415, \"p\": 27864, \"fpr\": 0.9984996249062266, \"tpr\": 0.9999282227964399, \"n\": 5332}, {\"threshold\": 0.06199999898672104, \"p\": 27864, \"fpr\": 0.9979369842460615, \"tpr\": 0.9998923341946597, \"n\": 5332}, {\"threshold\": 0.06300000101327896, \"p\": 27864, \"fpr\": 0.9979369842460615, \"tpr\": 0.9998923341946597, \"n\": 5332}, {\"threshold\": 0.06400000303983688, \"p\": 27864, \"fpr\": 0.9977494373593399, \"tpr\": 0.9998923341946597, \"n\": 5332}, {\"threshold\": 0.06499999761581421, \"p\": 27864, \"fpr\": 0.9977494373593399, \"tpr\": 0.9998923341946597, \"n\": 5332}, {\"threshold\": 0.06599999964237213, \"p\": 27864, \"fpr\": 0.9977494373593399, \"tpr\": 0.9998923341946597, \"n\": 5332}, {\"threshold\": 0.06700000166893005, \"p\": 27864, \"fpr\": 0.9977494373593399, \"tpr\": 0.9998923341946597, \"n\": 5332}, {\"threshold\": 0.06800000369548798, \"p\": 27864, \"fpr\": 0.9973743435858965, \"tpr\": 0.9998564455928797, \"n\": 5332}, {\"threshold\": 0.0689999982714653, \"p\": 27864, \"fpr\": 0.9973743435858965, \"tpr\": 0.9998564455928797, \"n\": 5332}, {\"threshold\": 0.07000000029802322, \"p\": 27864, \"fpr\": 0.9973743435858965, \"tpr\": 0.9998564455928797, \"n\": 5332}, {\"threshold\": 0.07100000232458115, \"p\": 27864, \"fpr\": 0.9973743435858965, \"tpr\": 0.9998564455928797, \"n\": 5332}, {\"threshold\": 0.07199999690055847, \"p\": 27864, \"fpr\": 0.9973743435858965, \"tpr\": 0.9998564455928797, \"n\": 5332}, {\"threshold\": 0.0729999989271164, \"p\": 27864, \"fpr\": 0.9973743435858965, \"tpr\": 0.9998564455928797, \"n\": 5332}, {\"threshold\": 0.07400000095367432, \"p\": 27864, \"fpr\": 0.9973743435858965, \"tpr\": 0.9998564455928797, \"n\": 5332}, {\"threshold\": 0.07500000298023224, \"p\": 27864, \"fpr\": 0.9973743435858965, \"tpr\": 0.9998564455928797, \"n\": 5332}, {\"threshold\": 0.07599999755620956, \"p\": 27864, \"fpr\": 0.9973743435858965, \"tpr\": 0.9998564455928797, \"n\": 5332}, {\"threshold\": 0.07699999958276749, \"p\": 27864, \"fpr\": 0.9973743435858965, \"tpr\": 0.9998564455928797, \"n\": 5332}, {\"threshold\": 0.07800000160932541, \"p\": 27864, \"fpr\": 0.9973743435858965, \"tpr\": 0.9998564455928797, \"n\": 5332}, {\"threshold\": 0.07900000363588333, \"p\": 27864, \"fpr\": 0.9973743435858965, \"tpr\": 0.9998564455928797, \"n\": 5332}, {\"threshold\": 0.07999999821186066, \"p\": 27864, \"fpr\": 0.9973743435858965, \"tpr\": 0.9998564455928797, \"n\": 5332}, {\"threshold\": 0.08100000023841858, \"p\": 27864, \"fpr\": 0.9973743435858965, \"tpr\": 0.9998564455928797, \"n\": 5332}, {\"threshold\": 0.0820000022649765, \"p\": 27864, \"fpr\": 0.9973743435858965, \"tpr\": 0.9998564455928797, \"n\": 5332}, {\"threshold\": 0.08299999684095383, \"p\": 27864, \"fpr\": 0.9973743435858965, \"tpr\": 0.9998564455928797, \"n\": 5332}, {\"threshold\": 0.08399999886751175, \"p\": 27864, \"fpr\": 0.9971867966991748, \"tpr\": 0.9997846683893196, \"n\": 5332}, {\"threshold\": 0.08500000089406967, \"p\": 27864, \"fpr\": 0.9971867966991748, \"tpr\": 0.9997846683893196, \"n\": 5332}, {\"threshold\": 0.0860000029206276, \"p\": 27864, \"fpr\": 0.9971867966991748, \"tpr\": 0.9997846683893196, \"n\": 5332}, {\"threshold\": 0.08699999749660492, \"p\": 27864, \"fpr\": 0.9971867966991748, \"tpr\": 0.9997846683893196, \"n\": 5332}, {\"threshold\": 0.08799999952316284, \"p\": 27864, \"fpr\": 0.9971867966991748, \"tpr\": 0.9997846683893196, \"n\": 5332}, {\"threshold\": 0.08900000154972076, \"p\": 27864, \"fpr\": 0.9971867966991748, \"tpr\": 0.9997846683893196, \"n\": 5332}, {\"threshold\": 0.09000000357627869, \"p\": 27864, \"fpr\": 0.9971867966991748, \"tpr\": 0.9997846683893196, \"n\": 5332}, {\"threshold\": 0.09099999815225601, \"p\": 27864, \"fpr\": 0.9971867966991748, \"tpr\": 0.9997846683893196, \"n\": 5332}, {\"threshold\": 0.09200000017881393, \"p\": 27864, \"fpr\": 0.9971867966991748, \"tpr\": 0.9997846683893196, \"n\": 5332}, {\"threshold\": 0.09300000220537186, \"p\": 27864, \"fpr\": 0.9971867966991748, \"tpr\": 0.9997846683893196, \"n\": 5332}, {\"threshold\": 0.09399999678134918, \"p\": 27864, \"fpr\": 0.9971867966991748, \"tpr\": 0.9997846683893196, \"n\": 5332}, {\"threshold\": 0.0949999988079071, \"p\": 27864, \"fpr\": 0.9971867966991748, \"tpr\": 0.9997846683893196, \"n\": 5332}, {\"threshold\": 0.09600000083446503, \"p\": 27864, \"fpr\": 0.9971867966991748, \"tpr\": 0.9997846683893196, \"n\": 5332}, {\"threshold\": 0.09700000286102295, \"p\": 27864, \"fpr\": 0.9971867966991748, \"tpr\": 0.9997846683893196, \"n\": 5332}, {\"threshold\": 0.09799999743700027, \"p\": 27864, \"fpr\": 0.9971867966991748, \"tpr\": 0.9997846683893196, \"n\": 5332}, {\"threshold\": 0.0989999994635582, \"p\": 27864, \"fpr\": 0.9971867966991748, \"tpr\": 0.9997846683893196, \"n\": 5332}, {\"threshold\": 0.10000000149011612, \"p\": 27864, \"fpr\": 0.9971867966991748, \"tpr\": 0.9997846683893196, \"n\": 5332}, {\"threshold\": 0.10100000351667404, \"p\": 27864, \"fpr\": 0.9971867966991748, \"tpr\": 0.9997846683893196, \"n\": 5332}, {\"threshold\": 0.10199999809265137, \"p\": 27864, \"fpr\": 0.9971867966991748, \"tpr\": 0.9997846683893196, \"n\": 5332}, {\"threshold\": 0.10300000011920929, \"p\": 27864, \"fpr\": 0.9971867966991748, \"tpr\": 0.9997846683893196, \"n\": 5332}, {\"threshold\": 0.10400000214576721, \"p\": 27864, \"fpr\": 0.9971867966991748, \"tpr\": 0.9997846683893196, \"n\": 5332}, {\"threshold\": 0.10499999672174454, \"p\": 27864, \"fpr\": 0.9971867966991748, \"tpr\": 0.9997846683893196, \"n\": 5332}, {\"threshold\": 0.10599999874830246, \"p\": 27864, \"fpr\": 0.9971867966991748, \"tpr\": 0.9997846683893196, \"n\": 5332}, {\"threshold\": 0.10700000077486038, \"p\": 27864, \"fpr\": 0.9971867966991748, \"tpr\": 0.9997846683893196, \"n\": 5332}, {\"threshold\": 0.1080000028014183, \"p\": 27864, \"fpr\": 0.9971867966991748, \"tpr\": 0.9997846683893196, \"n\": 5332}, {\"threshold\": 0.10899999737739563, \"p\": 27864, \"fpr\": 0.9971867966991748, \"tpr\": 0.9997846683893196, \"n\": 5332}, {\"threshold\": 0.10999999940395355, \"p\": 27864, \"fpr\": 0.9971867966991748, \"tpr\": 0.9997846683893196, \"n\": 5332}, {\"threshold\": 0.11100000143051147, \"p\": 27864, \"fpr\": 0.9971867966991748, \"tpr\": 0.9997846683893196, \"n\": 5332}, {\"threshold\": 0.1120000034570694, \"p\": 27864, \"fpr\": 0.9971867966991748, \"tpr\": 0.9997846683893196, \"n\": 5332}, {\"threshold\": 0.11299999803304672, \"p\": 27864, \"fpr\": 0.9971867966991748, \"tpr\": 0.9997846683893196, \"n\": 5332}, {\"threshold\": 0.11400000005960464, \"p\": 27864, \"fpr\": 0.9971867966991748, \"tpr\": 0.9997846683893196, \"n\": 5332}, {\"threshold\": 0.11500000208616257, \"p\": 27864, \"fpr\": 0.9971867966991748, \"tpr\": 0.9997846683893196, \"n\": 5332}, {\"threshold\": 0.11599999666213989, \"p\": 27864, \"fpr\": 0.9971867966991748, \"tpr\": 0.9997846683893196, \"n\": 5332}, {\"threshold\": 0.11699999868869781, \"p\": 27864, \"fpr\": 0.9971867966991748, \"tpr\": 0.9997846683893196, \"n\": 5332}, {\"threshold\": 0.11800000071525574, \"p\": 27864, \"fpr\": 0.9971867966991748, \"tpr\": 0.9997846683893196, \"n\": 5332}, {\"threshold\": 0.11900000274181366, \"p\": 27864, \"fpr\": 0.9971867966991748, \"tpr\": 0.9997846683893196, \"n\": 5332}, {\"threshold\": 0.11999999731779099, \"p\": 27864, \"fpr\": 0.9971867966991748, \"tpr\": 0.9997846683893196, \"n\": 5332}, {\"threshold\": 0.12099999934434891, \"p\": 27864, \"fpr\": 0.9971867966991748, \"tpr\": 0.9997846683893196, \"n\": 5332}, {\"threshold\": 0.12200000137090683, \"p\": 27864, \"fpr\": 0.9971867966991748, \"tpr\": 0.9997846683893196, \"n\": 5332}, {\"threshold\": 0.12300000339746475, \"p\": 27864, \"fpr\": 0.9971867966991748, \"tpr\": 0.9997846683893196, \"n\": 5332}, {\"threshold\": 0.12399999797344208, \"p\": 27864, \"fpr\": 0.9971867966991748, \"tpr\": 0.9997846683893196, \"n\": 5332}, {\"threshold\": 0.125, \"p\": 27864, \"fpr\": 0.9971867966991748, \"tpr\": 0.9997846683893196, \"n\": 5332}, {\"threshold\": 0.12600000202655792, \"p\": 27864, \"fpr\": 0.9971867966991748, \"tpr\": 0.9997846683893196, \"n\": 5332}, {\"threshold\": 0.12700000405311584, \"p\": 27864, \"fpr\": 0.9971867966991748, \"tpr\": 0.9997846683893196, \"n\": 5332}, {\"threshold\": 0.12800000607967377, \"p\": 27864, \"fpr\": 0.9971867966991748, \"tpr\": 0.9997846683893196, \"n\": 5332}, {\"threshold\": 0.1289999932050705, \"p\": 27864, \"fpr\": 0.9971867966991748, \"tpr\": 0.9997846683893196, \"n\": 5332}, {\"threshold\": 0.12999999523162842, \"p\": 27864, \"fpr\": 0.9971867966991748, \"tpr\": 0.9997846683893196, \"n\": 5332}, {\"threshold\": 0.13099999725818634, \"p\": 27864, \"fpr\": 0.9971867966991748, \"tpr\": 0.9997846683893196, \"n\": 5332}, {\"threshold\": 0.13199999928474426, \"p\": 27864, \"fpr\": 0.9971867966991748, \"tpr\": 0.9997846683893196, \"n\": 5332}, {\"threshold\": 0.13300000131130219, \"p\": 27864, \"fpr\": 0.9971867966991748, \"tpr\": 0.9997846683893196, \"n\": 5332}, {\"threshold\": 0.1340000033378601, \"p\": 27864, \"fpr\": 0.9971867966991748, \"tpr\": 0.9997846683893196, \"n\": 5332}, {\"threshold\": 0.13500000536441803, \"p\": 27864, \"fpr\": 0.9971867966991748, \"tpr\": 0.9997846683893196, \"n\": 5332}, {\"threshold\": 0.13600000739097595, \"p\": 27864, \"fpr\": 0.9971867966991748, \"tpr\": 0.9997846683893196, \"n\": 5332}, {\"threshold\": 0.13699999451637268, \"p\": 27864, \"fpr\": 0.9971867966991748, \"tpr\": 0.9997846683893196, \"n\": 5332}, {\"threshold\": 0.1379999965429306, \"p\": 27864, \"fpr\": 0.9971867966991748, \"tpr\": 0.9997846683893196, \"n\": 5332}, {\"threshold\": 0.13899999856948853, \"p\": 27864, \"fpr\": 0.9971867966991748, \"tpr\": 0.9997846683893196, \"n\": 5332}, {\"threshold\": 0.14000000059604645, \"p\": 27864, \"fpr\": 0.9971867966991748, \"tpr\": 0.9997846683893196, \"n\": 5332}, {\"threshold\": 0.14100000262260437, \"p\": 27864, \"fpr\": 0.9971867966991748, \"tpr\": 0.9997846683893196, \"n\": 5332}, {\"threshold\": 0.1420000046491623, \"p\": 27864, \"fpr\": 0.9969992498124531, \"tpr\": 0.9997487797875395, \"n\": 5332}, {\"threshold\": 0.14300000667572021, \"p\": 27864, \"fpr\": 0.9969992498124531, \"tpr\": 0.9997487797875395, \"n\": 5332}, {\"threshold\": 0.14399999380111694, \"p\": 27864, \"fpr\": 0.9969992498124531, \"tpr\": 0.9997487797875395, \"n\": 5332}, {\"threshold\": 0.14499999582767487, \"p\": 27864, \"fpr\": 0.9969992498124531, \"tpr\": 0.9997487797875395, \"n\": 5332}, {\"threshold\": 0.1459999978542328, \"p\": 27864, \"fpr\": 0.9969992498124531, \"tpr\": 0.9997487797875395, \"n\": 5332}, {\"threshold\": 0.1469999998807907, \"p\": 27864, \"fpr\": 0.9969992498124531, \"tpr\": 0.9997487797875395, \"n\": 5332}, {\"threshold\": 0.14800000190734863, \"p\": 27864, \"fpr\": 0.9969992498124531, \"tpr\": 0.9997487797875395, \"n\": 5332}, {\"threshold\": 0.14900000393390656, \"p\": 27864, \"fpr\": 0.9969992498124531, \"tpr\": 0.9997487797875395, \"n\": 5332}, {\"threshold\": 0.15000000596046448, \"p\": 27864, \"fpr\": 0.9969992498124531, \"tpr\": 0.9997487797875395, \"n\": 5332}, {\"threshold\": 0.1509999930858612, \"p\": 27864, \"fpr\": 0.9969992498124531, \"tpr\": 0.9997487797875395, \"n\": 5332}, {\"threshold\": 0.15199999511241913, \"p\": 27864, \"fpr\": 0.9969992498124531, \"tpr\": 0.9997487797875395, \"n\": 5332}, {\"threshold\": 0.15299999713897705, \"p\": 27864, \"fpr\": 0.9969992498124531, \"tpr\": 0.9997487797875395, \"n\": 5332}, {\"threshold\": 0.15399999916553497, \"p\": 27864, \"fpr\": 0.996436609152288, \"tpr\": 0.9996411139821992, \"n\": 5332}, {\"threshold\": 0.1550000011920929, \"p\": 27864, \"fpr\": 0.996436609152288, \"tpr\": 0.9996411139821992, \"n\": 5332}, {\"threshold\": 0.15600000321865082, \"p\": 27864, \"fpr\": 0.996436609152288, \"tpr\": 0.9996411139821992, \"n\": 5332}, {\"threshold\": 0.15700000524520874, \"p\": 27864, \"fpr\": 0.996436609152288, \"tpr\": 0.9996411139821992, \"n\": 5332}, {\"threshold\": 0.15800000727176666, \"p\": 27864, \"fpr\": 0.996436609152288, \"tpr\": 0.9996411139821992, \"n\": 5332}, {\"threshold\": 0.1589999943971634, \"p\": 27864, \"fpr\": 0.996436609152288, \"tpr\": 0.9996411139821992, \"n\": 5332}, {\"threshold\": 0.1599999964237213, \"p\": 27864, \"fpr\": 0.996436609152288, \"tpr\": 0.9996411139821992, \"n\": 5332}, {\"threshold\": 0.16099999845027924, \"p\": 27864, \"fpr\": 0.996436609152288, \"tpr\": 0.9996411139821992, \"n\": 5332}, {\"threshold\": 0.16200000047683716, \"p\": 27864, \"fpr\": 0.996436609152288, \"tpr\": 0.9996411139821992, \"n\": 5332}, {\"threshold\": 0.16300000250339508, \"p\": 27864, \"fpr\": 0.996436609152288, \"tpr\": 0.9996411139821992, \"n\": 5332}, {\"threshold\": 0.164000004529953, \"p\": 27864, \"fpr\": 0.996436609152288, \"tpr\": 0.9996411139821992, \"n\": 5332}, {\"threshold\": 0.16500000655651093, \"p\": 27864, \"fpr\": 0.996436609152288, \"tpr\": 0.9996411139821992, \"n\": 5332}, {\"threshold\": 0.16599999368190765, \"p\": 27864, \"fpr\": 0.9958739684921231, \"tpr\": 0.9996052253804192, \"n\": 5332}, {\"threshold\": 0.16699999570846558, \"p\": 27864, \"fpr\": 0.9958739684921231, \"tpr\": 0.9996052253804192, \"n\": 5332}, {\"threshold\": 0.1679999977350235, \"p\": 27864, \"fpr\": 0.9958739684921231, \"tpr\": 0.9996052253804192, \"n\": 5332}, {\"threshold\": 0.16899999976158142, \"p\": 27864, \"fpr\": 0.9958739684921231, \"tpr\": 0.9996052253804192, \"n\": 5332}, {\"threshold\": 0.17000000178813934, \"p\": 27864, \"fpr\": 0.9958739684921231, \"tpr\": 0.9996052253804192, \"n\": 5332}, {\"threshold\": 0.17100000381469727, \"p\": 27864, \"fpr\": 0.9958739684921231, \"tpr\": 0.9996052253804192, \"n\": 5332}, {\"threshold\": 0.1720000058412552, \"p\": 27864, \"fpr\": 0.9958739684921231, \"tpr\": 0.9996052253804192, \"n\": 5332}, {\"threshold\": 0.17299999296665192, \"p\": 27864, \"fpr\": 0.9958739684921231, \"tpr\": 0.9996052253804192, \"n\": 5332}, {\"threshold\": 0.17399999499320984, \"p\": 27864, \"fpr\": 0.9958739684921231, \"tpr\": 0.9996052253804192, \"n\": 5332}, {\"threshold\": 0.17499999701976776, \"p\": 27864, \"fpr\": 0.9958739684921231, \"tpr\": 0.9996052253804192, \"n\": 5332}, {\"threshold\": 0.17599999904632568, \"p\": 27864, \"fpr\": 0.9958739684921231, \"tpr\": 0.9996052253804192, \"n\": 5332}, {\"threshold\": 0.1770000010728836, \"p\": 27864, \"fpr\": 0.9958739684921231, \"tpr\": 0.9996052253804192, \"n\": 5332}, {\"threshold\": 0.17800000309944153, \"p\": 27864, \"fpr\": 0.9958739684921231, \"tpr\": 0.9996052253804192, \"n\": 5332}, {\"threshold\": 0.17900000512599945, \"p\": 27864, \"fpr\": 0.9958739684921231, \"tpr\": 0.9996052253804192, \"n\": 5332}, {\"threshold\": 0.18000000715255737, \"p\": 27864, \"fpr\": 0.9958739684921231, \"tpr\": 0.9996052253804192, \"n\": 5332}, {\"threshold\": 0.1809999942779541, \"p\": 27864, \"fpr\": 0.9958739684921231, \"tpr\": 0.9996052253804192, \"n\": 5332}, {\"threshold\": 0.18199999630451202, \"p\": 27864, \"fpr\": 0.9958739684921231, \"tpr\": 0.9996052253804192, \"n\": 5332}, {\"threshold\": 0.18299999833106995, \"p\": 27864, \"fpr\": 0.9958739684921231, \"tpr\": 0.9996052253804192, \"n\": 5332}, {\"threshold\": 0.18400000035762787, \"p\": 27864, \"fpr\": 0.9958739684921231, \"tpr\": 0.9996052253804192, \"n\": 5332}, {\"threshold\": 0.1850000023841858, \"p\": 27864, \"fpr\": 0.9958739684921231, \"tpr\": 0.9996052253804192, \"n\": 5332}, {\"threshold\": 0.1860000044107437, \"p\": 27864, \"fpr\": 0.9958739684921231, \"tpr\": 0.9996052253804192, \"n\": 5332}, {\"threshold\": 0.18700000643730164, \"p\": 27864, \"fpr\": 0.9958739684921231, \"tpr\": 0.9996052253804192, \"n\": 5332}, {\"threshold\": 0.18799999356269836, \"p\": 27864, \"fpr\": 0.9958739684921231, \"tpr\": 0.9996052253804192, \"n\": 5332}, {\"threshold\": 0.1889999955892563, \"p\": 27864, \"fpr\": 0.9958739684921231, \"tpr\": 0.9996052253804192, \"n\": 5332}, {\"threshold\": 0.1899999976158142, \"p\": 27864, \"fpr\": 0.9949362340585146, \"tpr\": 0.9994616709732989, \"n\": 5332}, {\"threshold\": 0.19099999964237213, \"p\": 27864, \"fpr\": 0.9949362340585146, \"tpr\": 0.9994616709732989, \"n\": 5332}, {\"threshold\": 0.19200000166893005, \"p\": 27864, \"fpr\": 0.9949362340585146, \"tpr\": 0.9994616709732989, \"n\": 5332}, {\"threshold\": 0.19300000369548798, \"p\": 27864, \"fpr\": 0.9949362340585146, \"tpr\": 0.9994616709732989, \"n\": 5332}, {\"threshold\": 0.1940000057220459, \"p\": 27864, \"fpr\": 0.9949362340585146, \"tpr\": 0.9994616709732989, \"n\": 5332}, {\"threshold\": 0.19499999284744263, \"p\": 27864, \"fpr\": 0.9949362340585146, \"tpr\": 0.9994616709732989, \"n\": 5332}, {\"threshold\": 0.19599999487400055, \"p\": 27864, \"fpr\": 0.9949362340585146, \"tpr\": 0.9994257823715188, \"n\": 5332}, {\"threshold\": 0.19699999690055847, \"p\": 27864, \"fpr\": 0.9949362340585146, \"tpr\": 0.9994257823715188, \"n\": 5332}, {\"threshold\": 0.1979999989271164, \"p\": 27864, \"fpr\": 0.9949362340585146, \"tpr\": 0.9994257823715188, \"n\": 5332}, {\"threshold\": 0.19900000095367432, \"p\": 27864, \"fpr\": 0.9949362340585146, \"tpr\": 0.9994257823715188, \"n\": 5332}, {\"threshold\": 0.20000000298023224, \"p\": 27864, \"fpr\": 0.9949362340585146, \"tpr\": 0.9994257823715188, \"n\": 5332}, {\"threshold\": 0.20100000500679016, \"p\": 27864, \"fpr\": 0.9945611402850713, \"tpr\": 0.9993898937697387, \"n\": 5332}, {\"threshold\": 0.20200000703334808, \"p\": 27864, \"fpr\": 0.9945611402850713, \"tpr\": 0.9993898937697387, \"n\": 5332}, {\"threshold\": 0.2029999941587448, \"p\": 27864, \"fpr\": 0.9945611402850713, \"tpr\": 0.9993898937697387, \"n\": 5332}, {\"threshold\": 0.20399999618530273, \"p\": 27864, \"fpr\": 0.9945611402850713, \"tpr\": 0.9993898937697387, \"n\": 5332}, {\"threshold\": 0.20499999821186066, \"p\": 27864, \"fpr\": 0.9945611402850713, \"tpr\": 0.9993898937697387, \"n\": 5332}, {\"threshold\": 0.20600000023841858, \"p\": 27864, \"fpr\": 0.9945611402850713, \"tpr\": 0.9993898937697387, \"n\": 5332}, {\"threshold\": 0.2070000022649765, \"p\": 27864, \"fpr\": 0.9945611402850713, \"tpr\": 0.9993898937697387, \"n\": 5332}, {\"threshold\": 0.20800000429153442, \"p\": 27864, \"fpr\": 0.9945611402850713, \"tpr\": 0.9993898937697387, \"n\": 5332}, {\"threshold\": 0.20900000631809235, \"p\": 27864, \"fpr\": 0.9945611402850713, \"tpr\": 0.9993898937697387, \"n\": 5332}, {\"threshold\": 0.20999999344348907, \"p\": 27864, \"fpr\": 0.9945611402850713, \"tpr\": 0.9993898937697387, \"n\": 5332}, {\"threshold\": 0.210999995470047, \"p\": 27864, \"fpr\": 0.9945611402850713, \"tpr\": 0.9993540051679587, \"n\": 5332}, {\"threshold\": 0.21199999749660492, \"p\": 27864, \"fpr\": 0.9945611402850713, \"tpr\": 0.9993540051679587, \"n\": 5332}, {\"threshold\": 0.21299999952316284, \"p\": 27864, \"fpr\": 0.9945611402850713, \"tpr\": 0.9993540051679587, \"n\": 5332}, {\"threshold\": 0.21400000154972076, \"p\": 27864, \"fpr\": 0.9945611402850713, \"tpr\": 0.9993540051679587, \"n\": 5332}, {\"threshold\": 0.2150000035762787, \"p\": 27864, \"fpr\": 0.9945611402850713, \"tpr\": 0.9993540051679587, \"n\": 5332}, {\"threshold\": 0.2160000056028366, \"p\": 27864, \"fpr\": 0.9945611402850713, \"tpr\": 0.9993540051679587, \"n\": 5332}, {\"threshold\": 0.21699999272823334, \"p\": 27864, \"fpr\": 0.9945611402850713, \"tpr\": 0.9993540051679587, \"n\": 5332}, {\"threshold\": 0.21799999475479126, \"p\": 27864, \"fpr\": 0.9945611402850713, \"tpr\": 0.9993181165661785, \"n\": 5332}, {\"threshold\": 0.21899999678134918, \"p\": 27864, \"fpr\": 0.9945611402850713, \"tpr\": 0.9993181165661785, \"n\": 5332}, {\"threshold\": 0.2199999988079071, \"p\": 27864, \"fpr\": 0.9945611402850713, \"tpr\": 0.9993181165661785, \"n\": 5332}, {\"threshold\": 0.22100000083446503, \"p\": 27864, \"fpr\": 0.9945611402850713, \"tpr\": 0.9993181165661785, \"n\": 5332}, {\"threshold\": 0.22200000286102295, \"p\": 27864, \"fpr\": 0.9945611402850713, \"tpr\": 0.9993181165661785, \"n\": 5332}, {\"threshold\": 0.22300000488758087, \"p\": 27864, \"fpr\": 0.9945611402850713, \"tpr\": 0.9993181165661785, \"n\": 5332}, {\"threshold\": 0.2240000069141388, \"p\": 27864, \"fpr\": 0.9945611402850713, \"tpr\": 0.9993181165661785, \"n\": 5332}, {\"threshold\": 0.22499999403953552, \"p\": 27864, \"fpr\": 0.9945611402850713, \"tpr\": 0.9993181165661785, \"n\": 5332}, {\"threshold\": 0.22599999606609344, \"p\": 27864, \"fpr\": 0.9945611402850713, \"tpr\": 0.9993181165661785, \"n\": 5332}, {\"threshold\": 0.22699999809265137, \"p\": 27864, \"fpr\": 0.9945611402850713, \"tpr\": 0.9993181165661785, \"n\": 5332}, {\"threshold\": 0.2280000001192093, \"p\": 27864, \"fpr\": 0.9945611402850713, \"tpr\": 0.9993181165661785, \"n\": 5332}, {\"threshold\": 0.2290000021457672, \"p\": 27864, \"fpr\": 0.9945611402850713, \"tpr\": 0.9993181165661785, \"n\": 5332}, {\"threshold\": 0.23000000417232513, \"p\": 27864, \"fpr\": 0.9945611402850713, \"tpr\": 0.9993181165661785, \"n\": 5332}, {\"threshold\": 0.23100000619888306, \"p\": 27864, \"fpr\": 0.9945611402850713, \"tpr\": 0.9993181165661785, \"n\": 5332}, {\"threshold\": 0.23199999332427979, \"p\": 27864, \"fpr\": 0.9945611402850713, \"tpr\": 0.9993181165661785, \"n\": 5332}, {\"threshold\": 0.2329999953508377, \"p\": 27864, \"fpr\": 0.9945611402850713, \"tpr\": 0.9993181165661785, \"n\": 5332}, {\"threshold\": 0.23399999737739563, \"p\": 27864, \"fpr\": 0.9945611402850713, \"tpr\": 0.9993181165661785, \"n\": 5332}, {\"threshold\": 0.23499999940395355, \"p\": 27864, \"fpr\": 0.9945611402850713, \"tpr\": 0.9993181165661785, \"n\": 5332}, {\"threshold\": 0.23600000143051147, \"p\": 27864, \"fpr\": 0.9945611402850713, \"tpr\": 0.9993181165661785, \"n\": 5332}, {\"threshold\": 0.2370000034570694, \"p\": 27864, \"fpr\": 0.9945611402850713, \"tpr\": 0.9993181165661785, \"n\": 5332}, {\"threshold\": 0.23800000548362732, \"p\": 27864, \"fpr\": 0.9945611402850713, \"tpr\": 0.9993181165661785, \"n\": 5332}, {\"threshold\": 0.23899999260902405, \"p\": 27864, \"fpr\": 0.9945611402850713, \"tpr\": 0.9993181165661785, \"n\": 5332}, {\"threshold\": 0.23999999463558197, \"p\": 27864, \"fpr\": 0.9945611402850713, \"tpr\": 0.9993181165661785, \"n\": 5332}, {\"threshold\": 0.2409999966621399, \"p\": 27864, \"fpr\": 0.9945611402850713, \"tpr\": 0.9993181165661785, \"n\": 5332}, {\"threshold\": 0.24199999868869781, \"p\": 27864, \"fpr\": 0.9945611402850713, \"tpr\": 0.9993181165661785, \"n\": 5332}, {\"threshold\": 0.24300000071525574, \"p\": 27864, \"fpr\": 0.9945611402850713, \"tpr\": 0.9993181165661785, \"n\": 5332}, {\"threshold\": 0.24400000274181366, \"p\": 27864, \"fpr\": 0.9945611402850713, \"tpr\": 0.9993181165661785, \"n\": 5332}, {\"threshold\": 0.24500000476837158, \"p\": 27864, \"fpr\": 0.9945611402850713, \"tpr\": 0.9993181165661785, \"n\": 5332}, {\"threshold\": 0.2460000067949295, \"p\": 27864, \"fpr\": 0.9945611402850713, \"tpr\": 0.9993181165661785, \"n\": 5332}, {\"threshold\": 0.24699999392032623, \"p\": 27864, \"fpr\": 0.9945611402850713, \"tpr\": 0.9993181165661785, \"n\": 5332}, {\"threshold\": 0.24799999594688416, \"p\": 27864, \"fpr\": 0.9945611402850713, \"tpr\": 0.9993181165661785, \"n\": 5332}, {\"threshold\": 0.24899999797344208, \"p\": 27864, \"fpr\": 0.9945611402850713, \"tpr\": 0.9993181165661785, \"n\": 5332}, {\"threshold\": 0.25, \"p\": 27864, \"fpr\": 0.9945611402850713, \"tpr\": 0.9993181165661785, \"n\": 5332}, {\"threshold\": 0.25099998712539673, \"p\": 27864, \"fpr\": 0.9945611402850713, \"tpr\": 0.9993181165661785, \"n\": 5332}, {\"threshold\": 0.25200000405311584, \"p\": 27864, \"fpr\": 0.9945611402850713, \"tpr\": 0.9993181165661785, \"n\": 5332}, {\"threshold\": 0.2529999911785126, \"p\": 27864, \"fpr\": 0.9945611402850713, \"tpr\": 0.9993181165661785, \"n\": 5332}, {\"threshold\": 0.2540000081062317, \"p\": 27864, \"fpr\": 0.9945611402850713, \"tpr\": 0.9993181165661785, \"n\": 5332}, {\"threshold\": 0.2549999952316284, \"p\": 27864, \"fpr\": 0.9945611402850713, \"tpr\": 0.9993181165661785, \"n\": 5332}, {\"threshold\": 0.25600001215934753, \"p\": 27864, \"fpr\": 0.9945611402850713, \"tpr\": 0.9993181165661785, \"n\": 5332}, {\"threshold\": 0.25699999928474426, \"p\": 27864, \"fpr\": 0.9945611402850713, \"tpr\": 0.9993181165661785, \"n\": 5332}, {\"threshold\": 0.257999986410141, \"p\": 27864, \"fpr\": 0.9945611402850713, \"tpr\": 0.9993181165661785, \"n\": 5332}, {\"threshold\": 0.2590000033378601, \"p\": 27864, \"fpr\": 0.9945611402850713, \"tpr\": 0.9993181165661785, \"n\": 5332}, {\"threshold\": 0.25999999046325684, \"p\": 27864, \"fpr\": 0.9945611402850713, \"tpr\": 0.9993181165661785, \"n\": 5332}, {\"threshold\": 0.26100000739097595, \"p\": 27864, \"fpr\": 0.9945611402850713, \"tpr\": 0.9993181165661785, \"n\": 5332}, {\"threshold\": 0.2619999945163727, \"p\": 27864, \"fpr\": 0.9945611402850713, \"tpr\": 0.9993181165661785, \"n\": 5332}, {\"threshold\": 0.2630000114440918, \"p\": 27864, \"fpr\": 0.9945611402850713, \"tpr\": 0.9993181165661785, \"n\": 5332}, {\"threshold\": 0.2639999985694885, \"p\": 27864, \"fpr\": 0.9938109527381845, \"tpr\": 0.9992822279643985, \"n\": 5332}, {\"threshold\": 0.26499998569488525, \"p\": 27864, \"fpr\": 0.9938109527381845, \"tpr\": 0.9992822279643985, \"n\": 5332}, {\"threshold\": 0.26600000262260437, \"p\": 27864, \"fpr\": 0.9938109527381845, \"tpr\": 0.9992822279643985, \"n\": 5332}, {\"threshold\": 0.2669999897480011, \"p\": 27864, \"fpr\": 0.9938109527381845, \"tpr\": 0.9992822279643985, \"n\": 5332}, {\"threshold\": 0.2680000066757202, \"p\": 27864, \"fpr\": 0.9938109527381845, \"tpr\": 0.9992822279643985, \"n\": 5332}, {\"threshold\": 0.26899999380111694, \"p\": 27864, \"fpr\": 0.9938109527381845, \"tpr\": 0.9992822279643985, \"n\": 5332}, {\"threshold\": 0.27000001072883606, \"p\": 27864, \"fpr\": 0.9938109527381845, \"tpr\": 0.9992822279643985, \"n\": 5332}, {\"threshold\": 0.2709999978542328, \"p\": 27864, \"fpr\": 0.9938109527381845, \"tpr\": 0.9992822279643985, \"n\": 5332}, {\"threshold\": 0.2720000147819519, \"p\": 27864, \"fpr\": 0.9938109527381845, \"tpr\": 0.9992822279643985, \"n\": 5332}, {\"threshold\": 0.27300000190734863, \"p\": 27864, \"fpr\": 0.9938109527381845, \"tpr\": 0.9992822279643985, \"n\": 5332}, {\"threshold\": 0.27399998903274536, \"p\": 27864, \"fpr\": 0.9938109527381845, \"tpr\": 0.9992822279643985, \"n\": 5332}, {\"threshold\": 0.2750000059604645, \"p\": 27864, \"fpr\": 0.9938109527381845, \"tpr\": 0.9992822279643985, \"n\": 5332}, {\"threshold\": 0.2759999930858612, \"p\": 27864, \"fpr\": 0.9938109527381845, \"tpr\": 0.9992822279643985, \"n\": 5332}, {\"threshold\": 0.2770000100135803, \"p\": 27864, \"fpr\": 0.9938109527381845, \"tpr\": 0.9992822279643985, \"n\": 5332}, {\"threshold\": 0.27799999713897705, \"p\": 27864, \"fpr\": 0.9938109527381845, \"tpr\": 0.9992822279643985, \"n\": 5332}, {\"threshold\": 0.27900001406669617, \"p\": 27864, \"fpr\": 0.9938109527381845, \"tpr\": 0.9992822279643985, \"n\": 5332}, {\"threshold\": 0.2800000011920929, \"p\": 27864, \"fpr\": 0.9938109527381845, \"tpr\": 0.9992822279643985, \"n\": 5332}, {\"threshold\": 0.2809999883174896, \"p\": 27864, \"fpr\": 0.9938109527381845, \"tpr\": 0.9992822279643985, \"n\": 5332}, {\"threshold\": 0.28200000524520874, \"p\": 27864, \"fpr\": 0.9938109527381845, \"tpr\": 0.9992822279643985, \"n\": 5332}, {\"threshold\": 0.28299999237060547, \"p\": 27864, \"fpr\": 0.9938109527381845, \"tpr\": 0.9992822279643985, \"n\": 5332}, {\"threshold\": 0.2840000092983246, \"p\": 27864, \"fpr\": 0.9938109527381845, \"tpr\": 0.9992822279643985, \"n\": 5332}, {\"threshold\": 0.2849999964237213, \"p\": 27864, \"fpr\": 0.9938109527381845, \"tpr\": 0.9992822279643985, \"n\": 5332}, {\"threshold\": 0.28600001335144043, \"p\": 27864, \"fpr\": 0.9938109527381845, \"tpr\": 0.9992822279643985, \"n\": 5332}, {\"threshold\": 0.28700000047683716, \"p\": 27864, \"fpr\": 0.9938109527381845, \"tpr\": 0.9992822279643985, \"n\": 5332}, {\"threshold\": 0.2879999876022339, \"p\": 27864, \"fpr\": 0.9938109527381845, \"tpr\": 0.9992822279643985, \"n\": 5332}, {\"threshold\": 0.289000004529953, \"p\": 27864, \"fpr\": 0.9938109527381845, \"tpr\": 0.9992822279643985, \"n\": 5332}, {\"threshold\": 0.28999999165534973, \"p\": 27864, \"fpr\": 0.9938109527381845, \"tpr\": 0.9992822279643985, \"n\": 5332}, {\"threshold\": 0.29100000858306885, \"p\": 27864, \"fpr\": 0.9938109527381845, \"tpr\": 0.9992822279643985, \"n\": 5332}, {\"threshold\": 0.2919999957084656, \"p\": 27864, \"fpr\": 0.9938109527381845, \"tpr\": 0.9992822279643985, \"n\": 5332}, {\"threshold\": 0.2930000126361847, \"p\": 27864, \"fpr\": 0.9938109527381845, \"tpr\": 0.9992822279643985, \"n\": 5332}, {\"threshold\": 0.2939999997615814, \"p\": 27864, \"fpr\": 0.9938109527381845, \"tpr\": 0.9992822279643985, \"n\": 5332}, {\"threshold\": 0.29499998688697815, \"p\": 27864, \"fpr\": 0.9938109527381845, \"tpr\": 0.9992822279643985, \"n\": 5332}, {\"threshold\": 0.29600000381469727, \"p\": 27864, \"fpr\": 0.9938109527381845, \"tpr\": 0.9992822279643985, \"n\": 5332}, {\"threshold\": 0.296999990940094, \"p\": 27864, \"fpr\": 0.9938109527381845, \"tpr\": 0.9992822279643985, \"n\": 5332}, {\"threshold\": 0.2980000078678131, \"p\": 27864, \"fpr\": 0.9938109527381845, \"tpr\": 0.9992822279643985, \"n\": 5332}, {\"threshold\": 0.29899999499320984, \"p\": 27864, \"fpr\": 0.9938109527381845, \"tpr\": 0.9992822279643985, \"n\": 5332}, {\"threshold\": 0.30000001192092896, \"p\": 27864, \"fpr\": 0.9938109527381845, \"tpr\": 0.9992822279643985, \"n\": 5332}, {\"threshold\": 0.3009999990463257, \"p\": 27864, \"fpr\": 0.9938109527381845, \"tpr\": 0.9992822279643985, \"n\": 5332}, {\"threshold\": 0.3019999861717224, \"p\": 27864, \"fpr\": 0.9938109527381845, \"tpr\": 0.9992822279643985, \"n\": 5332}, {\"threshold\": 0.30300000309944153, \"p\": 27864, \"fpr\": 0.9938109527381845, \"tpr\": 0.9992822279643985, \"n\": 5332}, {\"threshold\": 0.30399999022483826, \"p\": 27864, \"fpr\": 0.9938109527381845, \"tpr\": 0.9992822279643985, \"n\": 5332}, {\"threshold\": 0.3050000071525574, \"p\": 27864, \"fpr\": 0.9938109527381845, \"tpr\": 0.9992822279643985, \"n\": 5332}, {\"threshold\": 0.3059999942779541, \"p\": 27864, \"fpr\": 0.9938109527381845, \"tpr\": 0.9992822279643985, \"n\": 5332}, {\"threshold\": 0.3070000112056732, \"p\": 27864, \"fpr\": 0.9938109527381845, \"tpr\": 0.9992822279643985, \"n\": 5332}, {\"threshold\": 0.30799999833106995, \"p\": 27864, \"fpr\": 0.9938109527381845, \"tpr\": 0.9992822279643985, \"n\": 5332}, {\"threshold\": 0.3089999854564667, \"p\": 27864, \"fpr\": 0.9938109527381845, \"tpr\": 0.9992822279643985, \"n\": 5332}, {\"threshold\": 0.3100000023841858, \"p\": 27864, \"fpr\": 0.9938109527381845, \"tpr\": 0.9992822279643985, \"n\": 5332}, {\"threshold\": 0.3109999895095825, \"p\": 27864, \"fpr\": 0.9938109527381845, \"tpr\": 0.9992822279643985, \"n\": 5332}, {\"threshold\": 0.31200000643730164, \"p\": 27864, \"fpr\": 0.9938109527381845, \"tpr\": 0.9992822279643985, \"n\": 5332}, {\"threshold\": 0.31299999356269836, \"p\": 27864, \"fpr\": 0.9938109527381845, \"tpr\": 0.9992822279643985, \"n\": 5332}, {\"threshold\": 0.3140000104904175, \"p\": 27864, \"fpr\": 0.9938109527381845, \"tpr\": 0.9992822279643985, \"n\": 5332}, {\"threshold\": 0.3149999976158142, \"p\": 27864, \"fpr\": 0.9938109527381845, \"tpr\": 0.9992822279643985, \"n\": 5332}, {\"threshold\": 0.3160000145435333, \"p\": 27864, \"fpr\": 0.9938109527381845, \"tpr\": 0.9992822279643985, \"n\": 5332}, {\"threshold\": 0.31700000166893005, \"p\": 27864, \"fpr\": 0.9938109527381845, \"tpr\": 0.9992822279643985, \"n\": 5332}, {\"threshold\": 0.3179999887943268, \"p\": 27864, \"fpr\": 0.9938109527381845, \"tpr\": 0.9992822279643985, \"n\": 5332}, {\"threshold\": 0.3190000057220459, \"p\": 27864, \"fpr\": 0.9938109527381845, \"tpr\": 0.9992822279643985, \"n\": 5332}, {\"threshold\": 0.3199999928474426, \"p\": 27864, \"fpr\": 0.9938109527381845, \"tpr\": 0.9992822279643985, \"n\": 5332}, {\"threshold\": 0.32100000977516174, \"p\": 27864, \"fpr\": 0.9938109527381845, \"tpr\": 0.9992822279643985, \"n\": 5332}, {\"threshold\": 0.32199999690055847, \"p\": 27864, \"fpr\": 0.9938109527381845, \"tpr\": 0.9992822279643985, \"n\": 5332}, {\"threshold\": 0.3230000138282776, \"p\": 27864, \"fpr\": 0.9938109527381845, \"tpr\": 0.9992822279643985, \"n\": 5332}, {\"threshold\": 0.3240000009536743, \"p\": 27864, \"fpr\": 0.9938109527381845, \"tpr\": 0.9992822279643985, \"n\": 5332}, {\"threshold\": 0.32499998807907104, \"p\": 27864, \"fpr\": 0.9938109527381845, \"tpr\": 0.9992822279643985, \"n\": 5332}, {\"threshold\": 0.32600000500679016, \"p\": 27864, \"fpr\": 0.9938109527381845, \"tpr\": 0.9992822279643985, \"n\": 5332}, {\"threshold\": 0.3269999921321869, \"p\": 27864, \"fpr\": 0.9840585146286571, \"tpr\": 0.998097904105656, \"n\": 5332}, {\"threshold\": 0.328000009059906, \"p\": 27864, \"fpr\": 0.9840585146286571, \"tpr\": 0.998097904105656, \"n\": 5332}, {\"threshold\": 0.32899999618530273, \"p\": 27864, \"fpr\": 0.9840585146286571, \"tpr\": 0.998097904105656, \"n\": 5332}, {\"threshold\": 0.33000001311302185, \"p\": 27864, \"fpr\": 0.9840585146286571, \"tpr\": 0.998097904105656, \"n\": 5332}, {\"threshold\": 0.3310000002384186, \"p\": 27864, \"fpr\": 0.9840585146286571, \"tpr\": 0.998097904105656, \"n\": 5332}, {\"threshold\": 0.3319999873638153, \"p\": 27864, \"fpr\": 0.9840585146286571, \"tpr\": 0.998097904105656, \"n\": 5332}, {\"threshold\": 0.3330000042915344, \"p\": 27864, \"fpr\": 0.9840585146286571, \"tpr\": 0.998097904105656, \"n\": 5332}, {\"threshold\": 0.33399999141693115, \"p\": 27864, \"fpr\": 0.9840585146286571, \"tpr\": 0.998097904105656, \"n\": 5332}, {\"threshold\": 0.33500000834465027, \"p\": 27864, \"fpr\": 0.9840585146286571, \"tpr\": 0.998097904105656, \"n\": 5332}, {\"threshold\": 0.335999995470047, \"p\": 27864, \"fpr\": 0.9840585146286571, \"tpr\": 0.998097904105656, \"n\": 5332}, {\"threshold\": 0.3370000123977661, \"p\": 27864, \"fpr\": 0.9840585146286571, \"tpr\": 0.998097904105656, \"n\": 5332}, {\"threshold\": 0.33799999952316284, \"p\": 27864, \"fpr\": 0.9840585146286571, \"tpr\": 0.998097904105656, \"n\": 5332}, {\"threshold\": 0.33899998664855957, \"p\": 27864, \"fpr\": 0.9840585146286571, \"tpr\": 0.998097904105656, \"n\": 5332}, {\"threshold\": 0.3400000035762787, \"p\": 27864, \"fpr\": 0.9840585146286571, \"tpr\": 0.998097904105656, \"n\": 5332}, {\"threshold\": 0.3409999907016754, \"p\": 27864, \"fpr\": 0.9840585146286571, \"tpr\": 0.998097904105656, \"n\": 5332}, {\"threshold\": 0.34200000762939453, \"p\": 27864, \"fpr\": 0.9840585146286571, \"tpr\": 0.998097904105656, \"n\": 5332}, {\"threshold\": 0.34299999475479126, \"p\": 27864, \"fpr\": 0.9840585146286571, \"tpr\": 0.998097904105656, \"n\": 5332}, {\"threshold\": 0.3440000116825104, \"p\": 27864, \"fpr\": 0.9840585146286571, \"tpr\": 0.998097904105656, \"n\": 5332}, {\"threshold\": 0.3449999988079071, \"p\": 27864, \"fpr\": 0.9840585146286571, \"tpr\": 0.998097904105656, \"n\": 5332}, {\"threshold\": 0.34599998593330383, \"p\": 27864, \"fpr\": 0.9840585146286571, \"tpr\": 0.998097904105656, \"n\": 5332}, {\"threshold\": 0.34700000286102295, \"p\": 27864, \"fpr\": 0.9840585146286571, \"tpr\": 0.998097904105656, \"n\": 5332}, {\"threshold\": 0.3479999899864197, \"p\": 27864, \"fpr\": 0.9750562640660165, \"tpr\": 0.9967700258397932, \"n\": 5332}, {\"threshold\": 0.3490000069141388, \"p\": 27864, \"fpr\": 0.9750562640660165, \"tpr\": 0.9967700258397932, \"n\": 5332}, {\"threshold\": 0.3499999940395355, \"p\": 27864, \"fpr\": 0.9750562640660165, \"tpr\": 0.9967700258397932, \"n\": 5332}, {\"threshold\": 0.35100001096725464, \"p\": 27864, \"fpr\": 0.9750562640660165, \"tpr\": 0.9967700258397932, \"n\": 5332}, {\"threshold\": 0.35199999809265137, \"p\": 27864, \"fpr\": 0.9750562640660165, \"tpr\": 0.9967700258397932, \"n\": 5332}, {\"threshold\": 0.3529999852180481, \"p\": 27864, \"fpr\": 0.9750562640660165, \"tpr\": 0.9967700258397932, \"n\": 5332}, {\"threshold\": 0.3540000021457672, \"p\": 27864, \"fpr\": 0.972993248312078, \"tpr\": 0.9964111398219926, \"n\": 5332}, {\"threshold\": 0.35499998927116394, \"p\": 27864, \"fpr\": 0.972993248312078, \"tpr\": 0.9964111398219926, \"n\": 5332}, {\"threshold\": 0.35600000619888306, \"p\": 27864, \"fpr\": 0.972993248312078, \"tpr\": 0.9964111398219926, \"n\": 5332}, {\"threshold\": 0.3569999933242798, \"p\": 27864, \"fpr\": 0.972993248312078, \"tpr\": 0.9964111398219926, \"n\": 5332}, {\"threshold\": 0.3580000102519989, \"p\": 27864, \"fpr\": 0.972993248312078, \"tpr\": 0.9964111398219926, \"n\": 5332}, {\"threshold\": 0.35899999737739563, \"p\": 27864, \"fpr\": 0.972993248312078, \"tpr\": 0.9964111398219926, \"n\": 5332}, {\"threshold\": 0.36000001430511475, \"p\": 27864, \"fpr\": 0.972993248312078, \"tpr\": 0.9964111398219926, \"n\": 5332}, {\"threshold\": 0.3610000014305115, \"p\": 27864, \"fpr\": 0.972993248312078, \"tpr\": 0.9964111398219926, \"n\": 5332}, {\"threshold\": 0.3619999885559082, \"p\": 27864, \"fpr\": 0.9728057014253564, \"tpr\": 0.9964111398219926, \"n\": 5332}, {\"threshold\": 0.3630000054836273, \"p\": 27864, \"fpr\": 0.9728057014253564, \"tpr\": 0.9964111398219926, \"n\": 5332}, {\"threshold\": 0.36399999260902405, \"p\": 27864, \"fpr\": 0.9728057014253564, \"tpr\": 0.9964111398219926, \"n\": 5332}, {\"threshold\": 0.36500000953674316, \"p\": 27864, \"fpr\": 0.9728057014253564, \"tpr\": 0.9964111398219926, \"n\": 5332}, {\"threshold\": 0.3659999966621399, \"p\": 27864, \"fpr\": 0.9728057014253564, \"tpr\": 0.9964111398219926, \"n\": 5332}, {\"threshold\": 0.367000013589859, \"p\": 27864, \"fpr\": 0.9728057014253564, \"tpr\": 0.9964111398219926, \"n\": 5332}, {\"threshold\": 0.36800000071525574, \"p\": 27864, \"fpr\": 0.9728057014253564, \"tpr\": 0.9964111398219926, \"n\": 5332}, {\"threshold\": 0.36899998784065247, \"p\": 27864, \"fpr\": 0.9728057014253564, \"tpr\": 0.9964111398219926, \"n\": 5332}, {\"threshold\": 0.3700000047683716, \"p\": 27864, \"fpr\": 0.9728057014253564, \"tpr\": 0.9964111398219926, \"n\": 5332}, {\"threshold\": 0.3709999918937683, \"p\": 27864, \"fpr\": 0.9728057014253564, \"tpr\": 0.9964111398219926, \"n\": 5332}, {\"threshold\": 0.3720000088214874, \"p\": 27864, \"fpr\": 0.9728057014253564, \"tpr\": 0.9964111398219926, \"n\": 5332}, {\"threshold\": 0.37299999594688416, \"p\": 27864, \"fpr\": 0.9728057014253564, \"tpr\": 0.9964111398219926, \"n\": 5332}, {\"threshold\": 0.37400001287460327, \"p\": 27864, \"fpr\": 0.9728057014253564, \"tpr\": 0.9964111398219926, \"n\": 5332}, {\"threshold\": 0.375, \"p\": 27864, \"fpr\": 0.9728057014253564, \"tpr\": 0.9964111398219926, \"n\": 5332}, {\"threshold\": 0.37599998712539673, \"p\": 27864, \"fpr\": 0.9728057014253564, \"tpr\": 0.9964111398219926, \"n\": 5332}, {\"threshold\": 0.37700000405311584, \"p\": 27864, \"fpr\": 0.9728057014253564, \"tpr\": 0.9964111398219926, \"n\": 5332}, {\"threshold\": 0.3779999911785126, \"p\": 27864, \"fpr\": 0.9728057014253564, \"tpr\": 0.9964111398219926, \"n\": 5332}, {\"threshold\": 0.3790000081062317, \"p\": 27864, \"fpr\": 0.9728057014253564, \"tpr\": 0.9964111398219926, \"n\": 5332}, {\"threshold\": 0.3799999952316284, \"p\": 27864, \"fpr\": 0.9728057014253564, \"tpr\": 0.9964111398219926, \"n\": 5332}, {\"threshold\": 0.38100001215934753, \"p\": 27864, \"fpr\": 0.9728057014253564, \"tpr\": 0.9964111398219926, \"n\": 5332}, {\"threshold\": 0.38199999928474426, \"p\": 27864, \"fpr\": 0.9728057014253564, \"tpr\": 0.9964111398219926, \"n\": 5332}, {\"threshold\": 0.382999986410141, \"p\": 27864, \"fpr\": 0.9728057014253564, \"tpr\": 0.9964111398219926, \"n\": 5332}, {\"threshold\": 0.3840000033378601, \"p\": 27864, \"fpr\": 0.9728057014253564, \"tpr\": 0.9964111398219926, \"n\": 5332}, {\"threshold\": 0.38499999046325684, \"p\": 27864, \"fpr\": 0.9728057014253564, \"tpr\": 0.9964111398219926, \"n\": 5332}, {\"threshold\": 0.38600000739097595, \"p\": 27864, \"fpr\": 0.9728057014253564, \"tpr\": 0.9964111398219926, \"n\": 5332}, {\"threshold\": 0.3869999945163727, \"p\": 27864, \"fpr\": 0.9728057014253564, \"tpr\": 0.9964111398219926, \"n\": 5332}, {\"threshold\": 0.3880000114440918, \"p\": 27864, \"fpr\": 0.9728057014253564, \"tpr\": 0.9964111398219926, \"n\": 5332}, {\"threshold\": 0.3889999985694885, \"p\": 27864, \"fpr\": 0.9728057014253564, \"tpr\": 0.9964111398219926, \"n\": 5332}, {\"threshold\": 0.38999998569488525, \"p\": 27864, \"fpr\": 0.9728057014253564, \"tpr\": 0.9964111398219926, \"n\": 5332}, {\"threshold\": 0.39100000262260437, \"p\": 27864, \"fpr\": 0.9728057014253564, \"tpr\": 0.9964111398219926, \"n\": 5332}, {\"threshold\": 0.3919999897480011, \"p\": 27864, \"fpr\": 0.9728057014253564, \"tpr\": 0.9964111398219926, \"n\": 5332}, {\"threshold\": 0.3930000066757202, \"p\": 27864, \"fpr\": 0.9728057014253564, \"tpr\": 0.9964111398219926, \"n\": 5332}, {\"threshold\": 0.39399999380111694, \"p\": 27864, \"fpr\": 0.9728057014253564, \"tpr\": 0.9964111398219926, \"n\": 5332}, {\"threshold\": 0.39500001072883606, \"p\": 27864, \"fpr\": 0.9728057014253564, \"tpr\": 0.9964111398219926, \"n\": 5332}, {\"threshold\": 0.3959999978542328, \"p\": 27864, \"fpr\": 0.9728057014253564, \"tpr\": 0.9964111398219926, \"n\": 5332}, {\"threshold\": 0.3970000147819519, \"p\": 27864, \"fpr\": 0.9728057014253564, \"tpr\": 0.9964111398219926, \"n\": 5332}, {\"threshold\": 0.39800000190734863, \"p\": 27864, \"fpr\": 0.9728057014253564, \"tpr\": 0.9964111398219926, \"n\": 5332}, {\"threshold\": 0.39899998903274536, \"p\": 27864, \"fpr\": 0.9728057014253564, \"tpr\": 0.9964111398219926, \"n\": 5332}, {\"threshold\": 0.4000000059604645, \"p\": 27864, \"fpr\": 0.9728057014253564, \"tpr\": 0.9964111398219926, \"n\": 5332}, {\"threshold\": 0.4009999930858612, \"p\": 27864, \"fpr\": 0.9728057014253564, \"tpr\": 0.9964111398219926, \"n\": 5332}, {\"threshold\": 0.4020000100135803, \"p\": 27864, \"fpr\": 0.9681170292573144, \"tpr\": 0.9956933677863911, \"n\": 5332}, {\"threshold\": 0.40299999713897705, \"p\": 27864, \"fpr\": 0.9681170292573144, \"tpr\": 0.9956933677863911, \"n\": 5332}, {\"threshold\": 0.40400001406669617, \"p\": 27864, \"fpr\": 0.9681170292573144, \"tpr\": 0.9956933677863911, \"n\": 5332}, {\"threshold\": 0.4050000011920929, \"p\": 27864, \"fpr\": 0.9681170292573144, \"tpr\": 0.9956933677863911, \"n\": 5332}, {\"threshold\": 0.4059999883174896, \"p\": 27864, \"fpr\": 0.9681170292573144, \"tpr\": 0.9956933677863911, \"n\": 5332}, {\"threshold\": 0.40700000524520874, \"p\": 27864, \"fpr\": 0.9681170292573144, \"tpr\": 0.9956933677863911, \"n\": 5332}, {\"threshold\": 0.40799999237060547, \"p\": 27864, \"fpr\": 0.9681170292573144, \"tpr\": 0.9956933677863911, \"n\": 5332}, {\"threshold\": 0.4090000092983246, \"p\": 27864, \"fpr\": 0.9681170292573144, \"tpr\": 0.9956933677863911, \"n\": 5332}, {\"threshold\": 0.4099999964237213, \"p\": 27864, \"fpr\": 0.9681170292573144, \"tpr\": 0.9956933677863911, \"n\": 5332}, {\"threshold\": 0.41100001335144043, \"p\": 27864, \"fpr\": 0.9681170292573144, \"tpr\": 0.9956933677863911, \"n\": 5332}, {\"threshold\": 0.41200000047683716, \"p\": 27864, \"fpr\": 0.9681170292573144, \"tpr\": 0.9956933677863911, \"n\": 5332}, {\"threshold\": 0.4129999876022339, \"p\": 27864, \"fpr\": 0.9681170292573144, \"tpr\": 0.9956933677863911, \"n\": 5332}, {\"threshold\": 0.414000004529953, \"p\": 27864, \"fpr\": 0.9681170292573144, \"tpr\": 0.9956933677863911, \"n\": 5332}, {\"threshold\": 0.41499999165534973, \"p\": 27864, \"fpr\": 0.9681170292573144, \"tpr\": 0.9956933677863911, \"n\": 5332}, {\"threshold\": 0.41600000858306885, \"p\": 27864, \"fpr\": 0.9681170292573144, \"tpr\": 0.9956933677863911, \"n\": 5332}, {\"threshold\": 0.4169999957084656, \"p\": 27864, \"fpr\": 0.9681170292573144, \"tpr\": 0.9956933677863911, \"n\": 5332}, {\"threshold\": 0.4180000126361847, \"p\": 27864, \"fpr\": 0.9681170292573144, \"tpr\": 0.9956933677863911, \"n\": 5332}, {\"threshold\": 0.4189999997615814, \"p\": 27864, \"fpr\": 0.9681170292573144, \"tpr\": 0.9956933677863911, \"n\": 5332}, {\"threshold\": 0.41999998688697815, \"p\": 27864, \"fpr\": 0.9681170292573144, \"tpr\": 0.9956933677863911, \"n\": 5332}, {\"threshold\": 0.42100000381469727, \"p\": 27864, \"fpr\": 0.9681170292573144, \"tpr\": 0.9956933677863911, \"n\": 5332}, {\"threshold\": 0.421999990940094, \"p\": 27864, \"fpr\": 0.9681170292573144, \"tpr\": 0.9956933677863911, \"n\": 5332}, {\"threshold\": 0.4230000078678131, \"p\": 27864, \"fpr\": 0.9681170292573144, \"tpr\": 0.9956933677863911, \"n\": 5332}, {\"threshold\": 0.42399999499320984, \"p\": 27864, \"fpr\": 0.9681170292573144, \"tpr\": 0.9956933677863911, \"n\": 5332}, {\"threshold\": 0.42500001192092896, \"p\": 27864, \"fpr\": 0.9681170292573144, \"tpr\": 0.9956933677863911, \"n\": 5332}, {\"threshold\": 0.4259999990463257, \"p\": 27864, \"fpr\": 0.9681170292573144, \"tpr\": 0.9956933677863911, \"n\": 5332}, {\"threshold\": 0.4269999861717224, \"p\": 27864, \"fpr\": 0.9681170292573144, \"tpr\": 0.9956933677863911, \"n\": 5332}, {\"threshold\": 0.42800000309944153, \"p\": 27864, \"fpr\": 0.9681170292573144, \"tpr\": 0.9956933677863911, \"n\": 5332}, {\"threshold\": 0.42899999022483826, \"p\": 27864, \"fpr\": 0.9681170292573144, \"tpr\": 0.9956933677863911, \"n\": 5332}, {\"threshold\": 0.4300000071525574, \"p\": 27864, \"fpr\": 0.9681170292573144, \"tpr\": 0.9956933677863911, \"n\": 5332}, {\"threshold\": 0.4309999942779541, \"p\": 27864, \"fpr\": 0.9681170292573144, \"tpr\": 0.9956933677863911, \"n\": 5332}, {\"threshold\": 0.4320000112056732, \"p\": 27864, \"fpr\": 0.9681170292573144, \"tpr\": 0.9956933677863911, \"n\": 5332}, {\"threshold\": 0.43299999833106995, \"p\": 27864, \"fpr\": 0.9681170292573144, \"tpr\": 0.9956933677863911, \"n\": 5332}, {\"threshold\": 0.4339999854564667, \"p\": 27864, \"fpr\": 0.9681170292573144, \"tpr\": 0.9956933677863911, \"n\": 5332}, {\"threshold\": 0.4350000023841858, \"p\": 27864, \"fpr\": 0.9681170292573144, \"tpr\": 0.9956933677863911, \"n\": 5332}, {\"threshold\": 0.4359999895095825, \"p\": 27864, \"fpr\": 0.9681170292573144, \"tpr\": 0.9956933677863911, \"n\": 5332}, {\"threshold\": 0.43700000643730164, \"p\": 27864, \"fpr\": 0.9681170292573144, \"tpr\": 0.9956933677863911, \"n\": 5332}, {\"threshold\": 0.43799999356269836, \"p\": 27864, \"fpr\": 0.9681170292573144, \"tpr\": 0.9956933677863911, \"n\": 5332}, {\"threshold\": 0.4390000104904175, \"p\": 27864, \"fpr\": 0.9681170292573144, \"tpr\": 0.9956933677863911, \"n\": 5332}, {\"threshold\": 0.4399999976158142, \"p\": 27864, \"fpr\": 0.9681170292573144, \"tpr\": 0.9956933677863911, \"n\": 5332}, {\"threshold\": 0.4410000145435333, \"p\": 27864, \"fpr\": 0.9681170292573144, \"tpr\": 0.9956933677863911, \"n\": 5332}, {\"threshold\": 0.44200000166893005, \"p\": 27864, \"fpr\": 0.9681170292573144, \"tpr\": 0.9956933677863911, \"n\": 5332}, {\"threshold\": 0.4429999887943268, \"p\": 27864, \"fpr\": 0.9681170292573144, \"tpr\": 0.9956933677863911, \"n\": 5332}, {\"threshold\": 0.4440000057220459, \"p\": 27864, \"fpr\": 0.9681170292573144, \"tpr\": 0.9956933677863911, \"n\": 5332}, {\"threshold\": 0.4449999928474426, \"p\": 27864, \"fpr\": 0.9681170292573144, \"tpr\": 0.9956933677863911, \"n\": 5332}, {\"threshold\": 0.44600000977516174, \"p\": 27864, \"fpr\": 0.9681170292573144, \"tpr\": 0.9956933677863911, \"n\": 5332}, {\"threshold\": 0.44699999690055847, \"p\": 27864, \"fpr\": 0.9681170292573144, \"tpr\": 0.9956933677863911, \"n\": 5332}, {\"threshold\": 0.4480000138282776, \"p\": 27864, \"fpr\": 0.9681170292573144, \"tpr\": 0.9956933677863911, \"n\": 5332}, {\"threshold\": 0.4490000009536743, \"p\": 27864, \"fpr\": 0.9681170292573144, \"tpr\": 0.9956933677863911, \"n\": 5332}, {\"threshold\": 0.44999998807907104, \"p\": 27864, \"fpr\": 0.9681170292573144, \"tpr\": 0.9956933677863911, \"n\": 5332}, {\"threshold\": 0.45100000500679016, \"p\": 27864, \"fpr\": 0.9681170292573144, \"tpr\": 0.9956933677863911, \"n\": 5332}, {\"threshold\": 0.4519999921321869, \"p\": 27864, \"fpr\": 0.9681170292573144, \"tpr\": 0.9956933677863911, \"n\": 5332}, {\"threshold\": 0.453000009059906, \"p\": 27864, \"fpr\": 0.9681170292573144, \"tpr\": 0.9956933677863911, \"n\": 5332}, {\"threshold\": 0.45399999618530273, \"p\": 27864, \"fpr\": 0.9681170292573144, \"tpr\": 0.9956933677863911, \"n\": 5332}, {\"threshold\": 0.45500001311302185, \"p\": 27864, \"fpr\": 0.9681170292573144, \"tpr\": 0.9956933677863911, \"n\": 5332}, {\"threshold\": 0.4560000002384186, \"p\": 27864, \"fpr\": 0.9681170292573144, \"tpr\": 0.9956933677863911, \"n\": 5332}, {\"threshold\": 0.4569999873638153, \"p\": 27864, \"fpr\": 0.9681170292573144, \"tpr\": 0.9956933677863911, \"n\": 5332}, {\"threshold\": 0.4580000042915344, \"p\": 27864, \"fpr\": 0.9681170292573144, \"tpr\": 0.9956933677863911, \"n\": 5332}, {\"threshold\": 0.45899999141693115, \"p\": 27864, \"fpr\": 0.9681170292573144, \"tpr\": 0.9956933677863911, \"n\": 5332}, {\"threshold\": 0.46000000834465027, \"p\": 27864, \"fpr\": 0.9681170292573144, \"tpr\": 0.9956933677863911, \"n\": 5332}, {\"threshold\": 0.460999995470047, \"p\": 27864, \"fpr\": 0.9681170292573144, \"tpr\": 0.9956933677863911, \"n\": 5332}, {\"threshold\": 0.4620000123977661, \"p\": 27864, \"fpr\": 0.9681170292573144, \"tpr\": 0.995657479184611, \"n\": 5332}, {\"threshold\": 0.46299999952316284, \"p\": 27864, \"fpr\": 0.9681170292573144, \"tpr\": 0.995657479184611, \"n\": 5332}, {\"threshold\": 0.46399998664855957, \"p\": 27864, \"fpr\": 0.9681170292573144, \"tpr\": 0.995657479184611, \"n\": 5332}, {\"threshold\": 0.4650000035762787, \"p\": 27864, \"fpr\": 0.9681170292573144, \"tpr\": 0.9956215905828308, \"n\": 5332}, {\"threshold\": 0.4659999907016754, \"p\": 27864, \"fpr\": 0.9681170292573144, \"tpr\": 0.9956215905828308, \"n\": 5332}, {\"threshold\": 0.46700000762939453, \"p\": 27864, \"fpr\": 0.9681170292573144, \"tpr\": 0.9956215905828308, \"n\": 5332}, {\"threshold\": 0.46799999475479126, \"p\": 27864, \"fpr\": 0.9679294823705926, \"tpr\": 0.9955857019810508, \"n\": 5332}, {\"threshold\": 0.4690000116825104, \"p\": 27864, \"fpr\": 0.9679294823705926, \"tpr\": 0.9955857019810508, \"n\": 5332}, {\"threshold\": 0.4699999988079071, \"p\": 27864, \"fpr\": 0.9679294823705926, \"tpr\": 0.9955857019810508, \"n\": 5332}, {\"threshold\": 0.47099998593330383, \"p\": 27864, \"fpr\": 0.9679294823705926, \"tpr\": 0.9955857019810508, \"n\": 5332}, {\"threshold\": 0.47200000286102295, \"p\": 27864, \"fpr\": 0.9679294823705926, \"tpr\": 0.9955857019810508, \"n\": 5332}, {\"threshold\": 0.4729999899864197, \"p\": 27864, \"fpr\": 0.9679294823705926, \"tpr\": 0.9955857019810508, \"n\": 5332}, {\"threshold\": 0.4740000069141388, \"p\": 27864, \"fpr\": 0.9679294823705926, \"tpr\": 0.9955857019810508, \"n\": 5332}, {\"threshold\": 0.4749999940395355, \"p\": 27864, \"fpr\": 0.9679294823705926, \"tpr\": 0.9955857019810508, \"n\": 5332}, {\"threshold\": 0.47600001096725464, \"p\": 27864, \"fpr\": 0.9679294823705926, \"tpr\": 0.9955857019810508, \"n\": 5332}, {\"threshold\": 0.47699999809265137, \"p\": 27864, \"fpr\": 0.9679294823705926, \"tpr\": 0.9955857019810508, \"n\": 5332}, {\"threshold\": 0.4779999852180481, \"p\": 27864, \"fpr\": 0.9679294823705926, \"tpr\": 0.9955857019810508, \"n\": 5332}, {\"threshold\": 0.4790000021457672, \"p\": 27864, \"fpr\": 0.9679294823705926, \"tpr\": 0.9955857019810508, \"n\": 5332}, {\"threshold\": 0.47999998927116394, \"p\": 27864, \"fpr\": 0.9679294823705926, \"tpr\": 0.9955857019810508, \"n\": 5332}, {\"threshold\": 0.48100000619888306, \"p\": 27864, \"fpr\": 0.9679294823705926, \"tpr\": 0.9955857019810508, \"n\": 5332}, {\"threshold\": 0.4819999933242798, \"p\": 27864, \"fpr\": 0.9679294823705926, \"tpr\": 0.9955857019810508, \"n\": 5332}, {\"threshold\": 0.4830000102519989, \"p\": 27864, \"fpr\": 0.9679294823705926, \"tpr\": 0.9955857019810508, \"n\": 5332}, {\"threshold\": 0.48399999737739563, \"p\": 27864, \"fpr\": 0.9679294823705926, \"tpr\": 0.9955857019810508, \"n\": 5332}, {\"threshold\": 0.48500001430511475, \"p\": 27864, \"fpr\": 0.9679294823705926, \"tpr\": 0.9955857019810508, \"n\": 5332}, {\"threshold\": 0.4860000014305115, \"p\": 27864, \"fpr\": 0.9679294823705926, \"tpr\": 0.9955857019810508, \"n\": 5332}, {\"threshold\": 0.4869999885559082, \"p\": 27864, \"fpr\": 0.9679294823705926, \"tpr\": 0.9955857019810508, \"n\": 5332}, {\"threshold\": 0.4880000054836273, \"p\": 27864, \"fpr\": 0.9673668417104276, \"tpr\": 0.9954780361757106, \"n\": 5332}, {\"threshold\": 0.48899999260902405, \"p\": 27864, \"fpr\": 0.9673668417104276, \"tpr\": 0.9954780361757106, \"n\": 5332}, {\"threshold\": 0.49000000953674316, \"p\": 27864, \"fpr\": 0.9563015753938484, \"tpr\": 0.9932170542635659, \"n\": 5332}, {\"threshold\": 0.4909999966621399, \"p\": 27864, \"fpr\": 0.9563015753938484, \"tpr\": 0.9932170542635659, \"n\": 5332}, {\"threshold\": 0.492000013589859, \"p\": 27864, \"fpr\": 0.9563015753938484, \"tpr\": 0.9932170542635659, \"n\": 5332}, {\"threshold\": 0.49300000071525574, \"p\": 27864, \"fpr\": 0.9563015753938484, \"tpr\": 0.9932170542635659, \"n\": 5332}, {\"threshold\": 0.49399998784065247, \"p\": 27864, \"fpr\": 0.9563015753938484, \"tpr\": 0.9932170542635659, \"n\": 5332}, {\"threshold\": 0.4950000047683716, \"p\": 27864, \"fpr\": 0.9563015753938484, \"tpr\": 0.9932170542635659, \"n\": 5332}, {\"threshold\": 0.4959999918937683, \"p\": 27864, \"fpr\": 0.9563015753938484, \"tpr\": 0.9932170542635659, \"n\": 5332}, {\"threshold\": 0.4970000088214874, \"p\": 27864, \"fpr\": 0.9561140285071268, \"tpr\": 0.9931811656617858, \"n\": 5332}, {\"threshold\": 0.49799999594688416, \"p\": 27864, \"fpr\": 0.9561140285071268, \"tpr\": 0.9931811656617858, \"n\": 5332}, {\"threshold\": 0.49900001287460327, \"p\": 27864, \"fpr\": 0.9561140285071268, \"tpr\": 0.9931811656617858, \"n\": 5332}, {\"threshold\": 0.5, \"p\": 27864, \"fpr\": 0.9561140285071268, \"tpr\": 0.9931811656617858, \"n\": 5332}, {\"threshold\": 0.5009999871253967, \"p\": 27864, \"fpr\": 0.9561140285071268, \"tpr\": 0.9931811656617858, \"n\": 5332}, {\"threshold\": 0.5019999742507935, \"p\": 27864, \"fpr\": 0.9561140285071268, \"tpr\": 0.9931811656617858, \"n\": 5332}, {\"threshold\": 0.503000020980835, \"p\": 27864, \"fpr\": 0.9561140285071268, \"tpr\": 0.9931811656617858, \"n\": 5332}, {\"threshold\": 0.5040000081062317, \"p\": 27864, \"fpr\": 0.9561140285071268, \"tpr\": 0.9931811656617858, \"n\": 5332}, {\"threshold\": 0.5049999952316284, \"p\": 27864, \"fpr\": 0.9561140285071268, \"tpr\": 0.9931811656617858, \"n\": 5332}, {\"threshold\": 0.5059999823570251, \"p\": 27864, \"fpr\": 0.9561140285071268, \"tpr\": 0.9931811656617858, \"n\": 5332}, {\"threshold\": 0.5070000290870667, \"p\": 27864, \"fpr\": 0.9561140285071268, \"tpr\": 0.9931811656617858, \"n\": 5332}, {\"threshold\": 0.5080000162124634, \"p\": 27864, \"fpr\": 0.9561140285071268, \"tpr\": 0.9931811656617858, \"n\": 5332}, {\"threshold\": 0.5090000033378601, \"p\": 27864, \"fpr\": 0.9561140285071268, \"tpr\": 0.9931811656617858, \"n\": 5332}, {\"threshold\": 0.5099999904632568, \"p\": 27864, \"fpr\": 0.9561140285071268, \"tpr\": 0.9931811656617858, \"n\": 5332}, {\"threshold\": 0.5109999775886536, \"p\": 27864, \"fpr\": 0.9561140285071268, \"tpr\": 0.9931811656617858, \"n\": 5332}, {\"threshold\": 0.5120000243186951, \"p\": 27864, \"fpr\": 0.9561140285071268, \"tpr\": 0.9931811656617858, \"n\": 5332}, {\"threshold\": 0.5130000114440918, \"p\": 27864, \"fpr\": 0.9561140285071268, \"tpr\": 0.9931811656617858, \"n\": 5332}, {\"threshold\": 0.5139999985694885, \"p\": 27864, \"fpr\": 0.9561140285071268, \"tpr\": 0.9931811656617858, \"n\": 5332}, {\"threshold\": 0.5149999856948853, \"p\": 27864, \"fpr\": 0.9561140285071268, \"tpr\": 0.9931811656617858, \"n\": 5332}, {\"threshold\": 0.515999972820282, \"p\": 27864, \"fpr\": 0.9561140285071268, \"tpr\": 0.9931811656617858, \"n\": 5332}, {\"threshold\": 0.5170000195503235, \"p\": 27864, \"fpr\": 0.9561140285071268, \"tpr\": 0.9931811656617858, \"n\": 5332}, {\"threshold\": 0.5180000066757202, \"p\": 27864, \"fpr\": 0.9561140285071268, \"tpr\": 0.9931811656617858, \"n\": 5332}, {\"threshold\": 0.5189999938011169, \"p\": 27864, \"fpr\": 0.9561140285071268, \"tpr\": 0.9931811656617858, \"n\": 5332}, {\"threshold\": 0.5199999809265137, \"p\": 27864, \"fpr\": 0.9561140285071268, \"tpr\": 0.9931811656617858, \"n\": 5332}, {\"threshold\": 0.5210000276565552, \"p\": 27864, \"fpr\": 0.9561140285071268, \"tpr\": 0.9931811656617858, \"n\": 5332}, {\"threshold\": 0.5220000147819519, \"p\": 27864, \"fpr\": 0.9561140285071268, \"tpr\": 0.9931811656617858, \"n\": 5332}, {\"threshold\": 0.5230000019073486, \"p\": 27864, \"fpr\": 0.9561140285071268, \"tpr\": 0.9931811656617858, \"n\": 5332}, {\"threshold\": 0.5239999890327454, \"p\": 27864, \"fpr\": 0.9561140285071268, \"tpr\": 0.9931811656617858, \"n\": 5332}, {\"threshold\": 0.5249999761581421, \"p\": 27864, \"fpr\": 0.9561140285071268, \"tpr\": 0.9931811656617858, \"n\": 5332}, {\"threshold\": 0.5260000228881836, \"p\": 27864, \"fpr\": 0.9561140285071268, \"tpr\": 0.9931811656617858, \"n\": 5332}, {\"threshold\": 0.5270000100135803, \"p\": 27864, \"fpr\": 0.9561140285071268, \"tpr\": 0.9931811656617858, \"n\": 5332}, {\"threshold\": 0.527999997138977, \"p\": 27864, \"fpr\": 0.9561140285071268, \"tpr\": 0.9931811656617858, \"n\": 5332}, {\"threshold\": 0.5289999842643738, \"p\": 27864, \"fpr\": 0.9561140285071268, \"tpr\": 0.9931811656617858, \"n\": 5332}, {\"threshold\": 0.5299999713897705, \"p\": 27864, \"fpr\": 0.9561140285071268, \"tpr\": 0.9931811656617858, \"n\": 5332}, {\"threshold\": 0.531000018119812, \"p\": 27864, \"fpr\": 0.9561140285071268, \"tpr\": 0.9931811656617858, \"n\": 5332}, {\"threshold\": 0.5320000052452087, \"p\": 27864, \"fpr\": 0.9561140285071268, \"tpr\": 0.9931811656617858, \"n\": 5332}, {\"threshold\": 0.5329999923706055, \"p\": 27864, \"fpr\": 0.9561140285071268, \"tpr\": 0.9931811656617858, \"n\": 5332}, {\"threshold\": 0.5339999794960022, \"p\": 27864, \"fpr\": 0.9561140285071268, \"tpr\": 0.9931811656617858, \"n\": 5332}, {\"threshold\": 0.5350000262260437, \"p\": 27864, \"fpr\": 0.9561140285071268, \"tpr\": 0.9931811656617858, \"n\": 5332}, {\"threshold\": 0.5360000133514404, \"p\": 27864, \"fpr\": 0.9561140285071268, \"tpr\": 0.9931811656617858, \"n\": 5332}, {\"threshold\": 0.5370000004768372, \"p\": 27864, \"fpr\": 0.9561140285071268, \"tpr\": 0.9931811656617858, \"n\": 5332}, {\"threshold\": 0.5379999876022339, \"p\": 27864, \"fpr\": 0.9561140285071268, \"tpr\": 0.9931811656617858, \"n\": 5332}, {\"threshold\": 0.5389999747276306, \"p\": 27864, \"fpr\": 0.9561140285071268, \"tpr\": 0.9931811656617858, \"n\": 5332}, {\"threshold\": 0.5400000214576721, \"p\": 27864, \"fpr\": 0.9561140285071268, \"tpr\": 0.9931811656617858, \"n\": 5332}, {\"threshold\": 0.5410000085830688, \"p\": 27864, \"fpr\": 0.9549887471867967, \"tpr\": 0.9929299454493253, \"n\": 5332}, {\"threshold\": 0.5419999957084656, \"p\": 27864, \"fpr\": 0.9549887471867967, \"tpr\": 0.9929299454493253, \"n\": 5332}, {\"threshold\": 0.5429999828338623, \"p\": 27864, \"fpr\": 0.9549887471867967, \"tpr\": 0.9928940568475452, \"n\": 5332}, {\"threshold\": 0.5440000295639038, \"p\": 27864, \"fpr\": 0.9549887471867967, \"tpr\": 0.9928940568475452, \"n\": 5332}, {\"threshold\": 0.5450000166893005, \"p\": 27864, \"fpr\": 0.9549887471867967, \"tpr\": 0.9928940568475452, \"n\": 5332}, {\"threshold\": 0.5460000038146973, \"p\": 27864, \"fpr\": 0.9549887471867967, \"tpr\": 0.9928940568475452, \"n\": 5332}, {\"threshold\": 0.546999990940094, \"p\": 27864, \"fpr\": 0.9549887471867967, \"tpr\": 0.9928940568475452, \"n\": 5332}, {\"threshold\": 0.5479999780654907, \"p\": 27864, \"fpr\": 0.9549887471867967, \"tpr\": 0.9928940568475452, \"n\": 5332}, {\"threshold\": 0.5490000247955322, \"p\": 27864, \"fpr\": 0.9549887471867967, \"tpr\": 0.9928940568475452, \"n\": 5332}, {\"threshold\": 0.550000011920929, \"p\": 27864, \"fpr\": 0.9549887471867967, \"tpr\": 0.9928940568475452, \"n\": 5332}, {\"threshold\": 0.5509999990463257, \"p\": 27864, \"fpr\": 0.9549887471867967, \"tpr\": 0.9928940568475452, \"n\": 5332}, {\"threshold\": 0.5519999861717224, \"p\": 27864, \"fpr\": 0.9549887471867967, \"tpr\": 0.9928940568475452, \"n\": 5332}, {\"threshold\": 0.5529999732971191, \"p\": 27864, \"fpr\": 0.9549887471867967, \"tpr\": 0.9928940568475452, \"n\": 5332}, {\"threshold\": 0.5540000200271606, \"p\": 27864, \"fpr\": 0.9549887471867967, \"tpr\": 0.9928940568475452, \"n\": 5332}, {\"threshold\": 0.5550000071525574, \"p\": 27864, \"fpr\": 0.9549887471867967, \"tpr\": 0.9928940568475452, \"n\": 5332}, {\"threshold\": 0.5559999942779541, \"p\": 27864, \"fpr\": 0.9549887471867967, \"tpr\": 0.9928940568475452, \"n\": 5332}, {\"threshold\": 0.5569999814033508, \"p\": 27864, \"fpr\": 0.9549887471867967, \"tpr\": 0.9928940568475452, \"n\": 5332}, {\"threshold\": 0.5580000281333923, \"p\": 27864, \"fpr\": 0.9549887471867967, \"tpr\": 0.9928940568475452, \"n\": 5332}, {\"threshold\": 0.5590000152587891, \"p\": 27864, \"fpr\": 0.9549887471867967, \"tpr\": 0.9928940568475452, \"n\": 5332}, {\"threshold\": 0.5600000023841858, \"p\": 27864, \"fpr\": 0.9549887471867967, \"tpr\": 0.9928940568475452, \"n\": 5332}, {\"threshold\": 0.5609999895095825, \"p\": 27864, \"fpr\": 0.9549887471867967, \"tpr\": 0.9928940568475452, \"n\": 5332}, {\"threshold\": 0.5619999766349792, \"p\": 27864, \"fpr\": 0.9549887471867967, \"tpr\": 0.9928940568475452, \"n\": 5332}, {\"threshold\": 0.5630000233650208, \"p\": 27864, \"fpr\": 0.9549887471867967, \"tpr\": 0.9928940568475452, \"n\": 5332}, {\"threshold\": 0.5640000104904175, \"p\": 27864, \"fpr\": 0.9538634658664666, \"tpr\": 0.9927146138386449, \"n\": 5332}, {\"threshold\": 0.5649999976158142, \"p\": 27864, \"fpr\": 0.9538634658664666, \"tpr\": 0.9927146138386449, \"n\": 5332}, {\"threshold\": 0.5659999847412109, \"p\": 27864, \"fpr\": 0.9538634658664666, \"tpr\": 0.9926787252368647, \"n\": 5332}, {\"threshold\": 0.5669999718666077, \"p\": 27864, \"fpr\": 0.9538634658664666, \"tpr\": 0.9926787252368647, \"n\": 5332}, {\"threshold\": 0.5680000185966492, \"p\": 27864, \"fpr\": 0.9538634658664666, \"tpr\": 0.9926787252368647, \"n\": 5332}, {\"threshold\": 0.5690000057220459, \"p\": 27864, \"fpr\": 0.9538634658664666, \"tpr\": 0.9926787252368647, \"n\": 5332}, {\"threshold\": 0.5699999928474426, \"p\": 27864, \"fpr\": 0.9538634658664666, \"tpr\": 0.9925710594315246, \"n\": 5332}, {\"threshold\": 0.5709999799728394, \"p\": 27864, \"fpr\": 0.9538634658664666, \"tpr\": 0.9925710594315246, \"n\": 5332}, {\"threshold\": 0.5720000267028809, \"p\": 27864, \"fpr\": 0.9538634658664666, \"tpr\": 0.9925710594315246, \"n\": 5332}, {\"threshold\": 0.5730000138282776, \"p\": 27864, \"fpr\": 0.9538634658664666, \"tpr\": 0.9925710594315246, \"n\": 5332}, {\"threshold\": 0.5740000009536743, \"p\": 27864, \"fpr\": 0.9538634658664666, \"tpr\": 0.9925710594315246, \"n\": 5332}, {\"threshold\": 0.574999988079071, \"p\": 27864, \"fpr\": 0.9538634658664666, \"tpr\": 0.9925710594315246, \"n\": 5332}, {\"threshold\": 0.5759999752044678, \"p\": 27864, \"fpr\": 0.9538634658664666, \"tpr\": 0.9925710594315246, \"n\": 5332}, {\"threshold\": 0.5770000219345093, \"p\": 27864, \"fpr\": 0.9538634658664666, \"tpr\": 0.9925710594315246, \"n\": 5332}, {\"threshold\": 0.578000009059906, \"p\": 27864, \"fpr\": 0.9538634658664666, \"tpr\": 0.9925710594315246, \"n\": 5332}, {\"threshold\": 0.5789999961853027, \"p\": 27864, \"fpr\": 0.9538634658664666, \"tpr\": 0.9925710594315246, \"n\": 5332}, {\"threshold\": 0.5799999833106995, \"p\": 27864, \"fpr\": 0.9538634658664666, \"tpr\": 0.9925710594315246, \"n\": 5332}, {\"threshold\": 0.5809999704360962, \"p\": 27864, \"fpr\": 0.9538634658664666, \"tpr\": 0.9925710594315246, \"n\": 5332}, {\"threshold\": 0.5820000171661377, \"p\": 27864, \"fpr\": 0.9538634658664666, \"tpr\": 0.9925351708297445, \"n\": 5332}, {\"threshold\": 0.5830000042915344, \"p\": 27864, \"fpr\": 0.9538634658664666, \"tpr\": 0.9925351708297445, \"n\": 5332}, {\"threshold\": 0.5839999914169312, \"p\": 27864, \"fpr\": 0.9538634658664666, \"tpr\": 0.9925351708297445, \"n\": 5332}, {\"threshold\": 0.5849999785423279, \"p\": 27864, \"fpr\": 0.9538634658664666, \"tpr\": 0.9925351708297445, \"n\": 5332}, {\"threshold\": 0.5860000252723694, \"p\": 27864, \"fpr\": 0.9538634658664666, \"tpr\": 0.9925351708297445, \"n\": 5332}, {\"threshold\": 0.5870000123977661, \"p\": 27864, \"fpr\": 0.9538634658664666, \"tpr\": 0.9925351708297445, \"n\": 5332}, {\"threshold\": 0.5879999995231628, \"p\": 27864, \"fpr\": 0.9538634658664666, \"tpr\": 0.9925351708297445, \"n\": 5332}, {\"threshold\": 0.5889999866485596, \"p\": 27864, \"fpr\": 0.9538634658664666, \"tpr\": 0.9925351708297445, \"n\": 5332}, {\"threshold\": 0.5899999737739563, \"p\": 27864, \"fpr\": 0.9538634658664666, \"tpr\": 0.9925351708297445, \"n\": 5332}, {\"threshold\": 0.5910000205039978, \"p\": 27864, \"fpr\": 0.9538634658664666, \"tpr\": 0.9925351708297445, \"n\": 5332}, {\"threshold\": 0.5920000076293945, \"p\": 27864, \"fpr\": 0.9536759189797449, \"tpr\": 0.9924992822279644, \"n\": 5332}, {\"threshold\": 0.5929999947547913, \"p\": 27864, \"fpr\": 0.9536759189797449, \"tpr\": 0.9924992822279644, \"n\": 5332}, {\"threshold\": 0.593999981880188, \"p\": 27864, \"fpr\": 0.9536759189797449, \"tpr\": 0.9924992822279644, \"n\": 5332}, {\"threshold\": 0.5950000286102295, \"p\": 27864, \"fpr\": 0.9298574643660915, \"tpr\": 0.9838860178007465, \"n\": 5332}, {\"threshold\": 0.5960000157356262, \"p\": 27864, \"fpr\": 0.9298574643660915, \"tpr\": 0.9838860178007465, \"n\": 5332}, {\"threshold\": 0.597000002861023, \"p\": 27864, \"fpr\": 0.9298574643660915, \"tpr\": 0.9838860178007465, \"n\": 5332}, {\"threshold\": 0.5979999899864197, \"p\": 27864, \"fpr\": 0.9298574643660915, \"tpr\": 0.9838860178007465, \"n\": 5332}, {\"threshold\": 0.5989999771118164, \"p\": 27864, \"fpr\": 0.9298574643660915, \"tpr\": 0.9838860178007465, \"n\": 5332}, {\"threshold\": 0.6000000238418579, \"p\": 27864, \"fpr\": 0.9298574643660915, \"tpr\": 0.9838860178007465, \"n\": 5332}, {\"threshold\": 0.6010000109672546, \"p\": 27864, \"fpr\": 0.9298574643660915, \"tpr\": 0.9838860178007465, \"n\": 5332}, {\"threshold\": 0.6019999980926514, \"p\": 27864, \"fpr\": 0.9298574643660915, \"tpr\": 0.9838860178007465, \"n\": 5332}, {\"threshold\": 0.6029999852180481, \"p\": 27864, \"fpr\": 0.9298574643660915, \"tpr\": 0.9838860178007465, \"n\": 5332}, {\"threshold\": 0.6039999723434448, \"p\": 27864, \"fpr\": 0.9298574643660915, \"tpr\": 0.9838860178007465, \"n\": 5332}, {\"threshold\": 0.6050000190734863, \"p\": 27864, \"fpr\": 0.9298574643660915, \"tpr\": 0.9838860178007465, \"n\": 5332}, {\"threshold\": 0.6060000061988831, \"p\": 27864, \"fpr\": 0.9298574643660915, \"tpr\": 0.9838860178007465, \"n\": 5332}, {\"threshold\": 0.6069999933242798, \"p\": 27864, \"fpr\": 0.9298574643660915, \"tpr\": 0.9838860178007465, \"n\": 5332}, {\"threshold\": 0.6079999804496765, \"p\": 27864, \"fpr\": 0.9298574643660915, \"tpr\": 0.9838860178007465, \"n\": 5332}, {\"threshold\": 0.609000027179718, \"p\": 27864, \"fpr\": 0.9298574643660915, \"tpr\": 0.9838860178007465, \"n\": 5332}, {\"threshold\": 0.6100000143051147, \"p\": 27864, \"fpr\": 0.9298574643660915, \"tpr\": 0.9838860178007465, \"n\": 5332}, {\"threshold\": 0.6110000014305115, \"p\": 27864, \"fpr\": 0.9298574643660915, \"tpr\": 0.9838860178007465, \"n\": 5332}, {\"threshold\": 0.6119999885559082, \"p\": 27864, \"fpr\": 0.9298574643660915, \"tpr\": 0.9838860178007465, \"n\": 5332}, {\"threshold\": 0.6129999756813049, \"p\": 27864, \"fpr\": 0.9298574643660915, \"tpr\": 0.9838860178007465, \"n\": 5332}, {\"threshold\": 0.6140000224113464, \"p\": 27864, \"fpr\": 0.9298574643660915, \"tpr\": 0.9838860178007465, \"n\": 5332}, {\"threshold\": 0.6150000095367432, \"p\": 27864, \"fpr\": 0.9298574643660915, \"tpr\": 0.9838860178007465, \"n\": 5332}, {\"threshold\": 0.6159999966621399, \"p\": 27864, \"fpr\": 0.9298574643660915, \"tpr\": 0.9838860178007465, \"n\": 5332}, {\"threshold\": 0.6169999837875366, \"p\": 27864, \"fpr\": 0.9298574643660915, \"tpr\": 0.9838860178007465, \"n\": 5332}, {\"threshold\": 0.6179999709129333, \"p\": 27864, \"fpr\": 0.9298574643660915, \"tpr\": 0.9838860178007465, \"n\": 5332}, {\"threshold\": 0.6190000176429749, \"p\": 27864, \"fpr\": 0.9298574643660915, \"tpr\": 0.9838860178007465, \"n\": 5332}, {\"threshold\": 0.6200000047683716, \"p\": 27864, \"fpr\": 0.9298574643660915, \"tpr\": 0.9837783519954063, \"n\": 5332}, {\"threshold\": 0.6209999918937683, \"p\": 27864, \"fpr\": 0.9298574643660915, \"tpr\": 0.9837783519954063, \"n\": 5332}, {\"threshold\": 0.621999979019165, \"p\": 27864, \"fpr\": 0.9298574643660915, \"tpr\": 0.9837065747918461, \"n\": 5332}, {\"threshold\": 0.6230000257492065, \"p\": 27864, \"fpr\": 0.9298574643660915, \"tpr\": 0.9837065747918461, \"n\": 5332}, {\"threshold\": 0.6240000128746033, \"p\": 27864, \"fpr\": 0.9298574643660915, \"tpr\": 0.9837065747918461, \"n\": 5332}, {\"threshold\": 0.625, \"p\": 27864, \"fpr\": 0.9298574643660915, \"tpr\": 0.9837065747918461, \"n\": 5332}, {\"threshold\": 0.6259999871253967, \"p\": 27864, \"fpr\": 0.9298574643660915, \"tpr\": 0.9837065747918461, \"n\": 5332}, {\"threshold\": 0.6269999742507935, \"p\": 27864, \"fpr\": 0.9298574643660915, \"tpr\": 0.9837065747918461, \"n\": 5332}, {\"threshold\": 0.628000020980835, \"p\": 27864, \"fpr\": 0.9298574643660915, \"tpr\": 0.9837065747918461, \"n\": 5332}, {\"threshold\": 0.6290000081062317, \"p\": 27864, \"fpr\": 0.9298574643660915, \"tpr\": 0.9837065747918461, \"n\": 5332}, {\"threshold\": 0.6299999952316284, \"p\": 27864, \"fpr\": 0.9298574643660915, \"tpr\": 0.9837065747918461, \"n\": 5332}, {\"threshold\": 0.6309999823570251, \"p\": 27864, \"fpr\": 0.9298574643660915, \"tpr\": 0.9837065747918461, \"n\": 5332}, {\"threshold\": 0.6320000290870667, \"p\": 27864, \"fpr\": 0.9298574643660915, \"tpr\": 0.9837065747918461, \"n\": 5332}, {\"threshold\": 0.6330000162124634, \"p\": 27864, \"fpr\": 0.9298574643660915, \"tpr\": 0.9837065747918461, \"n\": 5332}, {\"threshold\": 0.6340000033378601, \"p\": 27864, \"fpr\": 0.9298574643660915, \"tpr\": 0.9837065747918461, \"n\": 5332}, {\"threshold\": 0.6349999904632568, \"p\": 27864, \"fpr\": 0.9298574643660915, \"tpr\": 0.9837065747918461, \"n\": 5332}, {\"threshold\": 0.6359999775886536, \"p\": 27864, \"fpr\": 0.9298574643660915, \"tpr\": 0.9837065747918461, \"n\": 5332}, {\"threshold\": 0.6370000243186951, \"p\": 27864, \"fpr\": 0.9298574643660915, \"tpr\": 0.9837065747918461, \"n\": 5332}, {\"threshold\": 0.6380000114440918, \"p\": 27864, \"fpr\": 0.9298574643660915, \"tpr\": 0.9837065747918461, \"n\": 5332}, {\"threshold\": 0.6389999985694885, \"p\": 27864, \"fpr\": 0.9298574643660915, \"tpr\": 0.9837065747918461, \"n\": 5332}, {\"threshold\": 0.6399999856948853, \"p\": 27864, \"fpr\": 0.9298574643660915, \"tpr\": 0.9837065747918461, \"n\": 5332}, {\"threshold\": 0.640999972820282, \"p\": 27864, \"fpr\": 0.9298574643660915, \"tpr\": 0.9837065747918461, \"n\": 5332}, {\"threshold\": 0.6420000195503235, \"p\": 27864, \"fpr\": 0.9298574643660915, \"tpr\": 0.9837065747918461, \"n\": 5332}, {\"threshold\": 0.6430000066757202, \"p\": 27864, \"fpr\": 0.9298574643660915, \"tpr\": 0.9837065747918461, \"n\": 5332}, {\"threshold\": 0.6439999938011169, \"p\": 27864, \"fpr\": 0.9298574643660915, \"tpr\": 0.9837065747918461, \"n\": 5332}, {\"threshold\": 0.6449999809265137, \"p\": 27864, \"fpr\": 0.9298574643660915, \"tpr\": 0.9837065747918461, \"n\": 5332}, {\"threshold\": 0.6460000276565552, \"p\": 27864, \"fpr\": 0.9298574643660915, \"tpr\": 0.9837065747918461, \"n\": 5332}, {\"threshold\": 0.6470000147819519, \"p\": 27864, \"fpr\": 0.9298574643660915, \"tpr\": 0.9837065747918461, \"n\": 5332}, {\"threshold\": 0.6480000019073486, \"p\": 27864, \"fpr\": 0.9298574643660915, \"tpr\": 0.9837065747918461, \"n\": 5332}, {\"threshold\": 0.6489999890327454, \"p\": 27864, \"fpr\": 0.9298574643660915, \"tpr\": 0.9837065747918461, \"n\": 5332}, {\"threshold\": 0.6499999761581421, \"p\": 27864, \"fpr\": 0.9298574643660915, \"tpr\": 0.9837065747918461, \"n\": 5332}, {\"threshold\": 0.6510000228881836, \"p\": 27864, \"fpr\": 0.9298574643660915, \"tpr\": 0.9837065747918461, \"n\": 5332}, {\"threshold\": 0.6520000100135803, \"p\": 27864, \"fpr\": 0.9298574643660915, \"tpr\": 0.9837065747918461, \"n\": 5332}, {\"threshold\": 0.652999997138977, \"p\": 27864, \"fpr\": 0.9298574643660915, \"tpr\": 0.9837065747918461, \"n\": 5332}, {\"threshold\": 0.6539999842643738, \"p\": 27864, \"fpr\": 0.9298574643660915, \"tpr\": 0.9837065747918461, \"n\": 5332}, {\"threshold\": 0.6549999713897705, \"p\": 27864, \"fpr\": 0.9298574643660915, \"tpr\": 0.9837065747918461, \"n\": 5332}, {\"threshold\": 0.656000018119812, \"p\": 27864, \"fpr\": 0.9298574643660915, \"tpr\": 0.9837065747918461, \"n\": 5332}, {\"threshold\": 0.6570000052452087, \"p\": 27864, \"fpr\": 0.9298574643660915, \"tpr\": 0.9837065747918461, \"n\": 5332}, {\"threshold\": 0.6579999923706055, \"p\": 27864, \"fpr\": 0.9298574643660915, \"tpr\": 0.9837065747918461, \"n\": 5332}, {\"threshold\": 0.6589999794960022, \"p\": 27864, \"fpr\": 0.9298574643660915, \"tpr\": 0.9837065747918461, \"n\": 5332}, {\"threshold\": 0.6600000262260437, \"p\": 27864, \"fpr\": 0.9298574643660915, \"tpr\": 0.983670686190066, \"n\": 5332}, {\"threshold\": 0.6610000133514404, \"p\": 27864, \"fpr\": 0.9298574643660915, \"tpr\": 0.983670686190066, \"n\": 5332}, {\"threshold\": 0.6620000004768372, \"p\": 27864, \"fpr\": 0.9298574643660915, \"tpr\": 0.983670686190066, \"n\": 5332}, {\"threshold\": 0.6629999876022339, \"p\": 27864, \"fpr\": 0.9294823705926482, \"tpr\": 0.9833835773758255, \"n\": 5332}, {\"threshold\": 0.6639999747276306, \"p\": 27864, \"fpr\": 0.9294823705926482, \"tpr\": 0.9833835773758255, \"n\": 5332}, {\"threshold\": 0.6650000214576721, \"p\": 27864, \"fpr\": 0.9294823705926482, \"tpr\": 0.9833835773758255, \"n\": 5332}, {\"threshold\": 0.6660000085830688, \"p\": 27864, \"fpr\": 0.9294823705926482, \"tpr\": 0.9833835773758255, \"n\": 5332}, {\"threshold\": 0.6669999957084656, \"p\": 27864, \"fpr\": 0.9294823705926482, \"tpr\": 0.9833835773758255, \"n\": 5332}, {\"threshold\": 0.6679999828338623, \"p\": 27864, \"fpr\": 0.9294823705926482, \"tpr\": 0.9833835773758255, \"n\": 5332}, {\"threshold\": 0.6690000295639038, \"p\": 27864, \"fpr\": 0.9294823705926482, \"tpr\": 0.9833476887740453, \"n\": 5332}, {\"threshold\": 0.6700000166893005, \"p\": 27864, \"fpr\": 0.9294823705926482, \"tpr\": 0.9833476887740453, \"n\": 5332}, {\"threshold\": 0.6710000038146973, \"p\": 27864, \"fpr\": 0.9294823705926482, \"tpr\": 0.9833476887740453, \"n\": 5332}, {\"threshold\": 0.671999990940094, \"p\": 27864, \"fpr\": 0.9294823705926482, \"tpr\": 0.9833118001722653, \"n\": 5332}, {\"threshold\": 0.6729999780654907, \"p\": 27864, \"fpr\": 0.9294823705926482, \"tpr\": 0.9833118001722653, \"n\": 5332}, {\"threshold\": 0.6740000247955322, \"p\": 27864, \"fpr\": 0.9294823705926482, \"tpr\": 0.9833118001722653, \"n\": 5332}, {\"threshold\": 0.675000011920929, \"p\": 27864, \"fpr\": 0.9294823705926482, \"tpr\": 0.9833118001722653, \"n\": 5332}, {\"threshold\": 0.6759999990463257, \"p\": 27864, \"fpr\": 0.9294823705926482, \"tpr\": 0.9833118001722653, \"n\": 5332}, {\"threshold\": 0.6769999861717224, \"p\": 27864, \"fpr\": 0.9294823705926482, \"tpr\": 0.9833118001722653, \"n\": 5332}, {\"threshold\": 0.6779999732971191, \"p\": 27864, \"fpr\": 0.9294823705926482, \"tpr\": 0.9833118001722653, \"n\": 5332}, {\"threshold\": 0.6790000200271606, \"p\": 27864, \"fpr\": 0.9294823705926482, \"tpr\": 0.9833118001722653, \"n\": 5332}, {\"threshold\": 0.6800000071525574, \"p\": 27864, \"fpr\": 0.9294823705926482, \"tpr\": 0.9833118001722653, \"n\": 5332}, {\"threshold\": 0.6809999942779541, \"p\": 27864, \"fpr\": 0.9294823705926482, \"tpr\": 0.9833118001722653, \"n\": 5332}, {\"threshold\": 0.6819999814033508, \"p\": 27864, \"fpr\": 0.9294823705926482, \"tpr\": 0.9833118001722653, \"n\": 5332}, {\"threshold\": 0.6830000281333923, \"p\": 27864, \"fpr\": 0.9294823705926482, \"tpr\": 0.9833118001722653, \"n\": 5332}, {\"threshold\": 0.6840000152587891, \"p\": 27864, \"fpr\": 0.9294823705926482, \"tpr\": 0.9832041343669251, \"n\": 5332}, {\"threshold\": 0.6850000023841858, \"p\": 27864, \"fpr\": 0.9294823705926482, \"tpr\": 0.9832041343669251, \"n\": 5332}, {\"threshold\": 0.6859999895095825, \"p\": 27864, \"fpr\": 0.9294823705926482, \"tpr\": 0.9832041343669251, \"n\": 5332}, {\"threshold\": 0.6869999766349792, \"p\": 27864, \"fpr\": 0.9294823705926482, \"tpr\": 0.9832041343669251, \"n\": 5332}, {\"threshold\": 0.6880000233650208, \"p\": 27864, \"fpr\": 0.9294823705926482, \"tpr\": 0.9832041343669251, \"n\": 5332}, {\"threshold\": 0.6890000104904175, \"p\": 27864, \"fpr\": 0.9294823705926482, \"tpr\": 0.9832041343669251, \"n\": 5332}, {\"threshold\": 0.6899999976158142, \"p\": 27864, \"fpr\": 0.9294823705926482, \"tpr\": 0.9832041343669251, \"n\": 5332}, {\"threshold\": 0.6909999847412109, \"p\": 27864, \"fpr\": 0.9294823705926482, \"tpr\": 0.9832041343669251, \"n\": 5332}, {\"threshold\": 0.6919999718666077, \"p\": 27864, \"fpr\": 0.9294823705926482, \"tpr\": 0.9832041343669251, \"n\": 5332}, {\"threshold\": 0.6930000185966492, \"p\": 27864, \"fpr\": 0.9294823705926482, \"tpr\": 0.9832041343669251, \"n\": 5332}, {\"threshold\": 0.6940000057220459, \"p\": 27864, \"fpr\": 0.9294823705926482, \"tpr\": 0.9832041343669251, \"n\": 5332}, {\"threshold\": 0.6949999928474426, \"p\": 27864, \"fpr\": 0.9294823705926482, \"tpr\": 0.9832041343669251, \"n\": 5332}, {\"threshold\": 0.6959999799728394, \"p\": 27864, \"fpr\": 0.9294823705926482, \"tpr\": 0.9832041343669251, \"n\": 5332}, {\"threshold\": 0.6970000267028809, \"p\": 27864, \"fpr\": 0.9294823705926482, \"tpr\": 0.9832041343669251, \"n\": 5332}, {\"threshold\": 0.6980000138282776, \"p\": 27864, \"fpr\": 0.9294823705926482, \"tpr\": 0.9832041343669251, \"n\": 5332}, {\"threshold\": 0.6990000009536743, \"p\": 27864, \"fpr\": 0.9276069017254314, \"tpr\": 0.982701693942004, \"n\": 5332}, {\"threshold\": 0.699999988079071, \"p\": 27864, \"fpr\": 0.9276069017254314, \"tpr\": 0.982701693942004, \"n\": 5332}, {\"threshold\": 0.7009999752044678, \"p\": 27864, \"fpr\": 0.9276069017254314, \"tpr\": 0.9826299167384439, \"n\": 5332}, {\"threshold\": 0.7020000219345093, \"p\": 27864, \"fpr\": 0.9276069017254314, \"tpr\": 0.9826299167384439, \"n\": 5332}, {\"threshold\": 0.703000009059906, \"p\": 27864, \"fpr\": 0.9276069017254314, \"tpr\": 0.9826299167384439, \"n\": 5332}, {\"threshold\": 0.7039999961853027, \"p\": 27864, \"fpr\": 0.9276069017254314, \"tpr\": 0.9826299167384439, \"n\": 5332}, {\"threshold\": 0.7049999833106995, \"p\": 27864, \"fpr\": 0.9276069017254314, \"tpr\": 0.9826299167384439, \"n\": 5332}, {\"threshold\": 0.7059999704360962, \"p\": 27864, \"fpr\": 0.9276069017254314, \"tpr\": 0.9826299167384439, \"n\": 5332}, {\"threshold\": 0.7070000171661377, \"p\": 27864, \"fpr\": 0.9276069017254314, \"tpr\": 0.9826299167384439, \"n\": 5332}, {\"threshold\": 0.7080000042915344, \"p\": 27864, \"fpr\": 0.9276069017254314, \"tpr\": 0.9826299167384439, \"n\": 5332}, {\"threshold\": 0.7089999914169312, \"p\": 27864, \"fpr\": 0.9276069017254314, \"tpr\": 0.9826299167384439, \"n\": 5332}, {\"threshold\": 0.7099999785423279, \"p\": 27864, \"fpr\": 0.9276069017254314, \"tpr\": 0.9826299167384439, \"n\": 5332}, {\"threshold\": 0.7110000252723694, \"p\": 27864, \"fpr\": 0.9276069017254314, \"tpr\": 0.9826299167384439, \"n\": 5332}, {\"threshold\": 0.7120000123977661, \"p\": 27864, \"fpr\": 0.9276069017254314, \"tpr\": 0.9826299167384439, \"n\": 5332}, {\"threshold\": 0.7129999995231628, \"p\": 27864, \"fpr\": 0.9276069017254314, \"tpr\": 0.9826299167384439, \"n\": 5332}, {\"threshold\": 0.7139999866485596, \"p\": 27864, \"fpr\": 0.9276069017254314, \"tpr\": 0.9826299167384439, \"n\": 5332}, {\"threshold\": 0.7149999737739563, \"p\": 27864, \"fpr\": 0.9276069017254314, \"tpr\": 0.9826299167384439, \"n\": 5332}, {\"threshold\": 0.7160000205039978, \"p\": 27864, \"fpr\": 0.9276069017254314, \"tpr\": 0.9826299167384439, \"n\": 5332}, {\"threshold\": 0.7170000076293945, \"p\": 27864, \"fpr\": 0.9276069017254314, \"tpr\": 0.9826299167384439, \"n\": 5332}, {\"threshold\": 0.7179999947547913, \"p\": 27864, \"fpr\": 0.9276069017254314, \"tpr\": 0.9826299167384439, \"n\": 5332}, {\"threshold\": 0.718999981880188, \"p\": 27864, \"fpr\": 0.9276069017254314, \"tpr\": 0.9826299167384439, \"n\": 5332}, {\"threshold\": 0.7200000286102295, \"p\": 27864, \"fpr\": 0.9276069017254314, \"tpr\": 0.9826299167384439, \"n\": 5332}, {\"threshold\": 0.7210000157356262, \"p\": 27864, \"fpr\": 0.9276069017254314, \"tpr\": 0.9826299167384439, \"n\": 5332}, {\"threshold\": 0.722000002861023, \"p\": 27864, \"fpr\": 0.9276069017254314, \"tpr\": 0.9826299167384439, \"n\": 5332}, {\"threshold\": 0.7229999899864197, \"p\": 27864, \"fpr\": 0.9276069017254314, \"tpr\": 0.9826299167384439, \"n\": 5332}, {\"threshold\": 0.7239999771118164, \"p\": 27864, \"fpr\": 0.9276069017254314, \"tpr\": 0.9826299167384439, \"n\": 5332}, {\"threshold\": 0.7250000238418579, \"p\": 27864, \"fpr\": 0.9276069017254314, \"tpr\": 0.9826299167384439, \"n\": 5332}, {\"threshold\": 0.7260000109672546, \"p\": 27864, \"fpr\": 0.9276069017254314, \"tpr\": 0.9826299167384439, \"n\": 5332}, {\"threshold\": 0.7269999980926514, \"p\": 27864, \"fpr\": 0.9276069017254314, \"tpr\": 0.9826299167384439, \"n\": 5332}, {\"threshold\": 0.7279999852180481, \"p\": 27864, \"fpr\": 0.9276069017254314, \"tpr\": 0.9826299167384439, \"n\": 5332}, {\"threshold\": 0.7289999723434448, \"p\": 27864, \"fpr\": 0.9276069017254314, \"tpr\": 0.9826299167384439, \"n\": 5332}, {\"threshold\": 0.7300000190734863, \"p\": 27864, \"fpr\": 0.9276069017254314, \"tpr\": 0.9826299167384439, \"n\": 5332}, {\"threshold\": 0.7310000061988831, \"p\": 27864, \"fpr\": 0.9276069017254314, \"tpr\": 0.9826299167384439, \"n\": 5332}, {\"threshold\": 0.7319999933242798, \"p\": 27864, \"fpr\": 0.9276069017254314, \"tpr\": 0.9825581395348837, \"n\": 5332}, {\"threshold\": 0.7329999804496765, \"p\": 27864, \"fpr\": 0.9276069017254314, \"tpr\": 0.9825581395348837, \"n\": 5332}, {\"threshold\": 0.734000027179718, \"p\": 27864, \"fpr\": 0.9276069017254314, \"tpr\": 0.9825581395348837, \"n\": 5332}, {\"threshold\": 0.7350000143051147, \"p\": 27864, \"fpr\": 0.9274193548387096, \"tpr\": 0.9825222509331036, \"n\": 5332}, {\"threshold\": 0.7360000014305115, \"p\": 27864, \"fpr\": 0.9274193548387096, \"tpr\": 0.9825222509331036, \"n\": 5332}, {\"threshold\": 0.7369999885559082, \"p\": 27864, \"fpr\": 0.9274193548387096, \"tpr\": 0.9825222509331036, \"n\": 5332}, {\"threshold\": 0.7379999756813049, \"p\": 27864, \"fpr\": 0.9274193548387096, \"tpr\": 0.9825222509331036, \"n\": 5332}, {\"threshold\": 0.7390000224113464, \"p\": 27864, \"fpr\": 0.9274193548387096, \"tpr\": 0.9825222509331036, \"n\": 5332}, {\"threshold\": 0.7400000095367432, \"p\": 27864, \"fpr\": 0.927231807951988, \"tpr\": 0.9824504737295435, \"n\": 5332}, {\"threshold\": 0.7409999966621399, \"p\": 27864, \"fpr\": 0.927231807951988, \"tpr\": 0.9824504737295435, \"n\": 5332}, {\"threshold\": 0.7419999837875366, \"p\": 27864, \"fpr\": 0.927231807951988, \"tpr\": 0.9824504737295435, \"n\": 5332}, {\"threshold\": 0.7429999709129333, \"p\": 27864, \"fpr\": 0.927231807951988, \"tpr\": 0.9824504737295435, \"n\": 5332}, {\"threshold\": 0.7440000176429749, \"p\": 27864, \"fpr\": 0.927231807951988, \"tpr\": 0.9824504737295435, \"n\": 5332}, {\"threshold\": 0.7450000047683716, \"p\": 27864, \"fpr\": 0.927231807951988, \"tpr\": 0.9824504737295435, \"n\": 5332}, {\"threshold\": 0.7459999918937683, \"p\": 27864, \"fpr\": 0.927231807951988, \"tpr\": 0.9824504737295435, \"n\": 5332}, {\"threshold\": 0.746999979019165, \"p\": 27864, \"fpr\": 0.927231807951988, \"tpr\": 0.9824504737295435, \"n\": 5332}, {\"threshold\": 0.7480000257492065, \"p\": 27864, \"fpr\": 0.927231807951988, \"tpr\": 0.9824504737295435, \"n\": 5332}, {\"threshold\": 0.7490000128746033, \"p\": 27864, \"fpr\": 0.927231807951988, \"tpr\": 0.9824504737295435, \"n\": 5332}, {\"threshold\": 0.75, \"p\": 27864, \"fpr\": 0.927231807951988, \"tpr\": 0.9824504737295435, \"n\": 5332}, {\"threshold\": 0.7509999871253967, \"p\": 27864, \"fpr\": 0.927231807951988, \"tpr\": 0.9824504737295435, \"n\": 5332}, {\"threshold\": 0.7519999742507935, \"p\": 27864, \"fpr\": 0.927231807951988, \"tpr\": 0.9824504737295435, \"n\": 5332}, {\"threshold\": 0.753000020980835, \"p\": 27864, \"fpr\": 0.927231807951988, \"tpr\": 0.9824504737295435, \"n\": 5332}, {\"threshold\": 0.7540000081062317, \"p\": 27864, \"fpr\": 0.927231807951988, \"tpr\": 0.9824504737295435, \"n\": 5332}, {\"threshold\": 0.7549999952316284, \"p\": 27864, \"fpr\": 0.927231807951988, \"tpr\": 0.9824504737295435, \"n\": 5332}, {\"threshold\": 0.7559999823570251, \"p\": 27864, \"fpr\": 0.927231807951988, \"tpr\": 0.9824504737295435, \"n\": 5332}, {\"threshold\": 0.7570000290870667, \"p\": 27864, \"fpr\": 0.927231807951988, \"tpr\": 0.9824504737295435, \"n\": 5332}, {\"threshold\": 0.7580000162124634, \"p\": 27864, \"fpr\": 0.927231807951988, \"tpr\": 0.9824504737295435, \"n\": 5332}, {\"threshold\": 0.7590000033378601, \"p\": 27864, \"fpr\": 0.927231807951988, \"tpr\": 0.9824504737295435, \"n\": 5332}, {\"threshold\": 0.7599999904632568, \"p\": 27864, \"fpr\": 0.927231807951988, \"tpr\": 0.9824504737295435, \"n\": 5332}, {\"threshold\": 0.7609999775886536, \"p\": 27864, \"fpr\": 0.927231807951988, \"tpr\": 0.9824504737295435, \"n\": 5332}, {\"threshold\": 0.7620000243186951, \"p\": 27864, \"fpr\": 0.927231807951988, \"tpr\": 0.9823786965259833, \"n\": 5332}, {\"threshold\": 0.7630000114440918, \"p\": 27864, \"fpr\": 0.927231807951988, \"tpr\": 0.9823786965259833, \"n\": 5332}, {\"threshold\": 0.7639999985694885, \"p\": 27864, \"fpr\": 0.927231807951988, \"tpr\": 0.9823786965259833, \"n\": 5332}, {\"threshold\": 0.7649999856948853, \"p\": 27864, \"fpr\": 0.927231807951988, \"tpr\": 0.9823786965259833, \"n\": 5332}, {\"threshold\": 0.765999972820282, \"p\": 27864, \"fpr\": 0.927231807951988, \"tpr\": 0.9823786965259833, \"n\": 5332}, {\"threshold\": 0.7670000195503235, \"p\": 27864, \"fpr\": 0.927231807951988, \"tpr\": 0.9823786965259833, \"n\": 5332}, {\"threshold\": 0.7680000066757202, \"p\": 27864, \"fpr\": 0.927231807951988, \"tpr\": 0.9823786965259833, \"n\": 5332}, {\"threshold\": 0.7689999938011169, \"p\": 27864, \"fpr\": 0.927231807951988, \"tpr\": 0.9823786965259833, \"n\": 5332}, {\"threshold\": 0.7699999809265137, \"p\": 27864, \"fpr\": 0.927231807951988, \"tpr\": 0.9823786965259833, \"n\": 5332}, {\"threshold\": 0.7710000276565552, \"p\": 27864, \"fpr\": 0.927231807951988, \"tpr\": 0.9823786965259833, \"n\": 5332}, {\"threshold\": 0.7720000147819519, \"p\": 27864, \"fpr\": 0.927231807951988, \"tpr\": 0.9823428079242033, \"n\": 5332}, {\"threshold\": 0.7730000019073486, \"p\": 27864, \"fpr\": 0.927231807951988, \"tpr\": 0.9823428079242033, \"n\": 5332}, {\"threshold\": 0.7739999890327454, \"p\": 27864, \"fpr\": 0.927231807951988, \"tpr\": 0.9823428079242033, \"n\": 5332}, {\"threshold\": 0.7749999761581421, \"p\": 27864, \"fpr\": 0.927231807951988, \"tpr\": 0.9823428079242033, \"n\": 5332}, {\"threshold\": 0.7760000228881836, \"p\": 27864, \"fpr\": 0.927231807951988, \"tpr\": 0.9823428079242033, \"n\": 5332}, {\"threshold\": 0.7770000100135803, \"p\": 27864, \"fpr\": 0.927231807951988, \"tpr\": 0.9823428079242033, \"n\": 5332}, {\"threshold\": 0.777999997138977, \"p\": 27864, \"fpr\": 0.927231807951988, \"tpr\": 0.9823428079242033, \"n\": 5332}, {\"threshold\": 0.7789999842643738, \"p\": 27864, \"fpr\": 0.927231807951988, \"tpr\": 0.9823428079242033, \"n\": 5332}, {\"threshold\": 0.7799999713897705, \"p\": 27864, \"fpr\": 0.9238559639909978, \"tpr\": 0.9802971576227391, \"n\": 5332}, {\"threshold\": 0.781000018119812, \"p\": 27864, \"fpr\": 0.9238559639909978, \"tpr\": 0.9802971576227391, \"n\": 5332}, {\"threshold\": 0.7820000052452087, \"p\": 27864, \"fpr\": 0.9238559639909978, \"tpr\": 0.9802253804191788, \"n\": 5332}, {\"threshold\": 0.7829999923706055, \"p\": 27864, \"fpr\": 0.9238559639909978, \"tpr\": 0.9802253804191788, \"n\": 5332}, {\"threshold\": 0.7839999794960022, \"p\": 27864, \"fpr\": 0.9238559639909978, \"tpr\": 0.9802253804191788, \"n\": 5332}, {\"threshold\": 0.7850000262260437, \"p\": 27864, \"fpr\": 0.9238559639909978, \"tpr\": 0.9802253804191788, \"n\": 5332}, {\"threshold\": 0.7860000133514404, \"p\": 27864, \"fpr\": 0.9238559639909978, \"tpr\": 0.9802253804191788, \"n\": 5332}, {\"threshold\": 0.7870000004768372, \"p\": 27864, \"fpr\": 0.9238559639909978, \"tpr\": 0.9802253804191788, \"n\": 5332}, {\"threshold\": 0.7879999876022339, \"p\": 27864, \"fpr\": 0.9238559639909978, \"tpr\": 0.9802253804191788, \"n\": 5332}, {\"threshold\": 0.7889999747276306, \"p\": 27864, \"fpr\": 0.923668417104276, \"tpr\": 0.9800100488084984, \"n\": 5332}, {\"threshold\": 0.7900000214576721, \"p\": 27864, \"fpr\": 0.923668417104276, \"tpr\": 0.9800100488084984, \"n\": 5332}, {\"threshold\": 0.7910000085830688, \"p\": 27864, \"fpr\": 0.923668417104276, \"tpr\": 0.9800100488084984, \"n\": 5332}, {\"threshold\": 0.7919999957084656, \"p\": 27864, \"fpr\": 0.923668417104276, \"tpr\": 0.9800100488084984, \"n\": 5332}, {\"threshold\": 0.7929999828338623, \"p\": 27864, \"fpr\": 0.923668417104276, \"tpr\": 0.9800100488084984, \"n\": 5332}, {\"threshold\": 0.7940000295639038, \"p\": 27864, \"fpr\": 0.923668417104276, \"tpr\": 0.9800100488084984, \"n\": 5332}, {\"threshold\": 0.7950000166893005, \"p\": 27864, \"fpr\": 0.923668417104276, \"tpr\": 0.9800100488084984, \"n\": 5332}, {\"threshold\": 0.7960000038146973, \"p\": 27864, \"fpr\": 0.9227306826706677, \"tpr\": 0.9794358311800172, \"n\": 5332}, {\"threshold\": 0.796999990940094, \"p\": 27864, \"fpr\": 0.13240810202550637, \"tpr\": 0.393733850129199, \"n\": 5332}, {\"threshold\": 0.7979999780654907, \"p\": 27864, \"fpr\": 0.13240810202550637, \"tpr\": 0.393733850129199, \"n\": 5332}, {\"threshold\": 0.7990000247955322, \"p\": 27864, \"fpr\": 0.13240810202550637, \"tpr\": 0.393733850129199, \"n\": 5332}, {\"threshold\": 0.800000011920929, \"p\": 27864, \"fpr\": 0.13240810202550637, \"tpr\": 0.393733850129199, \"n\": 5332}, {\"threshold\": 0.8009999990463257, \"p\": 27864, \"fpr\": 0.13240810202550637, \"tpr\": 0.393733850129199, \"n\": 5332}, {\"threshold\": 0.8019999861717224, \"p\": 27864, \"fpr\": 0.13240810202550637, \"tpr\": 0.393733850129199, \"n\": 5332}, {\"threshold\": 0.8029999732971191, \"p\": 27864, \"fpr\": 0.13240810202550637, \"tpr\": 0.393733850129199, \"n\": 5332}, {\"threshold\": 0.8040000200271606, \"p\": 27864, \"fpr\": 0.13240810202550637, \"tpr\": 0.393733850129199, \"n\": 5332}, {\"threshold\": 0.8050000071525574, \"p\": 27864, \"fpr\": 0.13240810202550637, \"tpr\": 0.393733850129199, \"n\": 5332}, {\"threshold\": 0.8059999942779541, \"p\": 27864, \"fpr\": 0.13240810202550637, \"tpr\": 0.393733850129199, \"n\": 5332}, {\"threshold\": 0.8069999814033508, \"p\": 27864, \"fpr\": 0.13240810202550637, \"tpr\": 0.393733850129199, \"n\": 5332}, {\"threshold\": 0.8080000281333923, \"p\": 27864, \"fpr\": 0.13240810202550637, \"tpr\": 0.393733850129199, \"n\": 5332}, {\"threshold\": 0.8090000152587891, \"p\": 27864, \"fpr\": 0.13203300825206302, \"tpr\": 0.3935544071202986, \"n\": 5332}, {\"threshold\": 0.8100000023841858, \"p\": 27864, \"fpr\": 0.13203300825206302, \"tpr\": 0.3935544071202986, \"n\": 5332}, {\"threshold\": 0.8109999895095825, \"p\": 27864, \"fpr\": 0.13203300825206302, \"tpr\": 0.3935544071202986, \"n\": 5332}, {\"threshold\": 0.8119999766349792, \"p\": 27864, \"fpr\": 0.13203300825206302, \"tpr\": 0.3935544071202986, \"n\": 5332}, {\"threshold\": 0.8130000233650208, \"p\": 27864, \"fpr\": 0.13203300825206302, \"tpr\": 0.3935544071202986, \"n\": 5332}, {\"threshold\": 0.8140000104904175, \"p\": 27864, \"fpr\": 0.13203300825206302, \"tpr\": 0.3935544071202986, \"n\": 5332}, {\"threshold\": 0.8149999976158142, \"p\": 27864, \"fpr\": 0.13203300825206302, \"tpr\": 0.3935544071202986, \"n\": 5332}, {\"threshold\": 0.8159999847412109, \"p\": 27864, \"fpr\": 0.13203300825206302, \"tpr\": 0.3935544071202986, \"n\": 5332}, {\"threshold\": 0.8169999718666077, \"p\": 27864, \"fpr\": 0.13203300825206302, \"tpr\": 0.3935544071202986, \"n\": 5332}, {\"threshold\": 0.8180000185966492, \"p\": 27864, \"fpr\": 0.13203300825206302, \"tpr\": 0.3935544071202986, \"n\": 5332}, {\"threshold\": 0.8190000057220459, \"p\": 27864, \"fpr\": 0.13203300825206302, \"tpr\": 0.3935544071202986, \"n\": 5332}, {\"threshold\": 0.8199999928474426, \"p\": 27864, \"fpr\": 0.13203300825206302, \"tpr\": 0.3935544071202986, \"n\": 5332}, {\"threshold\": 0.8209999799728394, \"p\": 27864, \"fpr\": 0.13203300825206302, \"tpr\": 0.3935544071202986, \"n\": 5332}, {\"threshold\": 0.8220000267028809, \"p\": 27864, \"fpr\": 0.13203300825206302, \"tpr\": 0.3935544071202986, \"n\": 5332}, {\"threshold\": 0.8230000138282776, \"p\": 27864, \"fpr\": 0.13203300825206302, \"tpr\": 0.3935544071202986, \"n\": 5332}, {\"threshold\": 0.8240000009536743, \"p\": 27864, \"fpr\": 0.13203300825206302, \"tpr\": 0.3935544071202986, \"n\": 5332}, {\"threshold\": 0.824999988079071, \"p\": 27864, \"fpr\": 0.13203300825206302, \"tpr\": 0.3935544071202986, \"n\": 5332}, {\"threshold\": 0.8259999752044678, \"p\": 27864, \"fpr\": 0.13203300825206302, \"tpr\": 0.3935544071202986, \"n\": 5332}, {\"threshold\": 0.8270000219345093, \"p\": 27864, \"fpr\": 0.13184546136534134, \"tpr\": 0.3934467413149584, \"n\": 5332}, {\"threshold\": 0.828000009059906, \"p\": 27864, \"fpr\": 0.13184546136534134, \"tpr\": 0.3934467413149584, \"n\": 5332}, {\"threshold\": 0.8289999961853027, \"p\": 27864, \"fpr\": 0.13184546136534134, \"tpr\": 0.3934467413149584, \"n\": 5332}, {\"threshold\": 0.8299999833106995, \"p\": 27864, \"fpr\": 0.13184546136534134, \"tpr\": 0.3934467413149584, \"n\": 5332}, {\"threshold\": 0.8309999704360962, \"p\": 27864, \"fpr\": 0.13184546136534134, \"tpr\": 0.3934467413149584, \"n\": 5332}, {\"threshold\": 0.8320000171661377, \"p\": 27864, \"fpr\": 0.13184546136534134, \"tpr\": 0.3934467413149584, \"n\": 5332}, {\"threshold\": 0.8330000042915344, \"p\": 27864, \"fpr\": 0.13184546136534134, \"tpr\": 0.3934467413149584, \"n\": 5332}, {\"threshold\": 0.8339999914169312, \"p\": 27864, \"fpr\": 0.13184546136534134, \"tpr\": 0.3934467413149584, \"n\": 5332}, {\"threshold\": 0.8349999785423279, \"p\": 27864, \"fpr\": 0.13184546136534134, \"tpr\": 0.3934467413149584, \"n\": 5332}, {\"threshold\": 0.8360000252723694, \"p\": 27864, \"fpr\": 0.13184546136534134, \"tpr\": 0.3934467413149584, \"n\": 5332}, {\"threshold\": 0.8370000123977661, \"p\": 27864, \"fpr\": 0.13184546136534134, \"tpr\": 0.3934467413149584, \"n\": 5332}, {\"threshold\": 0.8379999995231628, \"p\": 27864, \"fpr\": 0.13184546136534134, \"tpr\": 0.3934467413149584, \"n\": 5332}, {\"threshold\": 0.8389999866485596, \"p\": 27864, \"fpr\": 0.13184546136534134, \"tpr\": 0.3934467413149584, \"n\": 5332}, {\"threshold\": 0.8399999737739563, \"p\": 27864, \"fpr\": 0.13165791447861966, \"tpr\": 0.39333907550961816, \"n\": 5332}, {\"threshold\": 0.8410000205039978, \"p\": 27864, \"fpr\": 0.13165791447861966, \"tpr\": 0.39330318690783805, \"n\": 5332}, {\"threshold\": 0.8420000076293945, \"p\": 27864, \"fpr\": 0.13165791447861966, \"tpr\": 0.39330318690783805, \"n\": 5332}, {\"threshold\": 0.8429999947547913, \"p\": 27864, \"fpr\": 0.13147036759189798, \"tpr\": 0.393267298306058, \"n\": 5332}, {\"threshold\": 0.843999981880188, \"p\": 27864, \"fpr\": 0.13147036759189798, \"tpr\": 0.393267298306058, \"n\": 5332}, {\"threshold\": 0.8450000286102295, \"p\": 27864, \"fpr\": 0.13147036759189798, \"tpr\": 0.393267298306058, \"n\": 5332}, {\"threshold\": 0.8460000157356262, \"p\": 27864, \"fpr\": 0.13147036759189798, \"tpr\": 0.393267298306058, \"n\": 5332}, {\"threshold\": 0.847000002861023, \"p\": 27864, \"fpr\": 0.13147036759189798, \"tpr\": 0.393267298306058, \"n\": 5332}, {\"threshold\": 0.8479999899864197, \"p\": 27864, \"fpr\": 0.13147036759189798, \"tpr\": 0.39323140970427795, \"n\": 5332}, {\"threshold\": 0.8489999771118164, \"p\": 27864, \"fpr\": 0.13147036759189798, \"tpr\": 0.39312374389893767, \"n\": 5332}, {\"threshold\": 0.8500000238418579, \"p\": 27864, \"fpr\": 0.13147036759189798, \"tpr\": 0.39312374389893767, \"n\": 5332}, {\"threshold\": 0.8510000109672546, \"p\": 27864, \"fpr\": 0.13147036759189798, \"tpr\": 0.39312374389893767, \"n\": 5332}, {\"threshold\": 0.8519999980926514, \"p\": 27864, \"fpr\": 0.13147036759189798, \"tpr\": 0.39312374389893767, \"n\": 5332}, {\"threshold\": 0.8529999852180481, \"p\": 27864, \"fpr\": 0.13147036759189798, \"tpr\": 0.39312374389893767, \"n\": 5332}, {\"threshold\": 0.8539999723434448, \"p\": 27864, \"fpr\": 0.13147036759189798, \"tpr\": 0.39312374389893767, \"n\": 5332}, {\"threshold\": 0.8550000190734863, \"p\": 27864, \"fpr\": 0.13147036759189798, \"tpr\": 0.39312374389893767, \"n\": 5332}, {\"threshold\": 0.8560000061988831, \"p\": 27864, \"fpr\": 0.12996999249812452, \"tpr\": 0.390862761986793, \"n\": 5332}, {\"threshold\": 0.8569999933242798, \"p\": 27864, \"fpr\": 0.12996999249812452, \"tpr\": 0.390862761986793, \"n\": 5332}, {\"threshold\": 0.8579999804496765, \"p\": 27864, \"fpr\": 0.12996999249812452, \"tpr\": 0.390862761986793, \"n\": 5332}, {\"threshold\": 0.859000027179718, \"p\": 27864, \"fpr\": 0.12996999249812452, \"tpr\": 0.390862761986793, \"n\": 5332}, {\"threshold\": 0.8600000143051147, \"p\": 27864, \"fpr\": 0.12996999249812452, \"tpr\": 0.390862761986793, \"n\": 5332}, {\"threshold\": 0.8610000014305115, \"p\": 27864, \"fpr\": 0.12996999249812452, \"tpr\": 0.390862761986793, \"n\": 5332}, {\"threshold\": 0.8619999885559082, \"p\": 27864, \"fpr\": 0.12996999249812452, \"tpr\": 0.39082687338501293, \"n\": 5332}, {\"threshold\": 0.8629999756813049, \"p\": 27864, \"fpr\": 0.12996999249812452, \"tpr\": 0.39082687338501293, \"n\": 5332}, {\"threshold\": 0.8640000224113464, \"p\": 27864, \"fpr\": 0.12996999249812452, \"tpr\": 0.39082687338501293, \"n\": 5332}, {\"threshold\": 0.8650000095367432, \"p\": 27864, \"fpr\": 0.12996999249812452, \"tpr\": 0.39082687338501293, \"n\": 5332}, {\"threshold\": 0.8659999966621399, \"p\": 27864, \"fpr\": 0.12996999249812452, \"tpr\": 0.39082687338501293, \"n\": 5332}, {\"threshold\": 0.8669999837875366, \"p\": 27864, \"fpr\": 0.12996999249812452, \"tpr\": 0.39082687338501293, \"n\": 5332}, {\"threshold\": 0.8679999709129333, \"p\": 27864, \"fpr\": 0.12996999249812452, \"tpr\": 0.39082687338501293, \"n\": 5332}, {\"threshold\": 0.8690000176429749, \"p\": 27864, \"fpr\": 0.12978244561140284, \"tpr\": 0.3907909847832328, \"n\": 5332}, {\"threshold\": 0.8700000047683716, \"p\": 27864, \"fpr\": 0.12978244561140284, \"tpr\": 0.3907909847832328, \"n\": 5332}, {\"threshold\": 0.8709999918937683, \"p\": 27864, \"fpr\": 0.12978244561140284, \"tpr\": 0.3907909847832328, \"n\": 5332}, {\"threshold\": 0.871999979019165, \"p\": 27864, \"fpr\": 0.12978244561140284, \"tpr\": 0.3907909847832328, \"n\": 5332}, {\"threshold\": 0.8730000257492065, \"p\": 27864, \"fpr\": 0.12978244561140284, \"tpr\": 0.3907909847832328, \"n\": 5332}, {\"threshold\": 0.8740000128746033, \"p\": 27864, \"fpr\": 0.12978244561140284, \"tpr\": 0.3907909847832328, \"n\": 5332}, {\"threshold\": 0.875, \"p\": 27864, \"fpr\": 0.12978244561140284, \"tpr\": 0.3907909847832328, \"n\": 5332}, {\"threshold\": 0.8759999871253967, \"p\": 27864, \"fpr\": 0.12978244561140284, \"tpr\": 0.3907909847832328, \"n\": 5332}, {\"threshold\": 0.8769999742507935, \"p\": 27864, \"fpr\": 0.12978244561140284, \"tpr\": 0.3907909847832328, \"n\": 5332}, {\"threshold\": 0.878000020980835, \"p\": 27864, \"fpr\": 0.12978244561140284, \"tpr\": 0.3907909847832328, \"n\": 5332}, {\"threshold\": 0.8790000081062317, \"p\": 27864, \"fpr\": 0.12978244561140284, \"tpr\": 0.3907909847832328, \"n\": 5332}, {\"threshold\": 0.8799999952316284, \"p\": 27864, \"fpr\": 0.12978244561140284, \"tpr\": 0.3907909847832328, \"n\": 5332}, {\"threshold\": 0.8809999823570251, \"p\": 27864, \"fpr\": 0.12978244561140284, \"tpr\": 0.3907909847832328, \"n\": 5332}, {\"threshold\": 0.8820000290870667, \"p\": 27864, \"fpr\": 0.12978244561140284, \"tpr\": 0.3907909847832328, \"n\": 5332}, {\"threshold\": 0.8830000162124634, \"p\": 27864, \"fpr\": 0.12978244561140284, \"tpr\": 0.3907909847832328, \"n\": 5332}, {\"threshold\": 0.8840000033378601, \"p\": 27864, \"fpr\": 0.12978244561140284, \"tpr\": 0.3907909847832328, \"n\": 5332}, {\"threshold\": 0.8849999904632568, \"p\": 27864, \"fpr\": 0.12978244561140284, \"tpr\": 0.3907909847832328, \"n\": 5332}, {\"threshold\": 0.8859999775886536, \"p\": 27864, \"fpr\": 0.12978244561140284, \"tpr\": 0.3907909847832328, \"n\": 5332}, {\"threshold\": 0.8870000243186951, \"p\": 27864, \"fpr\": 0.12978244561140284, \"tpr\": 0.3907909847832328, \"n\": 5332}, {\"threshold\": 0.8880000114440918, \"p\": 27864, \"fpr\": 0.12978244561140284, \"tpr\": 0.3907909847832328, \"n\": 5332}, {\"threshold\": 0.8889999985694885, \"p\": 27864, \"fpr\": 0.12978244561140284, \"tpr\": 0.3907192075796727, \"n\": 5332}, {\"threshold\": 0.8899999856948853, \"p\": 27864, \"fpr\": 0.12978244561140284, \"tpr\": 0.3907192075796727, \"n\": 5332}, {\"threshold\": 0.890999972820282, \"p\": 27864, \"fpr\": 0.12978244561140284, \"tpr\": 0.3907192075796727, \"n\": 5332}, {\"threshold\": 0.8920000195503235, \"p\": 27864, \"fpr\": 0.12978244561140284, \"tpr\": 0.3907192075796727, \"n\": 5332}, {\"threshold\": 0.8930000066757202, \"p\": 27864, \"fpr\": 0.12978244561140284, \"tpr\": 0.3907192075796727, \"n\": 5332}, {\"threshold\": 0.8939999938011169, \"p\": 27864, \"fpr\": 0.12978244561140284, \"tpr\": 0.3907192075796727, \"n\": 5332}, {\"threshold\": 0.8949999809265137, \"p\": 27864, \"fpr\": 0.12978244561140284, \"tpr\": 0.3907192075796727, \"n\": 5332}, {\"threshold\": 0.8960000276565552, \"p\": 27864, \"fpr\": 0.12959489872468116, \"tpr\": 0.390396210163652, \"n\": 5332}, {\"threshold\": 0.8970000147819519, \"p\": 27864, \"fpr\": 0.12959489872468116, \"tpr\": 0.39036032156187195, \"n\": 5332}, {\"threshold\": 0.8980000019073486, \"p\": 27864, \"fpr\": 0.12940735183795948, \"tpr\": 0.3902167671547517, \"n\": 5332}, {\"threshold\": 0.8989999890327454, \"p\": 27864, \"fpr\": 0.12940735183795948, \"tpr\": 0.3902167671547517, \"n\": 5332}, {\"threshold\": 0.8999999761581421, \"p\": 27864, \"fpr\": 0.1292198049512378, \"tpr\": 0.3901449899511915, \"n\": 5332}, {\"threshold\": 0.9010000228881836, \"p\": 27864, \"fpr\": 0.1292198049512378, \"tpr\": 0.3901091013494114, \"n\": 5332}, {\"threshold\": 0.9020000100135803, \"p\": 27864, \"fpr\": 0.1292198049512378, \"tpr\": 0.3901091013494114, \"n\": 5332}, {\"threshold\": 0.902999997138977, \"p\": 27864, \"fpr\": 0.1292198049512378, \"tpr\": 0.3901091013494114, \"n\": 5332}, {\"threshold\": 0.9039999842643738, \"p\": 27864, \"fpr\": 0.1292198049512378, \"tpr\": 0.3900014355440712, \"n\": 5332}, {\"threshold\": 0.9049999713897705, \"p\": 27864, \"fpr\": 0.055326331582895724, \"tpr\": 0.2518303186907838, \"n\": 5332}, {\"threshold\": 0.906000018119812, \"p\": 27864, \"fpr\": 0.051950487621905475, \"tpr\": 0.24612403100775193, \"n\": 5332}, {\"threshold\": 0.9070000052452087, \"p\": 27864, \"fpr\": 0.051950487621905475, \"tpr\": 0.24612403100775193, \"n\": 5332}, {\"threshold\": 0.9079999923706055, \"p\": 27864, \"fpr\": 0.051950487621905475, \"tpr\": 0.24612403100775193, \"n\": 5332}, {\"threshold\": 0.9089999794960022, \"p\": 27864, \"fpr\": 0.051950487621905475, \"tpr\": 0.24612403100775193, \"n\": 5332}, {\"threshold\": 0.9100000262260437, \"p\": 27864, \"fpr\": 0.051950487621905475, \"tpr\": 0.24612403100775193, \"n\": 5332}, {\"threshold\": 0.9110000133514404, \"p\": 27864, \"fpr\": 0.051950487621905475, \"tpr\": 0.2460522538041918, \"n\": 5332}, {\"threshold\": 0.9120000004768372, \"p\": 27864, \"fpr\": 0.051950487621905475, \"tpr\": 0.2460522538041918, \"n\": 5332}, {\"threshold\": 0.9129999876022339, \"p\": 27864, \"fpr\": 0.051950487621905475, \"tpr\": 0.2460522538041918, \"n\": 5332}, {\"threshold\": 0.9139999747276306, \"p\": 27864, \"fpr\": 0.051950487621905475, \"tpr\": 0.2460522538041918, \"n\": 5332}, {\"threshold\": 0.9150000214576721, \"p\": 27864, \"fpr\": 0.051950487621905475, \"tpr\": 0.2460522538041918, \"n\": 5332}, {\"threshold\": 0.9160000085830688, \"p\": 27864, \"fpr\": 0.051950487621905475, \"tpr\": 0.2460522538041918, \"n\": 5332}, {\"threshold\": 0.9169999957084656, \"p\": 27864, \"fpr\": 0.051950487621905475, \"tpr\": 0.2460522538041918, \"n\": 5332}, {\"threshold\": 0.9179999828338623, \"p\": 27864, \"fpr\": 0.051950487621905475, \"tpr\": 0.2460522538041918, \"n\": 5332}, {\"threshold\": 0.9190000295639038, \"p\": 27864, \"fpr\": 0.050450112528132036, \"tpr\": 0.24074074074074073, \"n\": 5332}, {\"threshold\": 0.9200000166893005, \"p\": 27864, \"fpr\": 0.050450112528132036, \"tpr\": 0.24074074074074073, \"n\": 5332}, {\"threshold\": 0.9210000038146973, \"p\": 27864, \"fpr\": 0.050450112528132036, \"tpr\": 0.24070485213896067, \"n\": 5332}, {\"threshold\": 0.921999990940094, \"p\": 27864, \"fpr\": 0.050450112528132036, \"tpr\": 0.24070485213896067, \"n\": 5332}, {\"threshold\": 0.9229999780654907, \"p\": 27864, \"fpr\": 0.050450112528132036, \"tpr\": 0.24070485213896067, \"n\": 5332}, {\"threshold\": 0.9240000247955322, \"p\": 27864, \"fpr\": 0.050450112528132036, \"tpr\": 0.24070485213896067, \"n\": 5332}, {\"threshold\": 0.925000011920929, \"p\": 27864, \"fpr\": 0.050450112528132036, \"tpr\": 0.24070485213896067, \"n\": 5332}, {\"threshold\": 0.9259999990463257, \"p\": 27864, \"fpr\": 0.050450112528132036, \"tpr\": 0.24070485213896067, \"n\": 5332}, {\"threshold\": 0.9269999861717224, \"p\": 27864, \"fpr\": 0.050450112528132036, \"tpr\": 0.24070485213896067, \"n\": 5332}, {\"threshold\": 0.9279999732971191, \"p\": 27864, \"fpr\": 0.050450112528132036, \"tpr\": 0.24070485213896067, \"n\": 5332}, {\"threshold\": 0.9290000200271606, \"p\": 27864, \"fpr\": 0.050450112528132036, \"tpr\": 0.24070485213896067, \"n\": 5332}, {\"threshold\": 0.9300000071525574, \"p\": 27864, \"fpr\": 0.050450112528132036, \"tpr\": 0.24070485213896067, \"n\": 5332}, {\"threshold\": 0.9309999942779541, \"p\": 27864, \"fpr\": 0.050450112528132036, \"tpr\": 0.24070485213896067, \"n\": 5332}, {\"threshold\": 0.9319999814033508, \"p\": 27864, \"fpr\": 0.05026256564141035, \"tpr\": 0.2406689635371806, \"n\": 5332}, {\"threshold\": 0.9330000281333923, \"p\": 27864, \"fpr\": 0.05026256564141035, \"tpr\": 0.2406689635371806, \"n\": 5332}, {\"threshold\": 0.9340000152587891, \"p\": 27864, \"fpr\": 0.05026256564141035, \"tpr\": 0.2406689635371806, \"n\": 5332}, {\"threshold\": 0.9350000023841858, \"p\": 27864, \"fpr\": 0.049699924981245314, \"tpr\": 0.24027418891759977, \"n\": 5332}, {\"threshold\": 0.9359999895095825, \"p\": 27864, \"fpr\": 0.049699924981245314, \"tpr\": 0.2402024117140396, \"n\": 5332}, {\"threshold\": 0.9369999766349792, \"p\": 27864, \"fpr\": 0.049699924981245314, \"tpr\": 0.2402024117140396, \"n\": 5332}, {\"threshold\": 0.9380000233650208, \"p\": 27864, \"fpr\": 0.049699924981245314, \"tpr\": 0.24002296870513926, \"n\": 5332}, {\"threshold\": 0.9390000104904175, \"p\": 27864, \"fpr\": 0.049699924981245314, \"tpr\": 0.24002296870513926, \"n\": 5332}, {\"threshold\": 0.9399999976158142, \"p\": 27864, \"fpr\": 0.049699924981245314, \"tpr\": 0.24002296870513926, \"n\": 5332}, {\"threshold\": 0.9409999847412109, \"p\": 27864, \"fpr\": 0.017066766691672917, \"tpr\": 0.11017800746482917, \"n\": 5332}, {\"threshold\": 0.9419999718666077, \"p\": 27864, \"fpr\": 0.017066766691672917, \"tpr\": 0.11017800746482917, \"n\": 5332}, {\"threshold\": 0.9430000185966492, \"p\": 27864, \"fpr\": 0.017066766691672917, \"tpr\": 0.11017800746482917, \"n\": 5332}, {\"threshold\": 0.9440000057220459, \"p\": 27864, \"fpr\": 0.017066766691672917, \"tpr\": 0.11017800746482917, \"n\": 5332}, {\"threshold\": 0.9449999928474426, \"p\": 27864, \"fpr\": 0.017066766691672917, \"tpr\": 0.11017800746482917, \"n\": 5332}, {\"threshold\": 0.9459999799728394, \"p\": 27864, \"fpr\": 0.017066766691672917, \"tpr\": 0.11017800746482917, \"n\": 5332}, {\"threshold\": 0.9470000267028809, \"p\": 27864, \"fpr\": 0.017066766691672917, \"tpr\": 0.11017800746482917, \"n\": 5332}, {\"threshold\": 0.9480000138282776, \"p\": 27864, \"fpr\": 0.017066766691672917, \"tpr\": 0.11017800746482917, \"n\": 5332}, {\"threshold\": 0.9490000009536743, \"p\": 27864, \"fpr\": 0.017066766691672917, \"tpr\": 0.11017800746482917, \"n\": 5332}, {\"threshold\": 0.949999988079071, \"p\": 27864, \"fpr\": 0.017066766691672917, \"tpr\": 0.11017800746482917, \"n\": 5332}, {\"threshold\": 0.9509999752044678, \"p\": 27864, \"fpr\": 0.017066766691672917, \"tpr\": 0.11017800746482917, \"n\": 5332}, {\"threshold\": 0.9520000219345093, \"p\": 27864, \"fpr\": 0.017066766691672917, \"tpr\": 0.11017800746482917, \"n\": 5332}, {\"threshold\": 0.953000009059906, \"p\": 27864, \"fpr\": 0.017066766691672917, \"tpr\": 0.11017800746482917, \"n\": 5332}, {\"threshold\": 0.9539999961853027, \"p\": 27864, \"fpr\": 0.017066766691672917, \"tpr\": 0.11017800746482917, \"n\": 5332}, {\"threshold\": 0.9549999833106995, \"p\": 27864, \"fpr\": 0.01687921980495124, \"tpr\": 0.11003445305770887, \"n\": 5332}, {\"threshold\": 0.9559999704360962, \"p\": 27864, \"fpr\": 0.01687921980495124, \"tpr\": 0.11003445305770887, \"n\": 5332}, {\"threshold\": 0.9570000171661377, \"p\": 27864, \"fpr\": 0.01687921980495124, \"tpr\": 0.11003445305770887, \"n\": 5332}, {\"threshold\": 0.9580000042915344, \"p\": 27864, \"fpr\": 0.01687921980495124, \"tpr\": 0.1099985644559288, \"n\": 5332}, {\"threshold\": 0.9589999914169312, \"p\": 27864, \"fpr\": 0.011627906976744186, \"tpr\": 0.08731696813092162, \"n\": 5332}, {\"threshold\": 0.9599999785423279, \"p\": 27864, \"fpr\": 0.011440360090022505, \"tpr\": 0.08717341372380132, \"n\": 5332}, {\"threshold\": 0.9610000252723694, \"p\": 27864, \"fpr\": 0.011440360090022505, \"tpr\": 0.08688630490956073, \"n\": 5332}, {\"threshold\": 0.9620000123977661, \"p\": 27864, \"fpr\": 0.011440360090022505, \"tpr\": 0.08685041630778065, \"n\": 5332}, {\"threshold\": 0.9629999995231628, \"p\": 27864, \"fpr\": 0.011440360090022505, \"tpr\": 0.08685041630778065, \"n\": 5332}, {\"threshold\": 0.9639999866485596, \"p\": 27864, \"fpr\": 0.011440360090022505, \"tpr\": 0.08685041630778065, \"n\": 5332}, {\"threshold\": 0.9649999737739563, \"p\": 27864, \"fpr\": 0.011252813203300824, \"tpr\": 0.08505598621877691, \"n\": 5332}, {\"threshold\": 0.9660000205039978, \"p\": 27864, \"fpr\": 0.011252813203300824, \"tpr\": 0.08491243181165661, \"n\": 5332}, {\"threshold\": 0.9670000076293945, \"p\": 27864, \"fpr\": 0.011252813203300824, \"tpr\": 0.08491243181165661, \"n\": 5332}, {\"threshold\": 0.9679999947547913, \"p\": 27864, \"fpr\": 0.011252813203300824, \"tpr\": 0.08491243181165661, \"n\": 5332}, {\"threshold\": 0.968999981880188, \"p\": 27864, \"fpr\": 0.011252813203300824, \"tpr\": 0.08491243181165661, \"n\": 5332}, {\"threshold\": 0.9700000286102295, \"p\": 27864, \"fpr\": 0.011252813203300824, \"tpr\": 0.08487654320987655, \"n\": 5332}, {\"threshold\": 0.9710000157356262, \"p\": 27864, \"fpr\": 0.011252813203300824, \"tpr\": 0.08476887740453631, \"n\": 5332}, {\"threshold\": 0.972000002861023, \"p\": 27864, \"fpr\": 0.011252813203300824, \"tpr\": 0.08473298880275625, \"n\": 5332}, {\"threshold\": 0.9729999899864197, \"p\": 27864, \"fpr\": 0.011065266316579146, \"tpr\": 0.08458943439563595, \"n\": 5332}, {\"threshold\": 0.9739999771118164, \"p\": 27864, \"fpr\": 0.011065266316579146, \"tpr\": 0.08458943439563595, \"n\": 5332}, {\"threshold\": 0.9750000238418579, \"p\": 27864, \"fpr\": 0.004876219054763691, \"tpr\": 0.05103359173126615, \"n\": 5332}, {\"threshold\": 0.9760000109672546, \"p\": 27864, \"fpr\": 0.004876219054763691, \"tpr\": 0.05103359173126615, \"n\": 5332}, {\"threshold\": 0.9769999980926514, \"p\": 27864, \"fpr\": 0.004876219054763691, \"tpr\": 0.05099770312948607, \"n\": 5332}, {\"threshold\": 0.9779999852180481, \"p\": 27864, \"fpr\": 0.004876219054763691, \"tpr\": 0.05099770312948607, \"n\": 5332}, {\"threshold\": 0.9789999723434448, \"p\": 27864, \"fpr\": 0.00431357839459865, \"tpr\": 0.048916164226241746, \"n\": 5332}, {\"threshold\": 0.9800000190734863, \"p\": 27864, \"fpr\": 0.00431357839459865, \"tpr\": 0.048916164226241746, \"n\": 5332}, {\"threshold\": 0.9810000061988831, \"p\": 27864, \"fpr\": 0.00431357839459865, \"tpr\": 0.048844387022681596, \"n\": 5332}, {\"threshold\": 0.9819999933242798, \"p\": 27864, \"fpr\": 0.00431357839459865, \"tpr\": 0.048844387022681596, \"n\": 5332}, {\"threshold\": 0.9829999804496765, \"p\": 27864, \"fpr\": 0.003938484621155289, \"tpr\": 0.045111972437553834, \"n\": 5332}, {\"threshold\": 0.984000027179718, \"p\": 27864, \"fpr\": 0.003938484621155289, \"tpr\": 0.04507608383577376, \"n\": 5332}, {\"threshold\": 0.9850000143051147, \"p\": 27864, \"fpr\": 0.0018754688672168042, \"tpr\": 0.02648578811369509, \"n\": 5332}, {\"threshold\": 0.9860000014305115, \"p\": 27864, \"fpr\": 0.0016879219804951237, \"tpr\": 0.026126902095894345, \"n\": 5332}, {\"threshold\": 0.9869999885559082, \"p\": 27864, \"fpr\": 0.0016879219804951237, \"tpr\": 0.02609101349411427, \"n\": 5332}, {\"threshold\": 0.9879999756813049, \"p\": 27864, \"fpr\": 0.0016879219804951237, \"tpr\": 0.026055124892334195, \"n\": 5332}, {\"threshold\": 0.9890000224113464, \"p\": 27864, \"fpr\": 0.0016879219804951237, \"tpr\": 0.026055124892334195, \"n\": 5332}, {\"threshold\": 0.9900000095367432, \"p\": 27864, \"fpr\": 0.001312828207051763, \"tpr\": 0.01977461958082113, \"n\": 5332}, {\"threshold\": 0.9909999966621399, \"p\": 27864, \"fpr\": 0.001312828207051763, \"tpr\": 0.019738730979041056, \"n\": 5332}, {\"threshold\": 0.9919999837875366, \"p\": 27864, \"fpr\": 0.001312828207051763, \"tpr\": 0.019343956359460235, \"n\": 5332}, {\"threshold\": 0.9929999709129333, \"p\": 27864, \"fpr\": 0.0009377344336084021, \"tpr\": 0.018662072925638817, \"n\": 5332}, {\"threshold\": 0.9940000176429749, \"p\": 27864, \"fpr\": 0.0005626406601650412, \"tpr\": 0.012238013207005455, \"n\": 5332}, {\"threshold\": 0.9950000047683716, \"p\": 27864, \"fpr\": 0.0005626406601650412, \"tpr\": 0.011843238587424634, \"n\": 5332}, {\"threshold\": 0.9959999918937683, \"p\": 27864, \"fpr\": 0.00037509377344336085, \"tpr\": 0.010766580534022395, \"n\": 5332}, {\"threshold\": 0.996999979019165, \"p\": 27864, \"fpr\": 0.00037509377344336085, \"tpr\": 0.00663939132931381, \"n\": 5332}, {\"threshold\": 0.9980000257492065, \"p\": 27864, \"fpr\": 0.00018754688672168043, \"tpr\": 0.005132070054550675, \"n\": 5332}, {\"threshold\": 0.9990000128746033, \"p\": 27864, \"fpr\": 0.00018754688672168043, \"tpr\": 0.0028351995406258974, \"n\": 5332}, {\"threshold\": 1.0, \"p\": 27864, \"fpr\": 0.0, \"tpr\": 0.0, \"n\": 5332}]}]]}, e);\n",
       "                });\n",
       "            })();\n",
       "        "
      ]
     },
     "metadata": {},
     "output_type": "display_data"
    }
   ],
   "source": [
    "sentiment_model.show(view='Evaluation')"
   ]
  },
  {
   "cell_type": "markdown",
   "metadata": {
    "collapsed": true
   },
   "source": [
    "#### Q-5: Which of the following ranges contains the accuracy of the selected_words_model on the test_data?"
   ]
  },
  {
   "cell_type": "markdown",
   "metadata": {
    "collapsed": true
   },
   "source": [
    "A : 0.841 to 0.871"
   ]
  },
  {
   "cell_type": "markdown",
   "metadata": {
    "collapsed": true
   },
   "source": [
    "#### Q-6: Which of the following ranges contains the accuracy of the sentiment_model in the IPython Notebook from lecture on the test_data?"
   ]
  },
  {
   "cell_type": "markdown",
   "metadata": {
    "collapsed": true
   },
   "source": [
    "A : 0.90-0.93"
   ]
  },
  {
   "cell_type": "markdown",
   "metadata": {
    "collapsed": true
   },
   "source": [
    "#### Q-7: Which of the following ranges contains the accuracy of the majority class classifier, which simply predicts the majority class on the test_data?"
   ]
  },
  {
   "cell_type": "markdown",
   "metadata": {
    "collapsed": true
   },
   "source": [
    "(x)0.871 to 0.901\n",
    "\n",
    "() another up is wrong"
   ]
  },
  {
   "cell_type": "markdown",
   "metadata": {},
   "source": [
    "#### Q- 8 : How do you compare the different learned models with the baseline approach where we are just predicting the majority class? "
   ]
  },
  {
   "cell_type": "markdown",
   "metadata": {},
   "source": [
    "A:  The model learned using all words performed much better than the other two. The other two approaches performed about the same."
   ]
  },
  {
   "cell_type": "markdown",
   "metadata": {},
   "source": [
    "#### Q-9 : Which of the following ranges contains the ‘predicted_sentiment’ for the most positive review for ‘Baby Trend Diaper Champ’, according to the sentiment_model from the IPython Notebook from lecture?"
   ]
  },
  {
   "cell_type": "markdown",
   "metadata": {},
   "source": [
    "A: 0.9 - 1.0"
   ]
  },
  {
   "cell_type": "markdown",
   "metadata": {},
   "source": [
    "Q-10 : Consider the most positive review for ‘Baby Trend Diaper Champ’ according to the sentiment_model from the IPython Notebook from lecture. Which of the following ranges contains the predicted_sentiment for this review, if we use the selected_words_model to analyze it?"
   ]
  },
  {
   "cell_type": "markdown",
   "metadata": {},
   "source": [
    "A: 0.7-0.8"
   ]
  },
  {
   "cell_type": "markdown",
   "metadata": {},
   "source": [
    "Q-11 : Why is the value of the predicted_sentiment for the most positive review found using the sentiment_model much more positive than the value predicted using the selected_words_model?"
   ]
  },
  {
   "cell_type": "markdown",
   "metadata": {},
   "source": [
    "(x) This review was positive, but used too many of the negative words in selected_words.\n",
    "( ) "
   ]
  },
  {
   "cell_type": "markdown",
   "metadata": {},
   "source": [
    "### Examin Reviews:"
   ]
  },
  {
   "cell_type": "code",
   "execution_count": 136,
   "metadata": {
    "collapsed": true
   },
   "outputs": [],
   "source": [
    "diaper_reviews = products[products['name'] == 'Baby Trend Diaper Champ']"
   ]
  },
  {
   "cell_type": "code",
   "execution_count": 137,
   "metadata": {
    "collapsed": false
   },
   "outputs": [
    {
     "data": {
      "text/plain": [
       "298"
      ]
     },
     "execution_count": 137,
     "metadata": {},
     "output_type": "execute_result"
    }
   ],
   "source": [
    "len(diaper_reviews)"
   ]
  },
  {
   "cell_type": "code",
   "execution_count": 138,
   "metadata": {
    "collapsed": false
   },
   "outputs": [
    {
     "data": {
      "application/javascript": [
       "$(\"head\").append($(\"<link/>\").attr({\n",
       "  rel:  \"stylesheet\",\n",
       "  type: \"text/css\",\n",
       "  href: \"//cdnjs.cloudflare.com/ajax/libs/font-awesome/4.1.0/css/font-awesome.min.css\"\n",
       "}));\n",
       "$(\"head\").append($(\"<link/>\").attr({\n",
       "  rel:  \"stylesheet\",\n",
       "  type: \"text/css\",\n",
       "  href: \"//dato.com/files/canvas/1.6.1/css/canvas.css\"\n",
       "}));\n",
       "\n",
       "            (function(){\n",
       "\n",
       "                var e = null;\n",
       "                if (typeof element == 'undefined') {\n",
       "                    var scripts = document.getElementsByTagName('script');\n",
       "                    var thisScriptTag = scripts[scripts.length-1];\n",
       "                    var parentDiv = thisScriptTag.parentNode;\n",
       "                    e = document.createElement('div');\n",
       "                    parentDiv.appendChild(e);\n",
       "                } else {\n",
       "                    e = element[0];\n",
       "                }\n",
       "\n",
       "                if (typeof requirejs !== 'undefined') {\n",
       "                    // disable load timeout; ipython_app.js is large and can take a while to load.\n",
       "                    requirejs.config({waitSeconds: 0});\n",
       "                }\n",
       "\n",
       "                require(['//dato.com/files/canvas/1.6.1/js/ipython_app.js'], function(IPythonApp){\n",
       "                    var app = new IPythonApp();\n",
       "                    app.attachView('sarray','Categorical', {\"ipython\": true, \"sketch\": {\"std\": 1.3302353729587986, \"complete\": true, \"min\": 1.0, \"max\": 5.0, \"quantile\": [1.0, 1.0, 1.0, 1.0, 1.0, 1.0, 1.0, 1.0, 1.0, 1.0, 1.0, 2.0, 2.0, 2.0, 2.0, 2.0, 2.0, 4.0, 4.0, 4.0, 4.0, 4.0, 4.0, 4.0, 4.0, 4.0, 4.0, 4.0, 4.0, 4.0, 4.0, 4.0, 4.0, 4.0, 4.0, 4.0, 4.0, 5.0, 5.0, 5.0, 5.0, 5.0, 5.0, 5.0, 5.0, 5.0, 5.0, 5.0, 5.0, 5.0, 5.0, 5.0, 5.0, 5.0, 5.0, 5.0, 5.0, 5.0, 5.0, 5.0, 5.0, 5.0, 5.0, 5.0, 5.0, 5.0, 5.0, 5.0, 5.0, 5.0, 5.0, 5.0, 5.0, 5.0, 5.0, 5.0, 5.0, 5.0, 5.0, 5.0, 5.0, 5.0, 5.0, 5.0, 5.0, 5.0, 5.0, 5.0, 5.0, 5.0, 5.0, 5.0, 5.0, 5.0, 5.0, 5.0, 5.0, 5.0, 5.0, 5.0, 5.0], \"median\": 5.0, \"numeric\": true, \"num_unique\": 4, \"num_undefined\": 0, \"var\": 1.7695261474708341, \"progress\": 1.0, \"size\": 298, \"frequent_items\": {\"1.0\": {\"frequency\": 30, \"value\": 1.0}, \"2.0\": {\"frequency\": 20, \"value\": 2.0}, \"4.0\": {\"frequency\": 59, \"value\": 4.0}, \"5.0\": {\"frequency\": 189, \"value\": 5.0}}, \"mean\": 4.197986577181208}, \"selected_variable\": {\"name\": [\"<SArray>\"], \"dtype\": \"float\", \"view_component\": \"Categorical\", \"view_file\": \"sarray\", \"descriptives\": {\"rows\": 298}, \"type\": \"SArray\", \"view_components\": [\"Numeric\", \"Categorical\"]}, \"histogram\": {\"progress\": 1.0, \"histogram\": {\"max\": 5.0200000000000005, \"bins\": [30, 0, 0, 20, 0, 0, 0, 0, 59, 0, 0, 189], \"min\": 0.988}, \"min\": 1.0, \"complete\": 1, \"max\": 5.0}}, e);\n",
       "                });\n",
       "            })();\n",
       "        "
      ]
     },
     "metadata": {},
     "output_type": "display_data"
    }
   ],
   "source": [
    "diaper_reviews['rating'].show(view='Categorical')"
   ]
  },
  {
   "cell_type": "code",
   "execution_count": 139,
   "metadata": {
    "collapsed": true
   },
   "outputs": [],
   "source": [
    "diaper_reviews['predicted_sentiment'] = sentiment_model.predict(diaper_reviews, output_type='probability')"
   ]
  },
  {
   "cell_type": "code",
   "execution_count": 140,
   "metadata": {
    "collapsed": false
   },
   "outputs": [
    {
     "data": {
      "text/html": [
       "<div style=\"max-height:1000px;max-width:1500px;overflow:auto;\"><table frame=\"box\" rules=\"cols\">\n",
       "    <tr>\n",
       "        <th style=\"padding-left: 1em; padding-right: 1em; text-align: center\">name</th>\n",
       "        <th style=\"padding-left: 1em; padding-right: 1em; text-align: center\">review</th>\n",
       "        <th style=\"padding-left: 1em; padding-right: 1em; text-align: center\">rating</th>\n",
       "        <th style=\"padding-left: 1em; padding-right: 1em; text-align: center\">word_count</th>\n",
       "        <th style=\"padding-left: 1em; padding-right: 1em; text-align: center\">awesome</th>\n",
       "        <th style=\"padding-left: 1em; padding-right: 1em; text-align: center\">great</th>\n",
       "        <th style=\"padding-left: 1em; padding-right: 1em; text-align: center\">fantastic</th>\n",
       "    </tr>\n",
       "    <tr>\n",
       "        <td style=\"padding-left: 1em; padding-right: 1em; text-align: center; vertical-align: top\">Baby Trend Diaper Champ</td>\n",
       "        <td style=\"padding-left: 1em; padding-right: 1em; text-align: center; vertical-align: top\">Ok - newsflash.  Diapers<br>are just smelly.  We've ...</td>\n",
       "        <td style=\"padding-left: 1em; padding-right: 1em; text-align: center; vertical-align: top\">4.0</td>\n",
       "        <td style=\"padding-left: 1em; padding-right: 1em; text-align: center; vertical-align: top\">{'son': 1, 'just': 2,<br>'less': 1, '-': 3, ...</td>\n",
       "        <td style=\"padding-left: 1em; padding-right: 1em; text-align: center; vertical-align: top\">0</td>\n",
       "        <td style=\"padding-left: 1em; padding-right: 1em; text-align: center; vertical-align: top\">0</td>\n",
       "        <td style=\"padding-left: 1em; padding-right: 1em; text-align: center; vertical-align: top\">0</td>\n",
       "    </tr>\n",
       "    <tr>\n",
       "        <td style=\"padding-left: 1em; padding-right: 1em; text-align: center; vertical-align: top\">Baby Trend Diaper Champ</td>\n",
       "        <td style=\"padding-left: 1em; padding-right: 1em; text-align: center; vertical-align: top\">My husband and I selected<br>the Diaper \"Champ\" ma ...</td>\n",
       "        <td style=\"padding-left: 1em; padding-right: 1em; text-align: center; vertical-align: top\">1.0</td>\n",
       "        <td style=\"padding-left: 1em; padding-right: 1em; text-align: center; vertical-align: top\">{'material)': 1, 'bags,':<br>1, 'less': 1, 'when': 3, ...</td>\n",
       "        <td style=\"padding-left: 1em; padding-right: 1em; text-align: center; vertical-align: top\">0</td>\n",
       "        <td style=\"padding-left: 1em; padding-right: 1em; text-align: center; vertical-align: top\">0</td>\n",
       "        <td style=\"padding-left: 1em; padding-right: 1em; text-align: center; vertical-align: top\">0</td>\n",
       "    </tr>\n",
       "    <tr>\n",
       "        <td style=\"padding-left: 1em; padding-right: 1em; text-align: center; vertical-align: top\">Baby Trend Diaper Champ</td>\n",
       "        <td style=\"padding-left: 1em; padding-right: 1em; text-align: center; vertical-align: top\">Excellent diaper disposal<br>unit.  I used it in ...</td>\n",
       "        <td style=\"padding-left: 1em; padding-right: 1em; text-align: center; vertical-align: top\">5.0</td>\n",
       "        <td style=\"padding-left: 1em; padding-right: 1em; text-align: center; vertical-align: top\">{'control': 1, 'am': 1,<br>'it': 1, 'used': 1, ' ...</td>\n",
       "        <td style=\"padding-left: 1em; padding-right: 1em; text-align: center; vertical-align: top\">0</td>\n",
       "        <td style=\"padding-left: 1em; padding-right: 1em; text-align: center; vertical-align: top\">0</td>\n",
       "        <td style=\"padding-left: 1em; padding-right: 1em; text-align: center; vertical-align: top\">0</td>\n",
       "    </tr>\n",
       "    <tr>\n",
       "        <td style=\"padding-left: 1em; padding-right: 1em; text-align: center; vertical-align: top\">Baby Trend Diaper Champ</td>\n",
       "        <td style=\"padding-left: 1em; padding-right: 1em; text-align: center; vertical-align: top\">We love our diaper champ.<br>It is very easy to use ...</td>\n",
       "        <td style=\"padding-left: 1em; padding-right: 1em; text-align: center; vertical-align: top\">5.0</td>\n",
       "        <td style=\"padding-left: 1em; padding-right: 1em; text-align: center; vertical-align: top\">{'and': 3, 'over.': 1,<br>'all': 1, 'bags.': 1, ...</td>\n",
       "        <td style=\"padding-left: 1em; padding-right: 1em; text-align: center; vertical-align: top\">0</td>\n",
       "        <td style=\"padding-left: 1em; padding-right: 1em; text-align: center; vertical-align: top\">0</td>\n",
       "        <td style=\"padding-left: 1em; padding-right: 1em; text-align: center; vertical-align: top\">0</td>\n",
       "    </tr>\n",
       "    <tr>\n",
       "        <td style=\"padding-left: 1em; padding-right: 1em; text-align: center; vertical-align: top\">Baby Trend Diaper Champ</td>\n",
       "        <td style=\"padding-left: 1em; padding-right: 1em; text-align: center; vertical-align: top\">Two girlfriends and two<br>family members put me ...</td>\n",
       "        <td style=\"padding-left: 1em; padding-right: 1em; text-align: center; vertical-align: top\">5.0</td>\n",
       "        <td style=\"padding-left: 1em; padding-right: 1em; text-align: center; vertical-align: top\">{'just': 1, '-': 3,<br>'both': 1, 'results': 1, ...</td>\n",
       "        <td style=\"padding-left: 1em; padding-right: 1em; text-align: center; vertical-align: top\">0</td>\n",
       "        <td style=\"padding-left: 1em; padding-right: 1em; text-align: center; vertical-align: top\">0</td>\n",
       "        <td style=\"padding-left: 1em; padding-right: 1em; text-align: center; vertical-align: top\">0</td>\n",
       "    </tr>\n",
       "    <tr>\n",
       "        <td style=\"padding-left: 1em; padding-right: 1em; text-align: center; vertical-align: top\">Baby Trend Diaper Champ</td>\n",
       "        <td style=\"padding-left: 1em; padding-right: 1em; text-align: center; vertical-align: top\">I waited to review this<br>until I saw how it ...</td>\n",
       "        <td style=\"padding-left: 1em; padding-right: 1em; text-align: center; vertical-align: top\">4.0</td>\n",
       "        <td style=\"padding-left: 1em; padding-right: 1em; text-align: center; vertical-align: top\">{'lysol': 1, 'all': 1,<br>'mom.': 1, 'busy': 1, ...</td>\n",
       "        <td style=\"padding-left: 1em; padding-right: 1em; text-align: center; vertical-align: top\">0</td>\n",
       "        <td style=\"padding-left: 1em; padding-right: 1em; text-align: center; vertical-align: top\">0</td>\n",
       "        <td style=\"padding-left: 1em; padding-right: 1em; text-align: center; vertical-align: top\">0</td>\n",
       "    </tr>\n",
       "    <tr>\n",
       "        <td style=\"padding-left: 1em; padding-right: 1em; text-align: center; vertical-align: top\">Baby Trend Diaper Champ</td>\n",
       "        <td style=\"padding-left: 1em; padding-right: 1em; text-align: center; vertical-align: top\">I have had a diaper genie<br>for almost 4 years since ...</td>\n",
       "        <td style=\"padding-left: 1em; padding-right: 1em; text-align: center; vertical-align: top\">1.0</td>\n",
       "        <td style=\"padding-left: 1em; padding-right: 1em; text-align: center; vertical-align: top\">{'all': 1, 'bags.': 1,<br>'just': 1, \"don't\": 2, ...</td>\n",
       "        <td style=\"padding-left: 1em; padding-right: 1em; text-align: center; vertical-align: top\">0</td>\n",
       "        <td style=\"padding-left: 1em; padding-right: 1em; text-align: center; vertical-align: top\">0</td>\n",
       "        <td style=\"padding-left: 1em; padding-right: 1em; text-align: center; vertical-align: top\">0</td>\n",
       "    </tr>\n",
       "    <tr>\n",
       "        <td style=\"padding-left: 1em; padding-right: 1em; text-align: center; vertical-align: top\">Baby Trend Diaper Champ</td>\n",
       "        <td style=\"padding-left: 1em; padding-right: 1em; text-align: center; vertical-align: top\">I originally put this<br>item on my baby registry ...</td>\n",
       "        <td style=\"padding-left: 1em; padding-right: 1em; text-align: center; vertical-align: top\">5.0</td>\n",
       "        <td style=\"padding-left: 1em; padding-right: 1em; text-align: center; vertical-align: top\">{'lysol': 1, 'all': 2,<br>'bags.': 1, 'feedback': ...</td>\n",
       "        <td style=\"padding-left: 1em; padding-right: 1em; text-align: center; vertical-align: top\">0</td>\n",
       "        <td style=\"padding-left: 1em; padding-right: 1em; text-align: center; vertical-align: top\">0</td>\n",
       "        <td style=\"padding-left: 1em; padding-right: 1em; text-align: center; vertical-align: top\">0</td>\n",
       "    </tr>\n",
       "    <tr>\n",
       "        <td style=\"padding-left: 1em; padding-right: 1em; text-align: center; vertical-align: top\">Baby Trend Diaper Champ</td>\n",
       "        <td style=\"padding-left: 1em; padding-right: 1em; text-align: center; vertical-align: top\">I am so glad I got the<br>Diaper Champ instead of ...</td>\n",
       "        <td style=\"padding-left: 1em; padding-right: 1em; text-align: center; vertical-align: top\">5.0</td>\n",
       "        <td style=\"padding-left: 1em; padding-right: 1em; text-align: center; vertical-align: top\">{'and': 2, 'all': 1,<br>'just': 1, 'is': 2, ' ...</td>\n",
       "        <td style=\"padding-left: 1em; padding-right: 1em; text-align: center; vertical-align: top\">0</td>\n",
       "        <td style=\"padding-left: 1em; padding-right: 1em; text-align: center; vertical-align: top\">0</td>\n",
       "        <td style=\"padding-left: 1em; padding-right: 1em; text-align: center; vertical-align: top\">0</td>\n",
       "    </tr>\n",
       "    <tr>\n",
       "        <td style=\"padding-left: 1em; padding-right: 1em; text-align: center; vertical-align: top\">Baby Trend Diaper Champ</td>\n",
       "        <td style=\"padding-left: 1em; padding-right: 1em; text-align: center; vertical-align: top\">We had 2 diaper Genie's<br>both given to us as a ...</td>\n",
       "        <td style=\"padding-left: 1em; padding-right: 1em; text-align: center; vertical-align: top\">4.0</td>\n",
       "        <td style=\"padding-left: 1em; padding-right: 1em; text-align: center; vertical-align: top\">{'hand.': 1, 'both': 1,<br>'(required': 1, 'befo ...</td>\n",
       "        <td style=\"padding-left: 1em; padding-right: 1em; text-align: center; vertical-align: top\">0</td>\n",
       "        <td style=\"padding-left: 1em; padding-right: 1em; text-align: center; vertical-align: top\">0</td>\n",
       "        <td style=\"padding-left: 1em; padding-right: 1em; text-align: center; vertical-align: top\">0</td>\n",
       "    </tr>\n",
       "</table>\n",
       "<table frame=\"box\" rules=\"cols\">\n",
       "    <tr>\n",
       "        <th style=\"padding-left: 1em; padding-right: 1em; text-align: center\">amazing</th>\n",
       "        <th style=\"padding-left: 1em; padding-right: 1em; text-align: center\">love</th>\n",
       "        <th style=\"padding-left: 1em; padding-right: 1em; text-align: center\">horrible</th>\n",
       "        <th style=\"padding-left: 1em; padding-right: 1em; text-align: center\">bad</th>\n",
       "        <th style=\"padding-left: 1em; padding-right: 1em; text-align: center\">terrible</th>\n",
       "        <th style=\"padding-left: 1em; padding-right: 1em; text-align: center\">awful</th>\n",
       "        <th style=\"padding-left: 1em; padding-right: 1em; text-align: center\">hate</th>\n",
       "        <th style=\"padding-left: 1em; padding-right: 1em; text-align: center\">wow</th>\n",
       "        <th style=\"padding-left: 1em; padding-right: 1em; text-align: center\">sentiment</th>\n",
       "        <th style=\"padding-left: 1em; padding-right: 1em; text-align: center\">predicted_sentiment</th>\n",
       "    </tr>\n",
       "    <tr>\n",
       "        <td style=\"padding-left: 1em; padding-right: 1em; text-align: center; vertical-align: top\">0</td>\n",
       "        <td style=\"padding-left: 1em; padding-right: 1em; text-align: center; vertical-align: top\">0</td>\n",
       "        <td style=\"padding-left: 1em; padding-right: 1em; text-align: center; vertical-align: top\">0</td>\n",
       "        <td style=\"padding-left: 1em; padding-right: 1em; text-align: center; vertical-align: top\">0</td>\n",
       "        <td style=\"padding-left: 1em; padding-right: 1em; text-align: center; vertical-align: top\">0</td>\n",
       "        <td style=\"padding-left: 1em; padding-right: 1em; text-align: center; vertical-align: top\">0</td>\n",
       "        <td style=\"padding-left: 1em; padding-right: 1em; text-align: center; vertical-align: top\">0</td>\n",
       "        <td style=\"padding-left: 1em; padding-right: 1em; text-align: center; vertical-align: top\">0</td>\n",
       "        <td style=\"padding-left: 1em; padding-right: 1em; text-align: center; vertical-align: top\">1</td>\n",
       "        <td style=\"padding-left: 1em; padding-right: 1em; text-align: center; vertical-align: top\">0.796940851291</td>\n",
       "    </tr>\n",
       "    <tr>\n",
       "        <td style=\"padding-left: 1em; padding-right: 1em; text-align: center; vertical-align: top\">0</td>\n",
       "        <td style=\"padding-left: 1em; padding-right: 1em; text-align: center; vertical-align: top\">0</td>\n",
       "        <td style=\"padding-left: 1em; padding-right: 1em; text-align: center; vertical-align: top\">0</td>\n",
       "        <td style=\"padding-left: 1em; padding-right: 1em; text-align: center; vertical-align: top\">0</td>\n",
       "        <td style=\"padding-left: 1em; padding-right: 1em; text-align: center; vertical-align: top\">0</td>\n",
       "        <td style=\"padding-left: 1em; padding-right: 1em; text-align: center; vertical-align: top\">0</td>\n",
       "        <td style=\"padding-left: 1em; padding-right: 1em; text-align: center; vertical-align: top\">0</td>\n",
       "        <td style=\"padding-left: 1em; padding-right: 1em; text-align: center; vertical-align: top\">0</td>\n",
       "        <td style=\"padding-left: 1em; padding-right: 1em; text-align: center; vertical-align: top\">0</td>\n",
       "        <td style=\"padding-left: 1em; padding-right: 1em; text-align: center; vertical-align: top\">0.796940851291</td>\n",
       "    </tr>\n",
       "    <tr>\n",
       "        <td style=\"padding-left: 1em; padding-right: 1em; text-align: center; vertical-align: top\">0</td>\n",
       "        <td style=\"padding-left: 1em; padding-right: 1em; text-align: center; vertical-align: top\">0</td>\n",
       "        <td style=\"padding-left: 1em; padding-right: 1em; text-align: center; vertical-align: top\">0</td>\n",
       "        <td style=\"padding-left: 1em; padding-right: 1em; text-align: center; vertical-align: top\">0</td>\n",
       "        <td style=\"padding-left: 1em; padding-right: 1em; text-align: center; vertical-align: top\">0</td>\n",
       "        <td style=\"padding-left: 1em; padding-right: 1em; text-align: center; vertical-align: top\">0</td>\n",
       "        <td style=\"padding-left: 1em; padding-right: 1em; text-align: center; vertical-align: top\">0</td>\n",
       "        <td style=\"padding-left: 1em; padding-right: 1em; text-align: center; vertical-align: top\">0</td>\n",
       "        <td style=\"padding-left: 1em; padding-right: 1em; text-align: center; vertical-align: top\">1</td>\n",
       "        <td style=\"padding-left: 1em; padding-right: 1em; text-align: center; vertical-align: top\">0.796940851291</td>\n",
       "    </tr>\n",
       "    <tr>\n",
       "        <td style=\"padding-left: 1em; padding-right: 1em; text-align: center; vertical-align: top\">0</td>\n",
       "        <td style=\"padding-left: 1em; padding-right: 1em; text-align: center; vertical-align: top\">1</td>\n",
       "        <td style=\"padding-left: 1em; padding-right: 1em; text-align: center; vertical-align: top\">0</td>\n",
       "        <td style=\"padding-left: 1em; padding-right: 1em; text-align: center; vertical-align: top\">0</td>\n",
       "        <td style=\"padding-left: 1em; padding-right: 1em; text-align: center; vertical-align: top\">0</td>\n",
       "        <td style=\"padding-left: 1em; padding-right: 1em; text-align: center; vertical-align: top\">0</td>\n",
       "        <td style=\"padding-left: 1em; padding-right: 1em; text-align: center; vertical-align: top\">0</td>\n",
       "        <td style=\"padding-left: 1em; padding-right: 1em; text-align: center; vertical-align: top\">0</td>\n",
       "        <td style=\"padding-left: 1em; padding-right: 1em; text-align: center; vertical-align: top\">1</td>\n",
       "        <td style=\"padding-left: 1em; padding-right: 1em; text-align: center; vertical-align: top\">0.940876393428</td>\n",
       "    </tr>\n",
       "    <tr>\n",
       "        <td style=\"padding-left: 1em; padding-right: 1em; text-align: center; vertical-align: top\">0</td>\n",
       "        <td style=\"padding-left: 1em; padding-right: 1em; text-align: center; vertical-align: top\">0</td>\n",
       "        <td style=\"padding-left: 1em; padding-right: 1em; text-align: center; vertical-align: top\">1</td>\n",
       "        <td style=\"padding-left: 1em; padding-right: 1em; text-align: center; vertical-align: top\">0</td>\n",
       "        <td style=\"padding-left: 1em; padding-right: 1em; text-align: center; vertical-align: top\">0</td>\n",
       "        <td style=\"padding-left: 1em; padding-right: 1em; text-align: center; vertical-align: top\">0</td>\n",
       "        <td style=\"padding-left: 1em; padding-right: 1em; text-align: center; vertical-align: top\">0</td>\n",
       "        <td style=\"padding-left: 1em; padding-right: 1em; text-align: center; vertical-align: top\">0</td>\n",
       "        <td style=\"padding-left: 1em; padding-right: 1em; text-align: center; vertical-align: top\">1</td>\n",
       "        <td style=\"padding-left: 1em; padding-right: 1em; text-align: center; vertical-align: top\">0.347684052736</td>\n",
       "    </tr>\n",
       "    <tr>\n",
       "        <td style=\"padding-left: 1em; padding-right: 1em; text-align: center; vertical-align: top\">0</td>\n",
       "        <td style=\"padding-left: 1em; padding-right: 1em; text-align: center; vertical-align: top\">0</td>\n",
       "        <td style=\"padding-left: 1em; padding-right: 1em; text-align: center; vertical-align: top\">0</td>\n",
       "        <td style=\"padding-left: 1em; padding-right: 1em; text-align: center; vertical-align: top\">1</td>\n",
       "        <td style=\"padding-left: 1em; padding-right: 1em; text-align: center; vertical-align: top\">0</td>\n",
       "        <td style=\"padding-left: 1em; padding-right: 1em; text-align: center; vertical-align: top\">0</td>\n",
       "        <td style=\"padding-left: 1em; padding-right: 1em; text-align: center; vertical-align: top\">0</td>\n",
       "        <td style=\"padding-left: 1em; padding-right: 1em; text-align: center; vertical-align: top\">0</td>\n",
       "        <td style=\"padding-left: 1em; padding-right: 1em; text-align: center; vertical-align: top\">1</td>\n",
       "        <td style=\"padding-left: 1em; padding-right: 1em; text-align: center; vertical-align: top\">0.5942241719</td>\n",
       "    </tr>\n",
       "    <tr>\n",
       "        <td style=\"padding-left: 1em; padding-right: 1em; text-align: center; vertical-align: top\">0</td>\n",
       "        <td style=\"padding-left: 1em; padding-right: 1em; text-align: center; vertical-align: top\">0</td>\n",
       "        <td style=\"padding-left: 1em; padding-right: 1em; text-align: center; vertical-align: top\">0</td>\n",
       "        <td style=\"padding-left: 1em; padding-right: 1em; text-align: center; vertical-align: top\">0</td>\n",
       "        <td style=\"padding-left: 1em; padding-right: 1em; text-align: center; vertical-align: top\">0</td>\n",
       "        <td style=\"padding-left: 1em; padding-right: 1em; text-align: center; vertical-align: top\">0</td>\n",
       "        <td style=\"padding-left: 1em; padding-right: 1em; text-align: center; vertical-align: top\">0</td>\n",
       "        <td style=\"padding-left: 1em; padding-right: 1em; text-align: center; vertical-align: top\">0</td>\n",
       "        <td style=\"padding-left: 1em; padding-right: 1em; text-align: center; vertical-align: top\">0</td>\n",
       "        <td style=\"padding-left: 1em; padding-right: 1em; text-align: center; vertical-align: top\">0.796940851291</td>\n",
       "    </tr>\n",
       "    <tr>\n",
       "        <td style=\"padding-left: 1em; padding-right: 1em; text-align: center; vertical-align: top\">0</td>\n",
       "        <td style=\"padding-left: 1em; padding-right: 1em; text-align: center; vertical-align: top\">0</td>\n",
       "        <td style=\"padding-left: 1em; padding-right: 1em; text-align: center; vertical-align: top\">0</td>\n",
       "        <td style=\"padding-left: 1em; padding-right: 1em; text-align: center; vertical-align: top\">0</td>\n",
       "        <td style=\"padding-left: 1em; padding-right: 1em; text-align: center; vertical-align: top\">0</td>\n",
       "        <td style=\"padding-left: 1em; padding-right: 1em; text-align: center; vertical-align: top\">0</td>\n",
       "        <td style=\"padding-left: 1em; padding-right: 1em; text-align: center; vertical-align: top\">0</td>\n",
       "        <td style=\"padding-left: 1em; padding-right: 1em; text-align: center; vertical-align: top\">0</td>\n",
       "        <td style=\"padding-left: 1em; padding-right: 1em; text-align: center; vertical-align: top\">1</td>\n",
       "        <td style=\"padding-left: 1em; padding-right: 1em; text-align: center; vertical-align: top\">0.796940851291</td>\n",
       "    </tr>\n",
       "    <tr>\n",
       "        <td style=\"padding-left: 1em; padding-right: 1em; text-align: center; vertical-align: top\">0</td>\n",
       "        <td style=\"padding-left: 1em; padding-right: 1em; text-align: center; vertical-align: top\">0</td>\n",
       "        <td style=\"padding-left: 1em; padding-right: 1em; text-align: center; vertical-align: top\">0</td>\n",
       "        <td style=\"padding-left: 1em; padding-right: 1em; text-align: center; vertical-align: top\">0</td>\n",
       "        <td style=\"padding-left: 1em; padding-right: 1em; text-align: center; vertical-align: top\">0</td>\n",
       "        <td style=\"padding-left: 1em; padding-right: 1em; text-align: center; vertical-align: top\">0</td>\n",
       "        <td style=\"padding-left: 1em; padding-right: 1em; text-align: center; vertical-align: top\">0</td>\n",
       "        <td style=\"padding-left: 1em; padding-right: 1em; text-align: center; vertical-align: top\">0</td>\n",
       "        <td style=\"padding-left: 1em; padding-right: 1em; text-align: center; vertical-align: top\">1</td>\n",
       "        <td style=\"padding-left: 1em; padding-right: 1em; text-align: center; vertical-align: top\">0.796940851291</td>\n",
       "    </tr>\n",
       "    <tr>\n",
       "        <td style=\"padding-left: 1em; padding-right: 1em; text-align: center; vertical-align: top\">0</td>\n",
       "        <td style=\"padding-left: 1em; padding-right: 1em; text-align: center; vertical-align: top\">2</td>\n",
       "        <td style=\"padding-left: 1em; padding-right: 1em; text-align: center; vertical-align: top\">0</td>\n",
       "        <td style=\"padding-left: 1em; padding-right: 1em; text-align: center; vertical-align: top\">0</td>\n",
       "        <td style=\"padding-left: 1em; padding-right: 1em; text-align: center; vertical-align: top\">0</td>\n",
       "        <td style=\"padding-left: 1em; padding-right: 1em; text-align: center; vertical-align: top\">0</td>\n",
       "        <td style=\"padding-left: 1em; padding-right: 1em; text-align: center; vertical-align: top\">0</td>\n",
       "        <td style=\"padding-left: 1em; padding-right: 1em; text-align: center; vertical-align: top\">0</td>\n",
       "        <td style=\"padding-left: 1em; padding-right: 1em; text-align: center; vertical-align: top\">1</td>\n",
       "        <td style=\"padding-left: 1em; padding-right: 1em; text-align: center; vertical-align: top\">0.984739056527</td>\n",
       "    </tr>\n",
       "</table>\n",
       "[10 rows x 17 columns]<br/>\n",
       "</div>"
      ],
      "text/plain": [
       "Columns:\n",
       "\tname\tstr\n",
       "\treview\tstr\n",
       "\trating\tfloat\n",
       "\tword_count\tdict\n",
       "\tawesome\tint\n",
       "\tgreat\tint\n",
       "\tfantastic\tint\n",
       "\tamazing\tint\n",
       "\tlove\tint\n",
       "\thorrible\tint\n",
       "\tbad\tint\n",
       "\tterrible\tint\n",
       "\tawful\tint\n",
       "\thate\tint\n",
       "\twow\tint\n",
       "\tsentiment\tint\n",
       "\tpredicted_sentiment\tfloat\n",
       "\n",
       "Rows: 10\n",
       "\n",
       "Data:\n",
       "+-------------------------+-------------------------------+--------+\n",
       "|           name          |             review            | rating |\n",
       "+-------------------------+-------------------------------+--------+\n",
       "| Baby Trend Diaper Champ | Ok - newsflash.  Diapers a... |  4.0   |\n",
       "| Baby Trend Diaper Champ | My husband and I selected ... |  1.0   |\n",
       "| Baby Trend Diaper Champ | Excellent diaper disposal ... |  5.0   |\n",
       "| Baby Trend Diaper Champ | We love our diaper champ. ... |  5.0   |\n",
       "| Baby Trend Diaper Champ | Two girlfriends and two fa... |  5.0   |\n",
       "| Baby Trend Diaper Champ | I waited to review this un... |  4.0   |\n",
       "| Baby Trend Diaper Champ | I have had a diaper genie ... |  1.0   |\n",
       "| Baby Trend Diaper Champ | I originally put this item... |  5.0   |\n",
       "| Baby Trend Diaper Champ | I am so glad I got the Dia... |  5.0   |\n",
       "| Baby Trend Diaper Champ | We had 2 diaper Genie's bo... |  4.0   |\n",
       "+-------------------------+-------------------------------+--------+\n",
       "+-------------------------------+---------+-------+-----------+---------+------+\n",
       "|           word_count          | awesome | great | fantastic | amazing | love |\n",
       "+-------------------------------+---------+-------+-----------+---------+------+\n",
       "| {'son': 1, 'just': 2, 'les... |    0    |   0   |     0     |    0    |  0   |\n",
       "| {'material)': 1, 'bags,': ... |    0    |   0   |     0     |    0    |  0   |\n",
       "| {'control': 1, 'am': 1, 'i... |    0    |   0   |     0     |    0    |  0   |\n",
       "| {'and': 3, 'over.': 1, 'al... |    0    |   0   |     0     |    0    |  1   |\n",
       "| {'just': 1, '-': 3, 'both'... |    0    |   0   |     0     |    0    |  0   |\n",
       "| {'lysol': 1, 'all': 1, 'mo... |    0    |   0   |     0     |    0    |  0   |\n",
       "| {'all': 1, 'bags.': 1, 'ju... |    0    |   0   |     0     |    0    |  0   |\n",
       "| {'lysol': 1, 'all': 2, 'ba... |    0    |   0   |     0     |    0    |  0   |\n",
       "| {'and': 2, 'all': 1, 'just... |    0    |   0   |     0     |    0    |  0   |\n",
       "| {'hand.': 1, 'both': 1, '(... |    0    |   0   |     0     |    0    |  2   |\n",
       "+-------------------------------+---------+-------+-----------+---------+------+\n",
       "+----------+-----+----------+-------+------+-----+-----------+---------------------+\n",
       "| horrible | bad | terrible | awful | hate | wow | sentiment | predicted_sentiment |\n",
       "+----------+-----+----------+-------+------+-----+-----------+---------------------+\n",
       "|    0     |  0  |    0     |   0   |  0   |  0  |     1     |    0.796940851291   |\n",
       "|    0     |  0  |    0     |   0   |  0   |  0  |     0     |    0.796940851291   |\n",
       "|    0     |  0  |    0     |   0   |  0   |  0  |     1     |    0.796940851291   |\n",
       "|    0     |  0  |    0     |   0   |  0   |  0  |     1     |    0.940876393428   |\n",
       "|    1     |  0  |    0     |   0   |  0   |  0  |     1     |    0.347684052736   |\n",
       "|    0     |  1  |    0     |   0   |  0   |  0  |     1     |     0.5942241719    |\n",
       "|    0     |  0  |    0     |   0   |  0   |  0  |     0     |    0.796940851291   |\n",
       "|    0     |  0  |    0     |   0   |  0   |  0  |     1     |    0.796940851291   |\n",
       "|    0     |  0  |    0     |   0   |  0   |  0  |     1     |    0.796940851291   |\n",
       "|    0     |  0  |    0     |   0   |  0   |  0  |     1     |    0.984739056527   |\n",
       "+----------+-----+----------+-------+------+-----+-----------+---------------------+\n",
       "[10 rows x 17 columns]"
      ]
     },
     "execution_count": 140,
     "metadata": {},
     "output_type": "execute_result"
    }
   ],
   "source": [
    "diaper_reviews.head()"
   ]
  },
  {
   "cell_type": "code",
   "execution_count": null,
   "metadata": {
    "collapsed": true
   },
   "outputs": [],
   "source": []
  },
  {
   "cell_type": "code",
   "execution_count": null,
   "metadata": {
    "collapsed": true
   },
   "outputs": [],
   "source": []
  },
  {
   "cell_type": "code",
   "execution_count": null,
   "metadata": {
    "collapsed": true
   },
   "outputs": [],
   "source": []
  },
  {
   "cell_type": "code",
   "execution_count": null,
   "metadata": {
    "collapsed": true
   },
   "outputs": [],
   "source": []
  },
  {
   "cell_type": "code",
   "execution_count": null,
   "metadata": {
    "collapsed": true
   },
   "outputs": [],
   "source": []
  },
  {
   "cell_type": "code",
   "execution_count": null,
   "metadata": {
    "collapsed": true
   },
   "outputs": [],
   "source": []
  },
  {
   "cell_type": "code",
   "execution_count": null,
   "metadata": {
    "collapsed": true
   },
   "outputs": [],
   "source": []
  },
  {
   "cell_type": "markdown",
   "metadata": {},
   "source": [
    "# Exercise"
   ]
  },
  {
   "cell_type": "markdown",
   "metadata": {},
   "source": [
    "### Combined Function"
   ]
  },
  {
   "cell_type": "code",
   "execution_count": 105,
   "metadata": {
    "collapsed": true
   },
   "outputs": [],
   "source": [
    "myWords = ['awesome', 'great', 'fantastic', 'amazing',\\\n",
    "                  'love', 'horrible', 'bad', 'terrible', \\\n",
    "                  'awful', 'wow', 'hate']"
   ]
  },
  {
   "cell_type": "code",
   "execution_count": 106,
   "metadata": {
    "collapsed": true
   },
   "outputs": [],
   "source": [
    "def counter(dict):\n",
    "    for k in range(11):\n",
    "        if  myWords[k] in dict:\n",
    "                return dict[myWords[k]]\n",
    "        else :\n",
    "                 return 0"
   ]
  },
  {
   "cell_type": "code",
   "execution_count": 108,
   "metadata": {
    "collapsed": false
   },
   "outputs": [],
   "source": [
    "for k in range(11):\n",
    "    products[myWords[k]] = products['word_count'].apply(counter)"
   ]
  },
  {
   "cell_type": "code",
   "execution_count": 109,
   "metadata": {
    "collapsed": false
   },
   "outputs": [
    {
     "data": {
      "text/html": [
       "<div style=\"max-height:1000px;max-width:1500px;overflow:auto;\"><table frame=\"box\" rules=\"cols\">\n",
       "    <tr>\n",
       "        <th style=\"padding-left: 1em; padding-right: 1em; text-align: center\">name</th>\n",
       "        <th style=\"padding-left: 1em; padding-right: 1em; text-align: center\">review</th>\n",
       "        <th style=\"padding-left: 1em; padding-right: 1em; text-align: center\">rating</th>\n",
       "        <th style=\"padding-left: 1em; padding-right: 1em; text-align: center\">word_count</th>\n",
       "        <th style=\"padding-left: 1em; padding-right: 1em; text-align: center\">awesome</th>\n",
       "        <th style=\"padding-left: 1em; padding-right: 1em; text-align: center\">great</th>\n",
       "        <th style=\"padding-left: 1em; padding-right: 1em; text-align: center\">fantastic</th>\n",
       "    </tr>\n",
       "    <tr>\n",
       "        <td style=\"padding-left: 1em; padding-right: 1em; text-align: center; vertical-align: top\">Planetwise Flannel Wipes</td>\n",
       "        <td style=\"padding-left: 1em; padding-right: 1em; text-align: center; vertical-align: top\">These flannel wipes are<br>OK, but in my opinion ...</td>\n",
       "        <td style=\"padding-left: 1em; padding-right: 1em; text-align: center; vertical-align: top\">3.0</td>\n",
       "        <td style=\"padding-left: 1em; padding-right: 1em; text-align: center; vertical-align: top\">{'and': 5, '6': 1,<br>'stink': 1, 'because' ...</td>\n",
       "        <td style=\"padding-left: 1em; padding-right: 1em; text-align: center; vertical-align: top\">0</td>\n",
       "        <td style=\"padding-left: 1em; padding-right: 1em; text-align: center; vertical-align: top\">0</td>\n",
       "        <td style=\"padding-left: 1em; padding-right: 1em; text-align: center; vertical-align: top\">0</td>\n",
       "    </tr>\n",
       "</table>\n",
       "<table frame=\"box\" rules=\"cols\">\n",
       "    <tr>\n",
       "        <th style=\"padding-left: 1em; padding-right: 1em; text-align: center\">amazing</th>\n",
       "        <th style=\"padding-left: 1em; padding-right: 1em; text-align: center\">love</th>\n",
       "        <th style=\"padding-left: 1em; padding-right: 1em; text-align: center\">horrible</th>\n",
       "        <th style=\"padding-left: 1em; padding-right: 1em; text-align: center\">bad</th>\n",
       "        <th style=\"padding-left: 1em; padding-right: 1em; text-align: center\">terrible</th>\n",
       "        <th style=\"padding-left: 1em; padding-right: 1em; text-align: center\">awful</th>\n",
       "        <th style=\"padding-left: 1em; padding-right: 1em; text-align: center\">hate</th>\n",
       "        <th style=\"padding-left: 1em; padding-right: 1em; text-align: center\">wow</th>\n",
       "    </tr>\n",
       "    <tr>\n",
       "        <td style=\"padding-left: 1em; padding-right: 1em; text-align: center; vertical-align: top\">0</td>\n",
       "        <td style=\"padding-left: 1em; padding-right: 1em; text-align: center; vertical-align: top\">0</td>\n",
       "        <td style=\"padding-left: 1em; padding-right: 1em; text-align: center; vertical-align: top\">0</td>\n",
       "        <td style=\"padding-left: 1em; padding-right: 1em; text-align: center; vertical-align: top\">0</td>\n",
       "        <td style=\"padding-left: 1em; padding-right: 1em; text-align: center; vertical-align: top\">0</td>\n",
       "        <td style=\"padding-left: 1em; padding-right: 1em; text-align: center; vertical-align: top\">0</td>\n",
       "        <td style=\"padding-left: 1em; padding-right: 1em; text-align: center; vertical-align: top\">0</td>\n",
       "        <td style=\"padding-left: 1em; padding-right: 1em; text-align: center; vertical-align: top\">0</td>\n",
       "    </tr>\n",
       "</table>\n",
       "[1 rows x 15 columns]<br/>\n",
       "</div>"
      ],
      "text/plain": [
       "Columns:\n",
       "\tname\tstr\n",
       "\treview\tstr\n",
       "\trating\tfloat\n",
       "\tword_count\tdict\n",
       "\tawesome\tint\n",
       "\tgreat\tint\n",
       "\tfantastic\tint\n",
       "\tamazing\tint\n",
       "\tlove\tint\n",
       "\thorrible\tint\n",
       "\tbad\tint\n",
       "\tterrible\tint\n",
       "\tawful\tint\n",
       "\thate\tint\n",
       "\twow\tint\n",
       "\n",
       "Rows: 1\n",
       "\n",
       "Data:\n",
       "+--------------------------+-------------------------------+--------+\n",
       "|           name           |             review            | rating |\n",
       "+--------------------------+-------------------------------+--------+\n",
       "| Planetwise Flannel Wipes | These flannel wipes are OK... |  3.0   |\n",
       "+--------------------------+-------------------------------+--------+\n",
       "+-------------------------------+---------+-------+-----------+---------+------+\n",
       "|           word_count          | awesome | great | fantastic | amazing | love |\n",
       "+-------------------------------+---------+-------+-----------+---------+------+\n",
       "| {'and': 5, '6': 1, 'stink'... |    0    |   0   |     0     |    0    |  0   |\n",
       "+-------------------------------+---------+-------+-----------+---------+------+\n",
       "+----------+-----+----------+-------+------+-----+\n",
       "| horrible | bad | terrible | awful | hate | wow |\n",
       "+----------+-----+----------+-------+------+-----+\n",
       "|    0     |  0  |    0     |   0   |  0   |  0  |\n",
       "+----------+-----+----------+-------+------+-----+\n",
       "[1 rows x 15 columns]"
      ]
     },
     "execution_count": 109,
     "metadata": {},
     "output_type": "execute_result"
    }
   ],
   "source": [
    "products.head(1)"
   ]
  },
  {
   "cell_type": "code",
   "execution_count": 110,
   "metadata": {
    "collapsed": true
   },
   "outputs": [],
   "source": [
    "DD= {}\n",
    "for k in range(11):\n",
    "    sm = sum(products[myWords[k]])\n",
    "    DD.update({'w_' + myWords[k] : sm})"
   ]
  },
  {
   "cell_type": "code",
   "execution_count": 111,
   "metadata": {
    "collapsed": false
   },
   "outputs": [
    {
     "data": {
      "text/plain": [
       "{'w_amazing': 2090,\n",
       " 'w_awesome': 2090,\n",
       " 'w_awful': 2090,\n",
       " 'w_bad': 2090,\n",
       " 'w_fantastic': 2090,\n",
       " 'w_great': 2090,\n",
       " 'w_hate': 2090,\n",
       " 'w_horrible': 2090,\n",
       " 'w_love': 2090,\n",
       " 'w_terrible': 2090,\n",
       " 'w_wow': 2090}"
      ]
     },
     "execution_count": 111,
     "metadata": {},
     "output_type": "execute_result"
    }
   ],
   "source": [
    "DD"
   ]
  },
  {
   "cell_type": "markdown",
   "metadata": {},
   "source": [
    "# General"
   ]
  },
  {
   "cell_type": "code",
   "execution_count": 5,
   "metadata": {
    "collapsed": true
   },
   "outputs": [],
   "source": [
    "graphlab.canvas.set_target('ipynb')"
   ]
  },
  {
   "cell_type": "code",
   "execution_count": null,
   "metadata": {
    "collapsed": false
   },
   "outputs": [],
   "source": [
    "products['name'].show()"
   ]
  },
  {
   "cell_type": "code",
   "execution_count": 26,
   "metadata": {
    "collapsed": false
   },
   "outputs": [
    {
     "data": {
      "application/javascript": [
       "$(\"head\").append($(\"<link/>\").attr({\n",
       "  rel:  \"stylesheet\",\n",
       "  type: \"text/css\",\n",
       "  href: \"//cdnjs.cloudflare.com/ajax/libs/font-awesome/4.1.0/css/font-awesome.min.css\"\n",
       "}));\n",
       "$(\"head\").append($(\"<link/>\").attr({\n",
       "  rel:  \"stylesheet\",\n",
       "  type: \"text/css\",\n",
       "  href: \"//dato.com/files/canvas/1.6.1/css/canvas.css\"\n",
       "}));\n",
       "\n",
       "            (function(){\n",
       "\n",
       "                var e = null;\n",
       "                if (typeof element == 'undefined') {\n",
       "                    var scripts = document.getElementsByTagName('script');\n",
       "                    var thisScriptTag = scripts[scripts.length-1];\n",
       "                    var parentDiv = thisScriptTag.parentNode;\n",
       "                    e = document.createElement('div');\n",
       "                    parentDiv.appendChild(e);\n",
       "                } else {\n",
       "                    e = element[0];\n",
       "                }\n",
       "\n",
       "                if (typeof requirejs !== 'undefined') {\n",
       "                    // disable load timeout; ipython_app.js is large and can take a while to load.\n",
       "                    requirejs.config({waitSeconds: 0});\n",
       "                }\n",
       "\n",
       "                require(['//dato.com/files/canvas/1.6.1/js/ipython_app.js'], function(IPythonApp){\n",
       "                    var app = new IPythonApp();\n",
       "                    app.attachView('sarray','Dictionary', {\"ipython\": true, \"sketch\": {\"keys\": {\"complete\": true, \"numeric\": false, \"num_unique\": 256962, \"num_undefined\": 0, \"progress\": 1.0, \"frequent_items\": {\"reviews,\": {\"frequency\": 966, \"value\": \"reviews,\"}, \"all\": {\"frequency\": 30335, \"value\": \"all\"}, \":)\": {\"frequency\": 2851, \"value\": \":)\"}, \"reviewers\": {\"frequency\": 1248, \"value\": \"reviewers\"}, \"better.\": {\"frequency\": 1611, \"value\": \"better.\"}, \"son.\": {\"frequency\": 1733, \"value\": \"son.\"}, \"month\": {\"frequency\": 12345, \"value\": \"month\"}, \"daughter's\": {\"frequency\": 1826, \"value\": \"daughter's\"}, \"nursery\": {\"frequency\": 1403, \"value\": \"nursery\"}, \"sleep\": {\"frequency\": 5334, \"value\": \"sleep\"}, \"during\": {\"frequency\": 3677, \"value\": \"during\"}, \"hanging\": {\"frequency\": 1256, \"value\": \"hanging\"}, \"go\": {\"frequency\": 10912, \"value\": \"go\"}, \"chair\": {\"frequency\": 4052, \"value\": \"chair\"}, \"saved\": {\"frequency\": 1063, \"value\": \"saved\"}, \"milk\": {\"frequency\": 3004, \"value\": \"milk\"}, \"issues\": {\"frequency\": 2069, \"value\": \"issues\"}, \"seemed\": {\"frequency\": 2461, \"value\": \"seemed\"}, \"up.\": {\"frequency\": 3719, \"value\": \"up.\"}, \"looking\": {\"frequency\": 7825, \"value\": \"looking\"}, \"up,\": {\"frequency\": 1964, \"value\": \"up,\"}, \"feeding\": {\"frequency\": 1735, \"value\": \"feeding\"}, \"system\": {\"frequency\": 1876, \"value\": \"system\"}, \"clean.\": {\"frequency\": 2575, \"value\": \"clean.\"}, \"young\": {\"frequency\": 1336, \"value\": \"young\"}, \"send\": {\"frequency\": 1137, \"value\": \"send\"}, \"to\": {\"frequency\": 122837, \"value\": \"to\"}, \"finally\": {\"frequency\": 2411, \"value\": \"finally\"}, \"clean,\": {\"frequency\": 1479, \"value\": \"clean,\"}, \"helps\": {\"frequency\": 2505, \"value\": \"helps\"}, \"(not\": {\"frequency\": 993, \"value\": \"(not\"}, \"off.\": {\"frequency\": 2867, \"value\": \"off.\"}, \"worth\": {\"frequency\": 8705, \"value\": \"worth\"}, \"sent\": {\"frequency\": 1683, \"value\": \"sent\"}, \"customer\": {\"frequency\": 1868, \"value\": \"customer\"}, \"returned\": {\"frequency\": 1667, \"value\": \"returned\"}, \"returning\": {\"frequency\": 1108, \"value\": \"returning\"}, \"very\": {\"frequency\": 45243, \"value\": \"very\"}, \"cheap\": {\"frequency\": 2403, \"value\": \"cheap\"}, \"blanket\": {\"frequency\": 2910, \"value\": \"blanket\"}, \"every\": {\"frequency\": 10320, \"value\": \"every\"}, \"fall\": {\"frequency\": 2876, \"value\": \"fall\"}, \"animals\": {\"frequency\": 952, \"value\": \"animals\"}, \"more.\": {\"frequency\": 1493, \"value\": \"more.\"}, \"difference\": {\"frequency\": 985, \"value\": \"difference\"}, \"wipe\": {\"frequency\": 1576, \"value\": \"wipe\"}, \"child.\": {\"frequency\": 1813, \"value\": \"child.\"}, \"cool\": {\"frequency\": 1239, \"value\": \"cool\"}, \"entire\": {\"frequency\": 1764, \"value\": \"entire\"}, \"washing\": {\"frequency\": 2050, \"value\": \"washing\"}, \"cute,\": {\"frequency\": 1467, \"value\": \"cute,\"}, \"level\": {\"frequency\": 985, \"value\": \"level\"}, \"did\": {\"frequency\": 11176, \"value\": \"did\"}, \"turns\": {\"frequency\": 1359, \"value\": \"turns\"}, \"button\": {\"frequency\": 1421, \"value\": \"button\"}, \"bright\": {\"frequency\": 2241, \"value\": \"bright\"}, \"blankets\": {\"frequency\": 1332, \"value\": \"blankets\"}, \"things\": {\"frequency\": 5910, \"value\": \"things\"}, \"large\": {\"frequency\": 4635, \"value\": \"large\"}, \"item\": {\"frequency\": 5312, \"value\": \"item\"}, \"adjust\": {\"frequency\": 2144, \"value\": \"adjust\"}, \"us.\": {\"frequency\": 2047, \"value\": \"us.\"}, \"small\": {\"frequency\": 10335, \"value\": \"small\"}, \"guy\": {\"frequency\": 1245, \"value\": \"guy\"}, \"ride\": {\"frequency\": 961, \"value\": \"ride\"}, \"clothes\": {\"frequency\": 1202, \"value\": \"clothes\"}, \"enjoy\": {\"frequency\": 1695, \"value\": \"enjoy\"}, \"chew\": {\"frequency\": 1603, \"value\": \"chew\"}, \"smaller\": {\"frequency\": 3222, \"value\": \"smaller\"}, \"says\": {\"frequency\": 1929, \"value\": \"says\"}, \"her.\": {\"frequency\": 2018, \"value\": \"her.\"}, \"thin\": {\"frequency\": 1683, \"value\": \"thin\"}, \"bottles,\": {\"frequency\": 1247, \"value\": \"bottles,\"}, \"me,\": {\"frequency\": 1700, \"value\": \"me,\"}, \"me.\": {\"frequency\": 2996, \"value\": \"me.\"}, \"past\": {\"frequency\": 1404, \"value\": \"past\"}, \"fold\": {\"frequency\": 2663, \"value\": \"fold\"}, \"second\": {\"frequency\": 5308, \"value\": \"second\"}, \"cost\": {\"frequency\": 1605, \"value\": \"cost\"}, \"design\": {\"frequency\": 3669, \"value\": \"design\"}, \"booster\": {\"frequency\": 1900, \"value\": \"booster\"}, \"eating\": {\"frequency\": 999, \"value\": \"eating\"}, \"air\": {\"frequency\": 1941, \"value\": \"air\"}, \"even\": {\"frequency\": 18249, \"value\": \"even\"}, \"what\": {\"frequency\": 15405, \"value\": \"what\"}, \"plays\": {\"frequency\": 1641, \"value\": \"plays\"}, \"product!\": {\"frequency\": 1862, \"value\": \"product!\"}, \"giving\": {\"frequency\": 1609, \"value\": \"giving\"}, \"hate\": {\"frequency\": 1000, \"value\": \"hate\"}, \"product,\": {\"frequency\": 2095, \"value\": \"product,\"}, \"near\": {\"frequency\": 1082, \"value\": \"near\"}, \"(which\": {\"frequency\": 1948, \"value\": \"(which\"}, \"him.\": {\"frequency\": 2012, \"value\": \"him.\"}, \"lights\": {\"frequency\": 1587, \"value\": \"lights\"}, \"version\": {\"frequency\": 1123, \"value\": \"version\"}, \"twins\": {\"frequency\": 1272, \"value\": \"twins\"}, \"goes\": {\"frequency\": 3337, \"value\": \"goes\"}, \"new\": {\"frequency\": 9918, \"value\": \"new\"}, \"falling\": {\"frequency\": 1498, \"value\": \"falling\"}, \"ever\": {\"frequency\": 3608, \"value\": \"ever\"}, \"told\": {\"frequency\": 1483, \"value\": \"told\"}, \"body\": {\"frequency\": 1132, \"value\": \"body\"}, \"compact\": {\"frequency\": 1122, \"value\": \"compact\"}, \"full\": {\"frequency\": 2642, \"value\": \"full\"}, \"bottles.\": {\"frequency\": 1616, \"value\": \"bottles.\"}, \"chose\": {\"frequency\": 1211, \"value\": \"chose\"}, \"carseat\": {\"frequency\": 1651, \"value\": \"carseat\"}, \"seat,\": {\"frequency\": 2385, \"value\": \"seat,\"}, \"never\": {\"frequency\": 8811, \"value\": \"never\"}, \"diapers\": {\"frequency\": 3116, \"value\": \"diapers\"}, \"here\": {\"frequency\": 2525, \"value\": \"here\"}, \"hours\": {\"frequency\": 2198, \"value\": \"hours\"}, \"though.\": {\"frequency\": 1593, \"value\": \"though.\"}, \"let\": {\"frequency\": 3482, \"value\": \"let\"}, \"others\": {\"frequency\": 2863, \"value\": \"others\"}, \"along\": {\"frequency\": 2123, \"value\": \"along\"}, \"aren't\": {\"frequency\": 1816, \"value\": \"aren't\"}, \"change\": {\"frequency\": 3254, \"value\": \"change\"}, \"wait\": {\"frequency\": 1929, \"value\": \"wait\"}, \"box\": {\"frequency\": 2456, \"value\": \"box\"}, \"boy\": {\"frequency\": 2477, \"value\": \"boy\"}, \"great\": {\"frequency\": 35659, \"value\": \"great\"}, \"kids\": {\"frequency\": 6241, \"value\": \"kids\"}, \"daughter\": {\"frequency\": 17099, \"value\": \"daughter\"}, \"items\": {\"frequency\": 2267, \"value\": \"items\"}, \"larger\": {\"frequency\": 2465, \"value\": \"larger\"}, \"allows\": {\"frequency\": 1908, \"value\": \"allows\"}, \"completely\": {\"frequency\": 2983, \"value\": \"completely\"}, \"ones.\": {\"frequency\": 1030, \"value\": \"ones.\"}, \"amount\": {\"frequency\": 2019, \"value\": \"amount\"}, \"i'd\": {\"frequency\": 3250, \"value\": \"i'd\"}, \"products\": {\"frequency\": 2170, \"value\": \"products\"}, \"pick\": {\"frequency\": 1479, \"value\": \"pick\"}, \"diapers.\": {\"frequency\": 1070, \"value\": \"diapers.\"}, \"however,\": {\"frequency\": 5100, \"value\": \"however,\"}, \"i'm\": {\"frequency\": 13009, \"value\": \"i'm\"}, \"makes\": {\"frequency\": 8244, \"value\": \"makes\"}, \"options\": {\"frequency\": 958, \"value\": \"options\"}, \"fell\": {\"frequency\": 1646, \"value\": \"fell\"}, \"adjustable\": {\"frequency\": 1450, \"value\": \"adjustable\"}, \"useful\": {\"frequency\": 1523, \"value\": \"useful\"}, \"secure\": {\"frequency\": 2169, \"value\": \"secure\"}, \"family\": {\"frequency\": 1820, \"value\": \"family\"}, \"extra\": {\"frequency\": 5440, \"value\": \"extra\"}, \"folded\": {\"frequency\": 1016, \"value\": \"folded\"}, \"prefer\": {\"frequency\": 1409, \"value\": \"prefer\"}, \"highly\": {\"frequency\": 7470, \"value\": \"highly\"}, \"avent\": {\"frequency\": 1279, \"value\": \"avent\"}, \"toys\": {\"frequency\": 4893, \"value\": \"toys\"}, \"be\": {\"frequency\": 39725, \"value\": \"be\"}, \"unit\": {\"frequency\": 1434, \"value\": \"unit\"}, \"hoping\": {\"frequency\": 1248, \"value\": \"hoping\"}, \"use\": {\"frequency\": 30682, \"value\": \"use\"}, \"from\": {\"frequency\": 26883, \"value\": \"from\"}, \"takes\": {\"frequency\": 3499, \"value\": \"takes\"}, \"would\": {\"frequency\": 36611, \"value\": \"would\"}, \"&\": {\"frequency\": 4525, \"value\": \"&\"}, \"easily.\": {\"frequency\": 2004, \"value\": \"easily.\"}, \"hospital\": {\"frequency\": 961, \"value\": \"hospital\"}, \"behind\": {\"frequency\": 1224, \"value\": \"behind\"}, \"arms\": {\"frequency\": 1386, \"value\": \"arms\"}, \"next\": {\"frequency\": 3848, \"value\": \"next\"}, \"few\": {\"frequency\": 10351, \"value\": \"few\"}, \"handles\": {\"frequency\": 1446, \"value\": \"handles\"}, \"wood\": {\"frequency\": 1528, \"value\": \"wood\"}, \"music\": {\"frequency\": 3126, \"value\": \"music\"}, \"6\": {\"frequency\": 5842, \"value\": \"6\"}, \"taken\": {\"frequency\": 1195, \"value\": \"taken\"}, \"means\": {\"frequency\": 1276, \"value\": \"means\"}, \"type\": {\"frequency\": 1692, \"value\": \"type\"}, \"tell\": {\"frequency\": 2219, \"value\": \"tell\"}, \"moved\": {\"frequency\": 1129, \"value\": \"moved\"}, \"more\": {\"frequency\": 23136, \"value\": \"more\"}, \"flat\": {\"frequency\": 1854, \"value\": \"flat\"}, \"soft.\": {\"frequency\": 1426, \"value\": \"soft.\"}, \"door\": {\"frequency\": 1898, \"value\": \"door\"}, \"1/2\": {\"frequency\": 1786, \"value\": \"1/2\"}, \"started\": {\"frequency\": 5363, \"value\": \"started\"}, \"toy.\": {\"frequency\": 1719, \"value\": \"toy.\"}, \"under\": {\"frequency\": 4524, \"value\": \"under\"}, \"dishwasher\": {\"frequency\": 1173, \"value\": \"dishwasher\"}, \"hurt\": {\"frequency\": 977, \"value\": \"hurt\"}, \"carrying\": {\"frequency\": 1512, \"value\": \"carrying\"}, \"everywhere\": {\"frequency\": 1034, \"value\": \"everywhere\"}, \"stick\": {\"frequency\": 2254, \"value\": \"stick\"}, \"broke\": {\"frequency\": 1577, \"value\": \"broke\"}, \"excellent\": {\"frequency\": 2357, \"value\": \"excellent\"}, \"baby\": {\"frequency\": 37549, \"value\": \"baby\"}, \"suction\": {\"frequency\": 1669, \"value\": \"suction\"}, \"hold\": {\"frequency\": 8138, \"value\": \"hold\"}, \"off,\": {\"frequency\": 1322, \"value\": \"off,\"}, \"glad\": {\"frequency\": 3968, \"value\": \"glad\"}, \"must\": {\"frequency\": 3862, \"value\": \"must\"}, \"me\": {\"frequency\": 15589, \"value\": \"me\"}, \"keeping\": {\"frequency\": 2147, \"value\": \"keeping\"}, \"bottle.\": {\"frequency\": 1175, \"value\": \"bottle.\"}, \"cute.\": {\"frequency\": 1551, \"value\": \"cute.\"}, \"room\": {\"frequency\": 7871, \"value\": \"room\"}, \"hour\": {\"frequency\": 1191, \"value\": \"hour\"}, \"this\": {\"frequency\": 105384, \"value\": \"this\"}, \"car\": {\"frequency\": 10092, \"value\": \"car\"}, \"originally\": {\"frequency\": 1038, \"value\": \"originally\"}, \"work\": {\"frequency\": 10026, \"value\": \"work\"}, \"reviews\": {\"frequency\": 5656, \"value\": \"reviews\"}, \"anywhere\": {\"frequency\": 1068, \"value\": \"anywhere\"}, \"can\": {\"frequency\": 33472, \"value\": \"can\"}, \"install\": {\"frequency\": 2747, \"value\": \"install\"}, \"making\": {\"frequency\": 2970, \"value\": \"making\"}, \"metal\": {\"frequency\": 1112, \"value\": \"metal\"}, \"my\": {\"frequency\": 95743, \"value\": \"my\"}, \"beautiful\": {\"frequency\": 1755, \"value\": \"beautiful\"}, \"soft\": {\"frequency\": 8706, \"value\": \"soft\"}, \"nursing\": {\"frequency\": 1559, \"value\": \"nursing\"}, \"figure\": {\"frequency\": 1824, \"value\": \"figure\"}, \"give\": {\"frequency\": 6230, \"value\": \"give\"}, \"lock\": {\"frequency\": 1355, \"value\": \"lock\"}, \"awesome\": {\"frequency\": 1933, \"value\": \"awesome\"}, \"far.\": {\"frequency\": 1141, \"value\": \"far.\"}, \"didn't\": {\"frequency\": 11743, \"value\": \"didn't\"}, \"pieces\": {\"frequency\": 2340, \"value\": \"pieces\"}, \"high\": {\"frequency\": 5576, \"value\": \"high\"}, \"heard\": {\"frequency\": 1037, \"value\": \"heard\"}, \"pulling\": {\"frequency\": 969, \"value\": \"pulling\"}, \"something\": {\"frequency\": 7886, \"value\": \"something\"}, \"purchased\": {\"frequency\": 10371, \"value\": \"purchased\"}, \"product.\": {\"frequency\": 6518, \"value\": \"product.\"}, \"times\": {\"frequency\": 5146, \"value\": \"times\"}, \"simple\": {\"frequency\": 2868, \"value\": \"simple\"}, \"pink\": {\"frequency\": 1529, \"value\": \"pink\"}, \"huge\": {\"frequency\": 2669, \"value\": \"huge\"}, \"needs\": {\"frequency\": 2894, \"value\": \"needs\"}, \"end\": {\"frequency\": 2959, \"value\": \"end\"}, \"sit\": {\"frequency\": 4523, \"value\": \"sit\"}, \"rather\": {\"frequency\": 2433, \"value\": \"rather\"}, \"travel\": {\"frequency\": 2977, \"value\": \"travel\"}, \"six\": {\"frequency\": 1026, \"value\": \"six\"}, \"feature\": {\"frequency\": 2278, \"value\": \"feature\"}, \"1\": {\"frequency\": 3980, \"value\": \"1\"}, \"how\": {\"frequency\": 13581, \"value\": \"how\"}, \"amazing\": {\"frequency\": 1264, \"value\": \"amazing\"}, \"gate\": {\"frequency\": 2912, \"value\": \"gate\"}, \"toddler\": {\"frequency\": 4217, \"value\": \"toddler\"}, \"stand\": {\"frequency\": 1924, \"value\": \"stand\"}, \"around.\": {\"frequency\": 1656, \"value\": \"around.\"}, \"product\": {\"frequency\": 15301, \"value\": \"product\"}, \"tried\": {\"frequency\": 7581, \"value\": \"tried\"}, \"away.\": {\"frequency\": 1322, \"value\": \"away.\"}, \"may\": {\"frequency\": 4346, \"value\": \"may\"}, \"overall\": {\"frequency\": 2577, \"value\": \"overall\"}, \"after\": {\"frequency\": 18701, \"value\": \"after\"}, \"sippy\": {\"frequency\": 2218, \"value\": \"sippy\"}, \"storage\": {\"frequency\": 2378, \"value\": \"storage\"}, \"wrong\": {\"frequency\": 1194, \"value\": \"wrong\"}, \"stars\": {\"frequency\": 3379, \"value\": \"stars\"}, \"lay\": {\"frequency\": 1279, \"value\": \"lay\"}, \"coming\": {\"frequency\": 1544, \"value\": \"coming\"}, \"fits\": {\"frequency\": 8535, \"value\": \"fits\"}, \"such\": {\"frequency\": 3686, \"value\": \"such\"}, \"cheaper\": {\"frequency\": 1771, \"value\": \"cheaper\"}, \"purchase.\": {\"frequency\": 2165, \"value\": \"purchase.\"}, \"grow\": {\"frequency\": 1240, \"value\": \"grow\"}, \"they're\": {\"frequency\": 2648, \"value\": \"they're\"}, \"a\": {\"frequency\": 114302, \"value\": \"a\"}, \"purchase\": {\"frequency\": 5113, \"value\": \"purchase\"}, \"realized\": {\"frequency\": 1078, \"value\": \"realized\"}, \"short\": {\"frequency\": 2159, \"value\": \"short\"}, \"neck\": {\"frequency\": 1292, \"value\": \"neck\"}, \"grandson\": {\"frequency\": 2160, \"value\": \"grandson\"}, \"light\": {\"frequency\": 5373, \"value\": \"light\"}, \"straps\": {\"frequency\": 3427, \"value\": \"straps\"}, \"children\": {\"frequency\": 2508, \"value\": \"children\"}, \"amazon\": {\"frequency\": 3548, \"value\": \"amazon\"}, \"height\": {\"frequency\": 1952, \"value\": \"height\"}, \"switch\": {\"frequency\": 1280, \"value\": \"switch\"}, \"cannot\": {\"frequency\": 2622, \"value\": \"cannot\"}, \"so\": {\"frequency\": 58497, \"value\": \"so\"}, \"allow\": {\"frequency\": 1451, \"value\": \"allow\"}, \"keeps\": {\"frequency\": 4437, \"value\": \"keeps\"}, \"basket\": {\"frequency\": 1629, \"value\": \"basket\"}, \"putting\": {\"frequency\": 3185, \"value\": \"putting\"}, \"loud\": {\"frequency\": 1281, \"value\": \"loud\"}, \"playing\": {\"frequency\": 2006, \"value\": \"playing\"}, \"that's\": {\"frequency\": 3931, \"value\": \"that's\"}, \"cute\": {\"frequency\": 6986, \"value\": \"cute\"}, \"infant\": {\"frequency\": 4028, \"value\": \"infant\"}, \"comfort\": {\"frequency\": 1007, \"value\": \"comfort\"}, \"help\": {\"frequency\": 4165, \"value\": \"help\"}, \"don't\": {\"frequency\": 19625, \"value\": \"don't\"}, \"over\": {\"frequency\": 14030, \"value\": \"over\"}, \"move\": {\"frequency\": 3990, \"value\": \"move\"}, \"soon\": {\"frequency\": 2040, \"value\": \"soon\"}, \"years\": {\"frequency\": 4853, \"value\": \"years\"}, \"course\": {\"frequency\": 1027, \"value\": \"course\"}, \"through\": {\"frequency\": 7677, \"value\": \"through\"}, \"looks\": {\"frequency\": 8145, \"value\": \"looks\"}, \"down.\": {\"frequency\": 1727, \"value\": \"down.\"}, \"cold\": {\"frequency\": 1678, \"value\": \"cold\"}, \"still\": {\"frequency\": 17270, \"value\": \"still\"}, \"its\": {\"frequency\": 10577, \"value\": \"its\"}, \"before\": {\"frequency\": 8943, \"value\": \"before\"}, \"perfect\": {\"frequency\": 11775, \"value\": \"perfect\"}, \"machine\": {\"frequency\": 1405, \"value\": \"machine\"}, \"style\": {\"frequency\": 1408, \"value\": \"style\"}, \"boys\": {\"frequency\": 1141, \"value\": \"boys\"}, \"20\": {\"frequency\": 1673, \"value\": \"20\"}, \"thank\": {\"frequency\": 1536, \"value\": \"thank\"}, \"fit\": {\"frequency\": 12549, \"value\": \"fit\"}, \"he's\": {\"frequency\": 3174, \"value\": \"he's\"}, \"solid\": {\"frequency\": 1453, \"value\": \"solid\"}, \"months,\": {\"frequency\": 1845, \"value\": \"months,\"}, \"hot\": {\"frequency\": 2007, \"value\": \"hot\"}, \"months.\": {\"frequency\": 2544, \"value\": \"months.\"}, \"actually\": {\"frequency\": 6750, \"value\": \"actually\"}, \"better\": {\"frequency\": 9786, \"value\": \"better\"}, \"feel\": {\"frequency\": 6030, \"value\": \"feel\"}, \"perfectly.\": {\"frequency\": 1787, \"value\": \"perfectly.\"}, \"weeks\": {\"frequency\": 4181, \"value\": \"weeks\"}, \"main\": {\"frequency\": 1278, \"value\": \"main\"}, \"might\": {\"frequency\": 3522, \"value\": \"might\"}, \"easier\": {\"frequency\": 4353, \"value\": \"easier\"}, \"haven't\": {\"frequency\": 3764, \"value\": \"haven't\"}, \"outside\": {\"frequency\": 1786, \"value\": \"outside\"}, \"it.\": {\"frequency\": 27531, \"value\": \"it.\"}, \"then\": {\"frequency\": 11039, \"value\": \"then\"}, \"them\": {\"frequency\": 22279, \"value\": \"them\"}, \"someone\": {\"frequency\": 1884, \"value\": \"someone\"}, \"return\": {\"frequency\": 2329, \"value\": \"return\"}, \"comfortable.\": {\"frequency\": 1463, \"value\": \"comfortable.\"}, \"food\": {\"frequency\": 3383, \"value\": \"food\"}, \"similar\": {\"frequency\": 1555, \"value\": \"similar\"}, \"material\": {\"frequency\": 3441, \"value\": \"material\"}, \"eat\": {\"frequency\": 1309, \"value\": \"eat\"}, \"it!\": {\"frequency\": 7045, \"value\": \"it!\"}, \"break\": {\"frequency\": 1349, \"value\": \"break\"}, \"great!\": {\"frequency\": 2688, \"value\": \"great!\"}, \"they\": {\"frequency\": 37486, \"value\": \"they\"}, \"velcro\": {\"frequency\": 2154, \"value\": \"velcro\"}, \"front\": {\"frequency\": 4167, \"value\": \"front\"}, \"now\": {\"frequency\": 17127, \"value\": \"now\"}, \"handy\": {\"frequency\": 1522, \"value\": \"handy\"}, \"bigger\": {\"frequency\": 2665, \"value\": \"bigger\"}, \"instructions\": {\"frequency\": 1795, \"value\": \"instructions\"}, \"easily\": {\"frequency\": 8155, \"value\": \"easily\"}, \"several\": {\"frequency\": 4837, \"value\": \"several\"}, \"cotton\": {\"frequency\": 1140, \"value\": \"cotton\"}, \"pregnant\": {\"frequency\": 1072, \"value\": \"pregnant\"}, \"all.\": {\"frequency\": 3238, \"value\": \"all.\"}, \"all,\": {\"frequency\": 1929, \"value\": \"all,\"}, \"--\": {\"frequency\": 1393, \"value\": \"--\"}, \"slide\": {\"frequency\": 1357, \"value\": \"slide\"}, \"harness\": {\"frequency\": 1217, \"value\": \"harness\"}, \"stopped\": {\"frequency\": 1484, \"value\": \"stopped\"}, \"also,\": {\"frequency\": 3385, \"value\": \"also,\"}, \"each\": {\"frequency\": 4848, \"value\": \"each\"}, \"found\": {\"frequency\": 7784, \"value\": \"found\"}, \"went\": {\"frequency\": 4472, \"value\": \"went\"}, \"higher\": {\"frequency\": 1061, \"value\": \"higher\"}, \"tray\": {\"frequency\": 2449, \"value\": \"tray\"}, \"side\": {\"frequency\": 6703, \"value\": \"side\"}, \"isn't\": {\"frequency\": 4677, \"value\": \"isn't\"}, \"heavy\": {\"frequency\": 2800, \"value\": \"heavy\"}, \"everyone\": {\"frequency\": 1745, \"value\": \"everyone\"}, \"(the\": {\"frequency\": 1453, \"value\": \"(the\"}, \"weight\": {\"frequency\": 3037, \"value\": \"weight\"}, \"hasn't\": {\"frequency\": 1367, \"value\": \"hasn't\"}, \"doing\": {\"frequency\": 2129, \"value\": \"doing\"}, \"house\": {\"frequency\": 3294, \"value\": \"house\"}, \"hard\": {\"frequency\": 7971, \"value\": \"hard\"}, \"house.\": {\"frequency\": 1695, \"value\": \"house.\"}, \"snaps\": {\"frequency\": 1010, \"value\": \"snaps\"}, \"car.\": {\"frequency\": 1665, \"value\": \"car.\"}, \"expect\": {\"frequency\": 1235, \"value\": \"expect\"}, \"year\": {\"frequency\": 9870, \"value\": \"year\"}, \"our\": {\"frequency\": 29660, \"value\": \"our\"}, \"girl\": {\"frequency\": 2594, \"value\": \"girl\"}, \"sounds\": {\"frequency\": 1655, \"value\": \"sounds\"}, \"out\": {\"frequency\": 30193, \"value\": \"out\"}, \"living\": {\"frequency\": 1017, \"value\": \"living\"}, \"yes,\": {\"frequency\": 1081, \"value\": \"yes,\"}, \"opened\": {\"frequency\": 1235, \"value\": \"opened\"}, \"space\": {\"frequency\": 3015, \"value\": \"space\"}, \"quality\": {\"frequency\": 8403, \"value\": \"quality\"}, \"crib.\": {\"frequency\": 1905, \"value\": \"crib.\"}, \"since\": {\"frequency\": 12369, \"value\": \"since\"}, \"washed\": {\"frequency\": 2425, \"value\": \"washed\"}, \"day\": {\"frequency\": 5751, \"value\": \"day\"}, \"research\": {\"frequency\": 1274, \"value\": \"research\"}, \"time,\": {\"frequency\": 2220, \"value\": \"time,\"}, \"mess\": {\"frequency\": 1022, \"value\": \"mess\"}, \"time.\": {\"frequency\": 5534, \"value\": \"time.\"}, \"safety\": {\"frequency\": 2859, \"value\": \"safety\"}, \"is.\": {\"frequency\": 1144, \"value\": \"is.\"}, \"7\": {\"frequency\": 2523, \"value\": \"7\"}, \"is,\": {\"frequency\": 979, \"value\": \"is,\"}, \"got\": {\"frequency\": 15742, \"value\": \"got\"}, \"washes\": {\"frequency\": 1185, \"value\": \"washes\"}, \"cause\": {\"frequency\": 1132, \"value\": \"cause\"}, \"red\": {\"frequency\": 1180, \"value\": \"red\"}, \"monitor.\": {\"frequency\": 1116, \"value\": \"monitor.\"}, \"granddaughter\": {\"frequency\": 1525, \"value\": \"granddaughter\"}, \"doesn't\": {\"frequency\": 12950, \"value\": \"doesn't\"}, \"room,\": {\"frequency\": 953, \"value\": \"room,\"}, \"pumping\": {\"frequency\": 1336, \"value\": \"pumping\"}, \"free\": {\"frequency\": 2744, \"value\": \"free\"}, \"quite\": {\"frequency\": 5132, \"value\": \"quite\"}, \"five\": {\"frequency\": 1518, \"value\": \"five\"}, \"quick\": {\"frequency\": 1895, \"value\": \"quick\"}, \"reason\": {\"frequency\": 2717, \"value\": \"reason\"}, \"base\": {\"frequency\": 2020, \"value\": \"base\"}, \"included\": {\"frequency\": 985, \"value\": \"included\"}, \"yet.\": {\"frequency\": 1102, \"value\": \"yet.\"}, \"imagine\": {\"frequency\": 1188, \"value\": \"imagine\"}, \"put\": {\"frequency\": 19810, \"value\": \"put\"}, \"sitting\": {\"frequency\": 2594, \"value\": \"sitting\"}, \"wanted\": {\"frequency\": 6291, \"value\": \"wanted\"}, \"care\": {\"frequency\": 1835, \"value\": \"care\"}, \"training\": {\"frequency\": 966, \"value\": \"training\"}, \"go.\": {\"frequency\": 1129, \"value\": \"go.\"}, \"starts\": {\"frequency\": 1079, \"value\": \"starts\"}, \"could\": {\"frequency\": 13897, \"value\": \"could\"}, \"days\": {\"frequency\": 2882, \"value\": \"days\"}, \"keep\": {\"frequency\": 12604, \"value\": \"keep\"}, \"thing\": {\"frequency\": 9651, \"value\": \"thing\"}, \"shipped\": {\"frequency\": 1025, \"value\": \"shipped\"}, \"expecting\": {\"frequency\": 1240, \"value\": \"expecting\"}, \"swing\": {\"frequency\": 1942, \"value\": \"swing\"}, \"felt\": {\"frequency\": 1855, \"value\": \"felt\"}, \"uses\": {\"frequency\": 2166, \"value\": \"uses\"}, \"onto\": {\"frequency\": 2396, \"value\": \"onto\"}, \"think\": {\"frequency\": 10932, \"value\": \"think\"}, \"drink\": {\"frequency\": 1402, \"value\": \"drink\"}, \"first\": {\"frequency\": 16296, \"value\": \"first\"}, \"feed\": {\"frequency\": 1416, \"value\": \"feed\"}, \"i'll\": {\"frequency\": 1839, \"value\": \"i'll\"}, \"already\": {\"frequency\": 3736, \"value\": \"already\"}, \"dont\": {\"frequency\": 1365, \"value\": \"dont\"}, \"too!\": {\"frequency\": 1458, \"value\": \"too!\"}, \"too.\": {\"frequency\": 4403, \"value\": \"too.\"}, \"sleep.\": {\"frequency\": 1140, \"value\": \"sleep.\"}, \"number\": {\"frequency\": 1006, \"value\": \"number\"}, \"crib\": {\"frequency\": 5795, \"value\": \"crib\"}, \"one\": {\"frequency\": 39296, \"value\": \"one\"}, \"feet\": {\"frequency\": 1919, \"value\": \"feet\"}, \"wash\": {\"frequency\": 5158, \"value\": \"wash\"}, \"done\": {\"frequency\": 2277, \"value\": \"done\"}, \"fast\": {\"frequency\": 2008, \"value\": \"fast\"}, \"another\": {\"frequency\": 8948, \"value\": \"another\"}, \"minutes.\": {\"frequency\": 1055, \"value\": \"minutes.\"}, \"carry\": {\"frequency\": 3516, \"value\": \"carry\"}, \"impossible\": {\"frequency\": 1152, \"value\": \"impossible\"}, \"thick\": {\"frequency\": 1644, \"value\": \"thick\"}, \"cups\": {\"frequency\": 2653, \"value\": \"cups\"}, \"open\": {\"frequency\": 4425, \"value\": \"open\"}, \"quality.\": {\"frequency\": 2070, \"value\": \"quality.\"}, \"size\": {\"frequency\": 8960, \"value\": \"size\"}, \"you're\": {\"frequency\": 2893, \"value\": \"you're\"}, \"given\": {\"frequency\": 2056, \"value\": \"given\"}, \"toy\": {\"frequency\": 5500, \"value\": \"toy\"}, \"sheet\": {\"frequency\": 1693, \"value\": \"sheet\"}, \"service\": {\"frequency\": 1493, \"value\": \"service\"}, \"their\": {\"frequency\": 8954, \"value\": \"their\"}, \"ordering\": {\"frequency\": 1061, \"value\": \"ordering\"}, \"together\": {\"frequency\": 3741, \"value\": \"together\"}, \"top\": {\"frequency\": 6355, \"value\": \"top\"}, \"slept\": {\"frequency\": 1148, \"value\": \"slept\"}, \"comfy\": {\"frequency\": 1107, \"value\": \"comfy\"}, \"least\": {\"frequency\": 2874, \"value\": \"least\"}, \"plastic\": {\"frequency\": 5762, \"value\": \"plastic\"}, \"anyone\": {\"frequency\": 3130, \"value\": \"anyone\"}, \"needed\": {\"frequency\": 5271, \"value\": \"needed\"}, \"wonderful\": {\"frequency\": 2352, \"value\": \"wonderful\"}, \"too\": {\"frequency\": 16182, \"value\": \"too\"}, \"folds\": {\"frequency\": 2162, \"value\": \"folds\"}, \"white\": {\"frequency\": 2195, \"value\": \"white\"}, \"perfectly\": {\"frequency\": 3484, \"value\": \"perfectly\"}, \"baby,\": {\"frequency\": 2159, \"value\": \"baby,\"}, \"friend\": {\"frequency\": 2135, \"value\": \"friend\"}, \"baby.\": {\"frequency\": 5045, \"value\": \"baby.\"}, \"first,\": {\"frequency\": 1302, \"value\": \"first,\"}, \"way\": {\"frequency\": 10625, \"value\": \"way\"}, \"on,\": {\"frequency\": 1691, \"value\": \"on,\"}, \"that\": {\"frequency\": 65909, \"value\": \"that\"}, \"exactly\": {\"frequency\": 3564, \"value\": \"exactly\"}, \"took\": {\"frequency\": 5940, \"value\": \"took\"}, \"much.\": {\"frequency\": 1410, \"value\": \"much.\"}, \"small.\": {\"frequency\": 970, \"value\": \"small.\"}, \"padding\": {\"frequency\": 1066, \"value\": \"padding\"}, \"stroller.\": {\"frequency\": 3041, \"value\": \"stroller.\"}, \"part\": {\"frequency\": 4910, \"value\": \"part\"}, \"graco\": {\"frequency\": 2066, \"value\": \"graco\"}, \"kept\": {\"frequency\": 2590, \"value\": \"kept\"}, \"believe\": {\"frequency\": 1816, \"value\": \"believe\"}, \"herself\": {\"frequency\": 985, \"value\": \"herself\"}, \"than\": {\"frequency\": 22507, \"value\": \"than\"}, \"loved\": {\"frequency\": 7697, \"value\": \"loved\"}, \"kind\": {\"frequency\": 2878, \"value\": \"kind\"}, \"12\": {\"frequency\": 1117, \"value\": \"12\"}, \"15\": {\"frequency\": 1628, \"value\": \"15\"}, \"third\": {\"frequency\": 1073, \"value\": \"third\"}, \"bag\": {\"frequency\": 6982, \"value\": \"bag\"}, \"prevent\": {\"frequency\": 1152, \"value\": \"prevent\"}, \"double\": {\"frequency\": 1986, \"value\": \"double\"}, \"bother\": {\"frequency\": 983, \"value\": \"bother\"}, \"pads\": {\"frequency\": 1150, \"value\": \"pads\"}, \"bed\": {\"frequency\": 3379, \"value\": \"bed\"}, \"easy.\": {\"frequency\": 1113, \"value\": \"easy.\"}, \"shower\": {\"frequency\": 3036, \"value\": \"shower\"}, \"matter\": {\"frequency\": 1488, \"value\": \"matter\"}, \"to.\": {\"frequency\": 1232, \"value\": \"to.\"}, \"supposed\": {\"frequency\": 1633, \"value\": \"supposed\"}, \"loves\": {\"frequency\": 18850, \"value\": \"loves\"}, \"were\": {\"frequency\": 16198, \"value\": \"were\"}, \"video\": {\"frequency\": 1436, \"value\": \"video\"}, \"gives\": {\"frequency\": 1632, \"value\": \"gives\"}, \"old,\": {\"frequency\": 2111, \"value\": \"old,\"}, \"old.\": {\"frequency\": 4075, \"value\": \"old.\"}, \"and\": {\"frequency\": 136695, \"value\": \"and\"}, \"bassinet\": {\"frequency\": 1101, \"value\": \"bassinet\"}, \"clip\": {\"frequency\": 1227, \"value\": \"clip\"}, \"face\": {\"frequency\": 1915, \"value\": \"face\"}, \"half\": {\"frequency\": 2436, \"value\": \"half\"}, \"(we\": {\"frequency\": 1024, \"value\": \"(we\"}, \"turned\": {\"frequency\": 2112, \"value\": \"turned\"}, \"mine\": {\"frequency\": 1860, \"value\": \"mine\"}, \"comfortable\": {\"frequency\": 6414, \"value\": \"comfortable\"}, \"formula\": {\"frequency\": 982, \"value\": \"formula\"}, \"well,\": {\"frequency\": 3130, \"value\": \"well,\"}, \"say\": {\"frequency\": 5698, \"value\": \"say\"}, \"well.\": {\"frequency\": 7612, \"value\": \"well.\"}, \"have\": {\"frequency\": 60658, \"value\": \"have\"}, \"need\": {\"frequency\": 10794, \"value\": \"need\"}, \"on.\": {\"frequency\": 2961, \"value\": \"on.\"}, \"seem\": {\"frequency\": 4028, \"value\": \"seem\"}, \"turn\": {\"frequency\": 3658, \"value\": \"turn\"}, \"saw\": {\"frequency\": 2326, \"value\": \"saw\"}, \"any\": {\"frequency\": 14685, \"value\": \"any\"}, \"option\": {\"frequency\": 1695, \"value\": \"option\"}, \"lid\": {\"frequency\": 1576, \"value\": \"lid\"}, \"screw\": {\"frequency\": 982, \"value\": \"screw\"}, \"nipples\": {\"frequency\": 1520, \"value\": \"nipples\"}, \"issue\": {\"frequency\": 2451, \"value\": \"issue\"}, \"do.\": {\"frequency\": 1110, \"value\": \"do.\"}, \"built\": {\"frequency\": 1011, \"value\": \"built\"}, \"check\": {\"frequency\": 1472, \"value\": \"check\"}, \"convenient\": {\"frequency\": 1444, \"value\": \"convenient\"}, \"i've\": {\"frequency\": 8073, \"value\": \"i've\"}, \"able\": {\"frequency\": 9576, \"value\": \"able\"}, \"purchasing\": {\"frequency\": 1746, \"value\": \"purchasing\"}, \"also\": {\"frequency\": 21395, \"value\": \"also\"}, \"recommended\": {\"frequency\": 1777, \"value\": \"recommended\"}, \"take\": {\"frequency\": 11520, \"value\": \"take\"}, \"which\": {\"frequency\": 16438, \"value\": \"which\"}, \"online\": {\"frequency\": 1098, \"value\": \"online\"}, \"green\": {\"frequency\": 1528, \"value\": \"green\"}, \"great,\": {\"frequency\": 2439, \"value\": \"great,\"}, \"day.\": {\"frequency\": 1764, \"value\": \"day.\"}, \"brand\": {\"frequency\": 2807, \"value\": \"brand\"}, \"blue\": {\"frequency\": 1727, \"value\": \"blue\"}, \"play\": {\"frequency\": 6135, \"value\": \"play\"}, \"sure\": {\"frequency\": 8365, \"value\": \"sure\"}, \"multiple\": {\"frequency\": 1537, \"value\": \"multiple\"}, \"though\": {\"frequency\": 4852, \"value\": \"though\"}, \"price\": {\"frequency\": 7709, \"value\": \"price\"}, \"who\": {\"frequency\": 9377, \"value\": \"who\"}, \"reach\": {\"frequency\": 1848, \"value\": \"reach\"}, \"that.\": {\"frequency\": 1756, \"value\": \"that.\"}, \"paid\": {\"frequency\": 1142, \"value\": \"paid\"}, \"falls\": {\"frequency\": 1853, \"value\": \"falls\"}, \"most\": {\"frequency\": 7625, \"value\": \"most\"}, \"regular\": {\"frequency\": 3242, \"value\": \"regular\"}, \"mouth\": {\"frequency\": 1510, \"value\": \"mouth\"}, \"plan\": {\"frequency\": 1585, \"value\": \"plan\"}, \"plenty\": {\"frequency\": 1773, \"value\": \"plenty\"}, \"tall\": {\"frequency\": 1894, \"value\": \"tall\"}, \"nothing\": {\"frequency\": 2939, \"value\": \"nothing\"}, \"nice.\": {\"frequency\": 1225, \"value\": \"nice.\"}, \"extremely\": {\"frequency\": 2534, \"value\": \"extremely\"}, \"why\": {\"frequency\": 3311, \"value\": \"why\"}, \"especially\": {\"frequency\": 4302, \"value\": \"especially\"}, \"sturdy\": {\"frequency\": 4126, \"value\": \"sturdy\"}, \"mobile\": {\"frequency\": 1540, \"value\": \"mobile\"}, \"up\": {\"frequency\": 31509, \"value\": \"up\"}, \"clear\": {\"frequency\": 1731, \"value\": \"clear\"}, \"later\": {\"frequency\": 1413, \"value\": \"later\"}, \"cover\": {\"frequency\": 5460, \"value\": \"cover\"}, \"dog\": {\"frequency\": 1095, \"value\": \"dog\"}, \"order\": {\"frequency\": 3377, \"value\": \"order\"}, \"looked\": {\"frequency\": 3250, \"value\": \"looked\"}, \"you'll\": {\"frequency\": 1123, \"value\": \"you'll\"}, \"definitely\": {\"frequency\": 7673, \"value\": \"definitely\"}, \"place\": {\"frequency\": 4760, \"value\": \"place\"}, \"clean\": {\"frequency\": 6414, \"value\": \"clean\"}, \"sun\": {\"frequency\": 1248, \"value\": \"sun\"}, \"away\": {\"frequency\": 3922, \"value\": \"away\"}, \"night.\": {\"frequency\": 1890, \"value\": \"night.\"}, \"walking\": {\"frequency\": 959, \"value\": \"walking\"}, \"show\": {\"frequency\": 1076, \"value\": \"show\"}, \"minutes\": {\"frequency\": 2862, \"value\": \"minutes\"}, \"one,\": {\"frequency\": 1959, \"value\": \"one,\"}, \"one.\": {\"frequency\": 5283, \"value\": \"one.\"}, \"bring\": {\"frequency\": 1235, \"value\": \"bring\"}, \"colors\": {\"frequency\": 4405, \"value\": \"colors\"}, \"fine\": {\"frequency\": 2649, \"value\": \"fine\"}, \"find\": {\"frequency\": 8195, \"value\": \"find\"}, \"make\": {\"frequency\": 11977, \"value\": \"make\"}, \"with.\": {\"frequency\": 1266, \"value\": \"with.\"}, \"based\": {\"frequency\": 1267, \"value\": \"based\"}, \"sleeps\": {\"frequency\": 1480, \"value\": \"sleeps\"}, \"holder\": {\"frequency\": 1387, \"value\": \"holder\"}, \"original\": {\"frequency\": 1245, \"value\": \"original\"}, \"baby's\": {\"frequency\": 4746, \"value\": \"baby's\"}, \"3\": {\"frequency\": 9932, \"value\": \"3\"}, \"won't\": {\"frequency\": 4113, \"value\": \"won't\"}, \"should\": {\"frequency\": 5415, \"value\": \"should\"}, \"only\": {\"frequency\": 27961, \"value\": \"only\"}, \"going\": {\"frequency\": 8061, \"value\": \"going\"}, \"black\": {\"frequency\": 1352, \"value\": \"black\"}, \"pretty\": {\"frequency\": 7790, \"value\": \"pretty\"}, \"item.\": {\"frequency\": 1327, \"value\": \"item.\"}, \"hope\": {\"frequency\": 1663, \"value\": \"hope\"}, \"wearing\": {\"frequency\": 1274, \"value\": \"wearing\"}, \"do\": {\"frequency\": 17390, \"value\": \"do\"}, \"his\": {\"frequency\": 15230, \"value\": \"his\"}, \"handle\": {\"frequency\": 2660, \"value\": \"handle\"}, \"get\": {\"frequency\": 27501, \"value\": \"get\"}, \"toilet\": {\"frequency\": 1206, \"value\": \"toilet\"}, \"watch\": {\"frequency\": 1379, \"value\": \"watch\"}, \"truly\": {\"frequency\": 1034, \"value\": \"truly\"}, \"pocket\": {\"frequency\": 1592, \"value\": \"pocket\"}, \"feels\": {\"frequency\": 2183, \"value\": \"feels\"}, \"ones\": {\"frequency\": 4336, \"value\": \"ones\"}, \"breast\": {\"frequency\": 2140, \"value\": \"breast\"}, \"2\": {\"frequency\": 13063, \"value\": \"2\"}, \"installed\": {\"frequency\": 1396, \"value\": \"installed\"}, \"running\": {\"frequency\": 1071, \"value\": \"running\"}, \"him\": {\"frequency\": 10704, \"value\": \"him\"}, \"nearly\": {\"frequency\": 1268, \"value\": \"nearly\"}, \"bar\": {\"frequency\": 1300, \"value\": \"bar\"}, \"ended\": {\"frequency\": 2430, \"value\": \"ended\"}, \"nicely\": {\"frequency\": 1799, \"value\": \"nicely\"}, \"shape\": {\"frequency\": 1550, \"value\": \"shape\"}, \"remove\": {\"frequency\": 2403, \"value\": \"remove\"}, \"worried\": {\"frequency\": 1544, \"value\": \"worried\"}, \"twice\": {\"frequency\": 1016, \"value\": \"twice\"}, \"bad\": {\"frequency\": 3021, \"value\": \"bad\"}, \"stuff\": {\"frequency\": 1996, \"value\": \"stuff\"}, \"she\": {\"frequency\": 22499, \"value\": \"she\"}, \"them!\": {\"frequency\": 1211, \"value\": \"them!\"}, \"18\": {\"frequency\": 1282, \"value\": \"18\"}, \"them.\": {\"frequency\": 6382, \"value\": \"them.\"}, \"grab\": {\"frequency\": 1341, \"value\": \"grab\"}, \"them,\": {\"frequency\": 2087, \"value\": \"them,\"}, \"where\": {\"frequency\": 6249, \"value\": \"where\"}, \"husband\": {\"frequency\": 5248, \"value\": \"husband\"}, \"bulky\": {\"frequency\": 1443, \"value\": \"bulky\"}, \"set\": {\"frequency\": 7297, \"value\": \"set\"}, \"attached\": {\"frequency\": 2156, \"value\": \"attached\"}, \"frame\": {\"frequency\": 1038, \"value\": \"frame\"}, \"seat\": {\"frequency\": 13472, \"value\": \"seat\"}, \"see\": {\"frequency\": 8822, \"value\": \"see\"}, \"decided\": {\"frequency\": 4126, \"value\": \"decided\"}, \"asleep\": {\"frequency\": 1957, \"value\": \"asleep\"}, \"are\": {\"frequency\": 48300, \"value\": \"are\"}, \"teething\": {\"frequency\": 1615, \"value\": \"teething\"}, \"close\": {\"frequency\": 3037, \"value\": \"close\"}, \"this.\": {\"frequency\": 3391, \"value\": \"this.\"}, \"arm\": {\"frequency\": 961, \"value\": \"arm\"}, \"best\": {\"frequency\": 8551, \"value\": \"best\"}, \"seems\": {\"frequency\": 7710, \"value\": \"seems\"}, \"said\": {\"frequency\": 3172, \"value\": \"said\"}, \"lots\": {\"frequency\": 2374, \"value\": \"lots\"}, \"pictures\": {\"frequency\": 1075, \"value\": \"pictures\"}, \"review\": {\"frequency\": 2436, \"value\": \"review\"}, \"unless\": {\"frequency\": 1670, \"value\": \"unless\"}, \"pump\": {\"frequency\": 3095, \"value\": \"pump\"}, \"there's\": {\"frequency\": 1903, \"value\": \"there's\"}, \"features\": {\"frequency\": 1373, \"value\": \"features\"}, \"years.\": {\"frequency\": 981, \"value\": \"years.\"}, \"between\": {\"frequency\": 3888, \"value\": \"between\"}, \"probably\": {\"frequency\": 3824, \"value\": \"probably\"}, \"enjoys\": {\"frequency\": 1360, \"value\": \"enjoys\"}, \"reading\": {\"frequency\": 2077, \"value\": \"reading\"}, \"across\": {\"frequency\": 1537, \"value\": \"across\"}, \"bought\": {\"frequency\": 25365, \"value\": \"bought\"}, \"available\": {\"frequency\": 1022, \"value\": \"available\"}, \"we\": {\"frequency\": 45693, \"value\": \"we\"}, \"loose\": {\"frequency\": 999, \"value\": \"loose\"}, \"recently\": {\"frequency\": 1443, \"value\": \"recently\"}, \"parent\": {\"frequency\": 1541, \"value\": \"parent\"}, \"opening\": {\"frequency\": 1582, \"value\": \"opening\"}, \"durable\": {\"frequency\": 1701, \"value\": \"durable\"}, \"however\": {\"frequency\": 2127, \"value\": \"however\"}, \"job\": {\"frequency\": 2090, \"value\": \"job\"}, \"wear\": {\"frequency\": 2246, \"value\": \"wear\"}, \"tub\": {\"frequency\": 1903, \"value\": \"tub\"}, \"zipper\": {\"frequency\": 1222, \"value\": \"zipper\"}, \"holds\": {\"frequency\": 3261, \"value\": \"holds\"}, \"monitor\": {\"frequency\": 3453, \"value\": \"monitor\"}, \"water\": {\"frequency\": 4969, \"value\": \"water\"}, \"protect\": {\"frequency\": 1057, \"value\": \"protect\"}, \"store\": {\"frequency\": 3505, \"value\": \"store\"}, \"last\": {\"frequency\": 5358, \"value\": \"last\"}, \"many\": {\"frequency\": 8397, \"value\": \"many\"}, \"taking\": {\"frequency\": 2381, \"value\": \"taking\"}, \"barely\": {\"frequency\": 1208, \"value\": \"barely\"}, \"against\": {\"frequency\": 1828, \"value\": \"against\"}, \"gotten\": {\"frequency\": 1663, \"value\": \"gotten\"}, \"negative\": {\"frequency\": 1280, \"value\": \"negative\"}, \"way.\": {\"frequency\": 1189, \"value\": \"way.\"}, \"hated\": {\"frequency\": 956, \"value\": \"hated\"}, \"wheels\": {\"frequency\": 1609, \"value\": \"wheels\"}, \"whole\": {\"frequency\": 3250, \"value\": \"whole\"}, \"comes\": {\"frequency\": 5744, \"value\": \"comes\"}, \"otherwise\": {\"frequency\": 1200, \"value\": \"otherwise\"}, \"liked\": {\"frequency\": 3412, \"value\": \"liked\"}, \"potty\": {\"frequency\": 2375, \"value\": \"potty\"}, \"price.\": {\"frequency\": 3263, \"value\": \"price.\"}, \"point\": {\"frequency\": 2115, \"value\": \"point\"}, \"color\": {\"frequency\": 4794, \"value\": \"color\"}, \"legs\": {\"frequency\": 2186, \"value\": \"legs\"}, \"stuck\": {\"frequency\": 1720, \"value\": \"stuck\"}, \"money.\": {\"frequency\": 2305, \"value\": \"money.\"}, \"pop\": {\"frequency\": 1092, \"value\": \"pop\"}, \"walk\": {\"frequency\": 1497, \"value\": \"walk\"}, \"newborn\": {\"frequency\": 2718, \"value\": \"newborn\"}, \"twin\": {\"frequency\": 996, \"value\": \"twin\"}, \"simply\": {\"frequency\": 1752, \"value\": \"simply\"}, \"together.\": {\"frequency\": 1646, \"value\": \"together.\"}, \"learning\": {\"frequency\": 1019, \"value\": \"learning\"}, \"pacifier\": {\"frequency\": 1260, \"value\": \"pacifier\"}, \"table\": {\"frequency\": 2637, \"value\": \"table\"}, \"mattress\": {\"frequency\": 2682, \"value\": \"mattress\"}, \"bibs\": {\"frequency\": 1035, \"value\": \"bibs\"}, \"expensive\": {\"frequency\": 2952, \"value\": \"expensive\"}, \"belt\": {\"frequency\": 1328, \"value\": \"belt\"}, \"considering\": {\"frequency\": 1056, \"value\": \"considering\"}, \"now.\": {\"frequency\": 2200, \"value\": \"now.\"}, \"strong\": {\"frequency\": 1812, \"value\": \"strong\"}, \"addition\": {\"frequency\": 1037, \"value\": \"addition\"}, \"come\": {\"frequency\": 6110, \"value\": \"come\"}, \"due\": {\"frequency\": 2635, \"value\": \"due\"}, \"been\": {\"frequency\": 15411, \"value\": \"been\"}, \"quickly\": {\"frequency\": 2618, \"value\": \"quickly\"}, \"much\": {\"frequency\": 19745, \"value\": \"much\"}, \"expected\": {\"frequency\": 1607, \"value\": \"expected\"}, \"babies.\": {\"frequency\": 1083, \"value\": \"babies.\"}, \"kitchen\": {\"frequency\": 1453, \"value\": \"kitchen\"}, \"home.\": {\"frequency\": 1094, \"value\": \"home.\"}, \"chair.\": {\"frequency\": 1558, \"value\": \"chair.\"}, \"wants\": {\"frequency\": 1628, \"value\": \"wants\"}, \"dry\": {\"frequency\": 2344, \"value\": \"dry\"}, \"life\": {\"frequency\": 2203, \"value\": \"life\"}, \"shopping\": {\"frequency\": 1339, \"value\": \"shopping\"}, \"it,\": {\"frequency\": 9813, \"value\": \"it,\"}, \"received\": {\"frequency\": 5137, \"value\": \"received\"}, \"mind\": {\"frequency\": 1972, \"value\": \"mind\"}, \"designed\": {\"frequency\": 1430, \"value\": \"designed\"}, \"-\": {\"frequency\": 10891, \"value\": \"-\"}, \"needed.\": {\"frequency\": 1052, \"value\": \"needed.\"}, \"else\": {\"frequency\": 2118, \"value\": \"else\"}, \"size,\": {\"frequency\": 1085, \"value\": \"size,\"}, \"figured\": {\"frequency\": 1722, \"value\": \"figured\"}, \"wake\": {\"frequency\": 963, \"value\": \"wake\"}, \"child\": {\"frequency\": 8336, \"value\": \"child\"}, \"worked\": {\"frequency\": 4970, \"value\": \"worked\"}, \"(and\": {\"frequency\": 2343, \"value\": \"(and\"}, \"standard\": {\"frequency\": 1654, \"value\": \"standard\"}, \"case\": {\"frequency\": 2226, \"value\": \"case\"}, \"myself\": {\"frequency\": 1733, \"value\": \"myself\"}, \"save\": {\"frequency\": 1768, \"value\": \"save\"}, \"look\": {\"frequency\": 7033, \"value\": \"look\"}, \"unlike\": {\"frequency\": 1013, \"value\": \"unlike\"}, \"these\": {\"frequency\": 28503, \"value\": \"these\"}, \"leave\": {\"frequency\": 2492, \"value\": \"leave\"}, \"straight\": {\"frequency\": 1061, \"value\": \"straight\"}, \"single\": {\"frequency\": 1603, \"value\": \"single\"}, \"n\": {\"frequency\": 1010, \"value\": \"n\"}, \"will\": {\"frequency\": 25380, \"value\": \"will\"}, \"while\": {\"frequency\": 12335, \"value\": \"while\"}, \"match\": {\"frequency\": 1057, \"value\": \"match\"}, \"fun\": {\"frequency\": 2742, \"value\": \"fun\"}, \"wouldn't\": {\"frequency\": 3933, \"value\": \"wouldn't\"}, \"pack\": {\"frequency\": 3124, \"value\": \"pack\"}, \"over.\": {\"frequency\": 1055, \"value\": \"over.\"}, \"stop\": {\"frequency\": 1301, \"value\": \"stop\"}, \"30\": {\"frequency\": 1339, \"value\": \"30\"}, \"overall,\": {\"frequency\": 1520, \"value\": \"overall,\"}, \"almost\": {\"frequency\": 5835, \"value\": \"almost\"}, \"use.\": {\"frequency\": 4350, \"value\": \"use.\"}, \"is\": {\"frequency\": 100222, \"value\": \"is\"}, \"use,\": {\"frequency\": 2277, \"value\": \"use,\"}, \"it\": {\"frequency\": 111703, \"value\": \"it\"}, \"sleeping\": {\"frequency\": 2545, \"value\": \"sleeping\"}, \"helped\": {\"frequency\": 1598, \"value\": \"helped\"}, \"middle\": {\"frequency\": 2229, \"value\": \"middle\"}, \"good\": {\"frequency\": 19574, \"value\": \"good\"}, \"experience\": {\"frequency\": 1032, \"value\": \"experience\"}, \"in\": {\"frequency\": 79480, \"value\": \"in\"}, \"ready\": {\"frequency\": 1848, \"value\": \"ready\"}, \"sits\": {\"frequency\": 1545, \"value\": \"sits\"}, \"said,\": {\"frequency\": 1210, \"value\": \"said,\"}, \"attach\": {\"frequency\": 1935, \"value\": \"attach\"}, \"worry\": {\"frequency\": 2362, \"value\": \"worry\"}, \"if\": {\"frequency\": 29612, \"value\": \"if\"}, \"bags\": {\"frequency\": 2297, \"value\": \"bags\"}, \"different\": {\"frequency\": 8106, \"value\": \"different\"}, \"bottles\": {\"frequency\": 4869, \"value\": \"bottles\"}, \"though,\": {\"frequency\": 1327, \"value\": \"though,\"}, \"pay\": {\"frequency\": 1686, \"value\": \"pay\"}, \"set.\": {\"frequency\": 1123, \"value\": \"set.\"}, \"same\": {\"frequency\": 6646, \"value\": \"same\"}, \"these.\": {\"frequency\": 2045, \"value\": \"these.\"}, \"room.\": {\"frequency\": 2661, \"value\": \"room.\"}, \"parts\": {\"frequency\": 2389, \"value\": \"parts\"}, \"pad\": {\"frequency\": 2647, \"value\": \"pad\"}, \"babies\": {\"frequency\": 5016, \"value\": \"babies\"}, \"9\": {\"frequency\": 2176, \"value\": \"9\"}, \"gift\": {\"frequency\": 4972, \"value\": \"gift\"}, \"gets\": {\"frequency\": 5757, \"value\": \"gets\"}, \"seat.\": {\"frequency\": 4607, \"value\": \"seat.\"}, \"daughters\": {\"frequency\": 1074, \"value\": \"daughters\"}, \"difficult\": {\"frequency\": 3767, \"value\": \"difficult\"}, \"week\": {\"frequency\": 2806, \"value\": \"week\"}, \"fairly\": {\"frequency\": 1509, \"value\": \"fairly\"}, \"used\": {\"frequency\": 17412, \"value\": \"used\"}, \"slightly\": {\"frequency\": 1618, \"value\": \"slightly\"}, \"sturdy,\": {\"frequency\": 1226, \"value\": \"sturdy,\"}, \"sturdy.\": {\"frequency\": 1344, \"value\": \"sturdy.\"}, \"recline\": {\"frequency\": 963, \"value\": \"recline\"}, \"hang\": {\"frequency\": 2278, \"value\": \"hang\"}, \"leaks\": {\"frequency\": 1054, \"value\": \"leaks\"}, \"hand\": {\"frequency\": 3381, \"value\": \"hand\"}, \"usually\": {\"frequency\": 2101, \"value\": \"usually\"}, \"toys.\": {\"frequency\": 1257, \"value\": \"toys.\"}, \"moving\": {\"frequency\": 1279, \"value\": \"moving\"}, \"cleaning\": {\"frequency\": 1415, \"value\": \"cleaning\"}, \"changing\": {\"frequency\": 3576, \"value\": \"changing\"}, \"totally\": {\"frequency\": 2088, \"value\": \"totally\"}, \"diapers,\": {\"frequency\": 1032, \"value\": \"diapers,\"}, \"made.\": {\"frequency\": 1328, \"value\": \"made.\"}, \"kid\": {\"frequency\": 2194, \"value\": \"kid\"}, \"underneath\": {\"frequency\": 1064, \"value\": \"underneath\"}, \"safe\": {\"frequency\": 3534, \"value\": \"safe\"}, \"daughter.\": {\"frequency\": 1533, \"value\": \"daughter.\"}, \"off\": {\"frequency\": 13247, \"value\": \"off\"}, \"stays\": {\"frequency\": 2100, \"value\": \"stays\"}, \"older\": {\"frequency\": 3445, \"value\": \"older\"}, \"i\": {\"frequency\": 116087, \"value\": \"i\"}, \"try\": {\"frequency\": 5260, \"value\": \"try\"}, \"floor\": {\"frequency\": 2068, \"value\": \"floor\"}, \"well\": {\"frequency\": 18599, \"value\": \"well\"}, \"spent\": {\"frequency\": 1408, \"value\": \"spent\"}, \"pillow\": {\"frequency\": 2474, \"value\": \"pillow\"}, \"thought\": {\"frequency\": 7059, \"value\": \"thought\"}, \"person\": {\"frequency\": 1158, \"value\": \"person\"}, \"yet,\": {\"frequency\": 1227, \"value\": \"yet,\"}, \"without\": {\"frequency\": 10515, \"value\": \"without\"}, \"thing.\": {\"frequency\": 1098, \"value\": \"thing.\"}, \"can't\": {\"frequency\": 9400, \"value\": \"can't\"}, \"bottle\": {\"frequency\": 5046, \"value\": \"bottle\"}, \"mother\": {\"frequency\": 1106, \"value\": \"mother\"}, \"position\": {\"frequency\": 1621, \"value\": \"position\"}, \"model\": {\"frequency\": 1221, \"value\": \"model\"}, \"bag.\": {\"frequency\": 2669, \"value\": \"bag.\"}, \"spend\": {\"frequency\": 1853, \"value\": \"spend\"}, \"bag,\": {\"frequency\": 1366, \"value\": \"bag,\"}, \"left\": {\"frequency\": 2064, \"value\": \"left\"}, \"summer\": {\"frequency\": 1380, \"value\": \"summer\"}, \"stores\": {\"frequency\": 1020, \"value\": \"stores\"}, \"just\": {\"frequency\": 37205, \"value\": \"just\"}, \"less\": {\"frequency\": 4764, \"value\": \"less\"}, \"being\": {\"frequency\": 8075, \"value\": \"being\"}, \"money\": {\"frequency\": 4520, \"value\": \"money\"}, \"hands\": {\"frequency\": 3552, \"value\": \"hands\"}, \"rest\": {\"frequency\": 1895, \"value\": \"rest\"}, \"seen\": {\"frequency\": 1808, \"value\": \"seen\"}, \"foot\": {\"frequency\": 1143, \"value\": \"foot\"}, \"batteries\": {\"frequency\": 1614, \"value\": \"batteries\"}, \"perfect.\": {\"frequency\": 1941, \"value\": \"perfect.\"}, \"fact\": {\"frequency\": 3296, \"value\": \"fact\"}, \"thanks\": {\"frequency\": 1005, \"value\": \"thanks\"}, \"seats\": {\"frequency\": 2733, \"value\": \"seats\"}, \"touch\": {\"frequency\": 1264, \"value\": \"touch\"}, \"love\": {\"frequency\": 33152, \"value\": \"love\"}, \"strap\": {\"frequency\": 2663, \"value\": \"strap\"}, \"yet\": {\"frequency\": 3611, \"value\": \"yet\"}, \"previous\": {\"frequency\": 1065, \"value\": \"previous\"}, \"but,\": {\"frequency\": 1085, \"value\": \"but,\"}, \"cut\": {\"frequency\": 1509, \"value\": \"cut\"}, \"waste\": {\"frequency\": 2397, \"value\": \"waste\"}, \"work.\": {\"frequency\": 1729, \"value\": \"work.\"}, \"cup\": {\"frequency\": 4863, \"value\": \"cup\"}, \"thinking\": {\"frequency\": 1522, \"value\": \"thinking\"}, \"we've\": {\"frequency\": 3592, \"value\": \"we've\"}, \"ease\": {\"frequency\": 1072, \"value\": \"ease\"}, \"price,\": {\"frequency\": 1490, \"value\": \"price,\"}, \"had\": {\"frequency\": 32194, \"value\": \"had\"}, \"except\": {\"frequency\": 1093, \"value\": \"except\"}, \"knew\": {\"frequency\": 1647, \"value\": \"knew\"}, \"great.\": {\"frequency\": 5782, \"value\": \"great.\"}, \"wall\": {\"frequency\": 1800, \"value\": \"wall\"}, \"add\": {\"frequency\": 1993, \"value\": \"add\"}, \"lower\": {\"frequency\": 1108, \"value\": \"lower\"}, \"parents\": {\"frequency\": 2136, \"value\": \"parents\"}, \"4\": {\"frequency\": 8675, \"value\": \"4\"}, \"easy\": {\"frequency\": 29168, \"value\": \"easy\"}, \"wet\": {\"frequency\": 1427, \"value\": \"wet\"}, \"snap\": {\"frequency\": 1533, \"value\": \"snap\"}, \"size.\": {\"frequency\": 1537, \"value\": \"size.\"}, \"has\": {\"frequency\": 30292, \"value\": \"has\"}, \"excited\": {\"frequency\": 1978, \"value\": \"excited\"}, \"surprised\": {\"frequency\": 1201, \"value\": \"surprised\"}, \"gave\": {\"frequency\": 3765, \"value\": \"gave\"}, \"real\": {\"frequency\": 1876, \"value\": \"real\"}, \"complaint\": {\"frequency\": 2200, \"value\": \"complaint\"}, \"around\": {\"frequency\": 11927, \"value\": \"around\"}, \"read\": {\"frequency\": 3969, \"value\": \"read\"}, \"big\": {\"frequency\": 10129, \"value\": \"big\"}, \"couple\": {\"frequency\": 4293, \"value\": \"couple\"}, \"expected.\": {\"frequency\": 1015, \"value\": \"expected.\"}, \"early\": {\"frequency\": 965, \"value\": \"early\"}, \"fine.\": {\"frequency\": 1758, \"value\": \"fine.\"}, \"lightweight\": {\"frequency\": 1341, \"value\": \"lightweight\"}, \"know\": {\"frequency\": 8093, \"value\": \"know\"}, \"mom\": {\"frequency\": 2604, \"value\": \"mom\"}, \"wide\": {\"frequency\": 1865, \"value\": \"wide\"}, \"immediately\": {\"frequency\": 1323, \"value\": \"immediately\"}, \"bit\": {\"frequency\": 8132, \"value\": \"bit\"}, \"replace\": {\"frequency\": 1905, \"value\": \"replace\"}, \"disappointed\": {\"frequency\": 2185, \"value\": \"disappointed\"}, \"rear\": {\"frequency\": 1200, \"value\": \"rear\"}, \"helpful\": {\"frequency\": 1148, \"value\": \"helpful\"}, \"shoulder\": {\"frequency\": 1253, \"value\": \"shoulder\"}, \"insert\": {\"frequency\": 1137, \"value\": \"insert\"}, \"maybe\": {\"frequency\": 2980, \"value\": \"maybe\"}, \"like\": {\"frequency\": 33025, \"value\": \"like\"}, \"lost\": {\"frequency\": 1279, \"value\": \"lost\"}, \"for.\": {\"frequency\": 1337, \"value\": \"for.\"}, \"roll\": {\"frequency\": 1296, \"value\": \"roll\"}, \"facing\": {\"frequency\": 1372, \"value\": \"facing\"}, \"nipple\": {\"frequency\": 1955, \"value\": \"nipple\"}, \"either\": {\"frequency\": 2730, \"value\": \"either\"}, \"always\": {\"frequency\": 6514, \"value\": \"always\"}, \"become\": {\"frequency\": 1113, \"value\": \"become\"}, \"works\": {\"frequency\": 11179, \"value\": \"works\"}, \"table.\": {\"frequency\": 1053, \"value\": \"table.\"}, \"two\": {\"frequency\": 13638, \"value\": \"two\"}, \"likes\": {\"frequency\": 4368, \"value\": \"likes\"}, \"because\": {\"frequency\": 24731, \"value\": \"because\"}, \"old\": {\"frequency\": 23324, \"value\": \"old\"}, \"couldn't\": {\"frequency\": 3893, \"value\": \"couldn't\"}, \"deal\": {\"frequency\": 2014, \"value\": \"deal\"}, \"people\": {\"frequency\": 3459, \"value\": \"people\"}, \"absolutely\": {\"frequency\": 4338, \"value\": \"absolutely\"}, \"the\": {\"frequency\": 138806, \"value\": \"the\"}, \"arrived\": {\"frequency\": 2710, \"value\": \"arrived\"}, \"back\": {\"frequency\": 14710, \"value\": \"back\"}, \"10\": {\"frequency\": 3085, \"value\": \"10\"}, \"born\": {\"frequency\": 2100, \"value\": \"born\"}, \"added\": {\"frequency\": 1349, \"value\": \"added\"}, \"fabric\": {\"frequency\": 3606, \"value\": \"fabric\"}, \"mirror\": {\"frequency\": 1077, \"value\": \"mirror\"}, \"pain\": {\"frequency\": 1665, \"value\": \"pain\"}, \"little\": {\"frequency\": 29251, \"value\": \"little\"}, \"guess\": {\"frequency\": 1710, \"value\": \"guess\"}, \"sized\": {\"frequency\": 1125, \"value\": \"sized\"}, \"both\": {\"frequency\": 8045, \"value\": \"both\"}, \"for\": {\"frequency\": 100172, \"value\": \"for\"}, \"bottom\": {\"frequency\": 4719, \"value\": \"bottom\"}, \"leak\": {\"frequency\": 2008, \"value\": \"leak\"}, \"bedding\": {\"frequency\": 1110, \"value\": \"bedding\"}, \"normal\": {\"frequency\": 1032, \"value\": \"normal\"}, \"constantly\": {\"frequency\": 1539, \"value\": \"constantly\"}, \"(i\": {\"frequency\": 2339, \"value\": \"(i\"}, \"everything\": {\"frequency\": 5285, \"value\": \"everything\"}, \"does\": {\"frequency\": 13731, \"value\": \"does\"}, \"three\": {\"frequency\": 4091, \"value\": \"three\"}, \"adorable\": {\"frequency\": 1366, \"value\": \"adorable\"}, \"christmas\": {\"frequency\": 1018, \"value\": \"christmas\"}, \"good.\": {\"frequency\": 1520, \"value\": \"good.\"}, \"son's\": {\"frequency\": 2259, \"value\": \"son's\"}, \"now,\": {\"frequency\": 2128, \"value\": \"now,\"}, \"noise\": {\"frequency\": 1582, \"value\": \"noise\"}, \"run\": {\"frequency\": 1715, \"value\": \"run\"}, \"problems\": {\"frequency\": 2982, \"value\": \"problems\"}, \"night\": {\"frequency\": 5251, \"value\": \"night\"}, \"there.\": {\"frequency\": 1700, \"value\": \"there.\"}, \"step\": {\"frequency\": 1126, \"value\": \"step\"}, \"medela\": {\"frequency\": 1577, \"value\": \"medela\"}, \"although\": {\"frequency\": 2923, \"value\": \"although\"}, \"assemble\": {\"frequency\": 1117, \"value\": \"assemble\"}, \"super\": {\"frequency\": 6347, \"value\": \"super\"}, \"by\": {\"frequency\": 13677, \"value\": \"by\"}, \"on\": {\"frequency\": 62403, \"value\": \"on\"}, \"about\": {\"frequency\": 23177, \"value\": \"about\"}, \"actual\": {\"frequency\": 976, \"value\": \"actual\"}, \"working\": {\"frequency\": 2177, \"value\": \"working\"}, \"anything\": {\"frequency\": 4099, \"value\": \"anything\"}, \"package\": {\"frequency\": 1090, \"value\": \"package\"}, \"of\": {\"frequency\": 79892, \"value\": \"of\"}, \"months\": {\"frequency\": 14964, \"value\": \"months\"}, \"favorite\": {\"frequency\": 2782, \"value\": \"favorite\"}, \"shipping\": {\"frequency\": 1475, \"value\": \"shipping\"}, \"range\": {\"frequency\": 956, \"value\": \"range\"}, \"carrier\": {\"frequency\": 1909, \"value\": \"carrier\"}, \"plus\": {\"frequency\": 2773, \"value\": \"plus\"}, \"portable\": {\"frequency\": 1124, \"value\": \"portable\"}, \"pockets\": {\"frequency\": 1464, \"value\": \"pockets\"}, \"it's\": {\"frequency\": 29992, \"value\": \"it's\"}, \"8\": {\"frequency\": 3039, \"value\": \"8\"}, \"replacement\": {\"frequency\": 1708, \"value\": \"replacement\"}, \"out,\": {\"frequency\": 1874, \"value\": \"out,\"}, \"or\": {\"frequency\": 29779, \"value\": \"or\"}, \"out.\": {\"frequency\": 4158, \"value\": \"out.\"}, \"bath\": {\"frequency\": 2200, \"value\": \"bath\"}, \"own\": {\"frequency\": 4040, \"value\": \"own\"}, \"sheets\": {\"frequency\": 1374, \"value\": \"sheets\"}, \"enough\": {\"frequency\": 11665, \"value\": \"enough\"}, \"into\": {\"frequency\": 12252, \"value\": \"into\"}, \"within\": {\"frequency\": 2240, \"value\": \"within\"}, \"son\": {\"frequency\": 18728, \"value\": \"son\"}, \"down\": {\"frequency\": 9561, \"value\": \"down\"}, \"nice,\": {\"frequency\": 1150, \"value\": \"nice,\"}, \"right\": {\"frequency\": 9207, \"value\": \"right\"}, \"tiny\": {\"frequency\": 1666, \"value\": \"tiny\"}, \"wrap\": {\"frequency\": 1323, \"value\": \"wrap\"}, \".\": {\"frequency\": 1254, \"value\": \".\"}, \"your\": {\"frequency\": 16982, \"value\": \"your\"}, \"recommend.\": {\"frequency\": 1169, \"value\": \"recommend.\"}, \"often\": {\"frequency\": 1878, \"value\": \"often\"}, \"impressed\": {\"frequency\": 1052, \"value\": \"impressed\"}, \"additional\": {\"frequency\": 1069, \"value\": \"additional\"}, \"her\": {\"frequency\": 21027, \"value\": \"her\"}, \"area\": {\"frequency\": 1565, \"value\": \"area\"}, \"support\": {\"frequency\": 2072, \"value\": \"support\"}, \"there\": {\"frequency\": 16337, \"value\": \"there\"}, \"live\": {\"frequency\": 1953, \"value\": \"live\"}, \"long\": {\"frequency\": 8113, \"value\": \"long\"}, \"noticed\": {\"frequency\": 1656, \"value\": \"noticed\"}, \"fully\": {\"frequency\": 1006, \"value\": \"fully\"}, \"start\": {\"frequency\": 2282, \"value\": \"start\"}, \"camera\": {\"frequency\": 1098, \"value\": \"camera\"}, \"low\": {\"frequency\": 1834, \"value\": \"low\"}, \"lot\": {\"frequency\": 8206, \"value\": \"lot\"}, \"forward\": {\"frequency\": 1954, \"value\": \"forward\"}, \"call\": {\"frequency\": 1002, \"value\": \"call\"}, \"stroller,\": {\"frequency\": 1688, \"value\": \"stroller,\"}, \"place.\": {\"frequency\": 1356, \"value\": \"place.\"}, \"was\": {\"frequency\": 58124, \"value\": \"was\"}, \"happy\": {\"frequency\": 8724, \"value\": \"happy\"}, \"you.\": {\"frequency\": 1155, \"value\": \"you.\"}, \"head\": {\"frequency\": 4170, \"value\": \"head\"}, \"buy\": {\"frequency\": 12651, \"value\": \"buy\"}, \"battery\": {\"frequency\": 1758, \"value\": \"battery\"}, \"inches\": {\"frequency\": 1101, \"value\": \"inches\"}, \"child's\": {\"frequency\": 1134, \"value\": \"child's\"}, \"some\": {\"frequency\": 13753, \"value\": \"some\"}, \"sound\": {\"frequency\": 2783, \"value\": \"sound\"}, \"recommend\": {\"frequency\": 17203, \"value\": \"recommend\"}, \"pleased\": {\"frequency\": 2714, \"value\": \"pleased\"}, \"so,\": {\"frequency\": 1675, \"value\": \"so,\"}, \"but\": {\"frequency\": 63532, \"value\": \"but\"}, \"idea\": {\"frequency\": 2261, \"value\": \"idea\"}, \"volume\": {\"frequency\": 1119, \"value\": \"volume\"}, \"cloth\": {\"frequency\": 3023, \"value\": \"cloth\"}, \"hear\": {\"frequency\": 1893, \"value\": \"hear\"}, \"diaper\": {\"frequency\": 8278, \"value\": \"diaper\"}, \"line\": {\"frequency\": 1267, \"value\": \"line\"}, \"trying\": {\"frequency\": 4340, \"value\": \"trying\"}, \"with\": {\"frequency\": 67060, \"value\": \"with\"}, \"quality,\": {\"frequency\": 1277, \"value\": \"quality,\"}, \"buying\": {\"frequency\": 4591, \"value\": \"buying\"}, \"he\": {\"frequency\": 22185, \"value\": \"he\"}, \"this!\": {\"frequency\": 985, \"value\": \"this!\"}, \"pull\": {\"frequency\": 3527, \"value\": \"pull\"}, \"throw\": {\"frequency\": 2103, \"value\": \"throw\"}, \"made\": {\"frequency\": 11013, \"value\": \"made\"}, \"strollers\": {\"frequency\": 1161, \"value\": \"strollers\"}, \"wasn't\": {\"frequency\": 3960, \"value\": \"wasn't\"}, \"wish\": {\"frequency\": 8000, \"value\": \"wish\"}, \"inside\": {\"frequency\": 3537, \"value\": \"inside\"}, \"that,\": {\"frequency\": 1852, \"value\": \"that,\"}, \"smooth\": {\"frequency\": 1058, \"value\": \"smooth\"}, \"this,\": {\"frequency\": 1997, \"value\": \"this,\"}, \"we're\": {\"frequency\": 1760, \"value\": \"we're\"}, \"until\": {\"frequency\": 5554, \"value\": \"until\"}, \"placed\": {\"frequency\": 1067, \"value\": \"placed\"}, \"again.\": {\"frequency\": 2748, \"value\": \"again.\"}, \"those\": {\"frequency\": 5209, \"value\": \"those\"}, \"dirty\": {\"frequency\": 1197, \"value\": \"dirty\"}, \"problem\": {\"frequency\": 5378, \"value\": \"problem\"}, \"piece\": {\"frequency\": 3282, \"value\": \"piece\"}, \"etc.\": {\"frequency\": 2262, \"value\": \"etc.\"}, \"called\": {\"frequency\": 1349, \"value\": \"called\"}, \"side.\": {\"frequency\": 1130, \"value\": \"side.\"}, \"instead\": {\"frequency\": 3726, \"value\": \"instead\"}, \"sometimes\": {\"frequency\": 2998, \"value\": \"sometimes\"}, \"ordered\": {\"frequency\": 5732, \"value\": \"ordered\"}, \"soft,\": {\"frequency\": 1855, \"value\": \"soft,\"}, \"pump.\": {\"frequency\": 992, \"value\": \"pump.\"}, \"am\": {\"frequency\": 15378, \"value\": \"am\"}, \"gift.\": {\"frequency\": 1345, \"value\": \"gift.\"}, \"covers\": {\"frequency\": 2022, \"value\": \"covers\"}, \"an\": {\"frequency\": 19728, \"value\": \"an\"}, \"problem.\": {\"frequency\": 1584, \"value\": \"problem.\"}, \"as\": {\"frequency\": 42366, \"value\": \"as\"}, \"held\": {\"frequency\": 2456, \"value\": \"held\"}, \"at\": {\"frequency\": 36159, \"value\": \"at\"}, \"home\": {\"frequency\": 3389, \"value\": \"home\"}, \"himself\": {\"frequency\": 1113, \"value\": \"himself\"}, \"annoying\": {\"frequency\": 1150, \"value\": \"annoying\"}, \"trip\": {\"frequency\": 1390, \"value\": \"trip\"}, \"four\": {\"frequency\": 2237, \"value\": \"four\"}, \"fill\": {\"frequency\": 1075, \"value\": \"fill\"}, \"hit\": {\"frequency\": 1407, \"value\": \"hit\"}, \"again\": {\"frequency\": 3263, \"value\": \"again\"}, \"compared\": {\"frequency\": 1658, \"value\": \"compared\"}, \"us\": {\"frequency\": 6340, \"value\": \"us\"}, \"want\": {\"frequency\": 8469, \"value\": \"want\"}, \"no\": {\"frequency\": 21590, \"value\": \"no\"}, \"not\": {\"frequency\": 52199, \"value\": \"not\"}, \"latch\": {\"frequency\": 1738, \"value\": \"latch\"}, \"when\": {\"frequency\": 42123, \"value\": \"when\"}, \"bed.\": {\"frequency\": 1363, \"value\": \"bed.\"}, \"small,\": {\"frequency\": 963, \"value\": \"small,\"}, \"rubber\": {\"frequency\": 1152, \"value\": \"rubber\"}, \"tight\": {\"frequency\": 2005, \"value\": \"tight\"}, \"nap\": {\"frequency\": 961, \"value\": \"nap\"}, \"other\": {\"frequency\": 22324, \"value\": \"other\"}, \"5\": {\"frequency\": 8057, \"value\": \"5\"}, \"wipes\": {\"frequency\": 1643, \"value\": \"wipes\"}, \"holding\": {\"frequency\": 2384, \"value\": \"holding\"}, \"you\": {\"frequency\": 39311, \"value\": \"you\"}, \"really\": {\"frequency\": 23934, \"value\": \"really\"}, \"smell\": {\"frequency\": 1705, \"value\": \"smell\"}, \"company\": {\"frequency\": 2024, \"value\": \"company\"}, \"nice\": {\"frequency\": 12685, \"value\": \"nice\"}, \"poor\": {\"frequency\": 1178, \"value\": \"poor\"}, \"picture\": {\"frequency\": 2421, \"value\": \"picture\"}, \"star\": {\"frequency\": 1467, \"value\": \"star\"}, \"again,\": {\"frequency\": 1197, \"value\": \"again,\"}, \"getting\": {\"frequency\": 7923, \"value\": \"getting\"}, \"setting\": {\"frequency\": 999, \"value\": \"setting\"}, \"mat\": {\"frequency\": 1413, \"value\": \"mat\"}, \"stay\": {\"frequency\": 4055, \"value\": \"stay\"}, \"in,\": {\"frequency\": 1285, \"value\": \"in,\"}, \"push\": {\"frequency\": 2493, \"value\": \"push\"}, \"in.\": {\"frequency\": 2364, \"value\": \"in.\"}, \"important\": {\"frequency\": 1324, \"value\": \"important\"}, \"trouble\": {\"frequency\": 1481, \"value\": \"trouble\"}, \"brands\": {\"frequency\": 1143, \"value\": \"brands\"}, \"friends\": {\"frequency\": 2167, \"value\": \"friends\"}, \"sides\": {\"frequency\": 1862, \"value\": \"sides\"}, \"ago\": {\"frequency\": 1738, \"value\": \"ago\"}, \"longer\": {\"frequency\": 3528, \"value\": \"longer\"}, \"using\": {\"frequency\": 14378, \"value\": \"using\"}, \"wife\": {\"frequency\": 1919, \"value\": \"wife\"}, \"came\": {\"frequency\": 6750, \"value\": \"came\"}, \"age\": {\"frequency\": 1199, \"value\": \"age\"}, \"holes\": {\"frequency\": 1315, \"value\": \"holes\"}, \"daily\": {\"frequency\": 1049, \"value\": \"daily\"}, \"having\": {\"frequency\": 7632, \"value\": \"having\"}, \"back.\": {\"frequency\": 1833, \"value\": \"back.\"}, \"itself\": {\"frequency\": 1829, \"value\": \"itself\"}, \"warm\": {\"frequency\": 2421, \"value\": \"warm\"}, \"britax\": {\"frequency\": 1736, \"value\": \"britax\"}, \"apart\": {\"frequency\": 1838, \"value\": \"apart\"}, \"time\": {\"frequency\": 16759, \"value\": \"time\"}, \"far\": {\"frequency\": 5920, \"value\": \"far\"}, \"she's\": {\"frequency\": 2631, \"value\": \"she's\"}, \"starting\": {\"frequency\": 1312, \"value\": \"starting\"}, \"stroller\": {\"frequency\": 7193, \"value\": \"stroller\"}, \"once\": {\"frequency\": 7095, \"value\": \"once\"}}, \"size\": 9517485}, \"progress\": 1.0, \"values\": {\"std\": 1.3746603510180262, \"complete\": true, \"min\": 1.0, \"max\": 173.0, \"quantile\": [1.0, 1.0, 1.0, 1.0, 1.0, 1.0, 1.0, 1.0, 1.0, 1.0, 1.0, 1.0, 1.0, 1.0, 1.0, 1.0, 1.0, 1.0, 1.0, 1.0, 1.0, 1.0, 1.0, 1.0, 1.0, 1.0, 1.0, 1.0, 1.0, 1.0, 1.0, 1.0, 1.0, 1.0, 1.0, 1.0, 1.0, 1.0, 1.0, 1.0, 1.0, 1.0, 1.0, 1.0, 1.0, 1.0, 1.0, 1.0, 1.0, 1.0, 1.0, 1.0, 1.0, 1.0, 1.0, 1.0, 1.0, 1.0, 1.0, 1.0, 1.0, 1.0, 1.0, 1.0, 1.0, 1.0, 1.0, 1.0, 1.0, 1.0, 1.0, 1.0, 1.0, 1.0, 1.0, 1.0, 1.0, 1.0, 1.0, 1.0, 1.0, 2.0, 2.0, 2.0, 2.0, 2.0, 2.0, 2.0, 2.0, 2.0, 2.0, 2.0, 3.0, 3.0, 3.0, 3.0, 4.0, 4.0, 5.0, 7.0, 173.0], \"median\": 1.0, \"numeric\": true, \"num_unique\": 108, \"num_undefined\": 0, \"var\": 1.889691080661003, \"progress\": 1.0, \"size\": 9517485, \"frequent_items\": {\"1.0\": {\"frequency\": 7676298, \"value\": 1.0}, \"2.0\": {\"frequency\": 1086439, \"value\": 2.0}, \"3.0\": {\"frequency\": 352551, \"value\": 3.0}, \"4.0\": {\"frequency\": 159165, \"value\": 4.0}, \"5.0\": {\"frequency\": 85095, \"value\": 5.0}, \"6.0\": {\"frequency\": 49632, \"value\": 6.0}, \"7.0\": {\"frequency\": 31194, \"value\": 7.0}, \"8.0\": {\"frequency\": 20270, \"value\": 8.0}, \"9.0\": {\"frequency\": 14079, \"value\": 9.0}, \"10.0\": {\"frequency\": 9793, \"value\": 10.0}, \"11.0\": {\"frequency\": 7218, \"value\": 11.0}, \"12.0\": {\"frequency\": 5276, \"value\": 12.0}, \"13.0\": {\"frequency\": 3954, \"value\": 13.0}, \"14.0\": {\"frequency\": 3081, \"value\": 14.0}, \"15.0\": {\"frequency\": 2355, \"value\": 15.0}, \"16.0\": {\"frequency\": 1863, \"value\": 16.0}, \"17.0\": {\"frequency\": 1495, \"value\": 17.0}, \"18.0\": {\"frequency\": 1212, \"value\": 18.0}, \"19.0\": {\"frequency\": 912, \"value\": 19.0}, \"20.0\": {\"frequency\": 768, \"value\": 20.0}, \"21.0\": {\"frequency\": 689, \"value\": 21.0}, \"22.0\": {\"frequency\": 579, \"value\": 22.0}, \"23.0\": {\"frequency\": 450, \"value\": 23.0}, \"24.0\": {\"frequency\": 392, \"value\": 24.0}, \"25.0\": {\"frequency\": 339, \"value\": 25.0}, \"26.0\": {\"frequency\": 276, \"value\": 26.0}, \"27.0\": {\"frequency\": 236, \"value\": 27.0}, \"28.0\": {\"frequency\": 212, \"value\": 28.0}, \"29.0\": {\"frequency\": 201, \"value\": 29.0}, \"30.0\": {\"frequency\": 130, \"value\": 30.0}, \"31.0\": {\"frequency\": 125, \"value\": 31.0}, \"32.0\": {\"frequency\": 106, \"value\": 32.0}, \"33.0\": {\"frequency\": 117, \"value\": 33.0}, \"34.0\": {\"frequency\": 100, \"value\": 34.0}, \"35.0\": {\"frequency\": 84, \"value\": 35.0}, \"36.0\": {\"frequency\": 63, \"value\": 36.0}, \"37.0\": {\"frequency\": 59, \"value\": 37.0}, \"38.0\": {\"frequency\": 62, \"value\": 38.0}, \"39.0\": {\"frequency\": 46, \"value\": 39.0}, \"40.0\": {\"frequency\": 38, \"value\": 40.0}, \"41.0\": {\"frequency\": 42, \"value\": 41.0}, \"42.0\": {\"frequency\": 31, \"value\": 42.0}, \"43.0\": {\"frequency\": 26, \"value\": 43.0}, \"44.0\": {\"frequency\": 34, \"value\": 44.0}, \"45.0\": {\"frequency\": 33, \"value\": 45.0}, \"46.0\": {\"frequency\": 25, \"value\": 46.0}, \"47.0\": {\"frequency\": 23, \"value\": 47.0}, \"48.0\": {\"frequency\": 22, \"value\": 48.0}, \"49.0\": {\"frequency\": 13, \"value\": 49.0}, \"50.0\": {\"frequency\": 14, \"value\": 50.0}, \"51.0\": {\"frequency\": 23, \"value\": 51.0}, \"52.0\": {\"frequency\": 12, \"value\": 52.0}, \"53.0\": {\"frequency\": 20, \"value\": 53.0}, \"54.0\": {\"frequency\": 15, \"value\": 54.0}, \"55.0\": {\"frequency\": 9, \"value\": 55.0}, \"56.0\": {\"frequency\": 16, \"value\": 56.0}, \"57.0\": {\"frequency\": 10, \"value\": 57.0}, \"58.0\": {\"frequency\": 11, \"value\": 58.0}, \"59.0\": {\"frequency\": 5, \"value\": 59.0}, \"60.0\": {\"frequency\": 13, \"value\": 60.0}, \"61.0\": {\"frequency\": 11, \"value\": 61.0}, \"62.0\": {\"frequency\": 7, \"value\": 62.0}, \"63.0\": {\"frequency\": 8, \"value\": 63.0}, \"64.0\": {\"frequency\": 8, \"value\": 64.0}, \"65.0\": {\"frequency\": 9, \"value\": 65.0}, \"66.0\": {\"frequency\": 3, \"value\": 66.0}, \"67.0\": {\"frequency\": 6, \"value\": 67.0}, \"68.0\": {\"frequency\": 1, \"value\": 68.0}, \"69.0\": {\"frequency\": 4, \"value\": 69.0}, \"70.0\": {\"frequency\": 4, \"value\": 70.0}, \"71.0\": {\"frequency\": 7, \"value\": 71.0}, \"72.0\": {\"frequency\": 3, \"value\": 72.0}, \"73.0\": {\"frequency\": 4, \"value\": 73.0}, \"74.0\": {\"frequency\": 2, \"value\": 74.0}, \"75.0\": {\"frequency\": 4, \"value\": 75.0}, \"76.0\": {\"frequency\": 1, \"value\": 76.0}, \"77.0\": {\"frequency\": 3, \"value\": 77.0}, \"78.0\": {\"frequency\": 1, \"value\": 78.0}, \"79.0\": {\"frequency\": 3, \"value\": 79.0}, \"80.0\": {\"frequency\": 1, \"value\": 80.0}, \"81.0\": {\"frequency\": 2, \"value\": 81.0}, \"82.0\": {\"frequency\": 4, \"value\": 82.0}, \"84.0\": {\"frequency\": 1, \"value\": 84.0}, \"85.0\": {\"frequency\": 3, \"value\": 85.0}, \"86.0\": {\"frequency\": 3, \"value\": 86.0}, \"87.0\": {\"frequency\": 2, \"value\": 87.0}, \"88.0\": {\"frequency\": 2, \"value\": 88.0}, \"89.0\": {\"frequency\": 1, \"value\": 89.0}, \"90.0\": {\"frequency\": 1, \"value\": 90.0}, \"92.0\": {\"frequency\": 1, \"value\": 92.0}, \"93.0\": {\"frequency\": 5, \"value\": 93.0}, \"94.0\": {\"frequency\": 2, \"value\": 94.0}, \"96.0\": {\"frequency\": 1, \"value\": 96.0}, \"98.0\": {\"frequency\": 1, \"value\": 98.0}, \"99.0\": {\"frequency\": 1, \"value\": 99.0}, \"100.0\": {\"frequency\": 1, \"value\": 100.0}, \"101.0\": {\"frequency\": 1, \"value\": 101.0}, \"107.0\": {\"frequency\": 1, \"value\": 107.0}, \"108.0\": {\"frequency\": 1, \"value\": 108.0}, \"115.0\": {\"frequency\": 1, \"value\": 115.0}, \"118.0\": {\"frequency\": 1, \"value\": 118.0}, \"120.0\": {\"frequency\": 1, \"value\": 120.0}, \"124.0\": {\"frequency\": 1, \"value\": 124.0}, \"146.0\": {\"frequency\": 1, \"value\": 146.0}, \"153.0\": {\"frequency\": 1, \"value\": 153.0}, \"161.0\": {\"frequency\": 1, \"value\": 161.0}, \"167.0\": {\"frequency\": 1, \"value\": 167.0}, \"173.0\": {\"frequency\": 2, \"value\": 173.0}}, \"mean\": 1.4075302456478882}, \"complete\": true, \"num_undefined\": 0}, \"selected_variable\": {\"name\": [\"<SArray>\"], \"dtype\": \"dict\", \"view_component\": \"Dictionary\", \"view_file\": \"sarray\", \"descriptives\": {\"rows\": 166752}, \"type\": \"SArray\", \"view_components\": [\"Dictionary\"]}, \"histogram\": null}, e);\n",
       "                });\n",
       "            })();\n",
       "        "
      ]
     },
     "metadata": {},
     "output_type": "display_data"
    }
   ],
   "source": [
    "products['word_count'].show()"
   ]
  },
  {
   "cell_type": "markdown",
   "metadata": {
    "collapsed": true
   },
   "source": [
    "#### Examining the reviews for most-sold product:  'Vulli Sophie the Giraffe Teether'"
   ]
  },
  {
   "cell_type": "code",
   "execution_count": 8,
   "metadata": {
    "collapsed": true
   },
   "outputs": [],
   "source": [
    "giraffe_reviews = products[products['name'] == 'Vulli Sophie the Giraffe Teether']"
   ]
  },
  {
   "cell_type": "code",
   "execution_count": 9,
   "metadata": {
    "collapsed": false
   },
   "outputs": [
    {
     "data": {
      "text/plain": [
       "785"
      ]
     },
     "execution_count": 9,
     "metadata": {},
     "output_type": "execute_result"
    }
   ],
   "source": [
    "len(giraffe_reviews)"
   ]
  },
  {
   "cell_type": "code",
   "execution_count": 10,
   "metadata": {
    "collapsed": false
   },
   "outputs": [
    {
     "data": {
      "application/javascript": [
       "$(\"head\").append($(\"<link/>\").attr({\n",
       "  rel:  \"stylesheet\",\n",
       "  type: \"text/css\",\n",
       "  href: \"//cdnjs.cloudflare.com/ajax/libs/font-awesome/4.1.0/css/font-awesome.min.css\"\n",
       "}));\n",
       "$(\"head\").append($(\"<link/>\").attr({\n",
       "  rel:  \"stylesheet\",\n",
       "  type: \"text/css\",\n",
       "  href: \"//dato.com/files/canvas/1.6.1/css/canvas.css\"\n",
       "}));\n",
       "\n",
       "            (function(){\n",
       "\n",
       "                var e = null;\n",
       "                if (typeof element == 'undefined') {\n",
       "                    var scripts = document.getElementsByTagName('script');\n",
       "                    var thisScriptTag = scripts[scripts.length-1];\n",
       "                    var parentDiv = thisScriptTag.parentNode;\n",
       "                    e = document.createElement('div');\n",
       "                    parentDiv.appendChild(e);\n",
       "                } else {\n",
       "                    e = element[0];\n",
       "                }\n",
       "\n",
       "                if (typeof requirejs !== 'undefined') {\n",
       "                    // disable load timeout; ipython_app.js is large and can take a while to load.\n",
       "                    requirejs.config({waitSeconds: 0});\n",
       "                }\n",
       "\n",
       "                require(['//dato.com/files/canvas/1.6.1/js/ipython_app.js'], function(IPythonApp){\n",
       "                    var app = new IPythonApp();\n",
       "                    app.attachView('sarray','Categorical', {\"ipython\": true, \"sketch\": {\"std\": 1.226576304850189, \"complete\": true, \"min\": 1.0, \"max\": 5.0, \"quantile\": [1.0, 1.0, 1.0, 1.0, 1.0, 1.0, 1.0, 1.0, 2.0, 2.0, 2.0, 2.0, 3.0, 3.0, 3.0, 3.0, 3.0, 3.0, 3.0, 3.0, 4.0, 4.0, 4.0, 4.0, 4.0, 4.0, 4.0, 4.0, 4.0, 4.0, 4.0, 4.0, 5.0, 5.0, 5.0, 5.0, 5.0, 5.0, 5.0, 5.0, 5.0, 5.0, 5.0, 5.0, 5.0, 5.0, 5.0, 5.0, 5.0, 5.0, 5.0, 5.0, 5.0, 5.0, 5.0, 5.0, 5.0, 5.0, 5.0, 5.0, 5.0, 5.0, 5.0, 5.0, 5.0, 5.0, 5.0, 5.0, 5.0, 5.0, 5.0, 5.0, 5.0, 5.0, 5.0, 5.0, 5.0, 5.0, 5.0, 5.0, 5.0, 5.0, 5.0, 5.0, 5.0, 5.0, 5.0, 5.0, 5.0, 5.0, 5.0, 5.0, 5.0, 5.0, 5.0, 5.0, 5.0, 5.0, 5.0, 5.0, 5.0], \"median\": 5.0, \"numeric\": true, \"num_unique\": 5, \"num_undefined\": 0, \"var\": 1.504489431619944, \"progress\": 1.0, \"size\": 785, \"frequent_items\": {\"1.0\": {\"frequency\": 56, \"value\": 1.0}, \"2.0\": {\"frequency\": 37, \"value\": 2.0}, \"3.0\": {\"frequency\": 62, \"value\": 3.0}, \"4.0\": {\"frequency\": 95, \"value\": 4.0}, \"5.0\": {\"frequency\": 535, \"value\": 5.0}}, \"mean\": 4.294267515923567}, \"selected_variable\": {\"name\": [\"<SArray>\"], \"dtype\": \"float\", \"view_component\": \"Categorical\", \"view_file\": \"sarray\", \"descriptives\": {\"rows\": 785}, \"type\": \"SArray\", \"view_components\": [\"Numeric\", \"Categorical\"]}, \"histogram\": {\"progress\": 1.0, \"histogram\": {\"max\": 5.0439843750025, \"bins\": [56, 0, 0, 37, 0, 0, 62, 0, 95, 0, 0, 535], \"min\": 0.9534375000025004}, \"min\": 1.0, \"complete\": 1, \"max\": 5.0}}, e);\n",
       "                });\n",
       "            })();\n",
       "        "
      ]
     },
     "metadata": {},
     "output_type": "display_data"
    }
   ],
   "source": [
    "giraffe_reviews['rating'].show(view='Categorical')"
   ]
  },
  {
   "cell_type": "markdown",
   "metadata": {},
   "source": [
    "####  Build a sentiment classifier"
   ]
  },
  {
   "cell_type": "code",
   "execution_count": 11,
   "metadata": {
    "collapsed": false
   },
   "outputs": [
    {
     "data": {
      "application/javascript": [
       "$(\"head\").append($(\"<link/>\").attr({\n",
       "  rel:  \"stylesheet\",\n",
       "  type: \"text/css\",\n",
       "  href: \"//cdnjs.cloudflare.com/ajax/libs/font-awesome/4.1.0/css/font-awesome.min.css\"\n",
       "}));\n",
       "$(\"head\").append($(\"<link/>\").attr({\n",
       "  rel:  \"stylesheet\",\n",
       "  type: \"text/css\",\n",
       "  href: \"//dato.com/files/canvas/1.6.1/css/canvas.css\"\n",
       "}));\n",
       "\n",
       "            (function(){\n",
       "\n",
       "                var e = null;\n",
       "                if (typeof element == 'undefined') {\n",
       "                    var scripts = document.getElementsByTagName('script');\n",
       "                    var thisScriptTag = scripts[scripts.length-1];\n",
       "                    var parentDiv = thisScriptTag.parentNode;\n",
       "                    e = document.createElement('div');\n",
       "                    parentDiv.appendChild(e);\n",
       "                } else {\n",
       "                    e = element[0];\n",
       "                }\n",
       "\n",
       "                if (typeof requirejs !== 'undefined') {\n",
       "                    // disable load timeout; ipython_app.js is large and can take a while to load.\n",
       "                    requirejs.config({waitSeconds: 0});\n",
       "                }\n",
       "\n",
       "                require(['//dato.com/files/canvas/1.6.1/js/ipython_app.js'], function(IPythonApp){\n",
       "                    var app = new IPythonApp();\n",
       "                    app.attachView('sarray','Categorical', {\"ipython\": true, \"sketch\": {\"std\": 1.2850135559617413, \"complete\": true, \"min\": 1.0, \"max\": 5.0, \"quantile\": [1.0, 1.0, 1.0, 1.0, 1.0, 1.0, 1.0, 1.0, 1.0, 2.0, 2.0, 2.0, 2.0, 2.0, 2.0, 3.0, 3.0, 3.0, 3.0, 3.0, 3.0, 3.0, 3.0, 3.0, 4.0, 4.0, 4.0, 4.0, 4.0, 4.0, 4.0, 4.0, 4.0, 4.0, 4.0, 4.0, 4.0, 4.0, 4.0, 4.0, 4.0, 4.0, 5.0, 5.0, 5.0, 5.0, 5.0, 5.0, 5.0, 5.0, 5.0, 5.0, 5.0, 5.0, 5.0, 5.0, 5.0, 5.0, 5.0, 5.0, 5.0, 5.0, 5.0, 5.0, 5.0, 5.0, 5.0, 5.0, 5.0, 5.0, 5.0, 5.0, 5.0, 5.0, 5.0, 5.0, 5.0, 5.0, 5.0, 5.0, 5.0, 5.0, 5.0, 5.0, 5.0, 5.0, 5.0, 5.0, 5.0, 5.0, 5.0, 5.0, 5.0, 5.0, 5.0, 5.0, 5.0, 5.0, 5.0, 5.0, 5.0], \"median\": 5.0, \"numeric\": true, \"num_unique\": 5, \"num_undefined\": 0, \"var\": 1.6512598390054394, \"progress\": 1.0, \"size\": 183531, \"frequent_items\": {\"1.0\": {\"frequency\": 15183, \"value\": 1.0}, \"2.0\": {\"frequency\": 11310, \"value\": 2.0}, \"3.0\": {\"frequency\": 16779, \"value\": 3.0}, \"4.0\": {\"frequency\": 33205, \"value\": 4.0}, \"5.0\": {\"frequency\": 107054, \"value\": 5.0}}, \"mean\": 4.1204483166331505}, \"selected_variable\": {\"name\": [\"<SArray>\"], \"dtype\": \"float\", \"view_component\": \"Categorical\", \"view_file\": \"sarray\", \"descriptives\": {\"rows\": 183531}, \"type\": \"SArray\", \"view_components\": [\"Numeric\", \"Categorical\"]}, \"histogram\": {\"progress\": 1.0, \"histogram\": {\"max\": 5.024, \"bins\": [15183, 0, 0, 11310, 0, 16779, 0, 0, 33205, 0, 0, 107054], \"min\": 0.992}, \"min\": 1.0, \"complete\": 1, \"max\": 5.0}}, e);\n",
       "                });\n",
       "            })();\n",
       "        "
      ]
     },
     "metadata": {},
     "output_type": "display_data"
    }
   ],
   "source": [
    "products['rating'].show(view='Categorical')"
   ]
  },
  {
   "cell_type": "markdown",
   "metadata": {},
   "source": [
    "#### Define what's a positive and a negative sentiment\n",
    "\n",
    "We will ignore all reviews with rating = 3, since they tend to have a neutral sentiment.  Reviews with a rating of 4 or higher will be considered positive, while the ones with rating of 2 or lower will have a negative sentiment.   "
   ]
  },
  {
   "cell_type": "code",
   "execution_count": 12,
   "metadata": {
    "collapsed": true
   },
   "outputs": [],
   "source": [
    "#ignore all 3* reviews\n",
    "products = products[products['rating'] != 3]"
   ]
  },
  {
   "cell_type": "code",
   "execution_count": 13,
   "metadata": {
    "collapsed": true
   },
   "outputs": [],
   "source": [
    "#positive sentiment = 4* or 5* reviews\n",
    "products['sentiment'] = products['rating'] >=4"
   ]
  },
  {
   "cell_type": "code",
   "execution_count": 14,
   "metadata": {
    "collapsed": false
   },
   "outputs": [
    {
     "data": {
      "text/html": [
       "<div style=\"max-height:1000px;max-width:1500px;overflow:auto;\"><table frame=\"box\" rules=\"cols\">\n",
       "    <tr>\n",
       "        <th style=\"padding-left: 1em; padding-right: 1em; text-align: center\">name</th>\n",
       "        <th style=\"padding-left: 1em; padding-right: 1em; text-align: center\">review</th>\n",
       "        <th style=\"padding-left: 1em; padding-right: 1em; text-align: center\">rating</th>\n",
       "        <th style=\"padding-left: 1em; padding-right: 1em; text-align: center\">word_count</th>\n",
       "        <th style=\"padding-left: 1em; padding-right: 1em; text-align: center\">sentiment</th>\n",
       "    </tr>\n",
       "    <tr>\n",
       "        <td style=\"padding-left: 1em; padding-right: 1em; text-align: center; vertical-align: top\">Planetwise Wipe Pouch</td>\n",
       "        <td style=\"padding-left: 1em; padding-right: 1em; text-align: center; vertical-align: top\">it came early and was not<br>disappointed. i love ...</td>\n",
       "        <td style=\"padding-left: 1em; padding-right: 1em; text-align: center; vertical-align: top\">5.0</td>\n",
       "        <td style=\"padding-left: 1em; padding-right: 1em; text-align: center; vertical-align: top\">{'and': 3, 'love': 1,<br>'it': 2, 'highly': 1, ...</td>\n",
       "        <td style=\"padding-left: 1em; padding-right: 1em; text-align: center; vertical-align: top\">1</td>\n",
       "    </tr>\n",
       "    <tr>\n",
       "        <td style=\"padding-left: 1em; padding-right: 1em; text-align: center; vertical-align: top\">Annas Dream Full Quilt<br>with 2 Shams ...</td>\n",
       "        <td style=\"padding-left: 1em; padding-right: 1em; text-align: center; vertical-align: top\">Very soft and comfortable<br>and warmer than it ...</td>\n",
       "        <td style=\"padding-left: 1em; padding-right: 1em; text-align: center; vertical-align: top\">5.0</td>\n",
       "        <td style=\"padding-left: 1em; padding-right: 1em; text-align: center; vertical-align: top\">{'and': 2, 'quilt': 1,<br>'it': 1, 'comfortable': ...</td>\n",
       "        <td style=\"padding-left: 1em; padding-right: 1em; text-align: center; vertical-align: top\">1</td>\n",
       "    </tr>\n",
       "    <tr>\n",
       "        <td style=\"padding-left: 1em; padding-right: 1em; text-align: center; vertical-align: top\">Stop Pacifier Sucking<br>without tears with ...</td>\n",
       "        <td style=\"padding-left: 1em; padding-right: 1em; text-align: center; vertical-align: top\">This is a product well<br>worth the purchase.  I ...</td>\n",
       "        <td style=\"padding-left: 1em; padding-right: 1em; text-align: center; vertical-align: top\">5.0</td>\n",
       "        <td style=\"padding-left: 1em; padding-right: 1em; text-align: center; vertical-align: top\">{'ingenious': 1, 'and':<br>3, 'love': 2, ...</td>\n",
       "        <td style=\"padding-left: 1em; padding-right: 1em; text-align: center; vertical-align: top\">1</td>\n",
       "    </tr>\n",
       "    <tr>\n",
       "        <td style=\"padding-left: 1em; padding-right: 1em; text-align: center; vertical-align: top\">Stop Pacifier Sucking<br>without tears with ...</td>\n",
       "        <td style=\"padding-left: 1em; padding-right: 1em; text-align: center; vertical-align: top\">All of my kids have cried<br>non-stop when I tried to ...</td>\n",
       "        <td style=\"padding-left: 1em; padding-right: 1em; text-align: center; vertical-align: top\">5.0</td>\n",
       "        <td style=\"padding-left: 1em; padding-right: 1em; text-align: center; vertical-align: top\">{'and': 2, 'parents!!':<br>1, 'all': 2, 'puppet.': ...</td>\n",
       "        <td style=\"padding-left: 1em; padding-right: 1em; text-align: center; vertical-align: top\">1</td>\n",
       "    </tr>\n",
       "    <tr>\n",
       "        <td style=\"padding-left: 1em; padding-right: 1em; text-align: center; vertical-align: top\">Stop Pacifier Sucking<br>without tears with ...</td>\n",
       "        <td style=\"padding-left: 1em; padding-right: 1em; text-align: center; vertical-align: top\">When the Binky Fairy came<br>to our house, we didn't ...</td>\n",
       "        <td style=\"padding-left: 1em; padding-right: 1em; text-align: center; vertical-align: top\">5.0</td>\n",
       "        <td style=\"padding-left: 1em; padding-right: 1em; text-align: center; vertical-align: top\">{'and': 2, 'this': 2,<br>'her': 1, 'help': 2, ...</td>\n",
       "        <td style=\"padding-left: 1em; padding-right: 1em; text-align: center; vertical-align: top\">1</td>\n",
       "    </tr>\n",
       "    <tr>\n",
       "        <td style=\"padding-left: 1em; padding-right: 1em; text-align: center; vertical-align: top\">A Tale of Baby's Days<br>with Peter Rabbit ...</td>\n",
       "        <td style=\"padding-left: 1em; padding-right: 1em; text-align: center; vertical-align: top\">Lovely book, it's bound<br>tightly so you may no ...</td>\n",
       "        <td style=\"padding-left: 1em; padding-right: 1em; text-align: center; vertical-align: top\">4.0</td>\n",
       "        <td style=\"padding-left: 1em; padding-right: 1em; text-align: center; vertical-align: top\">{'shop': 1, 'noble': 1,<br>'is': 1, 'it': 1, 'as': ...</td>\n",
       "        <td style=\"padding-left: 1em; padding-right: 1em; text-align: center; vertical-align: top\">1</td>\n",
       "    </tr>\n",
       "    <tr>\n",
       "        <td style=\"padding-left: 1em; padding-right: 1em; text-align: center; vertical-align: top\">Baby Tracker&amp;reg; - Daily<br>Childcare Journal, ...</td>\n",
       "        <td style=\"padding-left: 1em; padding-right: 1em; text-align: center; vertical-align: top\">Perfect for new parents.<br>We were able to keep ...</td>\n",
       "        <td style=\"padding-left: 1em; padding-right: 1em; text-align: center; vertical-align: top\">5.0</td>\n",
       "        <td style=\"padding-left: 1em; padding-right: 1em; text-align: center; vertical-align: top\">{'and': 2, 'all': 1,<br>'right': 1, 'when': 1, ...</td>\n",
       "        <td style=\"padding-left: 1em; padding-right: 1em; text-align: center; vertical-align: top\">1</td>\n",
       "    </tr>\n",
       "    <tr>\n",
       "        <td style=\"padding-left: 1em; padding-right: 1em; text-align: center; vertical-align: top\">Baby Tracker&amp;reg; - Daily<br>Childcare Journal, ...</td>\n",
       "        <td style=\"padding-left: 1em; padding-right: 1em; text-align: center; vertical-align: top\">A friend of mine pinned<br>this product on Pinte ...</td>\n",
       "        <td style=\"padding-left: 1em; padding-right: 1em; text-align: center; vertical-align: top\">5.0</td>\n",
       "        <td style=\"padding-left: 1em; padding-right: 1em; text-align: center; vertical-align: top\">{'and': 1, 'help': 1,<br>'give': 1, 'is': 1, ' ...</td>\n",
       "        <td style=\"padding-left: 1em; padding-right: 1em; text-align: center; vertical-align: top\">1</td>\n",
       "    </tr>\n",
       "    <tr>\n",
       "        <td style=\"padding-left: 1em; padding-right: 1em; text-align: center; vertical-align: top\">Baby Tracker&amp;reg; - Daily<br>Childcare Journal, ...</td>\n",
       "        <td style=\"padding-left: 1em; padding-right: 1em; text-align: center; vertical-align: top\">This has been an easy way<br>for my nanny to record ...</td>\n",
       "        <td style=\"padding-left: 1em; padding-right: 1em; text-align: center; vertical-align: top\">4.0</td>\n",
       "        <td style=\"padding-left: 1em; padding-right: 1em; text-align: center; vertical-align: top\">{'journal.': 1, 'nanny':<br>1, 'standarad': 1, ...</td>\n",
       "        <td style=\"padding-left: 1em; padding-right: 1em; text-align: center; vertical-align: top\">1</td>\n",
       "    </tr>\n",
       "    <tr>\n",
       "        <td style=\"padding-left: 1em; padding-right: 1em; text-align: center; vertical-align: top\">Baby Tracker&amp;reg; - Daily<br>Childcare Journal, ...</td>\n",
       "        <td style=\"padding-left: 1em; padding-right: 1em; text-align: center; vertical-align: top\">I love this journal and<br>our nanny uses it ...</td>\n",
       "        <td style=\"padding-left: 1em; padding-right: 1em; text-align: center; vertical-align: top\">4.0</td>\n",
       "        <td style=\"padding-left: 1em; padding-right: 1em; text-align: center; vertical-align: top\">{'all': 1, 'forget': 1,<br>'just': 1, 'food': 1, ...</td>\n",
       "        <td style=\"padding-left: 1em; padding-right: 1em; text-align: center; vertical-align: top\">1</td>\n",
       "    </tr>\n",
       "</table>\n",
       "[10 rows x 5 columns]<br/>\n",
       "</div>"
      ],
      "text/plain": [
       "Columns:\n",
       "\tname\tstr\n",
       "\treview\tstr\n",
       "\trating\tfloat\n",
       "\tword_count\tdict\n",
       "\tsentiment\tint\n",
       "\n",
       "Rows: 10\n",
       "\n",
       "Data:\n",
       "+-------------------------------+-------------------------------+--------+\n",
       "|              name             |             review            | rating |\n",
       "+-------------------------------+-------------------------------+--------+\n",
       "|     Planetwise Wipe Pouch     | it came early and was not ... |  5.0   |\n",
       "| Annas Dream Full Quilt wit... | Very soft and comfortable ... |  5.0   |\n",
       "| Stop Pacifier Sucking with... | This is a product well wor... |  5.0   |\n",
       "| Stop Pacifier Sucking with... | All of my kids have cried ... |  5.0   |\n",
       "| Stop Pacifier Sucking with... | When the Binky Fairy came ... |  5.0   |\n",
       "| A Tale of Baby's Days with... | Lovely book, it's bound ti... |  4.0   |\n",
       "| Baby Tracker&reg; - Daily ... | Perfect for new parents. W... |  5.0   |\n",
       "| Baby Tracker&reg; - Daily ... | A friend of mine pinned th... |  5.0   |\n",
       "| Baby Tracker&reg; - Daily ... | This has been an easy way ... |  4.0   |\n",
       "| Baby Tracker&reg; - Daily ... | I love this journal and ou... |  4.0   |\n",
       "+-------------------------------+-------------------------------+--------+\n",
       "+-------------------------------+-----------+\n",
       "|           word_count          | sentiment |\n",
       "+-------------------------------+-----------+\n",
       "| {'and': 3, 'love': 1, 'it'... |     1     |\n",
       "| {'and': 2, 'quilt': 1, 'it... |     1     |\n",
       "| {'ingenious': 1, 'and': 3,... |     1     |\n",
       "| {'and': 2, 'parents!!': 1,... |     1     |\n",
       "| {'and': 2, 'this': 2, 'her... |     1     |\n",
       "| {'shop': 1, 'noble': 1, 'i... |     1     |\n",
       "| {'and': 2, 'all': 1, 'righ... |     1     |\n",
       "| {'and': 1, 'help': 1, 'giv... |     1     |\n",
       "| {'journal.': 1, 'nanny': 1... |     1     |\n",
       "| {'all': 1, 'forget': 1, 'j... |     1     |\n",
       "+-------------------------------+-----------+\n",
       "[10 rows x 5 columns]"
      ]
     },
     "execution_count": 14,
     "metadata": {},
     "output_type": "execute_result"
    }
   ],
   "source": [
    "products.head()"
   ]
  },
  {
   "cell_type": "markdown",
   "metadata": {},
   "source": [
    "#### Let's train the sentiment classifier"
   ]
  },
  {
   "cell_type": "code",
   "execution_count": 15,
   "metadata": {
    "collapsed": true
   },
   "outputs": [],
   "source": [
    "train_data,test_data = products.random_split(.8, seed=0)"
   ]
  },
  {
   "cell_type": "code",
   "execution_count": 16,
   "metadata": {
    "collapsed": false
   },
   "outputs": [
    {
     "name": "stdout",
     "output_type": "stream",
     "text": [
      "PROGRESS: Logistic regression:\n",
      "PROGRESS: --------------------------------------------------------\n",
      "PROGRESS: Number of examples          : 133448\n",
      "PROGRESS: Number of classes           : 2\n",
      "PROGRESS: Number of feature columns   : 1\n",
      "PROGRESS: Number of unpacked features : 219217\n",
      "PROGRESS: Number of coefficients    : 219218\n",
      "PROGRESS: Starting L-BFGS\n",
      "PROGRESS: --------------------------------------------------------\n",
      "PROGRESS: +-----------+----------+-----------+--------------+-------------------+---------------------+\n",
      "PROGRESS: | Iteration | Passes   | Step size | Elapsed Time | Training-accuracy | Validation-accuracy |\n",
      "PROGRESS: +-----------+----------+-----------+--------------+-------------------+---------------------+\n",
      "PROGRESS: | 1         | 5        | 0.000002  | 2.165123     | 0.841481          | 0.839989            |\n",
      "PROGRESS: | 2         | 9        | 3.000000  | 3.344080     | 0.947425          | 0.894877            |\n",
      "PROGRESS: | 3         | 10       | 3.000000  | 3.812882     | 0.923768          | 0.866232            |\n",
      "PROGRESS: | 4         | 11       | 3.000000  | 4.277241     | 0.971779          | 0.912743            |\n",
      "PROGRESS: | 5         | 12       | 3.000000  | 4.741891     | 0.975511          | 0.908900            |\n",
      "PROGRESS: | 6         | 13       | 3.000000  | 5.198062     | 0.899991          | 0.825967            |\n",
      "PROGRESS: | 10        | 18       | 1.000000  | 7.310006     | 0.988715          | 0.916256            |\n",
      "PROGRESS: +-----------+----------+-----------+--------------+-------------------+---------------------+\n"
     ]
    }
   ],
   "source": [
    "sentiment_model = graphlab.logistic_classifier.create(train_data,\n",
    "                                                     target='sentiment',\n",
    "                                                     features=['word_count'],\n",
    "                                                     validation_set=test_data)"
   ]
  },
  {
   "cell_type": "markdown",
   "metadata": {},
   "source": [
    "#### Evaluate the sentiment model"
   ]
  },
  {
   "cell_type": "code",
   "execution_count": 19,
   "metadata": {
    "collapsed": false
   },
   "outputs": [
    {
     "data": {
      "text/plain": [
       "{'roc_curve': Columns:\n",
       " \tthreshold\tfloat\n",
       " \tfpr\tfloat\n",
       " \ttpr\tfloat\n",
       " \tp\tint\n",
       " \tn\tint\n",
       " \n",
       " Rows: 1001\n",
       " \n",
       " Data:\n",
       " +------------------+----------------+------------------+-------+------+\n",
       " |    threshold     |      fpr       |       tpr        |   p   |  n   |\n",
       " +------------------+----------------+------------------+-------+------+\n",
       " |       0.0        | 0.223597824048 | 0.00552604370922 | 28049 | 5331 |\n",
       " | 0.0010000000475  | 0.776402175952 |  0.994473956291  | 28049 | 5331 |\n",
       " | 0.00200000009499 | 0.736447195648 |  0.993047880495  | 28049 | 5331 |\n",
       " | 0.00300000002608 | 0.71393734759  |  0.992227886912  | 28049 | 5331 |\n",
       " | 0.00400000018999 | 0.698368036016 |  0.991693108489  | 28049 | 5331 |\n",
       " | 0.00499999988824 | 0.687113111986 |  0.99119398196   | 28049 | 5331 |\n",
       " | 0.00600000005215 | 0.677358844494 |  0.990587899747  | 28049 | 5331 |\n",
       " | 0.00700000021607 | 0.666854248734 |  0.990195728903  | 28049 | 5331 |\n",
       " | 0.00800000037998 | 0.65653723504  |  0.989803558059  | 28049 | 5331 |\n",
       " | 0.00899999961257 | 0.649221534421 |  0.989340083425  | 28049 | 5331 |\n",
       " +------------------+----------------+------------------+-------+------+\n",
       " [1001 rows x 5 columns]\n",
       " Note: Only the head of the SFrame is printed.\n",
       " You can use print_rows(num_rows=m, num_columns=n) to print more rows and columns.}"
      ]
     },
     "execution_count": 19,
     "metadata": {},
     "output_type": "execute_result"
    }
   ],
   "source": [
    "sentiment_model.evaluate(test_data, metric='roc_curve')"
   ]
  },
  {
   "cell_type": "code",
   "execution_count": 20,
   "metadata": {
    "collapsed": false
   },
   "outputs": [
    {
     "data": {
      "application/javascript": [
       "$(\"head\").append($(\"<link/>\").attr({\n",
       "  rel:  \"stylesheet\",\n",
       "  type: \"text/css\",\n",
       "  href: \"//cdnjs.cloudflare.com/ajax/libs/font-awesome/4.1.0/css/font-awesome.min.css\"\n",
       "}));\n",
       "$(\"head\").append($(\"<link/>\").attr({\n",
       "  rel:  \"stylesheet\",\n",
       "  type: \"text/css\",\n",
       "  href: \"//dato.com/files/canvas/1.6.1/css/canvas.css\"\n",
       "}));\n",
       "\n",
       "            (function(){\n",
       "\n",
       "                var e = null;\n",
       "                if (typeof element == 'undefined') {\n",
       "                    var scripts = document.getElementsByTagName('script');\n",
       "                    var thisScriptTag = scripts[scripts.length-1];\n",
       "                    var parentDiv = thisScriptTag.parentNode;\n",
       "                    e = document.createElement('div');\n",
       "                    parentDiv.appendChild(e);\n",
       "                } else {\n",
       "                    e = element[0];\n",
       "                }\n",
       "\n",
       "                if (typeof requirejs !== 'undefined') {\n",
       "                    // disable load timeout; ipython_app.js is large and can take a while to load.\n",
       "                    requirejs.config({waitSeconds: 0});\n",
       "                }\n",
       "\n",
       "                require(['//dato.com/files/canvas/1.6.1/js/ipython_app.js'], function(IPythonApp){\n",
       "                    var app = new IPythonApp();\n",
       "                    app.attachView('model','Evaluation', {\"comparison\": null, \"selected_variable\": {\"comparison\": null, \"name\": [\"sentiment_model\"], \"view_file\": \"model\", \"view_component\": \"Evaluation\", \"view_params\": {\"model_type\": \"regression\", \"view\": \"Evaluation\"}, \"view_components\": [\"Summary\", \"Evaluation\", \"Comparison\"], \"model_type\": \"regression\", \"attributes\": {\"section_titles\": [\"Schema\", \"Hyperparameters\", \"Training Summary\", \"Settings\", \"Highest Positive Coefficients\", \"Lowest Negative Coefficients\"], \"sections\": [[[\"Number of coefficients\", 219218], [\"Number of examples\", 133448], [\"Number of classes\", 2], [\"Number of feature columns\", 1], [\"Number of unpacked features\", 219217]], [[\"L1 penalty\", 0.0], [\"L2 penalty\", 0.01]], [[\"Solver\", \"auto\"], [\"Solver iterations\", 10], [\"Solver status\", \"TERMINATED: Iteration limit reached.\"], [\"Training time (sec)\", 7.5407]], [[\"Log-likelihood\", 4956.6901]], [[\"word_count[pinkjeep]\", 13.5701], [\"word_count[(http://www.amazon.com/review/rhgg6qp7tdnhb/ref=cm_cr_pr_cmt?ie=utf8&asin;=b00318cla0&nodeid;)]\", 12.3088], [\"word_count[label/box.]\", 11.1774], [\"word_count[product.***]\", 11.064], [\"word_count[direct-pumping]\", 11.0531]], [[\"word_count[it.update:after]\", -18.3631], [\"word_count[5months.]\", -16.0906], [\"word_count[oldest.if]\", -15.9315], [\"word_count[maxima.]\", -15.8084], [\"word_count[(160.00)]\", -15.4512]]]}, \"evaluations\": [[\"test_data\", {\"roc_curve\": [{\"threshold\": 0.0, \"p\": 28049, \"fpr\": 0.223597824048021, \"tpr\": 0.005526043709223145, \"n\": 5331}, {\"threshold\": 0.0010000000474974513, \"p\": 28049, \"fpr\": 0.776402175951979, \"tpr\": 0.9944739562907768, \"n\": 5331}, {\"threshold\": 0.0020000000949949026, \"p\": 28049, \"fpr\": 0.736447195648096, \"tpr\": 0.9930478804948483, \"n\": 5331}, {\"threshold\": 0.003000000026077032, \"p\": 28049, \"fpr\": 0.7139373475895704, \"tpr\": 0.9922278869121893, \"n\": 5331}, {\"threshold\": 0.004000000189989805, \"p\": 28049, \"fpr\": 0.6983680360157569, \"tpr\": 0.9916931084887162, \"n\": 5331}, {\"threshold\": 0.004999999888241291, \"p\": 28049, \"fpr\": 0.687113111986494, \"tpr\": 0.9911939819601412, \"n\": 5331}, {\"threshold\": 0.006000000052154064, \"p\": 28049, \"fpr\": 0.6773588444944664, \"tpr\": 0.9905878997468716, \"n\": 5331}, {\"threshold\": 0.007000000216066837, \"p\": 28049, \"fpr\": 0.666854248733821, \"tpr\": 0.9901957289029912, \"n\": 5331}, {\"threshold\": 0.00800000037997961, \"p\": 28049, \"fpr\": 0.6565372350403301, \"tpr\": 0.9898035580591108, \"n\": 5331}, {\"threshold\": 0.008999999612569809, \"p\": 28049, \"fpr\": 0.6492215344213094, \"tpr\": 0.9893400834254341, \"n\": 5331}, {\"threshold\": 0.009999999776482582, \"p\": 28049, \"fpr\": 0.6405927593322078, \"tpr\": 0.9890192163713502, \"n\": 5331}, {\"threshold\": 0.010999999940395355, \"p\": 28049, \"fpr\": 0.6336522228474958, \"tpr\": 0.9885913936325715, \"n\": 5331}, {\"threshold\": 0.012000000104308128, \"p\": 28049, \"fpr\": 0.6282123429000187, \"tpr\": 0.9882705265784877, \"n\": 5331}, {\"threshold\": 0.013000000268220901, \"p\": 28049, \"fpr\": 0.6214593884824611, \"tpr\": 0.9878783557346072, \"n\": 5331}, {\"threshold\": 0.014000000432133675, \"p\": 28049, \"fpr\": 0.6165822547364472, \"tpr\": 0.9875931405754216, \"n\": 5331}, {\"threshold\": 0.014999999664723873, \"p\": 28049, \"fpr\": 0.6098293003188895, \"tpr\": 0.9872722735213376, \"n\": 5331}, {\"threshold\": 0.01600000075995922, \"p\": 28049, \"fpr\": 0.6051397486400301, \"tpr\": 0.9868444507825591, \"n\": 5331}, {\"threshold\": 0.017000000923871994, \"p\": 28049, \"fpr\": 0.6013881072969424, \"tpr\": 0.9865948875182716, \"n\": 5331}, {\"threshold\": 0.017999999225139618, \"p\": 28049, \"fpr\": 0.5965109735509285, \"tpr\": 0.9863809761488823, \"n\": 5331}, {\"threshold\": 0.01899999938905239, \"p\": 28049, \"fpr\": 0.5916338398049147, \"tpr\": 0.986167064779493, \"n\": 5331}, {\"threshold\": 0.019999999552965164, \"p\": 28049, \"fpr\": 0.5873194522603639, \"tpr\": 0.9858818496203073, \"n\": 5331}, {\"threshold\": 0.020999999716877937, \"p\": 28049, \"fpr\": 0.5835678109172763, \"tpr\": 0.9857392420407145, \"n\": 5331}, {\"threshold\": 0.02199999988079071, \"p\": 28049, \"fpr\": 0.5807540799099606, \"tpr\": 0.9854540268815287, \"n\": 5331}, {\"threshold\": 0.023000000044703484, \"p\": 28049, \"fpr\": 0.5786906771712624, \"tpr\": 0.9852757674070377, \"n\": 5331}, {\"threshold\": 0.024000000208616257, \"p\": 28049, \"fpr\": 0.5743762896267117, \"tpr\": 0.9850618560376484, \"n\": 5331}, {\"threshold\": 0.02500000037252903, \"p\": 28049, \"fpr\": 0.5713749765522416, \"tpr\": 0.9847766408784627, \"n\": 5331}, {\"threshold\": 0.026000000536441803, \"p\": 28049, \"fpr\": 0.5678109172763084, \"tpr\": 0.9846696851937681, \"n\": 5331}, {\"threshold\": 0.027000000700354576, \"p\": 28049, \"fpr\": 0.5646220221346839, \"tpr\": 0.9843844700345823, \"n\": 5331}, {\"threshold\": 0.02800000086426735, \"p\": 28049, \"fpr\": 0.5619958731945226, \"tpr\": 0.9841705586651931, \"n\": 5331}, {\"threshold\": 0.028999999165534973, \"p\": 28049, \"fpr\": 0.5584318139185894, \"tpr\": 0.983992299190702, \"n\": 5331}, {\"threshold\": 0.029999999329447746, \"p\": 28049, \"fpr\": 0.5544925905083474, \"tpr\": 0.9837427359264145, \"n\": 5331}, {\"threshold\": 0.03099999949336052, \"p\": 28049, \"fpr\": 0.5529919339711123, \"tpr\": 0.9836357802417198, \"n\": 5331}, {\"threshold\": 0.03200000151991844, \"p\": 28049, \"fpr\": 0.5492402926280248, \"tpr\": 0.983314913187636, \"n\": 5331}, {\"threshold\": 0.032999999821186066, \"p\": 28049, \"fpr\": 0.5451134871506284, \"tpr\": 0.9831366537131448, \"n\": 5331}, {\"threshold\": 0.03400000184774399, \"p\": 28049, \"fpr\": 0.5432376664790846, \"tpr\": 0.982994046133552, \"n\": 5331}, {\"threshold\": 0.03500000014901161, \"p\": 28049, \"fpr\": 0.5413618458075408, \"tpr\": 0.9829583942386538, \"n\": 5331}, {\"threshold\": 0.035999998450279236, \"p\": 28049, \"fpr\": 0.5392984430688427, \"tpr\": 0.9828514385539592, \"n\": 5331}, {\"threshold\": 0.03700000047683716, \"p\": 28049, \"fpr\": 0.5368598761958356, \"tpr\": 0.9827801347641627, \"n\": 5331}, {\"threshold\": 0.03799999877810478, \"p\": 28049, \"fpr\": 0.5336709810542112, \"tpr\": 0.9823879639202824, \"n\": 5331}, {\"threshold\": 0.039000000804662704, \"p\": 28049, \"fpr\": 0.5325454886512849, \"tpr\": 0.9821384006559949, \"n\": 5331}, {\"threshold\": 0.03999999910593033, \"p\": 28049, \"fpr\": 0.5312324141812043, \"tpr\": 0.9820314449713002, \"n\": 5331}, {\"threshold\": 0.04100000113248825, \"p\": 28049, \"fpr\": 0.5289814293753518, \"tpr\": 0.9819601411815038, \"n\": 5331}, {\"threshold\": 0.041999999433755875, \"p\": 28049, \"fpr\": 0.5259801163008816, \"tpr\": 0.9817462298121146, \"n\": 5331}, {\"threshold\": 0.0430000014603138, \"p\": 28049, \"fpr\": 0.5248546238979553, \"tpr\": 0.9815679703376234, \"n\": 5331}, {\"threshold\": 0.04399999976158142, \"p\": 28049, \"fpr\": 0.5224160570249484, \"tpr\": 0.9814610146529288, \"n\": 5331}, {\"threshold\": 0.04500000178813934, \"p\": 28049, \"fpr\": 0.5212905646220222, \"tpr\": 0.981318407073336, \"n\": 5331}, {\"threshold\": 0.04600000008940697, \"p\": 28049, \"fpr\": 0.5184768336147064, \"tpr\": 0.9812471032835395, \"n\": 5331}, {\"threshold\": 0.04699999839067459, \"p\": 28049, \"fpr\": 0.5166010129431626, \"tpr\": 0.9810331919141503, \"n\": 5331}, {\"threshold\": 0.04800000041723251, \"p\": 28049, \"fpr\": 0.5143500281373101, \"tpr\": 0.9807836286498628, \"n\": 5331}, {\"threshold\": 0.04899999871850014, \"p\": 28049, \"fpr\": 0.5132245357343838, \"tpr\": 0.9806410210702698, \"n\": 5331}, {\"threshold\": 0.05000000074505806, \"p\": 28049, \"fpr\": 0.51134871506284, \"tpr\": 0.9804627615957788, \"n\": 5331}, {\"threshold\": 0.050999999046325684, \"p\": 28049, \"fpr\": 0.5081598199212155, \"tpr\": 0.9802131983314913, \"n\": 5331}, {\"threshold\": 0.052000001072883606, \"p\": 28049, \"fpr\": 0.5055336709810542, \"tpr\": 0.9800705907518985, \"n\": 5331}, {\"threshold\": 0.05299999937415123, \"p\": 28049, \"fpr\": 0.5038454323766648, \"tpr\": 0.9800349388570002, \"n\": 5331}, {\"threshold\": 0.05400000140070915, \"p\": 28049, \"fpr\": 0.5017820296379666, \"tpr\": 0.9798566793825092, \"n\": 5331}, {\"threshold\": 0.054999999701976776, \"p\": 28049, \"fpr\": 0.5006565372350403, \"tpr\": 0.9797853755927127, \"n\": 5331}, {\"threshold\": 0.0560000017285347, \"p\": 28049, \"fpr\": 0.4982179703620334, \"tpr\": 0.9797140718029164, \"n\": 5331}, {\"threshold\": 0.05700000002980232, \"p\": 28049, \"fpr\": 0.4961545676233352, \"tpr\": 0.9794288566437306, \"n\": 5331}, {\"threshold\": 0.057999998331069946, \"p\": 28049, \"fpr\": 0.49390358281748264, \"tpr\": 0.9792862490641377, \"n\": 5331}, {\"threshold\": 0.05900000035762787, \"p\": 28049, \"fpr\": 0.4927780904145564, \"tpr\": 0.9791436414845449, \"n\": 5331}, {\"threshold\": 0.05999999865889549, \"p\": 28049, \"fpr\": 0.4903395235415494, \"tpr\": 0.9791079895896467, \"n\": 5331}, {\"threshold\": 0.061000000685453415, \"p\": 28049, \"fpr\": 0.48827612080285127, \"tpr\": 0.9789653820100538, \"n\": 5331}, {\"threshold\": 0.06199999898672104, \"p\": 28049, \"fpr\": 0.4864003001313075, \"tpr\": 0.9789297301151556, \"n\": 5331}, {\"threshold\": 0.06300000101327896, \"p\": 28049, \"fpr\": 0.4850872256612268, \"tpr\": 0.9788584263253592, \"n\": 5331}, {\"threshold\": 0.06400000303983688, \"p\": 28049, \"fpr\": 0.4839617332583005, \"tpr\": 0.9787158187457663, \"n\": 5331}, {\"threshold\": 0.06499999761581421, \"p\": 28049, \"fpr\": 0.48264865878821983, \"tpr\": 0.9787158187457663, \"n\": 5331}, {\"threshold\": 0.06599999964237213, \"p\": 28049, \"fpr\": 0.4820859125867567, \"tpr\": 0.9787158187457663, \"n\": 5331}, {\"threshold\": 0.06700000166893005, \"p\": 28049, \"fpr\": 0.48133558431813916, \"tpr\": 0.9786445149559699, \"n\": 5331}, {\"threshold\": 0.06800000369548798, \"p\": 28049, \"fpr\": 0.4802100919152129, \"tpr\": 0.9784306035865806, \"n\": 5331}, {\"threshold\": 0.0689999982714653, \"p\": 28049, \"fpr\": 0.479272181579441, \"tpr\": 0.978323647901886, \"n\": 5331}, {\"threshold\": 0.07000000029802322, \"p\": 28049, \"fpr\": 0.4785218533108235, \"tpr\": 0.9782166922171913, \"n\": 5331}, {\"threshold\": 0.07100000232458115, \"p\": 28049, \"fpr\": 0.4772087788407428, \"tpr\": 0.9781810403222931, \"n\": 5331}, {\"threshold\": 0.07199999690055847, \"p\": 28049, \"fpr\": 0.47589570437066214, \"tpr\": 0.978145388427395, \"n\": 5331}, {\"threshold\": 0.0729999989271164, \"p\": 28049, \"fpr\": 0.47401988369911835, \"tpr\": 0.9781097365324967, \"n\": 5331}, {\"threshold\": 0.07400000095367432, \"p\": 28049, \"fpr\": 0.4725192271618833, \"tpr\": 0.9779671289529038, \"n\": 5331}, {\"threshold\": 0.07500000298023224, \"p\": 28049, \"fpr\": 0.47064340649033953, \"tpr\": 0.9778601732682092, \"n\": 5331}, {\"threshold\": 0.07599999755620956, \"p\": 28049, \"fpr\": 0.46970549615456764, \"tpr\": 0.9776819137937182, \"n\": 5331}, {\"threshold\": 0.07699999958276749, \"p\": 28049, \"fpr\": 0.46839242168448697, \"tpr\": 0.9776462618988199, \"n\": 5331}, {\"threshold\": 0.07800000160932541, \"p\": 28049, \"fpr\": 0.4674545113487151, \"tpr\": 0.9773610467396342, \"n\": 5331}, {\"threshold\": 0.07900000363588333, \"p\": 28049, \"fpr\": 0.4665166010129432, \"tpr\": 0.9773610467396342, \"n\": 5331}, {\"threshold\": 0.07999999821186066, \"p\": 28049, \"fpr\": 0.4655786906771713, \"tpr\": 0.9772540910549395, \"n\": 5331}, {\"threshold\": 0.08100000023841858, \"p\": 28049, \"fpr\": 0.46482836240855374, \"tpr\": 0.9772184391600414, \"n\": 5331}, {\"threshold\": 0.0820000022649765, \"p\": 28049, \"fpr\": 0.4633277058713187, \"tpr\": 0.9771471353702449, \"n\": 5331}, {\"threshold\": 0.08299999684095383, \"p\": 28049, \"fpr\": 0.46182704933408364, \"tpr\": 0.9768975721059574, \"n\": 5331}, {\"threshold\": 0.08399999886751175, \"p\": 28049, \"fpr\": 0.46051397486400303, \"tpr\": 0.976826268316161, \"n\": 5331}, {\"threshold\": 0.08500000089406967, \"p\": 28049, \"fpr\": 0.4584505721253048, \"tpr\": 0.976826268316161, \"n\": 5331}, {\"threshold\": 0.0860000029206276, \"p\": 28049, \"fpr\": 0.4575126617895329, \"tpr\": 0.9767549645263646, \"n\": 5331}, {\"threshold\": 0.08699999749660492, \"p\": 28049, \"fpr\": 0.4560120052522979, \"tpr\": 0.9766836607365681, \"n\": 5331}, {\"threshold\": 0.08799999952316284, \"p\": 28049, \"fpr\": 0.4545113487150628, \"tpr\": 0.9764697493671789, \"n\": 5331}, {\"threshold\": 0.08900000154972076, \"p\": 28049, \"fpr\": 0.4539486025135997, \"tpr\": 0.9762914898926878, \"n\": 5331}, {\"threshold\": 0.09000000357627869, \"p\": 28049, \"fpr\": 0.4530106921778278, \"tpr\": 0.9762201861028914, \"n\": 5331}, {\"threshold\": 0.09099999815225601, \"p\": 28049, \"fpr\": 0.4520727818420559, \"tpr\": 0.9761845342079931, \"n\": 5331}, {\"threshold\": 0.09200000017881393, \"p\": 28049, \"fpr\": 0.4509472894391296, \"tpr\": 0.9761488823130949, \"n\": 5331}, {\"threshold\": 0.09300000220537186, \"p\": 28049, \"fpr\": 0.449634214969049, \"tpr\": 0.9759706228386039, \"n\": 5331}, {\"threshold\": 0.09399999678134918, \"p\": 28049, \"fpr\": 0.44888388670043144, \"tpr\": 0.9758993190488074, \"n\": 5331}, {\"threshold\": 0.0949999988079071, \"p\": 28049, \"fpr\": 0.44794597636465955, \"tpr\": 0.9757210595743164, \"n\": 5331}, {\"threshold\": 0.09600000083446503, \"p\": 28049, \"fpr\": 0.44700806602888765, \"tpr\": 0.9756141038896218, \"n\": 5331}, {\"threshold\": 0.09700000286102295, \"p\": 28049, \"fpr\": 0.4462577377602701, \"tpr\": 0.9755428000998253, \"n\": 5331}, {\"threshold\": 0.09799999743700027, \"p\": 28049, \"fpr\": 0.4455074094916526, \"tpr\": 0.975328888730436, \"n\": 5331}, {\"threshold\": 0.0989999994635582, \"p\": 28049, \"fpr\": 0.4445694991558807, \"tpr\": 0.9751149773610467, \"n\": 5331}, {\"threshold\": 0.10000000149011612, \"p\": 28049, \"fpr\": 0.4436315888201088, \"tpr\": 0.9750436735712503, \"n\": 5331}, {\"threshold\": 0.10100000351667404, \"p\": 28049, \"fpr\": 0.441755768148565, \"tpr\": 0.9749723697814539, \"n\": 5331}, {\"threshold\": 0.10199999809265137, \"p\": 28049, \"fpr\": 0.44025511161132996, \"tpr\": 0.9748654140967592, \"n\": 5331}, {\"threshold\": 0.10300000011920929, \"p\": 28049, \"fpr\": 0.4395047833427124, \"tpr\": 0.974829762201861, \"n\": 5331}, {\"threshold\": 0.10400000214576721, \"p\": 28049, \"fpr\": 0.43837929093978617, \"tpr\": 0.97465150272737, \"n\": 5331}, {\"threshold\": 0.10499999672174454, \"p\": 28049, \"fpr\": 0.4380041268054774, \"tpr\": 0.9744732432528789, \"n\": 5331}, {\"threshold\": 0.10599999874830246, \"p\": 28049, \"fpr\": 0.43631588820108796, \"tpr\": 0.974330635673286, \"n\": 5331}, {\"threshold\": 0.10700000077486038, \"p\": 28049, \"fpr\": 0.4351903957981617, \"tpr\": 0.9742949837783879, \"n\": 5331}, {\"threshold\": 0.1080000028014183, \"p\": 28049, \"fpr\": 0.43462764959669853, \"tpr\": 0.9742593318834896, \"n\": 5331}, {\"threshold\": 0.10899999737739563, \"p\": 28049, \"fpr\": 0.4335021571937723, \"tpr\": 0.9740810724089985, \"n\": 5331}, {\"threshold\": 0.10999999940395355, \"p\": 28049, \"fpr\": 0.43275182892515474, \"tpr\": 0.9739741167243039, \"n\": 5331}, {\"threshold\": 0.11100000143051147, \"p\": 28049, \"fpr\": 0.4312511723879197, \"tpr\": 0.9739741167243039, \"n\": 5331}, {\"threshold\": 0.1120000034570694, \"p\": 28049, \"fpr\": 0.4306884261864566, \"tpr\": 0.9738315091447111, \"n\": 5331}, {\"threshold\": 0.11299999803304672, \"p\": 28049, \"fpr\": 0.42993809791783905, \"tpr\": 0.9736532496702199, \"n\": 5331}, {\"threshold\": 0.11400000005960464, \"p\": 28049, \"fpr\": 0.42918776964922156, \"tpr\": 0.9736175977753218, \"n\": 5331}, {\"threshold\": 0.11500000208616257, \"p\": 28049, \"fpr\": 0.4276871131119865, \"tpr\": 0.9735106420906271, \"n\": 5331}, {\"threshold\": 0.11599999666213989, \"p\": 28049, \"fpr\": 0.4267492027762146, \"tpr\": 0.9734393383008307, \"n\": 5331}, {\"threshold\": 0.11699999868869781, \"p\": 28049, \"fpr\": 0.42618645657475146, \"tpr\": 0.9733323826161361, \"n\": 5331}, {\"threshold\": 0.11800000071525574, \"p\": 28049, \"fpr\": 0.42599887450759705, \"tpr\": 0.9732610788263396, \"n\": 5331}, {\"threshold\": 0.11900000274181366, \"p\": 28049, \"fpr\": 0.42524854623897956, \"tpr\": 0.9731897750365432, \"n\": 5331}, {\"threshold\": 0.11999999731779099, \"p\": 28049, \"fpr\": 0.424498217970362, \"tpr\": 0.9730828193518486, \"n\": 5331}, {\"threshold\": 0.12099999934434891, \"p\": 28049, \"fpr\": 0.4239354717688989, \"tpr\": 0.9728332560875611, \"n\": 5331}, {\"threshold\": 0.12200000137090683, \"p\": 28049, \"fpr\": 0.4239354717688989, \"tpr\": 0.9727263004028665, \"n\": 5331}, {\"threshold\": 0.12300000339746475, \"p\": 28049, \"fpr\": 0.42374788970174454, \"tpr\": 0.97265499661307, \"n\": 5331}, {\"threshold\": 0.12399999797344208, \"p\": 28049, \"fpr\": 0.42262239729881823, \"tpr\": 0.9725123890334771, \"n\": 5331}, {\"threshold\": 0.125, \"p\": 28049, \"fpr\": 0.4220596510973551, \"tpr\": 0.972476737138579, \"n\": 5331}, {\"threshold\": 0.12600000202655792, \"p\": 28049, \"fpr\": 0.4211217407615832, \"tpr\": 0.9724410852436807, \"n\": 5331}, {\"threshold\": 0.12700000405311584, \"p\": 28049, \"fpr\": 0.42037141249296567, \"tpr\": 0.9722628257691897, \"n\": 5331}, {\"threshold\": 0.12800000607967377, \"p\": 28049, \"fpr\": 0.41962108422434813, \"tpr\": 0.9721915219793932, \"n\": 5331}, {\"threshold\": 0.1289999932050705, \"p\": 28049, \"fpr\": 0.419058338022885, \"tpr\": 0.9719776106100039, \"n\": 5331}, {\"threshold\": 0.12999999523162842, \"p\": 28049, \"fpr\": 0.41793284561995875, \"tpr\": 0.9717280473457164, \"n\": 5331}, {\"threshold\": 0.13099999725818634, \"p\": 28049, \"fpr\": 0.41737009941849557, \"tpr\": 0.9716923954508182, \"n\": 5331}, {\"threshold\": 0.13199999928474426, \"p\": 28049, \"fpr\": 0.41605702494841496, \"tpr\": 0.9715497878712254, \"n\": 5331}, {\"threshold\": 0.13300000131130219, \"p\": 28049, \"fpr\": 0.4154942787469518, \"tpr\": 0.9714784840814289, \"n\": 5331}, {\"threshold\": 0.1340000033378601, \"p\": 28049, \"fpr\": 0.4143687863440255, \"tpr\": 0.9713715283967342, \"n\": 5331}, {\"threshold\": 0.13500000536441803, \"p\": 28049, \"fpr\": 0.4126805477396361, \"tpr\": 0.9712645727120397, \"n\": 5331}, {\"threshold\": 0.13600000739097595, \"p\": 28049, \"fpr\": 0.41193021947101854, \"tpr\": 0.9712645727120397, \"n\": 5331}, {\"threshold\": 0.13699999451637268, \"p\": 28049, \"fpr\": 0.4108047270680923, \"tpr\": 0.9710150094477521, \"n\": 5331}, {\"threshold\": 0.1379999965429306, \"p\": 28049, \"fpr\": 0.41024198086662916, \"tpr\": 0.9709793575528539, \"n\": 5331}, {\"threshold\": 0.13899999856948853, \"p\": 28049, \"fpr\": 0.40930407053085727, \"tpr\": 0.9709437056579557, \"n\": 5331}, {\"threshold\": 0.14000000059604645, \"p\": 28049, \"fpr\": 0.40911648846370285, \"tpr\": 0.9709080537630576, \"n\": 5331}, {\"threshold\": 0.14100000262260437, \"p\": 28049, \"fpr\": 0.4089289063965485, \"tpr\": 0.9708724018681593, \"n\": 5331}, {\"threshold\": 0.1420000046491623, \"p\": 28049, \"fpr\": 0.40817857812793096, \"tpr\": 0.9708367499732611, \"n\": 5331}, {\"threshold\": 0.14300000667572021, \"p\": 28049, \"fpr\": 0.40724066779215906, \"tpr\": 0.9707654461834646, \"n\": 5331}, {\"threshold\": 0.14399999380111694, \"p\": 28049, \"fpr\": 0.4068655036578503, \"tpr\": 0.9707654461834646, \"n\": 5331}, {\"threshold\": 0.14499999582767487, \"p\": 28049, \"fpr\": 0.4051772650534609, \"tpr\": 0.9707297942885664, \"n\": 5331}, {\"threshold\": 0.1459999978542328, \"p\": 28049, \"fpr\": 0.40442693678484337, \"tpr\": 0.97065849049877, \"n\": 5331}, {\"threshold\": 0.1469999998807907, \"p\": 28049, \"fpr\": 0.40330144438191706, \"tpr\": 0.9705871867089736, \"n\": 5331}, {\"threshold\": 0.14800000190734863, \"p\": 28049, \"fpr\": 0.4031138623147627, \"tpr\": 0.9704802310242789, \"n\": 5331}, {\"threshold\": 0.14900000393390656, \"p\": 28049, \"fpr\": 0.4025511161132996, \"tpr\": 0.9704445791293808, \"n\": 5331}, {\"threshold\": 0.15000000596046448, \"p\": 28049, \"fpr\": 0.40198836991183645, \"tpr\": 0.9704089272344825, \"n\": 5331}, {\"threshold\": 0.1509999930858612, \"p\": 28049, \"fpr\": 0.40086287750891014, \"tpr\": 0.9703376234446861, \"n\": 5331}, {\"threshold\": 0.15199999511241913, \"p\": 28049, \"fpr\": 0.40086287750891014, \"tpr\": 0.9702663196548896, \"n\": 5331}, {\"threshold\": 0.15299999713897705, \"p\": 28049, \"fpr\": 0.400300131307447, \"tpr\": 0.970159363970195, \"n\": 5331}, {\"threshold\": 0.15399999916553497, \"p\": 28049, \"fpr\": 0.3991746389045207, \"tpr\": 0.9700524082855003, \"n\": 5331}, {\"threshold\": 0.1550000011920929, \"p\": 28049, \"fpr\": 0.398799474770212, \"tpr\": 0.9699098007059075, \"n\": 5331}, {\"threshold\": 0.15600000321865082, \"p\": 28049, \"fpr\": 0.3982367285687488, \"tpr\": 0.9698384969161111, \"n\": 5331}, {\"threshold\": 0.15700000524520874, \"p\": 28049, \"fpr\": 0.39804914650159445, \"tpr\": 0.9697315412314165, \"n\": 5331}, {\"threshold\": 0.15800000727176666, \"p\": 28049, \"fpr\": 0.3972988182329769, \"tpr\": 0.96966023744162, \"n\": 5331}, {\"threshold\": 0.1589999943971634, \"p\": 28049, \"fpr\": 0.39711123616582256, \"tpr\": 0.9696245855467218, \"n\": 5331}, {\"threshold\": 0.1599999964237213, \"p\": 28049, \"fpr\": 0.39654848996435943, \"tpr\": 0.9696245855467218, \"n\": 5331}, {\"threshold\": 0.16099999845027924, \"p\": 28049, \"fpr\": 0.3957981616957419, \"tpr\": 0.9695532817569253, \"n\": 5331}, {\"threshold\": 0.16200000047683716, \"p\": 28049, \"fpr\": 0.39523541549427876, \"tpr\": 0.969481977967129, \"n\": 5331}, {\"threshold\": 0.16300000250339508, \"p\": 28049, \"fpr\": 0.39486025135997, \"tpr\": 0.9694463260722307, \"n\": 5331}, {\"threshold\": 0.164000004529953, \"p\": 28049, \"fpr\": 0.3939223410241981, \"tpr\": 0.9694106741773325, \"n\": 5331}, {\"threshold\": 0.16500000655651093, \"p\": 28049, \"fpr\": 0.39317201275558056, \"tpr\": 0.9693037184926379, \"n\": 5331}, {\"threshold\": 0.16599999368190765, \"p\": 28049, \"fpr\": 0.3927968486212718, \"tpr\": 0.9692324147028415, \"n\": 5331}, {\"threshold\": 0.16699999570846558, \"p\": 28049, \"fpr\": 0.3924216844869631, \"tpr\": 0.9690898071232485, \"n\": 5331}, {\"threshold\": 0.1679999977350235, \"p\": 28049, \"fpr\": 0.3920465203526543, \"tpr\": 0.968982851438554, \"n\": 5331}, {\"threshold\": 0.16899999976158142, \"p\": 28049, \"fpr\": 0.39129619208403676, \"tpr\": 0.9688758957538594, \"n\": 5331}, {\"threshold\": 0.17000000178813934, \"p\": 28049, \"fpr\": 0.3899831176139561, \"tpr\": 0.9687689400691647, \"n\": 5331}, {\"threshold\": 0.17100000381469727, \"p\": 28049, \"fpr\": 0.38885762521102984, \"tpr\": 0.9687332881742665, \"n\": 5331}, {\"threshold\": 0.1720000058412552, \"p\": 28049, \"fpr\": 0.3884824610767211, \"tpr\": 0.96866198438447, \"n\": 5331}, {\"threshold\": 0.17299999296665192, \"p\": 28049, \"fpr\": 0.3875445507409492, \"tpr\": 0.96866198438447, \"n\": 5331}, {\"threshold\": 0.17399999499320984, \"p\": 28049, \"fpr\": 0.38735696867379477, \"tpr\": 0.9685906805946736, \"n\": 5331}, {\"threshold\": 0.17499999701976776, \"p\": 28049, \"fpr\": 0.3871693866066404, \"tpr\": 0.9684480730150807, \"n\": 5331}, {\"threshold\": 0.17599999904632568, \"p\": 28049, \"fpr\": 0.38641905833802287, \"tpr\": 0.9684124211201826, \"n\": 5331}, {\"threshold\": 0.1770000010728836, \"p\": 28049, \"fpr\": 0.38491840180078785, \"tpr\": 0.9683411173303861, \"n\": 5331}, {\"threshold\": 0.17800000309944153, \"p\": 28049, \"fpr\": 0.3841680735321703, \"tpr\": 0.9682341616456914, \"n\": 5331}, {\"threshold\": 0.17900000512599945, \"p\": 28049, \"fpr\": 0.38379290939786154, \"tpr\": 0.9681628578558951, \"n\": 5331}, {\"threshold\": 0.18000000715255737, \"p\": 28049, \"fpr\": 0.38285499906208964, \"tpr\": 0.9680559021712004, \"n\": 5331}, {\"threshold\": 0.1809999942779541, \"p\": 28049, \"fpr\": 0.3822922528606265, \"tpr\": 0.9679489464865058, \"n\": 5331}, {\"threshold\": 0.18199999630451202, \"p\": 28049, \"fpr\": 0.38154192459200903, \"tpr\": 0.9677350351171164, \"n\": 5331}, {\"threshold\": 0.18299999833106995, \"p\": 28049, \"fpr\": 0.3807915963233915, \"tpr\": 0.9675924275375236, \"n\": 5331}, {\"threshold\": 0.18400000035762787, \"p\": 28049, \"fpr\": 0.3804164321890827, \"tpr\": 0.9674498199579308, \"n\": 5331}, {\"threshold\": 0.1850000023841858, \"p\": 28049, \"fpr\": 0.3798536859876196, \"tpr\": 0.9674141680630326, \"n\": 5331}, {\"threshold\": 0.1860000044107437, \"p\": 28049, \"fpr\": 0.3789157756518477, \"tpr\": 0.9673428642732361, \"n\": 5331}, {\"threshold\": 0.18700000643730164, \"p\": 28049, \"fpr\": 0.3777902832489214, \"tpr\": 0.9672002566936433, \"n\": 5331}, {\"threshold\": 0.18799999356269836, \"p\": 28049, \"fpr\": 0.3777902832489214, \"tpr\": 0.967164604798745, \"n\": 5331}, {\"threshold\": 0.1889999955892563, \"p\": 28049, \"fpr\": 0.3774151191146126, \"tpr\": 0.9670933010089486, \"n\": 5331}, {\"threshold\": 0.1899999976158142, \"p\": 28049, \"fpr\": 0.3770399549803039, \"tpr\": 0.9669506934293558, \"n\": 5331}, {\"threshold\": 0.19099999964237213, \"p\": 28049, \"fpr\": 0.3764772087788407, \"tpr\": 0.9668793896395593, \"n\": 5331}, {\"threshold\": 0.19200000166893005, \"p\": 28049, \"fpr\": 0.37628962671168636, \"tpr\": 0.9667724339548647, \"n\": 5331}, {\"threshold\": 0.19300000369548798, \"p\": 28049, \"fpr\": 0.37572688051022324, \"tpr\": 0.96666547827017, \"n\": 5331}, {\"threshold\": 0.1940000057220459, \"p\": 28049, \"fpr\": 0.37535171637591447, \"tpr\": 0.9665941744803737, \"n\": 5331}, {\"threshold\": 0.19499999284744263, \"p\": 28049, \"fpr\": 0.3749765522416057, \"tpr\": 0.9665228706905772, \"n\": 5331}, {\"threshold\": 0.19599999487400055, \"p\": 28049, \"fpr\": 0.37460138810729693, \"tpr\": 0.9664515669007808, \"n\": 5331}, {\"threshold\": 0.19699999690055847, \"p\": 28049, \"fpr\": 0.37441380604014257, \"tpr\": 0.9664159150058825, \"n\": 5331}, {\"threshold\": 0.1979999989271164, \"p\": 28049, \"fpr\": 0.37422622397298816, \"tpr\": 0.9663446112160862, \"n\": 5331}, {\"threshold\": 0.19900000095367432, \"p\": 28049, \"fpr\": 0.37385105983867944, \"tpr\": 0.9662376555313915, \"n\": 5331}, {\"threshold\": 0.20000000298023224, \"p\": 28049, \"fpr\": 0.3731007315700619, \"tpr\": 0.9662020036364933, \"n\": 5331}, {\"threshold\": 0.20100000500679016, \"p\": 28049, \"fpr\": 0.3725379853685988, \"tpr\": 0.966166351741595, \"n\": 5331}, {\"threshold\": 0.20200000703334808, \"p\": 28049, \"fpr\": 0.37216282123429, \"tpr\": 0.9660950479517987, \"n\": 5331}, {\"threshold\": 0.2029999941587448, \"p\": 28049, \"fpr\": 0.37216282123429, \"tpr\": 0.9660593960569004, \"n\": 5331}, {\"threshold\": 0.20399999618530273, \"p\": 28049, \"fpr\": 0.3716000750328269, \"tpr\": 0.9659167884773076, \"n\": 5331}, {\"threshold\": 0.20499999821186066, \"p\": 28049, \"fpr\": 0.3704745826299006, \"tpr\": 0.9657741808977147, \"n\": 5331}, {\"threshold\": 0.20600000023841858, \"p\": 28049, \"fpr\": 0.3695366722941287, \"tpr\": 0.9657028771079182, \"n\": 5331}, {\"threshold\": 0.2070000022649765, \"p\": 28049, \"fpr\": 0.3691615081598199, \"tpr\": 0.9656672252130201, \"n\": 5331}, {\"threshold\": 0.20800000429153442, \"p\": 28049, \"fpr\": 0.36878634402551114, \"tpr\": 0.9655246176334272, \"n\": 5331}, {\"threshold\": 0.20900000631809235, \"p\": 28049, \"fpr\": 0.36784843368973924, \"tpr\": 0.9654176619487326, \"n\": 5331}, {\"threshold\": 0.20999999344348907, \"p\": 28049, \"fpr\": 0.3665353592196586, \"tpr\": 0.9653463581589361, \"n\": 5331}, {\"threshold\": 0.210999995470047, \"p\": 28049, \"fpr\": 0.36616019508534986, \"tpr\": 0.9652037505793433, \"n\": 5331}, {\"threshold\": 0.21199999749660492, \"p\": 28049, \"fpr\": 0.36597261301819545, \"tpr\": 0.964989839209954, \"n\": 5331}, {\"threshold\": 0.21299999952316284, \"p\": 28049, \"fpr\": 0.3654098668167323, \"tpr\": 0.9649185354201576, \"n\": 5331}, {\"threshold\": 0.21400000154972076, \"p\": 28049, \"fpr\": 0.36503470268242355, \"tpr\": 0.9648115797354629, \"n\": 5331}, {\"threshold\": 0.2150000035762787, \"p\": 28049, \"fpr\": 0.3644719564809604, \"tpr\": 0.9647759278405648, \"n\": 5331}, {\"threshold\": 0.2160000056028366, \"p\": 28049, \"fpr\": 0.3635340461451885, \"tpr\": 0.9647046240507683, \"n\": 5331}, {\"threshold\": 0.21699999272823334, \"p\": 28049, \"fpr\": 0.36315888201087976, \"tpr\": 0.9647046240507683, \"n\": 5331}, {\"threshold\": 0.21799999475479126, \"p\": 28049, \"fpr\": 0.3620333896079535, \"tpr\": 0.9646689721558701, \"n\": 5331}, {\"threshold\": 0.21899999678134918, \"p\": 28049, \"fpr\": 0.36128306133933596, \"tpr\": 0.9645976683660736, \"n\": 5331}, {\"threshold\": 0.2199999988079071, \"p\": 28049, \"fpr\": 0.36034515100356407, \"tpr\": 0.9645620164711755, \"n\": 5331}, {\"threshold\": 0.22100000083446503, \"p\": 28049, \"fpr\": 0.35978240480210094, \"tpr\": 0.9644550607864808, \"n\": 5331}, {\"threshold\": 0.22200000286102295, \"p\": 28049, \"fpr\": 0.35959482273494653, \"tpr\": 0.9644194088915826, \"n\": 5331}, {\"threshold\": 0.22300000488758087, \"p\": 28049, \"fpr\": 0.35921965860063776, \"tpr\": 0.9642411494170915, \"n\": 5331}, {\"threshold\": 0.2240000069141388, \"p\": 28049, \"fpr\": 0.35828174826486586, \"tpr\": 0.9641698456272951, \"n\": 5331}, {\"threshold\": 0.22499999403953552, \"p\": 28049, \"fpr\": 0.3575314199962484, \"tpr\": 0.9640985418374987, \"n\": 5331}, {\"threshold\": 0.22599999606609344, \"p\": 28049, \"fpr\": 0.3569686737947852, \"tpr\": 0.963991586152804, \"n\": 5331}, {\"threshold\": 0.22699999809265137, \"p\": 28049, \"fpr\": 0.35678109172763084, \"tpr\": 0.9637776747834147, \"n\": 5331}, {\"threshold\": 0.2280000001192093, \"p\": 28049, \"fpr\": 0.3562183455261677, \"tpr\": 0.9636707190987202, \"n\": 5331}, {\"threshold\": 0.2290000021457672, \"p\": 28049, \"fpr\": 0.3554680172575502, \"tpr\": 0.9636350672038219, \"n\": 5331}, {\"threshold\": 0.23000000417232513, \"p\": 28049, \"fpr\": 0.3550928531232414, \"tpr\": 0.9635994153089237, \"n\": 5331}, {\"threshold\": 0.23100000619888306, \"p\": 28049, \"fpr\": 0.3543425248546239, \"tpr\": 0.963492459624229, \"n\": 5331}, {\"threshold\": 0.23199999332427979, \"p\": 28049, \"fpr\": 0.353404614518852, \"tpr\": 0.9633498520446362, \"n\": 5331}, {\"threshold\": 0.2329999953508377, \"p\": 28049, \"fpr\": 0.35302945038454325, \"tpr\": 0.9632785482548397, \"n\": 5331}, {\"threshold\": 0.23399999737739563, \"p\": 28049, \"fpr\": 0.3526542862502345, \"tpr\": 0.9632428963599415, \"n\": 5331}, {\"threshold\": 0.23499999940395355, \"p\": 28049, \"fpr\": 0.35246670418308007, \"tpr\": 0.9632428963599415, \"n\": 5331}, {\"threshold\": 0.23600000143051147, \"p\": 28049, \"fpr\": 0.3515287938473082, \"tpr\": 0.9632072444650434, \"n\": 5331}, {\"threshold\": 0.2370000034570694, \"p\": 28049, \"fpr\": 0.35115362971299946, \"tpr\": 0.9631715925701451, \"n\": 5331}, {\"threshold\": 0.23800000548362732, \"p\": 28049, \"fpr\": 0.35021571937722756, \"tpr\": 0.9631359406752469, \"n\": 5331}, {\"threshold\": 0.23899999260902405, \"p\": 28049, \"fpr\": 0.3496529731757644, \"tpr\": 0.9631002887803487, \"n\": 5331}, {\"threshold\": 0.23999999463558197, \"p\": 28049, \"fpr\": 0.34946539110861, \"tpr\": 0.9628507255160612, \"n\": 5331}, {\"threshold\": 0.2409999966621399, \"p\": 28049, \"fpr\": 0.3487150628399925, \"tpr\": 0.9627437698313666, \"n\": 5331}, {\"threshold\": 0.24199999868869781, \"p\": 28049, \"fpr\": 0.3485274807728381, \"tpr\": 0.9626724660415701, \"n\": 5331}, {\"threshold\": 0.24300000071525574, \"p\": 28049, \"fpr\": 0.34815231663852936, \"tpr\": 0.9625298584619773, \"n\": 5331}, {\"threshold\": 0.24400000274181366, \"p\": 28049, \"fpr\": 0.3477771525042206, \"tpr\": 0.9624585546721808, \"n\": 5331}, {\"threshold\": 0.24500000476837158, \"p\": 28049, \"fpr\": 0.3468392421684487, \"tpr\": 0.9623159470925879, \"n\": 5331}, {\"threshold\": 0.2460000067949295, \"p\": 28049, \"fpr\": 0.34608891389983115, \"tpr\": 0.9622089914078933, \"n\": 5331}, {\"threshold\": 0.24699999392032623, \"p\": 28049, \"fpr\": 0.34608891389983115, \"tpr\": 0.9621733395129951, \"n\": 5331}, {\"threshold\": 0.24799999594688416, \"p\": 28049, \"fpr\": 0.34571374976552244, \"tpr\": 0.9621376876180969, \"n\": 5331}, {\"threshold\": 0.24899999797344208, \"p\": 28049, \"fpr\": 0.34533858563121367, \"tpr\": 0.9620663838283005, \"n\": 5331}, {\"threshold\": 0.25, \"p\": 28049, \"fpr\": 0.3449634214969049, \"tpr\": 0.9620307319334023, \"n\": 5331}, {\"threshold\": 0.25099998712539673, \"p\": 28049, \"fpr\": 0.34458825736259613, \"tpr\": 0.9619594281436058, \"n\": 5331}, {\"threshold\": 0.25200000405311584, \"p\": 28049, \"fpr\": 0.34440067529544177, \"tpr\": 0.9618524724589111, \"n\": 5331}, {\"threshold\": 0.2529999911785126, \"p\": 28049, \"fpr\": 0.344025511161133, \"tpr\": 0.9617811686691148, \"n\": 5331}, {\"threshold\": 0.2540000081062317, \"p\": 28049, \"fpr\": 0.34365034702682423, \"tpr\": 0.9617455167742166, \"n\": 5331}, {\"threshold\": 0.2549999952316284, \"p\": 28049, \"fpr\": 0.34327518289251546, \"tpr\": 0.9616742129844201, \"n\": 5331}, {\"threshold\": 0.25600001215934753, \"p\": 28049, \"fpr\": 0.342524854623898, \"tpr\": 0.9616029091946237, \"n\": 5331}, {\"threshold\": 0.25699999928474426, \"p\": 28049, \"fpr\": 0.3421496904895892, \"tpr\": 0.9615672572997255, \"n\": 5331}, {\"threshold\": 0.257999986410141, \"p\": 28049, \"fpr\": 0.3419621084224348, \"tpr\": 0.961495953509929, \"n\": 5331}, {\"threshold\": 0.2590000033378601, \"p\": 28049, \"fpr\": 0.34083661601950854, \"tpr\": 0.9613889978252345, \"n\": 5331}, {\"threshold\": 0.25999999046325684, \"p\": 28049, \"fpr\": 0.34064903395235413, \"tpr\": 0.961317694035438, \"n\": 5331}, {\"threshold\": 0.26100000739097595, \"p\": 28049, \"fpr\": 0.34064903395235413, \"tpr\": 0.9612463902456415, \"n\": 5331}, {\"threshold\": 0.2619999945163727, \"p\": 28049, \"fpr\": 0.3402738698180454, \"tpr\": 0.9612463902456415, \"n\": 5331}, {\"threshold\": 0.2630000114440918, \"p\": 28049, \"fpr\": 0.33971112361658223, \"tpr\": 0.9611750864558452, \"n\": 5331}, {\"threshold\": 0.2639999985694885, \"p\": 28049, \"fpr\": 0.3393359594822735, \"tpr\": 0.9611394345609469, \"n\": 5331}, {\"threshold\": 0.26499998569488525, \"p\": 28049, \"fpr\": 0.33877321328081034, \"tpr\": 0.9611037826660487, \"n\": 5331}, {\"threshold\": 0.26600000262260437, \"p\": 28049, \"fpr\": 0.338585631213656, \"tpr\": 0.9609611750864558, \"n\": 5331}, {\"threshold\": 0.2669999897480011, \"p\": 28049, \"fpr\": 0.3376477208778841, \"tpr\": 0.9609255231915577, \"n\": 5331}, {\"threshold\": 0.2680000066757202, \"p\": 28049, \"fpr\": 0.3372725567435753, \"tpr\": 0.960818567506863, \"n\": 5331}, {\"threshold\": 0.26899999380111694, \"p\": 28049, \"fpr\": 0.33689739260926654, \"tpr\": 0.9607472637170665, \"n\": 5331}, {\"threshold\": 0.27000001072883606, \"p\": 28049, \"fpr\": 0.3367098105421122, \"tpr\": 0.9607472637170665, \"n\": 5331}, {\"threshold\": 0.2709999978542328, \"p\": 28049, \"fpr\": 0.3365222284749578, \"tpr\": 0.9606403080323719, \"n\": 5331}, {\"threshold\": 0.2720000147819519, \"p\": 28049, \"fpr\": 0.3355843181391859, \"tpr\": 0.9606403080323719, \"n\": 5331}, {\"threshold\": 0.27300000190734863, \"p\": 28049, \"fpr\": 0.33502157193772275, \"tpr\": 0.9606046561374737, \"n\": 5331}, {\"threshold\": 0.27399998903274536, \"p\": 28049, \"fpr\": 0.3344588257362596, \"tpr\": 0.9605333523476772, \"n\": 5331}, {\"threshold\": 0.2750000059604645, \"p\": 28049, \"fpr\": 0.3338960795347965, \"tpr\": 0.9603907447680844, \"n\": 5331}, {\"threshold\": 0.2759999930858612, \"p\": 28049, \"fpr\": 0.3335209154004877, \"tpr\": 0.9603550928731862, \"n\": 5331}, {\"threshold\": 0.2770000100135803, \"p\": 28049, \"fpr\": 0.33314575126617896, \"tpr\": 0.9603550928731862, \"n\": 5331}, {\"threshold\": 0.27799999713897705, \"p\": 28049, \"fpr\": 0.3327705871318702, \"tpr\": 0.960319440978288, \"n\": 5331}, {\"threshold\": 0.27900001406669617, \"p\": 28049, \"fpr\": 0.33220784093040706, \"tpr\": 0.9602481371884916, \"n\": 5331}, {\"threshold\": 0.2800000011920929, \"p\": 28049, \"fpr\": 0.33202025886325265, \"tpr\": 0.9602481371884916, \"n\": 5331}, {\"threshold\": 0.2809999883174896, \"p\": 28049, \"fpr\": 0.33164509472894393, \"tpr\": 0.9601411815037969, \"n\": 5331}, {\"threshold\": 0.28200000524520874, \"p\": 28049, \"fpr\": 0.33164509472894393, \"tpr\": 0.9601055296088987, \"n\": 5331}, {\"threshold\": 0.28299999237060547, \"p\": 28049, \"fpr\": 0.33070718439317204, \"tpr\": 0.9599629220293059, \"n\": 5331}, {\"threshold\": 0.2840000092983246, \"p\": 28049, \"fpr\": 0.33033202025886327, \"tpr\": 0.9598559663446112, \"n\": 5331}, {\"threshold\": 0.2849999964237213, \"p\": 28049, \"fpr\": 0.3297692740574001, \"tpr\": 0.9597133587650184, \"n\": 5331}, {\"threshold\": 0.28600001335144043, \"p\": 28049, \"fpr\": 0.32958169199024573, \"tpr\": 0.9596777068701201, \"n\": 5331}, {\"threshold\": 0.28700000047683716, \"p\": 28049, \"fpr\": 0.3290189457887826, \"tpr\": 0.9594994473956291, \"n\": 5331}, {\"threshold\": 0.2879999876022339, \"p\": 28049, \"fpr\": 0.3284561995873195, \"tpr\": 0.9593924917109344, \"n\": 5331}, {\"threshold\": 0.289000004529953, \"p\": 28049, \"fpr\": 0.3280810354530107, \"tpr\": 0.9592855360262398, \"n\": 5331}, {\"threshold\": 0.28999999165534973, \"p\": 28049, \"fpr\": 0.32770587131870194, \"tpr\": 0.959142928446647, \"n\": 5331}, {\"threshold\": 0.29100000858306885, \"p\": 28049, \"fpr\": 0.3271431251172388, \"tpr\": 0.9590716246568505, \"n\": 5331}, {\"threshold\": 0.2919999957084656, \"p\": 28049, \"fpr\": 0.32676796098293004, \"tpr\": 0.9589646689721558, \"n\": 5331}, {\"threshold\": 0.2930000126361847, \"p\": 28049, \"fpr\": 0.3262052147814669, \"tpr\": 0.9588933651823595, \"n\": 5331}, {\"threshold\": 0.2939999997615814, \"p\": 28049, \"fpr\": 0.3262052147814669, \"tpr\": 0.9587507576027666, \"n\": 5331}, {\"threshold\": 0.29499998688697815, \"p\": 28049, \"fpr\": 0.3260176327143125, \"tpr\": 0.958643801918072, \"n\": 5331}, {\"threshold\": 0.29600000381469727, \"p\": 28049, \"fpr\": 0.3254548865128494, \"tpr\": 0.9586081500231737, \"n\": 5331}, {\"threshold\": 0.296999990940094, \"p\": 28049, \"fpr\": 0.32470455824423183, \"tpr\": 0.9584298905486827, \"n\": 5331}, {\"threshold\": 0.2980000078678131, \"p\": 28049, \"fpr\": 0.3245169761770775, \"tpr\": 0.958322934863988, \"n\": 5331}, {\"threshold\": 0.29899999499320984, \"p\": 28049, \"fpr\": 0.32395422997561435, \"tpr\": 0.9582872829690898, \"n\": 5331}, {\"threshold\": 0.30000001192092896, \"p\": 28049, \"fpr\": 0.32376664790845994, \"tpr\": 0.958144675389497, \"n\": 5331}, {\"threshold\": 0.3009999990463257, \"p\": 28049, \"fpr\": 0.32301631963984245, \"tpr\": 0.9581090234945987, \"n\": 5331}, {\"threshold\": 0.3019999861717224, \"p\": 28049, \"fpr\": 0.32282873757268804, \"tpr\": 0.958002067809904, \"n\": 5331}, {\"threshold\": 0.30300000309944153, \"p\": 28049, \"fpr\": 0.3222659913712249, \"tpr\": 0.958002067809904, \"n\": 5331}, {\"threshold\": 0.30399999022483826, \"p\": 28049, \"fpr\": 0.3217032451697618, \"tpr\": 0.9579307640201077, \"n\": 5331}, {\"threshold\": 0.3050000071525574, \"p\": 28049, \"fpr\": 0.3211404989682986, \"tpr\": 0.9578594602303112, \"n\": 5331}, {\"threshold\": 0.3059999942779541, \"p\": 28049, \"fpr\": 0.3205777527668355, \"tpr\": 0.9577525045456166, \"n\": 5331}, {\"threshold\": 0.3070000112056732, \"p\": 28049, \"fpr\": 0.3205777527668355, \"tpr\": 0.9576812007558202, \"n\": 5331}, {\"threshold\": 0.30799999833106995, \"p\": 28049, \"fpr\": 0.3202025886325267, \"tpr\": 0.9576812007558202, \"n\": 5331}, {\"threshold\": 0.3089999854564667, \"p\": 28049, \"fpr\": 0.3192646782967548, \"tpr\": 0.957645548860922, \"n\": 5331}, {\"threshold\": 0.3100000023841858, \"p\": 28049, \"fpr\": 0.31907709622960045, \"tpr\": 0.9574316374915327, \"n\": 5331}, {\"threshold\": 0.3109999895095825, \"p\": 28049, \"fpr\": 0.3183267679609829, \"tpr\": 0.9574316374915327, \"n\": 5331}, {\"threshold\": 0.31200000643730164, \"p\": 28049, \"fpr\": 0.31813918589382856, \"tpr\": 0.957324681806838, \"n\": 5331}, {\"threshold\": 0.31299999356269836, \"p\": 28049, \"fpr\": 0.3177640217595198, \"tpr\": 0.9572177261221434, \"n\": 5331}, {\"threshold\": 0.3140000104904175, \"p\": 28049, \"fpr\": 0.31720127555805666, \"tpr\": 0.9572177261221434, \"n\": 5331}, {\"threshold\": 0.3149999976158142, \"p\": 28049, \"fpr\": 0.31607578315513035, \"tpr\": 0.9571464223323469, \"n\": 5331}, {\"threshold\": 0.3160000145435333, \"p\": 28049, \"fpr\": 0.3157006190208216, \"tpr\": 0.9569681628578559, \"n\": 5331}, {\"threshold\": 0.31700000166893005, \"p\": 28049, \"fpr\": 0.3149502907522041, \"tpr\": 0.9568255552782631, \"n\": 5331}, {\"threshold\": 0.3179999887943268, \"p\": 28049, \"fpr\": 0.3147627086850497, \"tpr\": 0.9567542514884666, \"n\": 5331}, {\"threshold\": 0.3190000057220459, \"p\": 28049, \"fpr\": 0.31438754455074097, \"tpr\": 0.956647295803772, \"n\": 5331}, {\"threshold\": 0.3199999928474426, \"p\": 28049, \"fpr\": 0.31419996248358656, \"tpr\": 0.9566116439088738, \"n\": 5331}, {\"threshold\": 0.32100000977516174, \"p\": 28049, \"fpr\": 0.3140123804164322, \"tpr\": 0.9564690363292809, \"n\": 5331}, {\"threshold\": 0.32199999690055847, \"p\": 28049, \"fpr\": 0.31363721628212343, \"tpr\": 0.9562551249598916, \"n\": 5331}, {\"threshold\": 0.3230000138282776, \"p\": 28049, \"fpr\": 0.3134496342149691, \"tpr\": 0.9562551249598916, \"n\": 5331}, {\"threshold\": 0.3240000009536743, \"p\": 28049, \"fpr\": 0.31326205214781466, \"tpr\": 0.9561838211700951, \"n\": 5331}, {\"threshold\": 0.32499998807907104, \"p\": 28049, \"fpr\": 0.3128868880135059, \"tpr\": 0.9561125173802988, \"n\": 5331}, {\"threshold\": 0.32600000500679016, \"p\": 28049, \"fpr\": 0.3125117238791971, \"tpr\": 0.9560055616956041, \"n\": 5331}, {\"threshold\": 0.3269999921321869, \"p\": 28049, \"fpr\": 0.3121365597448884, \"tpr\": 0.955969909800706, \"n\": 5331}, {\"threshold\": 0.328000009059906, \"p\": 28049, \"fpr\": 0.3110110673419621, \"tpr\": 0.9558986060109095, \"n\": 5331}, {\"threshold\": 0.32899999618530273, \"p\": 28049, \"fpr\": 0.3102607390733446, \"tpr\": 0.9558629541160113, \"n\": 5331}, {\"threshold\": 0.33000001311302185, \"p\": 28049, \"fpr\": 0.3095104108047271, \"tpr\": 0.955827302221113, \"n\": 5331}, {\"threshold\": 0.3310000002384186, \"p\": 28049, \"fpr\": 0.3091352466704183, \"tpr\": 0.9557916503262148, \"n\": 5331}, {\"threshold\": 0.3319999873638153, \"p\": 28049, \"fpr\": 0.30894766460326395, \"tpr\": 0.9556846946415202, \"n\": 5331}, {\"threshold\": 0.3330000042915344, \"p\": 28049, \"fpr\": 0.30876008253610954, \"tpr\": 0.9556133908517238, \"n\": 5331}, {\"threshold\": 0.33399999141693115, \"p\": 28049, \"fpr\": 0.30782217220033764, \"tpr\": 0.9556133908517238, \"n\": 5331}, {\"threshold\": 0.33500000834465027, \"p\": 28049, \"fpr\": 0.30744700806602887, \"tpr\": 0.9555777389568255, \"n\": 5331}, {\"threshold\": 0.335999995470047, \"p\": 28049, \"fpr\": 0.3070718439317201, \"tpr\": 0.9555420870619273, \"n\": 5331}, {\"threshold\": 0.3370000123977661, \"p\": 28049, \"fpr\": 0.3066966797974114, \"tpr\": 0.9553994794823345, \"n\": 5331}, {\"threshold\": 0.33799999952316284, \"p\": 28049, \"fpr\": 0.3063215156631026, \"tpr\": 0.9552568719027417, \"n\": 5331}, {\"threshold\": 0.33899998664855957, \"p\": 28049, \"fpr\": 0.30594635152879385, \"tpr\": 0.9552212200078434, \"n\": 5331}, {\"threshold\": 0.3400000035762787, \"p\": 28049, \"fpr\": 0.30500844119302195, \"tpr\": 0.9550786124282505, \"n\": 5331}, {\"threshold\": 0.3409999907016754, \"p\": 28049, \"fpr\": 0.3048208591258676, \"tpr\": 0.9550073086384542, \"n\": 5331}, {\"threshold\": 0.34200000762939453, \"p\": 28049, \"fpr\": 0.30407053085725005, \"tpr\": 0.9548647010588612, \"n\": 5331}, {\"threshold\": 0.34299999475479126, \"p\": 28049, \"fpr\": 0.30407053085725005, \"tpr\": 0.9547577453741667, \"n\": 5331}, {\"threshold\": 0.3440000116825104, \"p\": 28049, \"fpr\": 0.30388294879009564, \"tpr\": 0.9545438340047774, \"n\": 5331}, {\"threshold\": 0.3449999988079071, \"p\": 28049, \"fpr\": 0.3033202025886325, \"tpr\": 0.9544725302149809, \"n\": 5331}, {\"threshold\": 0.34599998593330383, \"p\": 28049, \"fpr\": 0.30313262052147816, \"tpr\": 0.9544368783200827, \"n\": 5331}, {\"threshold\": 0.34700000286102295, \"p\": 28049, \"fpr\": 0.3023822922528606, \"tpr\": 0.9542942707404899, \"n\": 5331}, {\"threshold\": 0.3479999899864197, \"p\": 28049, \"fpr\": 0.30219471018570626, \"tpr\": 0.9542586188455916, \"n\": 5331}, {\"threshold\": 0.3490000069141388, \"p\": 28049, \"fpr\": 0.30200712811855185, \"tpr\": 0.9541516631608971, \"n\": 5331}, {\"threshold\": 0.3499999940395355, \"p\": 28049, \"fpr\": 0.30200712811855185, \"tpr\": 0.9540803593711006, \"n\": 5331}, {\"threshold\": 0.35100001096725464, \"p\": 28049, \"fpr\": 0.30106921778277995, \"tpr\": 0.9540090555813041, \"n\": 5331}, {\"threshold\": 0.35199999809265137, \"p\": 28049, \"fpr\": 0.3008816357156256, \"tpr\": 0.9539734036864059, \"n\": 5331}, {\"threshold\": 0.3529999852180481, \"p\": 28049, \"fpr\": 0.30031888951416247, \"tpr\": 0.9538664480017113, \"n\": 5331}, {\"threshold\": 0.3540000021457672, \"p\": 28049, \"fpr\": 0.30013130744700806, \"tpr\": 0.9537951442119149, \"n\": 5331}, {\"threshold\": 0.35499998927116394, \"p\": 28049, \"fpr\": 0.30013130744700806, \"tpr\": 0.953652536632322, \"n\": 5331}, {\"threshold\": 0.35600000619888306, \"p\": 28049, \"fpr\": 0.2999437253798537, \"tpr\": 0.953652536632322, \"n\": 5331}, {\"threshold\": 0.3569999933242798, \"p\": 28049, \"fpr\": 0.29938097917839057, \"tpr\": 0.9535455809476273, \"n\": 5331}, {\"threshold\": 0.3580000102519989, \"p\": 28049, \"fpr\": 0.29919339711123616, \"tpr\": 0.953474277157831, \"n\": 5331}, {\"threshold\": 0.35899999737739563, \"p\": 28049, \"fpr\": 0.29919339711123616, \"tpr\": 0.9533673214731363, \"n\": 5331}, {\"threshold\": 0.36000001430511475, \"p\": 28049, \"fpr\": 0.2984430688426186, \"tpr\": 0.9533316695782381, \"n\": 5331}, {\"threshold\": 0.3610000014305115, \"p\": 28049, \"fpr\": 0.29825548677546426, \"tpr\": 0.9532247138935435, \"n\": 5331}, {\"threshold\": 0.3619999885559082, \"p\": 28049, \"fpr\": 0.2980679047083099, \"tpr\": 0.953153410103747, \"n\": 5331}, {\"threshold\": 0.3630000054836273, \"p\": 28049, \"fpr\": 0.29769274057400114, \"tpr\": 0.9530464544190523, \"n\": 5331}, {\"threshold\": 0.36399999260902405, \"p\": 28049, \"fpr\": 0.29769274057400114, \"tpr\": 0.9530108025241542, \"n\": 5331}, {\"threshold\": 0.36500000953674316, \"p\": 28049, \"fpr\": 0.29731757643969237, \"tpr\": 0.9529394987343577, \"n\": 5331}, {\"threshold\": 0.3659999966621399, \"p\": 28049, \"fpr\": 0.2969424123053836, \"tpr\": 0.9528681949445613, \"n\": 5331}, {\"threshold\": 0.367000013589859, \"p\": 28049, \"fpr\": 0.2965672481710748, \"tpr\": 0.9528325430496631, \"n\": 5331}, {\"threshold\": 0.36800000071525574, \"p\": 28049, \"fpr\": 0.2965672481710748, \"tpr\": 0.952654283575172, \"n\": 5331}, {\"threshold\": 0.36899998784065247, \"p\": 28049, \"fpr\": 0.2965672481710748, \"tpr\": 0.952476024100681, \"n\": 5331}, {\"threshold\": 0.3700000047683716, \"p\": 28049, \"fpr\": 0.29637966610392047, \"tpr\": 0.9524403722057827, \"n\": 5331}, {\"threshold\": 0.3709999918937683, \"p\": 28049, \"fpr\": 0.29637966610392047, \"tpr\": 0.952333416521088, \"n\": 5331}, {\"threshold\": 0.3720000088214874, \"p\": 28049, \"fpr\": 0.2961920840367661, \"tpr\": 0.9522621127312917, \"n\": 5331}, {\"threshold\": 0.37299999594688416, \"p\": 28049, \"fpr\": 0.29562933783530293, \"tpr\": 0.9522621127312917, \"n\": 5331}, {\"threshold\": 0.37400001287460327, \"p\": 28049, \"fpr\": 0.29525417370099416, \"tpr\": 0.9522264608363935, \"n\": 5331}, {\"threshold\": 0.375, \"p\": 28049, \"fpr\": 0.2950665916338398, \"tpr\": 0.9521195051516989, \"n\": 5331}, {\"threshold\": 0.37599998712539673, \"p\": 28049, \"fpr\": 0.2945038454323767, \"tpr\": 0.9520838532568006, \"n\": 5331}, {\"threshold\": 0.37700000405311584, \"p\": 28049, \"fpr\": 0.29431626336522226, \"tpr\": 0.9520125494670042, \"n\": 5331}, {\"threshold\": 0.3779999911785126, \"p\": 28049, \"fpr\": 0.29394109923091355, \"tpr\": 0.9516916824129202, \"n\": 5331}, {\"threshold\": 0.3790000081062317, \"p\": 28049, \"fpr\": 0.29337835302945037, \"tpr\": 0.9516560305180221, \"n\": 5331}, {\"threshold\": 0.3799999952316284, \"p\": 28049, \"fpr\": 0.293190770962296, \"tpr\": 0.9514777710435309, \"n\": 5331}, {\"threshold\": 0.38100001215934753, \"p\": 28049, \"fpr\": 0.2926280247608329, \"tpr\": 0.9514064672537346, \"n\": 5331}, {\"threshold\": 0.38199999928474426, \"p\": 28049, \"fpr\": 0.29187769649221534, \"tpr\": 0.9513351634639381, \"n\": 5331}, {\"threshold\": 0.382999986410141, \"p\": 28049, \"fpr\": 0.291690114425061, \"tpr\": 0.9511925558843453, \"n\": 5331}, {\"threshold\": 0.3840000033378601, \"p\": 28049, \"fpr\": 0.2915025323579066, \"tpr\": 0.9510856001996506, \"n\": 5331}, {\"threshold\": 0.38499999046325684, \"p\": 28049, \"fpr\": 0.2915025323579066, \"tpr\": 0.950978644514956, \"n\": 5331}, {\"threshold\": 0.38600000739097595, \"p\": 28049, \"fpr\": 0.2903770399549803, \"tpr\": 0.9509429926200578, \"n\": 5331}, {\"threshold\": 0.3869999945163727, \"p\": 28049, \"fpr\": 0.29000187582067155, \"tpr\": 0.9509073407251596, \"n\": 5331}, {\"threshold\": 0.3880000114440918, \"p\": 28049, \"fpr\": 0.28906396548489965, \"tpr\": 0.9507647331455666, \"n\": 5331}, {\"threshold\": 0.3889999985694885, \"p\": 28049, \"fpr\": 0.2883136372162821, \"tpr\": 0.9506221255659738, \"n\": 5331}, {\"threshold\": 0.38999998569488525, \"p\": 28049, \"fpr\": 0.28812605514912776, \"tpr\": 0.9505508217761774, \"n\": 5331}, {\"threshold\": 0.39100000262260437, \"p\": 28049, \"fpr\": 0.28756330894766463, \"tpr\": 0.950479517986381, \"n\": 5331}, {\"threshold\": 0.3919999897480011, \"p\": 28049, \"fpr\": 0.28718814481335586, \"tpr\": 0.9503725623016863, \"n\": 5331}, {\"threshold\": 0.3930000066757202, \"p\": 28049, \"fpr\": 0.2864378165447383, \"tpr\": 0.950158650932297, \"n\": 5331}, {\"threshold\": 0.39399999380111694, \"p\": 28049, \"fpr\": 0.28606265241042955, \"tpr\": 0.9501229990373988, \"n\": 5331}, {\"threshold\": 0.39500001072883606, \"p\": 28049, \"fpr\": 0.2858750703432752, \"tpr\": 0.949980391457806, \"n\": 5331}, {\"threshold\": 0.3959999978542328, \"p\": 28049, \"fpr\": 0.2854999062089664, \"tpr\": 0.9499090876680095, \"n\": 5331}, {\"threshold\": 0.3970000147819519, \"p\": 28049, \"fpr\": 0.2849371600075033, \"tpr\": 0.9498021319833149, \"n\": 5331}, {\"threshold\": 0.39800000190734863, \"p\": 28049, \"fpr\": 0.28456199587319453, \"tpr\": 0.9498021319833149, \"n\": 5331}, {\"threshold\": 0.39899998903274536, \"p\": 28049, \"fpr\": 0.28456199587319453, \"tpr\": 0.9497308281935185, \"n\": 5331}, {\"threshold\": 0.4000000059604645, \"p\": 28049, \"fpr\": 0.2839992496717314, \"tpr\": 0.9496238725088239, \"n\": 5331}, {\"threshold\": 0.4009999930858612, \"p\": 28049, \"fpr\": 0.2830613393359595, \"tpr\": 0.9495525687190274, \"n\": 5331}, {\"threshold\": 0.4020000100135803, \"p\": 28049, \"fpr\": 0.2824985931344963, \"tpr\": 0.9493743092445364, \"n\": 5331}, {\"threshold\": 0.40299999713897705, \"p\": 28049, \"fpr\": 0.2819358469330332, \"tpr\": 0.9493030054547399, \"n\": 5331}, {\"threshold\": 0.40400001406669617, \"p\": 28049, \"fpr\": 0.2819358469330332, \"tpr\": 0.9492673535598417, \"n\": 5331}, {\"threshold\": 0.4050000011920929, \"p\": 28049, \"fpr\": 0.2819358469330332, \"tpr\": 0.9492673535598417, \"n\": 5331}, {\"threshold\": 0.4059999883174896, \"p\": 28049, \"fpr\": 0.28174826486587884, \"tpr\": 0.9492317016649435, \"n\": 5331}, {\"threshold\": 0.40700000524520874, \"p\": 28049, \"fpr\": 0.2815606827987244, \"tpr\": 0.9492317016649435, \"n\": 5331}, {\"threshold\": 0.40799999237060547, \"p\": 28049, \"fpr\": 0.2809979365972613, \"tpr\": 0.9491247459802489, \"n\": 5331}, {\"threshold\": 0.4090000092983246, \"p\": 28049, \"fpr\": 0.28062277246295253, \"tpr\": 0.9490534421904524, \"n\": 5331}, {\"threshold\": 0.4099999964237213, \"p\": 28049, \"fpr\": 0.2804351903957982, \"tpr\": 0.9490534421904524, \"n\": 5331}, {\"threshold\": 0.41100001335144043, \"p\": 28049, \"fpr\": 0.28024760832864376, \"tpr\": 0.9488395308210631, \"n\": 5331}, {\"threshold\": 0.41200000047683716, \"p\": 28049, \"fpr\": 0.27968486212718063, \"tpr\": 0.9488038789261649, \"n\": 5331}, {\"threshold\": 0.4129999876022339, \"p\": 28049, \"fpr\": 0.27930969799287186, \"tpr\": 0.9488038789261649, \"n\": 5331}, {\"threshold\": 0.414000004529953, \"p\": 28049, \"fpr\": 0.27874695179140874, \"tpr\": 0.9487325751363685, \"n\": 5331}, {\"threshold\": 0.41499999165534973, \"p\": 28049, \"fpr\": 0.27874695179140874, \"tpr\": 0.9486969232414703, \"n\": 5331}, {\"threshold\": 0.41600000858306885, \"p\": 28049, \"fpr\": 0.27837178765709997, \"tpr\": 0.9486256194516739, \"n\": 5331}, {\"threshold\": 0.4169999957084656, \"p\": 28049, \"fpr\": 0.27780904145563684, \"tpr\": 0.9485899675567756, \"n\": 5331}, {\"threshold\": 0.4180000126361847, \"p\": 28049, \"fpr\": 0.27780904145563684, \"tpr\": 0.948483011872081, \"n\": 5331}, {\"threshold\": 0.4189999997615814, \"p\": 28049, \"fpr\": 0.27743387732132807, \"tpr\": 0.9483760561873864, \"n\": 5331}, {\"threshold\": 0.41999998688697815, \"p\": 28049, \"fpr\": 0.27743387732132807, \"tpr\": 0.9483404042924881, \"n\": 5331}, {\"threshold\": 0.42100000381469727, \"p\": 28049, \"fpr\": 0.2770587131870193, \"tpr\": 0.9482334486077935, \"n\": 5331}, {\"threshold\": 0.421999990940094, \"p\": 28049, \"fpr\": 0.27687113111986494, \"tpr\": 0.9481264929230989, \"n\": 5331}, {\"threshold\": 0.4230000078678131, \"p\": 28049, \"fpr\": 0.2766835490527106, \"tpr\": 0.947983885343506, \"n\": 5331}, {\"threshold\": 0.42399999499320984, \"p\": 28049, \"fpr\": 0.2766835490527106, \"tpr\": 0.9478769296588113, \"n\": 5331}, {\"threshold\": 0.42500001192092896, \"p\": 28049, \"fpr\": 0.2764959669855562, \"tpr\": 0.9478412777639131, \"n\": 5331}, {\"threshold\": 0.4259999990463257, \"p\": 28049, \"fpr\": 0.27593322078409305, \"tpr\": 0.9478412777639131, \"n\": 5331}, {\"threshold\": 0.4269999861717224, \"p\": 28049, \"fpr\": 0.2753704745826299, \"tpr\": 0.947805625869015, \"n\": 5331}, {\"threshold\": 0.42800000309944153, \"p\": 28049, \"fpr\": 0.274432564246858, \"tpr\": 0.9475917144996256, \"n\": 5331}, {\"threshold\": 0.42899999022483826, \"p\": 28049, \"fpr\": 0.27386981804539484, \"tpr\": 0.9474491069200328, \"n\": 5331}, {\"threshold\": 0.4300000071525574, \"p\": 28049, \"fpr\": 0.2733070718439317, \"tpr\": 0.9473421512353382, \"n\": 5331}, {\"threshold\": 0.4309999942779541, \"p\": 28049, \"fpr\": 0.27293190770962295, \"tpr\": 0.9472708474455417, \"n\": 5331}, {\"threshold\": 0.4320000112056732, \"p\": 28049, \"fpr\": 0.27218157944100546, \"tpr\": 0.9471995436557453, \"n\": 5331}, {\"threshold\": 0.43299999833106995, \"p\": 28049, \"fpr\": 0.2718064153066967, \"tpr\": 0.9470925879710507, \"n\": 5331}, {\"threshold\": 0.4339999854564667, \"p\": 28049, \"fpr\": 0.2716188332395423, \"tpr\": 0.9470569360761525, \"n\": 5331}, {\"threshold\": 0.4350000023841858, \"p\": 28049, \"fpr\": 0.27124366910523356, \"tpr\": 0.9470569360761525, \"n\": 5331}, {\"threshold\": 0.4359999895095825, \"p\": 28049, \"fpr\": 0.27124366910523356, \"tpr\": 0.9469499803914578, \"n\": 5331}, {\"threshold\": 0.43700000643730164, \"p\": 28049, \"fpr\": 0.2708685049709248, \"tpr\": 0.9468430247067632, \"n\": 5331}, {\"threshold\": 0.43799999356269836, \"p\": 28049, \"fpr\": 0.2703057587694616, \"tpr\": 0.946807372811865, \"n\": 5331}, {\"threshold\": 0.4390000104904175, \"p\": 28049, \"fpr\": 0.2703057587694616, \"tpr\": 0.9467717209169667, \"n\": 5331}, {\"threshold\": 0.4399999976158142, \"p\": 28049, \"fpr\": 0.2697430125679985, \"tpr\": 0.9466291133373739, \"n\": 5331}, {\"threshold\": 0.4410000145435333, \"p\": 28049, \"fpr\": 0.2697430125679985, \"tpr\": 0.9465221576526792, \"n\": 5331}, {\"threshold\": 0.44200000166893005, \"p\": 28049, \"fpr\": 0.26955543050084413, \"tpr\": 0.9463795500730864, \"n\": 5331}, {\"threshold\": 0.4429999887943268, \"p\": 28049, \"fpr\": 0.2693678484336897, \"tpr\": 0.9463438981781882, \"n\": 5331}, {\"threshold\": 0.4440000057220459, \"p\": 28049, \"fpr\": 0.26861752016507223, \"tpr\": 0.9463082462832899, \"n\": 5331}, {\"threshold\": 0.4449999928474426, \"p\": 28049, \"fpr\": 0.2680547739636091, \"tpr\": 0.9462725943883917, \"n\": 5331}, {\"threshold\": 0.44600000977516174, \"p\": 28049, \"fpr\": 0.26767960982930034, \"tpr\": 0.9461656387036971, \"n\": 5331}, {\"threshold\": 0.44699999690055847, \"p\": 28049, \"fpr\": 0.26730444569499157, \"tpr\": 0.9461299868087989, \"n\": 5331}, {\"threshold\": 0.4480000138282776, \"p\": 28049, \"fpr\": 0.26711686362783715, \"tpr\": 0.9459517273343078, \"n\": 5331}, {\"threshold\": 0.4490000009536743, \"p\": 28049, \"fpr\": 0.2669292815606828, \"tpr\": 0.9458091197547149, \"n\": 5331}, {\"threshold\": 0.44999998807907104, \"p\": 28049, \"fpr\": 0.26636653535921967, \"tpr\": 0.9457378159649186, \"n\": 5331}, {\"threshold\": 0.45100000500679016, \"p\": 28049, \"fpr\": 0.26561620709060213, \"tpr\": 0.9456308602802239, \"n\": 5331}, {\"threshold\": 0.4519999921321869, \"p\": 28049, \"fpr\": 0.26561620709060213, \"tpr\": 0.9454882527006311, \"n\": 5331}, {\"threshold\": 0.453000009059906, \"p\": 28049, \"fpr\": 0.265053460889139, \"tpr\": 0.9454169489108346, \"n\": 5331}, {\"threshold\": 0.45399999618530273, \"p\": 28049, \"fpr\": 0.265053460889139, \"tpr\": 0.9453456451210381, \"n\": 5331}, {\"threshold\": 0.45500001311302185, \"p\": 28049, \"fpr\": 0.2648658788219846, \"tpr\": 0.9452743413312418, \"n\": 5331}, {\"threshold\": 0.4560000002384186, \"p\": 28049, \"fpr\": 0.26467829675483023, \"tpr\": 0.9451673856465471, \"n\": 5331}, {\"threshold\": 0.4569999873638153, \"p\": 28049, \"fpr\": 0.2644907146876759, \"tpr\": 0.9449534742771578, \"n\": 5331}, {\"threshold\": 0.4580000042915344, \"p\": 28049, \"fpr\": 0.26430313262052146, \"tpr\": 0.9447752148026668, \"n\": 5331}, {\"threshold\": 0.45899999141693115, \"p\": 28049, \"fpr\": 0.26430313262052146, \"tpr\": 0.9446682591179721, \"n\": 5331}, {\"threshold\": 0.46000000834465027, \"p\": 28049, \"fpr\": 0.2639279684862127, \"tpr\": 0.944489999643481, \"n\": 5331}, {\"threshold\": 0.460999995470047, \"p\": 28049, \"fpr\": 0.26374038641905834, \"tpr\": 0.9444186958536847, \"n\": 5331}, {\"threshold\": 0.4620000123977661, \"p\": 28049, \"fpr\": 0.2631776402175952, \"tpr\": 0.9441691325893972, \"n\": 5331}, {\"threshold\": 0.46299999952316284, \"p\": 28049, \"fpr\": 0.26280247608328644, \"tpr\": 0.9440978287996007, \"n\": 5331}, {\"threshold\": 0.46399998664855957, \"p\": 28049, \"fpr\": 0.2626148940161321, \"tpr\": 0.9440265250098042, \"n\": 5331}, {\"threshold\": 0.4650000035762787, \"p\": 28049, \"fpr\": 0.26242731194897767, \"tpr\": 0.9438839174302114, \"n\": 5331}, {\"threshold\": 0.4659999907016754, \"p\": 28049, \"fpr\": 0.2622397298818233, \"tpr\": 0.9438482655353132, \"n\": 5331}, {\"threshold\": 0.46700000762939453, \"p\": 28049, \"fpr\": 0.26186456574751454, \"tpr\": 0.9437769617455167, \"n\": 5331}, {\"threshold\": 0.46799999475479126, \"p\": 28049, \"fpr\": 0.26167698368036013, \"tpr\": 0.9435987022710257, \"n\": 5331}, {\"threshold\": 0.4690000116825104, \"p\": 28049, \"fpr\": 0.26092665541174265, \"tpr\": 0.9435630503761275, \"n\": 5331}, {\"threshold\": 0.4699999988079071, \"p\": 28049, \"fpr\": 0.2601763271431251, \"tpr\": 0.9435630503761275, \"n\": 5331}, {\"threshold\": 0.47099998593330383, \"p\": 28049, \"fpr\": 0.2601763271431251, \"tpr\": 0.9435273984812292, \"n\": 5331}, {\"threshold\": 0.47200000286102295, \"p\": 28049, \"fpr\": 0.259613580941662, \"tpr\": 0.94331348711184, \"n\": 5331}, {\"threshold\": 0.4729999899864197, \"p\": 28049, \"fpr\": 0.2594259988745076, \"tpr\": 0.9431708795322471, \"n\": 5331}, {\"threshold\": 0.4740000069141388, \"p\": 28049, \"fpr\": 0.25848808853873567, \"tpr\": 0.9430995757424507, \"n\": 5331}, {\"threshold\": 0.4749999940395355, \"p\": 28049, \"fpr\": 0.2583005064715813, \"tpr\": 0.9430639238475524, \"n\": 5331}, {\"threshold\": 0.47600001096725464, \"p\": 28049, \"fpr\": 0.2583005064715813, \"tpr\": 0.9428856643730614, \"n\": 5331}, {\"threshold\": 0.47699999809265137, \"p\": 28049, \"fpr\": 0.25811292440442696, \"tpr\": 0.9427787086883668, \"n\": 5331}, {\"threshold\": 0.4779999852180481, \"p\": 28049, \"fpr\": 0.2573625961358094, \"tpr\": 0.9427074048985704, \"n\": 5331}, {\"threshold\": 0.4790000021457672, \"p\": 28049, \"fpr\": 0.2573625961358094, \"tpr\": 0.9426361011087739, \"n\": 5331}, {\"threshold\": 0.47999998927116394, \"p\": 28049, \"fpr\": 0.25698743200150065, \"tpr\": 0.9424578416342828, \"n\": 5331}, {\"threshold\": 0.48100000619888306, \"p\": 28049, \"fpr\": 0.2564246858000375, \"tpr\": 0.9423508859495883, \"n\": 5331}, {\"threshold\": 0.4819999933242798, \"p\": 28049, \"fpr\": 0.25567435753142, \"tpr\": 0.9422795821597918, \"n\": 5331}, {\"threshold\": 0.4830000102519989, \"p\": 28049, \"fpr\": 0.2554867754642656, \"tpr\": 0.9422082783699953, \"n\": 5331}, {\"threshold\": 0.48399999737739563, \"p\": 28049, \"fpr\": 0.25511161132995686, \"tpr\": 0.9419587151057078, \"n\": 5331}, {\"threshold\": 0.48500001430511475, \"p\": 28049, \"fpr\": 0.2547364471956481, \"tpr\": 0.9418874113159115, \"n\": 5331}, {\"threshold\": 0.4860000014305115, \"p\": 28049, \"fpr\": 0.2547364471956481, \"tpr\": 0.9417804556312168, \"n\": 5331}, {\"threshold\": 0.4869999885559082, \"p\": 28049, \"fpr\": 0.25454886512849373, \"tpr\": 0.9416021961567257, \"n\": 5331}, {\"threshold\": 0.4880000054836273, \"p\": 28049, \"fpr\": 0.2539861189270306, \"tpr\": 0.9415308923669293, \"n\": 5331}, {\"threshold\": 0.48899999260902405, \"p\": 28049, \"fpr\": 0.2539861189270306, \"tpr\": 0.9414239366822347, \"n\": 5331}, {\"threshold\": 0.49000000953674316, \"p\": 28049, \"fpr\": 0.25323579065841306, \"tpr\": 0.9413526328924382, \"n\": 5331}, {\"threshold\": 0.4909999966621399, \"p\": 28049, \"fpr\": 0.2528606265241043, \"tpr\": 0.94131698099754, \"n\": 5331}, {\"threshold\": 0.492000013589859, \"p\": 28049, \"fpr\": 0.25267304445694994, \"tpr\": 0.9412100253128454, \"n\": 5331}, {\"threshold\": 0.49300000071525574, \"p\": 28049, \"fpr\": 0.25267304445694994, \"tpr\": 0.941138721523049, \"n\": 5331}, {\"threshold\": 0.49399998784065247, \"p\": 28049, \"fpr\": 0.25267304445694994, \"tpr\": 0.9409961139434561, \"n\": 5331}, {\"threshold\": 0.4950000047683716, \"p\": 28049, \"fpr\": 0.2524854623897955, \"tpr\": 0.9408535063638632, \"n\": 5331}, {\"threshold\": 0.4959999918937683, \"p\": 28049, \"fpr\": 0.2524854623897955, \"tpr\": 0.9406752468893722, \"n\": 5331}, {\"threshold\": 0.4970000088214874, \"p\": 28049, \"fpr\": 0.25229788032264117, \"tpr\": 0.9404969874148811, \"n\": 5331}, {\"threshold\": 0.49799999594688416, \"p\": 28049, \"fpr\": 0.25211029825548675, \"tpr\": 0.9403543798352882, \"n\": 5331}, {\"threshold\": 0.49900001287460327, \"p\": 28049, \"fpr\": 0.25211029825548675, \"tpr\": 0.9401761203607972, \"n\": 5331}, {\"threshold\": 0.5, \"p\": 28049, \"fpr\": 0.2515475520540236, \"tpr\": 0.9399622089914079, \"n\": 5331}, {\"threshold\": 0.5009999871253967, \"p\": 28049, \"fpr\": 0.25117238791971486, \"tpr\": 0.9398196014118151, \"n\": 5331}, {\"threshold\": 0.5019999742507935, \"p\": 28049, \"fpr\": 0.25079722378540614, \"tpr\": 0.9397839495169168, \"n\": 5331}, {\"threshold\": 0.503000020980835, \"p\": 28049, \"fpr\": 0.25023447758394296, \"tpr\": 0.9396769938322221, \"n\": 5331}, {\"threshold\": 0.5040000081062317, \"p\": 28049, \"fpr\": 0.24985931344963422, \"tpr\": 0.9395343862526293, \"n\": 5331}, {\"threshold\": 0.5049999952316284, \"p\": 28049, \"fpr\": 0.24985931344963422, \"tpr\": 0.9393917786730365, \"n\": 5331}, {\"threshold\": 0.5059999823570251, \"p\": 28049, \"fpr\": 0.2491089851810167, \"tpr\": 0.9392848229883418, \"n\": 5331}, {\"threshold\": 0.5070000290870667, \"p\": 28049, \"fpr\": 0.24873382104670794, \"tpr\": 0.9391778673036472, \"n\": 5331}, {\"threshold\": 0.5080000162124634, \"p\": 28049, \"fpr\": 0.24873382104670794, \"tpr\": 0.9390352597240543, \"n\": 5331}, {\"threshold\": 0.5090000033378601, \"p\": 28049, \"fpr\": 0.24835865691239917, \"tpr\": 0.9389283040393597, \"n\": 5331}, {\"threshold\": 0.5099999904632568, \"p\": 28049, \"fpr\": 0.24760832864378166, \"tpr\": 0.9388926521444615, \"n\": 5331}, {\"threshold\": 0.5109999775886536, \"p\": 28049, \"fpr\": 0.2470455824423185, \"tpr\": 0.9386787407750722, \"n\": 5331}, {\"threshold\": 0.5120000243186951, \"p\": 28049, \"fpr\": 0.24685800037516414, \"tpr\": 0.938643088880174, \"n\": 5331}, {\"threshold\": 0.5130000114440918, \"p\": 28049, \"fpr\": 0.24648283624085537, \"tpr\": 0.9385717850903775, \"n\": 5331}, {\"threshold\": 0.5139999985694885, \"p\": 28049, \"fpr\": 0.24648283624085537, \"tpr\": 0.9383935256158865, \"n\": 5331}, {\"threshold\": 0.5149999856948853, \"p\": 28049, \"fpr\": 0.24554492590508348, \"tpr\": 0.93832222182609, \"n\": 5331}, {\"threshold\": 0.515999972820282, \"p\": 28049, \"fpr\": 0.2453573438379291, \"tpr\": 0.9382865699311919, \"n\": 5331}, {\"threshold\": 0.5170000195503235, \"p\": 28049, \"fpr\": 0.24498217970362032, \"tpr\": 0.938143962351599, \"n\": 5331}, {\"threshold\": 0.5180000066757202, \"p\": 28049, \"fpr\": 0.24498217970362032, \"tpr\": 0.938143962351599, \"n\": 5331}, {\"threshold\": 0.5189999938011169, \"p\": 28049, \"fpr\": 0.24498217970362032, \"tpr\": 0.9380726585618026, \"n\": 5331}, {\"threshold\": 0.5199999809265137, \"p\": 28049, \"fpr\": 0.24479459763646597, \"tpr\": 0.9380370066669044, \"n\": 5331}, {\"threshold\": 0.5210000276565552, \"p\": 28049, \"fpr\": 0.2444194335021572, \"tpr\": 0.9379657028771079, \"n\": 5331}, {\"threshold\": 0.5220000147819519, \"p\": 28049, \"fpr\": 0.24385668730069404, \"tpr\": 0.9377874434026169, \"n\": 5331}, {\"threshold\": 0.5230000019073486, \"p\": 28049, \"fpr\": 0.2434815231663853, \"tpr\": 0.9376804877179222, \"n\": 5331}, {\"threshold\": 0.5239999890327454, \"p\": 28049, \"fpr\": 0.24273119489776776, \"tpr\": 0.9375735320332276, \"n\": 5331}, {\"threshold\": 0.5249999761581421, \"p\": 28049, \"fpr\": 0.24216844869630463, \"tpr\": 0.9374309244536347, \"n\": 5331}, {\"threshold\": 0.5260000228881836, \"p\": 28049, \"fpr\": 0.24179328456199586, \"tpr\": 0.9373596206638383, \"n\": 5331}, {\"threshold\": 0.5270000100135803, \"p\": 28049, \"fpr\": 0.2416057024948415, \"tpr\": 0.9372170130842454, \"n\": 5331}, {\"threshold\": 0.527999997138977, \"p\": 28049, \"fpr\": 0.24085537422622397, \"tpr\": 0.9370744055046526, \"n\": 5331}, {\"threshold\": 0.5289999842643738, \"p\": 28049, \"fpr\": 0.24029262802476084, \"tpr\": 0.9369317979250598, \"n\": 5331}, {\"threshold\": 0.5299999713897705, \"p\": 28049, \"fpr\": 0.23991746389045207, \"tpr\": 0.9368248422403651, \"n\": 5331}, {\"threshold\": 0.531000018119812, \"p\": 28049, \"fpr\": 0.23991746389045207, \"tpr\": 0.9366822346607723, \"n\": 5331}, {\"threshold\": 0.5320000052452087, \"p\": 28049, \"fpr\": 0.2395422997561433, \"tpr\": 0.9366822346607723, \"n\": 5331}, {\"threshold\": 0.5329999923706055, \"p\": 28049, \"fpr\": 0.23935471768898894, \"tpr\": 0.936646582765874, \"n\": 5331}, {\"threshold\": 0.5339999794960022, \"p\": 28049, \"fpr\": 0.23897955355468017, \"tpr\": 0.9365752789760776, \"n\": 5331}, {\"threshold\": 0.5350000262260437, \"p\": 28049, \"fpr\": 0.23822922528606266, \"tpr\": 0.9363970195015865, \"n\": 5331}, {\"threshold\": 0.5360000133514404, \"p\": 28049, \"fpr\": 0.23804164321890828, \"tpr\": 0.9363257157117901, \"n\": 5331}, {\"threshold\": 0.5370000004768372, \"p\": 28049, \"fpr\": 0.2378540611517539, \"tpr\": 0.9362544119219937, \"n\": 5331}, {\"threshold\": 0.5379999876022339, \"p\": 28049, \"fpr\": 0.2378540611517539, \"tpr\": 0.9361118043424008, \"n\": 5331}, {\"threshold\": 0.5389999747276306, \"p\": 28049, \"fpr\": 0.2376664790845995, \"tpr\": 0.9360048486577062, \"n\": 5331}, {\"threshold\": 0.5400000214576721, \"p\": 28049, \"fpr\": 0.23747889701744512, \"tpr\": 0.935969196762808, \"n\": 5331}, {\"threshold\": 0.5410000085830688, \"p\": 28049, \"fpr\": 0.23729131495029077, \"tpr\": 0.9359335448679097, \"n\": 5331}, {\"threshold\": 0.5419999957084656, \"p\": 28049, \"fpr\": 0.23729131495029077, \"tpr\": 0.9357909372883169, \"n\": 5331}, {\"threshold\": 0.5429999828338623, \"p\": 28049, \"fpr\": 0.236916150815982, \"tpr\": 0.9357552853934187, \"n\": 5331}, {\"threshold\": 0.5440000295639038, \"p\": 28049, \"fpr\": 0.23635340461451884, \"tpr\": 0.9356839816036222, \"n\": 5331}, {\"threshold\": 0.5450000166893005, \"p\": 28049, \"fpr\": 0.23635340461451884, \"tpr\": 0.935648329708724, \"n\": 5331}, {\"threshold\": 0.5460000038146973, \"p\": 28049, \"fpr\": 0.23560307634590133, \"tpr\": 0.9355413740240294, \"n\": 5331}, {\"threshold\": 0.546999990940094, \"p\": 28049, \"fpr\": 0.23541549427874695, \"tpr\": 0.9354700702342329, \"n\": 5331}, {\"threshold\": 0.5479999780654907, \"p\": 28049, \"fpr\": 0.23522791221159256, \"tpr\": 0.9353987664444365, \"n\": 5331}, {\"threshold\": 0.5490000247955322, \"p\": 28049, \"fpr\": 0.23466516601012943, \"tpr\": 0.9352205069699454, \"n\": 5331}, {\"threshold\": 0.550000011920929, \"p\": 28049, \"fpr\": 0.23429000187582066, \"tpr\": 0.935149203180149, \"n\": 5331}, {\"threshold\": 0.5509999990463257, \"p\": 28049, \"fpr\": 0.23391483774151192, \"tpr\": 0.9350422474954544, \"n\": 5331}, {\"threshold\": 0.5519999861717224, \"p\": 28049, \"fpr\": 0.23391483774151192, \"tpr\": 0.9349709437056579, \"n\": 5331}, {\"threshold\": 0.5529999732971191, \"p\": 28049, \"fpr\": 0.23353967360720315, \"tpr\": 0.9348639880209633, \"n\": 5331}, {\"threshold\": 0.5540000200271606, \"p\": 28049, \"fpr\": 0.23278934533858564, \"tpr\": 0.9347926842311669, \"n\": 5331}, {\"threshold\": 0.5550000071525574, \"p\": 28049, \"fpr\": 0.23241418120427687, \"tpr\": 0.9346857285464722, \"n\": 5331}, {\"threshold\": 0.5559999942779541, \"p\": 28049, \"fpr\": 0.23185143500281374, \"tpr\": 0.9344718171770829, \"n\": 5331}, {\"threshold\": 0.5569999814033508, \"p\": 28049, \"fpr\": 0.23147627086850497, \"tpr\": 0.9343292095974901, \"n\": 5331}, {\"threshold\": 0.5580000281333923, \"p\": 28049, \"fpr\": 0.23091352466704182, \"tpr\": 0.9343292095974901, \"n\": 5331}, {\"threshold\": 0.5590000152587891, \"p\": 28049, \"fpr\": 0.23091352466704182, \"tpr\": 0.9341866020178973, \"n\": 5331}, {\"threshold\": 0.5600000023841858, \"p\": 28049, \"fpr\": 0.23091352466704182, \"tpr\": 0.9341866020178973, \"n\": 5331}, {\"threshold\": 0.5609999895095825, \"p\": 28049, \"fpr\": 0.23072594259988746, \"tpr\": 0.933972690648508, \"n\": 5331}, {\"threshold\": 0.5619999766349792, \"p\": 28049, \"fpr\": 0.2301631963984243, \"tpr\": 0.9338300830689151, \"n\": 5331}, {\"threshold\": 0.5630000233650208, \"p\": 28049, \"fpr\": 0.22960045019696118, \"tpr\": 0.9337587792791187, \"n\": 5331}, {\"threshold\": 0.5640000104904175, \"p\": 28049, \"fpr\": 0.2294128681298068, \"tpr\": 0.9336874754893223, \"n\": 5331}, {\"threshold\": 0.5649999976158142, \"p\": 28049, \"fpr\": 0.22903770399549803, \"tpr\": 0.9335092160148312, \"n\": 5331}, {\"threshold\": 0.5659999847412109, \"p\": 28049, \"fpr\": 0.22885012192834364, \"tpr\": 0.9334022603301365, \"n\": 5331}, {\"threshold\": 0.5669999718666077, \"p\": 28049, \"fpr\": 0.22866253986118926, \"tpr\": 0.9334022603301365, \"n\": 5331}, {\"threshold\": 0.5680000185966492, \"p\": 28049, \"fpr\": 0.22809979365972613, \"tpr\": 0.9333666084352383, \"n\": 5331}, {\"threshold\": 0.5690000057220459, \"p\": 28049, \"fpr\": 0.22772462952541736, \"tpr\": 0.9332240008556455, \"n\": 5331}, {\"threshold\": 0.5699999928474426, \"p\": 28049, \"fpr\": 0.227537047458263, \"tpr\": 0.9331170451709508, \"n\": 5331}, {\"threshold\": 0.5709999799728394, \"p\": 28049, \"fpr\": 0.227537047458263, \"tpr\": 0.9330457413811544, \"n\": 5331}, {\"threshold\": 0.5720000267028809, \"p\": 28049, \"fpr\": 0.22697430125679985, \"tpr\": 0.932974437591358, \"n\": 5331}, {\"threshold\": 0.5730000138282776, \"p\": 28049, \"fpr\": 0.22697430125679985, \"tpr\": 0.9329031338015615, \"n\": 5331}, {\"threshold\": 0.5740000009536743, \"p\": 28049, \"fpr\": 0.22678671918964546, \"tpr\": 0.9327605262219687, \"n\": 5331}, {\"threshold\": 0.574999988079071, \"p\": 28049, \"fpr\": 0.22603639092102795, \"tpr\": 0.932653570537274, \"n\": 5331}, {\"threshold\": 0.5759999752044678, \"p\": 28049, \"fpr\": 0.22566122678671918, \"tpr\": 0.9324396591678847, \"n\": 5331}, {\"threshold\": 0.5770000219345093, \"p\": 28049, \"fpr\": 0.22509848058525606, \"tpr\": 0.9323327034831901, \"n\": 5331}, {\"threshold\": 0.578000009059906, \"p\": 28049, \"fpr\": 0.22472331645094729, \"tpr\": 0.9322970515882919, \"n\": 5331}, {\"threshold\": 0.5789999961853027, \"p\": 28049, \"fpr\": 0.2245357343837929, \"tpr\": 0.9320831402189026, \"n\": 5331}, {\"threshold\": 0.5799999833106995, \"p\": 28049, \"fpr\": 0.2245357343837929, \"tpr\": 0.9319761845342079, \"n\": 5331}, {\"threshold\": 0.5809999704360962, \"p\": 28049, \"fpr\": 0.2237854061151754, \"tpr\": 0.9318335769546151, \"n\": 5331}, {\"threshold\": 0.5820000171661377, \"p\": 28049, \"fpr\": 0.2228474957794035, \"tpr\": 0.9316909693750223, \"n\": 5331}, {\"threshold\": 0.5830000042915344, \"p\": 28049, \"fpr\": 0.2226599137122491, \"tpr\": 0.9315840136903276, \"n\": 5331}, {\"threshold\": 0.5839999914169312, \"p\": 28049, \"fpr\": 0.22247233164509472, \"tpr\": 0.9315483617954294, \"n\": 5331}, {\"threshold\": 0.5849999785423279, \"p\": 28049, \"fpr\": 0.22209716751078598, \"tpr\": 0.931477058005633, \"n\": 5331}, {\"threshold\": 0.5860000252723694, \"p\": 28049, \"fpr\": 0.2219095854436316, \"tpr\": 0.9314057542158366, \"n\": 5331}, {\"threshold\": 0.5870000123977661, \"p\": 28049, \"fpr\": 0.22153442130932283, \"tpr\": 0.9313701023209383, \"n\": 5331}, {\"threshold\": 0.5879999995231628, \"p\": 28049, \"fpr\": 0.22134683924216844, \"tpr\": 0.9313344504260401, \"n\": 5331}, {\"threshold\": 0.5889999866485596, \"p\": 28049, \"fpr\": 0.2209716751078597, \"tpr\": 0.9312631466362438, \"n\": 5331}, {\"threshold\": 0.5899999737739563, \"p\": 28049, \"fpr\": 0.22059651097355093, \"tpr\": 0.9310848871617526, \"n\": 5331}, {\"threshold\": 0.5910000205039978, \"p\": 28049, \"fpr\": 0.22040892890639655, \"tpr\": 0.9310848871617526, \"n\": 5331}, {\"threshold\": 0.5920000076293945, \"p\": 28049, \"fpr\": 0.22022134683924216, \"tpr\": 0.9310492352668545, \"n\": 5331}, {\"threshold\": 0.5929999947547913, \"p\": 28049, \"fpr\": 0.21984618270493342, \"tpr\": 0.9309422795821598, \"n\": 5331}, {\"threshold\": 0.593999981880188, \"p\": 28049, \"fpr\": 0.21928343650347026, \"tpr\": 0.9308709757923633, \"n\": 5331}, {\"threshold\": 0.5950000286102295, \"p\": 28049, \"fpr\": 0.21853310823485275, \"tpr\": 0.9307283682127705, \"n\": 5331}, {\"threshold\": 0.5960000157356262, \"p\": 28049, \"fpr\": 0.2179703620333896, \"tpr\": 0.9306214125280758, \"n\": 5331}, {\"threshold\": 0.597000002861023, \"p\": 28049, \"fpr\": 0.21759519789908086, \"tpr\": 0.9305144568433812, \"n\": 5331}, {\"threshold\": 0.5979999899864197, \"p\": 28049, \"fpr\": 0.2170324516976177, \"tpr\": 0.9304431530535848, \"n\": 5331}, {\"threshold\": 0.5989999771118164, \"p\": 28049, \"fpr\": 0.21665728756330896, \"tpr\": 0.9303718492637884, \"n\": 5331}, {\"threshold\": 0.6000000238418579, \"p\": 28049, \"fpr\": 0.2162821234290002, \"tpr\": 0.930300545473992, \"n\": 5331}, {\"threshold\": 0.6010000109672546, \"p\": 28049, \"fpr\": 0.21590695929469142, \"tpr\": 0.930157937894399, \"n\": 5331}, {\"threshold\": 0.6019999980926514, \"p\": 28049, \"fpr\": 0.2151566310260739, \"tpr\": 0.9300509822097044, \"n\": 5331}, {\"threshold\": 0.6029999852180481, \"p\": 28049, \"fpr\": 0.2144063027574564, \"tpr\": 0.9300153303148062, \"n\": 5331}, {\"threshold\": 0.6039999723434448, \"p\": 28049, \"fpr\": 0.21384355655599324, \"tpr\": 0.929979678419908, \"n\": 5331}, {\"threshold\": 0.6050000190734863, \"p\": 28049, \"fpr\": 0.21328081035453011, \"tpr\": 0.9298014189454169, \"n\": 5331}, {\"threshold\": 0.6060000061988831, \"p\": 28049, \"fpr\": 0.21290564622022135, \"tpr\": 0.9296231594709259, \"n\": 5331}, {\"threshold\": 0.6069999933242798, \"p\": 28049, \"fpr\": 0.21290564622022135, \"tpr\": 0.9295162037862312, \"n\": 5331}, {\"threshold\": 0.6079999804496765, \"p\": 28049, \"fpr\": 0.21253048208591258, \"tpr\": 0.9294092481015366, \"n\": 5331}, {\"threshold\": 0.609000027179718, \"p\": 28049, \"fpr\": 0.21234290001875822, \"tpr\": 0.9292666405219437, \"n\": 5331}, {\"threshold\": 0.6100000143051147, \"p\": 28049, \"fpr\": 0.21234290001875822, \"tpr\": 0.9292666405219437, \"n\": 5331}, {\"threshold\": 0.6110000014305115, \"p\": 28049, \"fpr\": 0.21215531795160383, \"tpr\": 0.9291596848372491, \"n\": 5331}, {\"threshold\": 0.6119999885559082, \"p\": 28049, \"fpr\": 0.21196773588444945, \"tpr\": 0.9290527291525544, \"n\": 5331}, {\"threshold\": 0.6129999756813049, \"p\": 28049, \"fpr\": 0.21178015381729506, \"tpr\": 0.9289101215729616, \"n\": 5331}, {\"threshold\": 0.6140000224113464, \"p\": 28049, \"fpr\": 0.21159257175014068, \"tpr\": 0.928803165888267, \"n\": 5331}, {\"threshold\": 0.6150000095367432, \"p\": 28049, \"fpr\": 0.2114049896829863, \"tpr\": 0.9286605583086741, \"n\": 5331}, {\"threshold\": 0.6159999966621399, \"p\": 28049, \"fpr\": 0.21121740761583194, \"tpr\": 0.928482298834183, \"n\": 5331}, {\"threshold\": 0.6169999837875366, \"p\": 28049, \"fpr\": 0.21102982554867755, \"tpr\": 0.9283396912545901, \"n\": 5331}, {\"threshold\": 0.6179999709129333, \"p\": 28049, \"fpr\": 0.21102982554867755, \"tpr\": 0.928125779885201, \"n\": 5331}, {\"threshold\": 0.6190000176429749, \"p\": 28049, \"fpr\": 0.21084224348152317, \"tpr\": 0.9279118685158116, \"n\": 5331}, {\"threshold\": 0.6200000047683716, \"p\": 28049, \"fpr\": 0.21084224348152317, \"tpr\": 0.9278405647260152, \"n\": 5331}, {\"threshold\": 0.6209999918937683, \"p\": 28049, \"fpr\": 0.2104670793472144, \"tpr\": 0.9276266533566259, \"n\": 5331}, {\"threshold\": 0.621999979019165, \"p\": 28049, \"fpr\": 0.21009191521290566, \"tpr\": 0.9274483938821348, \"n\": 5331}, {\"threshold\": 0.6230000257492065, \"p\": 28049, \"fpr\": 0.20990433314575127, \"tpr\": 0.9273770900923384, \"n\": 5331}, {\"threshold\": 0.6240000128746033, \"p\": 28049, \"fpr\": 0.20934158694428812, \"tpr\": 0.9272701344076437, \"n\": 5331}, {\"threshold\": 0.625, \"p\": 28049, \"fpr\": 0.208778840742825, \"tpr\": 0.9271631787229492, \"n\": 5331}, {\"threshold\": 0.6259999871253967, \"p\": 28049, \"fpr\": 0.208778840742825, \"tpr\": 0.9270562230382545, \"n\": 5331}, {\"threshold\": 0.6269999742507935, \"p\": 28049, \"fpr\": 0.20840367660851622, \"tpr\": 0.9269492673535599, \"n\": 5331}, {\"threshold\": 0.628000020980835, \"p\": 28049, \"fpr\": 0.20802851247420748, \"tpr\": 0.9266997040892724, \"n\": 5331}, {\"threshold\": 0.6290000081062317, \"p\": 28049, \"fpr\": 0.20746576627274432, \"tpr\": 0.9264857927198831, \"n\": 5331}, {\"threshold\": 0.6299999952316284, \"p\": 28049, \"fpr\": 0.20727818420558994, \"tpr\": 0.9262718813504938, \"n\": 5331}, {\"threshold\": 0.6309999823570251, \"p\": 28049, \"fpr\": 0.20709060213843555, \"tpr\": 0.9259510142964098, \"n\": 5331}, {\"threshold\": 0.6320000290870667, \"p\": 28049, \"fpr\": 0.2069030200712812, \"tpr\": 0.9258797105066134, \"n\": 5331}, {\"threshold\": 0.6330000162124634, \"p\": 28049, \"fpr\": 0.20652785593697243, \"tpr\": 0.9257727548219188, \"n\": 5331}, {\"threshold\": 0.6340000033378601, \"p\": 28049, \"fpr\": 0.20634027386981804, \"tpr\": 0.9256657991372241, \"n\": 5331}, {\"threshold\": 0.6349999904632568, \"p\": 28049, \"fpr\": 0.20615269180266366, \"tpr\": 0.9254518877678348, \"n\": 5331}, {\"threshold\": 0.6359999775886536, \"p\": 28049, \"fpr\": 0.20596510973550927, \"tpr\": 0.9252736282933438, \"n\": 5331}, {\"threshold\": 0.6370000243186951, \"p\": 28049, \"fpr\": 0.20521478146689176, \"tpr\": 0.9252023245035473, \"n\": 5331}, {\"threshold\": 0.6380000114440918, \"p\": 28049, \"fpr\": 0.20502719939973738, \"tpr\": 0.925131020713751, \"n\": 5331}, {\"threshold\": 0.6389999985694885, \"p\": 28049, \"fpr\": 0.20483961733258302, \"tpr\": 0.9249171093443617, \"n\": 5331}, {\"threshold\": 0.6399999856948853, \"p\": 28049, \"fpr\": 0.20483961733258302, \"tpr\": 0.9248458055545652, \"n\": 5331}, {\"threshold\": 0.640999972820282, \"p\": 28049, \"fpr\": 0.20427687113111986, \"tpr\": 0.9247031979749724, \"n\": 5331}, {\"threshold\": 0.6420000195503235, \"p\": 28049, \"fpr\": 0.20371412492965674, \"tpr\": 0.9245605903953795, \"n\": 5331}, {\"threshold\": 0.6430000066757202, \"p\": 28049, \"fpr\": 0.20333896079534797, \"tpr\": 0.924489286605583, \"n\": 5331}, {\"threshold\": 0.6439999938011169, \"p\": 28049, \"fpr\": 0.2029637966610392, \"tpr\": 0.9244536347106849, \"n\": 5331}, {\"threshold\": 0.6449999809265137, \"p\": 28049, \"fpr\": 0.2029637966610392, \"tpr\": 0.9243466790259902, \"n\": 5331}, {\"threshold\": 0.6460000276565552, \"p\": 28049, \"fpr\": 0.20258863252673046, \"tpr\": 0.9242753752361939, \"n\": 5331}, {\"threshold\": 0.6470000147819519, \"p\": 28049, \"fpr\": 0.20258863252673046, \"tpr\": 0.9241684195514992, \"n\": 5331}, {\"threshold\": 0.6480000019073486, \"p\": 28049, \"fpr\": 0.20240105045957607, \"tpr\": 0.9241327676566009, \"n\": 5331}, {\"threshold\": 0.6489999890327454, \"p\": 28049, \"fpr\": 0.2020258863252673, \"tpr\": 0.9238475524974152, \"n\": 5331}, {\"threshold\": 0.6499999761581421, \"p\": 28049, \"fpr\": 0.20183830425811292, \"tpr\": 0.9235979892331277, \"n\": 5331}, {\"threshold\": 0.6510000228881836, \"p\": 28049, \"fpr\": 0.20071281185518663, \"tpr\": 0.9233840778637384, \"n\": 5331}, {\"threshold\": 0.6520000100135803, \"p\": 28049, \"fpr\": 0.20071281185518663, \"tpr\": 0.9231701664943491, \"n\": 5331}, {\"threshold\": 0.652999997138977, \"p\": 28049, \"fpr\": 0.2003376477208779, \"tpr\": 0.9230988627045528, \"n\": 5331}, {\"threshold\": 0.6539999842643738, \"p\": 28049, \"fpr\": 0.2001500656537235, \"tpr\": 0.9229919070198581, \"n\": 5331}, {\"threshold\": 0.6549999713897705, \"p\": 28049, \"fpr\": 0.199399737385106, \"tpr\": 0.9228492994402653, \"n\": 5331}, {\"threshold\": 0.656000018119812, \"p\": 28049, \"fpr\": 0.19902457325079723, \"tpr\": 0.9227066918606724, \"n\": 5331}, {\"threshold\": 0.6570000052452087, \"p\": 28049, \"fpr\": 0.19864940911648846, \"tpr\": 0.9225640842810795, \"n\": 5331}, {\"threshold\": 0.6579999923706055, \"p\": 28049, \"fpr\": 0.19808666291502533, \"tpr\": 0.9224571285963848, \"n\": 5331}, {\"threshold\": 0.6589999794960022, \"p\": 28049, \"fpr\": 0.19789908084787095, \"tpr\": 0.922314521016792, \"n\": 5331}, {\"threshold\": 0.6600000262260437, \"p\": 28049, \"fpr\": 0.19771149878071656, \"tpr\": 0.9222788691218938, \"n\": 5331}, {\"threshold\": 0.6610000133514404, \"p\": 28049, \"fpr\": 0.1973363346464078, \"tpr\": 0.9221006096474028, \"n\": 5331}, {\"threshold\": 0.6620000004768372, \"p\": 28049, \"fpr\": 0.1973363346464078, \"tpr\": 0.9219580020678099, \"n\": 5331}, {\"threshold\": 0.6629999876022339, \"p\": 28049, \"fpr\": 0.19696117051209905, \"tpr\": 0.921815394488217, \"n\": 5331}, {\"threshold\": 0.6639999747276306, \"p\": 28049, \"fpr\": 0.19696117051209905, \"tpr\": 0.9217440906984207, \"n\": 5331}, {\"threshold\": 0.6650000214576721, \"p\": 28049, \"fpr\": 0.19677358844494466, \"tpr\": 0.9215301793290314, \"n\": 5331}, {\"threshold\": 0.6660000085830688, \"p\": 28049, \"fpr\": 0.19602326017632715, \"tpr\": 0.9213875717494385, \"n\": 5331}, {\"threshold\": 0.6669999957084656, \"p\": 28049, \"fpr\": 0.19564809604201838, \"tpr\": 0.9212449641698456, \"n\": 5331}, {\"threshold\": 0.6679999828338623, \"p\": 28049, \"fpr\": 0.19508534984055526, \"tpr\": 0.9210310528004564, \"n\": 5331}, {\"threshold\": 0.6690000295639038, \"p\": 28049, \"fpr\": 0.19471018570624649, \"tpr\": 0.9209597490106599, \"n\": 5331}, {\"threshold\": 0.6700000166893005, \"p\": 28049, \"fpr\": 0.1945226036390921, \"tpr\": 0.9208171414310671, \"n\": 5331}, {\"threshold\": 0.6710000038146973, \"p\": 28049, \"fpr\": 0.19433502157193772, \"tpr\": 0.9207101857463724, \"n\": 5331}, {\"threshold\": 0.671999990940094, \"p\": 28049, \"fpr\": 0.19433502157193772, \"tpr\": 0.9206032300616778, \"n\": 5331}, {\"threshold\": 0.6729999780654907, \"p\": 28049, \"fpr\": 0.19433502157193772, \"tpr\": 0.9204962743769831, \"n\": 5331}, {\"threshold\": 0.6740000247955322, \"p\": 28049, \"fpr\": 0.19339711123616582, \"tpr\": 0.9202467111126956, \"n\": 5331}, {\"threshold\": 0.675000011920929, \"p\": 28049, \"fpr\": 0.18908272369161508, \"tpr\": 0.9151484901422511, \"n\": 5331}, {\"threshold\": 0.6759999990463257, \"p\": 28049, \"fpr\": 0.18851997749015195, \"tpr\": 0.9149345787728618, \"n\": 5331}, {\"threshold\": 0.6769999861717224, \"p\": 28049, \"fpr\": 0.1877696492215344, \"tpr\": 0.9146850155085743, \"n\": 5331}, {\"threshold\": 0.6779999732971191, \"p\": 28049, \"fpr\": 0.18739448508722567, \"tpr\": 0.9145780598238796, \"n\": 5331}, {\"threshold\": 0.6790000200271606, \"p\": 28049, \"fpr\": 0.18720690302007129, \"tpr\": 0.9144354522442868, \"n\": 5331}, {\"threshold\": 0.6800000071525574, \"p\": 28049, \"fpr\": 0.1870193209529169, \"tpr\": 0.9142215408748975, \"n\": 5331}, {\"threshold\": 0.6809999942779541, \"p\": 28049, \"fpr\": 0.18683173888576252, \"tpr\": 0.9141858889799993, \"n\": 5331}, {\"threshold\": 0.6819999814033508, \"p\": 28049, \"fpr\": 0.18645657475145377, \"tpr\": 0.9140432814004065, \"n\": 5331}, {\"threshold\": 0.6830000281333923, \"p\": 28049, \"fpr\": 0.1862689926842994, \"tpr\": 0.9139363257157118, \"n\": 5331}, {\"threshold\": 0.6840000152587891, \"p\": 28049, \"fpr\": 0.1851435002813731, \"tpr\": 0.913793718136119, \"n\": 5331}, {\"threshold\": 0.6850000023841858, \"p\": 28049, \"fpr\": 0.18495591821421872, \"tpr\": 0.9136867624514243, \"n\": 5331}, {\"threshold\": 0.6859999895095825, \"p\": 28049, \"fpr\": 0.18476833614706434, \"tpr\": 0.9135085029769332, \"n\": 5331}, {\"threshold\": 0.6869999766349792, \"p\": 28049, \"fpr\": 0.1842055899456012, \"tpr\": 0.9134371991871368, \"n\": 5331}, {\"threshold\": 0.6880000233650208, \"p\": 28049, \"fpr\": 0.18308009754267493, \"tpr\": 0.9132232878177475, \"n\": 5331}, {\"threshold\": 0.6890000104904175, \"p\": 28049, \"fpr\": 0.1823297692740574, \"tpr\": 0.9130093764483582, \"n\": 5331}, {\"threshold\": 0.6899999976158142, \"p\": 28049, \"fpr\": 0.1823297692740574, \"tpr\": 0.9128311169738672, \"n\": 5331}, {\"threshold\": 0.6909999847412109, \"p\": 28049, \"fpr\": 0.18157944100543988, \"tpr\": 0.9126885093942743, \"n\": 5331}, {\"threshold\": 0.6919999718666077, \"p\": 28049, \"fpr\": 0.18157944100543988, \"tpr\": 0.9125102499197832, \"n\": 5331}, {\"threshold\": 0.6930000185966492, \"p\": 28049, \"fpr\": 0.1813918589382855, \"tpr\": 0.9122606866554958, \"n\": 5331}, {\"threshold\": 0.6940000057220459, \"p\": 28049, \"fpr\": 0.18082911273682237, \"tpr\": 0.9120824271810046, \"n\": 5331}, {\"threshold\": 0.6949999928474426, \"p\": 28049, \"fpr\": 0.1802663665353592, \"tpr\": 0.9118685158116154, \"n\": 5331}, {\"threshold\": 0.6959999799728394, \"p\": 28049, \"fpr\": 0.17932845619958732, \"tpr\": 0.911797212021819, \"n\": 5331}, {\"threshold\": 0.6970000267028809, \"p\": 28049, \"fpr\": 0.17914087413243293, \"tpr\": 0.9115119968626333, \"n\": 5331}, {\"threshold\": 0.6980000138282776, \"p\": 28049, \"fpr\": 0.17914087413243293, \"tpr\": 0.9113693892830403, \"n\": 5331}, {\"threshold\": 0.6990000009536743, \"p\": 28049, \"fpr\": 0.1787657099981242, \"tpr\": 0.911298085493244, \"n\": 5331}, {\"threshold\": 0.699999988079071, \"p\": 28049, \"fpr\": 0.1787657099981242, \"tpr\": 0.9111911298085493, \"n\": 5331}, {\"threshold\": 0.7009999752044678, \"p\": 28049, \"fpr\": 0.1778277996623523, \"tpr\": 0.9111198260187529, \"n\": 5331}, {\"threshold\": 0.7020000219345093, \"p\": 28049, \"fpr\": 0.1778277996623523, \"tpr\": 0.9108702627544654, \"n\": 5331}, {\"threshold\": 0.703000009059906, \"p\": 28049, \"fpr\": 0.17745263552804352, \"tpr\": 0.9107276551748725, \"n\": 5331}, {\"threshold\": 0.7039999961853027, \"p\": 28049, \"fpr\": 0.17726505346088914, \"tpr\": 0.9106563513850762, \"n\": 5331}, {\"threshold\": 0.7049999833106995, \"p\": 28049, \"fpr\": 0.17632714312511724, \"tpr\": 0.9105493957003815, \"n\": 5331}, {\"threshold\": 0.7059999704360962, \"p\": 28049, \"fpr\": 0.17595197899080847, \"tpr\": 0.9102641805411957, \"n\": 5331}, {\"threshold\": 0.7070000171661377, \"p\": 28049, \"fpr\": 0.1748264865878822, \"tpr\": 0.9099789653820101, \"n\": 5331}, {\"threshold\": 0.7080000042915344, \"p\": 28049, \"fpr\": 0.1746389045207278, \"tpr\": 0.9098007059075189, \"n\": 5331}, {\"threshold\": 0.7089999914169312, \"p\": 28049, \"fpr\": 0.17426374038641906, \"tpr\": 0.9095154907483333, \"n\": 5331}, {\"threshold\": 0.7099999785423279, \"p\": 28049, \"fpr\": 0.17313824798349278, \"tpr\": 0.9092659274840458, \"n\": 5331}, {\"threshold\": 0.7110000252723694, \"p\": 28049, \"fpr\": 0.1729506659163384, \"tpr\": 0.9090876680095548, \"n\": 5331}, {\"threshold\": 0.7120000123977661, \"p\": 28049, \"fpr\": 0.1729506659163384, \"tpr\": 0.9088381047452672, \"n\": 5331}, {\"threshold\": 0.7129999995231628, \"p\": 28049, \"fpr\": 0.17257550178202963, \"tpr\": 0.9085172376911833, \"n\": 5331}, {\"threshold\": 0.7139999866485596, \"p\": 28049, \"fpr\": 0.17163759144625773, \"tpr\": 0.9083389782166922, \"n\": 5331}, {\"threshold\": 0.7149999737739563, \"p\": 28049, \"fpr\": 0.171262427311949, \"tpr\": 0.9081607187422012, \"n\": 5331}, {\"threshold\": 0.7160000205039978, \"p\": 28049, \"fpr\": 0.1710748452447946, \"tpr\": 0.9079468073728119, \"n\": 5331}, {\"threshold\": 0.7170000076293945, \"p\": 28049, \"fpr\": 0.17069968111048583, \"tpr\": 0.9076972441085244, \"n\": 5331}, {\"threshold\": 0.7179999947547913, \"p\": 28049, \"fpr\": 0.1701369349090227, \"tpr\": 0.9075546365289315, \"n\": 5331}, {\"threshold\": 0.718999981880188, \"p\": 28049, \"fpr\": 0.16976177077471394, \"tpr\": 0.9075189846340334, \"n\": 5331}, {\"threshold\": 0.7200000286102295, \"p\": 28049, \"fpr\": 0.16957418870755955, \"tpr\": 0.9074833327391351, \"n\": 5331}, {\"threshold\": 0.7210000157356262, \"p\": 28049, \"fpr\": 0.16919902457325078, \"tpr\": 0.9072694213697458, \"n\": 5331}, {\"threshold\": 0.722000002861023, \"p\": 28049, \"fpr\": 0.1682611142374789, \"tpr\": 0.9069485543156619, \"n\": 5331}, {\"threshold\": 0.7229999899864197, \"p\": 28049, \"fpr\": 0.16807353217032453, \"tpr\": 0.9067702948411708, \"n\": 5331}, {\"threshold\": 0.7239999771118164, \"p\": 28049, \"fpr\": 0.16807353217032453, \"tpr\": 0.9066276872615779, \"n\": 5331}, {\"threshold\": 0.7250000238418579, \"p\": 28049, \"fpr\": 0.16769836803601576, \"tpr\": 0.9064850796819851, \"n\": 5331}, {\"threshold\": 0.7260000109672546, \"p\": 28049, \"fpr\": 0.167323203901707, \"tpr\": 0.9061642126279011, \"n\": 5331}, {\"threshold\": 0.7269999980926514, \"p\": 28049, \"fpr\": 0.1671356218345526, \"tpr\": 0.9059503012585118, \"n\": 5331}, {\"threshold\": 0.7279999852180481, \"p\": 28049, \"fpr\": 0.16694803976739825, \"tpr\": 0.9058789974687155, \"n\": 5331}, {\"threshold\": 0.7289999723434448, \"p\": 28049, \"fpr\": 0.16676045770024386, \"tpr\": 0.9057363898891226, \"n\": 5331}, {\"threshold\": 0.7300000190734863, \"p\": 28049, \"fpr\": 0.1663852935659351, \"tpr\": 0.9055581304146315, \"n\": 5331}, {\"threshold\": 0.7310000061988831, \"p\": 28049, \"fpr\": 0.16582254736447197, \"tpr\": 0.9052729152554458, \"n\": 5331}, {\"threshold\": 0.7319999933242798, \"p\": 28049, \"fpr\": 0.16507221909585443, \"tpr\": 0.905130307675853, \"n\": 5331}, {\"threshold\": 0.7329999804496765, \"p\": 28049, \"fpr\": 0.16488463702870004, \"tpr\": 0.9047737887268709, \"n\": 5331}, {\"threshold\": 0.734000027179718, \"p\": 28049, \"fpr\": 0.16469705496154569, \"tpr\": 0.9045955292523797, \"n\": 5331}, {\"threshold\": 0.7350000143051147, \"p\": 28049, \"fpr\": 0.1645094728943913, \"tpr\": 0.9044529216727869, \"n\": 5331}, {\"threshold\": 0.7360000014305115, \"p\": 28049, \"fpr\": 0.16432189082723692, \"tpr\": 0.9042033584084994, \"n\": 5331}, {\"threshold\": 0.7369999885559082, \"p\": 28049, \"fpr\": 0.16432189082723692, \"tpr\": 0.9040607508289066, \"n\": 5331}, {\"threshold\": 0.7379999756813049, \"p\": 28049, \"fpr\": 0.1637591446257738, \"tpr\": 0.9038468394595173, \"n\": 5331}, {\"threshold\": 0.7390000224113464, \"p\": 28049, \"fpr\": 0.16319639842431063, \"tpr\": 0.9035616243003316, \"n\": 5331}, {\"threshold\": 0.7400000095367432, \"p\": 28049, \"fpr\": 0.16282123429000186, \"tpr\": 0.903454668615637, \"n\": 5331}, {\"threshold\": 0.7409999966621399, \"p\": 28049, \"fpr\": 0.16207090602138435, \"tpr\": 0.9033120610360441, \"n\": 5331}, {\"threshold\": 0.7419999837875366, \"p\": 28049, \"fpr\": 0.16188332395422997, \"tpr\": 0.9030981496666548, \"n\": 5331}, {\"threshold\": 0.7429999709129333, \"p\": 28049, \"fpr\": 0.16132057775276684, \"tpr\": 0.902955542087062, \"n\": 5331}, {\"threshold\": 0.7440000176429749, \"p\": 28049, \"fpr\": 0.1607578315513037, \"tpr\": 0.9027059788227745, \"n\": 5331}, {\"threshold\": 0.7450000047683716, \"p\": 28049, \"fpr\": 0.1605702494841493, \"tpr\": 0.9025277193482834, \"n\": 5331}, {\"threshold\": 0.7459999918937683, \"p\": 28049, \"fpr\": 0.16038266741699495, \"tpr\": 0.9022068522941994, \"n\": 5331}, {\"threshold\": 0.746999979019165, \"p\": 28049, \"fpr\": 0.16000750328268618, \"tpr\": 0.9020998966095048, \"n\": 5331}, {\"threshold\": 0.7480000257492065, \"p\": 28049, \"fpr\": 0.1598199212155318, \"tpr\": 0.9017077257656244, \"n\": 5331}, {\"threshold\": 0.7490000128746033, \"p\": 28049, \"fpr\": 0.1596323391483774, \"tpr\": 0.9013868587115406, \"n\": 5331}, {\"threshold\": 0.75, \"p\": 28049, \"fpr\": 0.15925717501406866, \"tpr\": 0.9011729473421513, \"n\": 5331}, {\"threshold\": 0.7509999871253967, \"p\": 28049, \"fpr\": 0.157944100543988, \"tpr\": 0.9010303397625584, \"n\": 5331}, {\"threshold\": 0.7519999742507935, \"p\": 28049, \"fpr\": 0.1577565184768336, \"tpr\": 0.9008164283931691, \"n\": 5331}, {\"threshold\": 0.753000020980835, \"p\": 28049, \"fpr\": 0.15663102607390733, \"tpr\": 0.9004955613390851, \"n\": 5331}, {\"threshold\": 0.7540000081062317, \"p\": 28049, \"fpr\": 0.15644344400675295, \"tpr\": 0.9004242575492888, \"n\": 5331}, {\"threshold\": 0.7549999952316284, \"p\": 28049, \"fpr\": 0.15644344400675295, \"tpr\": 0.9002459980747977, \"n\": 5331}, {\"threshold\": 0.7559999823570251, \"p\": 28049, \"fpr\": 0.1560682798724442, \"tpr\": 0.9000320867054084, \"n\": 5331}, {\"threshold\": 0.7570000290870667, \"p\": 28049, \"fpr\": 0.15588069780528982, \"tpr\": 0.8996755677564262, \"n\": 5331}, {\"threshold\": 0.7580000162124634, \"p\": 28049, \"fpr\": 0.1551303695366723, \"tpr\": 0.8994260044921387, \"n\": 5331}, {\"threshold\": 0.7590000033378601, \"p\": 28049, \"fpr\": 0.15456762333520915, \"tpr\": 0.8989625298584619, \"n\": 5331}, {\"threshold\": 0.7599999904632568, \"p\": 28049, \"fpr\": 0.15438004126805477, \"tpr\": 0.8987129665941744, \"n\": 5331}, {\"threshold\": 0.7609999775886536, \"p\": 28049, \"fpr\": 0.15400487713374603, \"tpr\": 0.8984277514349888, \"n\": 5331}, {\"threshold\": 0.7620000243186951, \"p\": 28049, \"fpr\": 0.15362971299943726, \"tpr\": 0.8980712324860066, \"n\": 5331}, {\"threshold\": 0.7630000114440918, \"p\": 28049, \"fpr\": 0.1530669667979741, \"tpr\": 0.8979286249064138, \"n\": 5331}, {\"threshold\": 0.7639999985694885, \"p\": 28049, \"fpr\": 0.15269180266366536, \"tpr\": 0.8975364540625335, \"n\": 5331}, {\"threshold\": 0.7649999856948853, \"p\": 28049, \"fpr\": 0.1523166385293566, \"tpr\": 0.8972512389033477, \"n\": 5331}, {\"threshold\": 0.765999972820282, \"p\": 28049, \"fpr\": 0.15175389232789346, \"tpr\": 0.8971086313237548, \"n\": 5331}, {\"threshold\": 0.7670000195503235, \"p\": 28049, \"fpr\": 0.15156631026073908, \"tpr\": 0.8967877642696709, \"n\": 5331}, {\"threshold\": 0.7680000066757202, \"p\": 28049, \"fpr\": 0.1513787281935847, \"tpr\": 0.896645156690078, \"n\": 5331}, {\"threshold\": 0.7689999938011169, \"p\": 28049, \"fpr\": 0.15100356405927592, \"tpr\": 0.8963242896359942, \"n\": 5331}, {\"threshold\": 0.7699999809265137, \"p\": 28049, \"fpr\": 0.15100356405927592, \"tpr\": 0.8961460301615031, \"n\": 5331}, {\"threshold\": 0.7710000276565552, \"p\": 28049, \"fpr\": 0.15062839992496718, \"tpr\": 0.8957895112125209, \"n\": 5331}, {\"threshold\": 0.7720000147819519, \"p\": 28049, \"fpr\": 0.1504408178578128, \"tpr\": 0.8955042960533353, \"n\": 5331}, {\"threshold\": 0.7730000019073486, \"p\": 28049, \"fpr\": 0.14987807165634964, \"tpr\": 0.8952190808941495, \"n\": 5331}, {\"threshold\": 0.7739999890327454, \"p\": 28049, \"fpr\": 0.14931532545488652, \"tpr\": 0.8950051695247603, \"n\": 5331}, {\"threshold\": 0.7749999761581421, \"p\": 28049, \"fpr\": 0.14894016132057775, \"tpr\": 0.8948625619451673, \"n\": 5331}, {\"threshold\": 0.7760000228881836, \"p\": 28049, \"fpr\": 0.14837741511911462, \"tpr\": 0.8948269100502692, \"n\": 5331}, {\"threshold\": 0.7770000100135803, \"p\": 28049, \"fpr\": 0.14762708685049708, \"tpr\": 0.8945773467859817, \"n\": 5331}, {\"threshold\": 0.777999997138977, \"p\": 28049, \"fpr\": 0.14743950478334272, \"tpr\": 0.8943277835216942, \"n\": 5331}, {\"threshold\": 0.7789999842643738, \"p\": 28049, \"fpr\": 0.14687675858187957, \"tpr\": 0.8939356126778139, \"n\": 5331}, {\"threshold\": 0.7799999713897705, \"p\": 28049, \"fpr\": 0.14687675858187957, \"tpr\": 0.8936503975186281, \"n\": 5331}, {\"threshold\": 0.781000018119812, \"p\": 28049, \"fpr\": 0.14668917651472518, \"tpr\": 0.8935434418339335, \"n\": 5331}, {\"threshold\": 0.7820000052452087, \"p\": 28049, \"fpr\": 0.14612643031326206, \"tpr\": 0.8931869228849514, \"n\": 5331}, {\"threshold\": 0.7829999923706055, \"p\": 28049, \"fpr\": 0.14612643031326206, \"tpr\": 0.8929730115155621, \"n\": 5331}, {\"threshold\": 0.7839999794960022, \"p\": 28049, \"fpr\": 0.14612643031326206, \"tpr\": 0.8926877963563763, \"n\": 5331}, {\"threshold\": 0.7850000262260437, \"p\": 28049, \"fpr\": 0.1457512661789533, \"tpr\": 0.8924382330920888, \"n\": 5331}, {\"threshold\": 0.7860000133514404, \"p\": 28049, \"fpr\": 0.1457512661789533, \"tpr\": 0.8921886698278013, \"n\": 5331}, {\"threshold\": 0.7870000004768372, \"p\": 28049, \"fpr\": 0.14500093791033578, \"tpr\": 0.8918678027737175, \"n\": 5331}, {\"threshold\": 0.7879999876022339, \"p\": 28049, \"fpr\": 0.144625773776027, \"tpr\": 0.8916895432992263, \"n\": 5331}, {\"threshold\": 0.7889999747276306, \"p\": 28049, \"fpr\": 0.1436878634402551, \"tpr\": 0.8914399800349389, \"n\": 5331}, {\"threshold\": 0.7900000214576721, \"p\": 28049, \"fpr\": 0.1436878634402551, \"tpr\": 0.8911904167706514, \"n\": 5331}, {\"threshold\": 0.7910000085830688, \"p\": 28049, \"fpr\": 0.14350028137310072, \"tpr\": 0.8909408535063639, \"n\": 5331}, {\"threshold\": 0.7919999957084656, \"p\": 28049, \"fpr\": 0.1429375351716376, \"tpr\": 0.8906556383471782, \"n\": 5331}, {\"threshold\": 0.7929999828338623, \"p\": 28049, \"fpr\": 0.14256237103732883, \"tpr\": 0.8904417269777889, \"n\": 5331}, {\"threshold\": 0.7940000295639038, \"p\": 28049, \"fpr\": 0.1419996248358657, \"tpr\": 0.8901565118186031, \"n\": 5331}, {\"threshold\": 0.7950000166893005, \"p\": 28049, \"fpr\": 0.14162446070155693, \"tpr\": 0.8899069485543156, \"n\": 5331}, {\"threshold\": 0.7960000038146973, \"p\": 28049, \"fpr\": 0.14087413243293942, \"tpr\": 0.8895860815002318, \"n\": 5331}, {\"threshold\": 0.796999990940094, \"p\": 28049, \"fpr\": 0.14031138623147626, \"tpr\": 0.8893721701308425, \"n\": 5331}, {\"threshold\": 0.7979999780654907, \"p\": 28049, \"fpr\": 0.13993622209716752, \"tpr\": 0.889122606866555, \"n\": 5331}, {\"threshold\": 0.7990000247955322, \"p\": 28049, \"fpr\": 0.13937347589570437, \"tpr\": 0.8888730436022675, \"n\": 5331}, {\"threshold\": 0.800000011920929, \"p\": 28049, \"fpr\": 0.13918589382854998, \"tpr\": 0.888801739812471, \"n\": 5331}, {\"threshold\": 0.8009999990463257, \"p\": 28049, \"fpr\": 0.13881072969424124, \"tpr\": 0.8884808727583872, \"n\": 5331}, {\"threshold\": 0.8019999861717224, \"p\": 28049, \"fpr\": 0.1382479834927781, \"tpr\": 0.888124353809405, \"n\": 5331}, {\"threshold\": 0.8029999732971191, \"p\": 28049, \"fpr\": 0.13787281935846932, \"tpr\": 0.8877678348604229, \"n\": 5331}, {\"threshold\": 0.8040000200271606, \"p\": 28049, \"fpr\": 0.13787281935846932, \"tpr\": 0.8873400121216443, \"n\": 5331}, {\"threshold\": 0.8050000071525574, \"p\": 28049, \"fpr\": 0.1371224910898518, \"tpr\": 0.8869834931726621, \"n\": 5331}, {\"threshold\": 0.8059999942779541, \"p\": 28049, \"fpr\": 0.1371224910898518, \"tpr\": 0.8868052336981711, \"n\": 5331}, {\"threshold\": 0.8069999814033508, \"p\": 28049, \"fpr\": 0.13693490902269742, \"tpr\": 0.8865913223287818, \"n\": 5331}, {\"threshold\": 0.8080000281333923, \"p\": 28049, \"fpr\": 0.1363721628212343, \"tpr\": 0.886448714749189, \"n\": 5331}, {\"threshold\": 0.8090000152587891, \"p\": 28049, \"fpr\": 0.13580941661977114, \"tpr\": 0.8859139363257157, \"n\": 5331}, {\"threshold\": 0.8100000023841858, \"p\": 28049, \"fpr\": 0.13562183455261678, \"tpr\": 0.8855930692716318, \"n\": 5331}, {\"threshold\": 0.8109999895095825, \"p\": 28049, \"fpr\": 0.1354342524854624, \"tpr\": 0.8852722022175479, \"n\": 5331}, {\"threshold\": 0.8119999766349792, \"p\": 28049, \"fpr\": 0.13505908835115363, \"tpr\": 0.885129594637955, \"n\": 5331}, {\"threshold\": 0.8130000233650208, \"p\": 28049, \"fpr\": 0.13487150628399924, \"tpr\": 0.8849156832685657, \"n\": 5331}, {\"threshold\": 0.8140000104904175, \"p\": 28049, \"fpr\": 0.13487150628399924, \"tpr\": 0.8845591643195836, \"n\": 5331}, {\"threshold\": 0.8149999976158142, \"p\": 28049, \"fpr\": 0.13430876008253612, \"tpr\": 0.8842026453706014, \"n\": 5331}, {\"threshold\": 0.8159999847412109, \"p\": 28049, \"fpr\": 0.13412117801538173, \"tpr\": 0.8840956896859068, \"n\": 5331}, {\"threshold\": 0.8169999718666077, \"p\": 28049, \"fpr\": 0.13318326767960983, \"tpr\": 0.8837748226318228, \"n\": 5331}, {\"threshold\": 0.8180000185966492, \"p\": 28049, \"fpr\": 0.13318326767960983, \"tpr\": 0.8835252593675353, \"n\": 5331}, {\"threshold\": 0.8190000057220459, \"p\": 28049, \"fpr\": 0.13299568561245545, \"tpr\": 0.8832400442083497, \"n\": 5331}, {\"threshold\": 0.8199999928474426, \"p\": 28049, \"fpr\": 0.13299568561245545, \"tpr\": 0.8825983101001819, \"n\": 5331}, {\"threshold\": 0.8209999799728394, \"p\": 28049, \"fpr\": 0.13224535734383794, \"tpr\": 0.8822417911511997, \"n\": 5331}, {\"threshold\": 0.8220000267028809, \"p\": 28049, \"fpr\": 0.13224535734383794, \"tpr\": 0.8818139684124211, \"n\": 5331}, {\"threshold\": 0.8230000138282776, \"p\": 28049, \"fpr\": 0.13205777527668355, \"tpr\": 0.8814217975685408, \"n\": 5331}, {\"threshold\": 0.8240000009536743, \"p\": 28049, \"fpr\": 0.13168261114237478, \"tpr\": 0.8810652786195586, \"n\": 5331}, {\"threshold\": 0.824999988079071, \"p\": 28049, \"fpr\": 0.1307447008066029, \"tpr\": 0.8806731077756783, \"n\": 5331}, {\"threshold\": 0.8259999752044678, \"p\": 28049, \"fpr\": 0.13018195460513976, \"tpr\": 0.8801739812471033, \"n\": 5331}, {\"threshold\": 0.8270000219345093, \"p\": 28049, \"fpr\": 0.129806790470831, \"tpr\": 0.8797818104032229, \"n\": 5331}, {\"threshold\": 0.828000009059906, \"p\": 28049, \"fpr\": 0.12924404426936784, \"tpr\": 0.8795322471389354, \"n\": 5331}, {\"threshold\": 0.8289999961853027, \"p\": 28049, \"fpr\": 0.1288688801350591, \"tpr\": 0.8793539876644444, \"n\": 5331}, {\"threshold\": 0.8299999833106995, \"p\": 28049, \"fpr\": 0.1286812980679047, \"tpr\": 0.8789974687154622, \"n\": 5331}, {\"threshold\": 0.8309999704360962, \"p\": 28049, \"fpr\": 0.12736822359782404, \"tpr\": 0.8788192092409711, \"n\": 5331}, {\"threshold\": 0.8320000171661377, \"p\": 28049, \"fpr\": 0.1269930594635153, \"tpr\": 0.8783557346072943, \"n\": 5331}, {\"threshold\": 0.8330000042915344, \"p\": 28049, \"fpr\": 0.12624273119489776, \"tpr\": 0.877963563763414, \"n\": 5331}, {\"threshold\": 0.8339999914169312, \"p\": 28049, \"fpr\": 0.12586756706058902, \"tpr\": 0.8775000891297372, \"n\": 5331}, {\"threshold\": 0.8349999785423279, \"p\": 28049, \"fpr\": 0.12511723879197148, \"tpr\": 0.8771792220756534, \"n\": 5331}, {\"threshold\": 0.8360000252723694, \"p\": 28049, \"fpr\": 0.12436691052335397, \"tpr\": 0.8766800955470784, \"n\": 5331}, {\"threshold\": 0.8370000123977661, \"p\": 28049, \"fpr\": 0.12399174638904521, \"tpr\": 0.8764305322827908, \"n\": 5331}, {\"threshold\": 0.8379999995231628, \"p\": 28049, \"fpr\": 0.12361658225473644, \"tpr\": 0.8762522728082998, \"n\": 5331}, {\"threshold\": 0.8389999866485596, \"p\": 28049, \"fpr\": 0.12361658225473644, \"tpr\": 0.8757174943848266, \"n\": 5331}, {\"threshold\": 0.8399999737739563, \"p\": 28049, \"fpr\": 0.12286625398611893, \"tpr\": 0.875111412171557, \"n\": 5331}, {\"threshold\": 0.8410000205039978, \"p\": 28049, \"fpr\": 0.12249108985181016, \"tpr\": 0.8748975008021677, \"n\": 5331}, {\"threshold\": 0.8420000076293945, \"p\": 28049, \"fpr\": 0.12192834365034702, \"tpr\": 0.8742557666939997, \"n\": 5331}, {\"threshold\": 0.8429999947547913, \"p\": 28049, \"fpr\": 0.12174076158319265, \"tpr\": 0.8737566401654248, \"n\": 5331}, {\"threshold\": 0.843999981880188, \"p\": 28049, \"fpr\": 0.12080285124742075, \"tpr\": 0.8730436022674605, \"n\": 5331}, {\"threshold\": 0.8450000286102295, \"p\": 28049, \"fpr\": 0.12005252297880323, \"tpr\": 0.872794039003173, \"n\": 5331}, {\"threshold\": 0.8460000157356262, \"p\": 28049, \"fpr\": 0.11986494091164884, \"tpr\": 0.8725088238439873, \"n\": 5331}, {\"threshold\": 0.847000002861023, \"p\": 28049, \"fpr\": 0.11967735884449447, \"tpr\": 0.8721879567899034, \"n\": 5331}, {\"threshold\": 0.8479999899864197, \"p\": 28049, \"fpr\": 0.11873944850872256, \"tpr\": 0.8719383935256159, \"n\": 5331}, {\"threshold\": 0.8489999771118164, \"p\": 28049, \"fpr\": 0.11855186644156819, \"tpr\": 0.8715105707868374, \"n\": 5331}, {\"threshold\": 0.8500000238418579, \"p\": 28049, \"fpr\": 0.1183642843744138, \"tpr\": 0.8711540518378552, \"n\": 5331}, {\"threshold\": 0.8510000109672546, \"p\": 28049, \"fpr\": 0.11817670230725942, \"tpr\": 0.8707618809939748, \"n\": 5331}, {\"threshold\": 0.8519999980926514, \"p\": 28049, \"fpr\": 0.11798912024010505, \"tpr\": 0.8702984063602981, \"n\": 5331}, {\"threshold\": 0.8529999852180481, \"p\": 28049, \"fpr\": 0.11723879197148752, \"tpr\": 0.8698705836215195, \"n\": 5331}, {\"threshold\": 0.8539999723434448, \"p\": 28049, \"fpr\": 0.11686362783717877, \"tpr\": 0.8694784127776392, \"n\": 5331}, {\"threshold\": 0.8550000190734863, \"p\": 28049, \"fpr\": 0.11630088163571563, \"tpr\": 0.8687653748796749, \"n\": 5331}, {\"threshold\": 0.8560000061988831, \"p\": 28049, \"fpr\": 0.11611329956856124, \"tpr\": 0.8681949445613034, \"n\": 5331}, {\"threshold\": 0.8569999933242798, \"p\": 28049, \"fpr\": 0.11592571750140687, \"tpr\": 0.8679453812970159, \"n\": 5331}, {\"threshold\": 0.8579999804496765, \"p\": 28049, \"fpr\": 0.11517538923278935, \"tpr\": 0.8675888623480338, \"n\": 5331}, {\"threshold\": 0.859000027179718, \"p\": 28049, \"fpr\": 0.11517538923278935, \"tpr\": 0.8670184320296623, \"n\": 5331}, {\"threshold\": 0.8600000143051147, \"p\": 28049, \"fpr\": 0.11498780716563496, \"tpr\": 0.8665549573959856, \"n\": 5331}, {\"threshold\": 0.8610000014305115, \"p\": 28049, \"fpr\": 0.11442506096417182, \"tpr\": 0.866305394131698, \"n\": 5331}, {\"threshold\": 0.8619999885559082, \"p\": 28049, \"fpr\": 0.11423747889701745, \"tpr\": 0.8659132232878177, \"n\": 5331}, {\"threshold\": 0.8629999756813049, \"p\": 28049, \"fpr\": 0.11404989682986306, \"tpr\": 0.8655210524439374, \"n\": 5331}, {\"threshold\": 0.8640000224113464, \"p\": 28049, \"fpr\": 0.11329956856124554, \"tpr\": 0.8652001853898534, \"n\": 5331}, {\"threshold\": 0.8650000095367432, \"p\": 28049, \"fpr\": 0.11217407615831926, \"tpr\": 0.8646654069663803, \"n\": 5331}, {\"threshold\": 0.8659999966621399, \"p\": 28049, \"fpr\": 0.11161132995685613, \"tpr\": 0.863952369068416, \"n\": 5331}, {\"threshold\": 0.8669999837875366, \"p\": 28049, \"fpr\": 0.11104858375539299, \"tpr\": 0.8635958501194338, \"n\": 5331}, {\"threshold\": 0.8679999709129333, \"p\": 28049, \"fpr\": 0.1108610016882386, \"tpr\": 0.8630610716959607, \"n\": 5331}, {\"threshold\": 0.8690000176429749, \"p\": 28049, \"fpr\": 0.11048583755392985, \"tpr\": 0.8627758565367749, \"n\": 5331}, {\"threshold\": 0.8700000047683716, \"p\": 28049, \"fpr\": 0.10954792721815794, \"tpr\": 0.8622767300081999, \"n\": 5331}, {\"threshold\": 0.8709999918937683, \"p\": 28049, \"fpr\": 0.10917276308384918, \"tpr\": 0.8620271667439124, \"n\": 5331}, {\"threshold\": 0.871999979019165, \"p\": 28049, \"fpr\": 0.10823485274807729, \"tpr\": 0.8615993440051338, \"n\": 5331}, {\"threshold\": 0.8730000257492065, \"p\": 28049, \"fpr\": 0.10767210654661415, \"tpr\": 0.860957609896966, \"n\": 5331}, {\"threshold\": 0.8740000128746033, \"p\": 28049, \"fpr\": 0.10729694241230539, \"tpr\": 0.860636742842882, \"n\": 5331}, {\"threshold\": 0.875, \"p\": 28049, \"fpr\": 0.10673419621084225, \"tpr\": 0.8600663125245107, \"n\": 5331}, {\"threshold\": 0.8759999871253967, \"p\": 28049, \"fpr\": 0.10598386794222472, \"tpr\": 0.8597454454704268, \"n\": 5331}, {\"threshold\": 0.8769999742507935, \"p\": 28049, \"fpr\": 0.1052335396736072, \"tpr\": 0.8591393632571571, \"n\": 5331}, {\"threshold\": 0.878000020980835, \"p\": 28049, \"fpr\": 0.1042956293378353, \"tpr\": 0.8586402367285821, \"n\": 5331}, {\"threshold\": 0.8790000081062317, \"p\": 28049, \"fpr\": 0.10392046520352655, \"tpr\": 0.8581411102000072, \"n\": 5331}, {\"threshold\": 0.8799999952316284, \"p\": 28049, \"fpr\": 0.10373288313637216, \"tpr\": 0.8573567685122464, \"n\": 5331}, {\"threshold\": 0.8809999823570251, \"p\": 28049, \"fpr\": 0.1033577190020634, \"tpr\": 0.8566080787193839, \"n\": 5331}, {\"threshold\": 0.8820000290870667, \"p\": 28049, \"fpr\": 0.10279497280060026, \"tpr\": 0.8560376484010125, \"n\": 5331}, {\"threshold\": 0.8830000162124634, \"p\": 28049, \"fpr\": 0.10241980866629151, \"tpr\": 0.8554315661877429, \"n\": 5331}, {\"threshold\": 0.8840000033378601, \"p\": 28049, \"fpr\": 0.1014818983305196, \"tpr\": 0.8546828763948804, \"n\": 5331}, {\"threshold\": 0.8849999904632568, \"p\": 28049, \"fpr\": 0.10110673419621084, \"tpr\": 0.8537915790224251, \"n\": 5331}, {\"threshold\": 0.8859999775886536, \"p\": 28049, \"fpr\": 0.10091915212905646, \"tpr\": 0.8533994081785446, \"n\": 5331}, {\"threshold\": 0.8870000243186951, \"p\": 28049, \"fpr\": 0.1005439879947477, \"tpr\": 0.8526507183856822, \"n\": 5331}, {\"threshold\": 0.8880000114440918, \"p\": 28049, \"fpr\": 0.10016882386043895, \"tpr\": 0.8519733323826162, \"n\": 5331}, {\"threshold\": 0.8889999985694885, \"p\": 28049, \"fpr\": 0.09979365972613018, \"tpr\": 0.8515455096438376, \"n\": 5331}, {\"threshold\": 0.8899999856948853, \"p\": 28049, \"fpr\": 0.09829300318889514, \"tpr\": 0.8509394274305679, \"n\": 5331}, {\"threshold\": 0.890999972820282, \"p\": 28049, \"fpr\": 0.09791783905458638, \"tpr\": 0.8500124781632143, \"n\": 5331}, {\"threshold\": 0.8920000195503235, \"p\": 28049, \"fpr\": 0.09716751078596886, \"tpr\": 0.8493707440550465, \"n\": 5331}, {\"threshold\": 0.8930000066757202, \"p\": 28049, \"fpr\": 0.0967923466516601, \"tpr\": 0.8486577061570822, \"n\": 5331}, {\"threshold\": 0.8939999938011169, \"p\": 28049, \"fpr\": 0.0958544363158882, \"tpr\": 0.847766408784627, \"n\": 5331}, {\"threshold\": 0.8949999809265137, \"p\": 28049, \"fpr\": 0.09547927218157944, \"tpr\": 0.8470890227815608, \"n\": 5331}, {\"threshold\": 0.8960000276565552, \"p\": 28049, \"fpr\": 0.09547927218157944, \"tpr\": 0.8462690291989019, \"n\": 5331}, {\"threshold\": 0.8970000147819519, \"p\": 28049, \"fpr\": 0.09529169011442506, \"tpr\": 0.8455559913009376, \"n\": 5331}, {\"threshold\": 0.8980000019073486, \"p\": 28049, \"fpr\": 0.0949165259801163, \"tpr\": 0.844949909087668, \"n\": 5331}, {\"threshold\": 0.8989999890327454, \"p\": 28049, \"fpr\": 0.09435377977865315, \"tpr\": 0.8441655673999073, \"n\": 5331}, {\"threshold\": 0.8999999761581421, \"p\": 28049, \"fpr\": 0.0939786156443444, \"tpr\": 0.8435238332917394, \"n\": 5331}, {\"threshold\": 0.9010000228881836, \"p\": 28049, \"fpr\": 0.0930407053085725, \"tpr\": 0.8428464472886734, \"n\": 5331}, {\"threshold\": 0.9020000100135803, \"p\": 28049, \"fpr\": 0.09285312324141812, \"tpr\": 0.8421690612856073, \"n\": 5331}, {\"threshold\": 0.902999997138977, \"p\": 28049, \"fpr\": 0.09229037703995498, \"tpr\": 0.8418481942315234, \"n\": 5331}, {\"threshold\": 0.9039999842643738, \"p\": 28049, \"fpr\": 0.0921027949728006, \"tpr\": 0.8410282006488645, \"n\": 5331}, {\"threshold\": 0.9049999713897705, \"p\": 28049, \"fpr\": 0.0911648846370287, \"tpr\": 0.8404577703304931, \"n\": 5331}, {\"threshold\": 0.906000018119812, \"p\": 28049, \"fpr\": 0.09003939223410241, \"tpr\": 0.8395664729580378, \"n\": 5331}, {\"threshold\": 0.9070000052452087, \"p\": 28049, \"fpr\": 0.0892890639654849, \"tpr\": 0.8387464793753788, \"n\": 5331}, {\"threshold\": 0.9079999923706055, \"p\": 28049, \"fpr\": 0.088351153629713, \"tpr\": 0.8377125744233306, \"n\": 5331}, {\"threshold\": 0.9089999794960022, \"p\": 28049, \"fpr\": 0.08816357156255862, \"tpr\": 0.8366786694712824, \"n\": 5331}, {\"threshold\": 0.9100000262260437, \"p\": 28049, \"fpr\": 0.08797598949540424, \"tpr\": 0.8358230239937252, \"n\": 5331}, {\"threshold\": 0.9110000133514404, \"p\": 28049, \"fpr\": 0.08722566122678672, \"tpr\": 0.8348604228314735, \"n\": 5331}, {\"threshold\": 0.9120000004768372, \"p\": 28049, \"fpr\": 0.08703807915963234, \"tpr\": 0.8341830368284074, \"n\": 5331}, {\"threshold\": 0.9129999876022339, \"p\": 28049, \"fpr\": 0.08666291502532358, \"tpr\": 0.833434347035545, \"n\": 5331}, {\"threshold\": 0.9139999747276306, \"p\": 28049, \"fpr\": 0.08666291502532358, \"tpr\": 0.8327569610324789, \"n\": 5331}, {\"threshold\": 0.9150000214576721, \"p\": 28049, \"fpr\": 0.08628775089101481, \"tpr\": 0.8316517522906343, \"n\": 5331}, {\"threshold\": 0.9160000085830688, \"p\": 28049, \"fpr\": 0.08572500468955167, \"tpr\": 0.8307604549181788, \"n\": 5331}, {\"threshold\": 0.9169999957084656, \"p\": 28049, \"fpr\": 0.08497467642093416, \"tpr\": 0.8293700310171486, \"n\": 5331}, {\"threshold\": 0.9179999828338623, \"p\": 28049, \"fpr\": 0.08497467642093416, \"tpr\": 0.8280865628008128, \"n\": 5331}, {\"threshold\": 0.9190000295639038, \"p\": 28049, \"fpr\": 0.08441193021947102, \"tpr\": 0.8271952654283575, \"n\": 5331}, {\"threshold\": 0.9200000166893005, \"p\": 28049, \"fpr\": 0.0836616019508535, \"tpr\": 0.825769189632429, \"n\": 5331}, {\"threshold\": 0.9210000038146973, \"p\": 28049, \"fpr\": 0.08328643781654474, \"tpr\": 0.824770936575279, \"n\": 5331}, {\"threshold\": 0.921999990940094, \"p\": 28049, \"fpr\": 0.08216094541361846, \"tpr\": 0.8236657278334344, \"n\": 5331}, {\"threshold\": 0.9229999780654907, \"p\": 28049, \"fpr\": 0.08141061714500093, \"tpr\": 0.8225248671966915, \"n\": 5331}, {\"threshold\": 0.9240000247955322, \"p\": 28049, \"fpr\": 0.08103545301069218, \"tpr\": 0.8216335698242362, \"n\": 5331}, {\"threshold\": 0.925000011920929, \"p\": 28049, \"fpr\": 0.08066028887638342, \"tpr\": 0.8208492281364754, \"n\": 5331}, {\"threshold\": 0.9259999990463257, \"p\": 28049, \"fpr\": 0.07972237854061152, \"tpr\": 0.8195301080252415, \"n\": 5331}, {\"threshold\": 0.9269999861717224, \"p\": 28049, \"fpr\": 0.07972237854061152, \"tpr\": 0.8183535954936005, \"n\": 5331}, {\"threshold\": 0.9279999732971191, \"p\": 28049, \"fpr\": 0.07953479647345714, \"tpr\": 0.8173909943313488, \"n\": 5331}, {\"threshold\": 0.9290000200271606, \"p\": 28049, \"fpr\": 0.07878446820483961, \"tpr\": 0.8160718742201148, \"n\": 5331}, {\"threshold\": 0.9300000071525574, \"p\": 28049, \"fpr\": 0.0780341399362221, \"tpr\": 0.8148597097935756, \"n\": 5331}, {\"threshold\": 0.9309999942779541, \"p\": 28049, \"fpr\": 0.07690864753329582, \"tpr\": 0.8132910264180542, \"n\": 5331}, {\"threshold\": 0.9319999814033508, \"p\": 28049, \"fpr\": 0.07672106546614144, \"tpr\": 0.8119006025170238, \"n\": 5331}, {\"threshold\": 0.9330000281333923, \"p\": 28049, \"fpr\": 0.07672106546614144, \"tpr\": 0.8107597418802809, \"n\": 5331}, {\"threshold\": 0.9340000152587891, \"p\": 28049, \"fpr\": 0.07653348339898705, \"tpr\": 0.809262362294556, \"n\": 5331}, {\"threshold\": 0.9350000023841858, \"p\": 28049, \"fpr\": 0.07634590133183268, \"tpr\": 0.8077293308139327, \"n\": 5331}, {\"threshold\": 0.9359999895095825, \"p\": 28049, \"fpr\": 0.07578315513036954, \"tpr\": 0.8065528182822918, \"n\": 5331}, {\"threshold\": 0.9369999766349792, \"p\": 28049, \"fpr\": 0.0752204089289064, \"tpr\": 0.805447609540447, \"n\": 5331}, {\"threshold\": 0.9380000233650208, \"p\": 28049, \"fpr\": 0.07484524479459764, \"tpr\": 0.8039858818496203, \"n\": 5331}, {\"threshold\": 0.9390000104904175, \"p\": 28049, \"fpr\": 0.07447008066028887, \"tpr\": 0.8024528503689972, \"n\": 5331}, {\"threshold\": 0.9399999976158142, \"p\": 28049, \"fpr\": 0.07371975239167136, \"tpr\": 0.8006346037291882, \"n\": 5331}, {\"threshold\": 0.9409999847412109, \"p\": 28049, \"fpr\": 0.07315700619020822, \"tpr\": 0.7992798317230561, \"n\": 5331}, {\"threshold\": 0.9419999718666077, \"p\": 28049, \"fpr\": 0.0724066779215907, \"tpr\": 0.7978537559271275, \"n\": 5331}, {\"threshold\": 0.9430000185966492, \"p\": 28049, \"fpr\": 0.07221909585443631, \"tpr\": 0.7963207244465044, \"n\": 5331}, {\"threshold\": 0.9440000057220459, \"p\": 28049, \"fpr\": 0.0714687675858188, \"tpr\": 0.7948946486505758, \"n\": 5331}, {\"threshold\": 0.9449999928474426, \"p\": 28049, \"fpr\": 0.07109360345151003, \"tpr\": 0.7932546614852579, \"n\": 5331}, {\"threshold\": 0.9459999799728394, \"p\": 28049, \"fpr\": 0.07071843931720127, \"tpr\": 0.7913651110556527, \"n\": 5331}, {\"threshold\": 0.9470000267028809, \"p\": 28049, \"fpr\": 0.06978052898142938, \"tpr\": 0.7896894719954366, \"n\": 5331}, {\"threshold\": 0.9480000138282776, \"p\": 28049, \"fpr\": 0.06921778277996624, \"tpr\": 0.7882990480944062, \"n\": 5331}, {\"threshold\": 0.9490000009536743, \"p\": 28049, \"fpr\": 0.0677171262427312, \"tpr\": 0.7866590609290883, \"n\": 5331}, {\"threshold\": 0.949999988079071, \"p\": 28049, \"fpr\": 0.06640405177265053, \"tpr\": 0.7842347320760098, \"n\": 5331}, {\"threshold\": 0.9509999752044678, \"p\": 28049, \"fpr\": 0.06565372350403302, \"tpr\": 0.7827373524902849, \"n\": 5331}, {\"threshold\": 0.9520000219345093, \"p\": 28049, \"fpr\": 0.0649033952354155, \"tpr\": 0.7811686691147635, \"n\": 5331}, {\"threshold\": 0.953000009059906, \"p\": 28049, \"fpr\": 0.06434064903395235, \"tpr\": 0.7788156440514813, \"n\": 5331}, {\"threshold\": 0.9539999961853027, \"p\": 28049, \"fpr\": 0.06377790283248921, \"tpr\": 0.7764626189881992, \"n\": 5331}, {\"threshold\": 0.9549999833106995, \"p\": 28049, \"fpr\": 0.06302757456387169, \"tpr\": 0.7743235052943064, \"n\": 5331}, {\"threshold\": 0.9559999704360962, \"p\": 28049, \"fpr\": 0.06265241042956293, \"tpr\": 0.7727191700238868, \"n\": 5331}, {\"threshold\": 0.9570000171661377, \"p\": 28049, \"fpr\": 0.06152691802663665, \"tpr\": 0.7705444044350958, \"n\": 5331}, {\"threshold\": 0.9580000042915344, \"p\": 28049, \"fpr\": 0.06077658975801913, \"tpr\": 0.7686192021105922, \"n\": 5331}, {\"threshold\": 0.9589999914169312, \"p\": 28049, \"fpr\": 0.059838679422247236, \"tpr\": 0.7658740062034297, \"n\": 5331}, {\"threshold\": 0.9599999785423279, \"p\": 28049, \"fpr\": 0.05946351528793847, \"tpr\": 0.7635209811401475, \"n\": 5331}, {\"threshold\": 0.9610000252723694, \"p\": 28049, \"fpr\": 0.05890076908647533, \"tpr\": 0.7610610003921708, \"n\": 5331}, {\"threshold\": 0.9620000123977661, \"p\": 28049, \"fpr\": 0.05758769461639467, \"tpr\": 0.758921886698278, \"n\": 5331}, {\"threshold\": 0.9629999995231628, \"p\": 28049, \"fpr\": 0.05702494841493153, \"tpr\": 0.7559984313166245, \"n\": 5331}, {\"threshold\": 0.9639999866485596, \"p\": 28049, \"fpr\": 0.05608703807915963, \"tpr\": 0.7527897607757852, \"n\": 5331}, {\"threshold\": 0.9649999737739563, \"p\": 28049, \"fpr\": 0.05533670981054211, \"tpr\": 0.7503654319227067, \"n\": 5331}, {\"threshold\": 0.9660000205039978, \"p\": 28049, \"fpr\": 0.05458638154192459, \"tpr\": 0.7473706727512567, \"n\": 5331}, {\"threshold\": 0.9670000076293945, \"p\": 28049, \"fpr\": 0.053648471206152695, \"tpr\": 0.744411565474705, \"n\": 5331}, {\"threshold\": 0.9679999947547913, \"p\": 28049, \"fpr\": 0.053085725004689555, \"tpr\": 0.7409889835644764, \"n\": 5331}, {\"threshold\": 0.968999981880188, \"p\": 28049, \"fpr\": 0.05271056087038079, \"tpr\": 0.7378159649185354, \"n\": 5331}, {\"threshold\": 0.9700000286102295, \"p\": 28049, \"fpr\": 0.05158506846745451, \"tpr\": 0.734072515954223, \"n\": 5331}, {\"threshold\": 0.9710000157356262, \"p\": 28049, \"fpr\": 0.050647158131682614, \"tpr\": 0.7310064529929766, \"n\": 5331}, {\"threshold\": 0.972000002861023, \"p\": 28049, \"fpr\": 0.04970924779591071, \"tpr\": 0.7269777888694784, \"n\": 5331}, {\"threshold\": 0.9729999899864197, \"p\": 28049, \"fpr\": 0.04914650159444757, \"tpr\": 0.7235195550643516, \"n\": 5331}, {\"threshold\": 0.9739999771118164, \"p\": 28049, \"fpr\": 0.04802100919152129, \"tpr\": 0.7191700238867695, \"n\": 5331}, {\"threshold\": 0.9750000238418579, \"p\": 28049, \"fpr\": 0.04689551678859501, \"tpr\": 0.7147848408142893, \"n\": 5331}, {\"threshold\": 0.9760000109672546, \"p\": 28049, \"fpr\": 0.04520727818420559, \"tpr\": 0.710399657741809, \"n\": 5331}, {\"threshold\": 0.9769999980926514, \"p\": 28049, \"fpr\": 0.04408178578127931, \"tpr\": 0.7058718670897358, \"n\": 5331}, {\"threshold\": 0.9779999852180481, \"p\": 28049, \"fpr\": 0.04314387544550741, \"tpr\": 0.7015223359121537, \"n\": 5331}, {\"threshold\": 0.9789999723434448, \"p\": 28049, \"fpr\": 0.042581129244044266, \"tpr\": 0.696566722521302, \"n\": 5331}, {\"threshold\": 0.9800000190734863, \"p\": 28049, \"fpr\": 0.04201838304258113, \"tpr\": 0.6906841598630967, \"n\": 5331}, {\"threshold\": 0.9810000061988831, \"p\": 28049, \"fpr\": 0.04126805477396361, \"tpr\": 0.6849798566793825, \"n\": 5331}, {\"threshold\": 0.9819999933242798, \"p\": 28049, \"fpr\": 0.03995498030388295, \"tpr\": 0.6784555599130094, \"n\": 5331}, {\"threshold\": 0.9829999804496765, \"p\": 28049, \"fpr\": 0.037703995498030385, \"tpr\": 0.6725729972548041, \"n\": 5331}, {\"threshold\": 0.984000027179718, \"p\": 28049, \"fpr\": 0.03620333896079535, \"tpr\": 0.6652287069057721, \"n\": 5331}, {\"threshold\": 0.9850000143051147, \"p\": 28049, \"fpr\": 0.03564059275933221, \"tpr\": 0.6577061570822489, \"n\": 5331}, {\"threshold\": 0.9860000014305115, \"p\": 28049, \"fpr\": 0.03432751828925155, \"tpr\": 0.6495062212556597, \"n\": 5331}, {\"threshold\": 0.9869999885559082, \"p\": 28049, \"fpr\": 0.033389607953479644, \"tpr\": 0.6403436842668188, \"n\": 5331}, {\"threshold\": 0.9879999756813049, \"p\": 28049, \"fpr\": 0.032076533483398985, \"tpr\": 0.6311098434881814, \"n\": 5331}, {\"threshold\": 0.9890000224113464, \"p\": 28049, \"fpr\": 0.030388294879009566, \"tpr\": 0.6212699204962744, \"n\": 5331}, {\"threshold\": 0.9900000095367432, \"p\": 28049, \"fpr\": 0.027949728006002626, \"tpr\": 0.6098256622339477, \"n\": 5331}, {\"threshold\": 0.9909999966621399, \"p\": 28049, \"fpr\": 0.026636653535921966, \"tpr\": 0.5976683660736568, \"n\": 5331}, {\"threshold\": 0.9919999837875366, \"p\": 28049, \"fpr\": 0.025323579065841307, \"tpr\": 0.5837641270633535, \"n\": 5331}, {\"threshold\": 0.9929999709129333, \"p\": 28049, \"fpr\": 0.023447758394297503, \"tpr\": 0.568683375521409, \"n\": 5331}, {\"threshold\": 0.9940000176429749, \"p\": 28049, \"fpr\": 0.021947101857062466, \"tpr\": 0.5516417697600627, \"n\": 5331}, {\"threshold\": 0.9950000047683716, \"p\": 28049, \"fpr\": 0.020821609454136185, \"tpr\": 0.5294662911333737, \"n\": 5331}, {\"threshold\": 0.9959999918937683, \"p\": 28049, \"fpr\": 0.019320952916901144, \"tpr\": 0.5025847623801205, \"n\": 5331}, {\"threshold\": 0.996999979019165, \"p\": 28049, \"fpr\": 0.016882386043894203, \"tpr\": 0.4695711077043745, \"n\": 5331}, {\"threshold\": 0.9980000257492065, \"p\": 28049, \"fpr\": 0.013881072969424124, \"tpr\": 0.4252914542407929, \"n\": 5331}, {\"threshold\": 0.9990000128746033, \"p\": 28049, \"fpr\": 0.010129431626336522, \"tpr\": 0.35651894898213843, \"n\": 5331}, {\"threshold\": 1.0, \"p\": 28049, \"fpr\": 0.0, \"tpr\": 0.0, \"n\": 5331}]}]], \"type\": \"Model\"}, \"ipython\": true, \"view_params\": {\"model_type\": \"regression\", \"view\": \"Evaluation\"}, \"model_type\": \"regression\", \"attributes\": {\"section_titles\": [\"Schema\", \"Hyperparameters\", \"Training Summary\", \"Settings\", \"Highest Positive Coefficients\", \"Lowest Negative Coefficients\"], \"sections\": [[[\"Number of coefficients\", 219218], [\"Number of examples\", 133448], [\"Number of classes\", 2], [\"Number of feature columns\", 1], [\"Number of unpacked features\", 219217]], [[\"L1 penalty\", 0.0], [\"L2 penalty\", 0.01]], [[\"Solver\", \"auto\"], [\"Solver iterations\", 10], [\"Solver status\", \"TERMINATED: Iteration limit reached.\"], [\"Training time (sec)\", 7.5407]], [[\"Log-likelihood\", 4956.6901]], [[\"word_count[pinkjeep]\", 13.5701], [\"word_count[(http://www.amazon.com/review/rhgg6qp7tdnhb/ref=cm_cr_pr_cmt?ie=utf8&asin;=b00318cla0&nodeid;)]\", 12.3088], [\"word_count[label/box.]\", 11.1774], [\"word_count[product.***]\", 11.064], [\"word_count[direct-pumping]\", 11.0531]], [[\"word_count[it.update:after]\", -18.3631], [\"word_count[5months.]\", -16.0906], [\"word_count[oldest.if]\", -15.9315], [\"word_count[maxima.]\", -15.8084], [\"word_count[(160.00)]\", -15.4512]]]}, \"evaluations\": [[\"test_data\", {\"roc_curve\": [{\"threshold\": 0.0, \"p\": 28049, \"fpr\": 0.223597824048021, \"tpr\": 0.005526043709223145, \"n\": 5331}, {\"threshold\": 0.0010000000474974513, \"p\": 28049, \"fpr\": 0.776402175951979, \"tpr\": 0.9944739562907768, \"n\": 5331}, {\"threshold\": 0.0020000000949949026, \"p\": 28049, \"fpr\": 0.736447195648096, \"tpr\": 0.9930478804948483, \"n\": 5331}, {\"threshold\": 0.003000000026077032, \"p\": 28049, \"fpr\": 0.7139373475895704, \"tpr\": 0.9922278869121893, \"n\": 5331}, {\"threshold\": 0.004000000189989805, \"p\": 28049, \"fpr\": 0.6983680360157569, \"tpr\": 0.9916931084887162, \"n\": 5331}, {\"threshold\": 0.004999999888241291, \"p\": 28049, \"fpr\": 0.687113111986494, \"tpr\": 0.9911939819601412, \"n\": 5331}, {\"threshold\": 0.006000000052154064, \"p\": 28049, \"fpr\": 0.6773588444944664, \"tpr\": 0.9905878997468716, \"n\": 5331}, {\"threshold\": 0.007000000216066837, \"p\": 28049, \"fpr\": 0.666854248733821, \"tpr\": 0.9901957289029912, \"n\": 5331}, {\"threshold\": 0.00800000037997961, \"p\": 28049, \"fpr\": 0.6565372350403301, \"tpr\": 0.9898035580591108, \"n\": 5331}, {\"threshold\": 0.008999999612569809, \"p\": 28049, \"fpr\": 0.6492215344213094, \"tpr\": 0.9893400834254341, \"n\": 5331}, {\"threshold\": 0.009999999776482582, \"p\": 28049, \"fpr\": 0.6405927593322078, \"tpr\": 0.9890192163713502, \"n\": 5331}, {\"threshold\": 0.010999999940395355, \"p\": 28049, \"fpr\": 0.6336522228474958, \"tpr\": 0.9885913936325715, \"n\": 5331}, {\"threshold\": 0.012000000104308128, \"p\": 28049, \"fpr\": 0.6282123429000187, \"tpr\": 0.9882705265784877, \"n\": 5331}, {\"threshold\": 0.013000000268220901, \"p\": 28049, \"fpr\": 0.6214593884824611, \"tpr\": 0.9878783557346072, \"n\": 5331}, {\"threshold\": 0.014000000432133675, \"p\": 28049, \"fpr\": 0.6165822547364472, \"tpr\": 0.9875931405754216, \"n\": 5331}, {\"threshold\": 0.014999999664723873, \"p\": 28049, \"fpr\": 0.6098293003188895, \"tpr\": 0.9872722735213376, \"n\": 5331}, {\"threshold\": 0.01600000075995922, \"p\": 28049, \"fpr\": 0.6051397486400301, \"tpr\": 0.9868444507825591, \"n\": 5331}, {\"threshold\": 0.017000000923871994, \"p\": 28049, \"fpr\": 0.6013881072969424, \"tpr\": 0.9865948875182716, \"n\": 5331}, {\"threshold\": 0.017999999225139618, \"p\": 28049, \"fpr\": 0.5965109735509285, \"tpr\": 0.9863809761488823, \"n\": 5331}, {\"threshold\": 0.01899999938905239, \"p\": 28049, \"fpr\": 0.5916338398049147, \"tpr\": 0.986167064779493, \"n\": 5331}, {\"threshold\": 0.019999999552965164, \"p\": 28049, \"fpr\": 0.5873194522603639, \"tpr\": 0.9858818496203073, \"n\": 5331}, {\"threshold\": 0.020999999716877937, \"p\": 28049, \"fpr\": 0.5835678109172763, \"tpr\": 0.9857392420407145, \"n\": 5331}, {\"threshold\": 0.02199999988079071, \"p\": 28049, \"fpr\": 0.5807540799099606, \"tpr\": 0.9854540268815287, \"n\": 5331}, {\"threshold\": 0.023000000044703484, \"p\": 28049, \"fpr\": 0.5786906771712624, \"tpr\": 0.9852757674070377, \"n\": 5331}, {\"threshold\": 0.024000000208616257, \"p\": 28049, \"fpr\": 0.5743762896267117, \"tpr\": 0.9850618560376484, \"n\": 5331}, {\"threshold\": 0.02500000037252903, \"p\": 28049, \"fpr\": 0.5713749765522416, \"tpr\": 0.9847766408784627, \"n\": 5331}, {\"threshold\": 0.026000000536441803, \"p\": 28049, \"fpr\": 0.5678109172763084, \"tpr\": 0.9846696851937681, \"n\": 5331}, {\"threshold\": 0.027000000700354576, \"p\": 28049, \"fpr\": 0.5646220221346839, \"tpr\": 0.9843844700345823, \"n\": 5331}, {\"threshold\": 0.02800000086426735, \"p\": 28049, \"fpr\": 0.5619958731945226, \"tpr\": 0.9841705586651931, \"n\": 5331}, {\"threshold\": 0.028999999165534973, \"p\": 28049, \"fpr\": 0.5584318139185894, \"tpr\": 0.983992299190702, \"n\": 5331}, {\"threshold\": 0.029999999329447746, \"p\": 28049, \"fpr\": 0.5544925905083474, \"tpr\": 0.9837427359264145, \"n\": 5331}, {\"threshold\": 0.03099999949336052, \"p\": 28049, \"fpr\": 0.5529919339711123, \"tpr\": 0.9836357802417198, \"n\": 5331}, {\"threshold\": 0.03200000151991844, \"p\": 28049, \"fpr\": 0.5492402926280248, \"tpr\": 0.983314913187636, \"n\": 5331}, {\"threshold\": 0.032999999821186066, \"p\": 28049, \"fpr\": 0.5451134871506284, \"tpr\": 0.9831366537131448, \"n\": 5331}, {\"threshold\": 0.03400000184774399, \"p\": 28049, \"fpr\": 0.5432376664790846, \"tpr\": 0.982994046133552, \"n\": 5331}, {\"threshold\": 0.03500000014901161, \"p\": 28049, \"fpr\": 0.5413618458075408, \"tpr\": 0.9829583942386538, \"n\": 5331}, {\"threshold\": 0.035999998450279236, \"p\": 28049, \"fpr\": 0.5392984430688427, \"tpr\": 0.9828514385539592, \"n\": 5331}, {\"threshold\": 0.03700000047683716, \"p\": 28049, \"fpr\": 0.5368598761958356, \"tpr\": 0.9827801347641627, \"n\": 5331}, {\"threshold\": 0.03799999877810478, \"p\": 28049, \"fpr\": 0.5336709810542112, \"tpr\": 0.9823879639202824, \"n\": 5331}, {\"threshold\": 0.039000000804662704, \"p\": 28049, \"fpr\": 0.5325454886512849, \"tpr\": 0.9821384006559949, \"n\": 5331}, {\"threshold\": 0.03999999910593033, \"p\": 28049, \"fpr\": 0.5312324141812043, \"tpr\": 0.9820314449713002, \"n\": 5331}, {\"threshold\": 0.04100000113248825, \"p\": 28049, \"fpr\": 0.5289814293753518, \"tpr\": 0.9819601411815038, \"n\": 5331}, {\"threshold\": 0.041999999433755875, \"p\": 28049, \"fpr\": 0.5259801163008816, \"tpr\": 0.9817462298121146, \"n\": 5331}, {\"threshold\": 0.0430000014603138, \"p\": 28049, \"fpr\": 0.5248546238979553, \"tpr\": 0.9815679703376234, \"n\": 5331}, {\"threshold\": 0.04399999976158142, \"p\": 28049, \"fpr\": 0.5224160570249484, \"tpr\": 0.9814610146529288, \"n\": 5331}, {\"threshold\": 0.04500000178813934, \"p\": 28049, \"fpr\": 0.5212905646220222, \"tpr\": 0.981318407073336, \"n\": 5331}, {\"threshold\": 0.04600000008940697, \"p\": 28049, \"fpr\": 0.5184768336147064, \"tpr\": 0.9812471032835395, \"n\": 5331}, {\"threshold\": 0.04699999839067459, \"p\": 28049, \"fpr\": 0.5166010129431626, \"tpr\": 0.9810331919141503, \"n\": 5331}, {\"threshold\": 0.04800000041723251, \"p\": 28049, \"fpr\": 0.5143500281373101, \"tpr\": 0.9807836286498628, \"n\": 5331}, {\"threshold\": 0.04899999871850014, \"p\": 28049, \"fpr\": 0.5132245357343838, \"tpr\": 0.9806410210702698, \"n\": 5331}, {\"threshold\": 0.05000000074505806, \"p\": 28049, \"fpr\": 0.51134871506284, \"tpr\": 0.9804627615957788, \"n\": 5331}, {\"threshold\": 0.050999999046325684, \"p\": 28049, \"fpr\": 0.5081598199212155, \"tpr\": 0.9802131983314913, \"n\": 5331}, {\"threshold\": 0.052000001072883606, \"p\": 28049, \"fpr\": 0.5055336709810542, \"tpr\": 0.9800705907518985, \"n\": 5331}, {\"threshold\": 0.05299999937415123, \"p\": 28049, \"fpr\": 0.5038454323766648, \"tpr\": 0.9800349388570002, \"n\": 5331}, {\"threshold\": 0.05400000140070915, \"p\": 28049, \"fpr\": 0.5017820296379666, \"tpr\": 0.9798566793825092, \"n\": 5331}, {\"threshold\": 0.054999999701976776, \"p\": 28049, \"fpr\": 0.5006565372350403, \"tpr\": 0.9797853755927127, \"n\": 5331}, {\"threshold\": 0.0560000017285347, \"p\": 28049, \"fpr\": 0.4982179703620334, \"tpr\": 0.9797140718029164, \"n\": 5331}, {\"threshold\": 0.05700000002980232, \"p\": 28049, \"fpr\": 0.4961545676233352, \"tpr\": 0.9794288566437306, \"n\": 5331}, {\"threshold\": 0.057999998331069946, \"p\": 28049, \"fpr\": 0.49390358281748264, \"tpr\": 0.9792862490641377, \"n\": 5331}, {\"threshold\": 0.05900000035762787, \"p\": 28049, \"fpr\": 0.4927780904145564, \"tpr\": 0.9791436414845449, \"n\": 5331}, {\"threshold\": 0.05999999865889549, \"p\": 28049, \"fpr\": 0.4903395235415494, \"tpr\": 0.9791079895896467, \"n\": 5331}, {\"threshold\": 0.061000000685453415, \"p\": 28049, \"fpr\": 0.48827612080285127, \"tpr\": 0.9789653820100538, \"n\": 5331}, {\"threshold\": 0.06199999898672104, \"p\": 28049, \"fpr\": 0.4864003001313075, \"tpr\": 0.9789297301151556, \"n\": 5331}, {\"threshold\": 0.06300000101327896, \"p\": 28049, \"fpr\": 0.4850872256612268, \"tpr\": 0.9788584263253592, \"n\": 5331}, {\"threshold\": 0.06400000303983688, \"p\": 28049, \"fpr\": 0.4839617332583005, \"tpr\": 0.9787158187457663, \"n\": 5331}, {\"threshold\": 0.06499999761581421, \"p\": 28049, \"fpr\": 0.48264865878821983, \"tpr\": 0.9787158187457663, \"n\": 5331}, {\"threshold\": 0.06599999964237213, \"p\": 28049, \"fpr\": 0.4820859125867567, \"tpr\": 0.9787158187457663, \"n\": 5331}, {\"threshold\": 0.06700000166893005, \"p\": 28049, \"fpr\": 0.48133558431813916, \"tpr\": 0.9786445149559699, \"n\": 5331}, {\"threshold\": 0.06800000369548798, \"p\": 28049, \"fpr\": 0.4802100919152129, \"tpr\": 0.9784306035865806, \"n\": 5331}, {\"threshold\": 0.0689999982714653, \"p\": 28049, \"fpr\": 0.479272181579441, \"tpr\": 0.978323647901886, \"n\": 5331}, {\"threshold\": 0.07000000029802322, \"p\": 28049, \"fpr\": 0.4785218533108235, \"tpr\": 0.9782166922171913, \"n\": 5331}, {\"threshold\": 0.07100000232458115, \"p\": 28049, \"fpr\": 0.4772087788407428, \"tpr\": 0.9781810403222931, \"n\": 5331}, {\"threshold\": 0.07199999690055847, \"p\": 28049, \"fpr\": 0.47589570437066214, \"tpr\": 0.978145388427395, \"n\": 5331}, {\"threshold\": 0.0729999989271164, \"p\": 28049, \"fpr\": 0.47401988369911835, \"tpr\": 0.9781097365324967, \"n\": 5331}, {\"threshold\": 0.07400000095367432, \"p\": 28049, \"fpr\": 0.4725192271618833, \"tpr\": 0.9779671289529038, \"n\": 5331}, {\"threshold\": 0.07500000298023224, \"p\": 28049, \"fpr\": 0.47064340649033953, \"tpr\": 0.9778601732682092, \"n\": 5331}, {\"threshold\": 0.07599999755620956, \"p\": 28049, \"fpr\": 0.46970549615456764, \"tpr\": 0.9776819137937182, \"n\": 5331}, {\"threshold\": 0.07699999958276749, \"p\": 28049, \"fpr\": 0.46839242168448697, \"tpr\": 0.9776462618988199, \"n\": 5331}, {\"threshold\": 0.07800000160932541, \"p\": 28049, \"fpr\": 0.4674545113487151, \"tpr\": 0.9773610467396342, \"n\": 5331}, {\"threshold\": 0.07900000363588333, \"p\": 28049, \"fpr\": 0.4665166010129432, \"tpr\": 0.9773610467396342, \"n\": 5331}, {\"threshold\": 0.07999999821186066, \"p\": 28049, \"fpr\": 0.4655786906771713, \"tpr\": 0.9772540910549395, \"n\": 5331}, {\"threshold\": 0.08100000023841858, \"p\": 28049, \"fpr\": 0.46482836240855374, \"tpr\": 0.9772184391600414, \"n\": 5331}, {\"threshold\": 0.0820000022649765, \"p\": 28049, \"fpr\": 0.4633277058713187, \"tpr\": 0.9771471353702449, \"n\": 5331}, {\"threshold\": 0.08299999684095383, \"p\": 28049, \"fpr\": 0.46182704933408364, \"tpr\": 0.9768975721059574, \"n\": 5331}, {\"threshold\": 0.08399999886751175, \"p\": 28049, \"fpr\": 0.46051397486400303, \"tpr\": 0.976826268316161, \"n\": 5331}, {\"threshold\": 0.08500000089406967, \"p\": 28049, \"fpr\": 0.4584505721253048, \"tpr\": 0.976826268316161, \"n\": 5331}, {\"threshold\": 0.0860000029206276, \"p\": 28049, \"fpr\": 0.4575126617895329, \"tpr\": 0.9767549645263646, \"n\": 5331}, {\"threshold\": 0.08699999749660492, \"p\": 28049, \"fpr\": 0.4560120052522979, \"tpr\": 0.9766836607365681, \"n\": 5331}, {\"threshold\": 0.08799999952316284, \"p\": 28049, \"fpr\": 0.4545113487150628, \"tpr\": 0.9764697493671789, \"n\": 5331}, {\"threshold\": 0.08900000154972076, \"p\": 28049, \"fpr\": 0.4539486025135997, \"tpr\": 0.9762914898926878, \"n\": 5331}, {\"threshold\": 0.09000000357627869, \"p\": 28049, \"fpr\": 0.4530106921778278, \"tpr\": 0.9762201861028914, \"n\": 5331}, {\"threshold\": 0.09099999815225601, \"p\": 28049, \"fpr\": 0.4520727818420559, \"tpr\": 0.9761845342079931, \"n\": 5331}, {\"threshold\": 0.09200000017881393, \"p\": 28049, \"fpr\": 0.4509472894391296, \"tpr\": 0.9761488823130949, \"n\": 5331}, {\"threshold\": 0.09300000220537186, \"p\": 28049, \"fpr\": 0.449634214969049, \"tpr\": 0.9759706228386039, \"n\": 5331}, {\"threshold\": 0.09399999678134918, \"p\": 28049, \"fpr\": 0.44888388670043144, \"tpr\": 0.9758993190488074, \"n\": 5331}, {\"threshold\": 0.0949999988079071, \"p\": 28049, \"fpr\": 0.44794597636465955, \"tpr\": 0.9757210595743164, \"n\": 5331}, {\"threshold\": 0.09600000083446503, \"p\": 28049, \"fpr\": 0.44700806602888765, \"tpr\": 0.9756141038896218, \"n\": 5331}, {\"threshold\": 0.09700000286102295, \"p\": 28049, \"fpr\": 0.4462577377602701, \"tpr\": 0.9755428000998253, \"n\": 5331}, {\"threshold\": 0.09799999743700027, \"p\": 28049, \"fpr\": 0.4455074094916526, \"tpr\": 0.975328888730436, \"n\": 5331}, {\"threshold\": 0.0989999994635582, \"p\": 28049, \"fpr\": 0.4445694991558807, \"tpr\": 0.9751149773610467, \"n\": 5331}, {\"threshold\": 0.10000000149011612, \"p\": 28049, \"fpr\": 0.4436315888201088, \"tpr\": 0.9750436735712503, \"n\": 5331}, {\"threshold\": 0.10100000351667404, \"p\": 28049, \"fpr\": 0.441755768148565, \"tpr\": 0.9749723697814539, \"n\": 5331}, {\"threshold\": 0.10199999809265137, \"p\": 28049, \"fpr\": 0.44025511161132996, \"tpr\": 0.9748654140967592, \"n\": 5331}, {\"threshold\": 0.10300000011920929, \"p\": 28049, \"fpr\": 0.4395047833427124, \"tpr\": 0.974829762201861, \"n\": 5331}, {\"threshold\": 0.10400000214576721, \"p\": 28049, \"fpr\": 0.43837929093978617, \"tpr\": 0.97465150272737, \"n\": 5331}, {\"threshold\": 0.10499999672174454, \"p\": 28049, \"fpr\": 0.4380041268054774, \"tpr\": 0.9744732432528789, \"n\": 5331}, {\"threshold\": 0.10599999874830246, \"p\": 28049, \"fpr\": 0.43631588820108796, \"tpr\": 0.974330635673286, \"n\": 5331}, {\"threshold\": 0.10700000077486038, \"p\": 28049, \"fpr\": 0.4351903957981617, \"tpr\": 0.9742949837783879, \"n\": 5331}, {\"threshold\": 0.1080000028014183, \"p\": 28049, \"fpr\": 0.43462764959669853, \"tpr\": 0.9742593318834896, \"n\": 5331}, {\"threshold\": 0.10899999737739563, \"p\": 28049, \"fpr\": 0.4335021571937723, \"tpr\": 0.9740810724089985, \"n\": 5331}, {\"threshold\": 0.10999999940395355, \"p\": 28049, \"fpr\": 0.43275182892515474, \"tpr\": 0.9739741167243039, \"n\": 5331}, {\"threshold\": 0.11100000143051147, \"p\": 28049, \"fpr\": 0.4312511723879197, \"tpr\": 0.9739741167243039, \"n\": 5331}, {\"threshold\": 0.1120000034570694, \"p\": 28049, \"fpr\": 0.4306884261864566, \"tpr\": 0.9738315091447111, \"n\": 5331}, {\"threshold\": 0.11299999803304672, \"p\": 28049, \"fpr\": 0.42993809791783905, \"tpr\": 0.9736532496702199, \"n\": 5331}, {\"threshold\": 0.11400000005960464, \"p\": 28049, \"fpr\": 0.42918776964922156, \"tpr\": 0.9736175977753218, \"n\": 5331}, {\"threshold\": 0.11500000208616257, \"p\": 28049, \"fpr\": 0.4276871131119865, \"tpr\": 0.9735106420906271, \"n\": 5331}, {\"threshold\": 0.11599999666213989, \"p\": 28049, \"fpr\": 0.4267492027762146, \"tpr\": 0.9734393383008307, \"n\": 5331}, {\"threshold\": 0.11699999868869781, \"p\": 28049, \"fpr\": 0.42618645657475146, \"tpr\": 0.9733323826161361, \"n\": 5331}, {\"threshold\": 0.11800000071525574, \"p\": 28049, \"fpr\": 0.42599887450759705, \"tpr\": 0.9732610788263396, \"n\": 5331}, {\"threshold\": 0.11900000274181366, \"p\": 28049, \"fpr\": 0.42524854623897956, \"tpr\": 0.9731897750365432, \"n\": 5331}, {\"threshold\": 0.11999999731779099, \"p\": 28049, \"fpr\": 0.424498217970362, \"tpr\": 0.9730828193518486, \"n\": 5331}, {\"threshold\": 0.12099999934434891, \"p\": 28049, \"fpr\": 0.4239354717688989, \"tpr\": 0.9728332560875611, \"n\": 5331}, {\"threshold\": 0.12200000137090683, \"p\": 28049, \"fpr\": 0.4239354717688989, \"tpr\": 0.9727263004028665, \"n\": 5331}, {\"threshold\": 0.12300000339746475, \"p\": 28049, \"fpr\": 0.42374788970174454, \"tpr\": 0.97265499661307, \"n\": 5331}, {\"threshold\": 0.12399999797344208, \"p\": 28049, \"fpr\": 0.42262239729881823, \"tpr\": 0.9725123890334771, \"n\": 5331}, {\"threshold\": 0.125, \"p\": 28049, \"fpr\": 0.4220596510973551, \"tpr\": 0.972476737138579, \"n\": 5331}, {\"threshold\": 0.12600000202655792, \"p\": 28049, \"fpr\": 0.4211217407615832, \"tpr\": 0.9724410852436807, \"n\": 5331}, {\"threshold\": 0.12700000405311584, \"p\": 28049, \"fpr\": 0.42037141249296567, \"tpr\": 0.9722628257691897, \"n\": 5331}, {\"threshold\": 0.12800000607967377, \"p\": 28049, \"fpr\": 0.41962108422434813, \"tpr\": 0.9721915219793932, \"n\": 5331}, {\"threshold\": 0.1289999932050705, \"p\": 28049, \"fpr\": 0.419058338022885, \"tpr\": 0.9719776106100039, \"n\": 5331}, {\"threshold\": 0.12999999523162842, \"p\": 28049, \"fpr\": 0.41793284561995875, \"tpr\": 0.9717280473457164, \"n\": 5331}, {\"threshold\": 0.13099999725818634, \"p\": 28049, \"fpr\": 0.41737009941849557, \"tpr\": 0.9716923954508182, \"n\": 5331}, {\"threshold\": 0.13199999928474426, \"p\": 28049, \"fpr\": 0.41605702494841496, \"tpr\": 0.9715497878712254, \"n\": 5331}, {\"threshold\": 0.13300000131130219, \"p\": 28049, \"fpr\": 0.4154942787469518, \"tpr\": 0.9714784840814289, \"n\": 5331}, {\"threshold\": 0.1340000033378601, \"p\": 28049, \"fpr\": 0.4143687863440255, \"tpr\": 0.9713715283967342, \"n\": 5331}, {\"threshold\": 0.13500000536441803, \"p\": 28049, \"fpr\": 0.4126805477396361, \"tpr\": 0.9712645727120397, \"n\": 5331}, {\"threshold\": 0.13600000739097595, \"p\": 28049, \"fpr\": 0.41193021947101854, \"tpr\": 0.9712645727120397, \"n\": 5331}, {\"threshold\": 0.13699999451637268, \"p\": 28049, \"fpr\": 0.4108047270680923, \"tpr\": 0.9710150094477521, \"n\": 5331}, {\"threshold\": 0.1379999965429306, \"p\": 28049, \"fpr\": 0.41024198086662916, \"tpr\": 0.9709793575528539, \"n\": 5331}, {\"threshold\": 0.13899999856948853, \"p\": 28049, \"fpr\": 0.40930407053085727, \"tpr\": 0.9709437056579557, \"n\": 5331}, {\"threshold\": 0.14000000059604645, \"p\": 28049, \"fpr\": 0.40911648846370285, \"tpr\": 0.9709080537630576, \"n\": 5331}, {\"threshold\": 0.14100000262260437, \"p\": 28049, \"fpr\": 0.4089289063965485, \"tpr\": 0.9708724018681593, \"n\": 5331}, {\"threshold\": 0.1420000046491623, \"p\": 28049, \"fpr\": 0.40817857812793096, \"tpr\": 0.9708367499732611, \"n\": 5331}, {\"threshold\": 0.14300000667572021, \"p\": 28049, \"fpr\": 0.40724066779215906, \"tpr\": 0.9707654461834646, \"n\": 5331}, {\"threshold\": 0.14399999380111694, \"p\": 28049, \"fpr\": 0.4068655036578503, \"tpr\": 0.9707654461834646, \"n\": 5331}, {\"threshold\": 0.14499999582767487, \"p\": 28049, \"fpr\": 0.4051772650534609, \"tpr\": 0.9707297942885664, \"n\": 5331}, {\"threshold\": 0.1459999978542328, \"p\": 28049, \"fpr\": 0.40442693678484337, \"tpr\": 0.97065849049877, \"n\": 5331}, {\"threshold\": 0.1469999998807907, \"p\": 28049, \"fpr\": 0.40330144438191706, \"tpr\": 0.9705871867089736, \"n\": 5331}, {\"threshold\": 0.14800000190734863, \"p\": 28049, \"fpr\": 0.4031138623147627, \"tpr\": 0.9704802310242789, \"n\": 5331}, {\"threshold\": 0.14900000393390656, \"p\": 28049, \"fpr\": 0.4025511161132996, \"tpr\": 0.9704445791293808, \"n\": 5331}, {\"threshold\": 0.15000000596046448, \"p\": 28049, \"fpr\": 0.40198836991183645, \"tpr\": 0.9704089272344825, \"n\": 5331}, {\"threshold\": 0.1509999930858612, \"p\": 28049, \"fpr\": 0.40086287750891014, \"tpr\": 0.9703376234446861, \"n\": 5331}, {\"threshold\": 0.15199999511241913, \"p\": 28049, \"fpr\": 0.40086287750891014, \"tpr\": 0.9702663196548896, \"n\": 5331}, {\"threshold\": 0.15299999713897705, \"p\": 28049, \"fpr\": 0.400300131307447, \"tpr\": 0.970159363970195, \"n\": 5331}, {\"threshold\": 0.15399999916553497, \"p\": 28049, \"fpr\": 0.3991746389045207, \"tpr\": 0.9700524082855003, \"n\": 5331}, {\"threshold\": 0.1550000011920929, \"p\": 28049, \"fpr\": 0.398799474770212, \"tpr\": 0.9699098007059075, \"n\": 5331}, {\"threshold\": 0.15600000321865082, \"p\": 28049, \"fpr\": 0.3982367285687488, \"tpr\": 0.9698384969161111, \"n\": 5331}, {\"threshold\": 0.15700000524520874, \"p\": 28049, \"fpr\": 0.39804914650159445, \"tpr\": 0.9697315412314165, \"n\": 5331}, {\"threshold\": 0.15800000727176666, \"p\": 28049, \"fpr\": 0.3972988182329769, \"tpr\": 0.96966023744162, \"n\": 5331}, {\"threshold\": 0.1589999943971634, \"p\": 28049, \"fpr\": 0.39711123616582256, \"tpr\": 0.9696245855467218, \"n\": 5331}, {\"threshold\": 0.1599999964237213, \"p\": 28049, \"fpr\": 0.39654848996435943, \"tpr\": 0.9696245855467218, \"n\": 5331}, {\"threshold\": 0.16099999845027924, \"p\": 28049, \"fpr\": 0.3957981616957419, \"tpr\": 0.9695532817569253, \"n\": 5331}, {\"threshold\": 0.16200000047683716, \"p\": 28049, \"fpr\": 0.39523541549427876, \"tpr\": 0.969481977967129, \"n\": 5331}, {\"threshold\": 0.16300000250339508, \"p\": 28049, \"fpr\": 0.39486025135997, \"tpr\": 0.9694463260722307, \"n\": 5331}, {\"threshold\": 0.164000004529953, \"p\": 28049, \"fpr\": 0.3939223410241981, \"tpr\": 0.9694106741773325, \"n\": 5331}, {\"threshold\": 0.16500000655651093, \"p\": 28049, \"fpr\": 0.39317201275558056, \"tpr\": 0.9693037184926379, \"n\": 5331}, {\"threshold\": 0.16599999368190765, \"p\": 28049, \"fpr\": 0.3927968486212718, \"tpr\": 0.9692324147028415, \"n\": 5331}, {\"threshold\": 0.16699999570846558, \"p\": 28049, \"fpr\": 0.3924216844869631, \"tpr\": 0.9690898071232485, \"n\": 5331}, {\"threshold\": 0.1679999977350235, \"p\": 28049, \"fpr\": 0.3920465203526543, \"tpr\": 0.968982851438554, \"n\": 5331}, {\"threshold\": 0.16899999976158142, \"p\": 28049, \"fpr\": 0.39129619208403676, \"tpr\": 0.9688758957538594, \"n\": 5331}, {\"threshold\": 0.17000000178813934, \"p\": 28049, \"fpr\": 0.3899831176139561, \"tpr\": 0.9687689400691647, \"n\": 5331}, {\"threshold\": 0.17100000381469727, \"p\": 28049, \"fpr\": 0.38885762521102984, \"tpr\": 0.9687332881742665, \"n\": 5331}, {\"threshold\": 0.1720000058412552, \"p\": 28049, \"fpr\": 0.3884824610767211, \"tpr\": 0.96866198438447, \"n\": 5331}, {\"threshold\": 0.17299999296665192, \"p\": 28049, \"fpr\": 0.3875445507409492, \"tpr\": 0.96866198438447, \"n\": 5331}, {\"threshold\": 0.17399999499320984, \"p\": 28049, \"fpr\": 0.38735696867379477, \"tpr\": 0.9685906805946736, \"n\": 5331}, {\"threshold\": 0.17499999701976776, \"p\": 28049, \"fpr\": 0.3871693866066404, \"tpr\": 0.9684480730150807, \"n\": 5331}, {\"threshold\": 0.17599999904632568, \"p\": 28049, \"fpr\": 0.38641905833802287, \"tpr\": 0.9684124211201826, \"n\": 5331}, {\"threshold\": 0.1770000010728836, \"p\": 28049, \"fpr\": 0.38491840180078785, \"tpr\": 0.9683411173303861, \"n\": 5331}, {\"threshold\": 0.17800000309944153, \"p\": 28049, \"fpr\": 0.3841680735321703, \"tpr\": 0.9682341616456914, \"n\": 5331}, {\"threshold\": 0.17900000512599945, \"p\": 28049, \"fpr\": 0.38379290939786154, \"tpr\": 0.9681628578558951, \"n\": 5331}, {\"threshold\": 0.18000000715255737, \"p\": 28049, \"fpr\": 0.38285499906208964, \"tpr\": 0.9680559021712004, \"n\": 5331}, {\"threshold\": 0.1809999942779541, \"p\": 28049, \"fpr\": 0.3822922528606265, \"tpr\": 0.9679489464865058, \"n\": 5331}, {\"threshold\": 0.18199999630451202, \"p\": 28049, \"fpr\": 0.38154192459200903, \"tpr\": 0.9677350351171164, \"n\": 5331}, {\"threshold\": 0.18299999833106995, \"p\": 28049, \"fpr\": 0.3807915963233915, \"tpr\": 0.9675924275375236, \"n\": 5331}, {\"threshold\": 0.18400000035762787, \"p\": 28049, \"fpr\": 0.3804164321890827, \"tpr\": 0.9674498199579308, \"n\": 5331}, {\"threshold\": 0.1850000023841858, \"p\": 28049, \"fpr\": 0.3798536859876196, \"tpr\": 0.9674141680630326, \"n\": 5331}, {\"threshold\": 0.1860000044107437, \"p\": 28049, \"fpr\": 0.3789157756518477, \"tpr\": 0.9673428642732361, \"n\": 5331}, {\"threshold\": 0.18700000643730164, \"p\": 28049, \"fpr\": 0.3777902832489214, \"tpr\": 0.9672002566936433, \"n\": 5331}, {\"threshold\": 0.18799999356269836, \"p\": 28049, \"fpr\": 0.3777902832489214, \"tpr\": 0.967164604798745, \"n\": 5331}, {\"threshold\": 0.1889999955892563, \"p\": 28049, \"fpr\": 0.3774151191146126, \"tpr\": 0.9670933010089486, \"n\": 5331}, {\"threshold\": 0.1899999976158142, \"p\": 28049, \"fpr\": 0.3770399549803039, \"tpr\": 0.9669506934293558, \"n\": 5331}, {\"threshold\": 0.19099999964237213, \"p\": 28049, \"fpr\": 0.3764772087788407, \"tpr\": 0.9668793896395593, \"n\": 5331}, {\"threshold\": 0.19200000166893005, \"p\": 28049, \"fpr\": 0.37628962671168636, \"tpr\": 0.9667724339548647, \"n\": 5331}, {\"threshold\": 0.19300000369548798, \"p\": 28049, \"fpr\": 0.37572688051022324, \"tpr\": 0.96666547827017, \"n\": 5331}, {\"threshold\": 0.1940000057220459, \"p\": 28049, \"fpr\": 0.37535171637591447, \"tpr\": 0.9665941744803737, \"n\": 5331}, {\"threshold\": 0.19499999284744263, \"p\": 28049, \"fpr\": 0.3749765522416057, \"tpr\": 0.9665228706905772, \"n\": 5331}, {\"threshold\": 0.19599999487400055, \"p\": 28049, \"fpr\": 0.37460138810729693, \"tpr\": 0.9664515669007808, \"n\": 5331}, {\"threshold\": 0.19699999690055847, \"p\": 28049, \"fpr\": 0.37441380604014257, \"tpr\": 0.9664159150058825, \"n\": 5331}, {\"threshold\": 0.1979999989271164, \"p\": 28049, \"fpr\": 0.37422622397298816, \"tpr\": 0.9663446112160862, \"n\": 5331}, {\"threshold\": 0.19900000095367432, \"p\": 28049, \"fpr\": 0.37385105983867944, \"tpr\": 0.9662376555313915, \"n\": 5331}, {\"threshold\": 0.20000000298023224, \"p\": 28049, \"fpr\": 0.3731007315700619, \"tpr\": 0.9662020036364933, \"n\": 5331}, {\"threshold\": 0.20100000500679016, \"p\": 28049, \"fpr\": 0.3725379853685988, \"tpr\": 0.966166351741595, \"n\": 5331}, {\"threshold\": 0.20200000703334808, \"p\": 28049, \"fpr\": 0.37216282123429, \"tpr\": 0.9660950479517987, \"n\": 5331}, {\"threshold\": 0.2029999941587448, \"p\": 28049, \"fpr\": 0.37216282123429, \"tpr\": 0.9660593960569004, \"n\": 5331}, {\"threshold\": 0.20399999618530273, \"p\": 28049, \"fpr\": 0.3716000750328269, \"tpr\": 0.9659167884773076, \"n\": 5331}, {\"threshold\": 0.20499999821186066, \"p\": 28049, \"fpr\": 0.3704745826299006, \"tpr\": 0.9657741808977147, \"n\": 5331}, {\"threshold\": 0.20600000023841858, \"p\": 28049, \"fpr\": 0.3695366722941287, \"tpr\": 0.9657028771079182, \"n\": 5331}, {\"threshold\": 0.2070000022649765, \"p\": 28049, \"fpr\": 0.3691615081598199, \"tpr\": 0.9656672252130201, \"n\": 5331}, {\"threshold\": 0.20800000429153442, \"p\": 28049, \"fpr\": 0.36878634402551114, \"tpr\": 0.9655246176334272, \"n\": 5331}, {\"threshold\": 0.20900000631809235, \"p\": 28049, \"fpr\": 0.36784843368973924, \"tpr\": 0.9654176619487326, \"n\": 5331}, {\"threshold\": 0.20999999344348907, \"p\": 28049, \"fpr\": 0.3665353592196586, \"tpr\": 0.9653463581589361, \"n\": 5331}, {\"threshold\": 0.210999995470047, \"p\": 28049, \"fpr\": 0.36616019508534986, \"tpr\": 0.9652037505793433, \"n\": 5331}, {\"threshold\": 0.21199999749660492, \"p\": 28049, \"fpr\": 0.36597261301819545, \"tpr\": 0.964989839209954, \"n\": 5331}, {\"threshold\": 0.21299999952316284, \"p\": 28049, \"fpr\": 0.3654098668167323, \"tpr\": 0.9649185354201576, \"n\": 5331}, {\"threshold\": 0.21400000154972076, \"p\": 28049, \"fpr\": 0.36503470268242355, \"tpr\": 0.9648115797354629, \"n\": 5331}, {\"threshold\": 0.2150000035762787, \"p\": 28049, \"fpr\": 0.3644719564809604, \"tpr\": 0.9647759278405648, \"n\": 5331}, {\"threshold\": 0.2160000056028366, \"p\": 28049, \"fpr\": 0.3635340461451885, \"tpr\": 0.9647046240507683, \"n\": 5331}, {\"threshold\": 0.21699999272823334, \"p\": 28049, \"fpr\": 0.36315888201087976, \"tpr\": 0.9647046240507683, \"n\": 5331}, {\"threshold\": 0.21799999475479126, \"p\": 28049, \"fpr\": 0.3620333896079535, \"tpr\": 0.9646689721558701, \"n\": 5331}, {\"threshold\": 0.21899999678134918, \"p\": 28049, \"fpr\": 0.36128306133933596, \"tpr\": 0.9645976683660736, \"n\": 5331}, {\"threshold\": 0.2199999988079071, \"p\": 28049, \"fpr\": 0.36034515100356407, \"tpr\": 0.9645620164711755, \"n\": 5331}, {\"threshold\": 0.22100000083446503, \"p\": 28049, \"fpr\": 0.35978240480210094, \"tpr\": 0.9644550607864808, \"n\": 5331}, {\"threshold\": 0.22200000286102295, \"p\": 28049, \"fpr\": 0.35959482273494653, \"tpr\": 0.9644194088915826, \"n\": 5331}, {\"threshold\": 0.22300000488758087, \"p\": 28049, \"fpr\": 0.35921965860063776, \"tpr\": 0.9642411494170915, \"n\": 5331}, {\"threshold\": 0.2240000069141388, \"p\": 28049, \"fpr\": 0.35828174826486586, \"tpr\": 0.9641698456272951, \"n\": 5331}, {\"threshold\": 0.22499999403953552, \"p\": 28049, \"fpr\": 0.3575314199962484, \"tpr\": 0.9640985418374987, \"n\": 5331}, {\"threshold\": 0.22599999606609344, \"p\": 28049, \"fpr\": 0.3569686737947852, \"tpr\": 0.963991586152804, \"n\": 5331}, {\"threshold\": 0.22699999809265137, \"p\": 28049, \"fpr\": 0.35678109172763084, \"tpr\": 0.9637776747834147, \"n\": 5331}, {\"threshold\": 0.2280000001192093, \"p\": 28049, \"fpr\": 0.3562183455261677, \"tpr\": 0.9636707190987202, \"n\": 5331}, {\"threshold\": 0.2290000021457672, \"p\": 28049, \"fpr\": 0.3554680172575502, \"tpr\": 0.9636350672038219, \"n\": 5331}, {\"threshold\": 0.23000000417232513, \"p\": 28049, \"fpr\": 0.3550928531232414, \"tpr\": 0.9635994153089237, \"n\": 5331}, {\"threshold\": 0.23100000619888306, \"p\": 28049, \"fpr\": 0.3543425248546239, \"tpr\": 0.963492459624229, \"n\": 5331}, {\"threshold\": 0.23199999332427979, \"p\": 28049, \"fpr\": 0.353404614518852, \"tpr\": 0.9633498520446362, \"n\": 5331}, {\"threshold\": 0.2329999953508377, \"p\": 28049, \"fpr\": 0.35302945038454325, \"tpr\": 0.9632785482548397, \"n\": 5331}, {\"threshold\": 0.23399999737739563, \"p\": 28049, \"fpr\": 0.3526542862502345, \"tpr\": 0.9632428963599415, \"n\": 5331}, {\"threshold\": 0.23499999940395355, \"p\": 28049, \"fpr\": 0.35246670418308007, \"tpr\": 0.9632428963599415, \"n\": 5331}, {\"threshold\": 0.23600000143051147, \"p\": 28049, \"fpr\": 0.3515287938473082, \"tpr\": 0.9632072444650434, \"n\": 5331}, {\"threshold\": 0.2370000034570694, \"p\": 28049, \"fpr\": 0.35115362971299946, \"tpr\": 0.9631715925701451, \"n\": 5331}, {\"threshold\": 0.23800000548362732, \"p\": 28049, \"fpr\": 0.35021571937722756, \"tpr\": 0.9631359406752469, \"n\": 5331}, {\"threshold\": 0.23899999260902405, \"p\": 28049, \"fpr\": 0.3496529731757644, \"tpr\": 0.9631002887803487, \"n\": 5331}, {\"threshold\": 0.23999999463558197, \"p\": 28049, \"fpr\": 0.34946539110861, \"tpr\": 0.9628507255160612, \"n\": 5331}, {\"threshold\": 0.2409999966621399, \"p\": 28049, \"fpr\": 0.3487150628399925, \"tpr\": 0.9627437698313666, \"n\": 5331}, {\"threshold\": 0.24199999868869781, \"p\": 28049, \"fpr\": 0.3485274807728381, \"tpr\": 0.9626724660415701, \"n\": 5331}, {\"threshold\": 0.24300000071525574, \"p\": 28049, \"fpr\": 0.34815231663852936, \"tpr\": 0.9625298584619773, \"n\": 5331}, {\"threshold\": 0.24400000274181366, \"p\": 28049, \"fpr\": 0.3477771525042206, \"tpr\": 0.9624585546721808, \"n\": 5331}, {\"threshold\": 0.24500000476837158, \"p\": 28049, \"fpr\": 0.3468392421684487, \"tpr\": 0.9623159470925879, \"n\": 5331}, {\"threshold\": 0.2460000067949295, \"p\": 28049, \"fpr\": 0.34608891389983115, \"tpr\": 0.9622089914078933, \"n\": 5331}, {\"threshold\": 0.24699999392032623, \"p\": 28049, \"fpr\": 0.34608891389983115, \"tpr\": 0.9621733395129951, \"n\": 5331}, {\"threshold\": 0.24799999594688416, \"p\": 28049, \"fpr\": 0.34571374976552244, \"tpr\": 0.9621376876180969, \"n\": 5331}, {\"threshold\": 0.24899999797344208, \"p\": 28049, \"fpr\": 0.34533858563121367, \"tpr\": 0.9620663838283005, \"n\": 5331}, {\"threshold\": 0.25, \"p\": 28049, \"fpr\": 0.3449634214969049, \"tpr\": 0.9620307319334023, \"n\": 5331}, {\"threshold\": 0.25099998712539673, \"p\": 28049, \"fpr\": 0.34458825736259613, \"tpr\": 0.9619594281436058, \"n\": 5331}, {\"threshold\": 0.25200000405311584, \"p\": 28049, \"fpr\": 0.34440067529544177, \"tpr\": 0.9618524724589111, \"n\": 5331}, {\"threshold\": 0.2529999911785126, \"p\": 28049, \"fpr\": 0.344025511161133, \"tpr\": 0.9617811686691148, \"n\": 5331}, {\"threshold\": 0.2540000081062317, \"p\": 28049, \"fpr\": 0.34365034702682423, \"tpr\": 0.9617455167742166, \"n\": 5331}, {\"threshold\": 0.2549999952316284, \"p\": 28049, \"fpr\": 0.34327518289251546, \"tpr\": 0.9616742129844201, \"n\": 5331}, {\"threshold\": 0.25600001215934753, \"p\": 28049, \"fpr\": 0.342524854623898, \"tpr\": 0.9616029091946237, \"n\": 5331}, {\"threshold\": 0.25699999928474426, \"p\": 28049, \"fpr\": 0.3421496904895892, \"tpr\": 0.9615672572997255, \"n\": 5331}, {\"threshold\": 0.257999986410141, \"p\": 28049, \"fpr\": 0.3419621084224348, \"tpr\": 0.961495953509929, \"n\": 5331}, {\"threshold\": 0.2590000033378601, \"p\": 28049, \"fpr\": 0.34083661601950854, \"tpr\": 0.9613889978252345, \"n\": 5331}, {\"threshold\": 0.25999999046325684, \"p\": 28049, \"fpr\": 0.34064903395235413, \"tpr\": 0.961317694035438, \"n\": 5331}, {\"threshold\": 0.26100000739097595, \"p\": 28049, \"fpr\": 0.34064903395235413, \"tpr\": 0.9612463902456415, \"n\": 5331}, {\"threshold\": 0.2619999945163727, \"p\": 28049, \"fpr\": 0.3402738698180454, \"tpr\": 0.9612463902456415, \"n\": 5331}, {\"threshold\": 0.2630000114440918, \"p\": 28049, \"fpr\": 0.33971112361658223, \"tpr\": 0.9611750864558452, \"n\": 5331}, {\"threshold\": 0.2639999985694885, \"p\": 28049, \"fpr\": 0.3393359594822735, \"tpr\": 0.9611394345609469, \"n\": 5331}, {\"threshold\": 0.26499998569488525, \"p\": 28049, \"fpr\": 0.33877321328081034, \"tpr\": 0.9611037826660487, \"n\": 5331}, {\"threshold\": 0.26600000262260437, \"p\": 28049, \"fpr\": 0.338585631213656, \"tpr\": 0.9609611750864558, \"n\": 5331}, {\"threshold\": 0.2669999897480011, \"p\": 28049, \"fpr\": 0.3376477208778841, \"tpr\": 0.9609255231915577, \"n\": 5331}, {\"threshold\": 0.2680000066757202, \"p\": 28049, \"fpr\": 0.3372725567435753, \"tpr\": 0.960818567506863, \"n\": 5331}, {\"threshold\": 0.26899999380111694, \"p\": 28049, \"fpr\": 0.33689739260926654, \"tpr\": 0.9607472637170665, \"n\": 5331}, {\"threshold\": 0.27000001072883606, \"p\": 28049, \"fpr\": 0.3367098105421122, \"tpr\": 0.9607472637170665, \"n\": 5331}, {\"threshold\": 0.2709999978542328, \"p\": 28049, \"fpr\": 0.3365222284749578, \"tpr\": 0.9606403080323719, \"n\": 5331}, {\"threshold\": 0.2720000147819519, \"p\": 28049, \"fpr\": 0.3355843181391859, \"tpr\": 0.9606403080323719, \"n\": 5331}, {\"threshold\": 0.27300000190734863, \"p\": 28049, \"fpr\": 0.33502157193772275, \"tpr\": 0.9606046561374737, \"n\": 5331}, {\"threshold\": 0.27399998903274536, \"p\": 28049, \"fpr\": 0.3344588257362596, \"tpr\": 0.9605333523476772, \"n\": 5331}, {\"threshold\": 0.2750000059604645, \"p\": 28049, \"fpr\": 0.3338960795347965, \"tpr\": 0.9603907447680844, \"n\": 5331}, {\"threshold\": 0.2759999930858612, \"p\": 28049, \"fpr\": 0.3335209154004877, \"tpr\": 0.9603550928731862, \"n\": 5331}, {\"threshold\": 0.2770000100135803, \"p\": 28049, \"fpr\": 0.33314575126617896, \"tpr\": 0.9603550928731862, \"n\": 5331}, {\"threshold\": 0.27799999713897705, \"p\": 28049, \"fpr\": 0.3327705871318702, \"tpr\": 0.960319440978288, \"n\": 5331}, {\"threshold\": 0.27900001406669617, \"p\": 28049, \"fpr\": 0.33220784093040706, \"tpr\": 0.9602481371884916, \"n\": 5331}, {\"threshold\": 0.2800000011920929, \"p\": 28049, \"fpr\": 0.33202025886325265, \"tpr\": 0.9602481371884916, \"n\": 5331}, {\"threshold\": 0.2809999883174896, \"p\": 28049, \"fpr\": 0.33164509472894393, \"tpr\": 0.9601411815037969, \"n\": 5331}, {\"threshold\": 0.28200000524520874, \"p\": 28049, \"fpr\": 0.33164509472894393, \"tpr\": 0.9601055296088987, \"n\": 5331}, {\"threshold\": 0.28299999237060547, \"p\": 28049, \"fpr\": 0.33070718439317204, \"tpr\": 0.9599629220293059, \"n\": 5331}, {\"threshold\": 0.2840000092983246, \"p\": 28049, \"fpr\": 0.33033202025886327, \"tpr\": 0.9598559663446112, \"n\": 5331}, {\"threshold\": 0.2849999964237213, \"p\": 28049, \"fpr\": 0.3297692740574001, \"tpr\": 0.9597133587650184, \"n\": 5331}, {\"threshold\": 0.28600001335144043, \"p\": 28049, \"fpr\": 0.32958169199024573, \"tpr\": 0.9596777068701201, \"n\": 5331}, {\"threshold\": 0.28700000047683716, \"p\": 28049, \"fpr\": 0.3290189457887826, \"tpr\": 0.9594994473956291, \"n\": 5331}, {\"threshold\": 0.2879999876022339, \"p\": 28049, \"fpr\": 0.3284561995873195, \"tpr\": 0.9593924917109344, \"n\": 5331}, {\"threshold\": 0.289000004529953, \"p\": 28049, \"fpr\": 0.3280810354530107, \"tpr\": 0.9592855360262398, \"n\": 5331}, {\"threshold\": 0.28999999165534973, \"p\": 28049, \"fpr\": 0.32770587131870194, \"tpr\": 0.959142928446647, \"n\": 5331}, {\"threshold\": 0.29100000858306885, \"p\": 28049, \"fpr\": 0.3271431251172388, \"tpr\": 0.9590716246568505, \"n\": 5331}, {\"threshold\": 0.2919999957084656, \"p\": 28049, \"fpr\": 0.32676796098293004, \"tpr\": 0.9589646689721558, \"n\": 5331}, {\"threshold\": 0.2930000126361847, \"p\": 28049, \"fpr\": 0.3262052147814669, \"tpr\": 0.9588933651823595, \"n\": 5331}, {\"threshold\": 0.2939999997615814, \"p\": 28049, \"fpr\": 0.3262052147814669, \"tpr\": 0.9587507576027666, \"n\": 5331}, {\"threshold\": 0.29499998688697815, \"p\": 28049, \"fpr\": 0.3260176327143125, \"tpr\": 0.958643801918072, \"n\": 5331}, {\"threshold\": 0.29600000381469727, \"p\": 28049, \"fpr\": 0.3254548865128494, \"tpr\": 0.9586081500231737, \"n\": 5331}, {\"threshold\": 0.296999990940094, \"p\": 28049, \"fpr\": 0.32470455824423183, \"tpr\": 0.9584298905486827, \"n\": 5331}, {\"threshold\": 0.2980000078678131, \"p\": 28049, \"fpr\": 0.3245169761770775, \"tpr\": 0.958322934863988, \"n\": 5331}, {\"threshold\": 0.29899999499320984, \"p\": 28049, \"fpr\": 0.32395422997561435, \"tpr\": 0.9582872829690898, \"n\": 5331}, {\"threshold\": 0.30000001192092896, \"p\": 28049, \"fpr\": 0.32376664790845994, \"tpr\": 0.958144675389497, \"n\": 5331}, {\"threshold\": 0.3009999990463257, \"p\": 28049, \"fpr\": 0.32301631963984245, \"tpr\": 0.9581090234945987, \"n\": 5331}, {\"threshold\": 0.3019999861717224, \"p\": 28049, \"fpr\": 0.32282873757268804, \"tpr\": 0.958002067809904, \"n\": 5331}, {\"threshold\": 0.30300000309944153, \"p\": 28049, \"fpr\": 0.3222659913712249, \"tpr\": 0.958002067809904, \"n\": 5331}, {\"threshold\": 0.30399999022483826, \"p\": 28049, \"fpr\": 0.3217032451697618, \"tpr\": 0.9579307640201077, \"n\": 5331}, {\"threshold\": 0.3050000071525574, \"p\": 28049, \"fpr\": 0.3211404989682986, \"tpr\": 0.9578594602303112, \"n\": 5331}, {\"threshold\": 0.3059999942779541, \"p\": 28049, \"fpr\": 0.3205777527668355, \"tpr\": 0.9577525045456166, \"n\": 5331}, {\"threshold\": 0.3070000112056732, \"p\": 28049, \"fpr\": 0.3205777527668355, \"tpr\": 0.9576812007558202, \"n\": 5331}, {\"threshold\": 0.30799999833106995, \"p\": 28049, \"fpr\": 0.3202025886325267, \"tpr\": 0.9576812007558202, \"n\": 5331}, {\"threshold\": 0.3089999854564667, \"p\": 28049, \"fpr\": 0.3192646782967548, \"tpr\": 0.957645548860922, \"n\": 5331}, {\"threshold\": 0.3100000023841858, \"p\": 28049, \"fpr\": 0.31907709622960045, \"tpr\": 0.9574316374915327, \"n\": 5331}, {\"threshold\": 0.3109999895095825, \"p\": 28049, \"fpr\": 0.3183267679609829, \"tpr\": 0.9574316374915327, \"n\": 5331}, {\"threshold\": 0.31200000643730164, \"p\": 28049, \"fpr\": 0.31813918589382856, \"tpr\": 0.957324681806838, \"n\": 5331}, {\"threshold\": 0.31299999356269836, \"p\": 28049, \"fpr\": 0.3177640217595198, \"tpr\": 0.9572177261221434, \"n\": 5331}, {\"threshold\": 0.3140000104904175, \"p\": 28049, \"fpr\": 0.31720127555805666, \"tpr\": 0.9572177261221434, \"n\": 5331}, {\"threshold\": 0.3149999976158142, \"p\": 28049, \"fpr\": 0.31607578315513035, \"tpr\": 0.9571464223323469, \"n\": 5331}, {\"threshold\": 0.3160000145435333, \"p\": 28049, \"fpr\": 0.3157006190208216, \"tpr\": 0.9569681628578559, \"n\": 5331}, {\"threshold\": 0.31700000166893005, \"p\": 28049, \"fpr\": 0.3149502907522041, \"tpr\": 0.9568255552782631, \"n\": 5331}, {\"threshold\": 0.3179999887943268, \"p\": 28049, \"fpr\": 0.3147627086850497, \"tpr\": 0.9567542514884666, \"n\": 5331}, {\"threshold\": 0.3190000057220459, \"p\": 28049, \"fpr\": 0.31438754455074097, \"tpr\": 0.956647295803772, \"n\": 5331}, {\"threshold\": 0.3199999928474426, \"p\": 28049, \"fpr\": 0.31419996248358656, \"tpr\": 0.9566116439088738, \"n\": 5331}, {\"threshold\": 0.32100000977516174, \"p\": 28049, \"fpr\": 0.3140123804164322, \"tpr\": 0.9564690363292809, \"n\": 5331}, {\"threshold\": 0.32199999690055847, \"p\": 28049, \"fpr\": 0.31363721628212343, \"tpr\": 0.9562551249598916, \"n\": 5331}, {\"threshold\": 0.3230000138282776, \"p\": 28049, \"fpr\": 0.3134496342149691, \"tpr\": 0.9562551249598916, \"n\": 5331}, {\"threshold\": 0.3240000009536743, \"p\": 28049, \"fpr\": 0.31326205214781466, \"tpr\": 0.9561838211700951, \"n\": 5331}, {\"threshold\": 0.32499998807907104, \"p\": 28049, \"fpr\": 0.3128868880135059, \"tpr\": 0.9561125173802988, \"n\": 5331}, {\"threshold\": 0.32600000500679016, \"p\": 28049, \"fpr\": 0.3125117238791971, \"tpr\": 0.9560055616956041, \"n\": 5331}, {\"threshold\": 0.3269999921321869, \"p\": 28049, \"fpr\": 0.3121365597448884, \"tpr\": 0.955969909800706, \"n\": 5331}, {\"threshold\": 0.328000009059906, \"p\": 28049, \"fpr\": 0.3110110673419621, \"tpr\": 0.9558986060109095, \"n\": 5331}, {\"threshold\": 0.32899999618530273, \"p\": 28049, \"fpr\": 0.3102607390733446, \"tpr\": 0.9558629541160113, \"n\": 5331}, {\"threshold\": 0.33000001311302185, \"p\": 28049, \"fpr\": 0.3095104108047271, \"tpr\": 0.955827302221113, \"n\": 5331}, {\"threshold\": 0.3310000002384186, \"p\": 28049, \"fpr\": 0.3091352466704183, \"tpr\": 0.9557916503262148, \"n\": 5331}, {\"threshold\": 0.3319999873638153, \"p\": 28049, \"fpr\": 0.30894766460326395, \"tpr\": 0.9556846946415202, \"n\": 5331}, {\"threshold\": 0.3330000042915344, \"p\": 28049, \"fpr\": 0.30876008253610954, \"tpr\": 0.9556133908517238, \"n\": 5331}, {\"threshold\": 0.33399999141693115, \"p\": 28049, \"fpr\": 0.30782217220033764, \"tpr\": 0.9556133908517238, \"n\": 5331}, {\"threshold\": 0.33500000834465027, \"p\": 28049, \"fpr\": 0.30744700806602887, \"tpr\": 0.9555777389568255, \"n\": 5331}, {\"threshold\": 0.335999995470047, \"p\": 28049, \"fpr\": 0.3070718439317201, \"tpr\": 0.9555420870619273, \"n\": 5331}, {\"threshold\": 0.3370000123977661, \"p\": 28049, \"fpr\": 0.3066966797974114, \"tpr\": 0.9553994794823345, \"n\": 5331}, {\"threshold\": 0.33799999952316284, \"p\": 28049, \"fpr\": 0.3063215156631026, \"tpr\": 0.9552568719027417, \"n\": 5331}, {\"threshold\": 0.33899998664855957, \"p\": 28049, \"fpr\": 0.30594635152879385, \"tpr\": 0.9552212200078434, \"n\": 5331}, {\"threshold\": 0.3400000035762787, \"p\": 28049, \"fpr\": 0.30500844119302195, \"tpr\": 0.9550786124282505, \"n\": 5331}, {\"threshold\": 0.3409999907016754, \"p\": 28049, \"fpr\": 0.3048208591258676, \"tpr\": 0.9550073086384542, \"n\": 5331}, {\"threshold\": 0.34200000762939453, \"p\": 28049, \"fpr\": 0.30407053085725005, \"tpr\": 0.9548647010588612, \"n\": 5331}, {\"threshold\": 0.34299999475479126, \"p\": 28049, \"fpr\": 0.30407053085725005, \"tpr\": 0.9547577453741667, \"n\": 5331}, {\"threshold\": 0.3440000116825104, \"p\": 28049, \"fpr\": 0.30388294879009564, \"tpr\": 0.9545438340047774, \"n\": 5331}, {\"threshold\": 0.3449999988079071, \"p\": 28049, \"fpr\": 0.3033202025886325, \"tpr\": 0.9544725302149809, \"n\": 5331}, {\"threshold\": 0.34599998593330383, \"p\": 28049, \"fpr\": 0.30313262052147816, \"tpr\": 0.9544368783200827, \"n\": 5331}, {\"threshold\": 0.34700000286102295, \"p\": 28049, \"fpr\": 0.3023822922528606, \"tpr\": 0.9542942707404899, \"n\": 5331}, {\"threshold\": 0.3479999899864197, \"p\": 28049, \"fpr\": 0.30219471018570626, \"tpr\": 0.9542586188455916, \"n\": 5331}, {\"threshold\": 0.3490000069141388, \"p\": 28049, \"fpr\": 0.30200712811855185, \"tpr\": 0.9541516631608971, \"n\": 5331}, {\"threshold\": 0.3499999940395355, \"p\": 28049, \"fpr\": 0.30200712811855185, \"tpr\": 0.9540803593711006, \"n\": 5331}, {\"threshold\": 0.35100001096725464, \"p\": 28049, \"fpr\": 0.30106921778277995, \"tpr\": 0.9540090555813041, \"n\": 5331}, {\"threshold\": 0.35199999809265137, \"p\": 28049, \"fpr\": 0.3008816357156256, \"tpr\": 0.9539734036864059, \"n\": 5331}, {\"threshold\": 0.3529999852180481, \"p\": 28049, \"fpr\": 0.30031888951416247, \"tpr\": 0.9538664480017113, \"n\": 5331}, {\"threshold\": 0.3540000021457672, \"p\": 28049, \"fpr\": 0.30013130744700806, \"tpr\": 0.9537951442119149, \"n\": 5331}, {\"threshold\": 0.35499998927116394, \"p\": 28049, \"fpr\": 0.30013130744700806, \"tpr\": 0.953652536632322, \"n\": 5331}, {\"threshold\": 0.35600000619888306, \"p\": 28049, \"fpr\": 0.2999437253798537, \"tpr\": 0.953652536632322, \"n\": 5331}, {\"threshold\": 0.3569999933242798, \"p\": 28049, \"fpr\": 0.29938097917839057, \"tpr\": 0.9535455809476273, \"n\": 5331}, {\"threshold\": 0.3580000102519989, \"p\": 28049, \"fpr\": 0.29919339711123616, \"tpr\": 0.953474277157831, \"n\": 5331}, {\"threshold\": 0.35899999737739563, \"p\": 28049, \"fpr\": 0.29919339711123616, \"tpr\": 0.9533673214731363, \"n\": 5331}, {\"threshold\": 0.36000001430511475, \"p\": 28049, \"fpr\": 0.2984430688426186, \"tpr\": 0.9533316695782381, \"n\": 5331}, {\"threshold\": 0.3610000014305115, \"p\": 28049, \"fpr\": 0.29825548677546426, \"tpr\": 0.9532247138935435, \"n\": 5331}, {\"threshold\": 0.3619999885559082, \"p\": 28049, \"fpr\": 0.2980679047083099, \"tpr\": 0.953153410103747, \"n\": 5331}, {\"threshold\": 0.3630000054836273, \"p\": 28049, \"fpr\": 0.29769274057400114, \"tpr\": 0.9530464544190523, \"n\": 5331}, {\"threshold\": 0.36399999260902405, \"p\": 28049, \"fpr\": 0.29769274057400114, \"tpr\": 0.9530108025241542, \"n\": 5331}, {\"threshold\": 0.36500000953674316, \"p\": 28049, \"fpr\": 0.29731757643969237, \"tpr\": 0.9529394987343577, \"n\": 5331}, {\"threshold\": 0.3659999966621399, \"p\": 28049, \"fpr\": 0.2969424123053836, \"tpr\": 0.9528681949445613, \"n\": 5331}, {\"threshold\": 0.367000013589859, \"p\": 28049, \"fpr\": 0.2965672481710748, \"tpr\": 0.9528325430496631, \"n\": 5331}, {\"threshold\": 0.36800000071525574, \"p\": 28049, \"fpr\": 0.2965672481710748, \"tpr\": 0.952654283575172, \"n\": 5331}, {\"threshold\": 0.36899998784065247, \"p\": 28049, \"fpr\": 0.2965672481710748, \"tpr\": 0.952476024100681, \"n\": 5331}, {\"threshold\": 0.3700000047683716, \"p\": 28049, \"fpr\": 0.29637966610392047, \"tpr\": 0.9524403722057827, \"n\": 5331}, {\"threshold\": 0.3709999918937683, \"p\": 28049, \"fpr\": 0.29637966610392047, \"tpr\": 0.952333416521088, \"n\": 5331}, {\"threshold\": 0.3720000088214874, \"p\": 28049, \"fpr\": 0.2961920840367661, \"tpr\": 0.9522621127312917, \"n\": 5331}, {\"threshold\": 0.37299999594688416, \"p\": 28049, \"fpr\": 0.29562933783530293, \"tpr\": 0.9522621127312917, \"n\": 5331}, {\"threshold\": 0.37400001287460327, \"p\": 28049, \"fpr\": 0.29525417370099416, \"tpr\": 0.9522264608363935, \"n\": 5331}, {\"threshold\": 0.375, \"p\": 28049, \"fpr\": 0.2950665916338398, \"tpr\": 0.9521195051516989, \"n\": 5331}, {\"threshold\": 0.37599998712539673, \"p\": 28049, \"fpr\": 0.2945038454323767, \"tpr\": 0.9520838532568006, \"n\": 5331}, {\"threshold\": 0.37700000405311584, \"p\": 28049, \"fpr\": 0.29431626336522226, \"tpr\": 0.9520125494670042, \"n\": 5331}, {\"threshold\": 0.3779999911785126, \"p\": 28049, \"fpr\": 0.29394109923091355, \"tpr\": 0.9516916824129202, \"n\": 5331}, {\"threshold\": 0.3790000081062317, \"p\": 28049, \"fpr\": 0.29337835302945037, \"tpr\": 0.9516560305180221, \"n\": 5331}, {\"threshold\": 0.3799999952316284, \"p\": 28049, \"fpr\": 0.293190770962296, \"tpr\": 0.9514777710435309, \"n\": 5331}, {\"threshold\": 0.38100001215934753, \"p\": 28049, \"fpr\": 0.2926280247608329, \"tpr\": 0.9514064672537346, \"n\": 5331}, {\"threshold\": 0.38199999928474426, \"p\": 28049, \"fpr\": 0.29187769649221534, \"tpr\": 0.9513351634639381, \"n\": 5331}, {\"threshold\": 0.382999986410141, \"p\": 28049, \"fpr\": 0.291690114425061, \"tpr\": 0.9511925558843453, \"n\": 5331}, {\"threshold\": 0.3840000033378601, \"p\": 28049, \"fpr\": 0.2915025323579066, \"tpr\": 0.9510856001996506, \"n\": 5331}, {\"threshold\": 0.38499999046325684, \"p\": 28049, \"fpr\": 0.2915025323579066, \"tpr\": 0.950978644514956, \"n\": 5331}, {\"threshold\": 0.38600000739097595, \"p\": 28049, \"fpr\": 0.2903770399549803, \"tpr\": 0.9509429926200578, \"n\": 5331}, {\"threshold\": 0.3869999945163727, \"p\": 28049, \"fpr\": 0.29000187582067155, \"tpr\": 0.9509073407251596, \"n\": 5331}, {\"threshold\": 0.3880000114440918, \"p\": 28049, \"fpr\": 0.28906396548489965, \"tpr\": 0.9507647331455666, \"n\": 5331}, {\"threshold\": 0.3889999985694885, \"p\": 28049, \"fpr\": 0.2883136372162821, \"tpr\": 0.9506221255659738, \"n\": 5331}, {\"threshold\": 0.38999998569488525, \"p\": 28049, \"fpr\": 0.28812605514912776, \"tpr\": 0.9505508217761774, \"n\": 5331}, {\"threshold\": 0.39100000262260437, \"p\": 28049, \"fpr\": 0.28756330894766463, \"tpr\": 0.950479517986381, \"n\": 5331}, {\"threshold\": 0.3919999897480011, \"p\": 28049, \"fpr\": 0.28718814481335586, \"tpr\": 0.9503725623016863, \"n\": 5331}, {\"threshold\": 0.3930000066757202, \"p\": 28049, \"fpr\": 0.2864378165447383, \"tpr\": 0.950158650932297, \"n\": 5331}, {\"threshold\": 0.39399999380111694, \"p\": 28049, \"fpr\": 0.28606265241042955, \"tpr\": 0.9501229990373988, \"n\": 5331}, {\"threshold\": 0.39500001072883606, \"p\": 28049, \"fpr\": 0.2858750703432752, \"tpr\": 0.949980391457806, \"n\": 5331}, {\"threshold\": 0.3959999978542328, \"p\": 28049, \"fpr\": 0.2854999062089664, \"tpr\": 0.9499090876680095, \"n\": 5331}, {\"threshold\": 0.3970000147819519, \"p\": 28049, \"fpr\": 0.2849371600075033, \"tpr\": 0.9498021319833149, \"n\": 5331}, {\"threshold\": 0.39800000190734863, \"p\": 28049, \"fpr\": 0.28456199587319453, \"tpr\": 0.9498021319833149, \"n\": 5331}, {\"threshold\": 0.39899998903274536, \"p\": 28049, \"fpr\": 0.28456199587319453, \"tpr\": 0.9497308281935185, \"n\": 5331}, {\"threshold\": 0.4000000059604645, \"p\": 28049, \"fpr\": 0.2839992496717314, \"tpr\": 0.9496238725088239, \"n\": 5331}, {\"threshold\": 0.4009999930858612, \"p\": 28049, \"fpr\": 0.2830613393359595, \"tpr\": 0.9495525687190274, \"n\": 5331}, {\"threshold\": 0.4020000100135803, \"p\": 28049, \"fpr\": 0.2824985931344963, \"tpr\": 0.9493743092445364, \"n\": 5331}, {\"threshold\": 0.40299999713897705, \"p\": 28049, \"fpr\": 0.2819358469330332, \"tpr\": 0.9493030054547399, \"n\": 5331}, {\"threshold\": 0.40400001406669617, \"p\": 28049, \"fpr\": 0.2819358469330332, \"tpr\": 0.9492673535598417, \"n\": 5331}, {\"threshold\": 0.4050000011920929, \"p\": 28049, \"fpr\": 0.2819358469330332, \"tpr\": 0.9492673535598417, \"n\": 5331}, {\"threshold\": 0.4059999883174896, \"p\": 28049, \"fpr\": 0.28174826486587884, \"tpr\": 0.9492317016649435, \"n\": 5331}, {\"threshold\": 0.40700000524520874, \"p\": 28049, \"fpr\": 0.2815606827987244, \"tpr\": 0.9492317016649435, \"n\": 5331}, {\"threshold\": 0.40799999237060547, \"p\": 28049, \"fpr\": 0.2809979365972613, \"tpr\": 0.9491247459802489, \"n\": 5331}, {\"threshold\": 0.4090000092983246, \"p\": 28049, \"fpr\": 0.28062277246295253, \"tpr\": 0.9490534421904524, \"n\": 5331}, {\"threshold\": 0.4099999964237213, \"p\": 28049, \"fpr\": 0.2804351903957982, \"tpr\": 0.9490534421904524, \"n\": 5331}, {\"threshold\": 0.41100001335144043, \"p\": 28049, \"fpr\": 0.28024760832864376, \"tpr\": 0.9488395308210631, \"n\": 5331}, {\"threshold\": 0.41200000047683716, \"p\": 28049, \"fpr\": 0.27968486212718063, \"tpr\": 0.9488038789261649, \"n\": 5331}, {\"threshold\": 0.4129999876022339, \"p\": 28049, \"fpr\": 0.27930969799287186, \"tpr\": 0.9488038789261649, \"n\": 5331}, {\"threshold\": 0.414000004529953, \"p\": 28049, \"fpr\": 0.27874695179140874, \"tpr\": 0.9487325751363685, \"n\": 5331}, {\"threshold\": 0.41499999165534973, \"p\": 28049, \"fpr\": 0.27874695179140874, \"tpr\": 0.9486969232414703, \"n\": 5331}, {\"threshold\": 0.41600000858306885, \"p\": 28049, \"fpr\": 0.27837178765709997, \"tpr\": 0.9486256194516739, \"n\": 5331}, {\"threshold\": 0.4169999957084656, \"p\": 28049, \"fpr\": 0.27780904145563684, \"tpr\": 0.9485899675567756, \"n\": 5331}, {\"threshold\": 0.4180000126361847, \"p\": 28049, \"fpr\": 0.27780904145563684, \"tpr\": 0.948483011872081, \"n\": 5331}, {\"threshold\": 0.4189999997615814, \"p\": 28049, \"fpr\": 0.27743387732132807, \"tpr\": 0.9483760561873864, \"n\": 5331}, {\"threshold\": 0.41999998688697815, \"p\": 28049, \"fpr\": 0.27743387732132807, \"tpr\": 0.9483404042924881, \"n\": 5331}, {\"threshold\": 0.42100000381469727, \"p\": 28049, \"fpr\": 0.2770587131870193, \"tpr\": 0.9482334486077935, \"n\": 5331}, {\"threshold\": 0.421999990940094, \"p\": 28049, \"fpr\": 0.27687113111986494, \"tpr\": 0.9481264929230989, \"n\": 5331}, {\"threshold\": 0.4230000078678131, \"p\": 28049, \"fpr\": 0.2766835490527106, \"tpr\": 0.947983885343506, \"n\": 5331}, {\"threshold\": 0.42399999499320984, \"p\": 28049, \"fpr\": 0.2766835490527106, \"tpr\": 0.9478769296588113, \"n\": 5331}, {\"threshold\": 0.42500001192092896, \"p\": 28049, \"fpr\": 0.2764959669855562, \"tpr\": 0.9478412777639131, \"n\": 5331}, {\"threshold\": 0.4259999990463257, \"p\": 28049, \"fpr\": 0.27593322078409305, \"tpr\": 0.9478412777639131, \"n\": 5331}, {\"threshold\": 0.4269999861717224, \"p\": 28049, \"fpr\": 0.2753704745826299, \"tpr\": 0.947805625869015, \"n\": 5331}, {\"threshold\": 0.42800000309944153, \"p\": 28049, \"fpr\": 0.274432564246858, \"tpr\": 0.9475917144996256, \"n\": 5331}, {\"threshold\": 0.42899999022483826, \"p\": 28049, \"fpr\": 0.27386981804539484, \"tpr\": 0.9474491069200328, \"n\": 5331}, {\"threshold\": 0.4300000071525574, \"p\": 28049, \"fpr\": 0.2733070718439317, \"tpr\": 0.9473421512353382, \"n\": 5331}, {\"threshold\": 0.4309999942779541, \"p\": 28049, \"fpr\": 0.27293190770962295, \"tpr\": 0.9472708474455417, \"n\": 5331}, {\"threshold\": 0.4320000112056732, \"p\": 28049, \"fpr\": 0.27218157944100546, \"tpr\": 0.9471995436557453, \"n\": 5331}, {\"threshold\": 0.43299999833106995, \"p\": 28049, \"fpr\": 0.2718064153066967, \"tpr\": 0.9470925879710507, \"n\": 5331}, {\"threshold\": 0.4339999854564667, \"p\": 28049, \"fpr\": 0.2716188332395423, \"tpr\": 0.9470569360761525, \"n\": 5331}, {\"threshold\": 0.4350000023841858, \"p\": 28049, \"fpr\": 0.27124366910523356, \"tpr\": 0.9470569360761525, \"n\": 5331}, {\"threshold\": 0.4359999895095825, \"p\": 28049, \"fpr\": 0.27124366910523356, \"tpr\": 0.9469499803914578, \"n\": 5331}, {\"threshold\": 0.43700000643730164, \"p\": 28049, \"fpr\": 0.2708685049709248, \"tpr\": 0.9468430247067632, \"n\": 5331}, {\"threshold\": 0.43799999356269836, \"p\": 28049, \"fpr\": 0.2703057587694616, \"tpr\": 0.946807372811865, \"n\": 5331}, {\"threshold\": 0.4390000104904175, \"p\": 28049, \"fpr\": 0.2703057587694616, \"tpr\": 0.9467717209169667, \"n\": 5331}, {\"threshold\": 0.4399999976158142, \"p\": 28049, \"fpr\": 0.2697430125679985, \"tpr\": 0.9466291133373739, \"n\": 5331}, {\"threshold\": 0.4410000145435333, \"p\": 28049, \"fpr\": 0.2697430125679985, \"tpr\": 0.9465221576526792, \"n\": 5331}, {\"threshold\": 0.44200000166893005, \"p\": 28049, \"fpr\": 0.26955543050084413, \"tpr\": 0.9463795500730864, \"n\": 5331}, {\"threshold\": 0.4429999887943268, \"p\": 28049, \"fpr\": 0.2693678484336897, \"tpr\": 0.9463438981781882, \"n\": 5331}, {\"threshold\": 0.4440000057220459, \"p\": 28049, \"fpr\": 0.26861752016507223, \"tpr\": 0.9463082462832899, \"n\": 5331}, {\"threshold\": 0.4449999928474426, \"p\": 28049, \"fpr\": 0.2680547739636091, \"tpr\": 0.9462725943883917, \"n\": 5331}, {\"threshold\": 0.44600000977516174, \"p\": 28049, \"fpr\": 0.26767960982930034, \"tpr\": 0.9461656387036971, \"n\": 5331}, {\"threshold\": 0.44699999690055847, \"p\": 28049, \"fpr\": 0.26730444569499157, \"tpr\": 0.9461299868087989, \"n\": 5331}, {\"threshold\": 0.4480000138282776, \"p\": 28049, \"fpr\": 0.26711686362783715, \"tpr\": 0.9459517273343078, \"n\": 5331}, {\"threshold\": 0.4490000009536743, \"p\": 28049, \"fpr\": 0.2669292815606828, \"tpr\": 0.9458091197547149, \"n\": 5331}, {\"threshold\": 0.44999998807907104, \"p\": 28049, \"fpr\": 0.26636653535921967, \"tpr\": 0.9457378159649186, \"n\": 5331}, {\"threshold\": 0.45100000500679016, \"p\": 28049, \"fpr\": 0.26561620709060213, \"tpr\": 0.9456308602802239, \"n\": 5331}, {\"threshold\": 0.4519999921321869, \"p\": 28049, \"fpr\": 0.26561620709060213, \"tpr\": 0.9454882527006311, \"n\": 5331}, {\"threshold\": 0.453000009059906, \"p\": 28049, \"fpr\": 0.265053460889139, \"tpr\": 0.9454169489108346, \"n\": 5331}, {\"threshold\": 0.45399999618530273, \"p\": 28049, \"fpr\": 0.265053460889139, \"tpr\": 0.9453456451210381, \"n\": 5331}, {\"threshold\": 0.45500001311302185, \"p\": 28049, \"fpr\": 0.2648658788219846, \"tpr\": 0.9452743413312418, \"n\": 5331}, {\"threshold\": 0.4560000002384186, \"p\": 28049, \"fpr\": 0.26467829675483023, \"tpr\": 0.9451673856465471, \"n\": 5331}, {\"threshold\": 0.4569999873638153, \"p\": 28049, \"fpr\": 0.2644907146876759, \"tpr\": 0.9449534742771578, \"n\": 5331}, {\"threshold\": 0.4580000042915344, \"p\": 28049, \"fpr\": 0.26430313262052146, \"tpr\": 0.9447752148026668, \"n\": 5331}, {\"threshold\": 0.45899999141693115, \"p\": 28049, \"fpr\": 0.26430313262052146, \"tpr\": 0.9446682591179721, \"n\": 5331}, {\"threshold\": 0.46000000834465027, \"p\": 28049, \"fpr\": 0.2639279684862127, \"tpr\": 0.944489999643481, \"n\": 5331}, {\"threshold\": 0.460999995470047, \"p\": 28049, \"fpr\": 0.26374038641905834, \"tpr\": 0.9444186958536847, \"n\": 5331}, {\"threshold\": 0.4620000123977661, \"p\": 28049, \"fpr\": 0.2631776402175952, \"tpr\": 0.9441691325893972, \"n\": 5331}, {\"threshold\": 0.46299999952316284, \"p\": 28049, \"fpr\": 0.26280247608328644, \"tpr\": 0.9440978287996007, \"n\": 5331}, {\"threshold\": 0.46399998664855957, \"p\": 28049, \"fpr\": 0.2626148940161321, \"tpr\": 0.9440265250098042, \"n\": 5331}, {\"threshold\": 0.4650000035762787, \"p\": 28049, \"fpr\": 0.26242731194897767, \"tpr\": 0.9438839174302114, \"n\": 5331}, {\"threshold\": 0.4659999907016754, \"p\": 28049, \"fpr\": 0.2622397298818233, \"tpr\": 0.9438482655353132, \"n\": 5331}, {\"threshold\": 0.46700000762939453, \"p\": 28049, \"fpr\": 0.26186456574751454, \"tpr\": 0.9437769617455167, \"n\": 5331}, {\"threshold\": 0.46799999475479126, \"p\": 28049, \"fpr\": 0.26167698368036013, \"tpr\": 0.9435987022710257, \"n\": 5331}, {\"threshold\": 0.4690000116825104, \"p\": 28049, \"fpr\": 0.26092665541174265, \"tpr\": 0.9435630503761275, \"n\": 5331}, {\"threshold\": 0.4699999988079071, \"p\": 28049, \"fpr\": 0.2601763271431251, \"tpr\": 0.9435630503761275, \"n\": 5331}, {\"threshold\": 0.47099998593330383, \"p\": 28049, \"fpr\": 0.2601763271431251, \"tpr\": 0.9435273984812292, \"n\": 5331}, {\"threshold\": 0.47200000286102295, \"p\": 28049, \"fpr\": 0.259613580941662, \"tpr\": 0.94331348711184, \"n\": 5331}, {\"threshold\": 0.4729999899864197, \"p\": 28049, \"fpr\": 0.2594259988745076, \"tpr\": 0.9431708795322471, \"n\": 5331}, {\"threshold\": 0.4740000069141388, \"p\": 28049, \"fpr\": 0.25848808853873567, \"tpr\": 0.9430995757424507, \"n\": 5331}, {\"threshold\": 0.4749999940395355, \"p\": 28049, \"fpr\": 0.2583005064715813, \"tpr\": 0.9430639238475524, \"n\": 5331}, {\"threshold\": 0.47600001096725464, \"p\": 28049, \"fpr\": 0.2583005064715813, \"tpr\": 0.9428856643730614, \"n\": 5331}, {\"threshold\": 0.47699999809265137, \"p\": 28049, \"fpr\": 0.25811292440442696, \"tpr\": 0.9427787086883668, \"n\": 5331}, {\"threshold\": 0.4779999852180481, \"p\": 28049, \"fpr\": 0.2573625961358094, \"tpr\": 0.9427074048985704, \"n\": 5331}, {\"threshold\": 0.4790000021457672, \"p\": 28049, \"fpr\": 0.2573625961358094, \"tpr\": 0.9426361011087739, \"n\": 5331}, {\"threshold\": 0.47999998927116394, \"p\": 28049, \"fpr\": 0.25698743200150065, \"tpr\": 0.9424578416342828, \"n\": 5331}, {\"threshold\": 0.48100000619888306, \"p\": 28049, \"fpr\": 0.2564246858000375, \"tpr\": 0.9423508859495883, \"n\": 5331}, {\"threshold\": 0.4819999933242798, \"p\": 28049, \"fpr\": 0.25567435753142, \"tpr\": 0.9422795821597918, \"n\": 5331}, {\"threshold\": 0.4830000102519989, \"p\": 28049, \"fpr\": 0.2554867754642656, \"tpr\": 0.9422082783699953, \"n\": 5331}, {\"threshold\": 0.48399999737739563, \"p\": 28049, \"fpr\": 0.25511161132995686, \"tpr\": 0.9419587151057078, \"n\": 5331}, {\"threshold\": 0.48500001430511475, \"p\": 28049, \"fpr\": 0.2547364471956481, \"tpr\": 0.9418874113159115, \"n\": 5331}, {\"threshold\": 0.4860000014305115, \"p\": 28049, \"fpr\": 0.2547364471956481, \"tpr\": 0.9417804556312168, \"n\": 5331}, {\"threshold\": 0.4869999885559082, \"p\": 28049, \"fpr\": 0.25454886512849373, \"tpr\": 0.9416021961567257, \"n\": 5331}, {\"threshold\": 0.4880000054836273, \"p\": 28049, \"fpr\": 0.2539861189270306, \"tpr\": 0.9415308923669293, \"n\": 5331}, {\"threshold\": 0.48899999260902405, \"p\": 28049, \"fpr\": 0.2539861189270306, \"tpr\": 0.9414239366822347, \"n\": 5331}, {\"threshold\": 0.49000000953674316, \"p\": 28049, \"fpr\": 0.25323579065841306, \"tpr\": 0.9413526328924382, \"n\": 5331}, {\"threshold\": 0.4909999966621399, \"p\": 28049, \"fpr\": 0.2528606265241043, \"tpr\": 0.94131698099754, \"n\": 5331}, {\"threshold\": 0.492000013589859, \"p\": 28049, \"fpr\": 0.25267304445694994, \"tpr\": 0.9412100253128454, \"n\": 5331}, {\"threshold\": 0.49300000071525574, \"p\": 28049, \"fpr\": 0.25267304445694994, \"tpr\": 0.941138721523049, \"n\": 5331}, {\"threshold\": 0.49399998784065247, \"p\": 28049, \"fpr\": 0.25267304445694994, \"tpr\": 0.9409961139434561, \"n\": 5331}, {\"threshold\": 0.4950000047683716, \"p\": 28049, \"fpr\": 0.2524854623897955, \"tpr\": 0.9408535063638632, \"n\": 5331}, {\"threshold\": 0.4959999918937683, \"p\": 28049, \"fpr\": 0.2524854623897955, \"tpr\": 0.9406752468893722, \"n\": 5331}, {\"threshold\": 0.4970000088214874, \"p\": 28049, \"fpr\": 0.25229788032264117, \"tpr\": 0.9404969874148811, \"n\": 5331}, {\"threshold\": 0.49799999594688416, \"p\": 28049, \"fpr\": 0.25211029825548675, \"tpr\": 0.9403543798352882, \"n\": 5331}, {\"threshold\": 0.49900001287460327, \"p\": 28049, \"fpr\": 0.25211029825548675, \"tpr\": 0.9401761203607972, \"n\": 5331}, {\"threshold\": 0.5, \"p\": 28049, \"fpr\": 0.2515475520540236, \"tpr\": 0.9399622089914079, \"n\": 5331}, {\"threshold\": 0.5009999871253967, \"p\": 28049, \"fpr\": 0.25117238791971486, \"tpr\": 0.9398196014118151, \"n\": 5331}, {\"threshold\": 0.5019999742507935, \"p\": 28049, \"fpr\": 0.25079722378540614, \"tpr\": 0.9397839495169168, \"n\": 5331}, {\"threshold\": 0.503000020980835, \"p\": 28049, \"fpr\": 0.25023447758394296, \"tpr\": 0.9396769938322221, \"n\": 5331}, {\"threshold\": 0.5040000081062317, \"p\": 28049, \"fpr\": 0.24985931344963422, \"tpr\": 0.9395343862526293, \"n\": 5331}, {\"threshold\": 0.5049999952316284, \"p\": 28049, \"fpr\": 0.24985931344963422, \"tpr\": 0.9393917786730365, \"n\": 5331}, {\"threshold\": 0.5059999823570251, \"p\": 28049, \"fpr\": 0.2491089851810167, \"tpr\": 0.9392848229883418, \"n\": 5331}, {\"threshold\": 0.5070000290870667, \"p\": 28049, \"fpr\": 0.24873382104670794, \"tpr\": 0.9391778673036472, \"n\": 5331}, {\"threshold\": 0.5080000162124634, \"p\": 28049, \"fpr\": 0.24873382104670794, \"tpr\": 0.9390352597240543, \"n\": 5331}, {\"threshold\": 0.5090000033378601, \"p\": 28049, \"fpr\": 0.24835865691239917, \"tpr\": 0.9389283040393597, \"n\": 5331}, {\"threshold\": 0.5099999904632568, \"p\": 28049, \"fpr\": 0.24760832864378166, \"tpr\": 0.9388926521444615, \"n\": 5331}, {\"threshold\": 0.5109999775886536, \"p\": 28049, \"fpr\": 0.2470455824423185, \"tpr\": 0.9386787407750722, \"n\": 5331}, {\"threshold\": 0.5120000243186951, \"p\": 28049, \"fpr\": 0.24685800037516414, \"tpr\": 0.938643088880174, \"n\": 5331}, {\"threshold\": 0.5130000114440918, \"p\": 28049, \"fpr\": 0.24648283624085537, \"tpr\": 0.9385717850903775, \"n\": 5331}, {\"threshold\": 0.5139999985694885, \"p\": 28049, \"fpr\": 0.24648283624085537, \"tpr\": 0.9383935256158865, \"n\": 5331}, {\"threshold\": 0.5149999856948853, \"p\": 28049, \"fpr\": 0.24554492590508348, \"tpr\": 0.93832222182609, \"n\": 5331}, {\"threshold\": 0.515999972820282, \"p\": 28049, \"fpr\": 0.2453573438379291, \"tpr\": 0.9382865699311919, \"n\": 5331}, {\"threshold\": 0.5170000195503235, \"p\": 28049, \"fpr\": 0.24498217970362032, \"tpr\": 0.938143962351599, \"n\": 5331}, {\"threshold\": 0.5180000066757202, \"p\": 28049, \"fpr\": 0.24498217970362032, \"tpr\": 0.938143962351599, \"n\": 5331}, {\"threshold\": 0.5189999938011169, \"p\": 28049, \"fpr\": 0.24498217970362032, \"tpr\": 0.9380726585618026, \"n\": 5331}, {\"threshold\": 0.5199999809265137, \"p\": 28049, \"fpr\": 0.24479459763646597, \"tpr\": 0.9380370066669044, \"n\": 5331}, {\"threshold\": 0.5210000276565552, \"p\": 28049, \"fpr\": 0.2444194335021572, \"tpr\": 0.9379657028771079, \"n\": 5331}, {\"threshold\": 0.5220000147819519, \"p\": 28049, \"fpr\": 0.24385668730069404, \"tpr\": 0.9377874434026169, \"n\": 5331}, {\"threshold\": 0.5230000019073486, \"p\": 28049, \"fpr\": 0.2434815231663853, \"tpr\": 0.9376804877179222, \"n\": 5331}, {\"threshold\": 0.5239999890327454, \"p\": 28049, \"fpr\": 0.24273119489776776, \"tpr\": 0.9375735320332276, \"n\": 5331}, {\"threshold\": 0.5249999761581421, \"p\": 28049, \"fpr\": 0.24216844869630463, \"tpr\": 0.9374309244536347, \"n\": 5331}, {\"threshold\": 0.5260000228881836, \"p\": 28049, \"fpr\": 0.24179328456199586, \"tpr\": 0.9373596206638383, \"n\": 5331}, {\"threshold\": 0.5270000100135803, \"p\": 28049, \"fpr\": 0.2416057024948415, \"tpr\": 0.9372170130842454, \"n\": 5331}, {\"threshold\": 0.527999997138977, \"p\": 28049, \"fpr\": 0.24085537422622397, \"tpr\": 0.9370744055046526, \"n\": 5331}, {\"threshold\": 0.5289999842643738, \"p\": 28049, \"fpr\": 0.24029262802476084, \"tpr\": 0.9369317979250598, \"n\": 5331}, {\"threshold\": 0.5299999713897705, \"p\": 28049, \"fpr\": 0.23991746389045207, \"tpr\": 0.9368248422403651, \"n\": 5331}, {\"threshold\": 0.531000018119812, \"p\": 28049, \"fpr\": 0.23991746389045207, \"tpr\": 0.9366822346607723, \"n\": 5331}, {\"threshold\": 0.5320000052452087, \"p\": 28049, \"fpr\": 0.2395422997561433, \"tpr\": 0.9366822346607723, \"n\": 5331}, {\"threshold\": 0.5329999923706055, \"p\": 28049, \"fpr\": 0.23935471768898894, \"tpr\": 0.936646582765874, \"n\": 5331}, {\"threshold\": 0.5339999794960022, \"p\": 28049, \"fpr\": 0.23897955355468017, \"tpr\": 0.9365752789760776, \"n\": 5331}, {\"threshold\": 0.5350000262260437, \"p\": 28049, \"fpr\": 0.23822922528606266, \"tpr\": 0.9363970195015865, \"n\": 5331}, {\"threshold\": 0.5360000133514404, \"p\": 28049, \"fpr\": 0.23804164321890828, \"tpr\": 0.9363257157117901, \"n\": 5331}, {\"threshold\": 0.5370000004768372, \"p\": 28049, \"fpr\": 0.2378540611517539, \"tpr\": 0.9362544119219937, \"n\": 5331}, {\"threshold\": 0.5379999876022339, \"p\": 28049, \"fpr\": 0.2378540611517539, \"tpr\": 0.9361118043424008, \"n\": 5331}, {\"threshold\": 0.5389999747276306, \"p\": 28049, \"fpr\": 0.2376664790845995, \"tpr\": 0.9360048486577062, \"n\": 5331}, {\"threshold\": 0.5400000214576721, \"p\": 28049, \"fpr\": 0.23747889701744512, \"tpr\": 0.935969196762808, \"n\": 5331}, {\"threshold\": 0.5410000085830688, \"p\": 28049, \"fpr\": 0.23729131495029077, \"tpr\": 0.9359335448679097, \"n\": 5331}, {\"threshold\": 0.5419999957084656, \"p\": 28049, \"fpr\": 0.23729131495029077, \"tpr\": 0.9357909372883169, \"n\": 5331}, {\"threshold\": 0.5429999828338623, \"p\": 28049, \"fpr\": 0.236916150815982, \"tpr\": 0.9357552853934187, \"n\": 5331}, {\"threshold\": 0.5440000295639038, \"p\": 28049, \"fpr\": 0.23635340461451884, \"tpr\": 0.9356839816036222, \"n\": 5331}, {\"threshold\": 0.5450000166893005, \"p\": 28049, \"fpr\": 0.23635340461451884, \"tpr\": 0.935648329708724, \"n\": 5331}, {\"threshold\": 0.5460000038146973, \"p\": 28049, \"fpr\": 0.23560307634590133, \"tpr\": 0.9355413740240294, \"n\": 5331}, {\"threshold\": 0.546999990940094, \"p\": 28049, \"fpr\": 0.23541549427874695, \"tpr\": 0.9354700702342329, \"n\": 5331}, {\"threshold\": 0.5479999780654907, \"p\": 28049, \"fpr\": 0.23522791221159256, \"tpr\": 0.9353987664444365, \"n\": 5331}, {\"threshold\": 0.5490000247955322, \"p\": 28049, \"fpr\": 0.23466516601012943, \"tpr\": 0.9352205069699454, \"n\": 5331}, {\"threshold\": 0.550000011920929, \"p\": 28049, \"fpr\": 0.23429000187582066, \"tpr\": 0.935149203180149, \"n\": 5331}, {\"threshold\": 0.5509999990463257, \"p\": 28049, \"fpr\": 0.23391483774151192, \"tpr\": 0.9350422474954544, \"n\": 5331}, {\"threshold\": 0.5519999861717224, \"p\": 28049, \"fpr\": 0.23391483774151192, \"tpr\": 0.9349709437056579, \"n\": 5331}, {\"threshold\": 0.5529999732971191, \"p\": 28049, \"fpr\": 0.23353967360720315, \"tpr\": 0.9348639880209633, \"n\": 5331}, {\"threshold\": 0.5540000200271606, \"p\": 28049, \"fpr\": 0.23278934533858564, \"tpr\": 0.9347926842311669, \"n\": 5331}, {\"threshold\": 0.5550000071525574, \"p\": 28049, \"fpr\": 0.23241418120427687, \"tpr\": 0.9346857285464722, \"n\": 5331}, {\"threshold\": 0.5559999942779541, \"p\": 28049, \"fpr\": 0.23185143500281374, \"tpr\": 0.9344718171770829, \"n\": 5331}, {\"threshold\": 0.5569999814033508, \"p\": 28049, \"fpr\": 0.23147627086850497, \"tpr\": 0.9343292095974901, \"n\": 5331}, {\"threshold\": 0.5580000281333923, \"p\": 28049, \"fpr\": 0.23091352466704182, \"tpr\": 0.9343292095974901, \"n\": 5331}, {\"threshold\": 0.5590000152587891, \"p\": 28049, \"fpr\": 0.23091352466704182, \"tpr\": 0.9341866020178973, \"n\": 5331}, {\"threshold\": 0.5600000023841858, \"p\": 28049, \"fpr\": 0.23091352466704182, \"tpr\": 0.9341866020178973, \"n\": 5331}, {\"threshold\": 0.5609999895095825, \"p\": 28049, \"fpr\": 0.23072594259988746, \"tpr\": 0.933972690648508, \"n\": 5331}, {\"threshold\": 0.5619999766349792, \"p\": 28049, \"fpr\": 0.2301631963984243, \"tpr\": 0.9338300830689151, \"n\": 5331}, {\"threshold\": 0.5630000233650208, \"p\": 28049, \"fpr\": 0.22960045019696118, \"tpr\": 0.9337587792791187, \"n\": 5331}, {\"threshold\": 0.5640000104904175, \"p\": 28049, \"fpr\": 0.2294128681298068, \"tpr\": 0.9336874754893223, \"n\": 5331}, {\"threshold\": 0.5649999976158142, \"p\": 28049, \"fpr\": 0.22903770399549803, \"tpr\": 0.9335092160148312, \"n\": 5331}, {\"threshold\": 0.5659999847412109, \"p\": 28049, \"fpr\": 0.22885012192834364, \"tpr\": 0.9334022603301365, \"n\": 5331}, {\"threshold\": 0.5669999718666077, \"p\": 28049, \"fpr\": 0.22866253986118926, \"tpr\": 0.9334022603301365, \"n\": 5331}, {\"threshold\": 0.5680000185966492, \"p\": 28049, \"fpr\": 0.22809979365972613, \"tpr\": 0.9333666084352383, \"n\": 5331}, {\"threshold\": 0.5690000057220459, \"p\": 28049, \"fpr\": 0.22772462952541736, \"tpr\": 0.9332240008556455, \"n\": 5331}, {\"threshold\": 0.5699999928474426, \"p\": 28049, \"fpr\": 0.227537047458263, \"tpr\": 0.9331170451709508, \"n\": 5331}, {\"threshold\": 0.5709999799728394, \"p\": 28049, \"fpr\": 0.227537047458263, \"tpr\": 0.9330457413811544, \"n\": 5331}, {\"threshold\": 0.5720000267028809, \"p\": 28049, \"fpr\": 0.22697430125679985, \"tpr\": 0.932974437591358, \"n\": 5331}, {\"threshold\": 0.5730000138282776, \"p\": 28049, \"fpr\": 0.22697430125679985, \"tpr\": 0.9329031338015615, \"n\": 5331}, {\"threshold\": 0.5740000009536743, \"p\": 28049, \"fpr\": 0.22678671918964546, \"tpr\": 0.9327605262219687, \"n\": 5331}, {\"threshold\": 0.574999988079071, \"p\": 28049, \"fpr\": 0.22603639092102795, \"tpr\": 0.932653570537274, \"n\": 5331}, {\"threshold\": 0.5759999752044678, \"p\": 28049, \"fpr\": 0.22566122678671918, \"tpr\": 0.9324396591678847, \"n\": 5331}, {\"threshold\": 0.5770000219345093, \"p\": 28049, \"fpr\": 0.22509848058525606, \"tpr\": 0.9323327034831901, \"n\": 5331}, {\"threshold\": 0.578000009059906, \"p\": 28049, \"fpr\": 0.22472331645094729, \"tpr\": 0.9322970515882919, \"n\": 5331}, {\"threshold\": 0.5789999961853027, \"p\": 28049, \"fpr\": 0.2245357343837929, \"tpr\": 0.9320831402189026, \"n\": 5331}, {\"threshold\": 0.5799999833106995, \"p\": 28049, \"fpr\": 0.2245357343837929, \"tpr\": 0.9319761845342079, \"n\": 5331}, {\"threshold\": 0.5809999704360962, \"p\": 28049, \"fpr\": 0.2237854061151754, \"tpr\": 0.9318335769546151, \"n\": 5331}, {\"threshold\": 0.5820000171661377, \"p\": 28049, \"fpr\": 0.2228474957794035, \"tpr\": 0.9316909693750223, \"n\": 5331}, {\"threshold\": 0.5830000042915344, \"p\": 28049, \"fpr\": 0.2226599137122491, \"tpr\": 0.9315840136903276, \"n\": 5331}, {\"threshold\": 0.5839999914169312, \"p\": 28049, \"fpr\": 0.22247233164509472, \"tpr\": 0.9315483617954294, \"n\": 5331}, {\"threshold\": 0.5849999785423279, \"p\": 28049, \"fpr\": 0.22209716751078598, \"tpr\": 0.931477058005633, \"n\": 5331}, {\"threshold\": 0.5860000252723694, \"p\": 28049, \"fpr\": 0.2219095854436316, \"tpr\": 0.9314057542158366, \"n\": 5331}, {\"threshold\": 0.5870000123977661, \"p\": 28049, \"fpr\": 0.22153442130932283, \"tpr\": 0.9313701023209383, \"n\": 5331}, {\"threshold\": 0.5879999995231628, \"p\": 28049, \"fpr\": 0.22134683924216844, \"tpr\": 0.9313344504260401, \"n\": 5331}, {\"threshold\": 0.5889999866485596, \"p\": 28049, \"fpr\": 0.2209716751078597, \"tpr\": 0.9312631466362438, \"n\": 5331}, {\"threshold\": 0.5899999737739563, \"p\": 28049, \"fpr\": 0.22059651097355093, \"tpr\": 0.9310848871617526, \"n\": 5331}, {\"threshold\": 0.5910000205039978, \"p\": 28049, \"fpr\": 0.22040892890639655, \"tpr\": 0.9310848871617526, \"n\": 5331}, {\"threshold\": 0.5920000076293945, \"p\": 28049, \"fpr\": 0.22022134683924216, \"tpr\": 0.9310492352668545, \"n\": 5331}, {\"threshold\": 0.5929999947547913, \"p\": 28049, \"fpr\": 0.21984618270493342, \"tpr\": 0.9309422795821598, \"n\": 5331}, {\"threshold\": 0.593999981880188, \"p\": 28049, \"fpr\": 0.21928343650347026, \"tpr\": 0.9308709757923633, \"n\": 5331}, {\"threshold\": 0.5950000286102295, \"p\": 28049, \"fpr\": 0.21853310823485275, \"tpr\": 0.9307283682127705, \"n\": 5331}, {\"threshold\": 0.5960000157356262, \"p\": 28049, \"fpr\": 0.2179703620333896, \"tpr\": 0.9306214125280758, \"n\": 5331}, {\"threshold\": 0.597000002861023, \"p\": 28049, \"fpr\": 0.21759519789908086, \"tpr\": 0.9305144568433812, \"n\": 5331}, {\"threshold\": 0.5979999899864197, \"p\": 28049, \"fpr\": 0.2170324516976177, \"tpr\": 0.9304431530535848, \"n\": 5331}, {\"threshold\": 0.5989999771118164, \"p\": 28049, \"fpr\": 0.21665728756330896, \"tpr\": 0.9303718492637884, \"n\": 5331}, {\"threshold\": 0.6000000238418579, \"p\": 28049, \"fpr\": 0.2162821234290002, \"tpr\": 0.930300545473992, \"n\": 5331}, {\"threshold\": 0.6010000109672546, \"p\": 28049, \"fpr\": 0.21590695929469142, \"tpr\": 0.930157937894399, \"n\": 5331}, {\"threshold\": 0.6019999980926514, \"p\": 28049, \"fpr\": 0.2151566310260739, \"tpr\": 0.9300509822097044, \"n\": 5331}, {\"threshold\": 0.6029999852180481, \"p\": 28049, \"fpr\": 0.2144063027574564, \"tpr\": 0.9300153303148062, \"n\": 5331}, {\"threshold\": 0.6039999723434448, \"p\": 28049, \"fpr\": 0.21384355655599324, \"tpr\": 0.929979678419908, \"n\": 5331}, {\"threshold\": 0.6050000190734863, \"p\": 28049, \"fpr\": 0.21328081035453011, \"tpr\": 0.9298014189454169, \"n\": 5331}, {\"threshold\": 0.6060000061988831, \"p\": 28049, \"fpr\": 0.21290564622022135, \"tpr\": 0.9296231594709259, \"n\": 5331}, {\"threshold\": 0.6069999933242798, \"p\": 28049, \"fpr\": 0.21290564622022135, \"tpr\": 0.9295162037862312, \"n\": 5331}, {\"threshold\": 0.6079999804496765, \"p\": 28049, \"fpr\": 0.21253048208591258, \"tpr\": 0.9294092481015366, \"n\": 5331}, {\"threshold\": 0.609000027179718, \"p\": 28049, \"fpr\": 0.21234290001875822, \"tpr\": 0.9292666405219437, \"n\": 5331}, {\"threshold\": 0.6100000143051147, \"p\": 28049, \"fpr\": 0.21234290001875822, \"tpr\": 0.9292666405219437, \"n\": 5331}, {\"threshold\": 0.6110000014305115, \"p\": 28049, \"fpr\": 0.21215531795160383, \"tpr\": 0.9291596848372491, \"n\": 5331}, {\"threshold\": 0.6119999885559082, \"p\": 28049, \"fpr\": 0.21196773588444945, \"tpr\": 0.9290527291525544, \"n\": 5331}, {\"threshold\": 0.6129999756813049, \"p\": 28049, \"fpr\": 0.21178015381729506, \"tpr\": 0.9289101215729616, \"n\": 5331}, {\"threshold\": 0.6140000224113464, \"p\": 28049, \"fpr\": 0.21159257175014068, \"tpr\": 0.928803165888267, \"n\": 5331}, {\"threshold\": 0.6150000095367432, \"p\": 28049, \"fpr\": 0.2114049896829863, \"tpr\": 0.9286605583086741, \"n\": 5331}, {\"threshold\": 0.6159999966621399, \"p\": 28049, \"fpr\": 0.21121740761583194, \"tpr\": 0.928482298834183, \"n\": 5331}, {\"threshold\": 0.6169999837875366, \"p\": 28049, \"fpr\": 0.21102982554867755, \"tpr\": 0.9283396912545901, \"n\": 5331}, {\"threshold\": 0.6179999709129333, \"p\": 28049, \"fpr\": 0.21102982554867755, \"tpr\": 0.928125779885201, \"n\": 5331}, {\"threshold\": 0.6190000176429749, \"p\": 28049, \"fpr\": 0.21084224348152317, \"tpr\": 0.9279118685158116, \"n\": 5331}, {\"threshold\": 0.6200000047683716, \"p\": 28049, \"fpr\": 0.21084224348152317, \"tpr\": 0.9278405647260152, \"n\": 5331}, {\"threshold\": 0.6209999918937683, \"p\": 28049, \"fpr\": 0.2104670793472144, \"tpr\": 0.9276266533566259, \"n\": 5331}, {\"threshold\": 0.621999979019165, \"p\": 28049, \"fpr\": 0.21009191521290566, \"tpr\": 0.9274483938821348, \"n\": 5331}, {\"threshold\": 0.6230000257492065, \"p\": 28049, \"fpr\": 0.20990433314575127, \"tpr\": 0.9273770900923384, \"n\": 5331}, {\"threshold\": 0.6240000128746033, \"p\": 28049, \"fpr\": 0.20934158694428812, \"tpr\": 0.9272701344076437, \"n\": 5331}, {\"threshold\": 0.625, \"p\": 28049, \"fpr\": 0.208778840742825, \"tpr\": 0.9271631787229492, \"n\": 5331}, {\"threshold\": 0.6259999871253967, \"p\": 28049, \"fpr\": 0.208778840742825, \"tpr\": 0.9270562230382545, \"n\": 5331}, {\"threshold\": 0.6269999742507935, \"p\": 28049, \"fpr\": 0.20840367660851622, \"tpr\": 0.9269492673535599, \"n\": 5331}, {\"threshold\": 0.628000020980835, \"p\": 28049, \"fpr\": 0.20802851247420748, \"tpr\": 0.9266997040892724, \"n\": 5331}, {\"threshold\": 0.6290000081062317, \"p\": 28049, \"fpr\": 0.20746576627274432, \"tpr\": 0.9264857927198831, \"n\": 5331}, {\"threshold\": 0.6299999952316284, \"p\": 28049, \"fpr\": 0.20727818420558994, \"tpr\": 0.9262718813504938, \"n\": 5331}, {\"threshold\": 0.6309999823570251, \"p\": 28049, \"fpr\": 0.20709060213843555, \"tpr\": 0.9259510142964098, \"n\": 5331}, {\"threshold\": 0.6320000290870667, \"p\": 28049, \"fpr\": 0.2069030200712812, \"tpr\": 0.9258797105066134, \"n\": 5331}, {\"threshold\": 0.6330000162124634, \"p\": 28049, \"fpr\": 0.20652785593697243, \"tpr\": 0.9257727548219188, \"n\": 5331}, {\"threshold\": 0.6340000033378601, \"p\": 28049, \"fpr\": 0.20634027386981804, \"tpr\": 0.9256657991372241, \"n\": 5331}, {\"threshold\": 0.6349999904632568, \"p\": 28049, \"fpr\": 0.20615269180266366, \"tpr\": 0.9254518877678348, \"n\": 5331}, {\"threshold\": 0.6359999775886536, \"p\": 28049, \"fpr\": 0.20596510973550927, \"tpr\": 0.9252736282933438, \"n\": 5331}, {\"threshold\": 0.6370000243186951, \"p\": 28049, \"fpr\": 0.20521478146689176, \"tpr\": 0.9252023245035473, \"n\": 5331}, {\"threshold\": 0.6380000114440918, \"p\": 28049, \"fpr\": 0.20502719939973738, \"tpr\": 0.925131020713751, \"n\": 5331}, {\"threshold\": 0.6389999985694885, \"p\": 28049, \"fpr\": 0.20483961733258302, \"tpr\": 0.9249171093443617, \"n\": 5331}, {\"threshold\": 0.6399999856948853, \"p\": 28049, \"fpr\": 0.20483961733258302, \"tpr\": 0.9248458055545652, \"n\": 5331}, {\"threshold\": 0.640999972820282, \"p\": 28049, \"fpr\": 0.20427687113111986, \"tpr\": 0.9247031979749724, \"n\": 5331}, {\"threshold\": 0.6420000195503235, \"p\": 28049, \"fpr\": 0.20371412492965674, \"tpr\": 0.9245605903953795, \"n\": 5331}, {\"threshold\": 0.6430000066757202, \"p\": 28049, \"fpr\": 0.20333896079534797, \"tpr\": 0.924489286605583, \"n\": 5331}, {\"threshold\": 0.6439999938011169, \"p\": 28049, \"fpr\": 0.2029637966610392, \"tpr\": 0.9244536347106849, \"n\": 5331}, {\"threshold\": 0.6449999809265137, \"p\": 28049, \"fpr\": 0.2029637966610392, \"tpr\": 0.9243466790259902, \"n\": 5331}, {\"threshold\": 0.6460000276565552, \"p\": 28049, \"fpr\": 0.20258863252673046, \"tpr\": 0.9242753752361939, \"n\": 5331}, {\"threshold\": 0.6470000147819519, \"p\": 28049, \"fpr\": 0.20258863252673046, \"tpr\": 0.9241684195514992, \"n\": 5331}, {\"threshold\": 0.6480000019073486, \"p\": 28049, \"fpr\": 0.20240105045957607, \"tpr\": 0.9241327676566009, \"n\": 5331}, {\"threshold\": 0.6489999890327454, \"p\": 28049, \"fpr\": 0.2020258863252673, \"tpr\": 0.9238475524974152, \"n\": 5331}, {\"threshold\": 0.6499999761581421, \"p\": 28049, \"fpr\": 0.20183830425811292, \"tpr\": 0.9235979892331277, \"n\": 5331}, {\"threshold\": 0.6510000228881836, \"p\": 28049, \"fpr\": 0.20071281185518663, \"tpr\": 0.9233840778637384, \"n\": 5331}, {\"threshold\": 0.6520000100135803, \"p\": 28049, \"fpr\": 0.20071281185518663, \"tpr\": 0.9231701664943491, \"n\": 5331}, {\"threshold\": 0.652999997138977, \"p\": 28049, \"fpr\": 0.2003376477208779, \"tpr\": 0.9230988627045528, \"n\": 5331}, {\"threshold\": 0.6539999842643738, \"p\": 28049, \"fpr\": 0.2001500656537235, \"tpr\": 0.9229919070198581, \"n\": 5331}, {\"threshold\": 0.6549999713897705, \"p\": 28049, \"fpr\": 0.199399737385106, \"tpr\": 0.9228492994402653, \"n\": 5331}, {\"threshold\": 0.656000018119812, \"p\": 28049, \"fpr\": 0.19902457325079723, \"tpr\": 0.9227066918606724, \"n\": 5331}, {\"threshold\": 0.6570000052452087, \"p\": 28049, \"fpr\": 0.19864940911648846, \"tpr\": 0.9225640842810795, \"n\": 5331}, {\"threshold\": 0.6579999923706055, \"p\": 28049, \"fpr\": 0.19808666291502533, \"tpr\": 0.9224571285963848, \"n\": 5331}, {\"threshold\": 0.6589999794960022, \"p\": 28049, \"fpr\": 0.19789908084787095, \"tpr\": 0.922314521016792, \"n\": 5331}, {\"threshold\": 0.6600000262260437, \"p\": 28049, \"fpr\": 0.19771149878071656, \"tpr\": 0.9222788691218938, \"n\": 5331}, {\"threshold\": 0.6610000133514404, \"p\": 28049, \"fpr\": 0.1973363346464078, \"tpr\": 0.9221006096474028, \"n\": 5331}, {\"threshold\": 0.6620000004768372, \"p\": 28049, \"fpr\": 0.1973363346464078, \"tpr\": 0.9219580020678099, \"n\": 5331}, {\"threshold\": 0.6629999876022339, \"p\": 28049, \"fpr\": 0.19696117051209905, \"tpr\": 0.921815394488217, \"n\": 5331}, {\"threshold\": 0.6639999747276306, \"p\": 28049, \"fpr\": 0.19696117051209905, \"tpr\": 0.9217440906984207, \"n\": 5331}, {\"threshold\": 0.6650000214576721, \"p\": 28049, \"fpr\": 0.19677358844494466, \"tpr\": 0.9215301793290314, \"n\": 5331}, {\"threshold\": 0.6660000085830688, \"p\": 28049, \"fpr\": 0.19602326017632715, \"tpr\": 0.9213875717494385, \"n\": 5331}, {\"threshold\": 0.6669999957084656, \"p\": 28049, \"fpr\": 0.19564809604201838, \"tpr\": 0.9212449641698456, \"n\": 5331}, {\"threshold\": 0.6679999828338623, \"p\": 28049, \"fpr\": 0.19508534984055526, \"tpr\": 0.9210310528004564, \"n\": 5331}, {\"threshold\": 0.6690000295639038, \"p\": 28049, \"fpr\": 0.19471018570624649, \"tpr\": 0.9209597490106599, \"n\": 5331}, {\"threshold\": 0.6700000166893005, \"p\": 28049, \"fpr\": 0.1945226036390921, \"tpr\": 0.9208171414310671, \"n\": 5331}, {\"threshold\": 0.6710000038146973, \"p\": 28049, \"fpr\": 0.19433502157193772, \"tpr\": 0.9207101857463724, \"n\": 5331}, {\"threshold\": 0.671999990940094, \"p\": 28049, \"fpr\": 0.19433502157193772, \"tpr\": 0.9206032300616778, \"n\": 5331}, {\"threshold\": 0.6729999780654907, \"p\": 28049, \"fpr\": 0.19433502157193772, \"tpr\": 0.9204962743769831, \"n\": 5331}, {\"threshold\": 0.6740000247955322, \"p\": 28049, \"fpr\": 0.19339711123616582, \"tpr\": 0.9202467111126956, \"n\": 5331}, {\"threshold\": 0.675000011920929, \"p\": 28049, \"fpr\": 0.18908272369161508, \"tpr\": 0.9151484901422511, \"n\": 5331}, {\"threshold\": 0.6759999990463257, \"p\": 28049, \"fpr\": 0.18851997749015195, \"tpr\": 0.9149345787728618, \"n\": 5331}, {\"threshold\": 0.6769999861717224, \"p\": 28049, \"fpr\": 0.1877696492215344, \"tpr\": 0.9146850155085743, \"n\": 5331}, {\"threshold\": 0.6779999732971191, \"p\": 28049, \"fpr\": 0.18739448508722567, \"tpr\": 0.9145780598238796, \"n\": 5331}, {\"threshold\": 0.6790000200271606, \"p\": 28049, \"fpr\": 0.18720690302007129, \"tpr\": 0.9144354522442868, \"n\": 5331}, {\"threshold\": 0.6800000071525574, \"p\": 28049, \"fpr\": 0.1870193209529169, \"tpr\": 0.9142215408748975, \"n\": 5331}, {\"threshold\": 0.6809999942779541, \"p\": 28049, \"fpr\": 0.18683173888576252, \"tpr\": 0.9141858889799993, \"n\": 5331}, {\"threshold\": 0.6819999814033508, \"p\": 28049, \"fpr\": 0.18645657475145377, \"tpr\": 0.9140432814004065, \"n\": 5331}, {\"threshold\": 0.6830000281333923, \"p\": 28049, \"fpr\": 0.1862689926842994, \"tpr\": 0.9139363257157118, \"n\": 5331}, {\"threshold\": 0.6840000152587891, \"p\": 28049, \"fpr\": 0.1851435002813731, \"tpr\": 0.913793718136119, \"n\": 5331}, {\"threshold\": 0.6850000023841858, \"p\": 28049, \"fpr\": 0.18495591821421872, \"tpr\": 0.9136867624514243, \"n\": 5331}, {\"threshold\": 0.6859999895095825, \"p\": 28049, \"fpr\": 0.18476833614706434, \"tpr\": 0.9135085029769332, \"n\": 5331}, {\"threshold\": 0.6869999766349792, \"p\": 28049, \"fpr\": 0.1842055899456012, \"tpr\": 0.9134371991871368, \"n\": 5331}, {\"threshold\": 0.6880000233650208, \"p\": 28049, \"fpr\": 0.18308009754267493, \"tpr\": 0.9132232878177475, \"n\": 5331}, {\"threshold\": 0.6890000104904175, \"p\": 28049, \"fpr\": 0.1823297692740574, \"tpr\": 0.9130093764483582, \"n\": 5331}, {\"threshold\": 0.6899999976158142, \"p\": 28049, \"fpr\": 0.1823297692740574, \"tpr\": 0.9128311169738672, \"n\": 5331}, {\"threshold\": 0.6909999847412109, \"p\": 28049, \"fpr\": 0.18157944100543988, \"tpr\": 0.9126885093942743, \"n\": 5331}, {\"threshold\": 0.6919999718666077, \"p\": 28049, \"fpr\": 0.18157944100543988, \"tpr\": 0.9125102499197832, \"n\": 5331}, {\"threshold\": 0.6930000185966492, \"p\": 28049, \"fpr\": 0.1813918589382855, \"tpr\": 0.9122606866554958, \"n\": 5331}, {\"threshold\": 0.6940000057220459, \"p\": 28049, \"fpr\": 0.18082911273682237, \"tpr\": 0.9120824271810046, \"n\": 5331}, {\"threshold\": 0.6949999928474426, \"p\": 28049, \"fpr\": 0.1802663665353592, \"tpr\": 0.9118685158116154, \"n\": 5331}, {\"threshold\": 0.6959999799728394, \"p\": 28049, \"fpr\": 0.17932845619958732, \"tpr\": 0.911797212021819, \"n\": 5331}, {\"threshold\": 0.6970000267028809, \"p\": 28049, \"fpr\": 0.17914087413243293, \"tpr\": 0.9115119968626333, \"n\": 5331}, {\"threshold\": 0.6980000138282776, \"p\": 28049, \"fpr\": 0.17914087413243293, \"tpr\": 0.9113693892830403, \"n\": 5331}, {\"threshold\": 0.6990000009536743, \"p\": 28049, \"fpr\": 0.1787657099981242, \"tpr\": 0.911298085493244, \"n\": 5331}, {\"threshold\": 0.699999988079071, \"p\": 28049, \"fpr\": 0.1787657099981242, \"tpr\": 0.9111911298085493, \"n\": 5331}, {\"threshold\": 0.7009999752044678, \"p\": 28049, \"fpr\": 0.1778277996623523, \"tpr\": 0.9111198260187529, \"n\": 5331}, {\"threshold\": 0.7020000219345093, \"p\": 28049, \"fpr\": 0.1778277996623523, \"tpr\": 0.9108702627544654, \"n\": 5331}, {\"threshold\": 0.703000009059906, \"p\": 28049, \"fpr\": 0.17745263552804352, \"tpr\": 0.9107276551748725, \"n\": 5331}, {\"threshold\": 0.7039999961853027, \"p\": 28049, \"fpr\": 0.17726505346088914, \"tpr\": 0.9106563513850762, \"n\": 5331}, {\"threshold\": 0.7049999833106995, \"p\": 28049, \"fpr\": 0.17632714312511724, \"tpr\": 0.9105493957003815, \"n\": 5331}, {\"threshold\": 0.7059999704360962, \"p\": 28049, \"fpr\": 0.17595197899080847, \"tpr\": 0.9102641805411957, \"n\": 5331}, {\"threshold\": 0.7070000171661377, \"p\": 28049, \"fpr\": 0.1748264865878822, \"tpr\": 0.9099789653820101, \"n\": 5331}, {\"threshold\": 0.7080000042915344, \"p\": 28049, \"fpr\": 0.1746389045207278, \"tpr\": 0.9098007059075189, \"n\": 5331}, {\"threshold\": 0.7089999914169312, \"p\": 28049, \"fpr\": 0.17426374038641906, \"tpr\": 0.9095154907483333, \"n\": 5331}, {\"threshold\": 0.7099999785423279, \"p\": 28049, \"fpr\": 0.17313824798349278, \"tpr\": 0.9092659274840458, \"n\": 5331}, {\"threshold\": 0.7110000252723694, \"p\": 28049, \"fpr\": 0.1729506659163384, \"tpr\": 0.9090876680095548, \"n\": 5331}, {\"threshold\": 0.7120000123977661, \"p\": 28049, \"fpr\": 0.1729506659163384, \"tpr\": 0.9088381047452672, \"n\": 5331}, {\"threshold\": 0.7129999995231628, \"p\": 28049, \"fpr\": 0.17257550178202963, \"tpr\": 0.9085172376911833, \"n\": 5331}, {\"threshold\": 0.7139999866485596, \"p\": 28049, \"fpr\": 0.17163759144625773, \"tpr\": 0.9083389782166922, \"n\": 5331}, {\"threshold\": 0.7149999737739563, \"p\": 28049, \"fpr\": 0.171262427311949, \"tpr\": 0.9081607187422012, \"n\": 5331}, {\"threshold\": 0.7160000205039978, \"p\": 28049, \"fpr\": 0.1710748452447946, \"tpr\": 0.9079468073728119, \"n\": 5331}, {\"threshold\": 0.7170000076293945, \"p\": 28049, \"fpr\": 0.17069968111048583, \"tpr\": 0.9076972441085244, \"n\": 5331}, {\"threshold\": 0.7179999947547913, \"p\": 28049, \"fpr\": 0.1701369349090227, \"tpr\": 0.9075546365289315, \"n\": 5331}, {\"threshold\": 0.718999981880188, \"p\": 28049, \"fpr\": 0.16976177077471394, \"tpr\": 0.9075189846340334, \"n\": 5331}, {\"threshold\": 0.7200000286102295, \"p\": 28049, \"fpr\": 0.16957418870755955, \"tpr\": 0.9074833327391351, \"n\": 5331}, {\"threshold\": 0.7210000157356262, \"p\": 28049, \"fpr\": 0.16919902457325078, \"tpr\": 0.9072694213697458, \"n\": 5331}, {\"threshold\": 0.722000002861023, \"p\": 28049, \"fpr\": 0.1682611142374789, \"tpr\": 0.9069485543156619, \"n\": 5331}, {\"threshold\": 0.7229999899864197, \"p\": 28049, \"fpr\": 0.16807353217032453, \"tpr\": 0.9067702948411708, \"n\": 5331}, {\"threshold\": 0.7239999771118164, \"p\": 28049, \"fpr\": 0.16807353217032453, \"tpr\": 0.9066276872615779, \"n\": 5331}, {\"threshold\": 0.7250000238418579, \"p\": 28049, \"fpr\": 0.16769836803601576, \"tpr\": 0.9064850796819851, \"n\": 5331}, {\"threshold\": 0.7260000109672546, \"p\": 28049, \"fpr\": 0.167323203901707, \"tpr\": 0.9061642126279011, \"n\": 5331}, {\"threshold\": 0.7269999980926514, \"p\": 28049, \"fpr\": 0.1671356218345526, \"tpr\": 0.9059503012585118, \"n\": 5331}, {\"threshold\": 0.7279999852180481, \"p\": 28049, \"fpr\": 0.16694803976739825, \"tpr\": 0.9058789974687155, \"n\": 5331}, {\"threshold\": 0.7289999723434448, \"p\": 28049, \"fpr\": 0.16676045770024386, \"tpr\": 0.9057363898891226, \"n\": 5331}, {\"threshold\": 0.7300000190734863, \"p\": 28049, \"fpr\": 0.1663852935659351, \"tpr\": 0.9055581304146315, \"n\": 5331}, {\"threshold\": 0.7310000061988831, \"p\": 28049, \"fpr\": 0.16582254736447197, \"tpr\": 0.9052729152554458, \"n\": 5331}, {\"threshold\": 0.7319999933242798, \"p\": 28049, \"fpr\": 0.16507221909585443, \"tpr\": 0.905130307675853, \"n\": 5331}, {\"threshold\": 0.7329999804496765, \"p\": 28049, \"fpr\": 0.16488463702870004, \"tpr\": 0.9047737887268709, \"n\": 5331}, {\"threshold\": 0.734000027179718, \"p\": 28049, \"fpr\": 0.16469705496154569, \"tpr\": 0.9045955292523797, \"n\": 5331}, {\"threshold\": 0.7350000143051147, \"p\": 28049, \"fpr\": 0.1645094728943913, \"tpr\": 0.9044529216727869, \"n\": 5331}, {\"threshold\": 0.7360000014305115, \"p\": 28049, \"fpr\": 0.16432189082723692, \"tpr\": 0.9042033584084994, \"n\": 5331}, {\"threshold\": 0.7369999885559082, \"p\": 28049, \"fpr\": 0.16432189082723692, \"tpr\": 0.9040607508289066, \"n\": 5331}, {\"threshold\": 0.7379999756813049, \"p\": 28049, \"fpr\": 0.1637591446257738, \"tpr\": 0.9038468394595173, \"n\": 5331}, {\"threshold\": 0.7390000224113464, \"p\": 28049, \"fpr\": 0.16319639842431063, \"tpr\": 0.9035616243003316, \"n\": 5331}, {\"threshold\": 0.7400000095367432, \"p\": 28049, \"fpr\": 0.16282123429000186, \"tpr\": 0.903454668615637, \"n\": 5331}, {\"threshold\": 0.7409999966621399, \"p\": 28049, \"fpr\": 0.16207090602138435, \"tpr\": 0.9033120610360441, \"n\": 5331}, {\"threshold\": 0.7419999837875366, \"p\": 28049, \"fpr\": 0.16188332395422997, \"tpr\": 0.9030981496666548, \"n\": 5331}, {\"threshold\": 0.7429999709129333, \"p\": 28049, \"fpr\": 0.16132057775276684, \"tpr\": 0.902955542087062, \"n\": 5331}, {\"threshold\": 0.7440000176429749, \"p\": 28049, \"fpr\": 0.1607578315513037, \"tpr\": 0.9027059788227745, \"n\": 5331}, {\"threshold\": 0.7450000047683716, \"p\": 28049, \"fpr\": 0.1605702494841493, \"tpr\": 0.9025277193482834, \"n\": 5331}, {\"threshold\": 0.7459999918937683, \"p\": 28049, \"fpr\": 0.16038266741699495, \"tpr\": 0.9022068522941994, \"n\": 5331}, {\"threshold\": 0.746999979019165, \"p\": 28049, \"fpr\": 0.16000750328268618, \"tpr\": 0.9020998966095048, \"n\": 5331}, {\"threshold\": 0.7480000257492065, \"p\": 28049, \"fpr\": 0.1598199212155318, \"tpr\": 0.9017077257656244, \"n\": 5331}, {\"threshold\": 0.7490000128746033, \"p\": 28049, \"fpr\": 0.1596323391483774, \"tpr\": 0.9013868587115406, \"n\": 5331}, {\"threshold\": 0.75, \"p\": 28049, \"fpr\": 0.15925717501406866, \"tpr\": 0.9011729473421513, \"n\": 5331}, {\"threshold\": 0.7509999871253967, \"p\": 28049, \"fpr\": 0.157944100543988, \"tpr\": 0.9010303397625584, \"n\": 5331}, {\"threshold\": 0.7519999742507935, \"p\": 28049, \"fpr\": 0.1577565184768336, \"tpr\": 0.9008164283931691, \"n\": 5331}, {\"threshold\": 0.753000020980835, \"p\": 28049, \"fpr\": 0.15663102607390733, \"tpr\": 0.9004955613390851, \"n\": 5331}, {\"threshold\": 0.7540000081062317, \"p\": 28049, \"fpr\": 0.15644344400675295, \"tpr\": 0.9004242575492888, \"n\": 5331}, {\"threshold\": 0.7549999952316284, \"p\": 28049, \"fpr\": 0.15644344400675295, \"tpr\": 0.9002459980747977, \"n\": 5331}, {\"threshold\": 0.7559999823570251, \"p\": 28049, \"fpr\": 0.1560682798724442, \"tpr\": 0.9000320867054084, \"n\": 5331}, {\"threshold\": 0.7570000290870667, \"p\": 28049, \"fpr\": 0.15588069780528982, \"tpr\": 0.8996755677564262, \"n\": 5331}, {\"threshold\": 0.7580000162124634, \"p\": 28049, \"fpr\": 0.1551303695366723, \"tpr\": 0.8994260044921387, \"n\": 5331}, {\"threshold\": 0.7590000033378601, \"p\": 28049, \"fpr\": 0.15456762333520915, \"tpr\": 0.8989625298584619, \"n\": 5331}, {\"threshold\": 0.7599999904632568, \"p\": 28049, \"fpr\": 0.15438004126805477, \"tpr\": 0.8987129665941744, \"n\": 5331}, {\"threshold\": 0.7609999775886536, \"p\": 28049, \"fpr\": 0.15400487713374603, \"tpr\": 0.8984277514349888, \"n\": 5331}, {\"threshold\": 0.7620000243186951, \"p\": 28049, \"fpr\": 0.15362971299943726, \"tpr\": 0.8980712324860066, \"n\": 5331}, {\"threshold\": 0.7630000114440918, \"p\": 28049, \"fpr\": 0.1530669667979741, \"tpr\": 0.8979286249064138, \"n\": 5331}, {\"threshold\": 0.7639999985694885, \"p\": 28049, \"fpr\": 0.15269180266366536, \"tpr\": 0.8975364540625335, \"n\": 5331}, {\"threshold\": 0.7649999856948853, \"p\": 28049, \"fpr\": 0.1523166385293566, \"tpr\": 0.8972512389033477, \"n\": 5331}, {\"threshold\": 0.765999972820282, \"p\": 28049, \"fpr\": 0.15175389232789346, \"tpr\": 0.8971086313237548, \"n\": 5331}, {\"threshold\": 0.7670000195503235, \"p\": 28049, \"fpr\": 0.15156631026073908, \"tpr\": 0.8967877642696709, \"n\": 5331}, {\"threshold\": 0.7680000066757202, \"p\": 28049, \"fpr\": 0.1513787281935847, \"tpr\": 0.896645156690078, \"n\": 5331}, {\"threshold\": 0.7689999938011169, \"p\": 28049, \"fpr\": 0.15100356405927592, \"tpr\": 0.8963242896359942, \"n\": 5331}, {\"threshold\": 0.7699999809265137, \"p\": 28049, \"fpr\": 0.15100356405927592, \"tpr\": 0.8961460301615031, \"n\": 5331}, {\"threshold\": 0.7710000276565552, \"p\": 28049, \"fpr\": 0.15062839992496718, \"tpr\": 0.8957895112125209, \"n\": 5331}, {\"threshold\": 0.7720000147819519, \"p\": 28049, \"fpr\": 0.1504408178578128, \"tpr\": 0.8955042960533353, \"n\": 5331}, {\"threshold\": 0.7730000019073486, \"p\": 28049, \"fpr\": 0.14987807165634964, \"tpr\": 0.8952190808941495, \"n\": 5331}, {\"threshold\": 0.7739999890327454, \"p\": 28049, \"fpr\": 0.14931532545488652, \"tpr\": 0.8950051695247603, \"n\": 5331}, {\"threshold\": 0.7749999761581421, \"p\": 28049, \"fpr\": 0.14894016132057775, \"tpr\": 0.8948625619451673, \"n\": 5331}, {\"threshold\": 0.7760000228881836, \"p\": 28049, \"fpr\": 0.14837741511911462, \"tpr\": 0.8948269100502692, \"n\": 5331}, {\"threshold\": 0.7770000100135803, \"p\": 28049, \"fpr\": 0.14762708685049708, \"tpr\": 0.8945773467859817, \"n\": 5331}, {\"threshold\": 0.777999997138977, \"p\": 28049, \"fpr\": 0.14743950478334272, \"tpr\": 0.8943277835216942, \"n\": 5331}, {\"threshold\": 0.7789999842643738, \"p\": 28049, \"fpr\": 0.14687675858187957, \"tpr\": 0.8939356126778139, \"n\": 5331}, {\"threshold\": 0.7799999713897705, \"p\": 28049, \"fpr\": 0.14687675858187957, \"tpr\": 0.8936503975186281, \"n\": 5331}, {\"threshold\": 0.781000018119812, \"p\": 28049, \"fpr\": 0.14668917651472518, \"tpr\": 0.8935434418339335, \"n\": 5331}, {\"threshold\": 0.7820000052452087, \"p\": 28049, \"fpr\": 0.14612643031326206, \"tpr\": 0.8931869228849514, \"n\": 5331}, {\"threshold\": 0.7829999923706055, \"p\": 28049, \"fpr\": 0.14612643031326206, \"tpr\": 0.8929730115155621, \"n\": 5331}, {\"threshold\": 0.7839999794960022, \"p\": 28049, \"fpr\": 0.14612643031326206, \"tpr\": 0.8926877963563763, \"n\": 5331}, {\"threshold\": 0.7850000262260437, \"p\": 28049, \"fpr\": 0.1457512661789533, \"tpr\": 0.8924382330920888, \"n\": 5331}, {\"threshold\": 0.7860000133514404, \"p\": 28049, \"fpr\": 0.1457512661789533, \"tpr\": 0.8921886698278013, \"n\": 5331}, {\"threshold\": 0.7870000004768372, \"p\": 28049, \"fpr\": 0.14500093791033578, \"tpr\": 0.8918678027737175, \"n\": 5331}, {\"threshold\": 0.7879999876022339, \"p\": 28049, \"fpr\": 0.144625773776027, \"tpr\": 0.8916895432992263, \"n\": 5331}, {\"threshold\": 0.7889999747276306, \"p\": 28049, \"fpr\": 0.1436878634402551, \"tpr\": 0.8914399800349389, \"n\": 5331}, {\"threshold\": 0.7900000214576721, \"p\": 28049, \"fpr\": 0.1436878634402551, \"tpr\": 0.8911904167706514, \"n\": 5331}, {\"threshold\": 0.7910000085830688, \"p\": 28049, \"fpr\": 0.14350028137310072, \"tpr\": 0.8909408535063639, \"n\": 5331}, {\"threshold\": 0.7919999957084656, \"p\": 28049, \"fpr\": 0.1429375351716376, \"tpr\": 0.8906556383471782, \"n\": 5331}, {\"threshold\": 0.7929999828338623, \"p\": 28049, \"fpr\": 0.14256237103732883, \"tpr\": 0.8904417269777889, \"n\": 5331}, {\"threshold\": 0.7940000295639038, \"p\": 28049, \"fpr\": 0.1419996248358657, \"tpr\": 0.8901565118186031, \"n\": 5331}, {\"threshold\": 0.7950000166893005, \"p\": 28049, \"fpr\": 0.14162446070155693, \"tpr\": 0.8899069485543156, \"n\": 5331}, {\"threshold\": 0.7960000038146973, \"p\": 28049, \"fpr\": 0.14087413243293942, \"tpr\": 0.8895860815002318, \"n\": 5331}, {\"threshold\": 0.796999990940094, \"p\": 28049, \"fpr\": 0.14031138623147626, \"tpr\": 0.8893721701308425, \"n\": 5331}, {\"threshold\": 0.7979999780654907, \"p\": 28049, \"fpr\": 0.13993622209716752, \"tpr\": 0.889122606866555, \"n\": 5331}, {\"threshold\": 0.7990000247955322, \"p\": 28049, \"fpr\": 0.13937347589570437, \"tpr\": 0.8888730436022675, \"n\": 5331}, {\"threshold\": 0.800000011920929, \"p\": 28049, \"fpr\": 0.13918589382854998, \"tpr\": 0.888801739812471, \"n\": 5331}, {\"threshold\": 0.8009999990463257, \"p\": 28049, \"fpr\": 0.13881072969424124, \"tpr\": 0.8884808727583872, \"n\": 5331}, {\"threshold\": 0.8019999861717224, \"p\": 28049, \"fpr\": 0.1382479834927781, \"tpr\": 0.888124353809405, \"n\": 5331}, {\"threshold\": 0.8029999732971191, \"p\": 28049, \"fpr\": 0.13787281935846932, \"tpr\": 0.8877678348604229, \"n\": 5331}, {\"threshold\": 0.8040000200271606, \"p\": 28049, \"fpr\": 0.13787281935846932, \"tpr\": 0.8873400121216443, \"n\": 5331}, {\"threshold\": 0.8050000071525574, \"p\": 28049, \"fpr\": 0.1371224910898518, \"tpr\": 0.8869834931726621, \"n\": 5331}, {\"threshold\": 0.8059999942779541, \"p\": 28049, \"fpr\": 0.1371224910898518, \"tpr\": 0.8868052336981711, \"n\": 5331}, {\"threshold\": 0.8069999814033508, \"p\": 28049, \"fpr\": 0.13693490902269742, \"tpr\": 0.8865913223287818, \"n\": 5331}, {\"threshold\": 0.8080000281333923, \"p\": 28049, \"fpr\": 0.1363721628212343, \"tpr\": 0.886448714749189, \"n\": 5331}, {\"threshold\": 0.8090000152587891, \"p\": 28049, \"fpr\": 0.13580941661977114, \"tpr\": 0.8859139363257157, \"n\": 5331}, {\"threshold\": 0.8100000023841858, \"p\": 28049, \"fpr\": 0.13562183455261678, \"tpr\": 0.8855930692716318, \"n\": 5331}, {\"threshold\": 0.8109999895095825, \"p\": 28049, \"fpr\": 0.1354342524854624, \"tpr\": 0.8852722022175479, \"n\": 5331}, {\"threshold\": 0.8119999766349792, \"p\": 28049, \"fpr\": 0.13505908835115363, \"tpr\": 0.885129594637955, \"n\": 5331}, {\"threshold\": 0.8130000233650208, \"p\": 28049, \"fpr\": 0.13487150628399924, \"tpr\": 0.8849156832685657, \"n\": 5331}, {\"threshold\": 0.8140000104904175, \"p\": 28049, \"fpr\": 0.13487150628399924, \"tpr\": 0.8845591643195836, \"n\": 5331}, {\"threshold\": 0.8149999976158142, \"p\": 28049, \"fpr\": 0.13430876008253612, \"tpr\": 0.8842026453706014, \"n\": 5331}, {\"threshold\": 0.8159999847412109, \"p\": 28049, \"fpr\": 0.13412117801538173, \"tpr\": 0.8840956896859068, \"n\": 5331}, {\"threshold\": 0.8169999718666077, \"p\": 28049, \"fpr\": 0.13318326767960983, \"tpr\": 0.8837748226318228, \"n\": 5331}, {\"threshold\": 0.8180000185966492, \"p\": 28049, \"fpr\": 0.13318326767960983, \"tpr\": 0.8835252593675353, \"n\": 5331}, {\"threshold\": 0.8190000057220459, \"p\": 28049, \"fpr\": 0.13299568561245545, \"tpr\": 0.8832400442083497, \"n\": 5331}, {\"threshold\": 0.8199999928474426, \"p\": 28049, \"fpr\": 0.13299568561245545, \"tpr\": 0.8825983101001819, \"n\": 5331}, {\"threshold\": 0.8209999799728394, \"p\": 28049, \"fpr\": 0.13224535734383794, \"tpr\": 0.8822417911511997, \"n\": 5331}, {\"threshold\": 0.8220000267028809, \"p\": 28049, \"fpr\": 0.13224535734383794, \"tpr\": 0.8818139684124211, \"n\": 5331}, {\"threshold\": 0.8230000138282776, \"p\": 28049, \"fpr\": 0.13205777527668355, \"tpr\": 0.8814217975685408, \"n\": 5331}, {\"threshold\": 0.8240000009536743, \"p\": 28049, \"fpr\": 0.13168261114237478, \"tpr\": 0.8810652786195586, \"n\": 5331}, {\"threshold\": 0.824999988079071, \"p\": 28049, \"fpr\": 0.1307447008066029, \"tpr\": 0.8806731077756783, \"n\": 5331}, {\"threshold\": 0.8259999752044678, \"p\": 28049, \"fpr\": 0.13018195460513976, \"tpr\": 0.8801739812471033, \"n\": 5331}, {\"threshold\": 0.8270000219345093, \"p\": 28049, \"fpr\": 0.129806790470831, \"tpr\": 0.8797818104032229, \"n\": 5331}, {\"threshold\": 0.828000009059906, \"p\": 28049, \"fpr\": 0.12924404426936784, \"tpr\": 0.8795322471389354, \"n\": 5331}, {\"threshold\": 0.8289999961853027, \"p\": 28049, \"fpr\": 0.1288688801350591, \"tpr\": 0.8793539876644444, \"n\": 5331}, {\"threshold\": 0.8299999833106995, \"p\": 28049, \"fpr\": 0.1286812980679047, \"tpr\": 0.8789974687154622, \"n\": 5331}, {\"threshold\": 0.8309999704360962, \"p\": 28049, \"fpr\": 0.12736822359782404, \"tpr\": 0.8788192092409711, \"n\": 5331}, {\"threshold\": 0.8320000171661377, \"p\": 28049, \"fpr\": 0.1269930594635153, \"tpr\": 0.8783557346072943, \"n\": 5331}, {\"threshold\": 0.8330000042915344, \"p\": 28049, \"fpr\": 0.12624273119489776, \"tpr\": 0.877963563763414, \"n\": 5331}, {\"threshold\": 0.8339999914169312, \"p\": 28049, \"fpr\": 0.12586756706058902, \"tpr\": 0.8775000891297372, \"n\": 5331}, {\"threshold\": 0.8349999785423279, \"p\": 28049, \"fpr\": 0.12511723879197148, \"tpr\": 0.8771792220756534, \"n\": 5331}, {\"threshold\": 0.8360000252723694, \"p\": 28049, \"fpr\": 0.12436691052335397, \"tpr\": 0.8766800955470784, \"n\": 5331}, {\"threshold\": 0.8370000123977661, \"p\": 28049, \"fpr\": 0.12399174638904521, \"tpr\": 0.8764305322827908, \"n\": 5331}, {\"threshold\": 0.8379999995231628, \"p\": 28049, \"fpr\": 0.12361658225473644, \"tpr\": 0.8762522728082998, \"n\": 5331}, {\"threshold\": 0.8389999866485596, \"p\": 28049, \"fpr\": 0.12361658225473644, \"tpr\": 0.8757174943848266, \"n\": 5331}, {\"threshold\": 0.8399999737739563, \"p\": 28049, \"fpr\": 0.12286625398611893, \"tpr\": 0.875111412171557, \"n\": 5331}, {\"threshold\": 0.8410000205039978, \"p\": 28049, \"fpr\": 0.12249108985181016, \"tpr\": 0.8748975008021677, \"n\": 5331}, {\"threshold\": 0.8420000076293945, \"p\": 28049, \"fpr\": 0.12192834365034702, \"tpr\": 0.8742557666939997, \"n\": 5331}, {\"threshold\": 0.8429999947547913, \"p\": 28049, \"fpr\": 0.12174076158319265, \"tpr\": 0.8737566401654248, \"n\": 5331}, {\"threshold\": 0.843999981880188, \"p\": 28049, \"fpr\": 0.12080285124742075, \"tpr\": 0.8730436022674605, \"n\": 5331}, {\"threshold\": 0.8450000286102295, \"p\": 28049, \"fpr\": 0.12005252297880323, \"tpr\": 0.872794039003173, \"n\": 5331}, {\"threshold\": 0.8460000157356262, \"p\": 28049, \"fpr\": 0.11986494091164884, \"tpr\": 0.8725088238439873, \"n\": 5331}, {\"threshold\": 0.847000002861023, \"p\": 28049, \"fpr\": 0.11967735884449447, \"tpr\": 0.8721879567899034, \"n\": 5331}, {\"threshold\": 0.8479999899864197, \"p\": 28049, \"fpr\": 0.11873944850872256, \"tpr\": 0.8719383935256159, \"n\": 5331}, {\"threshold\": 0.8489999771118164, \"p\": 28049, \"fpr\": 0.11855186644156819, \"tpr\": 0.8715105707868374, \"n\": 5331}, {\"threshold\": 0.8500000238418579, \"p\": 28049, \"fpr\": 0.1183642843744138, \"tpr\": 0.8711540518378552, \"n\": 5331}, {\"threshold\": 0.8510000109672546, \"p\": 28049, \"fpr\": 0.11817670230725942, \"tpr\": 0.8707618809939748, \"n\": 5331}, {\"threshold\": 0.8519999980926514, \"p\": 28049, \"fpr\": 0.11798912024010505, \"tpr\": 0.8702984063602981, \"n\": 5331}, {\"threshold\": 0.8529999852180481, \"p\": 28049, \"fpr\": 0.11723879197148752, \"tpr\": 0.8698705836215195, \"n\": 5331}, {\"threshold\": 0.8539999723434448, \"p\": 28049, \"fpr\": 0.11686362783717877, \"tpr\": 0.8694784127776392, \"n\": 5331}, {\"threshold\": 0.8550000190734863, \"p\": 28049, \"fpr\": 0.11630088163571563, \"tpr\": 0.8687653748796749, \"n\": 5331}, {\"threshold\": 0.8560000061988831, \"p\": 28049, \"fpr\": 0.11611329956856124, \"tpr\": 0.8681949445613034, \"n\": 5331}, {\"threshold\": 0.8569999933242798, \"p\": 28049, \"fpr\": 0.11592571750140687, \"tpr\": 0.8679453812970159, \"n\": 5331}, {\"threshold\": 0.8579999804496765, \"p\": 28049, \"fpr\": 0.11517538923278935, \"tpr\": 0.8675888623480338, \"n\": 5331}, {\"threshold\": 0.859000027179718, \"p\": 28049, \"fpr\": 0.11517538923278935, \"tpr\": 0.8670184320296623, \"n\": 5331}, {\"threshold\": 0.8600000143051147, \"p\": 28049, \"fpr\": 0.11498780716563496, \"tpr\": 0.8665549573959856, \"n\": 5331}, {\"threshold\": 0.8610000014305115, \"p\": 28049, \"fpr\": 0.11442506096417182, \"tpr\": 0.866305394131698, \"n\": 5331}, {\"threshold\": 0.8619999885559082, \"p\": 28049, \"fpr\": 0.11423747889701745, \"tpr\": 0.8659132232878177, \"n\": 5331}, {\"threshold\": 0.8629999756813049, \"p\": 28049, \"fpr\": 0.11404989682986306, \"tpr\": 0.8655210524439374, \"n\": 5331}, {\"threshold\": 0.8640000224113464, \"p\": 28049, \"fpr\": 0.11329956856124554, \"tpr\": 0.8652001853898534, \"n\": 5331}, {\"threshold\": 0.8650000095367432, \"p\": 28049, \"fpr\": 0.11217407615831926, \"tpr\": 0.8646654069663803, \"n\": 5331}, {\"threshold\": 0.8659999966621399, \"p\": 28049, \"fpr\": 0.11161132995685613, \"tpr\": 0.863952369068416, \"n\": 5331}, {\"threshold\": 0.8669999837875366, \"p\": 28049, \"fpr\": 0.11104858375539299, \"tpr\": 0.8635958501194338, \"n\": 5331}, {\"threshold\": 0.8679999709129333, \"p\": 28049, \"fpr\": 0.1108610016882386, \"tpr\": 0.8630610716959607, \"n\": 5331}, {\"threshold\": 0.8690000176429749, \"p\": 28049, \"fpr\": 0.11048583755392985, \"tpr\": 0.8627758565367749, \"n\": 5331}, {\"threshold\": 0.8700000047683716, \"p\": 28049, \"fpr\": 0.10954792721815794, \"tpr\": 0.8622767300081999, \"n\": 5331}, {\"threshold\": 0.8709999918937683, \"p\": 28049, \"fpr\": 0.10917276308384918, \"tpr\": 0.8620271667439124, \"n\": 5331}, {\"threshold\": 0.871999979019165, \"p\": 28049, \"fpr\": 0.10823485274807729, \"tpr\": 0.8615993440051338, \"n\": 5331}, {\"threshold\": 0.8730000257492065, \"p\": 28049, \"fpr\": 0.10767210654661415, \"tpr\": 0.860957609896966, \"n\": 5331}, {\"threshold\": 0.8740000128746033, \"p\": 28049, \"fpr\": 0.10729694241230539, \"tpr\": 0.860636742842882, \"n\": 5331}, {\"threshold\": 0.875, \"p\": 28049, \"fpr\": 0.10673419621084225, \"tpr\": 0.8600663125245107, \"n\": 5331}, {\"threshold\": 0.8759999871253967, \"p\": 28049, \"fpr\": 0.10598386794222472, \"tpr\": 0.8597454454704268, \"n\": 5331}, {\"threshold\": 0.8769999742507935, \"p\": 28049, \"fpr\": 0.1052335396736072, \"tpr\": 0.8591393632571571, \"n\": 5331}, {\"threshold\": 0.878000020980835, \"p\": 28049, \"fpr\": 0.1042956293378353, \"tpr\": 0.8586402367285821, \"n\": 5331}, {\"threshold\": 0.8790000081062317, \"p\": 28049, \"fpr\": 0.10392046520352655, \"tpr\": 0.8581411102000072, \"n\": 5331}, {\"threshold\": 0.8799999952316284, \"p\": 28049, \"fpr\": 0.10373288313637216, \"tpr\": 0.8573567685122464, \"n\": 5331}, {\"threshold\": 0.8809999823570251, \"p\": 28049, \"fpr\": 0.1033577190020634, \"tpr\": 0.8566080787193839, \"n\": 5331}, {\"threshold\": 0.8820000290870667, \"p\": 28049, \"fpr\": 0.10279497280060026, \"tpr\": 0.8560376484010125, \"n\": 5331}, {\"threshold\": 0.8830000162124634, \"p\": 28049, \"fpr\": 0.10241980866629151, \"tpr\": 0.8554315661877429, \"n\": 5331}, {\"threshold\": 0.8840000033378601, \"p\": 28049, \"fpr\": 0.1014818983305196, \"tpr\": 0.8546828763948804, \"n\": 5331}, {\"threshold\": 0.8849999904632568, \"p\": 28049, \"fpr\": 0.10110673419621084, \"tpr\": 0.8537915790224251, \"n\": 5331}, {\"threshold\": 0.8859999775886536, \"p\": 28049, \"fpr\": 0.10091915212905646, \"tpr\": 0.8533994081785446, \"n\": 5331}, {\"threshold\": 0.8870000243186951, \"p\": 28049, \"fpr\": 0.1005439879947477, \"tpr\": 0.8526507183856822, \"n\": 5331}, {\"threshold\": 0.8880000114440918, \"p\": 28049, \"fpr\": 0.10016882386043895, \"tpr\": 0.8519733323826162, \"n\": 5331}, {\"threshold\": 0.8889999985694885, \"p\": 28049, \"fpr\": 0.09979365972613018, \"tpr\": 0.8515455096438376, \"n\": 5331}, {\"threshold\": 0.8899999856948853, \"p\": 28049, \"fpr\": 0.09829300318889514, \"tpr\": 0.8509394274305679, \"n\": 5331}, {\"threshold\": 0.890999972820282, \"p\": 28049, \"fpr\": 0.09791783905458638, \"tpr\": 0.8500124781632143, \"n\": 5331}, {\"threshold\": 0.8920000195503235, \"p\": 28049, \"fpr\": 0.09716751078596886, \"tpr\": 0.8493707440550465, \"n\": 5331}, {\"threshold\": 0.8930000066757202, \"p\": 28049, \"fpr\": 0.0967923466516601, \"tpr\": 0.8486577061570822, \"n\": 5331}, {\"threshold\": 0.8939999938011169, \"p\": 28049, \"fpr\": 0.0958544363158882, \"tpr\": 0.847766408784627, \"n\": 5331}, {\"threshold\": 0.8949999809265137, \"p\": 28049, \"fpr\": 0.09547927218157944, \"tpr\": 0.8470890227815608, \"n\": 5331}, {\"threshold\": 0.8960000276565552, \"p\": 28049, \"fpr\": 0.09547927218157944, \"tpr\": 0.8462690291989019, \"n\": 5331}, {\"threshold\": 0.8970000147819519, \"p\": 28049, \"fpr\": 0.09529169011442506, \"tpr\": 0.8455559913009376, \"n\": 5331}, {\"threshold\": 0.8980000019073486, \"p\": 28049, \"fpr\": 0.0949165259801163, \"tpr\": 0.844949909087668, \"n\": 5331}, {\"threshold\": 0.8989999890327454, \"p\": 28049, \"fpr\": 0.09435377977865315, \"tpr\": 0.8441655673999073, \"n\": 5331}, {\"threshold\": 0.8999999761581421, \"p\": 28049, \"fpr\": 0.0939786156443444, \"tpr\": 0.8435238332917394, \"n\": 5331}, {\"threshold\": 0.9010000228881836, \"p\": 28049, \"fpr\": 0.0930407053085725, \"tpr\": 0.8428464472886734, \"n\": 5331}, {\"threshold\": 0.9020000100135803, \"p\": 28049, \"fpr\": 0.09285312324141812, \"tpr\": 0.8421690612856073, \"n\": 5331}, {\"threshold\": 0.902999997138977, \"p\": 28049, \"fpr\": 0.09229037703995498, \"tpr\": 0.8418481942315234, \"n\": 5331}, {\"threshold\": 0.9039999842643738, \"p\": 28049, \"fpr\": 0.0921027949728006, \"tpr\": 0.8410282006488645, \"n\": 5331}, {\"threshold\": 0.9049999713897705, \"p\": 28049, \"fpr\": 0.0911648846370287, \"tpr\": 0.8404577703304931, \"n\": 5331}, {\"threshold\": 0.906000018119812, \"p\": 28049, \"fpr\": 0.09003939223410241, \"tpr\": 0.8395664729580378, \"n\": 5331}, {\"threshold\": 0.9070000052452087, \"p\": 28049, \"fpr\": 0.0892890639654849, \"tpr\": 0.8387464793753788, \"n\": 5331}, {\"threshold\": 0.9079999923706055, \"p\": 28049, \"fpr\": 0.088351153629713, \"tpr\": 0.8377125744233306, \"n\": 5331}, {\"threshold\": 0.9089999794960022, \"p\": 28049, \"fpr\": 0.08816357156255862, \"tpr\": 0.8366786694712824, \"n\": 5331}, {\"threshold\": 0.9100000262260437, \"p\": 28049, \"fpr\": 0.08797598949540424, \"tpr\": 0.8358230239937252, \"n\": 5331}, {\"threshold\": 0.9110000133514404, \"p\": 28049, \"fpr\": 0.08722566122678672, \"tpr\": 0.8348604228314735, \"n\": 5331}, {\"threshold\": 0.9120000004768372, \"p\": 28049, \"fpr\": 0.08703807915963234, \"tpr\": 0.8341830368284074, \"n\": 5331}, {\"threshold\": 0.9129999876022339, \"p\": 28049, \"fpr\": 0.08666291502532358, \"tpr\": 0.833434347035545, \"n\": 5331}, {\"threshold\": 0.9139999747276306, \"p\": 28049, \"fpr\": 0.08666291502532358, \"tpr\": 0.8327569610324789, \"n\": 5331}, {\"threshold\": 0.9150000214576721, \"p\": 28049, \"fpr\": 0.08628775089101481, \"tpr\": 0.8316517522906343, \"n\": 5331}, {\"threshold\": 0.9160000085830688, \"p\": 28049, \"fpr\": 0.08572500468955167, \"tpr\": 0.8307604549181788, \"n\": 5331}, {\"threshold\": 0.9169999957084656, \"p\": 28049, \"fpr\": 0.08497467642093416, \"tpr\": 0.8293700310171486, \"n\": 5331}, {\"threshold\": 0.9179999828338623, \"p\": 28049, \"fpr\": 0.08497467642093416, \"tpr\": 0.8280865628008128, \"n\": 5331}, {\"threshold\": 0.9190000295639038, \"p\": 28049, \"fpr\": 0.08441193021947102, \"tpr\": 0.8271952654283575, \"n\": 5331}, {\"threshold\": 0.9200000166893005, \"p\": 28049, \"fpr\": 0.0836616019508535, \"tpr\": 0.825769189632429, \"n\": 5331}, {\"threshold\": 0.9210000038146973, \"p\": 28049, \"fpr\": 0.08328643781654474, \"tpr\": 0.824770936575279, \"n\": 5331}, {\"threshold\": 0.921999990940094, \"p\": 28049, \"fpr\": 0.08216094541361846, \"tpr\": 0.8236657278334344, \"n\": 5331}, {\"threshold\": 0.9229999780654907, \"p\": 28049, \"fpr\": 0.08141061714500093, \"tpr\": 0.8225248671966915, \"n\": 5331}, {\"threshold\": 0.9240000247955322, \"p\": 28049, \"fpr\": 0.08103545301069218, \"tpr\": 0.8216335698242362, \"n\": 5331}, {\"threshold\": 0.925000011920929, \"p\": 28049, \"fpr\": 0.08066028887638342, \"tpr\": 0.8208492281364754, \"n\": 5331}, {\"threshold\": 0.9259999990463257, \"p\": 28049, \"fpr\": 0.07972237854061152, \"tpr\": 0.8195301080252415, \"n\": 5331}, {\"threshold\": 0.9269999861717224, \"p\": 28049, \"fpr\": 0.07972237854061152, \"tpr\": 0.8183535954936005, \"n\": 5331}, {\"threshold\": 0.9279999732971191, \"p\": 28049, \"fpr\": 0.07953479647345714, \"tpr\": 0.8173909943313488, \"n\": 5331}, {\"threshold\": 0.9290000200271606, \"p\": 28049, \"fpr\": 0.07878446820483961, \"tpr\": 0.8160718742201148, \"n\": 5331}, {\"threshold\": 0.9300000071525574, \"p\": 28049, \"fpr\": 0.0780341399362221, \"tpr\": 0.8148597097935756, \"n\": 5331}, {\"threshold\": 0.9309999942779541, \"p\": 28049, \"fpr\": 0.07690864753329582, \"tpr\": 0.8132910264180542, \"n\": 5331}, {\"threshold\": 0.9319999814033508, \"p\": 28049, \"fpr\": 0.07672106546614144, \"tpr\": 0.8119006025170238, \"n\": 5331}, {\"threshold\": 0.9330000281333923, \"p\": 28049, \"fpr\": 0.07672106546614144, \"tpr\": 0.8107597418802809, \"n\": 5331}, {\"threshold\": 0.9340000152587891, \"p\": 28049, \"fpr\": 0.07653348339898705, \"tpr\": 0.809262362294556, \"n\": 5331}, {\"threshold\": 0.9350000023841858, \"p\": 28049, \"fpr\": 0.07634590133183268, \"tpr\": 0.8077293308139327, \"n\": 5331}, {\"threshold\": 0.9359999895095825, \"p\": 28049, \"fpr\": 0.07578315513036954, \"tpr\": 0.8065528182822918, \"n\": 5331}, {\"threshold\": 0.9369999766349792, \"p\": 28049, \"fpr\": 0.0752204089289064, \"tpr\": 0.805447609540447, \"n\": 5331}, {\"threshold\": 0.9380000233650208, \"p\": 28049, \"fpr\": 0.07484524479459764, \"tpr\": 0.8039858818496203, \"n\": 5331}, {\"threshold\": 0.9390000104904175, \"p\": 28049, \"fpr\": 0.07447008066028887, \"tpr\": 0.8024528503689972, \"n\": 5331}, {\"threshold\": 0.9399999976158142, \"p\": 28049, \"fpr\": 0.07371975239167136, \"tpr\": 0.8006346037291882, \"n\": 5331}, {\"threshold\": 0.9409999847412109, \"p\": 28049, \"fpr\": 0.07315700619020822, \"tpr\": 0.7992798317230561, \"n\": 5331}, {\"threshold\": 0.9419999718666077, \"p\": 28049, \"fpr\": 0.0724066779215907, \"tpr\": 0.7978537559271275, \"n\": 5331}, {\"threshold\": 0.9430000185966492, \"p\": 28049, \"fpr\": 0.07221909585443631, \"tpr\": 0.7963207244465044, \"n\": 5331}, {\"threshold\": 0.9440000057220459, \"p\": 28049, \"fpr\": 0.0714687675858188, \"tpr\": 0.7948946486505758, \"n\": 5331}, {\"threshold\": 0.9449999928474426, \"p\": 28049, \"fpr\": 0.07109360345151003, \"tpr\": 0.7932546614852579, \"n\": 5331}, {\"threshold\": 0.9459999799728394, \"p\": 28049, \"fpr\": 0.07071843931720127, \"tpr\": 0.7913651110556527, \"n\": 5331}, {\"threshold\": 0.9470000267028809, \"p\": 28049, \"fpr\": 0.06978052898142938, \"tpr\": 0.7896894719954366, \"n\": 5331}, {\"threshold\": 0.9480000138282776, \"p\": 28049, \"fpr\": 0.06921778277996624, \"tpr\": 0.7882990480944062, \"n\": 5331}, {\"threshold\": 0.9490000009536743, \"p\": 28049, \"fpr\": 0.0677171262427312, \"tpr\": 0.7866590609290883, \"n\": 5331}, {\"threshold\": 0.949999988079071, \"p\": 28049, \"fpr\": 0.06640405177265053, \"tpr\": 0.7842347320760098, \"n\": 5331}, {\"threshold\": 0.9509999752044678, \"p\": 28049, \"fpr\": 0.06565372350403302, \"tpr\": 0.7827373524902849, \"n\": 5331}, {\"threshold\": 0.9520000219345093, \"p\": 28049, \"fpr\": 0.0649033952354155, \"tpr\": 0.7811686691147635, \"n\": 5331}, {\"threshold\": 0.953000009059906, \"p\": 28049, \"fpr\": 0.06434064903395235, \"tpr\": 0.7788156440514813, \"n\": 5331}, {\"threshold\": 0.9539999961853027, \"p\": 28049, \"fpr\": 0.06377790283248921, \"tpr\": 0.7764626189881992, \"n\": 5331}, {\"threshold\": 0.9549999833106995, \"p\": 28049, \"fpr\": 0.06302757456387169, \"tpr\": 0.7743235052943064, \"n\": 5331}, {\"threshold\": 0.9559999704360962, \"p\": 28049, \"fpr\": 0.06265241042956293, \"tpr\": 0.7727191700238868, \"n\": 5331}, {\"threshold\": 0.9570000171661377, \"p\": 28049, \"fpr\": 0.06152691802663665, \"tpr\": 0.7705444044350958, \"n\": 5331}, {\"threshold\": 0.9580000042915344, \"p\": 28049, \"fpr\": 0.06077658975801913, \"tpr\": 0.7686192021105922, \"n\": 5331}, {\"threshold\": 0.9589999914169312, \"p\": 28049, \"fpr\": 0.059838679422247236, \"tpr\": 0.7658740062034297, \"n\": 5331}, {\"threshold\": 0.9599999785423279, \"p\": 28049, \"fpr\": 0.05946351528793847, \"tpr\": 0.7635209811401475, \"n\": 5331}, {\"threshold\": 0.9610000252723694, \"p\": 28049, \"fpr\": 0.05890076908647533, \"tpr\": 0.7610610003921708, \"n\": 5331}, {\"threshold\": 0.9620000123977661, \"p\": 28049, \"fpr\": 0.05758769461639467, \"tpr\": 0.758921886698278, \"n\": 5331}, {\"threshold\": 0.9629999995231628, \"p\": 28049, \"fpr\": 0.05702494841493153, \"tpr\": 0.7559984313166245, \"n\": 5331}, {\"threshold\": 0.9639999866485596, \"p\": 28049, \"fpr\": 0.05608703807915963, \"tpr\": 0.7527897607757852, \"n\": 5331}, {\"threshold\": 0.9649999737739563, \"p\": 28049, \"fpr\": 0.05533670981054211, \"tpr\": 0.7503654319227067, \"n\": 5331}, {\"threshold\": 0.9660000205039978, \"p\": 28049, \"fpr\": 0.05458638154192459, \"tpr\": 0.7473706727512567, \"n\": 5331}, {\"threshold\": 0.9670000076293945, \"p\": 28049, \"fpr\": 0.053648471206152695, \"tpr\": 0.744411565474705, \"n\": 5331}, {\"threshold\": 0.9679999947547913, \"p\": 28049, \"fpr\": 0.053085725004689555, \"tpr\": 0.7409889835644764, \"n\": 5331}, {\"threshold\": 0.968999981880188, \"p\": 28049, \"fpr\": 0.05271056087038079, \"tpr\": 0.7378159649185354, \"n\": 5331}, {\"threshold\": 0.9700000286102295, \"p\": 28049, \"fpr\": 0.05158506846745451, \"tpr\": 0.734072515954223, \"n\": 5331}, {\"threshold\": 0.9710000157356262, \"p\": 28049, \"fpr\": 0.050647158131682614, \"tpr\": 0.7310064529929766, \"n\": 5331}, {\"threshold\": 0.972000002861023, \"p\": 28049, \"fpr\": 0.04970924779591071, \"tpr\": 0.7269777888694784, \"n\": 5331}, {\"threshold\": 0.9729999899864197, \"p\": 28049, \"fpr\": 0.04914650159444757, \"tpr\": 0.7235195550643516, \"n\": 5331}, {\"threshold\": 0.9739999771118164, \"p\": 28049, \"fpr\": 0.04802100919152129, \"tpr\": 0.7191700238867695, \"n\": 5331}, {\"threshold\": 0.9750000238418579, \"p\": 28049, \"fpr\": 0.04689551678859501, \"tpr\": 0.7147848408142893, \"n\": 5331}, {\"threshold\": 0.9760000109672546, \"p\": 28049, \"fpr\": 0.04520727818420559, \"tpr\": 0.710399657741809, \"n\": 5331}, {\"threshold\": 0.9769999980926514, \"p\": 28049, \"fpr\": 0.04408178578127931, \"tpr\": 0.7058718670897358, \"n\": 5331}, {\"threshold\": 0.9779999852180481, \"p\": 28049, \"fpr\": 0.04314387544550741, \"tpr\": 0.7015223359121537, \"n\": 5331}, {\"threshold\": 0.9789999723434448, \"p\": 28049, \"fpr\": 0.042581129244044266, \"tpr\": 0.696566722521302, \"n\": 5331}, {\"threshold\": 0.9800000190734863, \"p\": 28049, \"fpr\": 0.04201838304258113, \"tpr\": 0.6906841598630967, \"n\": 5331}, {\"threshold\": 0.9810000061988831, \"p\": 28049, \"fpr\": 0.04126805477396361, \"tpr\": 0.6849798566793825, \"n\": 5331}, {\"threshold\": 0.9819999933242798, \"p\": 28049, \"fpr\": 0.03995498030388295, \"tpr\": 0.6784555599130094, \"n\": 5331}, {\"threshold\": 0.9829999804496765, \"p\": 28049, \"fpr\": 0.037703995498030385, \"tpr\": 0.6725729972548041, \"n\": 5331}, {\"threshold\": 0.984000027179718, \"p\": 28049, \"fpr\": 0.03620333896079535, \"tpr\": 0.6652287069057721, \"n\": 5331}, {\"threshold\": 0.9850000143051147, \"p\": 28049, \"fpr\": 0.03564059275933221, \"tpr\": 0.6577061570822489, \"n\": 5331}, {\"threshold\": 0.9860000014305115, \"p\": 28049, \"fpr\": 0.03432751828925155, \"tpr\": 0.6495062212556597, \"n\": 5331}, {\"threshold\": 0.9869999885559082, \"p\": 28049, \"fpr\": 0.033389607953479644, \"tpr\": 0.6403436842668188, \"n\": 5331}, {\"threshold\": 0.9879999756813049, \"p\": 28049, \"fpr\": 0.032076533483398985, \"tpr\": 0.6311098434881814, \"n\": 5331}, {\"threshold\": 0.9890000224113464, \"p\": 28049, \"fpr\": 0.030388294879009566, \"tpr\": 0.6212699204962744, \"n\": 5331}, {\"threshold\": 0.9900000095367432, \"p\": 28049, \"fpr\": 0.027949728006002626, \"tpr\": 0.6098256622339477, \"n\": 5331}, {\"threshold\": 0.9909999966621399, \"p\": 28049, \"fpr\": 0.026636653535921966, \"tpr\": 0.5976683660736568, \"n\": 5331}, {\"threshold\": 0.9919999837875366, \"p\": 28049, \"fpr\": 0.025323579065841307, \"tpr\": 0.5837641270633535, \"n\": 5331}, {\"threshold\": 0.9929999709129333, \"p\": 28049, \"fpr\": 0.023447758394297503, \"tpr\": 0.568683375521409, \"n\": 5331}, {\"threshold\": 0.9940000176429749, \"p\": 28049, \"fpr\": 0.021947101857062466, \"tpr\": 0.5516417697600627, \"n\": 5331}, {\"threshold\": 0.9950000047683716, \"p\": 28049, \"fpr\": 0.020821609454136185, \"tpr\": 0.5294662911333737, \"n\": 5331}, {\"threshold\": 0.9959999918937683, \"p\": 28049, \"fpr\": 0.019320952916901144, \"tpr\": 0.5025847623801205, \"n\": 5331}, {\"threshold\": 0.996999979019165, \"p\": 28049, \"fpr\": 0.016882386043894203, \"tpr\": 0.4695711077043745, \"n\": 5331}, {\"threshold\": 0.9980000257492065, \"p\": 28049, \"fpr\": 0.013881072969424124, \"tpr\": 0.4252914542407929, \"n\": 5331}, {\"threshold\": 0.9990000128746033, \"p\": 28049, \"fpr\": 0.010129431626336522, \"tpr\": 0.35651894898213843, \"n\": 5331}, {\"threshold\": 1.0, \"p\": 28049, \"fpr\": 0.0, \"tpr\": 0.0, \"n\": 5331}]}]]}, e);\n",
       "                });\n",
       "            })();\n",
       "        "
      ]
     },
     "metadata": {},
     "output_type": "display_data"
    }
   ],
   "source": [
    "sentiment_model.show(view='Evaluation')"
   ]
  },
  {
   "cell_type": "markdown",
   "metadata": {},
   "source": [
    "#### Applying the learned model to understand sentiment for Giraffe"
   ]
  },
  {
   "cell_type": "code",
   "execution_count": 21,
   "metadata": {
    "collapsed": true
   },
   "outputs": [],
   "source": [
    "giraffe_reviews['predicted_sentiment'] = sentiment_model.predict(giraffe_reviews, output_type='probability')"
   ]
  },
  {
   "cell_type": "code",
   "execution_count": 22,
   "metadata": {
    "collapsed": false
   },
   "outputs": [
    {
     "data": {
      "text/html": [
       "<div style=\"max-height:1000px;max-width:1500px;overflow:auto;\"><table frame=\"box\" rules=\"cols\">\n",
       "    <tr>\n",
       "        <th style=\"padding-left: 1em; padding-right: 1em; text-align: center\">name</th>\n",
       "        <th style=\"padding-left: 1em; padding-right: 1em; text-align: center\">review</th>\n",
       "        <th style=\"padding-left: 1em; padding-right: 1em; text-align: center\">rating</th>\n",
       "        <th style=\"padding-left: 1em; padding-right: 1em; text-align: center\">word_count</th>\n",
       "        <th style=\"padding-left: 1em; padding-right: 1em; text-align: center\">predicted_sentiment</th>\n",
       "    </tr>\n",
       "    <tr>\n",
       "        <td style=\"padding-left: 1em; padding-right: 1em; text-align: center; vertical-align: top\">Vulli Sophie the Giraffe<br>Teether ...</td>\n",
       "        <td style=\"padding-left: 1em; padding-right: 1em; text-align: center; vertical-align: top\">He likes chewing on all<br>the parts especially the ...</td>\n",
       "        <td style=\"padding-left: 1em; padding-right: 1em; text-align: center; vertical-align: top\">5.0</td>\n",
       "        <td style=\"padding-left: 1em; padding-right: 1em; text-align: center; vertical-align: top\">{'and': 1, 'all': 1,<br>'because': 1, 'it': 1, ...</td>\n",
       "        <td style=\"padding-left: 1em; padding-right: 1em; text-align: center; vertical-align: top\">0.999513023521</td>\n",
       "    </tr>\n",
       "    <tr>\n",
       "        <td style=\"padding-left: 1em; padding-right: 1em; text-align: center; vertical-align: top\">Vulli Sophie the Giraffe<br>Teether ...</td>\n",
       "        <td style=\"padding-left: 1em; padding-right: 1em; text-align: center; vertical-align: top\">My son loves this toy and<br>fits great in the diaper ...</td>\n",
       "        <td style=\"padding-left: 1em; padding-right: 1em; text-align: center; vertical-align: top\">5.0</td>\n",
       "        <td style=\"padding-left: 1em; padding-right: 1em; text-align: center; vertical-align: top\">{'and': 1, 'right': 1,<br>'help': 1, 'just': 1, ...</td>\n",
       "        <td style=\"padding-left: 1em; padding-right: 1em; text-align: center; vertical-align: top\">0.999320678306</td>\n",
       "    </tr>\n",
       "    <tr>\n",
       "        <td style=\"padding-left: 1em; padding-right: 1em; text-align: center; vertical-align: top\">Vulli Sophie the Giraffe<br>Teether ...</td>\n",
       "        <td style=\"padding-left: 1em; padding-right: 1em; text-align: center; vertical-align: top\">There really should be a<br>large warning on the  ...</td>\n",
       "        <td style=\"padding-left: 1em; padding-right: 1em; text-align: center; vertical-align: top\">1.0</td>\n",
       "        <td style=\"padding-left: 1em; padding-right: 1em; text-align: center; vertical-align: top\">{'and': 2, 'all': 1,<br>'would': 1, 'latex.': 1, ...</td>\n",
       "        <td style=\"padding-left: 1em; padding-right: 1em; text-align: center; vertical-align: top\">0.013558811687</td>\n",
       "    </tr>\n",
       "    <tr>\n",
       "        <td style=\"padding-left: 1em; padding-right: 1em; text-align: center; vertical-align: top\">Vulli Sophie the Giraffe<br>Teether ...</td>\n",
       "        <td style=\"padding-left: 1em; padding-right: 1em; text-align: center; vertical-align: top\">All the moms in my moms'<br>group got Sophie for ...</td>\n",
       "        <td style=\"padding-left: 1em; padding-right: 1em; text-align: center; vertical-align: top\">5.0</td>\n",
       "        <td style=\"padding-left: 1em; padding-right: 1em; text-align: center; vertical-align: top\">{'and': 2, 'one!': 1,<br>'all': 1, 'love': 1, ...</td>\n",
       "        <td style=\"padding-left: 1em; padding-right: 1em; text-align: center; vertical-align: top\">0.995769474148</td>\n",
       "    </tr>\n",
       "    <tr>\n",
       "        <td style=\"padding-left: 1em; padding-right: 1em; text-align: center; vertical-align: top\">Vulli Sophie the Giraffe<br>Teether ...</td>\n",
       "        <td style=\"padding-left: 1em; padding-right: 1em; text-align: center; vertical-align: top\">I was a little skeptical<br>on whether Sophie was ...</td>\n",
       "        <td style=\"padding-left: 1em; padding-right: 1em; text-align: center; vertical-align: top\">5.0</td>\n",
       "        <td style=\"padding-left: 1em; padding-right: 1em; text-align: center; vertical-align: top\">{'and': 3, 'all': 1,<br>'months': 1, 'old': 1, ...</td>\n",
       "        <td style=\"padding-left: 1em; padding-right: 1em; text-align: center; vertical-align: top\">0.662374415673</td>\n",
       "    </tr>\n",
       "    <tr>\n",
       "        <td style=\"padding-left: 1em; padding-right: 1em; text-align: center; vertical-align: top\">Vulli Sophie the Giraffe<br>Teether ...</td>\n",
       "        <td style=\"padding-left: 1em; padding-right: 1em; text-align: center; vertical-align: top\">I have been reading about<br>Sophie and was going  ...</td>\n",
       "        <td style=\"padding-left: 1em; padding-right: 1em; text-align: center; vertical-align: top\">5.0</td>\n",
       "        <td style=\"padding-left: 1em; padding-right: 1em; text-align: center; vertical-align: top\">{'and': 6, 'seven': 1,<br>'already': 1, 'love': 1, ...</td>\n",
       "        <td style=\"padding-left: 1em; padding-right: 1em; text-align: center; vertical-align: top\">0.999997148186</td>\n",
       "    </tr>\n",
       "    <tr>\n",
       "        <td style=\"padding-left: 1em; padding-right: 1em; text-align: center; vertical-align: top\">Vulli Sophie the Giraffe<br>Teether ...</td>\n",
       "        <td style=\"padding-left: 1em; padding-right: 1em; text-align: center; vertical-align: top\">My neice loves her sophie<br>and has spent hours ...</td>\n",
       "        <td style=\"padding-left: 1em; padding-right: 1em; text-align: center; vertical-align: top\">5.0</td>\n",
       "        <td style=\"padding-left: 1em; padding-right: 1em; text-align: center; vertical-align: top\">{'and': 4, 'drooling,':<br>1, 'love': 1, ...</td>\n",
       "        <td style=\"padding-left: 1em; padding-right: 1em; text-align: center; vertical-align: top\">0.989190989536</td>\n",
       "    </tr>\n",
       "    <tr>\n",
       "        <td style=\"padding-left: 1em; padding-right: 1em; text-align: center; vertical-align: top\">Vulli Sophie the Giraffe<br>Teether ...</td>\n",
       "        <td style=\"padding-left: 1em; padding-right: 1em; text-align: center; vertical-align: top\">What a friendly face!<br>And those mesmerizing ...</td>\n",
       "        <td style=\"padding-left: 1em; padding-right: 1em; text-align: center; vertical-align: top\">5.0</td>\n",
       "        <td style=\"padding-left: 1em; padding-right: 1em; text-align: center; vertical-align: top\">{'and': 3, 'chew': 1,<br>'be': 1, 'is': 1, ...</td>\n",
       "        <td style=\"padding-left: 1em; padding-right: 1em; text-align: center; vertical-align: top\">0.999563518413</td>\n",
       "    </tr>\n",
       "    <tr>\n",
       "        <td style=\"padding-left: 1em; padding-right: 1em; text-align: center; vertical-align: top\">Vulli Sophie the Giraffe<br>Teether ...</td>\n",
       "        <td style=\"padding-left: 1em; padding-right: 1em; text-align: center; vertical-align: top\">We got this just for my<br>son to chew on instea ...</td>\n",
       "        <td style=\"padding-left: 1em; padding-right: 1em; text-align: center; vertical-align: top\">5.0</td>\n",
       "        <td style=\"padding-left: 1em; padding-right: 1em; text-align: center; vertical-align: top\">{'chew': 2, 'seemed': 1,<br>'because': 1, 'about.': ...</td>\n",
       "        <td style=\"padding-left: 1em; padding-right: 1em; text-align: center; vertical-align: top\">0.970160542725</td>\n",
       "    </tr>\n",
       "    <tr>\n",
       "        <td style=\"padding-left: 1em; padding-right: 1em; text-align: center; vertical-align: top\">Vulli Sophie the Giraffe<br>Teether ...</td>\n",
       "        <td style=\"padding-left: 1em; padding-right: 1em; text-align: center; vertical-align: top\">My baby seems to like<br>this toy, but I could ...</td>\n",
       "        <td style=\"padding-left: 1em; padding-right: 1em; text-align: center; vertical-align: top\">3.0</td>\n",
       "        <td style=\"padding-left: 1em; padding-right: 1em; text-align: center; vertical-align: top\">{'and': 2, 'already': 1,<br>'some': 1, 'it': 3, ...</td>\n",
       "        <td style=\"padding-left: 1em; padding-right: 1em; text-align: center; vertical-align: top\">0.195367644588</td>\n",
       "    </tr>\n",
       "</table>\n",
       "[10 rows x 5 columns]<br/>\n",
       "</div>"
      ],
      "text/plain": [
       "Columns:\n",
       "\tname\tstr\n",
       "\treview\tstr\n",
       "\trating\tfloat\n",
       "\tword_count\tdict\n",
       "\tpredicted_sentiment\tfloat\n",
       "\n",
       "Rows: 10\n",
       "\n",
       "Data:\n",
       "+-------------------------------+-------------------------------+--------+\n",
       "|              name             |             review            | rating |\n",
       "+-------------------------------+-------------------------------+--------+\n",
       "| Vulli Sophie the Giraffe T... | He likes chewing on all th... |  5.0   |\n",
       "| Vulli Sophie the Giraffe T... | My son loves this toy and ... |  5.0   |\n",
       "| Vulli Sophie the Giraffe T... | There really should be a l... |  1.0   |\n",
       "| Vulli Sophie the Giraffe T... | All the moms in my moms' g... |  5.0   |\n",
       "| Vulli Sophie the Giraffe T... | I was a little skeptical o... |  5.0   |\n",
       "| Vulli Sophie the Giraffe T... | I have been reading about ... |  5.0   |\n",
       "| Vulli Sophie the Giraffe T... | My neice loves her sophie ... |  5.0   |\n",
       "| Vulli Sophie the Giraffe T... | What a friendly face!  And... |  5.0   |\n",
       "| Vulli Sophie the Giraffe T... | We got this just for my so... |  5.0   |\n",
       "| Vulli Sophie the Giraffe T... | My baby seems to like this... |  3.0   |\n",
       "+-------------------------------+-------------------------------+--------+\n",
       "+-------------------------------+---------------------+\n",
       "|           word_count          | predicted_sentiment |\n",
       "+-------------------------------+---------------------+\n",
       "| {'and': 1, 'all': 1, 'beca... |    0.999513023521   |\n",
       "| {'and': 1, 'right': 1, 'he... |    0.999320678306   |\n",
       "| {'and': 2, 'all': 1, 'woul... |    0.013558811687   |\n",
       "| {'and': 2, 'one!': 1, 'all... |    0.995769474148   |\n",
       "| {'and': 3, 'all': 1, 'mont... |    0.662374415673   |\n",
       "| {'and': 6, 'seven': 1, 'al... |    0.999997148186   |\n",
       "| {'and': 4, 'drooling,': 1,... |    0.989190989536   |\n",
       "| {'and': 3, 'chew': 1, 'be'... |    0.999563518413   |\n",
       "| {'chew': 2, 'seemed': 1, '... |    0.970160542725   |\n",
       "| {'and': 2, 'already': 1, '... |    0.195367644588   |\n",
       "+-------------------------------+---------------------+\n",
       "[10 rows x 5 columns]"
      ]
     },
     "execution_count": 22,
     "metadata": {},
     "output_type": "execute_result"
    }
   ],
   "source": [
    "giraffe_reviews.head()"
   ]
  },
  {
   "cell_type": "markdown",
   "metadata": {},
   "source": [
    "#### Sort the reviews based on the predicted sentiment and explore"
   ]
  },
  {
   "cell_type": "code",
   "execution_count": 23,
   "metadata": {
    "collapsed": true
   },
   "outputs": [],
   "source": [
    "giraffe_reviews = giraffe_reviews.sort('predicted_sentiment', ascending=False)"
   ]
  },
  {
   "cell_type": "code",
   "execution_count": 24,
   "metadata": {
    "collapsed": false
   },
   "outputs": [
    {
     "data": {
      "text/html": [
       "<div style=\"max-height:1000px;max-width:1500px;overflow:auto;\"><table frame=\"box\" rules=\"cols\">\n",
       "    <tr>\n",
       "        <th style=\"padding-left: 1em; padding-right: 1em; text-align: center\">name</th>\n",
       "        <th style=\"padding-left: 1em; padding-right: 1em; text-align: center\">review</th>\n",
       "        <th style=\"padding-left: 1em; padding-right: 1em; text-align: center\">rating</th>\n",
       "        <th style=\"padding-left: 1em; padding-right: 1em; text-align: center\">word_count</th>\n",
       "        <th style=\"padding-left: 1em; padding-right: 1em; text-align: center\">predicted_sentiment</th>\n",
       "    </tr>\n",
       "    <tr>\n",
       "        <td style=\"padding-left: 1em; padding-right: 1em; text-align: center; vertical-align: top\">Vulli Sophie the Giraffe<br>Teether ...</td>\n",
       "        <td style=\"padding-left: 1em; padding-right: 1em; text-align: center; vertical-align: top\">Sophie, oh Sophie, your<br>time has come. My ...</td>\n",
       "        <td style=\"padding-left: 1em; padding-right: 1em; text-align: center; vertical-align: top\">5.0</td>\n",
       "        <td style=\"padding-left: 1em; padding-right: 1em; text-align: center; vertical-align: top\">{'giggles': 1, 'all': 1,<br>\"violet's\": 2, 'bring': ...</td>\n",
       "        <td style=\"padding-left: 1em; padding-right: 1em; text-align: center; vertical-align: top\">1.0</td>\n",
       "    </tr>\n",
       "    <tr>\n",
       "        <td style=\"padding-left: 1em; padding-right: 1em; text-align: center; vertical-align: top\">Vulli Sophie the Giraffe<br>Teether ...</td>\n",
       "        <td style=\"padding-left: 1em; padding-right: 1em; text-align: center; vertical-align: top\">I'm not sure why Sophie<br>is such a hit with the ...</td>\n",
       "        <td style=\"padding-left: 1em; padding-right: 1em; text-align: center; vertical-align: top\">4.0</td>\n",
       "        <td style=\"padding-left: 1em; padding-right: 1em; text-align: center; vertical-align: top\">{'adoring': 1, 'find': 1,<br>'month': 1, 'bright': 1, ...</td>\n",
       "        <td style=\"padding-left: 1em; padding-right: 1em; text-align: center; vertical-align: top\">0.999999999703</td>\n",
       "    </tr>\n",
       "    <tr>\n",
       "        <td style=\"padding-left: 1em; padding-right: 1em; text-align: center; vertical-align: top\">Vulli Sophie the Giraffe<br>Teether ...</td>\n",
       "        <td style=\"padding-left: 1em; padding-right: 1em; text-align: center; vertical-align: top\">I'll be honest...I bought<br>this toy because all the ...</td>\n",
       "        <td style=\"padding-left: 1em; padding-right: 1em; text-align: center; vertical-align: top\">4.0</td>\n",
       "        <td style=\"padding-left: 1em; padding-right: 1em; text-align: center; vertical-align: top\">{'all': 2, 'discovered':<br>1, 'existence.': 1, ...</td>\n",
       "        <td style=\"padding-left: 1em; padding-right: 1em; text-align: center; vertical-align: top\">0.999999999392</td>\n",
       "    </tr>\n",
       "    <tr>\n",
       "        <td style=\"padding-left: 1em; padding-right: 1em; text-align: center; vertical-align: top\">Vulli Sophie the Giraffe<br>Teether ...</td>\n",
       "        <td style=\"padding-left: 1em; padding-right: 1em; text-align: center; vertical-align: top\">We got this little<br>giraffe as a gift from a ...</td>\n",
       "        <td style=\"padding-left: 1em; padding-right: 1em; text-align: center; vertical-align: top\">5.0</td>\n",
       "        <td style=\"padding-left: 1em; padding-right: 1em; text-align: center; vertical-align: top\">{'all': 2, \"don't\": 1,<br>'(literally).so': 1, ...</td>\n",
       "        <td style=\"padding-left: 1em; padding-right: 1em; text-align: center; vertical-align: top\">0.99999999919</td>\n",
       "    </tr>\n",
       "    <tr>\n",
       "        <td style=\"padding-left: 1em; padding-right: 1em; text-align: center; vertical-align: top\">Vulli Sophie the Giraffe<br>Teether ...</td>\n",
       "        <td style=\"padding-left: 1em; padding-right: 1em; text-align: center; vertical-align: top\">As a mother of 16month<br>old twins; I bought ...</td>\n",
       "        <td style=\"padding-left: 1em; padding-right: 1em; text-align: center; vertical-align: top\">5.0</td>\n",
       "        <td style=\"padding-left: 1em; padding-right: 1em; text-align: center; vertical-align: top\">{'cute': 1, 'all': 1,<br>'reviews.': 2, 'just' ...</td>\n",
       "        <td style=\"padding-left: 1em; padding-right: 1em; text-align: center; vertical-align: top\">0.999999998657</td>\n",
       "    </tr>\n",
       "    <tr>\n",
       "        <td style=\"padding-left: 1em; padding-right: 1em; text-align: center; vertical-align: top\">Vulli Sophie the Giraffe<br>Teether ...</td>\n",
       "        <td style=\"padding-left: 1em; padding-right: 1em; text-align: center; vertical-align: top\">Sophie the Giraffe is the<br>perfect teething toy. ...</td>\n",
       "        <td style=\"padding-left: 1em; padding-right: 1em; text-align: center; vertical-align: top\">5.0</td>\n",
       "        <td style=\"padding-left: 1em; padding-right: 1em; text-align: center; vertical-align: top\">{'just': 2, 'both': 1,<br>'month': 1, 'ears,': 1, ...</td>\n",
       "        <td style=\"padding-left: 1em; padding-right: 1em; text-align: center; vertical-align: top\">0.999999997108</td>\n",
       "    </tr>\n",
       "    <tr>\n",
       "        <td style=\"padding-left: 1em; padding-right: 1em; text-align: center; vertical-align: top\">Vulli Sophie the Giraffe<br>Teether ...</td>\n",
       "        <td style=\"padding-left: 1em; padding-right: 1em; text-align: center; vertical-align: top\">Sophie la giraffe is<br>absolutely the best toy ...</td>\n",
       "        <td style=\"padding-left: 1em; padding-right: 1em; text-align: center; vertical-align: top\">5.0</td>\n",
       "        <td style=\"padding-left: 1em; padding-right: 1em; text-align: center; vertical-align: top\">{'and': 5, 'the': 1,<br>'all': 1, 'that': 2, ...</td>\n",
       "        <td style=\"padding-left: 1em; padding-right: 1em; text-align: center; vertical-align: top\">0.999999995589</td>\n",
       "    </tr>\n",
       "    <tr>\n",
       "        <td style=\"padding-left: 1em; padding-right: 1em; text-align: center; vertical-align: top\">Vulli Sophie the Giraffe<br>Teether ...</td>\n",
       "        <td style=\"padding-left: 1em; padding-right: 1em; text-align: center; vertical-align: top\">My 5-mos old son took to<br>this immediately. The ...</td>\n",
       "        <td style=\"padding-left: 1em; padding-right: 1em; text-align: center; vertical-align: top\">5.0</td>\n",
       "        <td style=\"padding-left: 1em; padding-right: 1em; text-align: center; vertical-align: top\">{'just': 1, 'shape': 2,<br>'mutt': 1, '\"dog': 1, ...</td>\n",
       "        <td style=\"padding-left: 1em; padding-right: 1em; text-align: center; vertical-align: top\">0.999999995573</td>\n",
       "    </tr>\n",
       "    <tr>\n",
       "        <td style=\"padding-left: 1em; padding-right: 1em; text-align: center; vertical-align: top\">Vulli Sophie the Giraffe<br>Teether ...</td>\n",
       "        <td style=\"padding-left: 1em; padding-right: 1em; text-align: center; vertical-align: top\">My nephews and my four<br>kids all had Sophie in ...</td>\n",
       "        <td style=\"padding-left: 1em; padding-right: 1em; text-align: center; vertical-align: top\">5.0</td>\n",
       "        <td style=\"padding-left: 1em; padding-right: 1em; text-align: center; vertical-align: top\">{'and': 4, 'chew': 1,<br>'all': 1, 'perfect;': 1, ...</td>\n",
       "        <td style=\"padding-left: 1em; padding-right: 1em; text-align: center; vertical-align: top\">0.999999989527</td>\n",
       "    </tr>\n",
       "    <tr>\n",
       "        <td style=\"padding-left: 1em; padding-right: 1em; text-align: center; vertical-align: top\">Vulli Sophie the Giraffe<br>Teether ...</td>\n",
       "        <td style=\"padding-left: 1em; padding-right: 1em; text-align: center; vertical-align: top\">Never thought I'd see my<br>son French kissing a ...</td>\n",
       "        <td style=\"padding-left: 1em; padding-right: 1em; text-align: center; vertical-align: top\">5.0</td>\n",
       "        <td style=\"padding-left: 1em; padding-right: 1em; text-align: center; vertical-align: top\">{'giggles': 1, 'all': 1,<br>'out,': 1, 'over': 1, ...</td>\n",
       "        <td style=\"padding-left: 1em; padding-right: 1em; text-align: center; vertical-align: top\">0.999999985069</td>\n",
       "    </tr>\n",
       "</table>\n",
       "[10 rows x 5 columns]<br/>\n",
       "</div>"
      ],
      "text/plain": [
       "Columns:\n",
       "\tname\tstr\n",
       "\treview\tstr\n",
       "\trating\tfloat\n",
       "\tword_count\tdict\n",
       "\tpredicted_sentiment\tfloat\n",
       "\n",
       "Rows: 10\n",
       "\n",
       "Data:\n",
       "+-------------------------------+-------------------------------+--------+\n",
       "|              name             |             review            | rating |\n",
       "+-------------------------------+-------------------------------+--------+\n",
       "| Vulli Sophie the Giraffe T... | Sophie, oh Sophie, your ti... |  5.0   |\n",
       "| Vulli Sophie the Giraffe T... | I'm not sure why Sophie is... |  4.0   |\n",
       "| Vulli Sophie the Giraffe T... | I'll be honest...I bought ... |  4.0   |\n",
       "| Vulli Sophie the Giraffe T... | We got this little giraffe... |  5.0   |\n",
       "| Vulli Sophie the Giraffe T... | As a mother of 16month old... |  5.0   |\n",
       "| Vulli Sophie the Giraffe T... | Sophie the Giraffe is the ... |  5.0   |\n",
       "| Vulli Sophie the Giraffe T... | Sophie la giraffe is absol... |  5.0   |\n",
       "| Vulli Sophie the Giraffe T... | My 5-mos old son took to t... |  5.0   |\n",
       "| Vulli Sophie the Giraffe T... | My nephews and my four kid... |  5.0   |\n",
       "| Vulli Sophie the Giraffe T... | Never thought I'd see my s... |  5.0   |\n",
       "+-------------------------------+-------------------------------+--------+\n",
       "+-------------------------------+---------------------+\n",
       "|           word_count          | predicted_sentiment |\n",
       "+-------------------------------+---------------------+\n",
       "| {'giggles': 1, 'all': 1, \"... |         1.0         |\n",
       "| {'adoring': 1, 'find': 1, ... |    0.999999999703   |\n",
       "| {'all': 2, 'discovered': 1... |    0.999999999392   |\n",
       "| {'all': 2, \"don't\": 1, '(l... |    0.99999999919    |\n",
       "| {'cute': 1, 'all': 1, 'rev... |    0.999999998657   |\n",
       "| {'just': 2, 'both': 1, 'mo... |    0.999999997108   |\n",
       "| {'and': 5, 'the': 1, 'all'... |    0.999999995589   |\n",
       "| {'just': 1, 'shape': 2, 'm... |    0.999999995573   |\n",
       "| {'and': 4, 'chew': 1, 'all... |    0.999999989527   |\n",
       "| {'giggles': 1, 'all': 1, '... |    0.999999985069   |\n",
       "+-------------------------------+---------------------+\n",
       "[10 rows x 5 columns]"
      ]
     },
     "execution_count": 24,
     "metadata": {},
     "output_type": "execute_result"
    }
   ],
   "source": [
    "giraffe_reviews.head()"
   ]
  },
  {
   "cell_type": "markdown",
   "metadata": {},
   "source": [
    "#### Most positive reviews for the giraffe"
   ]
  },
  {
   "cell_type": "code",
   "execution_count": 25,
   "metadata": {
    "collapsed": false
   },
   "outputs": [
    {
     "data": {
      "text/plain": [
       "\"Sophie, oh Sophie, your time has come. My granddaughter, Violet is 5 months old and starting to teeth. What joy little Sophie brings to Violet. Sophie is made of a very pliable rubber that is sturdy but not tough. It is quite easy for Violet to twist Sophie into unheard of positions to get Sophie into her mouth. The little nose and hooves fit perfectly into small mouths, and the drooling has purpose. The paint on Sophie is food quality.Sophie was born in 1961 in France. The maker had wondered why there was nothing available for babies and made Sophie from the finest rubber, phthalate-free on St Sophie's Day, thus the name was born. Since that time millions of Sophie's populate the world. She is soft and for babies little hands easy to grasp. Violet especially loves the bumpy head and horns of Sophie. Sophie has a long neck that easy to grasp and twist. She has lovely, sizable spots that attract Violet's attention. Sophie has happy little squeaks that bring squeals of delight from Violet. She is able to make Sophie squeak and that brings much joy. Sophie's smooth skin is soothing to Violet's little gums. Sophie is 7 inches tall and is the exact correct size for babies to hold and love.As you well know the first thing babies grasp, goes into their mouths- how wonderful to have a toy that stimulates all of the senses and helps with the issue of teething. Sophie is small enough to fit into any size pocket or bag. Sophie is the perfect find for babies from a few months to a year old. How wonderful to hear the giggles and laughs that emanate from babies who find Sophie irresistible. Viva La Sophie!Highly Recommended.  prisrob 12-11-09\""
      ]
     },
     "execution_count": 25,
     "metadata": {},
     "output_type": "execute_result"
    }
   ],
   "source": [
    "giraffe_reviews[0]['review']"
   ]
  },
  {
   "cell_type": "code",
   "execution_count": 26,
   "metadata": {
    "collapsed": false
   },
   "outputs": [
    {
     "data": {
      "text/plain": [
       "\"I'm not sure why Sophie is such a hit with the little ones, but my 7 month old baby girl is one of her adoring fans.  The rubber is softer and more pleasant to handle, and my daughter has enjoyed chewing on her legs and the nubs on her head even before she started teething.  She also loves the squeak that Sophie makes when you squeeze her.  Not sure what it is but if Sophie is amongst a pile of her other toys, my daughter will more often than not reach for Sophie.  And I have the peace of mind of knowing that only edible and safe paints and materials have been used to make Sophie, as opposed to Bright Starts and other baby toys made in China.  Now that the research is out on phthalates and other toxic substances in baby toys, I think it's more important than ever to find good quality toys that are also safe for our babies to handle and put in their mouths.  Sophie is a must-have for every new mom in my opinion.  Even if your kid is one of the few that can take or leave her, it's worth a try.  Vulli, the makers of Sophie, also make natural rubber teething rings that my daughter loves as well.\""
      ]
     },
     "execution_count": 26,
     "metadata": {},
     "output_type": "execute_result"
    }
   ],
   "source": [
    "giraffe_reviews[1]['review']"
   ]
  },
  {
   "cell_type": "markdown",
   "metadata": {},
   "source": [
    "#### Show most negative reviews for giraffe"
   ]
  },
  {
   "cell_type": "code",
   "execution_count": 27,
   "metadata": {
    "collapsed": false
   },
   "outputs": [
    {
     "data": {
      "text/plain": [
       "\"My son (now 2.5) LOVED his Sophie, and I bought one for every baby shower I've gone to. Now, my daughter (6 months) just today nearly choked on it and I will never give it to her again. Had I not been within hearing range it could have been fatal. The strange sound she was making caught my attention and when I went to her and found the front curved leg shoved well down her throat and her face a purply/blue I panicked. I pulled it out and she vomited all over the carpet before screaming her head off. I can't believe how my opinion of this toy has changed from a must-have to a must-not-use. Please don't disregard any of the choking hazard comments, they are not over exaggerated!\""
      ]
     },
     "execution_count": 27,
     "metadata": {},
     "output_type": "execute_result"
    }
   ],
   "source": [
    "giraffe_reviews[-1]['review']"
   ]
  },
  {
   "cell_type": "code",
   "execution_count": 28,
   "metadata": {
    "collapsed": false
   },
   "outputs": [
    {
     "data": {
      "text/plain": [
       "\"This children's toy is nostalgic and very cute. However, there is a distinct rubber smell and a very odd taste, yes I tried it, that my baby did not enjoy. Also, if it is soiled it is extremely difficult to clean as the rubber is a kind of porus material and does not clean well. The final thing is the squeaking device inside which stopped working after the first couple of days. I returned this item feeling I had overpaid for a toy that was defective and did not meet my expectations. Please do not be swayed by the cute packaging and hype surounding it as I was. One more thing, I was given a full refund from Amazon without any problem.\""
      ]
     },
     "execution_count": 28,
     "metadata": {},
     "output_type": "execute_result"
    }
   ],
   "source": [
    "giraffe_reviews[-2]['review']"
   ]
  },
  {
   "cell_type": "code",
   "execution_count": null,
   "metadata": {
    "collapsed": true
   },
   "outputs": [],
   "source": []
  }
 ],
 "metadata": {
  "kernelspec": {
   "display_name": "Python 2",
   "language": "python",
   "name": "python2"
  },
  "language_info": {
   "codemirror_mode": {
    "name": "ipython",
    "version": 2
   },
   "file_extension": ".py",
   "mimetype": "text/x-python",
   "name": "python",
   "nbconvert_exporter": "python",
   "pygments_lexer": "ipython2",
   "version": "2.7.10"
  }
 },
 "nbformat": 4,
 "nbformat_minor": 0
}
